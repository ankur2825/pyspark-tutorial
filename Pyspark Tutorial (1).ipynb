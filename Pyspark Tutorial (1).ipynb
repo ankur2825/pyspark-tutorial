{
 "cells": [
  {
   "cell_type": "markdown",
   "metadata": {
    "application/vnd.databricks.v1+cell": {
     "cellMetadata": {
      "byteLimit": 2048000,
      "rowLimit": 10000
     },
     "inputWidgets": {},
     "nuid": "6e762760-08e3-4fb8-8af8-f1ab3803e8ab",
     "showTitle": false,
     "tableResultSettingsMap": {},
     "title": ""
    }
   },
   "source": [
    "#Basic Tutorial"
   ]
  },
  {
   "cell_type": "markdown",
   "metadata": {
    "application/vnd.databricks.v1+cell": {
     "cellMetadata": {
      "byteLimit": 2048000,
      "rowLimit": 10000
     },
     "inputWidgets": {},
     "nuid": "2c24389f-af95-4c6d-befe-0af73f267b7c",
     "showTitle": false,
     "tableResultSettingsMap": {},
     "title": ""
    }
   },
   "source": [
    "## Importing Necessary Libraries"
   ]
  },
  {
   "cell_type": "code",
   "execution_count": 0,
   "metadata": {
    "application/vnd.databricks.v1+cell": {
     "cellMetadata": {
      "byteLimit": 2048000,
      "rowLimit": 10000
     },
     "inputWidgets": {},
     "nuid": "3dd0ed94-390c-46da-886f-ed07f472f238",
     "showTitle": false,
     "tableResultSettingsMap": {},
     "title": ""
    }
   },
   "outputs": [],
   "source": [
    "from pyspark.sql.functions import *\n",
    "from pyspark.sql import SparkSession"
   ]
  },
  {
   "cell_type": "code",
   "execution_count": 0,
   "metadata": {
    "application/vnd.databricks.v1+cell": {
     "cellMetadata": {
      "byteLimit": 2048000,
      "rowLimit": 10000
     },
     "inputWidgets": {},
     "nuid": "3bdd702f-bc61-41ef-89da-67c6fbc894ad",
     "showTitle": false,
     "tableResultSettingsMap": {},
     "title": ""
    }
   },
   "outputs": [],
   "source": [
    "spark = SparkSession.builder.appName(\"Add your Spark App name\").getOrCreate()"
   ]
  },
  {
   "cell_type": "markdown",
   "metadata": {
    "application/vnd.databricks.v1+cell": {
     "cellMetadata": {
      "byteLimit": 2048000,
      "rowLimit": 10000
     },
     "inputWidgets": {},
     "nuid": "4e656bfe-b1da-48c9-8abc-54304aa944f9",
     "showTitle": false,
     "tableResultSettingsMap": {},
     "title": ""
    }
   },
   "source": [
    "##DataFrame Creation from Scratch"
   ]
  },
  {
   "cell_type": "markdown",
   "metadata": {
    "application/vnd.databricks.v1+cell": {
     "cellMetadata": {
      "byteLimit": 2048000,
      "rowLimit": 10000
     },
     "inputWidgets": {},
     "nuid": "9d623879-10d9-4e0c-b8e8-f5eca3a29cf7",
     "showTitle": false,
     "tableResultSettingsMap": {},
     "title": ""
    }
   },
   "source": [
    "### From CSV File"
   ]
  },
  {
   "cell_type": "code",
   "execution_count": 0,
   "metadata": {
    "application/vnd.databricks.v1+cell": {
     "cellMetadata": {
      "byteLimit": 2048000,
      "rowLimit": 10000
     },
     "inputWidgets": {},
     "nuid": "0b64bb26-ae30-4ad3-b344-3261e2f37846",
     "showTitle": false,
     "tableResultSettingsMap": {},
     "title": ""
    }
   },
   "outputs": [],
   "source": [
    "loc_in_which_dataset_is_stored_in_Databricks= \"/FileStore/tables/Mobiles_Dataset__2025_-1.csv\""
   ]
  },
  {
   "cell_type": "markdown",
   "metadata": {
    "application/vnd.databricks.v1+cell": {
     "cellMetadata": {
      "byteLimit": 2048000,
      "rowLimit": 10000
     },
     "inputWidgets": {},
     "nuid": "58744643-7f34-4c22-87fb-05d28c0a2fae",
     "showTitle": false,
     "tableResultSettingsMap": {},
     "title": ""
    }
   },
   "source": [
    "#### Read"
   ]
  },
  {
   "cell_type": "code",
   "execution_count": 0,
   "metadata": {
    "application/vnd.databricks.v1+cell": {
     "cellMetadata": {
      "byteLimit": 2048000,
      "rowLimit": 10000
     },
     "inputWidgets": {},
     "nuid": "fc294229-8e23-4a67-92fa-4dd4050b2abe",
     "showTitle": false,
     "tableResultSettingsMap": {},
     "title": ""
    }
   },
   "outputs": [],
   "source": [
    "df=spark.read.format('csv').option('header',True).option('inferschema',True).load(loc_in_which_dataset_is_stored_in_Databricks)\n",
    "\n",
    "#   ANOTHER WAY\n",
    "\n",
    "df = spark.read.csv(loc_in_which_dataset_is_stored_in_Databricks, inferSchema= True, header=True)"
   ]
  },
  {
   "cell_type": "markdown",
   "metadata": {
    "application/vnd.databricks.v1+cell": {
     "cellMetadata": {
      "byteLimit": 2048000,
      "rowLimit": 10000
     },
     "inputWidgets": {},
     "nuid": "420676ca-aef8-4bad-96c4-6d5ac94f780e",
     "showTitle": false,
     "tableResultSettingsMap": {},
     "title": ""
    }
   },
   "source": [
    "OPTIONS\n",
    "- **header:** This option is used to specify whether the file contains a header or not.\n",
    "   - The default value is True. tells Spark to use the first row of the CSV file as the column names for the DataFrame\n",
    "   - If you set it to False, then Spark will not use the first line of the file as the column names, and will instead generate column names of the form \"_c0\", \"_c1\", etc.\n",
    "\n",
    "- **inferSchema:** This option is used to specify whether the data types of the columns should be inferred from the data or not.\n",
    "  - The default value is False, i.e all columns will be treated as strings.\n",
    "  - If you set it to True, then Spark will try to infer the data types of the columns from the data. \n",
    "      - This can save you the trouble of having to specify the data types manually, but it can also lead to errors if the data types are not correctly inferred.\n",
    "\n",
    "\n",
    "- **sep:** This option is used to specify the separator used in the CSV file. \n",
    "  - The default value is ','.\n",
    "\n",
    "- **mode:** This option is used to specify the behavior of the file reader when it encounters corrupt records. \n",
    "  - The default value is PERMISSIVE, which means that the file reader will attempt to parse corrupt records and assign them to a special column named _corrupt_record.\n",
    "  - Other options are DROPMALFORMED which drops the rows with malformed records and FAILFAST which throws an exception when it encounters corrupt records.\n",
    "\n",
    "\n",
    "- **nullValue:** This option is used to specify the string that indicates a null value. \n",
    "  - The default value is null.\n",
    "- **timestampFormat:** This option is used to specify the format of timestamp columns. \n",
    "  - The default value is yyyy-MM-dd'T'HH:mm:ss.SSSXXX.\n",
    "- **dateFormat:** This option is used to specify the format of date columns. \n",
    "  - The default value is yyyy-MM-dd.\n",
    "- **maxColumns:** This option is used to specify the maximum number of columns to read.\n",
    "- **maxCharsPerColumn:** This option is used to specify the maximum number of characters per column to read.\n",
    "- **multiLine:** This option is used to specify whether or not to allow multi-line CSV records."
   ]
  },
  {
   "cell_type": "code",
   "execution_count": 0,
   "metadata": {
    "application/vnd.databricks.v1+cell": {
     "cellMetadata": {
      "byteLimit": 2048000,
      "rowLimit": 10000
     },
     "inputWidgets": {},
     "nuid": "d8b94055-b715-402f-86ca-c5b07a242e0b",
     "showTitle": false,
     "tableResultSettingsMap": {},
     "title": ""
    }
   },
   "outputs": [
    {
     "output_type": "display_data",
     "data": {
      "text/html": [
       "<style scoped>\n",
       "  .table-result-container {\n",
       "    max-height: 300px;\n",
       "    overflow: auto;\n",
       "  }\n",
       "  table, th, td {\n",
       "    border: 1px solid black;\n",
       "    border-collapse: collapse;\n",
       "  }\n",
       "  th, td {\n",
       "    padding: 5px;\n",
       "  }\n",
       "  th {\n",
       "    text-align: left;\n",
       "  }\n",
       "</style><div class='table-result-container'><table class='table-result'><thead style='background-color: white'><tr><th>Company Name</th><th>Model Name</th><th>Mobile Weight</th><th>RAM</th><th>Front Camera</th><th>Back Camera</th><th>Processor</th><th>Battery Capacity</th><th>Screen Size</th><th>Launched Price (Pakistan)</th><th>Launched Price (India)</th><th>Launched Price (China)</th><th>Launched Price (USA)</th><th>Launched Price (Dubai)</th><th>Launched Year</th></tr></thead><tbody><tr><td>Apple</td><td>iPhone 16 128GB</td><td>174g</td><td>6GB</td><td>12MP</td><td>48MP</td><td>A17 Bionic</td><td>3,600mAh</td><td>6.1 inches</td><td>PKR 224,999</td><td>INR 79,999</td><td>CNY 5,799</td><td>USD 799</td><td>AED 2,799</td><td>2024</td></tr><tr><td>Apple</td><td>iPhone 16 256GB</td><td>174g</td><td>6GB</td><td>12MP</td><td>48MP</td><td>A17 Bionic</td><td>3,600mAh</td><td>6.1 inches</td><td>PKR 234,999</td><td>INR 84,999</td><td>CNY 6,099</td><td>USD 849</td><td>AED 2,999</td><td>2024</td></tr><tr><td>Apple</td><td>iPhone 16 512GB</td><td>174g</td><td>6GB</td><td>12MP</td><td>48MP</td><td>A17 Bionic</td><td>3,600mAh</td><td>6.1 inches</td><td>PKR 244,999</td><td>INR 89,999</td><td>CNY 6,499</td><td>USD 899</td><td>AED 3,199</td><td>2024</td></tr><tr><td>Apple</td><td>iPhone 16 Plus 128GB</td><td>203g</td><td>6GB</td><td>12MP</td><td>48MP</td><td>A17 Bionic</td><td>4,200mAh</td><td>6.7 inches</td><td>PKR 249,999</td><td>INR 89,999</td><td>CNY 6,199</td><td>USD 899</td><td>AED 3,199</td><td>2024</td></tr><tr><td>Apple</td><td>iPhone 16 Plus 256GB</td><td>203g</td><td>6GB</td><td>12MP</td><td>48MP</td><td>A17 Bionic</td><td>4,200mAh</td><td>6.7 inches</td><td>PKR 259,999</td><td>INR 94,999</td><td>CNY 6,499</td><td>USD 949</td><td>AED 3,399</td><td>2024</td></tr><tr><td>Apple</td><td>iPhone 16 Plus 512GB</td><td>203g</td><td>6GB</td><td>12MP</td><td>48MP</td><td>A17 Bionic</td><td>4,200mAh</td><td>6.7 inches</td><td>PKR 274,999</td><td>INR 104,999</td><td>CNY 6,999</td><td>USD 999</td><td>AED 3,599</td><td>2024</td></tr><tr><td>Apple</td><td>iPhone 16 Pro 128GB</td><td>206g</td><td>6GB</td><td>12MP / 4K</td><td>50MP + 12MP</td><td>A17 Pro</td><td>4,400mAh</td><td>6.1 inches</td><td>PKR 284,999</td><td>INR 99,999</td><td>CNY 6,999</td><td>USD 999</td><td>AED 3,499</td><td>2024</td></tr><tr><td>Apple</td><td>iPhone 16 Pro 256GB</td><td>206g</td><td>8GB</td><td>12MP / 4K</td><td>50MP + 12MP</td><td>A17 Pro</td><td>4,400mAh</td><td>6.1 inches</td><td>PKR 294,999</td><td>INR 104,999</td><td>CNY 7,099</td><td>USD 1,049</td><td>AED 3,699</td><td>2024</td></tr><tr><td>Apple</td><td>iPhone 16 Pro 512GB</td><td>206g</td><td>8GB</td><td>12MP / 4K</td><td>50MP + 12MP</td><td>A17 Pro</td><td>4,400mAh</td><td>6.1 inches</td><td>PKR 314,999</td><td>INR 114,999</td><td>CNY 7,499</td><td>USD 1,099</td><td>AED 3,899</td><td>2024</td></tr><tr><td>Apple</td><td>iPhone 16 Pro Max 128GB</td><td>221g</td><td>6GB</td><td>12MP / 4K</td><td>48MP + 12MP</td><td>A17 Pro</td><td>4,500mAh</td><td>6.7 inches</td><td>PKR 314,999</td><td>INR 109,999</td><td>CNY 7,499</td><td>USD 1,099</td><td>AED 3,799</td><td>2024</td></tr><tr><td>Apple</td><td>iPhone 16 Pro Max 256GB</td><td>221g</td><td>8GB</td><td>12MP / 4K</td><td>48MP + 12MP</td><td>A17 Pro</td><td>4,500mAh</td><td>6.7 inches</td><td>PKR 324,999</td><td>INR 114,999</td><td>CNY 7,799</td><td>USD 1,199</td><td>AED 3,999</td><td>2024</td></tr><tr><td>Apple</td><td>iPhone 16 Pro Max 512GB</td><td>221g</td><td>8GB</td><td>12MP / 4K</td><td>48MP + 12MP</td><td>A17 Pro</td><td>4,500mAh</td><td>6.7 inches</td><td>PKR 344,999</td><td>INR 124,999</td><td>CNY 8,199</td><td>USD 1,299</td><td>AED 4,199</td><td>2024</td></tr><tr><td>Apple</td><td>iPhone 15 128GB</td><td>171g</td><td>6GB</td><td>12MP</td><td>48MP</td><td>A16 Bionic</td><td>3,200mAh</td><td>6.1 inches</td><td>PKR 204,999</td><td>INR 74,999</td><td>CNY 5,299</td><td>USD 799</td><td>AED 2,699</td><td>2023</td></tr><tr><td>Apple</td><td>iPhone 15 256GB</td><td>171g</td><td>6GB</td><td>12MP</td><td>48MP</td><td>A16 Bionic</td><td>3,200mAh</td><td>6.1 inches</td><td>PKR 214,999</td><td>INR 79,999</td><td>CNY 5,599</td><td>USD 849</td><td>AED 2,999</td><td>2023</td></tr><tr><td>Apple</td><td>iPhone 15 512GB</td><td>171g</td><td>6GB</td><td>12MP</td><td>48MP</td><td>A16 Bionic</td><td>3,200mAh</td><td>6.1 inches</td><td>PKR 224,999</td><td>INR 89,999</td><td>CNY 5,999</td><td>USD 949</td><td>AED 3,199</td><td>2023</td></tr><tr><td>Apple</td><td>iPhone 15 Plus 128GB</td><td>203g</td><td>6GB</td><td>12MP</td><td>48MP</td><td>A16 Bionic</td><td>4,300mAh</td><td>6.7 inches</td><td>PKR 234,999</td><td>INR 84,999</td><td>CNY 5,699</td><td>USD 899</td><td>AED 3,199</td><td>2023</td></tr><tr><td>Apple</td><td>iPhone 15 Plus 256GB</td><td>203g</td><td>6GB</td><td>12MP</td><td>48MP</td><td>A16 Bionic</td><td>4,300mAh</td><td>6.7 inches</td><td>PKR 244,999</td><td>INR 94,999</td><td>CNY 6,199</td><td>USD 999</td><td>AED 3,399</td><td>2023</td></tr><tr><td>Apple</td><td>iPhone 15 Plus 512GB</td><td>203g</td><td>6GB</td><td>12MP</td><td>48MP</td><td>A16 Bionic</td><td>4,300mAh</td><td>6.7 inches</td><td>PKR 264,999</td><td>INR 104,999</td><td>CNY 6,799</td><td>USD 1,049</td><td>AED 3,599</td><td>2023</td></tr><tr><td>Apple</td><td>iPhone 15 Pro 128GB</td><td>206g</td><td>6GB</td><td>12MP / 4K</td><td>48MP + 12MP</td><td>A16 Bionic</td><td>4,400mAh</td><td>6.1 inches</td><td>PKR 274,999</td><td>INR 99,999</td><td>CNY 6,999</td><td>USD 1,099</td><td>AED 3,599</td><td>2023</td></tr><tr><td>Apple</td><td>iPhone 15 Pro 256GB</td><td>206g</td><td>8GB</td><td>12MP / 4K</td><td>48MP + 12MP</td><td>A16 Bionic</td><td>4,400mAh</td><td>6.1 inches</td><td>PKR 284,999</td><td>INR 109,999</td><td>CNY 7,299</td><td>USD 1,199</td><td>AED 3,799</td><td>2023</td></tr><tr><td>Apple</td><td>iPhone 15 Pro 512GB</td><td>206g</td><td>8GB</td><td>12MP / 4K</td><td>48MP + 12MP</td><td>A16 Bionic</td><td>4,400mAh</td><td>6.1 inches</td><td>PKR 304,999</td><td>INR 119,999</td><td>CNY 7,799</td><td>USD 1,299</td><td>AED 4,199</td><td>2023</td></tr><tr><td>Apple</td><td>iPhone 15 Pro Max 128GB</td><td>221g</td><td>6GB</td><td>12MP / 4K</td><td>48MP + 12MP</td><td>A16 Bionic</td><td>4,500mAh</td><td>6.7 inches</td><td>PKR 314,999</td><td>INR 114,999</td><td>CNY 7,999</td><td>USD 1,199</td><td>AED 3,899</td><td>2023</td></tr><tr><td>Apple</td><td>iPhone 15 Pro Max 256GB</td><td>221g</td><td>8GB</td><td>12MP / 4K</td><td>48MP + 12MP</td><td>A16 Bionic</td><td>4,500mAh</td><td>6.7 inches</td><td>PKR 324,999</td><td>INR 124,999</td><td>CNY 8,199</td><td>USD 1,299</td><td>AED 4,199</td><td>2023</td></tr><tr><td>Apple</td><td>iPhone 15 Pro Max 512GB</td><td>221g</td><td>8GB</td><td>12MP / 4K</td><td>48MP + 12MP</td><td>A16 Bionic</td><td>4,500mAh</td><td>6.7 inches</td><td>PKR 344,999</td><td>INR 134,999</td><td>CNY 8,699</td><td>USD 1,399</td><td>AED 4,399</td><td>2023</td></tr><tr><td>Apple</td><td>iPhone 14 128GB</td><td>172g</td><td>6GB</td><td>12MP</td><td>12MP + 12MP</td><td>A15 Bionic</td><td>3,200mAh</td><td>6.1 inches</td><td>PKR 184,999</td><td>INR 69,999</td><td>CNY 5,199</td><td>USD 799</td><td>AED 2,699</td><td>2022</td></tr><tr><td>Apple</td><td>iPhone 14 256GB</td><td>172g</td><td>6GB</td><td>12MP</td><td>12MP + 12MP</td><td>A15 Bionic</td><td>3,200mAh</td><td>6.1 inches</td><td>PKR 194,999</td><td>INR 74,999</td><td>CNY 5,599</td><td>USD 849</td><td>AED 2,999</td><td>2022</td></tr><tr><td>Apple</td><td>iPhone 14 512GB</td><td>172g</td><td>6GB</td><td>12MP</td><td>12MP + 12MP</td><td>A15 Bionic</td><td>3,200mAh</td><td>6.1 inches</td><td>PKR 204,999</td><td>INR 84,999</td><td>CNY 5,999</td><td>USD 949</td><td>AED 3,199</td><td>2022</td></tr><tr><td>Apple</td><td>iPhone 14 Plus 128GB</td><td>203g</td><td>6GB</td><td>12MP</td><td>12MP + 12MP</td><td>A15 Bionic</td><td>4,325mAh</td><td>6.7 inches</td><td>PKR 204,999</td><td>INR 79,999</td><td>CNY 5,499</td><td>USD 899</td><td>AED 3,199</td><td>2022</td></tr><tr><td>Apple</td><td>iPhone 14 Plus 256GB</td><td>203g</td><td>6GB</td><td>12MP</td><td>12MP + 12MP</td><td>A15 Bionic</td><td>4,325mAh</td><td>6.7 inches</td><td>PKR 214,999</td><td>INR 84,999</td><td>CNY 5,899</td><td>USD 999</td><td>AED 3,399</td><td>2022</td></tr><tr><td>Apple</td><td>iPhone 14 Plus 512GB</td><td>203g</td><td>6GB</td><td>12MP</td><td>12MP + 12MP</td><td>A15 Bionic</td><td>4,325mAh</td><td>6.7 inches</td><td>PKR 224,999</td><td>INR 94,999</td><td>CNY 6,299</td><td>USD 1,049</td><td>AED 3,599</td><td>2022</td></tr><tr><td>Apple</td><td>iPhone 14 Pro 128GB</td><td>206g</td><td>6GB</td><td>12MP / 4K</td><td>48MP + 12MP</td><td>A16 Bionic</td><td>4,200mAh</td><td>6.1 inches</td><td>PKR 294,999</td><td>INR 109,999</td><td>CNY 7,199</td><td>USD 1,099</td><td>AED 3,699</td><td>2022</td></tr><tr><td>Apple</td><td>iPhone 14 Pro 256GB</td><td>206g</td><td>8GB</td><td>12MP / 4K</td><td>48MP + 12MP</td><td>A16 Bionic</td><td>4,200mAh</td><td>6.1 inches</td><td>PKR 304,999</td><td>INR 119,999</td><td>CNY 7,499</td><td>USD 1,199</td><td>AED 3,899</td><td>2022</td></tr><tr><td>Apple</td><td>iPhone 14 Pro 512GB</td><td>206g</td><td>8GB</td><td>12MP / 4K</td><td>48MP + 12MP</td><td>A16 Bionic</td><td>4,200mAh</td><td>6.1 inches</td><td>PKR 324,999</td><td>INR 134,999</td><td>CNY 7,999</td><td>USD 1,299</td><td>AED 4,199</td><td>2022</td></tr><tr><td>Apple</td><td>iPhone 14 Pro Max 128GB</td><td>221g</td><td>6GB</td><td>12MP / 4K</td><td>48MP + 12MP</td><td>A16 Bionic</td><td>4,500mAh</td><td>6.7 inches</td><td>PKR 324,999</td><td>INR 124,999</td><td>CNY 8,099</td><td>USD 1,199</td><td>AED 3,999</td><td>2022</td></tr><tr><td>Apple</td><td>iPhone 14 Pro Max 256GB</td><td>221g</td><td>8GB</td><td>12MP / 4K</td><td>48MP + 12MP</td><td>A16 Bionic</td><td>4,500mAh</td><td>6.7 inches</td><td>PKR 344,999</td><td>INR 134,999</td><td>CNY 8,499</td><td>USD 1,299</td><td>AED 4,199</td><td>2022</td></tr><tr><td>Apple</td><td>iPhone 14 Pro Max 512GB</td><td>221g</td><td>8GB</td><td>12MP / 4K</td><td>48MP + 12MP</td><td>A16 Bionic</td><td>4,500mAh</td><td>6.7 inches</td><td>PKR 364,999</td><td>INR 144,999</td><td>CNY 8,999</td><td>USD 1,399</td><td>AED 4,499</td><td>2022</td></tr><tr><td>Apple</td><td>iPhone 13 mini 128GB</td><td>140g</td><td>4GB</td><td>12MP</td><td>12MP</td><td>A15 Bionic</td><td>2,438mAh</td><td>5.4 inches</td><td>PKR 174,999</td><td>INR 69,900</td><td>CNY 5,199</td><td>USD 699</td><td>AED 2,599</td><td>2021</td></tr><tr><td>Apple</td><td>iPhone 13 mini 256GB</td><td>140g</td><td>4GB</td><td>12MP</td><td>12MP</td><td>A15 Bionic</td><td>2,438mAh</td><td>5.4 inches</td><td>PKR 184,999</td><td>INR 74,900</td><td>CNY 5,599</td><td>USD 799</td><td>AED 2,999</td><td>2021</td></tr><tr><td>Apple</td><td>iPhone 13 mini 512GB</td><td>140g</td><td>4GB</td><td>12MP</td><td>12MP</td><td>A15 Bionic</td><td>2,438mAh</td><td>5.4 inches</td><td>PKR 194,999</td><td>INR 84,900</td><td>CNY 5,999</td><td>USD 899</td><td>AED 3,299</td><td>2021</td></tr><tr><td>Apple</td><td>iPhone 13 128GB</td><td>174g</td><td>4GB</td><td>12MP</td><td>12MP + 12MP</td><td>A15 Bionic</td><td>3,240mAh</td><td>6.1 inches</td><td>PKR 194,999</td><td>INR 74,900</td><td>CNY 5,499</td><td>USD 799</td><td>AED 2,999</td><td>2021</td></tr><tr><td>Apple</td><td>iPhone 13 256GB</td><td>174g</td><td>4GB</td><td>12MP</td><td>12MP + 12MP</td><td>A15 Bionic</td><td>3,240mAh</td><td>6.1 inches</td><td>PKR 204,999</td><td>INR 84,900</td><td>CNY 5,899</td><td>USD 899</td><td>AED 3,199</td><td>2021</td></tr><tr><td>Apple</td><td>iPhone 13 512GB</td><td>174g</td><td>4GB</td><td>12MP</td><td>12MP + 12MP</td><td>A15 Bionic</td><td>3,240mAh</td><td>6.1 inches</td><td>PKR 224,999</td><td>INR 94,900</td><td>CNY 6,299</td><td>USD 999</td><td>AED 3,599</td><td>2021</td></tr><tr><td>Apple</td><td>iPhone 13 Pro 128GB</td><td>204g</td><td>6GB</td><td>12MP / 4K</td><td>12MP + 12MP + 12MP</td><td>A15 Bionic</td><td>3,095mAh</td><td>6.1 inches</td><td>PKR 294,999</td><td>INR 119,900</td><td>CNY 7,299</td><td>USD 999</td><td>AED 3,999</td><td>2021</td></tr><tr><td>Apple</td><td>iPhone 13 Pro 256GB</td><td>204g</td><td>6GB</td><td>12MP / 4K</td><td>12MP + 12MP + 12MP</td><td>A15 Bionic</td><td>3,095mAh</td><td>6.1 inches</td><td>PKR 314,999</td><td>INR 129,900</td><td>CNY 7,699</td><td>USD 1,099</td><td>AED 4,199</td><td>2021</td></tr><tr><td>Apple</td><td>iPhone 13 Pro 512GB</td><td>204g</td><td>6GB</td><td>12MP / 4K</td><td>12MP + 12MP + 12MP</td><td>A15 Bionic</td><td>3,095mAh</td><td>6.1 inches</td><td>PKR 344,999</td><td>INR 139,900</td><td>CNY 8,199</td><td>USD 1,199</td><td>AED 4,399</td><td>2021</td></tr><tr><td>Apple</td><td>iPhone 13 Pro Max 128GB</td><td>238g</td><td>6GB</td><td>12MP / 4K</td><td>12MP + 12MP + 12MP</td><td>A15 Bionic</td><td>4,352mAh</td><td>6.7 inches</td><td>PKR 324,999</td><td>INR 129,900</td><td>CNY 8,299</td><td>USD 1,099</td><td>AED 4,199</td><td>2021</td></tr><tr><td>Apple</td><td>iPhone 13 Pro Max 256GB</td><td>238g</td><td>6GB</td><td>12MP / 4K</td><td>12MP + 12MP + 12MP</td><td>A15 Bionic</td><td>4,352mAh</td><td>6.7 inches</td><td>PKR 354,999</td><td>INR 139,900</td><td>CNY 8,799</td><td>USD 1,199</td><td>AED 4,399</td><td>2021</td></tr><tr><td>Apple</td><td>iPhone 13 Pro Max 512GB</td><td>238g</td><td>6GB</td><td>12MP / 4K</td><td>12MP + 12MP + 12MP</td><td>A15 Bionic</td><td>4,352mAh</td><td>6.7 inches</td><td>PKR 384,999</td><td>INR 149,900</td><td>CNY 9,199</td><td>USD 1,399</td><td>AED 4,599</td><td>2021</td></tr><tr><td>Apple</td><td>iPhone 12 mini 64GB</td><td>135g</td><td>4GB</td><td>12MP</td><td>12MP</td><td>A14 Bionic</td><td>2,227mAh</td><td>5.4 inches</td><td>PKR 174,999</td><td>INR 69,900</td><td>CNY 5,199</td><td>USD 699</td><td>AED 2,599</td><td>2020</td></tr><tr><td>Apple</td><td>iPhone 12 mini 128GB</td><td>135g</td><td>4GB</td><td>12MP</td><td>12MP</td><td>A14 Bionic</td><td>2,227mAh</td><td>5.4 inches</td><td>PKR 184,999</td><td>INR 74,900</td><td>CNY 5,599</td><td>USD 799</td><td>AED 2,999</td><td>2020</td></tr><tr><td>Apple</td><td>iPhone 12 mini 256GB</td><td>135g</td><td>4GB</td><td>12MP</td><td>12MP</td><td>A14 Bionic</td><td>2,227mAh</td><td>5.4 inches</td><td>PKR 194,999</td><td>INR 84,900</td><td>CNY 5,999</td><td>USD 899</td><td>AED 3,299</td><td>2020</td></tr><tr><td>Apple</td><td>iPhone 12 64GB</td><td>164g</td><td>4GB</td><td>12MP</td><td>12MP + 12MP</td><td>A14 Bionic</td><td>2,815mAh</td><td>6.1 inches</td><td>PKR 194,999</td><td>INR 74,900</td><td>CNY 5,499</td><td>USD 799</td><td>AED 2,999</td><td>2020</td></tr><tr><td>Apple</td><td>iPhone 12 128GB</td><td>164g</td><td>4GB</td><td>12MP</td><td>12MP + 12MP</td><td>A14 Bionic</td><td>2,815mAh</td><td>6.1 inches</td><td>PKR 204,999</td><td>INR 84,900</td><td>CNY 5,899</td><td>USD 899</td><td>AED 3,199</td><td>2020</td></tr><tr><td>Apple</td><td>iPhone 12 256GB</td><td>164g</td><td>4GB</td><td>12MP</td><td>12MP + 12MP</td><td>A14 Bionic</td><td>2,815mAh</td><td>6.1 inches</td><td>PKR 224,999</td><td>INR 94,900</td><td>CNY 6,299</td><td>USD 999</td><td>AED 3,599</td><td>2020</td></tr><tr><td>Apple</td><td>iPhone 12 Pro 128GB</td><td>189g</td><td>6GB</td><td>12MP / 4K</td><td>12MP + 12MP + 12MP</td><td>A14 Bionic</td><td>2,815mAh</td><td>6.1 inches</td><td>PKR 314,999</td><td>INR 119,900</td><td>CNY 7,299</td><td>USD 999</td><td>AED 3,999</td><td>2020</td></tr><tr><td>Apple</td><td>iPhone 12 Pro 256GB</td><td>189g</td><td>6GB</td><td>12MP / 4K</td><td>12MP + 12MP + 12MP</td><td>A14 Bionic</td><td>2,815mAh</td><td>6.1 inches</td><td>PKR 334,999</td><td>INR 129,900</td><td>CNY 7,699</td><td>USD 1,099</td><td>AED 4,199</td><td>2020</td></tr><tr><td>Apple</td><td>iPhone 12 Pro 512GB</td><td>189g</td><td>6GB</td><td>12MP / 4K</td><td>12MP + 12MP + 12MP</td><td>A14 Bionic</td><td>2,815mAh</td><td>6.1 inches</td><td>PKR 354,999</td><td>INR 139,900</td><td>CNY 8,199</td><td>USD 1,199</td><td>AED 4,399</td><td>2020</td></tr><tr><td>Apple</td><td>iPhone 12 Pro Max 128GB</td><td>228g</td><td>6GB</td><td>12MP / 4K</td><td>12MP + 12MP + 12MP</td><td>A14 Bionic</td><td>3,687mAh</td><td>6.7 inches</td><td>PKR 344,999</td><td>INR 129,900</td><td>CNY 8,399</td><td>USD 1,099</td><td>AED 4,199</td><td>2020</td></tr><tr><td>Apple</td><td>iPhone 12 Pro Max 256GB</td><td>228g</td><td>6GB</td><td>12MP / 4K</td><td>12MP + 12MP + 12MP</td><td>A14 Bionic</td><td>3,687mAh</td><td>6.7 inches</td><td>PKR 364,999</td><td>INR 139,900</td><td>CNY 8,799</td><td>USD 1,199</td><td>AED 4,399</td><td>2020</td></tr><tr><td>Apple</td><td>iPhone 12 Pro Max 512GB</td><td>228g</td><td>6GB</td><td>12MP / 4K</td><td>12MP + 12MP + 12MP</td><td>A14 Bionic</td><td>3,687mAh</td><td>6.7 inches</td><td>PKR 384,999</td><td>INR 149,900</td><td>CNY 9,199</td><td>USD 1,399</td><td>AED 4,599</td><td>2020</td></tr><tr><td>Apple</td><td>iPhone 11 64GB</td><td>194g</td><td>4GB</td><td>12MP</td><td>12MP + 12MP</td><td>A13 Bionic</td><td>3,110mAh</td><td>6.1 inches</td><td>PKR 159,999</td><td>INR 64,900</td><td>CNY 5,499</td><td>USD 699</td><td>AED 2,499</td><td>2019</td></tr><tr><td>Apple</td><td>iPhone 11 128GB</td><td>194g</td><td>4GB</td><td>12MP</td><td>12MP + 12MP</td><td>A13 Bionic</td><td>3,110mAh</td><td>6.1 inches</td><td>PKR 169,999</td><td>INR 74,900</td><td>CNY 5,899</td><td>USD 799</td><td>AED 2,999</td><td>2019</td></tr><tr><td>Apple</td><td>iPhone 11 256GB</td><td>194g</td><td>4GB</td><td>12MP</td><td>12MP + 12MP</td><td>A13 Bionic</td><td>3,110mAh</td><td>6.1 inches</td><td>PKR 179,999</td><td>INR 84,900</td><td>CNY 6,299</td><td>USD 899</td><td>AED 3,299</td><td>2019</td></tr><tr><td>Apple</td><td>iPhone 11 Pro 64GB</td><td>188g</td><td>4GB</td><td>12MP / 4K</td><td>12MP + 12MP + 12MP</td><td>A13 Bionic</td><td>3,046mAh</td><td>5.8 inches</td><td>PKR 219,999</td><td>INR 99,900</td><td>CNY 6,999</td><td>USD 999</td><td>AED 3,799</td><td>2019</td></tr><tr><td>Apple</td><td>iPhone 11 Pro 256GB</td><td>188g</td><td>4GB</td><td>12MP / 4K</td><td>12MP + 12MP + 12MP</td><td>A13 Bionic</td><td>3,046mAh</td><td>5.8 inches</td><td>PKR 239,999</td><td>INR 109,900</td><td>CNY 7,399</td><td>USD 1,099</td><td>AED 4,199</td><td>2019</td></tr><tr><td>Apple</td><td>iPhone 11 Pro 512GB</td><td>188g</td><td>4GB</td><td>12MP / 4K</td><td>12MP + 12MP + 12MP</td><td>A13 Bionic</td><td>3,046mAh</td><td>5.8 inches</td><td>PKR 259,999</td><td>INR 119,900</td><td>CNY 7,999</td><td>USD 1,199</td><td>AED 4,599</td><td>2019</td></tr><tr><td>Apple</td><td>iPhone 11 Pro Max 64GB</td><td>226g</td><td>4GB</td><td>12MP / 4K</td><td>12MP + 12MP + 12MP</td><td>A13 Bionic</td><td>3,969mAh</td><td>6.5 inches</td><td>PKR 269,999</td><td>INR 109,900</td><td>CNY 7,799</td><td>USD 1,099</td><td>AED 4,399</td><td>2019</td></tr><tr><td>Apple</td><td>iPhone 11 Pro Max 256GB</td><td>226g</td><td>4GB</td><td>12MP / 4K</td><td>12MP + 12MP + 12MP</td><td>A13 Bionic</td><td>3,969mAh</td><td>6.5 inches</td><td>PKR 289,999</td><td>INR 119,900</td><td>CNY 8,199</td><td>USD 1,199</td><td>AED 4,599</td><td>2019</td></tr><tr><td>Apple</td><td>iPhone 11 Pro Max 512GB</td><td>226g</td><td>4GB</td><td>12MP / 4K</td><td>12MP + 12MP + 12MP</td><td>A13 Bionic</td><td>3,969mAh</td><td>6.5 inches</td><td>PKR 309,999</td><td>INR 129,900</td><td>CNY 8,799</td><td>USD 1,399</td><td>AED 4,999</td><td>2019</td></tr><tr><td>Apple</td><td>iPhone X 64GB</td><td>174g</td><td>3GB</td><td>7MP</td><td>12MP + 12MP</td><td>A11 Bionic</td><td>2,716mAh</td><td>5.8 inches</td><td>PKR 164,999</td><td>INR 89,900</td><td>CNY 8,388</td><td>USD 999</td><td>AED 3,799</td><td>2017</td></tr><tr><td>Apple</td><td>iPhone X 256GB</td><td>174g</td><td>3GB</td><td>7MP</td><td>12MP + 12MP</td><td>A11 Bionic</td><td>2,716mAh</td><td>5.8 inches</td><td>PKR 184,999</td><td>INR 99,900</td><td>CNY 8,788</td><td>USD 1,099</td><td>AED 4,199</td><td>2017</td></tr><tr><td>Apple</td><td>iPhone XS 64GB</td><td>177g</td><td>4GB</td><td>7MP</td><td>12MP + 12MP</td><td>A12 Bionic</td><td>2,658mAh</td><td>5.8 inches</td><td>PKR 219,999</td><td>INR 99,900</td><td>CNY 9,188</td><td>USD 999</td><td>AED 3,899</td><td>2018</td></tr><tr><td>Apple</td><td>iPhone XS 256GB</td><td>177g</td><td>4GB</td><td>7MP</td><td>12MP + 12MP</td><td>A12 Bionic</td><td>2,658mAh</td><td>5.8 inches</td><td>PKR 239,999</td><td>INR 109,900</td><td>CNY 9,788</td><td>USD 1,099</td><td>AED 4,299</td><td>2018</td></tr><tr><td>Apple</td><td>iPhone XS 512GB</td><td>177g</td><td>4GB</td><td>7MP</td><td>12MP + 12MP</td><td>A12 Bionic</td><td>2,658mAh</td><td>5.8 inches</td><td>PKR 259,999</td><td>INR 119,900</td><td>CNY 10,388</td><td>USD 1,299</td><td>AED 4,799</td><td>2018</td></tr><tr><td>Apple</td><td>iPhone XS Max 64GB</td><td>208g</td><td>4GB</td><td>7MP</td><td>12MP + 12MP</td><td>A12 Bionic</td><td>3,174mAh</td><td>6.5 inches</td><td>PKR 249,999</td><td>INR 109,900</td><td>CNY 10,088</td><td>USD 1,099</td><td>AED 4,399</td><td>2018</td></tr><tr><td>Apple</td><td>iPhone XS Max 256GB</td><td>208g</td><td>4GB</td><td>7MP</td><td>12MP + 12MP</td><td>A12 Bionic</td><td>3,174mAh</td><td>6.5 inches</td><td>PKR 269,999</td><td>INR 119,900</td><td>CNY 10,688</td><td>USD 1,249</td><td>AED 4,799</td><td>2018</td></tr><tr><td>Apple</td><td>iPhone XS Max 512GB</td><td>208g</td><td>4GB</td><td>7MP</td><td>12MP + 12MP</td><td>A12 Bionic</td><td>3,174mAh</td><td>6.5 inches</td><td>PKR 289,999</td><td>INR 129,900</td><td>CNY 11,288</td><td>USD 1,399</td><td>AED 5,099</td><td>2018</td></tr><tr><td>Apple</td><td>iPhone XR 64GB</td><td>194g</td><td>3GB</td><td>7MP</td><td>12MP + 12MP</td><td>A12 Bionic</td><td>2,942mAh</td><td>6.1 inches</td><td>PKR 149,999</td><td>INR 64,900</td><td>CNY 6,299</td><td>USD 749</td><td>AED 2,699</td><td>2018</td></tr><tr><td>Apple</td><td>iPhone XR 128GB</td><td>194g</td><td>3GB</td><td>7MP</td><td>12MP + 12MP</td><td>A12 Bionic</td><td>2,942mAh</td><td>6.1 inches</td><td>PKR 159,999</td><td>INR 74,900</td><td>CNY 6,799</td><td>USD 799</td><td>AED 3,099</td><td>2018</td></tr><tr><td>Apple</td><td>iPhone XR 256GB</td><td>194g</td><td>3GB</td><td>7MP</td><td>12MP + 12MP</td><td>A12 Bionic</td><td>2,942mAh</td><td>6.1 inches</td><td>PKR 179,999</td><td>INR 84,900</td><td>CNY 7,299</td><td>USD 899</td><td>AED 3,399</td><td>2018</td></tr><tr><td>Apple</td><td>iPad Air 10.9-inch 64GB</td><td>458g</td><td>4GB</td><td>12MP</td><td>12MP</td><td>A14 Bionic</td><td>7,608mAh</td><td>10.9 inches</td><td>PKR 79,999</td><td>INR 54,900</td><td>CNY 3,299</td><td>USD 599</td><td>AED 2,099</td><td>2020</td></tr><tr><td>Apple</td><td>iPad Air 10.9-inch 256GB</td><td>458g</td><td>4GB</td><td>12MP</td><td>12MP</td><td>A14 Bionic</td><td>7,608mAh</td><td>10.9 inches</td><td>PKR 89,999</td><td>INR 64,900</td><td>CNY 3,699</td><td>USD 749</td><td>AED 2,499</td><td>2020</td></tr><tr><td>Apple</td><td>iPad 10.2-inch 32GB</td><td>490g</td><td>3GB</td><td>12MP</td><td>8MP</td><td>A13 Bionic</td><td>8,612mAh</td><td>10.2 inches</td><td>PKR 49,999</td><td>INR 29,900</td><td>CNY 2,299</td><td>USD 329</td><td>AED 1,199</td><td>2020</td></tr><tr><td>Apple</td><td>iPad 10.2-inch 128GB</td><td>490g</td><td>3GB</td><td>12MP</td><td>8MP</td><td>A13 Bionic</td><td>8,612mAh</td><td>10.2 inches</td><td>PKR 59,999</td><td>INR 39,900</td><td>CNY 2,699</td><td>USD 429</td><td>AED 1,499</td><td>2020</td></tr><tr><td>Apple</td><td>iPad Mini 7.9-inch 64GB</td><td>300.5g</td><td>3GB</td><td>7MP</td><td>8MP</td><td>A12 Bionic</td><td>5,124mAh</td><td>7.9 inches</td><td>PKR 69,999</td><td>INR 39,900</td><td>CNY 3,499</td><td>USD 399</td><td>AED 1,499</td><td>2019</td></tr><tr><td>Apple</td><td>iPad Mini 7.9-inch 256GB</td><td>300.5g</td><td>3GB</td><td>7MP</td><td>8MP</td><td>A12 Bionic</td><td>5,124mAh</td><td>7.9 inches</td><td>PKR 79,999</td><td>INR 49,900</td><td>CNY 3,799</td><td>USD 499</td><td>AED 1,799</td><td>2019</td></tr><tr><td>Apple</td><td>iPad Pro 11-inch 128GB</td><td>468g</td><td>4GB</td><td>7MP</td><td>12MP + 10MP</td><td>A12Z Bionic</td><td>7,812mAh</td><td>11 inches</td><td>PKR 149,999</td><td>INR 71,900</td><td>CNY 6,399</td><td>USD 799</td><td>AED 2,799</td><td>2020</td></tr><tr><td>Apple</td><td>iPad Pro 11-inch 256GB</td><td>468g</td><td>4GB</td><td>7MP</td><td>12MP + 10MP</td><td>A12Z Bionic</td><td>7,812mAh</td><td>11 inches</td><td>PKR 169,999</td><td>INR 89,900</td><td>CNY 7,199</td><td>USD 899</td><td>AED 3,199</td><td>2020</td></tr><tr><td>Apple</td><td>iPad Pro 11-inch 512GB</td><td>468g</td><td>6GB</td><td>7MP</td><td>12MP + 10MP</td><td>A12Z Bionic</td><td>7,812mAh</td><td>11 inches</td><td>PKR 189,999</td><td>INR 109,900</td><td>CNY 7,999</td><td>USD 1,099</td><td>AED 3,699</td><td>2020</td></tr><tr><td>Apple</td><td>iPad Pro 12.9-inch 128GB</td><td>682g</td><td>6GB</td><td>7MP</td><td>12MP + 10MP</td><td>A12Z Bionic</td><td>9,720mAh</td><td>12.9 inches</td><td>PKR 219,999</td><td>INR 94,900</td><td>CNY 7,999</td><td>USD 999</td><td>AED 3,799</td><td>2020</td></tr><tr><td>Apple</td><td>iPad Pro 12.9-inch 256GB</td><td>682g</td><td>6GB</td><td>7MP</td><td>12MP + 10MP</td><td>A12Z Bionic</td><td>9,720mAh</td><td>12.9 inches</td><td>PKR 239,999</td><td>INR 109,900</td><td>CNY 8,699</td><td>USD 1,099</td><td>AED 4,199</td><td>2020</td></tr><tr><td>Apple</td><td>iPad Pro 12.9-inch 512GB</td><td>682g</td><td>6GB</td><td>7MP</td><td>12MP + 10MP</td><td>A12Z Bionic</td><td>9,720mAh</td><td>12.9 inches</td><td>PKR 259,999</td><td>INR 119,900</td><td>CNY 9,199</td><td>USD 1,299</td><td>AED 4,599</td><td>2020</td></tr><tr><td>Apple</td><td>iPad Pro 13-inch 128GB</td><td>708g</td><td>6GB</td><td>7MP</td><td>12MP + 10MP</td><td>A12Z Bionic</td><td>10,307mAh</td><td>13 inches</td><td>PKR 259,999</td><td>INR 119,900</td><td>CNY 8,699</td><td>USD 1,099</td><td>AED 4,499</td><td>2020</td></tr><tr><td>Apple</td><td>iPad Pro 13-inch 256GB</td><td>708g</td><td>6GB</td><td>7MP</td><td>12MP + 10MP</td><td>A12Z Bionic</td><td>10,307mAh</td><td>13 inches</td><td>PKR 279,999</td><td>INR 139,900</td><td>CNY 9,199</td><td>USD 1,199</td><td>AED 4,799</td><td>2020</td></tr><tr><td>Apple</td><td>iPad Pro 13-inch 512GB</td><td>708g</td><td>6GB</td><td>7MP</td><td>12MP + 10MP</td><td>A12Z Bionic</td><td>10,307mAh</td><td>13 inches</td><td>PKR 309,999</td><td>INR 159,900</td><td>CNY 9,799</td><td>USD 1,399</td><td>AED 5,299</td><td>2020</td></tr><tr><td>Apple</td><td>iPad Pro 13-inch 1TB</td><td>708g</td><td>6GB</td><td>7MP</td><td>12MP + 10MP</td><td>A12Z Bionic</td><td>10,307mAh</td><td>13 inches</td><td>PKR 359,999</td><td>INR 179,900</td><td>CNY 10,399</td><td>USD 1,599</td><td>AED 5,799</td><td>2020</td></tr><tr><td>Apple</td><td>iPad Pro 13-inch 2TB</td><td>708g</td><td>6GB</td><td>7MP</td><td>12MP + 10MP</td><td>A12Z Bionic</td><td>10,307mAh</td><td>13 inches</td><td>PKR 399,999</td><td>INR 199,900</td><td>CNY 11,199</td><td>USD 1,799</td><td>AED 6,099</td><td>2020</td></tr><tr><td>Samsung</td><td>Galaxy S24 Ultra 128GB</td><td>234g</td><td>12GB</td><td>12MP</td><td>200MP + 12MP</td><td>Exynos 2400</td><td>5000mAh</td><td>6.8 inches</td><td>PKR 450,000</td><td>INR 104,900</td><td>CNY 7,499</td><td>USD 1,199</td><td>AED 4,899</td><td>2024</td></tr><tr><td>Samsung</td><td>Galaxy S24 Ultra 256GB</td><td>234g</td><td>12GB</td><td>12MP</td><td>200MP + 12MP</td><td>Exynos 2400</td><td>5000mAh</td><td>6.8 inches</td><td>PKR 480,000</td><td>INR 114,900</td><td>CNY 7,999</td><td>USD 1,299</td><td>AED 5,099</td><td>2024</td></tr><tr><td>Samsung</td><td>Galaxy S24+ 128GB</td><td>196g</td><td>8GB</td><td>12MP</td><td>50MP + 12MP</td><td>Exynos 2400</td><td>4800mAh</td><td>6.6 inches</td><td>PKR 400,000</td><td>INR 89,900</td><td>CNY 6,199</td><td>USD 899</td><td>AED 3,599</td><td>2024</td></tr><tr><td>Samsung</td><td>Galaxy S24+ 256GB</td><td>196g</td><td>8GB</td><td>12MP</td><td>50MP + 12MP</td><td>Exynos 2400</td><td>4800mAh</td><td>6.6 inches</td><td>PKR 430,000</td><td>INR 99,900</td><td>CNY 6,999</td><td>USD 999</td><td>AED 3,799</td><td>2024</td></tr><tr><td>Samsung</td><td>Galaxy S24 128GB</td><td>168g</td><td>8GB</td><td>12MP</td><td>50MP + 12MP</td><td>Exynos 2400</td><td>4000mAh</td><td>6.1 inches</td><td>PKR 350,000</td><td>INR 79,900</td><td>CNY 5,799</td><td>USD 799</td><td>AED 3,299</td><td>2024</td></tr><tr><td>Samsung</td><td>Galaxy S24 256GB</td><td>168g</td><td>8GB</td><td>12MP</td><td>50MP + 12MP</td><td>Exynos 2400</td><td>4000mAh</td><td>6.1 inches</td><td>PKR 380,000</td><td>INR 89,900</td><td>CNY 6,199</td><td>USD 899</td><td>AED 3,499</td><td>2024</td></tr><tr><td>Samsung</td><td>Galaxy S23 Ultra 128GB</td><td>228g</td><td>12GB</td><td>12MP</td><td>200MP + 12MP</td><td>Snapdragon 8 Gen 2</td><td>5000mAh</td><td>6.8 inches</td><td>PKR 430,000</td><td>INR 99,900</td><td>CNY 7,299</td><td>USD 1,199</td><td>AED 4,599</td><td>2023</td></tr><tr><td>Samsung</td><td>Galaxy S23 Ultra 256GB</td><td>228g</td><td>12GB</td><td>12MP</td><td>200MP + 12MP</td><td>Snapdragon 8 Gen 2</td><td>5000mAh</td><td>6.8 inches</td><td>PKR 460,000</td><td>INR 109,900</td><td>CNY 7,999</td><td>USD 1,299</td><td>AED 4,899</td><td>2023</td></tr><tr><td>Samsung</td><td>Galaxy S23+ 128GB</td><td>196g</td><td>8GB</td><td>12MP</td><td>50MP + 12MP</td><td>Snapdragon 8 Gen 2</td><td>4700mAh</td><td>6.6 inches</td><td>PKR 360,000</td><td>INR 79,900</td><td>CNY 6,199</td><td>USD 899</td><td>AED 3,399</td><td>2023</td></tr><tr><td>Samsung</td><td>Galaxy S23+ 256GB</td><td>196g</td><td>8GB</td><td>12MP</td><td>50MP + 12MP</td><td>Snapdragon 8 Gen 2</td><td>4700mAh</td><td>6.6 inches</td><td>PKR 390,000</td><td>INR 89,900</td><td>CNY 6,799</td><td>USD 999</td><td>AED 3,599</td><td>2023</td></tr><tr><td>Samsung</td><td>Galaxy S23 128GB</td><td>168g</td><td>8GB</td><td>12MP</td><td>50MP + 12MP</td><td>Snapdragon 8 Gen 2</td><td>3900mAh</td><td>6.1 inches</td><td>PKR 320,000</td><td>INR 69,900</td><td>CNY 5,499</td><td>USD 799</td><td>AED 3,099</td><td>2023</td></tr><tr><td>Samsung</td><td>Galaxy S23 256GB</td><td>168g</td><td>8GB</td><td>12MP</td><td>50MP + 12MP</td><td>Snapdragon 8 Gen 2</td><td>3900mAh</td><td>6.1 inches</td><td>PKR 350,000</td><td>INR 79,900</td><td>CNY 5,999</td><td>USD 899</td><td>AED 3,299</td><td>2023</td></tr><tr><td>Samsung</td><td>Galaxy S22 Ultra 128GB</td><td>228g</td><td>12GB</td><td>10MP</td><td>108MP + 12MP</td><td>Exynos 2200</td><td>5000mAh</td><td>6.8 inches</td><td>PKR 420,000</td><td>INR 94,900</td><td>CNY 6,599</td><td>USD 1,099</td><td>AED 4,499</td><td>2022</td></tr><tr><td>Samsung</td><td>Galaxy S22 Ultra 256GB</td><td>228g</td><td>12GB</td><td>10MP</td><td>108MP + 12MP</td><td>Exynos 2200</td><td>5000mAh</td><td>6.8 inches</td><td>PKR 450,000</td><td>INR 104,900</td><td>CNY 7,199</td><td>USD 1,199</td><td>AED 4,799</td><td>2022</td></tr><tr><td>Samsung</td><td>Galaxy S22+ 128GB</td><td>195g</td><td>8GB</td><td>10MP</td><td>50MP + 12MP</td><td>Exynos 2200</td><td>4500mAh</td><td>6.6 inches</td><td>PKR 350,000</td><td>INR 79,900</td><td>CNY 5,999</td><td>USD 799</td><td>AED 3,299</td><td>2022</td></tr><tr><td>Samsung</td><td>Galaxy S22+ 256GB</td><td>195g</td><td>8GB</td><td>10MP</td><td>50MP + 12MP</td><td>Exynos 2200</td><td>4500mAh</td><td>6.6 inches</td><td>PKR 380,000</td><td>INR 89,900</td><td>CNY 6,499</td><td>USD 899</td><td>AED 3,599</td><td>2022</td></tr><tr><td>Samsung</td><td>Galaxy S22 128GB</td><td>167g</td><td>8GB</td><td>10MP</td><td>50MP + 12MP</td><td>Exynos 2200</td><td>3800mAh</td><td>6.1 inches</td><td>PKR 300,000</td><td>INR 69,900</td><td>CNY 5,499</td><td>USD 699</td><td>AED 2,999</td><td>2022</td></tr><tr><td>Samsung</td><td>Galaxy S22 256GB</td><td>167g</td><td>8GB</td><td>10MP</td><td>50MP + 12MP</td><td>Exynos 2200</td><td>3800mAh</td><td>6.1 inches</td><td>PKR 330,000</td><td>INR 79,900</td><td>CNY 5,999</td><td>USD 799</td><td>AED 3,199</td><td>2022</td></tr><tr><td>Samsung</td><td>Galaxy Z Fold 5 256GB</td><td>254g</td><td>12GB</td><td>10MP</td><td>50MP + 12MP</td><td>Snapdragon 8 Gen 2</td><td>4400mAh</td><td>7.6 inches</td><td>PKR 500,000</td><td>INR 154,900</td><td>CNY 11,999</td><td>USD 1,799</td><td>AED 6,999</td><td>2023</td></tr><tr><td>Samsung</td><td>Galaxy Z Fold 5 512GB</td><td>254g</td><td>12GB</td><td>10MP</td><td>50MP + 12MP</td><td>Snapdragon 8 Gen 2</td><td>4400mAh</td><td>7.6 inches</td><td>PKR 550,000</td><td>INR 174,900</td><td>CNY 12,999</td><td>USD 1,899</td><td>AED 7,499</td><td>2023</td></tr><tr><td>Samsung</td><td>Galaxy Z Flip 5 256GB</td><td>187g</td><td>8GB</td><td>12MP</td><td>12MP + 12MP</td><td>Snapdragon 8 Gen 2</td><td>3700mAh</td><td>6.7 inches</td><td>PKR 350,000</td><td>INR 94,900</td><td>CNY 7,999</td><td>USD 999</td><td>AED 4,099</td><td>2023</td></tr><tr><td>Samsung</td><td>Galaxy Z Flip 5 512GB</td><td>187g</td><td>8GB</td><td>12MP</td><td>12MP + 12MP</td><td>Snapdragon 8 Gen 2</td><td>3700mAh</td><td>6.7 inches</td><td>PKR 380,000</td><td>INR 104,900</td><td>CNY 8,999</td><td>USD 1,099</td><td>AED 4,399</td><td>2023</td></tr><tr><td>Samsung</td><td>Galaxy Z Fold 4 256GB</td><td>263g</td><td>12GB</td><td>10MP</td><td>50MP + 12MP</td><td>Snapdragon 8 Gen 1</td><td>4400mAh</td><td>7.6 inches</td><td>PKR 480,000</td><td>INR 134,900</td><td>CNY 10,999</td><td>USD 1,799</td><td>AED 6,499</td><td>2022</td></tr><tr><td>Samsung</td><td>Galaxy Z Fold 4 512GB</td><td>263g</td><td>12GB</td><td>10MP</td><td>50MP + 12MP</td><td>Snapdragon 8 Gen 1</td><td>4400mAh</td><td>7.6 inches</td><td>PKR 530,000</td><td>INR 154,900</td><td>CNY 11,999</td><td>USD 1,899</td><td>AED 7,099</td><td>2022</td></tr><tr><td>Samsung</td><td>Galaxy Z Flip 4 256GB</td><td>187g</td><td>8GB</td><td>10MP</td><td>12MP + 12MP</td><td>Snapdragon 8 Gen 1</td><td>3700mAh</td><td>6.7 inches</td><td>PKR 320,000</td><td>INR 84,900</td><td>CNY 6,999</td><td>USD 999</td><td>AED 3,799</td><td>2022</td></tr><tr><td>Samsung</td><td>Galaxy Z Flip 4 512GB</td><td>187g</td><td>8GB</td><td>10MP</td><td>12MP + 12MP</td><td>Snapdragon 8 Gen 1</td><td>3700mAh</td><td>6.7 inches</td><td>PKR 350,000</td><td>INR 94,900</td><td>CNY 7,999</td><td>USD 1,099</td><td>AED 4,099</td><td>2022</td></tr><tr><td>Samsung</td><td>Galaxy A54 128GB</td><td>189g</td><td>6GB</td><td>32MP</td><td>50MP + 12MP</td><td>Exynos 1380</td><td>5000mAh</td><td>6.4 inches</td><td>PKR 85,000</td><td>INR 27,999</td><td>CNY 2,199</td><td>USD 399</td><td>AED 1,399</td><td>2023</td></tr><tr><td>Samsung</td><td>Galaxy A54 256GB</td><td>189g</td><td>6GB</td><td>32MP</td><td>50MP + 12MP</td><td>Exynos 1380</td><td>5000mAh</td><td>6.4 inches</td><td>PKR 95,000</td><td>INR 32,999</td><td>CNY 2,499</td><td>USD 449</td><td>AED 1,499</td><td>2023</td></tr><tr><td>Samsung</td><td>Galaxy A34 128GB</td><td>199g</td><td>6GB</td><td>13MP</td><td>48MP + 8MP</td><td>MediaTek Dimensity 1080</td><td>5000mAh</td><td>6.6 inches</td><td>PKR 75,000</td><td>INR 22,999</td><td>CNY 1,799</td><td>USD 349</td><td>AED 1,299</td><td>2023</td></tr><tr><td>Samsung</td><td>Galaxy A34 256GB</td><td>199g</td><td>6GB</td><td>13MP</td><td>48MP + 8MP</td><td>MediaTek Dimensity 1080</td><td>5000mAh</td><td>6.6 inches</td><td>PKR 85,000</td><td>INR 27,999</td><td>CNY 1,999</td><td>USD 399</td><td>AED 1,399</td><td>2023</td></tr><tr><td>Samsung</td><td>Galaxy A24 128GB</td><td>195g</td><td>6GB</td><td>13MP</td><td>50MP + 5MP</td><td>MediaTek Helio G99</td><td>5000mAh</td><td>6.5 inches</td><td>PKR 70,000</td><td>INR 19,999</td><td>CNY 1,599</td><td>USD 299</td><td>AED 1,199</td><td>2023</td></tr><tr><td>Samsung</td><td>Galaxy A24 256GB</td><td>195g</td><td>6GB</td><td>13MP</td><td>50MP + 5MP</td><td>MediaTek Helio G99</td><td>5000mAh</td><td>6.5 inches</td><td>PKR 80,000</td><td>INR 24,999</td><td>CNY 1,799</td><td>USD 349</td><td>AED 1,299</td><td>2023</td></tr><tr><td>Samsung</td><td>Galaxy A14 128GB</td><td>190g</td><td>4GB</td><td>13MP</td><td>50MP + 2MP</td><td>Exynos 850</td><td>5000mAh</td><td>6.6 inches</td><td>PKR 60,000</td><td>INR 18,499</td><td>CNY 1,499</td><td>USD 249</td><td>AED 1,099</td><td>2023</td></tr><tr><td>Samsung</td><td>Galaxy A14 256GB</td><td>190g</td><td>4GB</td><td>13MP</td><td>50MP + 2MP</td><td>Exynos 850</td><td>5000mAh</td><td>6.6 inches</td><td>PKR 70,000</td><td>INR 21,999</td><td>CNY 1,699</td><td>USD 299</td><td>AED 1,199</td><td>2023</td></tr><tr><td>Samsung</td><td>Galaxy A04 64GB</td><td>188g</td><td>4GB</td><td>5MP</td><td>50MP + 2MP</td><td>Exynos 850</td><td>5000mAh</td><td>6.5 inches</td><td>PKR 50,000</td><td>INR 14,999</td><td>CNY 1,199</td><td>USD 199</td><td>AED 899</td><td>2022</td></tr><tr><td>Samsung</td><td>Galaxy A04 128GB</td><td>188g</td><td>4GB</td><td>5MP</td><td>50MP + 2MP</td><td>Exynos 850</td><td>5000mAh</td><td>6.5 inches</td><td>PKR 60,000</td><td>INR 18,499</td><td>CNY 1,399</td><td>USD 249</td><td>AED 999</td><td>2022</td></tr><tr><td>Samsung</td><td>Galaxy M54 128GB</td><td>202g</td><td>8GB</td><td>32MP</td><td>108MP + 8MP</td><td>Exynos 1380</td><td>6000mAh</td><td>6.7 inches</td><td>PKR 95,000</td><td>INR 23,999</td><td>CNY 2,099</td><td>USD 349</td><td>AED 1,299</td><td>2023</td></tr><tr><td>Samsung</td><td>Galaxy M54 256GB</td><td>202g</td><td>8GB</td><td>32MP</td><td>108MP + 8MP</td><td>Exynos 1380</td><td>6000mAh</td><td>6.7 inches</td><td>PKR 105,000</td><td>INR 26,999</td><td>CNY 2,299</td><td>USD 399</td><td>AED 1,399</td><td>2023</td></tr><tr><td>Samsung</td><td>Galaxy M34 128GB</td><td>199g</td><td>6GB</td><td>13MP</td><td>50MP + 8MP</td><td>Exynos 1280</td><td>6000mAh</td><td>6.5 inches</td><td>PKR 70,000</td><td>INR 17,999</td><td>CNY 1,699</td><td>USD 299</td><td>AED 1,099</td><td>2023</td></tr><tr><td>Samsung</td><td>Galaxy M34 256GB</td><td>199g</td><td>6GB</td><td>13MP</td><td>50MP + 8MP</td><td>Exynos 1280</td><td>6000mAh</td><td>6.5 inches</td><td>PKR 80,000</td><td>INR 20,999</td><td>CNY 1,999</td><td>USD 349</td><td>AED 1,199</td><td>2023</td></tr><tr><td>Samsung</td><td>Galaxy M14 128GB</td><td>202g</td><td>4GB</td><td>13MP</td><td>50MP + 2MP</td><td>Exynos 850</td><td>6000mAh</td><td>6.6 inches</td><td>PKR 60,000</td><td>INR 14,999</td><td>CNY 1,399</td><td>USD 249</td><td>AED 999</td><td>2023</td></tr><tr><td>Samsung</td><td>Galaxy M14 256GB</td><td>202g</td><td>4GB</td><td>13MP</td><td>50MP + 2MP</td><td>Exynos 850</td><td>6000mAh</td><td>6.6 inches</td><td>PKR 70,000</td><td>INR 17,999</td><td>CNY 1,599</td><td>USD 299</td><td>AED 1,099</td><td>2023</td></tr><tr><td>Samsung</td><td>Galaxy M04 64GB</td><td>188g</td><td>4GB</td><td>5MP</td><td>13MP + 2MP</td><td>MediaTek Helio P35</td><td>5000mAh</td><td>6.5 inches</td><td>PKR 50,000</td><td>INR 12,999</td><td>CNY 1,099</td><td>USD 199</td><td>AED 899</td><td>2022</td></tr><tr><td>Samsung</td><td>Galaxy M04 128GB</td><td>188g</td><td>4GB</td><td>5MP</td><td>13MP + 2MP</td><td>MediaTek Helio P35</td><td>5000mAh</td><td>6.5 inches</td><td>PKR 60,000</td><td>INR 15,999</td><td>CNY 1,299</td><td>USD 249</td><td>AED 999</td><td>2022</td></tr><tr><td>Samsung</td><td>Galaxy F54 128GB</td><td>199g</td><td>8GB</td><td>32MP</td><td>108MP + 8MP</td><td>Exynos 1380</td><td>6000mAh</td><td>6.7 inches</td><td>PKR 85,000</td><td>INR 23,999</td><td>CNY 2,199</td><td>USD 349</td><td>AED 1,299</td><td>2023</td></tr><tr><td>Samsung</td><td>Galaxy F54 256GB</td><td>199g</td><td>8GB</td><td>32MP</td><td>108MP + 8MP</td><td>Exynos 1380</td><td>6000mAh</td><td>6.7 inches</td><td>PKR 95,000</td><td>INR 26,999</td><td>CNY 2,399</td><td>USD 399</td><td>AED 1,399</td><td>2023</td></tr><tr><td>Samsung</td><td>Galaxy F34 128GB</td><td>190g</td><td>6GB</td><td>13MP</td><td>50MP + 8MP</td><td>Exynos 1280</td><td>6000mAh</td><td>6.5 inches</td><td>PKR 70,000</td><td>INR 18,999</td><td>CNY 1,799</td><td>USD 299</td><td>AED 1,099</td><td>2023</td></tr><tr><td>Samsung</td><td>Galaxy F34 256GB</td><td>190g</td><td>6GB</td><td>13MP</td><td>50MP + 8MP</td><td>Exynos 1280</td><td>6000mAh</td><td>6.5 inches</td><td>PKR 80,000</td><td>INR 21,999</td><td>CNY 1,999</td><td>USD 349</td><td>AED 1,199</td><td>2023</td></tr><tr><td>Samsung</td><td>Galaxy F14 128GB</td><td>198g</td><td>4GB</td><td>13MP</td><td>50MP + 2MP</td><td>Exynos 850</td><td>6000mAh</td><td>6.6 inches</td><td>PKR 60,000</td><td>INR 14,999</td><td>CNY 1,399</td><td>USD 249</td><td>AED 999</td><td>2023</td></tr><tr><td>Samsung</td><td>Galaxy F14 256GB</td><td>198g</td><td>4GB</td><td>13MP</td><td>50MP + 2MP</td><td>Exynos 850</td><td>6000mAh</td><td>6.6 inches</td><td>PKR 70,000</td><td>INR 17,999</td><td>CNY 1,599</td><td>USD 299</td><td>AED 1,099</td><td>2023</td></tr><tr><td>Samsung</td><td>Galaxy Note 20 Ultra 128GB</td><td>208g</td><td>12GB</td><td>10MP</td><td>108MP + 12MP</td><td>Exynos 990</td><td>4500mAh</td><td>6.9 inches</td><td>PKR 180,000</td><td>INR 99,999</td><td>CNY 7,999</td><td>USD 1,299</td><td>AED 4,499</td><td>2020</td></tr><tr><td>Samsung</td><td>Galaxy Note 20 Ultra 256GB</td><td>208g</td><td>12GB</td><td>10MP</td><td>108MP + 12MP</td><td>Exynos 990</td><td>4500mAh</td><td>6.9 inches</td><td>PKR 200,000</td><td>INR 1,04,999</td><td>CNY 8,499</td><td>USD 1,399</td><td>AED 4,999</td><td>2020</td></tr><tr><td>Samsung</td><td>Galaxy Note 20 128GB</td><td>192g</td><td>8GB</td><td>10MP</td><td>108MP + 12MP</td><td>Exynos 990</td><td>4300mAh</td><td>6.7 inches</td><td>PKR 150,000</td><td>INR 77,999</td><td>CNY 6,499</td><td>USD 999</td><td>AED 3,999</td><td>2020</td></tr><tr><td>Samsung</td><td>Galaxy Note 20 256GB</td><td>192g</td><td>8GB</td><td>10MP</td><td>108MP + 12MP</td><td>Exynos 990</td><td>4300mAh</td><td>6.7 inches</td><td>PKR 170,000</td><td>INR 89,999</td><td>CNY 7,099</td><td>USD 1,099</td><td>AED 4,199</td><td>2020</td></tr><tr><td>Samsung</td><td>Galaxy Note 10+ 256GB</td><td>196g</td><td>12GB</td><td>10MP</td><td>12MP + 16MP</td><td>Exynos 9825</td><td>4300mAh</td><td>6.8 inches</td><td>PKR 160,000</td><td>INR 74,999</td><td>CNY 6,299</td><td>USD 1,099</td><td>AED 3,899</td><td>2019</td></tr><tr><td>Samsung</td><td>Galaxy Note 10+ 512GB</td><td>196g</td><td>12GB</td><td>10MP</td><td>12MP + 16MP</td><td>Exynos 9825</td><td>4300mAh</td><td>6.8 inches</td><td>PKR 180,000</td><td>INR 84,999</td><td>CNY 6,999</td><td>USD 1,199</td><td>AED 4,199</td><td>2019</td></tr><tr><td>Samsung</td><td>Galaxy Note 10 256GB</td><td>168g</td><td>8GB</td><td>10MP</td><td>12MP + 16MP</td><td>Exynos 9825</td><td>3500mAh</td><td>6.3 inches</td><td>PKR 140,000</td><td>INR 64,999</td><td>CNY 5,699</td><td>USD 949</td><td>AED 3,699</td><td>2019</td></tr><tr><td>Samsung</td><td>Galaxy Note 10 128GB</td><td>168g</td><td>8GB</td><td>10MP</td><td>12MP + 16MP</td><td>Exynos 9825</td><td>3500mAh</td><td>6.3 inches</td><td>PKR 120,000</td><td>INR 59,999</td><td>CNY 5,199</td><td>USD 899</td><td>AED 3,399</td><td>2019</td></tr><tr><td>Samsung</td><td>Galaxy Xcover 6 Pro 128GB</td><td>235g</td><td>6GB</td><td>13MP</td><td>50MP</td><td>Exynos 1380</td><td>4050mAh</td><td>6.6 inches</td><td>PKR 75,000</td><td>INR 28,999</td><td>CNY 2,299</td><td>USD 499</td><td>AED 1,699</td><td>2022</td></tr><tr><td>Samsung</td><td>Galaxy Xcover 5 64GB</td><td>172g</td><td>4GB</td><td>5MP</td><td>16MP</td><td>Exynos 850</td><td>3000mAh</td><td>5.3 inches</td><td>PKR 50,000</td><td>INR 17,499</td><td>CNY 1,299</td><td>USD 249</td><td>AED 899</td><td>2020</td></tr><tr><td>Samsung</td><td>Galaxy J8 64GB</td><td>191g</td><td>4GB</td><td>16MP</td><td>16MP + 5MP</td><td>Snapdragon 450</td><td>3500mAh</td><td>6.0 inches</td><td>PKR 45,000</td><td>INR 18,990</td><td>CNY 1,699</td><td>USD 199</td><td>AED 799</td><td>2018</td></tr><tr><td>Samsung</td><td>Galaxy J7 Pro 64GB</td><td>181g</td><td>3GB</td><td>13MP</td><td>13MP</td><td>Exynos 7870</td><td>3600mAh</td><td>5.5 inches</td><td>PKR 40,000</td><td>INR 18,990</td><td>CNY 1,599</td><td>USD 179</td><td>AED 699</td><td>2017</td></tr><tr><td>Samsung</td><td>Galaxy J6+ 64GB</td><td>178g</td><td>4GB</td><td>8MP</td><td>13MP + 5MP</td><td>Snapdragon 425</td><td>3300mAh</td><td>6.0 inches</td><td>PKR 40,000</td><td>INR 15,999</td><td>CNY 1,499</td><td>USD 169</td><td>AED 699</td><td>2018</td></tr><tr><td>Samsung</td><td>Galaxy J4 16GB</td><td>175g</td><td>2GB</td><td>5MP</td><td>13MP</td><td>Exynos 7570</td><td>3000mAh</td><td>5.5 inches</td><td>PKR 25,000</td><td>INR 9,990</td><td>CNY 999</td><td>USD 129</td><td>AED 499</td><td>2018</td></tr><tr><td>Samsung</td><td>Galaxy C9 Pro 64GB</td><td>189g</td><td>6GB</td><td>16MP</td><td>16MP + 8MP</td><td>Snapdragon 653</td><td>4000mAh</td><td>6.0 inches</td><td>PKR 65,000</td><td>INR 32,990</td><td>CNY 3,099</td><td>USD 399</td><td>AED 1,299</td><td>2016</td></tr><tr><td>Samsung</td><td>Galaxy C7 Pro 64GB</td><td>165g</td><td>4GB</td><td>16MP</td><td>16MP</td><td>Snapdragon 625</td><td>3300mAh</td><td>5.7 inches</td><td>PKR 50,000</td><td>INR 22,990</td><td>CNY 2,499</td><td>USD 299</td><td>AED 999</td><td>2017</td></tr><tr><td>Samsung</td><td>Galaxy C5 32GB</td><td>143g</td><td>4GB</td><td>8MP</td><td>16MP</td><td>Snapdragon 617</td><td>2600mAh</td><td>5.2 inches</td><td>PKR 40,000</td><td>INR 19,990</td><td>CNY 1,899</td><td>USD 249</td><td>AED 799</td><td>2016</td></tr><tr><td>Samsung</td><td>Galaxy W22 5G 256GB</td><td>228g</td><td>12GB</td><td>10MP</td><td>108MP + 12MP</td><td>Snapdragon 888</td><td>4500mAh</td><td>7.6 inches</td><td>PKR 280,000</td><td>INR 99,999</td><td>CNY 10,999</td><td>USD 1,499</td><td>AED 5,499</td><td>2021</td></tr><tr><td>Samsung</td><td>Galaxy W21 5G 256GB</td><td>229g</td><td>12GB</td><td>10MP</td><td>108MP + 12MP</td><td>Snapdragon 888</td><td>4500mAh</td><td>7.6 inches</td><td>PKR 260,000</td><td>INR 89,999</td><td>CNY 9,999</td><td>USD 1,399</td><td>AED 4,999</td><td>2020</td></tr><tr><td>Samsung</td><td>Galaxy Tab S9 Ultra 256GB</td><td>732g</td><td>12GB</td><td>12MP + 12MP</td><td>13MP + 8MP</td><td>Snapdragon 8 Gen 2</td><td>11200mAh</td><td>14.6 inches</td><td>PKR 350,000</td><td>INR 1,14,999</td><td>CNY 9,999</td><td>USD 1,199</td><td>AED 4,499</td><td>2023</td></tr><tr><td>Samsung</td><td>Galaxy Tab S9+ 256GB</td><td>586g</td><td>12GB</td><td>12MP</td><td>13MP + 8MP</td><td>Snapdragon 8 Gen 2</td><td>10090mAh</td><td>12.4 inches</td><td>PKR 280,000</td><td>INR 99,999</td><td>CNY 8,799</td><td>USD 999</td><td>AED 3,999</td><td>2023</td></tr><tr><td>Samsung</td><td>Galaxy Tab S9 128GB</td><td>498g</td><td>8GB</td><td>12MP</td><td>13MP</td><td>Snapdragon 8 Gen 2</td><td>8400mAh</td><td>11 inches</td><td>PKR 230,000</td><td>INR 85,999</td><td>CNY 7,299</td><td>USD 799</td><td>AED 3,299</td><td>2023</td></tr><tr><td>Samsung</td><td>Galaxy Tab S9 FE 128GB</td><td>523g</td><td>6GB</td><td>12MP</td><td>8MP</td><td>Exynos 1380</td><td>8000mAh</td><td>10.9 inches</td><td>PKR 150,000</td><td>INR 49,999</td><td>CNY 5,499</td><td>USD 549</td><td>AED 1,999</td><td>2023</td></tr><tr><td>Samsung</td><td>Galaxy Tab S8 Ultra 256GB</td><td>726g</td><td>12GB</td><td>12MP + 12MP</td><td>13MP + 6MP</td><td>Snapdragon 8 Gen 1</td><td>11200mAh</td><td>14.6 inches</td><td>PKR 320,000</td><td>INR 1,09,999</td><td>CNY 9,499</td><td>USD 1,099</td><td>AED 4,299</td><td>2022</td></tr><tr><td>Samsung</td><td>Galaxy Tab S8+ 256GB</td><td>567g</td><td>8GB</td><td>12MP</td><td>13MP + 6MP</td><td>Snapdragon 8 Gen 1</td><td>10090mAh</td><td>12.4 inches</td><td>PKR 250,000</td><td>INR 94,999</td><td>CNY 8,299</td><td>USD 899</td><td>AED 3,699</td><td>2022</td></tr><tr><td>Samsung</td><td>Galaxy Tab S8 128GB</td><td>503g</td><td>8GB</td><td>12MP</td><td>13MP + 6MP</td><td>Snapdragon 8 Gen 1</td><td>8000mAh</td><td>11 inches</td><td>PKR 200,000</td><td>INR 74,999</td><td>CNY 6,999</td><td>USD 699</td><td>AED 2,999</td><td>2022</td></tr><tr><td>Samsung</td><td>Galaxy Tab A9+ 128GB</td><td>480g</td><td>8GB</td><td>5MP</td><td>8MP</td><td>Snapdragon 695</td><td>7040mAh</td><td>11 inches</td><td>PKR 100,000</td><td>INR 22,999</td><td>CNY 1,799</td><td>USD 229</td><td>AED 899</td><td>2023</td></tr><tr><td>Samsung</td><td>Galaxy Tab A9 64GB</td><td>366g</td><td>4GB</td><td>2MP</td><td>8MP</td><td>MediaTek Helio G99</td><td>5100mAh</td><td>8.7 inches</td><td>PKR 75,000</td><td>INR 16,999</td><td>CNY 1,299</td><td>USD 179</td><td>AED 699</td><td>2023</td></tr><tr><td>Samsung</td><td>Galaxy Tab A8 64GB</td><td>508g</td><td>4GB</td><td>5MP</td><td>8MP</td><td>Unisoc T618</td><td>7040mAh</td><td>10.5 inches</td><td>PKR 68,000</td><td>INR 17,999</td><td>CNY 1,499</td><td>USD 199</td><td>AED 799</td><td>2022</td></tr><tr><td>Samsung</td><td>Galaxy Tab A7 Lite 32GB</td><td>366g</td><td>3GB</td><td>2MP</td><td>8MP</td><td>MediaTek Helio P22T</td><td>5100mAh</td><td>8.7 inches</td><td>PKR 40,000</td><td>INR 11,999</td><td>CNY 999</td><td>USD 149</td><td>AED 599</td><td>2021</td></tr><tr><td>Samsung</td><td>Galaxy Tab Active 5 128GB</td><td>433g</td><td>6GB</td><td>5MP</td><td>13MP</td><td>Exynos 1380</td><td>5050mAh</td><td>8 inches</td><td>PKR 150,000</td><td>INR 54,999</td><td>CNY 3,699</td><td>USD 549</td><td>AED 2,199</td><td>2024</td></tr><tr><td>Samsung</td><td>Galaxy Tab Active 4 Pro 128GB</td><td>674g</td><td>6GB</td><td>8MP</td><td>13MP</td><td>Snapdragon 778G</td><td>7600mAh</td><td>10.1 inches</td><td>PKR 180,000</td><td>INR 64,999</td><td>CNY 4,299</td><td>USD 649</td><td>AED 2,599</td><td>2022</td></tr><tr><td>Samsung</td><td>Galaxy Tab Active 3 64GB</td><td>426g</td><td>4GB</td><td>5MP</td><td>13MP</td><td>Exynos 9810</td><td>5050mAh</td><td>8 inches</td><td>PKR 120,000</td><td>INR 44,999</td><td>CNY 2,999</td><td>USD 499</td><td>AED 1,899</td><td>2020</td></tr><tr><td>Samsung</td><td>Galaxy Tab E 10.1 16GB</td><td>490g</td><td>1.5GB</td><td>2MP</td><td>5MP</td><td>Spreadtrum SC8830</td><td>5000mAh</td><td>10.1 inches</td><td>PKR 35,000</td><td>INR 9,999</td><td>CNY 899</td><td>USD 129</td><td>AED 499</td><td>2016</td></tr><tr><td>Samsung</td><td>Galaxy Tab E 8.0 16GB</td><td>360g</td><td>1.5GB</td><td>2MP</td><td>5MP</td><td>Qualcomm MSM8916</td><td>5000mAh</td><td>8 inches</td><td>PKR 28,000</td><td>INR 8,499</td><td>CNY 799</td><td>USD 99</td><td>AED 399</td><td>2016</td></tr><tr><td>OnePlus</td><td>OnePlus 12 256GB</td><td>205g</td><td>12GB</td><td>32MP</td><td>50MP + 48MP</td><td>Snapdragon 8 Gen 3</td><td>5000mAh</td><td>6.7 inches</td><td>PKR 219,999</td><td>INR 74,999</td><td>CNY 5,999</td><td>USD 799</td><td>AED 3,199</td><td>2024</td></tr><tr><td>OnePlus</td><td>OnePlus 12R 256GB</td><td>203g</td><td>12GB</td><td>16MP</td><td>50MP + 8MP</td><td>Snapdragon 8 Gen 2</td><td>4500mAh</td><td>6.7 inches</td><td>PKR 169,999</td><td>INR 49,999</td><td>CNY 4,299</td><td>USD 699</td><td>AED 2,599</td><td>2024</td></tr><tr><td>OnePlus</td><td>OnePlus 11 256GB</td><td>205g</td><td>12GB</td><td>16MP</td><td>50MP + 48MP</td><td>Snapdragon 8 Gen 1</td><td>5000mAh</td><td>6.7 inches</td><td>PKR 179,999</td><td>INR 54,999</td><td>CNY 4,999</td><td>USD 699</td><td>AED 2,799</td><td>2023</td></tr><tr><td>OnePlus</td><td>OnePlus 11R 256GB</td><td>202g</td><td>12GB</td><td>16MP</td><td>50MP + 8MP</td><td>Snapdragon 8 Gen 1</td><td>5000mAh</td><td>6.7 inches</td><td>PKR 159,999</td><td>INR 44,999</td><td>CNY 3,799</td><td>USD 599</td><td>AED 2,499</td><td>2023</td></tr><tr><td>OnePlus</td><td>OnePlus Nord 3 256GB</td><td>190g</td><td>12GB</td><td>16MP</td><td>50MP + 8MP</td><td>MediaTek Dimensity 9000</td><td>5000mAh</td><td>6.74 inches</td><td>PKR 119,999</td><td>INR 34,999</td><td>CNY 3,499</td><td>USD 499</td><td>AED 1,999</td><td>2023</td></tr><tr><td>OnePlus</td><td>OnePlus Nord CE 3 128GB</td><td>179g</td><td>8GB</td><td>16MP</td><td>50MP + 2MP</td><td>Snapdragon 782G</td><td>5000mAh</td><td>6.72 inches</td><td>PKR 85,000</td><td>INR 22,999</td><td>CNY 2,799</td><td>USD 399</td><td>AED 1,499</td><td>2023</td></tr><tr><td>OnePlus</td><td>OnePlus Nord CE 3 Lite 128GB</td><td>195g</td><td>8GB</td><td>16MP</td><td>108MP</td><td>Snapdragon 695</td><td>5000mAh</td><td>6.72 inches</td><td>PKR 59,999</td><td>INR 17,999</td><td>CNY 2,099</td><td>USD 299</td><td>AED 1,199</td><td>2023</td></tr><tr><td>OnePlus</td><td>OnePlus Nord N30 5G 128GB</td><td>192g</td><td>8GB</td><td>16MP</td><td>64MP + 2MP</td><td>MediaTek Dimensity 6020</td><td>5000mAh</td><td>6.72 inches</td><td>PKR 55,000</td><td>INR 16,999</td><td>CNY 1,999</td><td>USD 249</td><td>AED 999</td><td>2023</td></tr><tr><td>OnePlus</td><td>OnePlus Open 256GB</td><td>238g</td><td>16GB</td><td>32MP</td><td>48MP + 48MP</td><td>Snapdragon 8 Gen 2</td><td>4800mAh</td><td>7.8 inches</td><td>PKR 299,999</td><td>INR 74,999</td><td>CNY 6,999</td><td>USD 1,099</td><td>AED 4,299</td><td>2024</td></tr><tr><td>OnePlus</td><td>OnePlus 10 Pro 256GB</td><td>200g</td><td>12GB</td><td>32MP</td><td>50MP + 48MP</td><td>Snapdragon 8 Gen 1</td><td>5000mAh</td><td>6.7 inches</td><td>PKR 199,999</td><td>INR 64,999</td><td>CNY 4,999</td><td>USD 899</td><td>AED 3,299</td><td>2022</td></tr><tr><td>OnePlus</td><td>OnePlus 10T 256GB</td><td>203g</td><td>12GB</td><td>16MP</td><td>50MP + 8MP</td><td>Snapdragon 8+ Gen 1</td><td>4500mAh</td><td>6.7 inches</td><td>PKR 179,999</td><td>INR 54,999</td><td>CNY 4,699</td><td>USD 749</td><td>AED 2,899</td><td>2022</td></tr><tr><td>OnePlus</td><td>OnePlus 9 Pro 256GB</td><td>192g</td><td>12GB</td><td>16MP</td><td>48MP + 50MP</td><td>Snapdragon 888</td><td>4500mAh</td><td>6.7 inches</td><td>PKR 179,999</td><td>INR 59,999</td><td>CNY 4,199</td><td>USD 699</td><td>AED 2,799</td><td>2021</td></tr><tr><td>OnePlus</td><td>OnePlus 9 128GB</td><td>183g</td><td>8GB</td><td>16MP</td><td>48MP + 50MP</td><td>Snapdragon 888</td><td>4500mAh</td><td>6.55 inches</td><td>PKR 149,999</td><td>INR 39,999</td><td>CNY 3,699</td><td>USD 599</td><td>AED 2,299</td><td>2021</td></tr><tr><td>OnePlus</td><td>OnePlus 11 Pro 256GB</td><td>204g</td><td>16GB</td><td>32MP</td><td>50MP + 48MP</td><td>Snapdragon 8 Gen 2</td><td>5000mAh</td><td>6.7 inches</td><td>PKR 219,999</td><td>INR 74,999</td><td>CNY 6,399</td><td>USD 899</td><td>AED 3,599</td><td>2023</td></tr><tr><td>OnePlus</td><td>OnePlus Nord 2T 128GB</td><td>190g</td><td>8GB</td><td>32MP</td><td>50MP + 8MP</td><td>MediaTek Dimensity 1300</td><td>4500mAh</td><td>6.43 inches</td><td>PKR 69,999</td><td>INR 28,999</td><td>CNY 2,499</td><td>USD 399</td><td>AED 1,699</td><td>2022</td></tr><tr><td>OnePlus</td><td>OnePlus Nord 2 128GB</td><td>190g</td><td>8GB</td><td>32MP</td><td>50MP + 8MP</td><td>MediaTek Dimensity 1200-AI</td><td>4500mAh</td><td>6.43 inches</td><td>PKR 59,999</td><td>INR 27,999</td><td>CNY 2,299</td><td>USD 349</td><td>AED 1,499</td><td>2021</td></tr><tr><td>OnePlus</td><td>OnePlus Nord N200 64GB</td><td>189g</td><td>4GB</td><td>16MP</td><td>13MP + 2MP</td><td>Snapdragon 480</td><td>5000mAh</td><td>6.49 inches</td><td>PKR 39,999</td><td>INR 15,999</td><td>CNY 1,199</td><td>USD 199</td><td>AED 799</td><td>2021</td></tr><tr><td>OnePlus</td><td>OnePlus Nord N100 64GB</td><td>185g</td><td>4GB</td><td>8MP</td><td>13MP + 2MP</td><td>Qualcomm Snapdragon 460</td><td>5000mAh</td><td>6.52 inches</td><td>PKR 29,999</td><td>INR 12,999</td><td>CNY 1,099</td><td>USD 179</td><td>AED 699</td><td>2020</td></tr><tr><td>OnePlus</td><td>OnePlus 8T Cyberpunk 2077 Edition 256GB</td><td>188g</td><td>12GB</td><td>16MP</td><td>48MP + 16MP</td><td>Snapdragon 865</td><td>4500mAh</td><td>6.55 inches</td><td>PKR 139,999</td><td>INR 45,999</td><td>CNY 3,699</td><td>USD 749</td><td>AED 2,999</td><td>2020</td></tr><tr><td>OnePlus</td><td>OnePlus 9T 128GB</td><td>192g</td><td>8GB</td><td>16MP</td><td>48MP + 50MP</td><td>Snapdragon 888</td><td>4500mAh</td><td>6.55 inches</td><td>PKR 159,999</td><td>INR 49,999</td><td>CNY 4,199</td><td>USD 649</td><td>AED 2,799</td><td>2021</td></tr><tr><td>OnePlus</td><td>OnePlus 8T 256GB</td><td>188g</td><td>12GB</td><td>16MP</td><td>48MP + 16MP</td><td>Snapdragon 865</td><td>4500mAh</td><td>6.55 inches</td><td>PKR 119,999</td><td>INR 42,999</td><td>CNY 3,499</td><td>USD 599</td><td>AED 2,499</td><td>2020</td></tr><tr><td>OnePlus</td><td>OnePlus 10T 5G 256GB</td><td>203g</td><td>12GB</td><td>16MP</td><td>50MP + 8MP</td><td>Snapdragon 8+ Gen 1</td><td>4500mAh</td><td>6.7 inches</td><td>PKR 179,999</td><td>INR 54,999</td><td>CNY 4,699</td><td>USD 749</td><td>AED 2,899</td><td>2022</td></tr><tr><td>OnePlus</td><td>OnePlus 9R 5G 128GB</td><td>189g</td><td>8GB</td><td>16MP</td><td>48MP + 5MP</td><td>Snapdragon 870</td><td>4500mAh</td><td>6.55 inches</td><td>PKR 159,999</td><td>INR 39,999</td><td>CNY 3,499</td><td>USD 599</td><td>AED 2,499</td><td>2021</td></tr><tr><td>OnePlus</td><td>OnePlus 8 Pro 256GB</td><td>199g</td><td>12GB</td><td>16MP</td><td>48MP + 48MP</td><td>Snapdragon 865</td><td>4510mAh</td><td>6.78 inches</td><td>PKR 159,999</td><td>INR 54,999</td><td>CNY 4,999</td><td>USD 749</td><td>AED 2,999</td><td>2020</td></tr><tr><td>OnePlus</td><td>OnePlus 8 128GB</td><td>180g</td><td>8GB</td><td>16MP</td><td>48MP + 16MP</td><td>Snapdragon 865</td><td>4300mAh</td><td>6.55 inches</td><td>PKR 119,999</td><td>INR 41,999</td><td>CNY 3,499</td><td>USD 699</td><td>AED 2,499</td><td>2020</td></tr><tr><td>OnePlus</td><td>OnePlus Nord CE 2 Lite 128GB</td><td>195g</td><td>6GB</td><td>16MP</td><td>64MP + 2MP</td><td>MediaTek Dimensity 900</td><td>5000mAh</td><td>6.59 inches</td><td>PKR 49,999</td><td>INR 19,999</td><td>CNY 1,799</td><td>USD 249</td><td>AED 999</td><td>2022</td></tr><tr><td>OnePlus</td><td>OnePlus Nord CE 2 128GB</td><td>173g</td><td>8GB</td><td>16MP</td><td>64MP + 8MP</td><td>MediaTek Dimensity 1200</td><td>4500mAh</td><td>6.43 inches</td><td>PKR 64,999</td><td>INR 23,999</td><td>CNY 2,499</td><td>USD 299</td><td>AED 1,299</td><td>2022</td></tr><tr><td>OnePlus</td><td>OnePlus Nord 1 128GB</td><td>184g</td><td>6GB</td><td>16MP</td><td>48MP + 5MP</td><td>Snapdragon 765G</td><td>4115mAh</td><td>6.44 inches</td><td>PKR 49,999</td><td>INR 22,999</td><td>CNY 2,099</td><td>USD 349</td><td>AED 1,499</td><td>2020</td></tr><tr><td>OnePlus</td><td>OnePlus Nord CE 5G 128GB</td><td>170g</td><td>6GB</td><td>16MP</td><td>64MP + 8MP</td><td>Snapdragon 750G</td><td>4500mAh</td><td>6.43 inches</td><td>PKR 54,999</td><td>INR 24,999</td><td>CNY 2,499</td><td>USD 299</td><td>AED 1,499</td><td>2021</td></tr><tr><td>OnePlus</td><td>OnePlus Nord 2 5G 128GB</td><td>189g</td><td>8GB</td><td>32MP</td><td>50MP + 8MP</td><td>MediaTek Dimensity 1200-AI</td><td>4500mAh</td><td>6.43 inches</td><td>PKR 69,999</td><td>INR 27,999</td><td>CNY 2,499</td><td>USD 399</td><td>AED 1,699</td><td>2021</td></tr><tr><td>OnePlus</td><td>OnePlus Nord N100 5G 64GB</td><td>185g</td><td>4GB</td><td>8MP</td><td>13MP + 2MP</td><td>Qualcomm Snapdragon 460</td><td>5000mAh</td><td>6.52 inches</td><td>PKR 29,999</td><td>INR 12,999</td><td>CNY 1,099</td><td>USD 179</td><td>AED 699</td><td>2020</td></tr><tr><td>OnePlus</td><td>OnePlus Nord N10 5G 128GB</td><td>190g</td><td>6GB</td><td>16MP</td><td>64MP + 8MP</td><td>Qualcomm Snapdragon 690</td><td>4300mAh</td><td>6.49 inches</td><td>PKR 49,999</td><td>INR 19,999</td><td>CNY 1,799</td><td>USD 299</td><td>AED 1,099</td><td>2020</td></tr><tr><td>OnePlus</td><td>OnePlus 8R 128GB</td><td>192g</td><td>8GB</td><td>16MP</td><td>48MP + 5MP</td><td>Snapdragon 865</td><td>4300mAh</td><td>6.55 inches</td><td>PKR 119,999</td><td>INR 41,999</td><td>CNY 3,499</td><td>USD 649</td><td>AED 2,499</td><td>2020</td></tr><tr><td>OnePlus</td><td>OnePlus 7R 128GB</td><td>190g</td><td>6GB</td><td>16MP</td><td>48MP + 5MP</td><td>Snapdragon 855</td><td>3700mAh</td><td>6.41 inches</td><td>PKR 109,999</td><td>INR 38,999</td><td>CNY 3,199</td><td>USD 599</td><td>AED 2,399</td><td>2020</td></tr><tr><td>OnePlus</td><td>OnePlus 6T McLaren Edition 256GB</td><td>185g</td><td>10GB</td><td>16MP</td><td>20MP + 16MP</td><td>Snapdragon 845</td><td>3700mAh</td><td>6.41 inches</td><td>PKR 149,999</td><td>INR 50,999</td><td>CNY 4,699</td><td>USD 799</td><td>AED 3,299</td><td>2018</td></tr><tr><td>OnePlus</td><td>OnePlus 5T Star Wars Edition 128GB</td><td>162g</td><td>6GB</td><td>16MP</td><td>16MP + 20MP</td><td>Snapdragon 835</td><td>3300mAh</td><td>6.01 inches</td><td>PKR 89,999</td><td>INR 34,999</td><td>CNY 3,499</td><td>USD 649</td><td>AED 2,499</td><td>2017</td></tr><tr><td>OnePlus</td><td>OnePlus 13R 128GB</td><td>210g</td><td>8GB</td><td>16MP</td><td>50MP + 8MP</td><td>Snapdragon 8 Gen 2</td><td>4500mAh</td><td>6.7 inches</td><td>PKR 219,999</td><td>INR 74,999</td><td>CNY 6,499</td><td>USD 849</td><td>AED 3,599</td><td>2023</td></tr><tr><td>OnePlus</td><td>OnePlus 11T 128GB</td><td>202g</td><td>12GB</td><td>32MP</td><td>50MP + 48MP</td><td>Snapdragon 8 Gen 2</td><td>5000mAh</td><td>6.7 inches</td><td>PKR 199,999</td><td>INR 74,999</td><td>CNY 5,999</td><td>USD 799</td><td>AED 3,499</td><td>2023</td></tr><tr><td>OnePlus</td><td>OnePlus 10R 128GB</td><td>205g</td><td>8GB</td><td>16MP</td><td>50MP + 16MP</td><td>MediaTek Dimensity 8100</td><td>4500mAh</td><td>6.7 inches</td><td>PKR 169,999</td><td>INR 49,999</td><td>CNY 3,899</td><td>USD 599</td><td>AED 2,499</td><td>2022</td></tr><tr><td>OnePlus</td><td>OnePlus 7 Pro 5G 256GB</td><td>206g</td><td>12GB</td><td>16MP</td><td>48MP + 8MP</td><td>Snapdragon 855</td><td>4000mAh</td><td>6.67 inches</td><td>PKR 169,999</td><td>INR 59,999</td><td>CNY 4,699</td><td>USD 799</td><td>AED 3,299</td><td>2019</td></tr><tr><td>OnePlus</td><td>OnePlus 6 Special Edition 128GB</td><td>177g</td><td>6GB</td><td>16MP</td><td>20MP + 16MP</td><td>Snapdragon 845</td><td>3300mAh</td><td>6.28 inches</td><td>PKR 99,999</td><td>INR 37,999</td><td>CNY 3,499</td><td>USD 599</td><td>AED 2,499</td><td>2018</td></tr><tr><td>OnePlus</td><td>OnePlus 5 Special Edition 128GB</td><td>155g</td><td>8GB</td><td>16MP</td><td>20MP + 16MP</td><td>Snapdragon 835</td><td>3300mAh</td><td>5.5 inches</td><td>PKR 94,999</td><td>INR 36,999</td><td>CNY 3,299</td><td>USD 599</td><td>AED 2,399</td><td>2017</td></tr><tr><td>OnePlus</td><td>OnePlus Nord X 128GB</td><td>190g</td><td>8GB</td><td>32MP</td><td>64MP + 8MP</td><td>Snapdragon 765G</td><td>4000mAh</td><td>6.44 inches</td><td>PKR 69,999</td><td>INR 24,999</td><td>CNY 2,499</td><td>USD 299</td><td>AED 1,299</td><td>2020</td></tr><tr><td>OnePlus</td><td>OnePlus 8 Pro McLaren Edition 256GB</td><td>199g</td><td>12GB</td><td>16MP</td><td>48MP + 8MP</td><td>Snapdragon 865</td><td>4510mAh</td><td>6.78 inches</td><td>PKR 169,999</td><td>INR 59,999</td><td>CNY 4,999</td><td>USD 899</td><td>AED 3,599</td><td>2020</td></tr><tr><td>OnePlus</td><td>OnePlus 8T Cyberpunk Edition 256GB</td><td>188g</td><td>12GB</td><td>16MP</td><td>48MP + 16MP</td><td>Snapdragon 865</td><td>4500mAh</td><td>6.55 inches</td><td>PKR 169,999</td><td>INR 58,999</td><td>CNY 4,699</td><td>USD 799</td><td>AED 3,299</td><td>2020</td></tr><tr><td>OnePlus</td><td>OnePlus 7T Pro 5G McLaren Edition 256GB</td><td>206g</td><td>12GB</td><td>16MP</td><td>48MP + 8MP</td><td>Snapdragon 855</td><td>4085mAh</td><td>6.67 inches</td><td>PKR 179,999</td><td>INR 69,999</td><td>CNY 5,299</td><td>USD 899</td><td>AED 3,799</td><td>2019</td></tr><tr><td>OnePlus</td><td>OnePlus 15R 128GB</td><td>210g</td><td>12GB</td><td>32MP</td><td>50MP + 8MP</td><td>Snapdragon 8 Gen 3</td><td>5000mAh</td><td>6.7 inches</td><td>PKR 229,999</td><td>INR 74,999</td><td>CNY 6,499</td><td>USD 849</td><td>AED 3,699</td><td>2023</td></tr><tr><td>OnePlus</td><td>OnePlus 14+ 128GB</td><td>202g</td><td>8GB</td><td>16MP</td><td>64MP + 8MP</td><td>Snapdragon 8 Gen 2</td><td>4800mAh</td><td>6.55 inches</td><td>PKR 199,999</td><td>INR 69,999</td><td>CNY 5,999</td><td>USD 799</td><td>AED 3,499</td><td>2023</td></tr><tr><td>OnePlus</td><td>OnePlus 13 Pro 256GB</td><td>215g</td><td>12GB</td><td>32MP</td><td>50MP + 48MP</td><td>Snapdragon 8 Gen 2</td><td>5000mAh</td><td>6.7 inches</td><td>PKR 219,999</td><td>INR 74,999</td><td>CNY 6,199</td><td>USD 899</td><td>AED 3,799</td><td>2023</td></tr><tr><td>OnePlus</td><td>OnePlus 12T 5G 256GB</td><td>200g</td><td>12GB</td><td>16MP</td><td>50MP + 8MP</td><td>Snapdragon 8 Gen 2</td><td>5000mAh</td><td>6.7 inches</td><td>PKR 219,999</td><td>INR 74,999</td><td>CNY 5,899</td><td>USD 849</td><td>AED 3,599</td><td>2023</td></tr><tr><td>OnePlus</td><td>OnePlus Pad</td><td>550g</td><td>8GB</td><td>8MP</td><td>13MP</td><td>MediaTek Dimensity 9000</td><td>9510mAh</td><td>11.61 inches</td><td>PKR 94,999</td><td>INR 39,999</td><td>CNY 3,999</td><td>USD 499</td><td>AED 1,799</td><td>2023</td></tr><tr><td>OnePlus</td><td>OnePlus Pad 2</td><td>550g</td><td>8GB</td><td>8MP</td><td>13MP</td><td>MediaTek Dimensity 9000</td><td>9510mAh</td><td>11.61 inches</td><td>PKR 104,999</td><td>INR 44,999</td><td>CNY 4,499</td><td>USD 549</td><td>AED 1,999</td><td>2024</td></tr><tr><td>OnePlus</td><td>OnePlus Pad Pro</td><td>610g</td><td>12GB</td><td>16MP</td><td>50MP</td><td>Snapdragon 8 Gen 3</td><td>11000mAh</td><td>12.4 inches</td><td>PKR 169,999</td><td>INR 69,999</td><td>CNY 5,999</td><td>USD 799</td><td>AED 2,599</td><td>2024</td></tr><tr><td>Vivo</td><td>X200 128GB</td><td>223g</td><td>12GB</td><td>32MP</td><td>50MP</td><td>Dimensity 9400</td><td>6000mAh</td><td>6.78 inches</td><td>PKR 199,999</td><td>INR 119,999</td><td>CNY 6,999</td><td>USD 999</td><td>AED 3,699</td><td>2024</td></tr><tr><td>Vivo</td><td>X200 256GB</td><td>223g</td><td>12GB</td><td>32MP</td><td>50MP</td><td>Dimensity 9400</td><td>6000mAh</td><td>6.78 inches</td><td>PKR 219,999</td><td>INR 129,999</td><td>CNY 7,499</td><td>USD 1,099</td><td>AED 3,999</td><td>2024</td></tr><tr><td>Vivo</td><td>X200 Pro 256GB</td><td>223g</td><td>16GB</td><td>32MP</td><td>200MP</td><td>Dimensity 9400</td><td>6000mAh</td><td>6.78 inches</td><td>PKR 229,999</td><td>INR 139,999</td><td>CNY 7,999</td><td>USD 1,199</td><td>AED 4,399</td><td>2024</td></tr><tr><td>Vivo</td><td>X200 Pro 512GB</td><td>223g</td><td>16GB</td><td>32MP</td><td>200MP</td><td>Dimensity 9400</td><td>6000mAh</td><td>6.78 inches</td><td>PKR 249,999</td><td>INR 149,999</td><td>CNY 8,499</td><td>USD 1,299</td><td>AED 4,699</td><td>2024</td></tr><tr><td>Vivo</td><td>X200 Pro Mini 256GB</td><td>187g</td><td>16GB</td><td>32MP</td><td>50MP</td><td>Dimensity 9400</td><td>5700mAh</td><td>6.31 inches</td><td>PKR 189,999</td><td>INR 109,999</td><td>CNY 6,499</td><td>USD 949</td><td>AED 3,499</td><td>2024</td></tr><tr><td>Vivo</td><td>V40e 128GB</td><td>179g</td><td>8GB</td><td>44MP</td><td>64MP</td><td>Snapdragon 778G</td><td>4100mAh</td><td>6.44 inches</td><td>PKR 79,999</td><td>INR 44,999</td><td>CNY 2,999</td><td>USD 449</td><td>AED 1,649</td><td>2024</td></tr><tr><td>Vivo</td><td>Y200 GT 128GB</td><td>190g</td><td>12GB</td><td>16MP</td><td>64MP</td><td>Dimensity 1200</td><td>5000mAh</td><td>6.58 inches</td><td>PKR 69,999</td><td>INR 39,999</td><td>CNY 2,499</td><td>USD 399</td><td>AED 1,499</td><td>2024</td></tr><tr><td>Vivo</td><td>T3 5G 128GB</td><td>180g</td><td>8GB</td><td>16MP</td><td>50MP</td><td>Snapdragon 870</td><td>5000mAh</td><td>6.67 inches</td><td>PKR 59,999</td><td>INR 34,999</td><td>CNY 2,299</td><td>USD 349</td><td>AED 1,299</td><td>2024</td></tr><tr><td>Vivo</td><td>Y100 5G 128GB</td><td>181g</td><td>8GB</td><td>16MP</td><td>64MP</td><td>Dimensity 900</td><td>4500mAh</td><td>6.38 inches</td><td>PKR 54,999</td><td>INR 29,999</td><td>CNY 1,999</td><td>USD 299</td><td>AED 1,099</td><td>2024</td></tr><tr><td>Vivo</td><td>S18 Pro 256GB</td><td>189g</td><td>12GB</td><td>32MP</td><td>108MP</td><td>Snapdragon 8 Gen 2</td><td>4700mAh</td><td>6.56 inches</td><td>PKR 99,999</td><td>INR 59,999</td><td>CNY 3,999</td><td>USD 599</td><td>AED 2,199</td><td>2024</td></tr><tr><td>Vivo</td><td>V30 Pro 128GB</td><td>192g</td><td>12GB</td><td>32MP</td><td>64MP</td><td>Dimensity 1100</td><td>4500mAh</td><td>6.44 inches</td><td>PKR 89,999</td><td>INR 49,999</td><td>CNY 3,499</td><td>USD 549</td><td>AED 1,999</td><td>2024</td></tr><tr><td>Vivo</td><td>iQOO 12 256GB</td><td>210g</td><td>16GB</td><td>16MP</td><td>50MP</td><td>Snapdragon 8 Gen 3</td><td>5000mAh</td><td>6.78 inches</td><td>PKR 109,999</td><td>INR 64,999</td><td>CNY 4,499</td><td>USD 699</td><td>AED 2,599</td><td>2024</td></tr><tr><td>Vivo</td><td>Z3 64GB</td><td>162g</td><td>6GB</td><td>12MP</td><td>16MP</td><td>Snapdragon 710</td><td>3315mAh</td><td>6.3 inches</td><td>PKR 39,999</td><td>INR 22,999</td><td>CNY 1,699</td><td>USD 249</td><td>AED 899</td><td>2018</td></tr><tr><td>Vivo</td><td>V9 64GB</td><td>150g</td><td>4GB</td><td>24MP</td><td>16MP</td><td>Snapdragon 626</td><td>3260mAh</td><td>6.3 inches</td><td>PKR 34,999</td><td>INR 19,999</td><td>CNY 1,499</td><td>USD 219</td><td>AED 799</td><td>2018</td></tr><tr><td>Vivo</td><td>X9 Plus 128GB</td><td>199g</td><td>6GB</td><td>20MP+8MP</td><td>16MP</td><td>Snapdragon 653</td><td>4000mAh</td><td>5.88 inches</td><td>PKR 42,999</td><td>INR 24,999</td><td>CNY 2,199</td><td>USD 299</td><td>AED 1,099</td><td>2017</td></tr><tr><td>Vivo</td><td>Y81 32GB</td><td>146g</td><td>3GB</td><td>5MP</td><td>13MP</td><td>MediaTek Helio P22</td><td>3260mAh</td><td>6.22 inches</td><td>PKR 22,999</td><td>INR 12,999</td><td>CNY 999</td><td>USD 149</td><td>AED 549</td><td>2018</td></tr><tr><td>Vivo</td><td>X5Max 16GB</td><td>146g</td><td>2GB</td><td>5MP</td><td>13MP</td><td>Snapdragon 615</td><td>2300mAh</td><td>5.5 inches</td><td>PKR 29,999</td><td>INR 16,999</td><td>CNY 1,299</td><td>USD 199</td><td>AED 699</td><td>2014</td></tr><tr><td>Vivo</td><td>V5 Plus 64GB</td><td>158g</td><td>4GB</td><td>20MP+8MP</td><td>16MP</td><td>Snapdragon 625</td><td>3055mAh</td><td>5.5 inches</td><td>PKR 39,999</td><td>INR 22,999</td><td>CNY 1,699</td><td>USD 249</td><td>AED 899</td><td>2017</td></tr><tr><td>Vivo</td><td>Y95 64GB</td><td>163g</td><td>4GB</td><td>20MP</td><td>13MP+2MP</td><td>Snapdragon 439</td><td>4030mAh</td><td>6.22 inches</td><td>PKR 29,999</td><td>INR 16,999</td><td>CNY 1,299</td><td>USD 199</td><td>AED 699</td><td>2018</td></tr><tr><td>Vivo</td><td>V3 Max 32GB</td><td>168g</td><td>4GB</td><td>8MP</td><td>13MP</td><td>Snapdragon 652</td><td>3000mAh</td><td>5.5 inches</td><td>PKR 24,999</td><td>INR 13,999</td><td>CNY 1,199</td><td>USD 179</td><td>AED 649</td><td>2016</td></tr><tr><td>Vivo</td><td>X3S 16GB</td><td>153g</td><td>1GB</td><td>5MP</td><td>13MP</td><td>MediaTek MT6592</td><td>2000mAh</td><td>5.0 inches</td><td>PKR 19,999</td><td>INR 10,999</td><td>CNY 899</td><td>USD 139</td><td>AED 499</td><td>2014</td></tr><tr><td>Vivo</td><td>Y66 32GB</td><td>155g</td><td>3GB</td><td>16MP</td><td>13MP</td><td>Snapdragon 430</td><td>3000mAh</td><td>5.5 inches</td><td>PKR 27,999</td><td>INR 14,999</td><td>CNY 1,199</td><td>USD 179</td><td>AED 649</td><td>2017</td></tr><tr><td>Vivo</td><td>V19 128GB</td><td>176g</td><td>8GB</td><td>32MP</td><td>48MP</td><td>Qualcomm Snapdragon 712</td><td>4500mAh</td><td>6.44 inches</td><td>PKR 49,999</td><td>INR 27,990</td><td>CNY 2,799</td><td>USD 399</td><td>AED 1,499</td><td>2020</td></tr><tr><td>Vivo</td><td>V19 256GB</td><td>176g</td><td>8GB</td><td>32MP</td><td>48MP</td><td>Qualcomm Snapdragon 712</td><td>4500mAh</td><td>6.44 inches</td><td>PKR 54,999</td><td>INR 31,990</td><td>CNY 3,199</td><td>USD 429</td><td>AED 1,599</td><td>2020</td></tr><tr><td>Vivo</td><td>V17 Pro 128GB</td><td>201g</td><td>8GB</td><td>32MP</td><td>48MP</td><td>Qualcomm Snapdragon 675</td><td>4100mAh</td><td>6.44 inches</td><td>PKR 54,999</td><td>INR 27,990</td><td>CNY 2,999</td><td>USD 399</td><td>AED 1,499</td><td>2019</td></tr><tr><td>Vivo</td><td>V17 Pro 256GB</td><td>201g</td><td>8GB</td><td>32MP</td><td>48MP</td><td>Qualcomm Snapdragon 675</td><td>4100mAh</td><td>6.44 inches</td><td>PKR 59,999</td><td>INR 33,990</td><td>CNY 3,199</td><td>USD 429</td><td>AED 1,599</td><td>2019</td></tr><tr><td>Vivo</td><td>Y12s 64GB</td><td>191g</td><td>3GB</td><td>8MP</td><td>13MP</td><td>MediaTek Helio P35</td><td>5000mAh</td><td>6.51 inches</td><td>PKR 18,999</td><td>INR 10,990</td><td>CNY 899</td><td>USD 159</td><td>AED 599</td><td>2020</td></tr><tr><td>Vivo</td><td>Y12s 128GB</td><td>191g</td><td>4GB</td><td>8MP</td><td>13MP</td><td>MediaTek Helio P35</td><td>5000mAh</td><td>6.51 inches</td><td>PKR 22,999</td><td>INR 13,990</td><td>CNY 1,099</td><td>USD 179</td><td>AED 699</td><td>2020</td></tr><tr><td>Vivo</td><td>S1 Pro 128GB</td><td>185g</td><td>6GB</td><td>32MP</td><td>48MP</td><td>MediaTek Helio P65</td><td>4500mAh</td><td>6.38 inches</td><td>PKR 39,999</td><td>INR 19,990</td><td>CNY 2,299</td><td>USD 249</td><td>AED 999</td><td>2019</td></tr><tr><td>Vivo</td><td>S1 Pro 256GB</td><td>185g</td><td>6GB</td><td>32MP</td><td>48MP</td><td>MediaTek Helio P65</td><td>4500mAh</td><td>6.38 inches</td><td>PKR 44,999</td><td>INR 24,990</td><td>CNY 2,499</td><td>USD 269</td><td>AED 1,099</td><td>2019</td></tr><tr><td>Vivo</td><td>Y11 32GB</td><td>190g</td><td>3GB</td><td>8MP</td><td>13MP</td><td>Qualcomm Snapdragon 439</td><td>5000mAh</td><td>6.35 inches</td><td>PKR 18,499</td><td>INR 10,999</td><td>CNY 899</td><td>USD 149</td><td>AED 599</td><td>2019</td></tr><tr><td>Vivo</td><td>Y11 64GB</td><td>190g</td><td>3GB</td><td>8MP</td><td>13MP</td><td>Qualcomm Snapdragon 439</td><td>5000mAh</td><td>6.35 inches</td><td>PKR 22,499</td><td>INR 13,490</td><td>CNY 1,099</td><td>USD 169</td><td>AED 649</td><td>2019</td></tr><tr><td>Vivo</td><td>V15 128GB</td><td>190g</td><td>6GB</td><td>32MP</td><td>48MP</td><td>MediaTek Helio P70</td><td>4000mAh</td><td>6.53 inches</td><td>PKR 34,999</td><td>INR 22,990</td><td>CNY 2,199</td><td>USD 299</td><td>AED 1,099</td><td>2019</td></tr><tr><td>Vivo</td><td>V15 256GB</td><td>190g</td><td>6GB</td><td>32MP</td><td>48MP</td><td>MediaTek Helio P70</td><td>4000mAh</td><td>6.53 inches</td><td>PKR 39,999</td><td>INR 26,990</td><td>CNY 2,399</td><td>USD 319</td><td>AED 1,199</td><td>2019</td></tr><tr><td>Vivo</td><td>X27 Pro 128GB</td><td>190g</td><td>8GB</td><td>32MP</td><td>48MP</td><td>Qualcomm Snapdragon 710</td><td>4000mAh</td><td>6.39 inches</td><td>PKR 59,999</td><td>INR 35,990</td><td>CNY 3,499</td><td>USD 499</td><td>AED 1,799</td><td>2019</td></tr><tr><td>Vivo</td><td>X27 Pro 256GB</td><td>190g</td><td>8GB</td><td>32MP</td><td>48MP</td><td>Qualcomm Snapdragon 710</td><td>4000mAh</td><td>6.39 inches</td><td>PKR 64,999</td><td>INR 39,990</td><td>CNY 3,799</td><td>USD 549</td><td>AED 1,999</td><td>2019</td></tr><tr><td>Vivo</td><td>Y30 128GB</td><td>193g</td><td>4GB</td><td>8MP</td><td>13MP</td><td>MediaTek Helio P35</td><td>5000mAh</td><td>6.47 inches</td><td>PKR 24,999</td><td>INR 14,990</td><td>CNY 1,499</td><td>USD 199</td><td>AED 749</td><td>2020</td></tr><tr><td>Vivo</td><td>Y30 64GB</td><td>193g</td><td>3GB</td><td>8MP</td><td>13MP</td><td>MediaTek Helio P35</td><td>5000mAh</td><td>6.47 inches</td><td>PKR 19,999</td><td>INR 11,990</td><td>CNY 1,299</td><td>USD 169</td><td>AED 649</td><td>2020</td></tr><tr><td>Vivo</td><td>Z1 Pro 64GB</td><td>159g</td><td>4GB</td><td>16MP</td><td>16MP</td><td>Qualcomm Snapdragon 712</td><td>4500mAh</td><td>6.53 inches</td><td>PKR 29,999</td><td>INR 18,990</td><td>CNY 1,799</td><td>USD 249</td><td>AED 899</td><td>2019</td></tr><tr><td>Vivo</td><td>Z1 Pro 128GB</td><td>159g</td><td>6GB</td><td>16MP</td><td>16MP</td><td>Qualcomm Snapdragon 712</td><td>4500mAh</td><td>6.53 inches</td><td>PKR 34,999</td><td>INR 22,990</td><td>CNY 2,099</td><td>USD 299</td><td>AED 999</td><td>2019</td></tr><tr><td>Vivo</td><td>X21 128GB</td><td>156g</td><td>6GB</td><td>12MP</td><td>12MP</td><td>Qualcomm Snapdragon 660</td><td>3200mAh</td><td>6.28 inches</td><td>PKR 39,999</td><td>INR 24,990</td><td>CNY 2,299</td><td>USD 349</td><td>AED 1,199</td><td>2018</td></tr><tr><td>Vivo</td><td>X21 64GB</td><td>156g</td><td>4GB</td><td>12MP</td><td>12MP</td><td>Qualcomm Snapdragon 660</td><td>3200mAh</td><td>6.28 inches</td><td>PKR 34,999</td><td>INR 21,990</td><td>CNY 1,899</td><td>USD 299</td><td>AED 999</td><td>2018</td></tr><tr><td>Vivo</td><td>V23e 128GB</td><td>172g</td><td>8GB</td><td>50MP</td><td>64MP</td><td>MediaTek Helio G96</td><td>4050mAh</td><td>6.44 inches</td><td>PKR 39,999</td><td>INR 20,999</td><td>CNY 1,799</td><td>USD 299</td><td>AED 1,099</td><td>2021</td></tr><tr><td>Vivo</td><td>V23e 256GB</td><td>172g</td><td>8GB</td><td>50MP</td><td>64MP</td><td>MediaTek Helio G96</td><td>4050mAh</td><td>6.44 inches</td><td>PKR 44,999</td><td>INR 24,999</td><td>CNY 1,999</td><td>USD 349</td><td>AED 1,199</td><td>2021</td></tr><tr><td>Vivo</td><td>Y33s 128GB</td><td>182g</td><td>8GB</td><td>16MP</td><td>50MP</td><td>MediaTek Helio G80</td><td>5000mAh</td><td>6.58 inches</td><td>PKR 34,999</td><td>INR 17,999</td><td>CNY 1,699</td><td>USD 239</td><td>AED 899</td><td>2021</td></tr><tr><td>Vivo</td><td>Y33s 64GB</td><td>182g</td><td>4GB</td><td>16MP</td><td>50MP</td><td>MediaTek Helio G80</td><td>5000mAh</td><td>6.58 inches</td><td>PKR 29,999</td><td>INR 14,999</td><td>CNY 1,299</td><td>USD 179</td><td>AED 799</td><td>2021</td></tr><tr><td>Vivo</td><td>X60 Pro 256GB</td><td>190g</td><td>12GB</td><td>32MP</td><td>48MP</td><td>Qualcomm Snapdragon 870</td><td>4200mAh</td><td>6.56 inches</td><td>PKR 109,999</td><td>INR 44,999</td><td>CNY 3,999</td><td>USD 899</td><td>AED 1,999</td><td>2021</td></tr><tr><td>Vivo</td><td>X60 Pro 512GB</td><td>190g</td><td>12GB</td><td>32MP</td><td>48MP</td><td>Qualcomm Snapdragon 870</td><td>4200mAh</td><td>6.56 inches</td><td>PKR 119,999</td><td>INR 49,999</td><td>CNY 4,199</td><td>USD 999</td><td>AED 2,099</td><td>2021</td></tr><tr><td>Vivo</td><td>V20 Pro 128GB</td><td>173g</td><td>8GB</td><td>44MP</td><td>64MP</td><td>Qualcomm Snapdragon 765G</td><td>4000mAh</td><td>6.44 inches</td><td>PKR 49,999</td><td>INR 25,999</td><td>CNY 2,699</td><td>USD 499</td><td>AED 1,499</td><td>2020</td></tr><tr><td>Vivo</td><td>V20 Pro 256GB</td><td>173g</td><td>8GB</td><td>44MP</td><td>64MP</td><td>Qualcomm Snapdragon 765G</td><td>4000mAh</td><td>6.44 inches</td><td>PKR 54,999</td><td>INR 29,999</td><td>CNY 2,999</td><td>USD 549</td><td>AED 1,699</td><td>2020</td></tr><tr><td>Vivo</td><td>Y75 5G 128GB</td><td>179g</td><td>8GB</td><td>16MP</td><td>50MP</td><td>MediaTek Dimensity 700</td><td>5000mAh</td><td>6.58 inches</td><td>PKR 54,999</td><td>INR 21,999</td><td>CNY 2,199</td><td>USD 349</td><td>AED 1,299</td><td>2021</td></tr><tr><td>Vivo</td><td>Y75 5G 256GB</td><td>179g</td><td>8GB</td><td>16MP</td><td>50MP</td><td>MediaTek Dimensity 700</td><td>5000mAh</td><td>6.58 inches</td><td>PKR 59,999</td><td>INR 25,999</td><td>CNY 2,499</td><td>USD 399</td><td>AED 1,499</td><td>2021</td></tr><tr><td>Vivo</td><td>Y53s 128GB</td><td>190g</td><td>6GB</td><td>16MP</td><td>64MP</td><td>MediaTek Helio G80</td><td>5000mAh</td><td>6.58 inches</td><td>PKR 34,999</td><td>INR 16,999</td><td>CNY 1,699</td><td>USD 229</td><td>AED 899</td><td>2021</td></tr><tr><td>Vivo</td><td>Y53s 64GB</td><td>190g</td><td>6GB</td><td>16MP</td><td>64MP</td><td>MediaTek Helio G80</td><td>5000mAh</td><td>6.58 inches</td><td>PKR 29,999</td><td>INR 13,999</td><td>CNY 1,299</td><td>USD 179</td><td>AED 799</td><td>2021</td></tr><tr><td>Vivo</td><td>V15 Pro 128GB</td><td>185g</td><td>6GB</td><td>32MP</td><td>48MP</td><td>Qualcomm Snapdragon 675</td><td>3700mAh</td><td>6.39 inches</td><td>PKR 44,999</td><td>INR 25,999</td><td>CNY 2,499</td><td>USD 399</td><td>AED 1,499</td><td>2019</td></tr><tr><td>Vivo</td><td>V15 Pro 256GB</td><td>185g</td><td>6GB</td><td>32MP</td><td>48MP</td><td>Qualcomm Snapdragon 675</td><td>3700mAh</td><td>6.39 inches</td><td>PKR 49,999</td><td>INR 29,999</td><td>CNY 2,799</td><td>USD 449</td><td>AED 1,699</td><td>2019</td></tr><tr><td>Vivo</td><td>X70 Pro 128GB</td><td>185g</td><td>8GB</td><td>32MP</td><td>50MP</td><td>MediaTek Dimensity 1200</td><td>4450mAh</td><td>6.56 inches</td><td>PKR 99,999</td><td>INR 39,999</td><td>CNY 4,299</td><td>USD 749</td><td>AED 2,099</td><td>2021</td></tr><tr><td>Vivo</td><td>X70 Pro 256GB</td><td>185g</td><td>8GB</td><td>32MP</td><td>50MP</td><td>MediaTek Dimensity 1200</td><td>4450mAh</td><td>6.56 inches</td><td>PKR 109,999</td><td>INR 44,999</td><td>CNY 4,699</td><td>USD 799</td><td>AED 2,299</td><td>2021</td></tr><tr><td>Vivo</td><td>T1 5G 128GB</td><td>181g</td><td>6GB</td><td>16MP</td><td>50MP</td><td>Qualcomm Snapdragon 695</td><td>5000mAh</td><td>6.58 inches</td><td>PKR 39,999</td><td>INR 17,999</td><td>CNY 1,799</td><td>USD 269</td><td>AED 999</td><td>2022</td></tr><tr><td>Vivo</td><td>T1 5G 256GB</td><td>181g</td><td>8GB</td><td>16MP</td><td>50MP</td><td>Qualcomm Snapdragon 695</td><td>5000mAh</td><td>6.58 inches</td><td>PKR 44,999</td><td>INR 21,999</td><td>CNY 1,999</td><td>USD 319</td><td>AED 1,099</td><td>2022</td></tr><tr><td>Vivo</td><td>X30 Pro 128GB</td><td>199g</td><td>8GB</td><td>32MP</td><td>64MP</td><td>Qualcomm Snapdragon 855</td><td>4200mAh</td><td>6.44 inches</td><td>PKR 109,999</td><td>INR 47,999</td><td>CNY 4,599</td><td>USD 899</td><td>AED 2,299</td><td>2019</td></tr><tr><td>Vivo</td><td>X30 Pro 256GB</td><td>199g</td><td>8GB</td><td>32MP</td><td>64MP</td><td>Qualcomm Snapdragon 855</td><td>4200mAh</td><td>6.44 inches</td><td>PKR 119,999</td><td>INR 54,999</td><td>CNY 5,199</td><td>USD 949</td><td>AED 2,499</td><td>2019</td></tr><tr><td>Vivo</td><td>V27 128GB</td><td>182g</td><td>8GB</td><td>50MP</td><td>50MP</td><td>MediaTek Dimensity 8200</td><td>4600mAh</td><td>6.78 inches</td><td>PKR 79,999</td><td>INR 29,999</td><td>CNY 2,999</td><td>USD 599</td><td>AED 1,699</td><td>2023</td></tr><tr><td>Vivo</td><td>V27 256GB</td><td>182g</td><td>8GB</td><td>50MP</td><td>50MP</td><td>MediaTek Dimensity 8200</td><td>4600mAh</td><td>6.78 inches</td><td>PKR 84,999</td><td>INR 32,999</td><td>CNY 3,199</td><td>USD 649</td><td>AED 1,899</td><td>2023</td></tr><tr><td>Vivo</td><td>V27 Pro 128GB</td><td>182g</td><td>8GB</td><td>50MP</td><td>50MP</td><td>MediaTek Dimensity 8200</td><td>4600mAh</td><td>6.78 inches</td><td>PKR 89,999</td><td>INR 34,999</td><td>CNY 3,299</td><td>USD 699</td><td>AED 1,899</td><td>2023</td></tr><tr><td>Vivo</td><td>V27 Pro 256GB</td><td>182g</td><td>8GB</td><td>50MP</td><td>50MP</td><td>MediaTek Dimensity 8200</td><td>4600mAh</td><td>6.78 inches</td><td>PKR 94,999</td><td>INR 37,999</td><td>CNY 3,499</td><td>USD 749</td><td>AED 2,099</td><td>2023</td></tr><tr><td>Vivo</td><td>V25 Pro 128GB</td><td>190g</td><td>8GB</td><td>32MP</td><td>64MP</td><td>MediaTek Dimensity 1300</td><td>4830mAh</td><td>6.56 inches</td><td>PKR 79,999</td><td>INR 25,999</td><td>CNY 2,799</td><td>USD 599</td><td>AED 1,599</td><td>2022</td></tr><tr><td>Vivo</td><td>V25 Pro 256GB</td><td>190g</td><td>8GB</td><td>32MP</td><td>64MP</td><td>MediaTek Dimensity 1300</td><td>4830mAh</td><td>6.56 inches</td><td>PKR 85,999</td><td>INR 29,999</td><td>CNY 2,999</td><td>USD 649</td><td>AED 1,799</td><td>2022</td></tr><tr><td>Vivo</td><td>X90 Pro 256GB</td><td>221g</td><td>12GB</td><td>32MP</td><td>50MP</td><td>MediaTek Dimensity 9200</td><td>4870mAh</td><td>6.78 inches</td><td>PKR 199,999</td><td>INR 69,999</td><td>CNY 6,999</td><td>USD 1,099</td><td>AED 3,999</td><td>2022</td></tr><tr><td>Vivo</td><td>X90 Pro 512GB</td><td>221g</td><td>12GB</td><td>32MP</td><td>50MP</td><td>MediaTek Dimensity 9200</td><td>4870mAh</td><td>6.78 inches</td><td>PKR 229,999</td><td>INR 79,999</td><td>CNY 7,499</td><td>USD 1,199</td><td>AED 4,499</td><td>2022</td></tr><tr><td>Vivo</td><td>Y100 128GB</td><td>190g</td><td>8GB</td><td>16MP</td><td>64MP</td><td>MediaTek Dimensity 900</td><td>4500mAh</td><td>6.44 inches</td><td>PKR 59,999</td><td>INR 19,999</td><td>CNY 1,999</td><td>USD 399</td><td>AED 1,199</td><td>2023</td></tr><tr><td>Vivo</td><td>Y100 256GB</td><td>190g</td><td>8GB</td><td>16MP</td><td>64MP</td><td>MediaTek Dimensity 900</td><td>4500mAh</td><td>6.44 inches</td><td>PKR 64,999</td><td>INR 22,999</td><td>CNY 2,199</td><td>USD 449</td><td>AED 1,399</td><td>2023</td></tr><tr><td>Vivo</td><td>T2 Series 128GB</td><td>190g</td><td>8GB</td><td>16MP</td><td>64MP</td><td>Qualcomm Snapdragon 695</td><td>4500mAh</td><td>6.44 inches</td><td>PKR 49,999</td><td>INR 15,999</td><td>CNY 1,699</td><td>USD 299</td><td>AED 999</td><td>2023</td></tr><tr><td>Vivo</td><td>T2 Series 256GB</td><td>190g</td><td>8GB</td><td>16MP</td><td>64MP</td><td>Qualcomm Snapdragon 695</td><td>4500mAh</td><td>6.44 inches</td><td>PKR 54,999</td><td>INR 18,999</td><td>CNY 1,799</td><td>USD 349</td><td>AED 1,099</td><td>2023</td></tr><tr><td>Vivo</td><td>V23 5G 128GB</td><td>179g</td><td>8GB</td><td>50MP</td><td>64MP</td><td>MediaTek Dimensity 920</td><td>4200mAh</td><td>6.44 inches</td><td>PKR 69,999</td><td>INR 27,999</td><td>CNY 2,799</td><td>USD 499</td><td>AED 1,499</td><td>2022</td></tr><tr><td>Vivo</td><td>V23 5G 256GB</td><td>179g</td><td>8GB</td><td>50MP</td><td>64MP</td><td>MediaTek Dimensity 920</td><td>4200mAh</td><td>6.44 inches</td><td>PKR 74,999</td><td>INR 32,999</td><td>CNY 3,199</td><td>USD 549</td><td>AED 1,699</td><td>2022</td></tr><tr><td>Vivo</td><td>X80 256GB</td><td>206g</td><td>12GB</td><td>32MP</td><td>50MP</td><td>MediaTek Dimensity 9000</td><td>4700mAh</td><td>6.78 inches</td><td>PKR 179,999</td><td>INR 59,999</td><td>CNY 5,999</td><td>USD 899</td><td>AED 3,499</td><td>2022</td></tr><tr><td>Vivo</td><td>X80 512GB</td><td>206g</td><td>12GB</td><td>32MP</td><td>50MP</td><td>MediaTek Dimensity 9000</td><td>4700mAh</td><td>6.78 inches</td><td>PKR 199,999</td><td>INR 69,999</td><td>CNY 6,499</td><td>USD 999</td><td>AED 3,999</td><td>2022</td></tr><tr><td>Vivo</td><td>Y21 128GB</td><td>182g</td><td>4GB</td><td>8MP</td><td>13MP</td><td>MediaTek Helio P35</td><td>5000mAh</td><td>6.51 inches</td><td>PKR 29,999</td><td>INR 12,999</td><td>CNY 1,299</td><td>USD 199</td><td>AED 699</td><td>2021</td></tr><tr><td>Vivo</td><td>Y21 64GB</td><td>182g</td><td>4GB</td><td>8MP</td><td>13MP</td><td>MediaTek Helio P35</td><td>5000mAh</td><td>6.51 inches</td><td>PKR 26,999</td><td>INR 9,999</td><td>CNY 1,099</td><td>USD 179</td><td>AED 599</td><td>2021</td></tr><tr><td>Vivo</td><td>Pad 128GB</td><td>498g</td><td>6GB</td><td>8MP</td><td>13MP</td><td>Snapdragon 870</td><td>8040mAh</td><td>11 inches</td><td>PKR 64,999</td><td>INR 34,999</td><td>CNY 2,499</td><td>USD 329</td><td>AED 1,199</td><td>2022</td></tr><tr><td>Vivo</td><td>Pad 2 256GB</td><td>535g</td><td>8GB</td><td>8MP</td><td>50MP</td><td>MediaTek Dimensity 1200</td><td>8040mAh</td><td>11 inches</td><td>PKR 74,999</td><td>INR 39,999</td><td>CNY 3,199</td><td>USD 399</td><td>AED 1,399</td><td>2023</td></tr><tr><td>Vivo</td><td>Pad Air 128GB</td><td>510g</td><td>6GB</td><td>8MP</td><td>13MP</td><td>Snapdragon 870</td><td>8040mAh</td><td>10.4 inches</td><td>PKR 58,999</td><td>INR 31,999</td><td>CNY 2,199</td><td>USD 279</td><td>AED 999</td><td>2023</td></tr><tr><td>Vivo</td><td>Pad 3 128GB</td><td>500g</td><td>6GB</td><td>8MP</td><td>13MP</td><td>Snapdragon 750G</td><td>8040mAh</td><td>11 inches</td><td>PKR 62,999</td><td>INR 34,999</td><td>CNY 2,399</td><td>USD 349</td><td>AED 1,199</td><td>2023</td></tr><tr><td>Vivo</td><td>Pad 3 Pro 256GB</td><td>550g</td><td>8GB</td><td>8MP</td><td>50MP</td><td>Snapdragon 888</td><td>8040mAh</td><td>12.3 inches</td><td>PKR 84,999</td><td>INR 45,999</td><td>CNY 3,599</td><td>USD 449</td><td>AED 1,599</td><td>2023</td></tr><tr><td>Vivo</td><td>Pad 4 Pro 256GB</td><td>560g</td><td>8GB</td><td>8MP</td><td>50MP</td><td>MediaTek Dimensity 9000</td><td>8040mAh</td><td>12.9 inches</td><td>PKR 94,999</td><td>INR 49,999</td><td>CNY 4,299</td><td>USD 499</td><td>AED 1,799</td><td>2024</td></tr><tr><td>iQOO</td><td>Pad 128GB</td><td>520g</td><td>6GB</td><td>8MP</td><td>13MP</td><td>Snapdragon 870</td><td>8040mAh</td><td>11 inches</td><td>PKR 69,999</td><td>INR 37,999</td><td>CNY 2,699</td><td>USD 349</td><td>AED 1,299</td><td>2023</td></tr><tr><td>iQOO</td><td>Pad 2 256GB</td><td>540g</td><td>8GB</td><td>8MP</td><td>50MP</td><td>Snapdragon 888</td><td>8040mAh</td><td>12.3 inches</td><td>PKR 79,999</td><td>INR 43,999</td><td>CNY 3,499</td><td>USD 399</td><td>AED 1,499</td><td>2024</td></tr><tr><td>iQOO</td><td>Pad 2 Pro 256GB</td><td>555g</td><td>8GB</td><td>8MP</td><td>50MP</td><td>Snapdragon 8 Gen 1</td><td>8040mAh</td><td>12.3 inches</td><td>PKR 89,999</td><td>INR 49,999</td><td>CNY 3,899</td><td>USD 449</td><td>AED 1,699</td><td>2024</td></tr><tr><td>Oppo</td><td>Find N3 512GB</td><td>239g</td><td>12GB</td><td>32MP</td><td>48MP + 64MP + 48MP</td><td>Snapdragon 8 Gen 2</td><td>4805mAh</td><td>7.82 inches</td><td>PKR 299,999</td><td>INR 159,999</td><td>CNY 9,999</td><td>USD 1,399</td><td>AED 5,199</td><td>2023</td></tr><tr><td>Oppo</td><td>Find N3 Flip 256GB</td><td>198g</td><td>12GB</td><td>32MP</td><td>50MP + 32MP + 48MP</td><td>MediaTek Dimensity 9200</td><td>4300mAh</td><td>6.8 inches</td><td>PKR 199,999</td><td>INR 109,999</td><td>CNY 6,999</td><td>USD 999</td><td>AED 3,699</td><td>2023</td></tr><tr><td>Oppo</td><td>Find X8 Pro 256GB</td><td>210g</td><td>12GB</td><td>32MP</td><td>50MP + 50MP + 50MP</td><td>Snapdragon 8 Gen 2</td><td>5000mAh</td><td>6.8 inches</td><td>PKR 249,999</td><td>INR 139,999</td><td>CNY 8,999</td><td>USD 1,299</td><td>AED 4,799</td><td>2024</td></tr><tr><td>Oppo</td><td>Find X8 256GB</td><td>195g</td><td>8GB</td><td>32MP</td><td>50MP + 50MP</td><td>Snapdragon 8 Gen 2</td><td>4800mAh</td><td>6.7 inches</td><td>PKR 199,999</td><td>INR 119,999</td><td>CNY 7,499</td><td>USD 1,099</td><td>AED 4,099</td><td>2024</td></tr><tr><td>Oppo</td><td>Reno13 F 4G 256GB</td><td>192g</td><td>8GB</td><td>32MP</td><td>50MP + 8MP + 2MP</td><td>MediaTek Helio G100</td><td>5800mAh</td><td>6.67 inches</td><td>PKR 79,999</td><td>INR 44,999</td><td>CNY 3,499</td><td>USD 499</td><td>AED 1,899</td><td>2025</td></tr><tr><td>Oppo</td><td>Reno13 F 256GB</td><td>192g</td><td>8GB</td><td>32MP</td><td>50MP + 8MP + 2MP</td><td>MediaTek Helio G100</td><td>5800mAh</td><td>6.67 inches</td><td>PKR 79,999</td><td>INR 44,999</td><td>CNY 3,499</td><td>USD 499</td><td>AED 1,899</td><td>2025</td></tr><tr><td>Oppo</td><td>Reno13 Pro 512GB</td><td>210g</td><td>12GB</td><td>50MP</td><td>50MP + 50MP + 8MP</td><td>MediaTek Dimensity 8350</td><td>5800mAh</td><td>6.83 inches</td><td>PKR 129,999</td><td>INR 69,999</td><td>CNY 5,999</td><td>USD 799</td><td>AED 2,999</td><td>2025</td></tr><tr><td>Oppo</td><td>Reno13 256GB</td><td>200g</td><td>12GB</td><td>50MP</td><td>50MP + 8MP</td><td>MediaTek Dimensity 8350</td><td>5600mAh</td><td>6.59 inches</td><td>PKR 99,999</td><td>INR 54,999</td><td>CNY 4,999</td><td>USD 699</td><td>AED 2,599</td><td>2025</td></tr><tr><td>Oppo</td><td>Reno12 F 4G 256GB</td><td>187g</td><td>8GB</td><td>32MP</td><td>50MP + 8MP + 2MP</td><td>Snapdragon 685</td><td>5000mAh</td><td>6.7 inches</td><td>PKR 69,999</td><td>INR 39,999</td><td>CNY 3,199</td><td>USD 449</td><td>AED 1,699</td><td>2024</td></tr><tr><td>Oppo</td><td>Reno12 F 256GB</td><td>187g</td><td>8GB</td><td>32MP</td><td>50MP + 8MP + 2MP</td><td>Snapdragon 685</td><td>5000mAh</td><td>6.7 inches</td><td>PKR 69,999</td><td>INR 39,999</td><td>CNY 3,199</td><td>USD 449</td><td>AED 1,699</td><td>2024</td></tr><tr><td>Oppo</td><td>Reno12 Pro 512GB</td><td>190g</td><td>12GB</td><td>32MP</td><td>50MP + 32MP + 8MP</td><td>MediaTek Dimensity 8200</td><td>4600mAh</td><td>6.74 inches</td><td>PKR 119,999</td><td>INR 64,999</td><td>CNY 5,499</td><td>USD 749</td><td>AED 2,799</td><td>2024</td></tr><tr><td>Oppo</td><td>Reno12 256GB</td><td>185g</td><td>8GB</td><td>32MP</td><td>50MP + 8MP</td><td>MediaTek Dimensity 7050</td><td>5000mAh</td><td>6.7 inches</td><td>PKR 89,999</td><td>INR 49,999</td><td>CNY 3,999</td><td>USD 599</td><td>AED 2,199</td><td>2024</td></tr><tr><td>Oppo</td><td>Reno11 F 256GB</td><td>185g</td><td>8GB</td><td>32MP</td><td>64MP + 8MP + 2MP</td><td>MediaTek Dimensity 7050</td><td>5000mAh</td><td>6.7 inches</td><td>PKR 79,999</td><td>INR 44,999</td><td>CNY 3,499</td><td>USD 499</td><td>AED 1,899</td><td>2024</td></tr><tr><td>Oppo</td><td>Reno11 Pro 512GB</td><td>190g</td><td>12GB</td><td>32MP</td><td>50MP + 32MP + 8MP</td><td>MediaTek Dimensity 8200</td><td>4600mAh</td><td>6.74 inches</td><td>PKR 109,999</td><td>INR 59,999</td><td>CNY 4,999</td><td>USD 699</td><td>AED 2,599</td><td>2024</td></tr><tr><td>Oppo</td><td>A5 Pro 256GB</td><td>180g</td><td>8GB</td><td>16MP</td><td>50MP + 2MP</td><td>Dimensity 7300</td><td>6000mAh</td><td>6.7 inches</td><td>PKR 89,999</td><td>INR 49,999</td><td>CNY 3,999</td><td>USD 599</td><td>AED 2,199</td><td>2024</td></tr><tr><td>Oppo</td><td>A5 Pro 512GB</td><td>186g</td><td>12GB</td><td>16MP</td><td>50MP + 2MP</td><td>Dimensity 7300</td><td>6000mAh</td><td>6.7 inches</td><td>PKR 99,999</td><td>INR 54,999</td><td>CNY 4,499</td><td>USD 699</td><td>AED 2,499</td><td>2024</td></tr><tr><td>Oppo</td><td>A80 256GB</td><td>186g</td><td>8GB</td><td>8MP</td><td>50MP + 2MP</td><td>Dimensity 6300</td><td>5100mAh</td><td>6.67 inches</td><td>PKR 79,999</td><td>INR 44,999</td><td>CNY 3,499</td><td>USD 499</td><td>AED 1,899</td><td>2024</td></tr><tr><td>Oppo</td><td>A3 4G 128GB</td><td>186g</td><td>4GB</td><td>5MP</td><td>50MP</td><td>Snapdragon 6s 4G Gen 1</td><td>5000mAh</td><td>6.7 inches</td><td>PKR 59,999</td><td>INR 34,999</td><td>CNY 2,999</td><td>USD 399</td><td>AED 1,499</td><td>2024</td></tr><tr><td>Oppo</td><td>A3x 4G 128GB</td><td>186g</td><td>4GB</td><td>8MP</td><td>8MP + 2MP</td><td>Snapdragon 6s 4G Gen 1</td><td>5100mAh</td><td>6.67 inches</td><td>PKR 64,999</td><td>INR 36,999</td><td>CNY 3,199</td><td>USD 449</td><td>AED 1,699</td><td>2024</td></tr><tr><td>Oppo</td><td>A3x 4G 256GB</td><td>186g</td><td>6GB</td><td>8MP</td><td>8MP + 2MP</td><td>Snapdragon 6s 4G Gen 1</td><td>5100mAh</td><td>6.67 inches</td><td>PKR 69,999</td><td>INR 39,999</td><td>CNY 3,499</td><td>USD 499</td><td>AED 1,899</td><td>2024</td></tr><tr><td>Oppo</td><td>A3 128GB</td><td>186g</td><td>4GB</td><td>5MP</td><td>50MP</td><td>Snapdragon 6s 4G Gen 1</td><td>5000mAh</td><td>6.7 inches</td><td>PKR 59,999</td><td>INR 34,999</td><td>CNY 2,999</td><td>USD 399</td><td>AED 1,499</td><td>2024</td></tr><tr><td>Oppo</td><td>A3x 128GB</td><td>186g</td><td>4GB</td><td>8MP</td><td>8MP + 2MP</td><td>Snapdragon 6s 4G Gen 1</td><td>5100mAh</td><td>6.67 inches</td><td>PKR 64,999</td><td>INR 36,999</td><td>CNY 3,199</td><td>USD 449</td><td>AED 1,699</td><td>2024</td></tr><tr><td>Oppo</td><td>A3x 256GB</td><td>186g</td><td>6GB</td><td>8MP</td><td>8MP + 2MP</td><td>Snapdragon 6s 4G Gen 1</td><td>5100mAh</td><td>6.67 inches</td><td>PKR 69,999</td><td>INR 39,999</td><td>CNY 3,499</td><td>USD 499</td><td>AED 1,899</td><td>2024</td></tr><tr><td>Oppo</td><td>A3 128GB</td><td>186g</td><td>4GB</td><td>5MP</td><td>50MP</td><td>Snapdragon 6s 4G Gen 1</td><td>5000mAh</td><td>6.7 inches</td><td>PKR 59,999</td><td>INR 34,999</td><td>CNY 2,999</td><td>USD 399</td><td>AED 1,499</td><td>2024</td></tr><tr><td>Oppo</td><td>A60 128GB</td><td>186g</td><td>8GB</td><td>8MP</td><td>50MP + 2MP</td><td>Snapdragon 680 4G</td><td>5000mAh</td><td>6.67 inches</td><td>PKR 69,999</td><td>INR 39,999</td><td>CNY 3,199</td><td>USD 449</td><td>AED 1,699</td><td>2024</td></tr><tr><td>Oppo</td><td>A60 256GB</td><td>186g</td><td>8GB</td><td>8MP</td><td>50MP + 2MP</td><td>Snapdragon 680 4G</td><td>5000mAh</td><td>6.67 inches</td><td>PKR 74,999</td><td>INR 42,999</td><td>CNY 3,499</td><td>USD 499</td><td>AED 1,899</td><td>2024</td></tr><tr><td>Oppo</td><td>K12 Plus 256GB</td><td>192g</td><td>8GB</td><td>16MP</td><td>50MP</td><td>Snapdragon 7 Gen 3</td><td>6400mAh</td><td>6.7 inches</td><td>PKR 109,999</td><td>INR 59,999</td><td>CNY 4,999</td><td>USD 699</td><td>AED 2,599</td><td>2024</td></tr><tr><td>Oppo</td><td>K12 Plus 512GB</td><td>192g</td><td>12GB</td><td>16MP</td><td>50MP</td><td>Snapdragon 7 Gen 3</td><td>6400mAh</td><td>6.7 inches</td><td>PKR 119,999</td><td>INR 64,999</td><td>CNY 5,499</td><td>USD 799</td><td>AED 2,999</td><td>2024</td></tr><tr><td>Oppo</td><td>F27 128GB</td><td>175g</td><td>8GB</td><td>32MP</td><td>64MP + 2MP</td><td>Dimensity 7050</td><td>5000mAh</td><td>6.7 inches</td><td>PKR 79,999</td><td>INR 44,999</td><td>CNY 3,499</td><td>USD 499</td><td>AED 1,899</td><td>2024</td></tr><tr><td>Oppo</td><td>F27 256GB</td><td>175g</td><td>8GB</td><td>32MP</td><td>64MP + 2MP</td><td>Dimensity 7050</td><td>5000mAh</td><td>6.7 inches</td><td>PKR 84,999</td><td>INR 47,999</td><td>CNY 3,799</td><td>USD 549</td><td>AED 2,099</td><td>2024</td></tr><tr><td>Oppo</td><td>F27 Pro+ 256GB</td><td>177g</td><td>8GB</td><td>32MP</td><td>64MP + 2MP</td><td>Dimensity 7050</td><td>5000mAh</td><td>6.7 inches</td><td>PKR 89,999</td><td>INR 49,999</td><td>CNY 3,999</td><td>USD 599</td><td>AED 2,199</td><td>2024</td></tr><tr><td>Oppo</td><td>F27 Pro+ 512GB</td><td>177g</td><td>12GB</td><td>32MP</td><td>64MP + 2MP</td><td>Dimensity 7050</td><td>5000mAh</td><td>6.7 inches</td><td>PKR 99,999</td><td>INR 54,999</td><td>CNY 4,499</td><td>USD 699</td><td>AED 2,499</td><td>2024</td></tr><tr><td>Oppo</td><td>F25 Pro 128GB</td><td>173g</td><td>8GB</td><td>32MP</td><td>64MP + 2MP</td><td>Snapdragon 778G</td><td>4500mAh</td><td>6.55 inches</td><td>PKR 74,999</td><td>INR 42,999</td><td>CNY 3,499</td><td>USD 549</td><td>AED 1,999</td><td>2023</td></tr><tr><td>Oppo</td><td>F25 Pro 256GB</td><td>173g</td><td>8GB</td><td>32MP</td><td>64MP + 2MP</td><td>Snapdragon 778G</td><td>4500mAh</td><td>6.55 inches</td><td>PKR 79,999</td><td>INR 44,999</td><td>CNY 3,799</td><td>USD 599</td><td>AED 2,199</td><td>2023</td></tr><tr><td>Oppo</td><td>Pad 3 128GB</td><td>533g</td><td>8GB</td><td>8MP</td><td>13MP</td><td>Dimensity 8350</td><td>9510mAh</td><td>11.6 inches</td><td>PKR 99,999</td><td>INR 54,999</td><td>CNY 4,499</td><td>USD 699</td><td>AED 2,499</td><td>2024</td></tr><tr><td>Oppo</td><td>Pad 3 256GB</td><td>533g</td><td>12GB</td><td>8MP</td><td>13MP</td><td>Dimensity 8350</td><td>9510mAh</td><td>11.6 inches</td><td>PKR 109,999</td><td>INR 59,999</td><td>CNY 4,999</td><td>USD 799</td><td>AED 2,799</td><td>2024</td></tr><tr><td>Oppo</td><td>Pad 3 Pro 256GB</td><td>586g</td><td>12GB</td><td>8MP</td><td>13MP</td><td>Snapdragon 8 Gen 3</td><td>9510mAh</td><td>12.1 inches</td><td>PKR 119,999</td><td>INR 64,999</td><td>CNY 5,499</td><td>USD 899</td><td>AED 3,299</td><td>2024</td></tr><tr><td>Oppo</td><td>Pad 3 Pro 512GB</td><td>586g</td><td>16GB</td><td>8MP</td><td>13MP</td><td>Snapdragon 8 Gen 3</td><td>9510mAh</td><td>12.1 inches</td><td>PKR 129,999</td><td>INR 69,999</td><td>CNY 5,999</td><td>USD 999</td><td>AED 3,699</td><td>2024</td></tr><tr><td>Oppo</td><td>Pad Neo 128GB</td><td>520g</td><td>6GB</td><td>8MP</td><td>13MP</td><td>Snapdragon 870</td><td>8360mAh</td><td>11 inches</td><td>PKR 79,999</td><td>INR 44,999</td><td>CNY 3,499</td><td>USD 499</td><td>AED 1,899</td><td>2023</td></tr><tr><td>Oppo</td><td>Pad Neo 256GB</td><td>520g</td><td>8GB</td><td>8MP</td><td>13MP</td><td>Snapdragon 870</td><td>8360mAh</td><td>11 inches</td><td>PKR 89,999</td><td>INR 49,999</td><td>CNY 3,999</td><td>USD 599</td><td>AED 2,199</td><td>2023</td></tr><tr><td>Oppo</td><td>Find X7 Ultra 256GB</td><td>221g</td><td>12GB</td><td>32MP</td><td>50MP + 50MP + 50MP</td><td>Snapdragon 8 Gen 3</td><td>5000mAh</td><td>6.82 inches</td><td>PKR 199,999</td><td>INR 109,999</td><td>CNY 7,999</td><td>USD 1,199</td><td>AED 4,399</td><td>2024</td></tr><tr><td>Oppo</td><td>Find X7 Ultra 512GB</td><td>221g</td><td>16GB</td><td>32MP</td><td>50MP + 50MP + 50MP</td><td>Snapdragon 8 Gen 3</td><td>5000mAh</td><td>6.82 inches</td><td>PKR 219,999</td><td>INR 119,999</td><td>CNY 8,999</td><td>USD 1,299</td><td>AED 4,799</td><td>2024</td></tr><tr><td>Oppo</td><td>Find X7 256GB</td><td>206g</td><td>12GB</td><td>32MP</td><td>50MP + 50MP + 64MP</td><td>Dimensity 9300</td><td>5000mAh</td><td>6.78 inches</td><td>PKR 179,999</td><td>INR 99,999</td><td>CNY 6,999</td><td>USD 1,099</td><td>AED 3,999</td><td>2024</td></tr><tr><td>Oppo</td><td>Find X7 512GB</td><td>206g</td><td>16GB</td><td>32MP</td><td>50MP + 50MP + 64MP</td><td>Dimensity 9300</td><td>5000mAh</td><td>6.78 inches</td><td>PKR 199,999</td><td>INR 109,999</td><td>CNY 7,999</td><td>USD 1,199</td><td>AED 4,399</td><td>2024</td></tr><tr><td>Oppo</td><td>Find X6 Pro 256GB</td><td>218g</td><td>12GB</td><td>32MP</td><td>50MP + 50MP + 50MP</td><td>Snapdragon 8 Gen 2</td><td>5000mAh</td><td>6.82 inches</td><td>PKR 169,999</td><td>INR 94,999</td><td>CNY 6,499</td><td>USD 999</td><td>AED 3,699</td><td>2023</td></tr><tr><td>Oppo</td><td>Find X6 Pro 512GB</td><td>218g</td><td>16GB</td><td>32MP</td><td>50MP + 50MP + 50MP</td><td>Snapdragon 8 Gen 2</td><td>5000mAh</td><td>6.82 inches</td><td>PKR 189,999</td><td>INR 104,999</td><td>CNY 7,499</td><td>USD 1,099</td><td>AED 4,099</td><td>2023</td></tr><tr><td>Oppo</td><td>Find X6 256GB</td><td>207g</td><td>12GB</td><td>32MP</td><td>50MP + 50MP + 50MP</td><td>Dimensity 9200</td><td>4800mAh</td><td>6.74 inches</td><td>PKR 149,999</td><td>INR 84,999</td><td>CNY 5,999</td><td>USD 899</td><td>AED 3,299</td><td>2023</td></tr><tr><td>Oppo</td><td>Find X6 512GB</td><td>207g</td><td>16GB</td><td>32MP</td><td>50MP + 50MP + 50MP</td><td>Dimensity 9200</td><td>4800mAh</td><td>6.74 inches</td><td>PKR 169,999</td><td>INR 94,999</td><td>CNY 6,999</td><td>USD 999</td><td>AED 3,699</td><td>2023</td></tr><tr><td>Oppo</td><td>Find X5 Pro 256GB</td><td>218g</td><td>12GB</td><td>32MP</td><td>50MP + 50MP + 13MP</td><td>Snapdragon 8 Gen 1</td><td>5000mAh</td><td>6.7 inches</td><td>PKR 159,999</td><td>INR 89,999</td><td>CNY 5,999</td><td>USD 899</td><td>AED 3,299</td><td>2022</td></tr><tr><td>Oppo</td><td>Find X5 Pro 512GB</td><td>218g</td><td>16GB</td><td>32MP</td><td>50MP + 50MP + 13MP</td><td>Snapdragon 8 Gen 1</td><td>5000mAh</td><td>6.7 inches</td><td>PKR 179,999</td><td>INR 99,999</td><td>CNY 6,999</td><td>USD 999</td><td>AED 3,699</td><td>2022</td></tr><tr><td>Oppo</td><td>Find X5 256GB</td><td>196g</td><td>8GB</td><td>32MP</td><td>50MP + 50MP + 13MP</td><td>Snapdragon 888</td><td>4800mAh</td><td>6.55 inches</td><td>PKR 139,999</td><td>INR 79,999</td><td>CNY 4,999</td><td>USD 799</td><td>AED 2,999</td><td>2022</td></tr><tr><td>Oppo</td><td>Find N2 Flip 256GB</td><td>191g</td><td>8GB</td><td>32MP</td><td>50MP + 8MP</td><td>Dimensity 9000+</td><td>4300mAh</td><td>6.8 inches</td><td>PKR 149,999</td><td>INR 84,999</td><td>CNY 5,999</td><td>USD 899</td><td>AED 3,299</td><td>2023</td></tr><tr><td>Oppo</td><td>Find N2 Flip 512GB</td><td>191g</td><td>12GB</td><td>32MP</td><td>50MP + 8MP</td><td>Dimensity 9000+</td><td>4300mAh</td><td>6.8 inches</td><td>PKR 169,999</td><td>INR 94,999</td><td>CNY 6,999</td><td>USD 999</td><td>AED 3,699</td><td>2023</td></tr><tr><td>Oppo</td><td>Find N2 256GB</td><td>233g</td><td>12GB</td><td>32MP</td><td>50MP + 48MP + 32MP</td><td>Snapdragon 8+ Gen 1</td><td>4520mAh</td><td>7.1 inches</td><td>PKR 179,999</td><td>INR 99,999</td><td>CNY 6,999</td><td>USD 1,099</td><td>AED 3,999</td><td>2022</td></tr><tr><td>Oppo</td><td>Reno10 5G 128GB</td><td>180g</td><td>8GB</td><td>32MP</td><td>64MP + 32MP + 8MP</td><td>Dimensity 7050</td><td>5,000mAh</td><td>6.7 inches</td><td>PKR 129,999</td><td>INR 38,999</td><td>CNY 2,699</td><td>USD 499</td><td>AED 1,899</td><td>2023</td></tr><tr><td>Oppo</td><td>Reno10 5G 256GB</td><td>180g</td><td>8GB</td><td>32MP</td><td>64MP + 32MP + 8MP</td><td>Dimensity 7050</td><td>5,000mAh</td><td>6.7 inches</td><td>PKR 149,999</td><td>INR 42,999</td><td>CNY 2,999</td><td>USD 549</td><td>AED 2,099</td><td>2023</td></tr><tr><td>Oppo</td><td>Reno10 Pro 5G 256GB</td><td>186g</td><td>12GB</td><td>32MP</td><td>50MP + 32MP + 8MP</td><td>Snapdragon 778G</td><td>4,600mAh</td><td>6.7 inches</td><td>PKR 169,999</td><td>INR 44,999</td><td>CNY 3,499</td><td>USD 599</td><td>AED 2,299</td><td>2023</td></tr><tr><td>Oppo</td><td>Reno10 Pro+ 5G 256GB</td><td>194g</td><td>16GB</td><td>32MP</td><td>50MP + 64MP + 8MP</td><td>Snapdragon 8+ Gen 1</td><td>4,700mAh</td><td>6.74 inches</td><td>PKR 199,999</td><td>INR 54,999</td><td>CNY 3,999</td><td>USD 699</td><td>AED 2,599</td><td>2023</td></tr><tr><td>Oppo</td><td>Reno9 5G 128GB</td><td>174g</td><td>8GB</td><td>32MP</td><td>64MP + 2MP</td><td>Snapdragon 778G</td><td>4,500mAh</td><td>6.7 inches</td><td>PKR 109,999</td><td>INR 32,999</td><td>CNY 2,399</td><td>USD 449</td><td>AED 1,699</td><td>2022</td></tr><tr><td>Oppo</td><td>Reno9 5G 256GB</td><td>174g</td><td>12GB</td><td>32MP</td><td>64MP + 2MP</td><td>Snapdragon 778G</td><td>4,500mAh</td><td>6.7 inches</td><td>PKR 129,999</td><td>INR 36,999</td><td>CNY 2,699</td><td>USD 499</td><td>AED 1,899</td><td>2022</td></tr><tr><td>Oppo</td><td>Reno9 Pro 5G 256GB</td><td>184g</td><td>16GB</td><td>32MP</td><td>50MP + 8MP</td><td>Dimensity 8100</td><td>4,500mAh</td><td>6.7 inches</td><td>PKR 159,999</td><td>INR 42,999</td><td>CNY 3,299</td><td>USD 599</td><td>AED 2,199</td><td>2022</td></tr><tr><td>Oppo</td><td>Reno9 Pro+ 5G 256GB</td><td>192g</td><td>16GB</td><td>32MP</td><td>50MP + 8MP + 2MP</td><td>Snapdragon 8+ Gen 1</td><td>4,700mAh</td><td>6.7 inches</td><td>PKR 189,999</td><td>INR 52,999</td><td>CNY 3,799</td><td>USD 649</td><td>AED 2,499</td><td>2022</td></tr><tr><td>Oppo</td><td>Reno8 5G 128GB</td><td>179g</td><td>8GB</td><td>32MP</td><td>50MP + 8MP + 2MP</td><td>Dimensity 1300</td><td>4,500mAh</td><td>6.4 inches</td><td>PKR 89,999</td><td>INR 29,999</td><td>CNY 2,199</td><td>USD 399</td><td>AED 1,499</td><td>2022</td></tr><tr><td>Oppo</td><td>Reno8 5G 256GB</td><td>179g</td><td>12GB</td><td>32MP</td><td>50MP + 8MP + 2MP</td><td>Dimensity 1300</td><td>4,500mAh</td><td>6.4 inches</td><td>PKR 99,999</td><td>INR 34,999</td><td>CNY 2,499</td><td>USD 449</td><td>AED 1,699</td><td>2022</td></tr><tr><td>Oppo</td><td>Reno8 Pro 5G 256GB</td><td>183g</td><td>12GB</td><td>32MP</td><td>50MP + 8MP + 2MP</td><td>Dimensity 8100</td><td>4,500mAh</td><td>6.7 inches</td><td>PKR 129,999</td><td>INR 42,999</td><td>CNY 3,099</td><td>USD 549</td><td>AED 1,999</td><td>2022</td></tr><tr><td>Oppo</td><td>Reno8 Pro+ 5G 256GB</td><td>195g</td><td>12GB</td><td>32MP</td><td>50MP + 8MP + 2MP</td><td>Dimensity 8100</td><td>4,500mAh</td><td>6.7 inches</td><td>PKR 139,999</td><td>INR 46,999</td><td>CNY 3,399</td><td>USD 599</td><td>AED 2,199</td><td>2022</td></tr><tr><td>Oppo</td><td>Reno7 5G 128GB</td><td>173g</td><td>8GB</td><td>32MP</td><td>64MP + 8MP + 2MP</td><td>Dimensity 900</td><td>4,500mAh</td><td>6.4 inches</td><td>PKR 79,999</td><td>INR 28,999</td><td>CNY 1,999</td><td>USD 349</td><td>AED 1,299</td><td>2021</td></tr><tr><td>Oppo</td><td>Reno7 5G 256GB</td><td>173g</td><td>12GB</td><td>32MP</td><td>64MP + 8MP + 2MP</td><td>Dimensity 900</td><td>4,500mAh</td><td>6.4 inches</td><td>PKR 89,999</td><td>INR 32,999</td><td>CNY 2,199</td><td>USD 399</td><td>AED 1,499</td><td>2021</td></tr><tr><td>Oppo</td><td>Reno7 Pro 5G 256GB</td><td>180g</td><td>12GB</td><td>32MP</td><td>50MP + 8MP + 2MP</td><td>Dimensity 1200</td><td>4,500mAh</td><td>6.55 inches</td><td>PKR 109,999</td><td>INR 39,999</td><td>CNY 2,799</td><td>USD 499</td><td>AED 1,799</td><td>2021</td></tr><tr><td>Oppo</td><td>Reno6 5G 128GB</td><td>182g</td><td>8GB</td><td>32MP</td><td>64MP + 8MP + 2MP</td><td>Dimensity 900</td><td>4,300mAh</td><td>6.43 inches</td><td>PKR 79,999</td><td>INR 29,999</td><td>CNY 2,399</td><td>USD 349</td><td>AED 1,299</td><td>2021</td></tr><tr><td>Oppo</td><td>Reno6 5G 256GB</td><td>182g</td><td>12GB</td><td>32MP</td><td>64MP + 8MP + 2MP</td><td>Dimensity 900</td><td>4,300mAh</td><td>6.43 inches</td><td>PKR 89,999</td><td>INR 32,999</td><td>CNY 2,699</td><td>USD 399</td><td>AED 1,499</td><td>2021</td></tr><tr><td>Oppo</td><td>Reno6 Pro 5G 128GB</td><td>177g</td><td>8GB</td><td>32MP</td><td>64MP + 8MP + 2MP + 2MP</td><td>Dimensity 1200</td><td>4,500mAh</td><td>6.55 inches</td><td>PKR 99,999</td><td>INR 39,999</td><td>CNY 2,999</td><td>USD 449</td><td>AED 1,699</td><td>2021</td></tr><tr><td>Oppo</td><td>Reno6 Pro 5G 256GB</td><td>177g</td><td>12GB</td><td>32MP</td><td>64MP + 8MP + 2MP + 2MP</td><td>Dimensity 1200</td><td>4,500mAh</td><td>6.55 inches</td><td>PKR 109,999</td><td>INR 44,999</td><td>CNY 3,299</td><td>USD 499</td><td>AED 1,899</td><td>2021</td></tr><tr><td>Oppo</td><td>Reno6 Pro+ 5G 256GB</td><td>188g</td><td>12GB</td><td>32MP</td><td>50MP + 13MP + 16MP + 2MP</td><td>Snapdragon 870</td><td>4,500mAh</td><td>6.55 inches</td><td>PKR 129,999</td><td>INR 49,999</td><td>CNY 3,999</td><td>USD 599</td><td>AED 2,199</td><td>2021</td></tr><tr><td>Oppo</td><td>Reno5 5G 128GB</td><td>180g</td><td>8GB</td><td>32MP</td><td>64MP + 8MP + 2MP + 2MP</td><td>Snapdragon 765G</td><td>4,300mAh</td><td>6.43 inches</td><td>PKR 69,999</td><td>INR 26,999</td><td>CNY 2,099</td><td>USD 299</td><td>AED 1,099</td><td>2020</td></tr><tr><td>Oppo</td><td>Reno5 5G 256GB</td><td>180g</td><td>12GB</td><td>32MP</td><td>64MP + 8MP + 2MP + 2MP</td><td>Snapdragon 765G</td><td>4,300mAh</td><td>6.43 inches</td><td>PKR 79,999</td><td>INR 29,999</td><td>CNY 2,399</td><td>USD 349</td><td>AED 1,299</td><td>2020</td></tr><tr><td>Oppo</td><td>Reno5 Pro 5G 128GB</td><td>173g</td><td>8GB</td><td>32MP</td><td>64MP + 8MP + 2MP + 2MP</td><td>Dimensity 1000+</td><td>4,350mAh</td><td>6.55 inches</td><td>PKR 89,999</td><td>INR 32,999</td><td>CNY 2,799</td><td>USD 399</td><td>AED 1,499</td><td>2020</td></tr><tr><td>Oppo</td><td>Reno5 Pro 5G 256GB</td><td>173g</td><td>12GB</td><td>32MP</td><td>64MP + 8MP + 2MP + 2MP</td><td>Dimensity 1000+</td><td>4,350mAh</td><td>6.55 inches</td><td>PKR 99,999</td><td>INR 36,999</td><td>CNY 3,099</td><td>USD 449</td><td>AED 1,699</td><td>2020</td></tr><tr><td>Oppo</td><td>Reno5 Pro+ 5G 256GB</td><td>184g</td><td>12GB</td><td>32MP</td><td>50MP + 16MP + 13MP + 2MP</td><td>Snapdragon 865</td><td>4,500mAh</td><td>6.55 inches</td><td>PKR 119,999</td><td>INR 44,999</td><td>CNY 3,799</td><td>USD 599</td><td>AED 2,099</td><td>2020</td></tr><tr><td>Oppo</td><td>Reno4 5G 128GB</td><td>183g</td><td>8GB</td><td>32MP</td><td>48MP + 8MP + 2MP + 2MP</td><td>Snapdragon 765G</td><td>4,000mAh</td><td>6.43 inches</td><td>PKR 59,999</td><td>INR 24,999</td><td>CNY 1,899</td><td>USD 299</td><td>AED 999</td><td>2020</td></tr><tr><td>Oppo</td><td>Reno4 5G 256GB</td><td>183g</td><td>8GB</td><td>32MP</td><td>48MP + 8MP + 2MP + 2MP</td><td>Snapdragon 765G</td><td>4,000mAh</td><td>6.43 inches</td><td>PKR 69,999</td><td>INR 26,999</td><td>CNY 2,199</td><td>USD 349</td><td>AED 1,199</td><td>2020</td></tr><tr><td>Oppo</td><td>Reno4 Pro 5G 256GB</td><td>172g</td><td>12GB</td><td>32MP</td><td>48MP + 13MP + 12MP</td><td>Snapdragon 765G</td><td>4,000mAh</td><td>6.55 inches</td><td>PKR 99,999</td><td>INR 39,999</td><td>CNY 3,299</td><td>USD 499</td><td>AED 1,799</td><td>2020</td></tr><tr><td>Oppo</td><td>Reno3 5G 128GB</td><td>181g</td><td>8GB</td><td>32MP</td><td>64MP + 8MP + 2MP + 2MP</td><td>Dimensity 1000L</td><td>4,025mAh</td><td>6.4 inches</td><td>PKR 49,999</td><td>INR 22,999</td><td>CNY 1,799</td><td>USD 249</td><td>AED 899</td><td>2019</td></tr><tr><td>Oppo</td><td>Reno3 5G 256GB</td><td>181g</td><td>12GB</td><td>32MP</td><td>64MP + 8MP + 2MP + 2MP</td><td>Dimensity 1000L</td><td>4,025mAh</td><td>6.4 inches</td><td>PKR 59,999</td><td>INR 26,999</td><td>CNY 2,099</td><td>USD 299</td><td>AED 1,099</td><td>2019</td></tr><tr><td>Oppo</td><td>Reno3 Pro 5G 256GB</td><td>171g</td><td>12GB</td><td>32MP</td><td>48MP + 13MP + 8MP + 2MP</td><td>Snapdragon 765G</td><td>4,025mAh</td><td>6.5 inches</td><td>PKR 79,999</td><td>INR 34,999</td><td>CNY 3,299</td><td>USD 499</td><td>AED 1,799</td><td>2019</td></tr><tr><td>Oppo</td><td>A59 5G 128GB</td><td>186g</td><td>6GB</td><td>8MP</td><td>13MP + 2MP</td><td>MediaTek Dimensity 6020</td><td>5,000mAh</td><td>6.56 inches</td><td>PKR 39,999</td><td>INR 14,999</td><td>CNY 1,699</td><td>USD 199</td><td>AED 1,000</td><td>2023</td></tr><tr><td>Oppo</td><td>A59 5G 256GB</td><td>186g</td><td>8GB</td><td>8MP</td><td>13MP + 2MP</td><td>MediaTek Dimensity 6020</td><td>5,000mAh</td><td>6.56 inches</td><td>PKR 44,999</td><td>INR 16,999</td><td>CNY 1,899</td><td>USD 229</td><td>AED 1,200</td><td>2023</td></tr><tr><td>Oppo</td><td>A58 5G 256GB</td><td>188g</td><td>8GB</td><td>8MP</td><td>50MP + 2MP</td><td>MediaTek Dimensity 700</td><td>5,000mAh</td><td>6.56 inches</td><td>PKR 49,999</td><td>INR 19,000</td><td>CNY 1,699</td><td>USD 249</td><td>AED 1,300</td><td>2022</td></tr><tr><td>Oppo</td><td>A57 5G 128GB</td><td>186g</td><td>6GB</td><td>8MP</td><td>13MP + 2MP</td><td>MediaTek Dimensity 810</td><td>5,000mAh</td><td>6.56 inches</td><td>PKR 34,999</td><td>INR 15,999</td><td>CNY 1,599</td><td>USD 219</td><td>AED 1,100</td><td>2022</td></tr><tr><td>Oppo</td><td>A56 5G 128GB</td><td>189g</td><td>6GB</td><td>8MP</td><td>13MP + 2MP</td><td>MediaTek Dimensity 700</td><td>5,000mAh</td><td>6.5 inches</td><td>PKR 32,999</td><td>INR 14,999</td><td>CNY 1,499</td><td>USD 199</td><td>AED 1,000</td><td>2021</td></tr><tr><td>Oppo</td><td>A55 5G 128GB</td><td>186g</td><td>6GB</td><td>8MP</td><td>13MP + 2MP + 2MP</td><td>MediaTek Dimensity 700</td><td>5,000mAh</td><td>6.5 inches</td><td>PKR 29,999</td><td>INR 13,999</td><td>CNY 1,399</td><td>USD 189</td><td>AED 950</td><td>2021</td></tr><tr><td>Oppo</td><td>A54 5G 128GB</td><td>190g</td><td>6GB</td><td>16MP</td><td>48MP + 8MP + 2MP + 2MP</td><td>Qualcomm Snapdragon 480</td><td>5,000mAh</td><td>6.5 inches</td><td>PKR 34,999</td><td>INR 15,999</td><td>CNY 1,599</td><td>USD 219</td><td>AED 1,100</td><td>2021</td></tr><tr><td>Oppo</td><td>A53 5G 128GB</td><td>175g</td><td>4GB</td><td>8MP</td><td>16MP + 2MP + 2MP</td><td>MediaTek Dimensity 720</td><td>4,040mAh</td><td>6.5 inches</td><td>PKR 27,999</td><td>INR 12,999</td><td>CNY 1,299</td><td>USD 179</td><td>AED 900</td><td>2020</td></tr><tr><td>Oppo</td><td>A52 5G 128GB</td><td>184g</td><td>4GB</td><td>8MP</td><td>12MP + 8MP + 2MP + 2MP</td><td>MediaTek Dimensity 720</td><td>4,000mAh</td><td>6.5 inches</td><td>PKR 25,999</td><td>INR 11,999</td><td>CNY 1,199</td><td>USD 169</td><td>AED 850</td><td>2020</td></tr><tr><td>Oppo</td><td>A51 5G 128GB</td><td>186g</td><td>4GB</td><td>8MP</td><td>13MP + 2MP + 2MP</td><td>MediaTek Dimensity 700</td><td>4,000mAh</td><td>6.5 inches</td><td>PKR 23,999</td><td>INR 10,999</td><td>CNY 1,099</td><td>USD 149</td><td>AED 800</td><td>2020</td></tr><tr><td>Oppo</td><td>A50 5G 128GB</td><td>185g</td><td>4GB</td><td>8MP</td><td>13MP + 2MP</td><td>MediaTek Dimensity 700</td><td>4,000mAh</td><td>6.5 inches</td><td>PKR 21,999</td><td>INR 9,999</td><td>CNY 999</td><td>USD 139</td><td>AED 750</td><td>2020</td></tr><tr><td>Oppo</td><td>A49 5G 128GB</td><td>185g</td><td>4GB</td><td>8MP</td><td>13MP + 2MP</td><td>MediaTek Dimensity 700</td><td>4,000mAh</td><td>6.5 inches</td><td>PKR 19,999</td><td>INR 8,999</td><td>CNY 899</td><td>USD 129</td><td>AED 700</td><td>2020</td></tr><tr><td>Oppo</td><td>A40 128GB</td><td>186g</td><td>4GB</td><td>5MP</td><td>50MP</td><td>Qualcomm Snapdragon 6s Gen 1</td><td>5,100mAh</td><td>6.67 inches</td><td>PKR 39,999</td><td>INR 19,999</td><td>CNY 1,499</td><td>USD 199</td><td>AED 1,000</td><td>2024</td></tr><tr><td>Oppo</td><td>A40 256GB</td><td>186g</td><td>6GB</td><td>5MP</td><td>50MP</td><td>Qualcomm Snapdragon 6s Gen 1</td><td>5,100mAh</td><td>6.67 inches</td><td>PKR 44,999</td><td>INR 22,999</td><td>CNY 1,799</td><td>USD 229</td><td>AED 1,200</td><td>2024</td></tr><tr><td>Oppo</td><td>K11x 128GB</td><td>195g</td><td>8GB</td><td>16MP</td><td>108MP + 2MP</td><td>Qualcomm Snapdragon 695</td><td>5,000mAh</td><td>6.72 inches</td><td>PKR 59,999</td><td>INR 18,000</td><td>CNY 1,499</td><td>USD 199</td><td>AED 1,000</td><td>2023</td></tr><tr><td>Oppo</td><td>K11x 256GB</td><td>195g</td><td>12GB</td><td>16MP</td><td>108MP + 2MP</td><td>Qualcomm Snapdragon 695</td><td>5,000mAh</td><td>6.72 inches</td><td>PKR 64,999</td><td>INR 20,000</td><td>CNY 1,699</td><td>USD 229</td><td>AED 1,200</td><td>2023</td></tr><tr><td>Oppo</td><td>K10x 128GB</td><td>195g</td><td>6GB</td><td>16MP</td><td>64MP + 2MP + 2MP</td><td>Qualcomm Snapdragon 695</td><td>5,000mAh</td><td>6.59 inches</td><td>PKR 54,999</td><td>INR 16,990</td><td>CNY 1,499</td><td>USD 199</td><td>AED 1,000</td><td>2022</td></tr><tr><td>Oppo</td><td>K10x 256GB</td><td>195g</td><td>8GB</td><td>16MP</td><td>64MP + 2MP + 2MP</td><td>Qualcomm Snapdragon 695</td><td>5,000mAh</td><td>6.59 inches</td><td>PKR 59,999</td><td>INR 18,990</td><td>CNY 1,699</td><td>USD 229</td><td>AED 1,200</td><td>2022</td></tr><tr><td>Oppo</td><td>K10 5G 128GB</td><td>205g</td><td>8GB</td><td>16MP</td><td>64MP + 8MP + 2MP</td><td>MediaTek Dimensity 8000-Max</td><td>5,000mAh</td><td>6.59 inches</td><td>PKR 64,999</td><td>INR 19,999</td><td>CNY 1,799</td><td>USD 249</td><td>AED 1,300</td><td>2022</td></tr><tr><td>Oppo</td><td>K9x 128GB</td><td>194g</td><td>6GB</td><td>16MP</td><td>64MP + 2MP + 2MP</td><td>MediaTek Dimensity 810</td><td>5,000mAh</td><td>6.5 inches</td><td>PKR 49,999</td><td>INR 15,999</td><td>CNY 1,499</td><td>USD 199</td><td>AED 1,000</td><td>2021</td></tr><tr><td>Oppo</td><td>K9x 256GB</td><td>194g</td><td>8GB</td><td>16MP</td><td>64MP + 2MP + 2MP</td><td>MediaTek Dimensity 810</td><td>5,000mAh</td><td>6.5 inches</td><td>PKR 54,999</td><td>INR 17,999</td><td>CNY 1,699</td><td>USD 229</td><td>AED 1,200</td><td>2021</td></tr><tr><td>Oppo</td><td>K9 Pro 5G 128GB</td><td>180g</td><td>8GB</td><td>16MP</td><td>64MP + 8MP + 2MP</td><td>MediaTek Dimensity 1200</td><td>4,500mAh</td><td>6.43 inches</td><td>PKR 69,999</td><td>INR 24,999</td><td>CNY 2,199</td><td>USD 299</td><td>AED 1,500</td><td>2021</td></tr><tr><td>Oppo</td><td>K9 Pro 5G 256GB</td><td>180g</td><td>12GB</td><td>16MP</td><td>64MP + 8MP + 2MP</td><td>MediaTek Dimensity 1200</td><td>4,500mAh</td><td>6.43 inches</td><td>PKR 74,999</td><td>INR 27,999</td><td>CNY 2,499</td><td>USD 329</td><td>AED 1,700</td><td>2021</td></tr><tr><td>Oppo</td><td>K9 5G 128GB</td><td>172g</td><td>8GB</td><td>32MP</td><td>64MP + 8MP + 2MP</td><td>Qualcomm Snapdragon 768G</td><td>4,300mAh</td><td>6.43 inches</td><td>PKR 59,999</td><td>INR 22,999</td><td>CNY 1,999</td><td>USD 279</td><td>AED 1,400</td><td>2021</td></tr><tr><td>Oppo</td><td>K9 5G 256GB</td><td>172g</td><td>8GB</td><td>32MP</td><td>64MP + 8MP + 2MP</td><td>Qualcomm Snapdragon 768G</td><td>4,300mAh</td><td>6.43 inches</td><td>PKR 64,999</td><td>INR 24,999</td><td>CNY 2,199</td><td>USD 299</td><td>AED 1,500</td><td>2021</td></tr><tr><td>Oppo</td><td>K7x 128GB</td><td>194g</td><td>6GB</td><td>16MP</td><td>48MP + 8MP + 2MP + 2MP</td><td>MediaTek Dimensity 720</td><td>5,000mAh</td><td>6.5 inches</td><td>PKR 44,999</td><td>INR 14,999</td><td>CNY 1,499</td><td>USD 199</td><td>AED 1,000</td><td>2020</td></tr><tr><td>Oppo</td><td>K7 5G 128GB</td><td>180g</td><td>8GB</td><td>32MP</td><td>48MP + 8MP + 2MP + 2MP</td><td>Qualcomm Snapdragon 765G</td><td>4,025mAh</td><td>6.4 inches</td><td>PKR 49,999</td><td>INR 19,999</td><td>CNY 1,999</td><td>USD 279</td><td>AED 1,400</td><td>2020</td></tr><tr><td>Oppo</td><td>K7 5G 256GB</td><td>180g</td><td>8GB</td><td>32MP</td><td>48MP + 8MP + 2MP + 2MP</td><td>Qualcomm Snapdragon 765G</td><td>4,025mAh</td><td>6.4 inches</td><td>PKR 54,999</td><td>INR 21,999</td><td>CNY 2,199</td><td>USD 299</td><td>AED 1,500</td><td>2020</td></tr><tr><td>Oppo</td><td>K11x 128GB</td><td>195g</td><td>8GB</td><td>16MP</td><td>108MP + 2MP</td><td>Qualcomm Snapdragon 695</td><td>5,000mAh</td><td>6.72 inches</td><td>PKR 59,999</td><td>INR 18,000</td><td>CNY 1,499</td><td>USD 199</td><td>AED 1,000</td><td>2023</td></tr><tr><td>Oppo</td><td>K11x 256GB</td><td>195g</td><td>12GB</td><td>16MP</td><td>108MP + 2MP</td><td>Qualcomm Snapdragon 695</td><td>5,000mAh</td><td>6.72 inches</td><td>PKR 64,999</td><td>INR 20,000</td><td>CNY 1,699</td><td>USD 229</td><td>AED 1,200</td><td>2023</td></tr><tr><td>Oppo</td><td>K11 128GB</td><td>184g</td><td>8GB</td><td>16MP</td><td>64MP + 8MP + 2MP</td><td>Qualcomm Snapdragon 782G</td><td>5,000mAh</td><td>6.7 inches</td><td>PKR 69,999</td><td>INR 21,999</td><td>CNY 1,899</td><td>USD 259</td><td>AED 1,300</td><td>2023</td></tr><tr><td>Oppo</td><td>K11 256GB</td><td>184g</td><td>12GB</td><td>16MP</td><td>64MP + 8MP + 2MP</td><td>Qualcomm Snapdragon 782G</td><td>5,000mAh</td><td>6.7 inches</td><td>PKR 74,999</td><td>INR 24,999</td><td>CNY 2,199</td><td>USD 299</td><td>AED 1,500</td><td>2023</td></tr><tr><td>Oppo</td><td>K10x 128GB</td><td>195g</td><td>6GB</td><td>16MP</td><td>64MP + 2MP + 2MP</td><td>Qualcomm Snapdragon 695</td><td>5,000mAh</td><td>6.59 inches</td><td>PKR 54,999</td><td>INR 16,990</td><td>CNY 1,499</td><td>USD 199</td><td>AED 1,000</td><td>2022</td></tr><tr><td>Oppo</td><td>K10x 256GB</td><td>195g</td><td>8GB</td><td>16MP</td><td>64MP + 2MP + 2MP</td><td>Qualcomm Snapdragon 695</td><td>5,000mAh</td><td>6.59 inches</td><td>PKR 59,999</td><td>INR 18,990</td><td>CNY 1,699</td><td>USD 229</td><td>AED 1,200</td><td>2022</td></tr><tr><td>Oppo</td><td>K10 5G 128GB</td><td>205g</td><td>8GB</td><td>16MP</td><td>64MP + 8MP + 2MP</td><td>MediaTek Dimensity 8000-Max</td><td>5,000mAh</td><td>6.59 inches</td><td>PKR 64,999</td><td>INR 19,999</td><td>CNY 1,799</td><td>USD 249</td><td>AED 1,300</td><td>2022</td></tr><tr><td>Oppo</td><td>K10 5G 256GB</td><td>205g</td><td>12GB</td><td>16MP</td><td>64MP + 8MP + 2MP</td><td>MediaTek Dimensity 8000-Max</td><td>5,000mAh</td><td>6.59 inches</td><td>PKR 69,999</td><td>INR 22,999</td><td>CNY 2,099</td><td>USD 279</td><td>AED 1,500</td><td>2022</td></tr><tr><td>Oppo</td><td>K9x 128GB</td><td>194g</td><td>6GB</td><td>16MP</td><td>64MP + 2MP + 2MP</td><td>MediaTek Dimensity 810</td><td>5,000mAh</td><td>6.5 inches</td><td>PKR 49,999</td><td>INR 15,999</td><td>CNY 1,499</td><td>USD 199</td><td>AED 1,000</td><td>2021</td></tr><tr><td>Oppo</td><td>K9x 256GB</td><td>194g</td><td>8GB</td><td>16MP</td><td>64MP + 2MP + 2MP</td><td>MediaTek Dimensity 810</td><td>5,000mAh</td><td>6.5 inches</td><td>PKR 54,999</td><td>INR 17,999</td><td>CNY 1,699</td><td>USD 229</td><td>AED 1,200</td><td>2021</td></tr><tr><td>Oppo</td><td>K9 Pro 5G 128GB</td><td>180g</td><td>8GB</td><td>16MP</td><td>64MP + 8MP + 2MP</td><td>MediaTek Dimensity 1200</td><td>4,500mAh</td><td>6.43 inches</td><td>PKR 69,999</td><td>INR 24,999</td><td>CNY 2,199</td><td>USD 299</td><td>AED 1,500</td><td>2021</td></tr><tr><td>Oppo</td><td>K9 Pro 5G 256GB</td><td>180g</td><td>12GB</td><td>16MP</td><td>64MP + 8MP + 2MP</td><td>MediaTek Dimensity 1200</td><td>4,500mAh</td><td>6.43 inches</td><td>PKR 74,999</td><td>INR 27,999</td><td>CNY 2,499</td><td>USD 329</td><td>AED 1,700</td><td>2021</td></tr><tr><td>Oppo</td><td>K9 5G 128GB</td><td>172g</td><td>8GB</td><td>32MP</td><td>64MP + 8MP + 2MP</td><td>Qualcomm Snapdragon 768G</td><td>4,300mAh</td><td>6.43 inches</td><td>PKR 59,999</td><td>INR 22,999</td><td>CNY 1,999</td><td>USD 279</td><td>AED 1,400</td><td>2021</td></tr><tr><td>Oppo</td><td>K9 5G 256GB</td><td>172g</td><td>8GB</td><td>32MP</td><td>64MP + 8MP + 2MP</td><td>Qualcomm Snapdragon 768G</td><td>4,300mAh</td><td>6.43 inches</td><td>PKR 64,999</td><td>INR 24,999</td><td>CNY 2,199</td><td>USD 299</td><td>AED 1,500</td><td>2021</td></tr><tr><td>Oppo</td><td>K7x 128GB</td><td>194g</td><td>6GB</td><td>16MP</td><td>48MP + 8MP + 2MP + 2MP</td><td>MediaTek Dimensity 720</td><td>5,000mAh</td><td>6.5 inches</td><td>PKR 44,999</td><td>INR 14,999</td><td>CNY 1,499</td><td>USD 199</td><td>AED 1,000</td><td>2020</td></tr><tr><td>Oppo</td><td>K7 5G 128GB</td><td>180g</td><td>8GB</td><td>32MP</td><td>48MP + 8MP + 2MP + 2MP</td><td>Qualcomm Snapdragon 765G</td><td>4,025mAh</td><td>6.4 inches</td><td>PKR 49,999</td><td>INR 19,999</td><td>CNY 1,999</td><td>USD 279</td><td>AED 1,400</td><td>2020</td></tr><tr><td>Realme</td><td>GT 7 Pro 128GB</td><td>222.8g</td><td>12GB</td><td>16MP</td><td>50MP + 50MP + 8MP</td><td>Qualcomm Snapdragon 8 Elite</td><td>6,500mAh</td><td>6.78 inches</td><td>PKR 139,999</td><td>INR 59,999</td><td>CNY 3,400</td><td>USD 470</td><td>AED 1,725</td><td>2024</td></tr><tr><td>Realme</td><td>GT 7 Pro 256GB</td><td>222.8g</td><td>16GB</td><td>16MP</td><td>50MP + 50MP + 8MP</td><td>Qualcomm Snapdragon 8 Elite</td><td>6,500mAh</td><td>6.78 inches</td><td>PKR 149,999</td><td>INR 65,999</td><td>CNY 3,600</td><td>USD 500</td><td>AED 1,840</td><td>2024</td></tr><tr><td>Realme</td><td>GT 6 128GB</td><td>191g</td><td>8GB</td><td>32MP</td><td>50MP + 8MP + 50MP</td><td>Qualcomm Snapdragon 8s Gen 3</td><td>5,500mAh</td><td>6.78 inches</td><td>PKR 89,999</td><td>INR 37,999</td><td>CNY 2,800</td><td>USD 380</td><td>AED 1,400</td><td>2023</td></tr><tr><td>Realme</td><td>GT 6 256GB</td><td>191g</td><td>12GB</td><td>32MP</td><td>50MP + 8MP + 50MP</td><td>Qualcomm Snapdragon 8s Gen 3</td><td>5,500mAh</td><td>6.78 inches</td><td>PKR 94,999</td><td>INR 39,999</td><td>CNY 2,900</td><td>USD 400</td><td>AED 1,460</td><td>2023</td></tr><tr><td>Realme</td><td>GT 6 512GB</td><td>191g</td><td>16GB</td><td>32MP</td><td>50MP + 8MP + 50MP</td><td>Qualcomm Snapdragon 8s Gen 3</td><td>5,500mAh</td><td>6.78 inches</td><td>PKR 99,999</td><td>INR 41,999</td><td>CNY 3,000</td><td>USD 420</td><td>AED 1,520</td><td>2023</td></tr><tr><td>Realme</td><td>GT 6T 128GB</td><td>191g</td><td>8GB</td><td>32MP</td><td>50MP + 8MP</td><td>Qualcomm Snapdragon 7 Plus Gen 3</td><td>5,500mAh</td><td>6.78 inches</td><td>PKR 84,999</td><td>INR 28,756</td><td>CNY 2,700</td><td>USD 360</td><td>AED 1,330</td><td>2023</td></tr><tr><td>Realme</td><td>GT 6T 256GB</td><td>191g</td><td>8GB</td><td>32MP</td><td>50MP + 8MP</td><td>Qualcomm Snapdragon 7 Plus Gen 3</td><td>5,500mAh</td><td>6.78 inches</td><td>PKR 89,999</td><td>INR 30,999</td><td>CNY 2,800</td><td>USD 380</td><td>AED 1,400</td><td>2023</td></tr><tr><td>Realme</td><td>14 Pro+ 5G 256GB</td><td>184g</td><td>12GB</td><td>16MP</td><td>50MP + 8MP + 50MP</td><td>Qualcomm Snapdragon 7s Gen 3</td><td>6,000mAh</td><td>6.83 inches</td><td>PKR 94,999</td><td>INR 34,999</td><td>CNY 2,600</td><td>USD 340</td><td>AED 1,250</td><td>2025</td></tr><tr><td>Realme</td><td>14 Pro+ 5G 512GB</td><td>184g</td><td>12GB</td><td>16MP</td><td>50MP + 8MP + 50MP</td><td>Qualcomm Snapdragon 7s Gen 3</td><td>6,000mAh</td><td>6.83 inches</td><td>PKR 99,999</td><td>INR 36,999</td><td>CNY 2,800</td><td>USD 360</td><td>AED 1,320</td><td>2025</td></tr><tr><td>Realme</td><td>14 Pro 5G 128GB</td><td>184g</td><td>8GB</td><td>16MP</td><td>50MP + 8MP</td><td>MediaTek Dimensity 7300 Energy</td><td>5,800mAh</td><td>6.7 inches</td><td>PKR 79,999</td><td>INR 29,999</td><td>CNY 2,400</td><td>USD 320</td><td>AED 1,150</td><td>2025</td></tr><tr><td>Realme</td><td>14 Pro 5G 256GB</td><td>184g</td><td>8GB</td><td>16MP</td><td>50MP + 8MP</td><td>MediaTek Dimensity 7300 Energy</td><td>5,800mAh</td><td>6.7 inches</td><td>PKR 84,999</td><td>INR 31,999</td><td>CNY 2,500</td><td>USD 340</td><td>AED 1,210</td><td>2025</td></tr><tr><td>Realme</td><td>14x 5G 128GB</td><td>190g</td><td>6GB</td><td>16MP</td><td>48MP + 2MP + 2MP</td><td>Qualcomm Snapdragon 7s Gen 2</td><td>5,500mAh</td><td>6.6 inches</td><td>PKR 64,999</td><td>INR 24,999</td><td>CNY 2,000</td><td>USD 270</td><td>AED 970</td><td>2025</td></tr><tr><td>Realme</td><td>14x 5G 256GB</td><td>190g</td><td>8GB</td><td>16MP</td><td>48MP + 2MP + 2MP</td><td>Qualcomm Snapdragon 7s Gen 2</td><td>5,500mAh</td><td>6.6 inches</td><td>PKR 69,999</td><td>INR 26,999</td><td>CNY 2,100</td><td>USD 290</td><td>AED 1,030</td><td>2025</td></tr><tr><td>Realme</td><td>13+ 5G 128GB</td><td>185g</td><td>8GB</td><td>16MP</td><td>50MP + 2MP</td><td>MediaTek Dimensity 7200</td><td>5,000mAh</td><td>6.5 inches</td><td>PKR 59,999</td><td>INR 22,999</td><td>CNY 1,800</td><td>USD 250</td><td>AED 900</td><td>2024</td></tr><tr><td>Realme</td><td>13+ 5G 256GB</td><td>185g</td><td>8GB</td><td>16MP</td><td>50MP + 2MP</td><td>MediaTek Dimensity 7200</td><td>5,000mAh</td><td>6.5 inches</td><td>PKR 64,999</td><td>INR 24,999</td><td>CNY 1,900</td><td>USD 270</td><td>AED 970</td><td>2024</td></tr><tr><td>Realme</td><td>13 5G 128GB</td><td>190g</td><td>6GB</td><td>16MP</td><td>50MP + 2MP</td><td>MediaTek Dimensity 6100+</td><td>5,000mAh</td><td>6.6 inches</td><td>PKR 49,999</td><td>INR 18,999</td><td>CNY 1,500</td><td>USD 220</td><td>AED 800</td><td>2024</td></tr><tr><td>Realme</td><td>13 5G 256GB</td><td>190g</td><td>8GB</td><td>16MP</td><td>50MP + 2MP</td><td>MediaTek Dimensity 6100+</td><td>5,000mAh</td><td>6.6 inches</td><td>PKR 54,999</td><td>INR 20,999</td><td>CNY 1,600</td><td>USD 240</td><td>AED 860</td><td>2024</td></tr><tr><td>Realme</td><td>13 Pro 5G 128GB</td><td>192g</td><td>8GB</td><td>16MP</td><td>50MP + 8MP + 2MP</td><td>Qualcomm Snapdragon 7s Gen 2</td><td>5,200mAh</td><td>6.7 inches</td><td>PKR 74,999</td><td>INR 27,999</td><td>CNY 2,200</td><td>USD 300</td><td>AED 1,070</td><td>2024</td></tr><tr><td>Realme</td><td>13 Pro 5G 256GB</td><td>192g</td><td>12GB</td><td>16MP</td><td>50MP + 8MP + 2MP</td><td>Qualcomm Snapdragon 7s Gen 2</td><td>5,200mAh</td><td>6.7 inches</td><td>PKR 79,999</td><td>INR 29,999</td><td>CNY 2,400</td><td>USD 320</td><td>AED 1,140</td><td>2024</td></tr><tr><td>Realme</td><td>13 Pro+ 5G 256GB</td><td>195g</td><td>12GB</td><td>32MP</td><td>50MP + 8MP + 50MP</td><td>Qualcomm Snapdragon 7+ Gen 2</td><td>5,500mAh</td><td>6.78 inches</td><td>PKR 94,999</td><td>INR 34,999</td><td>CNY 2,800</td><td>USD 360</td><td>AED 1,320</td><td>2024</td></tr><tr><td>Realme</td><td>13 Pro+ 5G 512GB</td><td>195g</td><td>16GB</td><td>32MP</td><td>50MP + 8MP + 50MP</td><td>Qualcomm Snapdragon 7+ Gen 2</td><td>5,500mAh</td><td>6.78 inches</td><td>PKR 99,999</td><td>INR 36,999</td><td>CNY 3,000</td><td>USD 380</td><td>AED 1,390</td><td>2024</td></tr><tr><td>Realme</td><td>P1 Speed 5G 128GB</td><td>185g</td><td>8GB</td><td>16MP</td><td>64MP + 2MP</td><td>MediaTek Dimensity 8100</td><td>5,100mAh</td><td>6.7 inches</td><td>PKR 54,999</td><td>INR 19,999</td><td>CNY 1,800</td><td>USD 250</td><td>AED 900</td><td>2024</td></tr><tr><td>Realme</td><td>P1 Speed 5G 256GB</td><td>185g</td><td>12GB</td><td>16MP</td><td>64MP + 2MP</td><td>MediaTek Dimensity 8100</td><td>5,100mAh</td><td>6.7 inches</td><td>PKR 59,999</td><td>INR 21,999</td><td>CNY 1,900</td><td>USD 270</td><td>AED 960</td><td>2024</td></tr><tr><td>Realme</td><td>P2 Pro 5G 256GB</td><td>188g</td><td>12GB</td><td>32MP</td><td>50MP + 8MP + 50MP</td><td>Qualcomm Snapdragon 7+ Gen 3</td><td>5,500mAh</td><td>6.78 inches</td><td>PKR 89,999</td><td>INR 32,999</td><td>CNY 2,500</td><td>USD 340</td><td>AED 1,210</td><td>2024</td></tr><tr><td>Realme</td><td>P2 Pro 5G 512GB</td><td>188g</td><td>16GB</td><td>32MP</td><td>50MP + 8MP + 50MP</td><td>Qualcomm Snapdragon 7+ Gen 3</td><td>5,500mAh</td><td>6.78 inches</td><td>PKR 94,999</td><td>INR 34,999</td><td>CNY 2,700</td><td>USD 360</td><td>AED 1,280</td><td>2024</td></tr><tr><td>Realme</td><td>P1 5G 128GB</td><td>184g</td><td>6GB</td><td>16MP</td><td>50MP + 2MP</td><td>MediaTek Dimensity 6100+</td><td>5,000mAh</td><td>6.6 inches</td><td>PKR 44,999</td><td>INR 16,999</td><td>CNY 1,400</td><td>USD 200</td><td>AED 720</td><td>2024</td></tr><tr><td>Realme</td><td>P1 5G 256GB</td><td>184g</td><td>8GB</td><td>16MP</td><td>50MP + 2MP</td><td>MediaTek Dimensity 6100+</td><td>5,000mAh</td><td>6.6 inches</td><td>PKR 49,999</td><td>INR 18,999</td><td>CNY 1,500</td><td>USD 220</td><td>AED 780</td><td>2024</td></tr><tr><td>Realme</td><td>P1 Pro 5G 128GB</td><td>190g</td><td>8GB</td><td>16MP</td><td>64MP + 2MP</td><td>Qualcomm Snapdragon 7s Gen 1</td><td>5,200mAh</td><td>6.7 inches</td><td>PKR 59,999</td><td>INR 22,999</td><td>CNY 1,900</td><td>USD 270</td><td>AED 960</td><td>2024</td></tr><tr><td>Realme</td><td>P1 Pro 5G 256GB</td><td>190g</td><td>12GB</td><td>16MP</td><td>64MP + 2MP</td><td>Qualcomm Snapdragon 7s Gen 1</td><td>5,200mAh</td><td>6.7 inches</td><td>PKR 64,999</td><td>INR 24,999</td><td>CNY 2,000</td><td>USD 290</td><td>AED 1,020</td><td>2024</td></tr><tr><td>Realme</td><td>Narzo 70 Turbo 5G 128GB</td><td>200g</td><td>8GB</td><td>16MP</td><td>50MP + 2MP</td><td>MediaTek Dimensity 810</td><td>5,000mAh</td><td>6.6 inches</td><td>PKR 54,999</td><td>INR 19,999</td><td>CNY 1,700</td><td>USD 240</td><td>AED 860</td><td>2024</td></tr><tr><td>Realme</td><td>Narzo 70 Turbo 5G 256GB</td><td>200g</td><td>8GB</td><td>16MP</td><td>50MP + 2MP</td><td>MediaTek Dimensity 810</td><td>5,000mAh</td><td>6.6 inches</td><td>PKR 59,999</td><td>INR 21,999</td><td>CNY 1,800</td><td>USD 260</td><td>AED 920</td><td>2024</td></tr><tr><td>Realme</td><td>Narzo N61 128GB</td><td>195g</td><td>6GB</td><td>16MP</td><td>50MP + 2MP</td><td>MediaTek Helio G99</td><td>5,000mAh</td><td>6.5 inches</td><td>PKR 39,999</td><td>INR 14,999</td><td>CNY 1,200</td><td>USD 180</td><td>AED 660</td><td>2024</td></tr><tr><td>Realme</td><td>Narzo N63 128GB</td><td>193g</td><td>6GB</td><td>16MP</td><td>50MP + 2MP</td><td>MediaTek Helio G88</td><td>5,000mAh</td><td>6.5 inches</td><td>PKR 37,999</td><td>INR 13,999</td><td>CNY 1,100</td><td>USD 160</td><td>AED 600</td><td>2024</td></tr><tr><td>Realme</td><td>Narzo N65 5G 128GB</td><td>198g</td><td>8GB</td><td>16MP</td><td>50MP + 2MP</td><td>MediaTek Dimensity 700</td><td>5,000mAh</td><td>6.6 inches</td><td>PKR 47,999</td><td>INR 17,999</td><td>CNY 1,500</td><td>USD 210</td><td>AED 780</td><td>2024</td></tr><tr><td>Realme</td><td>Narzo 70 5G 128GB</td><td>198g</td><td>8GB</td><td>16MP</td><td>50MP + 2MP</td><td>MediaTek Dimensity 810</td><td>5,200mAh</td><td>6.6 inches</td><td>PKR 52,999</td><td>INR 19,499</td><td>CNY 1,600</td><td>USD 230</td><td>AED 830</td><td>2024</td></tr><tr><td>Realme</td><td>C75 128GB</td><td>190g</td><td>6GB</td><td>8MP</td><td>50MP + 2MP</td><td>MediaTek Helio G85</td><td>5,000mAh</td><td>6.6 inches</td><td>PKR 37,999</td><td>INR 13,999</td><td>CNY 1,100</td><td>USD 160</td><td>AED 600</td><td>2024</td></tr><tr><td>Realme</td><td>C75 256GB</td><td>190g</td><td>8GB</td><td>8MP</td><td>50MP + 2MP</td><td>MediaTek Helio G85</td><td>5,000mAh</td><td>6.6 inches</td><td>PKR 42,999</td><td>INR 15,999</td><td>CNY 1,200</td><td>USD 180</td><td>AED 660</td><td>2024</td></tr><tr><td>Realme</td><td>C61 128GB</td><td>189g</td><td>4GB</td><td>8MP</td><td>50MP + 2MP</td><td>Unisoc T612</td><td>5,000mAh</td><td>6.5 inches</td><td>PKR 32,999</td><td>INR 11,999</td><td>CNY 900</td><td>USD 130</td><td>AED 500</td><td>2024</td></tr><tr><td>Realme</td><td>C67 128GB</td><td>195g</td><td>6GB</td><td>8MP</td><td>50MP + 2MP</td><td>MediaTek Helio G88</td><td>5,000mAh</td><td>6.6 inches</td><td>PKR 39,999</td><td>INR 14,999</td><td>CNY 1,200</td><td>USD 170</td><td>AED 620</td><td>2024</td></tr><tr><td>Realme</td><td>C67 256GB</td><td>195g</td><td>8GB</td><td>8MP</td><td>50MP + 2MP</td><td>MediaTek Helio G88</td><td>5,000mAh</td><td>6.6 inches</td><td>PKR 44,999</td><td>INR 16,999</td><td>CNY 1,300</td><td>USD 190</td><td>AED 680</td><td>2024</td></tr><tr><td>Realme</td><td>C65 128GB</td><td>192g</td><td>6GB</td><td>8MP</td><td>50MP + 2MP</td><td>Qualcomm Snapdragon 680</td><td>5,000mAh</td><td>6.6 inches</td><td>PKR 37,999</td><td>INR 13,999</td><td>CNY 1,100</td><td>USD 160</td><td>AED 600</td><td>2024</td></tr><tr><td>Realme</td><td>C65 256GB</td><td>192g</td><td>8GB</td><td>8MP</td><td>50MP + 2MP</td><td>Qualcomm Snapdragon 680</td><td>5,000mAh</td><td>6.6 inches</td><td>PKR 42,999</td><td>INR 15,999</td><td>CNY 1,200</td><td>USD 180</td><td>AED 660</td><td>2024</td></tr><tr><td>Realme</td><td>C63 128GB</td><td>191g</td><td>6GB</td><td>8MP</td><td>50MP + 2MP</td><td>MediaTek Helio G85</td><td>5,000mAh</td><td>6.6 inches</td><td>PKR 36,999</td><td>INR 13,499</td><td>CNY 1,050</td><td>USD 150</td><td>AED 580</td><td>2024</td></tr><tr><td>Realme</td><td>C55 128GB</td><td>189g</td><td>6GB</td><td>8MP</td><td>64MP + 2MP</td><td>MediaTek Helio G88</td><td>5,000mAh</td><td>6.72 inches</td><td>PKR 39,999</td><td>INR 14,999</td><td>CNY 1,200</td><td>USD 170</td><td>AED 620</td><td>2023</td></tr><tr><td>Realme</td><td>C55 256GB</td><td>189g</td><td>8GB</td><td>8MP</td><td>64MP + 2MP</td><td>MediaTek Helio G88</td><td>5,000mAh</td><td>6.72 inches</td><td>PKR 44,999</td><td>INR 16,999</td><td>CNY 1,300</td><td>USD 190</td><td>AED 680</td><td>2023</td></tr><tr><td>Realme</td><td>Note 60x 128GB</td><td>198g</td><td>6GB</td><td>16MP</td><td>50MP + 2MP</td><td>MediaTek Dimensity 6100+</td><td>5,200mAh</td><td>6.6 inches</td><td>PKR 47,999</td><td>INR 17,999</td><td>CNY 1,500</td><td>USD 210</td><td>AED 780</td><td>2024</td></tr><tr><td>Realme</td><td>Note 60 128GB</td><td>196g</td><td>6GB</td><td>16MP</td><td>50MP + 2MP</td><td>MediaTek Dimensity 810</td><td>5,200mAh</td><td>6.6 inches</td><td>PKR 49,999</td><td>INR 18,999</td><td>CNY 1,600</td><td>USD 220</td><td>AED 820</td><td>2024</td></tr><tr><td>Realme</td><td>Note 60 256GB</td><td>196g</td><td>8GB</td><td>16MP</td><td>50MP + 2MP</td><td>MediaTek Dimensity 810</td><td>5,200mAh</td><td>6.6 inches</td><td>PKR 54,999</td><td>INR 20,999</td><td>CNY 1,700</td><td>USD 240</td><td>AED 880</td><td>2024</td></tr><tr><td>Realme</td><td>Note 50 128GB</td><td>195g</td><td>6GB</td><td>16MP</td><td>50MP + 2MP</td><td>MediaTek Helio G99</td><td>5,000mAh</td><td>6.5 inches</td><td>PKR 42,999</td><td>INR 15,999</td><td>CNY 1,200</td><td>USD 170</td><td>AED 620</td><td>2024</td></tr><tr><td>Realme</td><td>GT 7 128GB</td><td>199g</td><td>8GB</td><td>16MP</td><td>50MP + 8MP + 2MP</td><td>Qualcomm Snapdragon 8 Gen 2</td><td>5,200mAh</td><td>6.8 inches</td><td>PKR 124,999</td><td>INR 47,999</td><td>CNY 3,200</td><td>USD 440</td><td>AED 1,620</td><td>2024</td></tr><tr><td>Realme</td><td>GT 7 256GB</td><td>199g</td><td>12GB</td><td>16MP</td><td>50MP + 8MP + 2MP</td><td>Qualcomm Snapdragon 8 Gen 2</td><td>5,200mAh</td><td>6.8 inches</td><td>PKR 139,999</td><td>INR 53,999</td><td>CNY 3,600</td><td>USD 500</td><td>AED 1,800</td><td>2024</td></tr><tr><td>Realme</td><td>Neo 7 128GB</td><td>193g</td><td>8GB</td><td>16MP</td><td>64MP + 8MP + 2MP</td><td>MediaTek Dimensity 8200</td><td>5,000mAh</td><td>6.7 inches</td><td>PKR 79,999</td><td>INR 30,999</td><td>CNY 2,400</td><td>USD 330</td><td>AED 1,200</td><td>2024</td></tr><tr><td>Realme</td><td>Neo 7 256GB</td><td>193g</td><td>12GB</td><td>16MP</td><td>64MP + 8MP + 2MP</td><td>MediaTek Dimensity 8200</td><td>5,000mAh</td><td>6.7 inches</td><td>PKR 94,999</td><td>INR 36,999</td><td>CNY 2,800</td><td>USD 380</td><td>AED 1,400</td><td>2024</td></tr><tr><td>Realme</td><td>P2 Pro 5G 128GB</td><td>195g</td><td>8GB</td><td>16MP</td><td>50MP + 8MP</td><td>MediaTek Dimensity 9200</td><td>5,100mAh</td><td>6.7 inches</td><td>PKR 84,999</td><td>INR 32,999</td><td>CNY 2,500</td><td>USD 350</td><td>AED 1,250</td><td>2024</td></tr><tr><td>Realme</td><td>P2 Pro 5G 256GB</td><td>195g</td><td>12GB</td><td>16MP</td><td>50MP + 8MP</td><td>MediaTek Dimensity 9200</td><td>5,100mAh</td><td>6.7 inches</td><td>PKR 99,999</td><td>INR 38,999</td><td>CNY 2,900</td><td>USD 400</td><td>AED 1,400</td><td>2024</td></tr><tr><td>Realme</td><td>Pad 64GB</td><td>440g</td><td>4GB</td><td>8MP</td><td>8MP</td><td>MediaTek Helio G80</td><td>7,100mAh</td><td>10.4 inches</td><td>PKR 57,999</td><td>INR 19,999</td><td>CNY 1,400</td><td>USD 200</td><td>AED 740</td><td>2021</td></tr><tr><td>Realme</td><td>Pad 128GB</td><td>440g</td><td>6GB</td><td>8MP</td><td>8MP</td><td>MediaTek Helio G80</td><td>7,100mAh</td><td>10.4 inches</td><td>PKR 64,999</td><td>INR 22,999</td><td>CNY 1,600</td><td>USD 230</td><td>AED 850</td><td>2021</td></tr><tr><td>Realme</td><td>Pad 2 128GB</td><td>482g</td><td>6GB</td><td>8MP</td><td>8MP</td><td>MediaTek Helio G99</td><td>8,360mAh</td><td>11.5 inches</td><td>PKR 74,999</td><td>INR 27,999</td><td>CNY 2,000</td><td>USD 280</td><td>AED 1,050</td><td>2023</td></tr><tr><td>Realme</td><td>Pad 2 256GB</td><td>482g</td><td>8GB</td><td>8MP</td><td>8MP</td><td>MediaTek Helio G99</td><td>8,360mAh</td><td>11.5 inches</td><td>PKR 84,999</td><td>INR 31,999</td><td>CNY 2,300</td><td>USD 320</td><td>AED 1,200</td><td>2023</td></tr><tr><td>Realme</td><td>Pad 2 Lite 64GB</td><td>466g</td><td>4GB</td><td>8MP</td><td>8MP</td><td>MediaTek Helio G85</td><td>7,100mAh</td><td>10.4 inches</td><td>PKR 54,999</td><td>INR 18,999</td><td>CNY 1,300</td><td>USD 190</td><td>AED 700</td><td>2023</td></tr><tr><td>Realme</td><td>Pad 2 Lite 128GB</td><td>466g</td><td>6GB</td><td>8MP</td><td>8MP</td><td>MediaTek Helio G85</td><td>7,100mAh</td><td>10.4 inches</td><td>PKR 61,999</td><td>INR 20,999</td><td>CNY 1,500</td><td>USD 210</td><td>AED 770</td><td>2023</td></tr><tr><td>Realme</td><td>Pad X 64GB</td><td>499g</td><td>4GB</td><td>8MP</td><td>13MP</td><td>Qualcomm Snapdragon 695</td><td>8,340mAh</td><td>11 inches</td><td>PKR 79,999</td><td>INR 29,999</td><td>CNY 2,200</td><td>USD 310</td><td>AED 1,150</td><td>2022</td></tr><tr><td>Realme</td><td>Pad X 128GB</td><td>499g</td><td>6GB</td><td>8MP</td><td>13MP</td><td>Qualcomm Snapdragon 695</td><td>8,340mAh</td><td>11 inches</td><td>PKR 89,999</td><td>INR 33,999</td><td>CNY 2,500</td><td>USD 350</td><td>AED 1,300</td><td>2022</td></tr><tr><td>Realme</td><td>Pad Mini 32GB</td><td>372g</td><td>3GB</td><td>5MP</td><td>8MP</td><td>Unisoc T616</td><td>6,400mAh</td><td>8.7 inches</td><td>PKR 44,999</td><td>INR 15,999</td><td>CNY 1,100</td><td>USD 160</td><td>AED 600</td><td>2022</td></tr><tr><td>Realme</td><td>Pad Mini 64GB</td><td>372g</td><td>4GB</td><td>5MP</td><td>8MP</td><td>Unisoc T616</td><td>6,400mAh</td><td>8.7 inches</td><td>PKR 49,999</td><td>INR 17,999</td><td>CNY 1,300</td><td>USD 180</td><td>AED 660</td><td>2022</td></tr><tr><td>Realme</td><td>Pad Slim 64GB</td><td>440g</td><td>4GB</td><td>8MP</td><td>8MP</td><td>MediaTek Helio G80</td><td>7,100mAh</td><td>10.4 inches</td><td>PKR 56,999</td><td>INR 19,499</td><td>CNY 1,350</td><td>USD 200</td><td>AED 730</td><td>2022</td></tr><tr><td>Realme</td><td>Pad Slim 128GB</td><td>440g</td><td>6GB</td><td>8MP</td><td>8MP</td><td>MediaTek Helio G80</td><td>7,100mAh</td><td>10.4 inches</td><td>PKR 62,999</td><td>INR 21,999</td><td>CNY 1,550</td><td>USD 220</td><td>AED 800</td><td>2022</td></tr><tr><td>Realme</td><td>TechLife Pad Neo 64GB</td><td>465g</td><td>4GB</td><td>8MP</td><td>8MP</td><td>MediaTek Helio G85</td><td>7,200mAh</td><td>10.5 inches</td><td>PKR 59,999</td><td>INR 20,999</td><td>CNY 1,400</td><td>USD 210</td><td>AED 770</td><td>2024</td></tr><tr><td>Realme</td><td>TechLife Pad Neo 128GB</td><td>465g</td><td>6GB</td><td>8MP</td><td>8MP</td><td>MediaTek Helio G85</td><td>7,200mAh</td><td>10.5 inches</td><td>PKR 64,999</td><td>INR 22,999</td><td>CNY 1,600</td><td>USD 230</td><td>AED 850</td><td>2024</td></tr><tr><td>Xiaomi</td><td>Xiaomi 15 Pro 256GB</td><td>210g</td><td>12GB</td><td>32MP</td><td>50MP (Main) + 50MP (Ultra-wide) + 50MP (Telephoto)</td><td>Snapdragon 8 Elite</td><td>6,100mAh</td><td>6.73 inches</td><td>PKR 199,999</td><td>INR 89,999</td><td>CNY 5,299</td><td>USD 799</td><td>AED 3,299</td><td>2024</td></tr><tr><td>Xiaomi</td><td>Xiaomi 15 Pro 512GB</td><td>210g</td><td>16GB</td><td>32MP</td><td>50MP (Main) + 50MP (Ultra-wide) + 50MP (Telephoto)</td><td>Snapdragon 8 Elite</td><td>6,100mAh</td><td>6.73 inches</td><td>PKR 219,999</td><td>INR 99,999</td><td>CNY 5,799</td><td>USD 899</td><td>AED 3,699</td><td>2024</td></tr><tr><td>Xiaomi</td><td>Xiaomi 15 Pro 1TB</td><td>210g</td><td>16GB</td><td>32MP</td><td>50MP (Main) + 50MP (Ultra-wide) + 50MP (Telephoto)</td><td>Snapdragon 8 Elite</td><td>6,100mAh</td><td>6.73 inches</td><td>PKR 239,999</td><td>INR 109,999</td><td>CNY 6,499</td><td>USD 999</td><td>AED 4,099</td><td>2024</td></tr><tr><td>Xiaomi</td><td>Xiaomi 15 256GB</td><td>190g</td><td>12GB</td><td>32MP</td><td>50MP (Main) + 50MP (Ultra-wide)</td><td>Snapdragon 8 Elite</td><td>5,400mAh</td><td>6.36 inches</td><td>PKR 179,999</td><td>INR 79,999</td><td>CNY 4,299</td><td>USD 699</td><td>AED 2,899</td><td>2024</td></tr><tr><td>Xiaomi</td><td>Xiaomi 15 512GB</td><td>190g</td><td>16GB</td><td>32MP</td><td>50MP (Main) + 50MP (Ultra-wide)</td><td>Snapdragon 8 Elite</td><td>5,400mAh</td><td>6.36 inches</td><td>PKR 199,999</td><td>INR 89,999</td><td>CNY 4,799</td><td>USD 799</td><td>AED 3,299</td><td>2024</td></tr><tr><td>Xiaomi</td><td>Xiaomi 14T Pro 256GB</td><td>209g</td><td>12GB</td><td>32MP</td><td>50MP (Main) + 50MP (Ultra-wide) + 50MP (Telephoto)</td><td>Dimensity 9300+</td><td>5,000mAh</td><td>6.67 inches</td><td>PKR 169,999</td><td>INR 74,999</td><td>CNY 3,999</td><td>USD 634.99</td><td>AED 2,699</td><td>2024</td></tr><tr><td>Xiaomi</td><td>Xiaomi 14T Pro 512GB</td><td>209g</td><td>12GB</td><td>32MP</td><td>50MP (Main) + 50MP (Ultra-wide) + 50MP (Telephoto)</td><td>Dimensity 9300+</td><td>5,000mAh</td><td>6.67 inches</td><td>PKR 189,999</td><td>INR 84,999</td><td>CNY 4,299</td><td>USD 790.77</td><td>AED 2,999</td><td>2024</td></tr><tr><td>Xiaomi</td><td>Xiaomi 14T Pro 1TB</td><td>209g</td><td>12GB</td><td>32MP</td><td>50MP (Main) + 50MP (Ultra-wide) + 50MP (Telephoto)</td><td>Dimensity 9300+</td><td>5,000mAh</td><td>6.67 inches</td><td>PKR 209,999</td><td>INR 94,999</td><td>CNY 4,799</td><td>USD 899</td><td>AED 3,299</td><td>2024</td></tr><tr><td>Xiaomi</td><td>Xiaomi 14T 256GB</td><td>195g</td><td>12GB</td><td>32MP</td><td>50MP (Main) + 50MP (Ultra-wide)</td><td>Dimensity 8300-Ultra</td><td>5,000mAh</td><td>6.67 inches</td><td>PKR 149,999</td><td>INR 69,999</td><td>CNY 3,499</td><td>USD 599</td><td>AED 2,499</td><td>2024</td></tr><tr><td>Xiaomi</td><td>Xiaomi 14T 512GB</td><td>195g</td><td>12GB</td><td>32MP</td><td>50MP (Main) + 50MP (Ultra-wide)</td><td>Dimensity 8300-Ultra</td><td>5,000mAh</td><td>6.67 inches</td><td>PKR 169,999</td><td>INR 79,999</td><td>CNY 3,799</td><td>USD 699</td><td>AED 2,799</td><td>2024</td></tr><tr><td>Xiaomi</td><td>Xiaomi 14 Pro 256GB</td><td>206g</td><td>12GB</td><td>32MP</td><td>50MP (Main) + 50MP (Ultra-wide) + 50MP (Telephoto)</td><td>Snapdragon 8 Gen 3</td><td>5,000mAh</td><td>6.73 inches</td><td>PKR 189,999</td><td>INR 84,999</td><td>CNY 4,799</td><td>USD 799</td><td>AED 3,299</td><td>2023</td></tr><tr><td>Xiaomi</td><td>Xiaomi 14 Pro 512GB</td><td>206g</td><td>12GB</td><td>32MP</td><td>50MP (Main) + 50MP (Ultra-wide) + 50MP (Telephoto)</td><td>Snapdragon 8 Gen 3</td><td>5,000mAh</td><td>6.73 inches</td><td>PKR 209,999</td><td>INR 94,999</td><td>CNY 5,299</td><td>USD 899</td><td>AED 3,699</td><td>2023</td></tr><tr><td>Xiaomi</td><td>Xiaomi 14 256GB</td><td>189g</td><td>12GB</td><td>32MP</td><td>50MP (Main) + 50MP (Ultra-wide)</td><td>Snapdragon 8 Gen 3</td><td>4,610mAh</td><td>6.36 inches</td><td>PKR 169,999</td><td>INR 74,999</td><td>CNY 3,999</td><td>USD 699</td><td>AED 2,899</td><td>2023</td></tr><tr><td>Xiaomi</td><td>Xiaomi 14 512GB</td><td>189g</td><td>12GB</td><td>32MP</td><td>50MP (Main) + 50MP (Ultra-wide)</td><td>Snapdragon 8 Gen 3</td><td>4,610mAh</td><td>6.36 inches</td><td>PKR 189,999</td><td>INR 84,999</td><td>CNY 4,499</td><td>USD 799</td><td>AED 3,299</td><td>2023</td></tr><tr><td>Xiaomi</td><td>Redmi Note 14 Pro+ 5G 128GB</td><td>205g</td><td>8GB</td><td>16MP</td><td>200MP (Main) + 8MP (Ultra-wide) + 2MP (Macro)</td><td>Snapdragon 7s Gen 3</td><td>5,110mAh</td><td>6.67 inches</td><td>PKR 89,999</td><td>INR 29,999</td><td>CNY 2,499</td><td>USD 374.90</td><td>AED 1,499</td><td>2024</td></tr><tr><td>Xiaomi</td><td>Redmi Note 14 Pro+ 5G 256GB</td><td>205g</td><td>12GB</td><td>16MP</td><td>200MP (Main) + 8MP (Ultra-wide) + 2MP (Macro)</td><td>Snapdragon 7s Gen 3</td><td>5,110mAh</td><td>6.67 inches</td><td>PKR 99,999</td><td>INR 32,999</td><td>CNY 2,799</td><td>USD 399.00</td><td>AED 1,599</td><td>2024</td></tr><tr><td>Xiaomi</td><td>Redmi Note 14 Pro+ 5G 512GB</td><td>205g</td><td>16GB</td><td>16MP</td><td>200MP (Main) + 8MP (Ultra-wide) + 2MP (Macro)</td><td>Snapdragon 7s Gen 3</td><td>5,110mAh</td><td>6.67 inches</td><td>PKR 109,999</td><td>INR 35,999</td><td>CNY 3,099</td><td>USD 429.00</td><td>AED 1,699</td><td>2024</td></tr><tr><td>Xiaomi</td><td>Redmi Note 14 Pro 5G 128GB</td><td>195g</td><td>8GB</td><td>16MP</td><td>108MP (Main) + 8MP (Ultra-wide) + 2MP (Macro)</td><td>MediaTek Dimensity 7300-Ultra</td><td>5,500mAh</td><td>6.67 inches</td><td>PKR 79,999</td><td>INR 27,999</td><td>CNY 2,199</td><td>USD 349.00</td><td>AED 1,399</td><td>2024</td></tr><tr><td>Xiaomi</td><td>Redmi Note 14 Pro 5G 256GB</td><td>195g</td><td>12GB</td><td>16MP</td><td>108MP (Main) + 8MP (Ultra-wide) + 2MP (Macro)</td><td>MediaTek Dimensity 7300-Ultra</td><td>5,500mAh</td><td>6.67 inches</td><td>PKR 89,999</td><td>INR 30,999</td><td>CNY 2,499</td><td>USD 379.00</td><td>AED 1,499</td><td>2024</td></tr><tr><td>Xiaomi</td><td>Redmi Note 14 Pro 4G 128GB</td><td>190g</td><td>6GB</td><td>16MP</td><td>108MP (Main) + 8MP (Ultra-wide) + 2MP (Macro)</td><td>Qualcomm Snapdragon 732G</td><td>5,000mAh</td><td>6.67 inches</td><td>PKR 69,999</td><td>INR 24,999</td><td>CNY 1,999</td><td>USD 299.00</td><td>AED 1,199</td><td>2024</td></tr><tr><td>Xiaomi</td><td>Redmi Note 14 Pro 4G 256GB</td><td>190g</td><td>8GB</td><td>16MP</td><td>108MP (Main) + 8MP (Ultra-wide) + 2MP (Macro)</td><td>Qualcomm Snapdragon 732G</td><td>5,000mAh</td><td>6.67 inches</td><td>PKR 79,999</td><td>INR 27,999</td><td>CNY 2,299</td><td>USD 329.00</td><td>AED 1,299</td><td>2024</td></tr><tr><td>Xiaomi</td><td>Redmi Note 14 5G 128GB</td><td>185g</td><td>6GB</td><td>16MP</td><td>50MP (Main) + 8MP (Ultra-wide) + 2MP (Macro)</td><td>MediaTek Dimensity 7025-Ultra</td><td>5,000mAh</td><td>6.67 inches</td><td>PKR 59,999</td><td>INR 21,999</td><td>CNY 1,799</td><td>USD 279.00</td><td>AED 1,099</td><td>2024</td></tr><tr><td>Xiaomi</td><td>Redmi Note 14 5G 256GB</td><td>185g</td><td>8GB</td><td>16MP</td><td>50MP (Main) + 8MP (Ultra-wide) + 2MP (Macro)</td><td>MediaTek Dimensity 7025-Ultra</td><td>5,000mAh</td><td>6.67 inches</td><td>PKR 69,999</td><td>INR 24,999</td><td>CNY 2,099</td><td>USD 309.00</td><td>AED 1,199</td><td>2024</td></tr><tr><td>Xiaomi</td><td>Redmi Note 14 4G 128GB</td><td>180g</td><td>4GB</td><td>16MP</td><td>50MP (Main) + 8MP (Ultra-wide) + 2MP (Macro)</td><td>Qualcomm Snapdragon 680</td><td>5,000mAh</td><td>6.67 inches</td><td>PKR 49,999</td><td>INR 18,999</td><td>CNY 1,599</td><td>USD 249.00</td><td>AED 999</td><td>2024</td></tr><tr><td>Xiaomi</td><td>Redmi Note 14 4G 256GB</td><td>180g</td><td>6GB</td><td>16MP</td><td>50MP (Main) + 8MP (Ultra-wide) + 2MP (Macro)</td><td>Qualcomm Snapdragon 680</td><td>5,000mAh</td><td>6.67 inches</td><td>PKR 59,999</td><td>INR 21,999</td><td>CNY 1,899</td><td>USD 279.00</td><td>AED 1,099</td><td>2024</td></tr><tr><td>Xiaomi</td><td>Redmi 14C 5G 64GB</td><td>195g</td><td>4GB</td><td>8MP</td><td>50MP (Main) + 2MP (Depth)</td><td>MediaTek Dimensity 700</td><td>5,000mAh</td><td>6.5 inches</td><td>PKR 39,999</td><td>INR 14,999</td><td>CNY 1,299</td><td>USD 199.00</td><td>AED 799</td><td>2024</td></tr><tr><td>Xiaomi</td><td>Redmi 14C 5G 128GB</td><td>195g</td><td>6GB</td><td>8MP</td><td>50MP (Main) + 2MP (Depth)</td><td>MediaTek Dimensity 700</td><td>5,000mAh</td><td>6.5 inches</td><td>PKR 44,999</td><td>INR 16,999</td><td>CNY 1,499</td><td>USD 229.00</td><td>AED 899</td><td>2024</td></tr><tr><td>Lenovo</td><td>Legion Y70 128GB</td><td>209g</td><td>8GB</td><td>16MP</td><td>50MP</td><td>Snapdragon 8+ Gen 1</td><td>5,100mAh</td><td>6.67 inches</td><td>PKR 139,999</td><td>INR 49,999</td><td>CNY 3,299</td><td>USD 499</td><td>AED 1,899</td><td>2022</td></tr><tr><td>Lenovo</td><td>Legion Y70 256GB</td><td>209g</td><td>12GB</td><td>16MP</td><td>50MP</td><td>Snapdragon 8+ Gen 1</td><td>5,100mAh</td><td>6.67 inches</td><td>PKR 159,999</td><td>INR 54,999</td><td>CNY 3,699</td><td>USD 549</td><td>AED 2,099</td><td>2022</td></tr><tr><td>Lenovo</td><td>Legion Y70 512GB</td><td>209g</td><td>16GB</td><td>16MP</td><td>50MP</td><td>Snapdragon 8+ Gen 1</td><td>5,100mAh</td><td>6.67 inches</td><td>PKR 179,999</td><td>INR 59,999</td><td>CNY 4,199</td><td>USD 599</td><td>AED 2,299</td><td>2022</td></tr><tr><td>Lenovo</td><td>K14 Plus 64GB</td><td>198g</td><td>4GB</td><td>8MP</td><td>48MP</td><td>Unisoc T700</td><td>5,000mAh</td><td>6.5 inches</td><td>PKR 29,999</td><td>INR 10,999</td><td>CNY 1,299</td><td>USD 199</td><td>AED 749</td><td>2022</td></tr><tr><td>Lenovo</td><td>K14 Plus 128GB</td><td>198g</td><td>6GB</td><td>8MP</td><td>48MP</td><td>Unisoc T700</td><td>5,000mAh</td><td>6.5 inches</td><td>PKR 34,999</td><td>INR 12,999</td><td>CNY 1,499</td><td>USD 229</td><td>AED 849</td><td>2022</td></tr><tr><td>Lenovo</td><td>K13 Pro 128GB</td><td>200g</td><td>6GB</td><td>16MP</td><td>64MP</td><td>Snapdragon 662</td><td>5,000mAh</td><td>6.8 inches</td><td>PKR 39,999</td><td>INR 14,999</td><td>CNY 1,699</td><td>USD 249</td><td>AED 949</td><td>2021</td></tr><tr><td>Lenovo</td><td>K13 32GB</td><td>190g</td><td>2GB</td><td>5MP</td><td>13MP</td><td>Unisoc SC9863A</td><td>5,000mAh</td><td>6.52 inches</td><td>PKR 19,999</td><td>INR 7,499</td><td>CNY 999</td><td>USD 149</td><td>AED 549</td><td>2021</td></tr><tr><td>Lenovo</td><td>K13 Note 64GB</td><td>200g</td><td>4GB</td><td>8MP</td><td>48MP</td><td>Snapdragon 460</td><td>5,000mAh</td><td>6.5 inches</td><td>PKR 29,999</td><td>INR 11,999</td><td>CNY 1,299</td><td>USD 199</td><td>AED 749</td><td>2021</td></tr><tr><td>Lenovo</td><td>K10 Plus 64GB</td><td>172g</td><td>4GB</td><td>16MP</td><td>13MP</td><td>Snapdragon 632</td><td>4,050mAh</td><td>6.22 inches</td><td>PKR 24,999</td><td>INR 10,999</td><td>CNY 1,199</td><td>USD 179</td><td>AED 699</td><td>2019</td></tr><tr><td>Lenovo</td><td>A6 Note 32GB</td><td>172g</td><td>3GB</td><td>5MP</td><td>13MP</td><td>Helio P22</td><td>4,000mAh</td><td>6.09 inches</td><td>PKR 19,999</td><td>INR 9,999</td><td>CNY 999</td><td>USD 149</td><td>AED 549</td><td>2019</td></tr><tr><td>Lenovo</td><td>K10 Note 64GB</td><td>164g</td><td>4GB</td><td>16MP</td><td>16MP</td><td>Snapdragon 710</td><td>4,050mAh</td><td>6.3 inches</td><td>PKR 29,999</td><td>INR 13,999</td><td>CNY 1,499</td><td>USD 219</td><td>AED 799</td><td>2019</td></tr><tr><td>Lenovo</td><td>K10 Note 128GB</td><td>164g</td><td>6GB</td><td>16MP</td><td>16MP</td><td>Snapdragon 710</td><td>4,050mAh</td><td>6.3 inches</td><td>PKR 34,999</td><td>INR 15,999</td><td>CNY 1,699</td><td>USD 249</td><td>AED 899</td><td>2019</td></tr><tr><td>Lenovo</td><td>Z6 Pro 128GB</td><td>185g</td><td>6GB</td><td>32MP</td><td>48MP</td><td>Snapdragon 855</td><td>4,000mAh</td><td>6.39 inches</td><td>PKR 69,999</td><td>INR 39,999</td><td>CNY 2,899</td><td>USD 429</td><td>AED 1,599</td><td>2019</td></tr><tr><td>Lenovo</td><td>Z6 Pro 256GB</td><td>185g</td><td>8GB</td><td>32MP</td><td>48MP</td><td>Snapdragon 855</td><td>4,000mAh</td><td>6.39 inches</td><td>PKR 79,999</td><td>INR 44,999</td><td>CNY 3,299</td><td>USD 479</td><td>AED 1,799</td><td>2019</td></tr><tr><td>Lenovo</td><td>Z5 Pro 64GB</td><td>210g</td><td>6GB</td><td>16MP</td><td>16MP</td><td>Snapdragon 710</td><td>3,350mAh</td><td>6.39 inches</td><td>PKR 49,999</td><td>INR 21,400</td><td>CNY 1,998</td><td>USD 299</td><td>AED 1,099</td><td>2018</td></tr><tr><td>Motorola</td><td>Edge 50 Fusion 128GB</td><td>168g</td><td>8GB</td><td>32MP</td><td>50MP</td><td>Snapdragon 7 Gen 1</td><td>5,000mAh</td><td>6.7 inches</td><td>PKR 139,999</td><td>INR 29,999</td><td>CNY 2,499</td><td>USD 499</td><td>AED 1,899</td><td>2024</td></tr><tr><td>Motorola</td><td>Edge 50 Fusion 256GB</td><td>168g</td><td>12GB</td><td>32MP</td><td>50MP</td><td>Snapdragon 7 Gen 1</td><td>5,000mAh</td><td>6.7 inches</td><td>PKR 159,999</td><td>INR 34,999</td><td>CNY 2,799</td><td>USD 549</td><td>AED 2,099</td><td>2024</td></tr><tr><td>Motorola</td><td>Edge 50 Pro 128GB</td><td>186g</td><td>8GB</td><td>50MP</td><td>50MP</td><td>Snapdragon 7 Gen 3</td><td>4,500mAh</td><td>6.7 inches</td><td>PKR 169,999</td><td>INR 34,999</td><td>CNY 2,999</td><td>USD 549</td><td>AED 2,099</td><td>2024</td></tr><tr><td>Motorola</td><td>Edge 50 Pro 256GB</td><td>186g</td><td>12GB</td><td>50MP</td><td>50MP</td><td>Snapdragon 7 Gen 3</td><td>4,500mAh</td><td>6.7 inches</td><td>PKR 189,999</td><td>INR 39,999</td><td>CNY 3,299</td><td>USD 599</td><td>AED 2,299</td><td>2024</td></tr><tr><td>Motorola</td><td>Razr 128GB</td><td>192g</td><td>8GB</td><td>32MP</td><td>50MP</td><td>Snapdragon 8+ Gen 1</td><td>3,500mAh</td><td>6.7 inches (main), 2.7 inches (external)</td><td>PKR 199,999</td><td>INR 59,999</td><td>CNY 5,999</td><td>USD 999</td><td>AED 3,699</td><td>2023</td></tr><tr><td>Motorola</td><td>Razr 256GB</td><td>192g</td><td>12GB</td><td>32MP</td><td>50MP</td><td>Snapdragon 8+ Gen 1</td><td>3,500mAh</td><td>6.7 inches (main), 2.7 inches (external)</td><td>PKR 219,999</td><td>INR 64,999</td><td>CNY 6,499</td><td>USD 1,099</td><td>AED 3,999</td><td>2023</td></tr><tr><td>Motorola</td><td>G84 5G 128GB</td><td>166g</td><td>8GB</td><td>16MP</td><td>50MP</td><td>Snapdragon 695</td><td>5,000mAh</td><td>6.5 inches</td><td>PKR 79,999</td><td>INR 19,999</td><td>CNY 1,799</td><td>USD 299</td><td>AED 1,099</td><td>2023</td></tr><tr><td>Motorola</td><td>G84 5G 256GB</td><td>166g</td><td>12GB</td><td>16MP</td><td>50MP</td><td>Snapdragon 695</td><td>5,000mAh</td><td>6.5 inches</td><td>PKR 89,999</td><td>INR 22,999</td><td>CNY 1,999</td><td>USD 349</td><td>AED 1,299</td><td>2023</td></tr><tr><td>Motorola</td><td>Moto G Stylus 64GB</td><td>195g</td><td>4GB</td><td>16MP</td><td>50MP</td><td>MediaTek Helio G88</td><td>5,000mAh</td><td>6.8 inches</td><td>PKR 49,999</td><td>INR 21,999</td><td>CNY 1,499</td><td>USD 199</td><td>AED 799</td><td>2023</td></tr><tr><td>Motorola</td><td>Moto G Stylus 128GB</td><td>195g</td><td>6GB</td><td>16MP</td><td>50MP</td><td>MediaTek Helio G88</td><td>5,000mAh</td><td>6.8 inches</td><td>PKR 54,999</td><td>INR 24,999</td><td>CNY 1,699</td><td>USD 249</td><td>AED 899</td><td>2023</td></tr><tr><td>Motorola</td><td>One Vision 3 128GB</td><td>180g</td><td>6GB</td><td>25MP</td><td>48MP</td><td>Exynos 9609</td><td>3,500mAh</td><td>6.3 inches</td><td>PKR 39,999</td><td>INR 19,999</td><td>CNY 1,399</td><td>USD 299</td><td>AED 1,099</td><td>2024</td></tr><tr><td>Motorola</td><td>One Vision 3 256GB</td><td>180g</td><td>8GB</td><td>25MP</td><td>48MP</td><td>Exynos 9609</td><td>3,500mAh</td><td>6.3 inches</td><td>PKR 44,999</td><td>INR 22,999</td><td>CNY 1,599</td><td>USD 349</td><td>AED 1,299</td><td>2024</td></tr><tr><td>Motorola</td><td>Edge 50 Lite 128GB</td><td>170g</td><td>6GB</td><td>32MP</td><td>64MP</td><td>Snapdragon 695</td><td>5,000mAh</td><td>6.7 inches</td><td>PKR 59,999</td><td>INR 27,999</td><td>CNY 2,199</td><td>USD 399</td><td>AED 1,499</td><td>2024</td></tr><tr><td>Motorola</td><td>Edge 50 Lite 256GB</td><td>170g</td><td>8GB</td><td>32MP</td><td>64MP</td><td>Snapdragon 695</td><td>5,000mAh</td><td>6.7 inches</td><td>PKR 64,999</td><td>INR 29,999</td><td>CNY 2,399</td><td>USD 449</td><td>AED 1,699</td><td>2024</td></tr><tr><td>Motorola</td><td>Moto E40 Plus 64GB</td><td>198g</td><td>4GB</td><td>8MP</td><td>48MP</td><td>Unisoc T700</td><td>5,000mAh</td><td>6.5 inches</td><td>PKR 29,999</td><td>INR 11,999</td><td>CNY 1,299</td><td>USD 199</td><td>AED 749</td><td>2023</td></tr><tr><td>Motorola</td><td>Moto E40 Plus 128GB</td><td>198g</td><td>6GB</td><td>8MP</td><td>48MP</td><td>Unisoc T700</td><td>5,000mAh</td><td>6.5 inches</td><td>PKR 34,999</td><td>INR 13,999</td><td>CNY 1,499</td><td>USD 229</td><td>AED 849</td><td>2023</td></tr><tr><td>Motorola</td><td>Moto G Power 64GB</td><td>206g</td><td>4GB</td><td>16MP</td><td>50MP</td><td>Snapdragon 662</td><td>5,000mAh</td><td>6.6 inches</td><td>PKR 39,999</td><td>INR 17,999</td><td>CNY 1,599</td><td>USD 249</td><td>AED 949</td><td>2022</td></tr><tr><td>Motorola</td><td>Moto G Power 128GB</td><td>206g</td><td>6GB</td><td>16MP</td><td>50MP</td><td>Snapdragon 662</td><td>5,000mAh</td><td>6.6 inches</td><td>PKR 44,999</td><td>INR 19,999</td><td>CNY 1,799</td><td>USD 279</td><td>AED 1,049</td><td>2022</td></tr><tr><td>Motorola</td><td>Moto G Play 32GB</td><td>203g</td><td>3GB</td><td>5MP</td><td>13MP</td><td>MediaTek Helio G25</td><td>5,000mAh</td><td>6.5 inches</td><td>PKR 24,999</td><td>INR 9,999</td><td>CNY 999</td><td>USD 149</td><td>AED 549</td><td>2022</td></tr><tr><td>Motorola</td><td>Moto G Play 64GB</td><td>203g</td><td>4GB</td><td>5MP</td><td>13MP</td><td>MediaTek Helio G25</td><td>5,000mAh</td><td>6.5 inches</td><td>PKR 29,999</td><td>INR 11,999</td><td>CNY 1,199</td><td>USD 179</td><td>AED 649</td><td>2022</td></tr><tr><td>Motorola</td><td>Moto G75 5G 128GB</td><td>205g</td><td>8GB</td><td>16MP</td><td>50MP</td><td>Snapdragon 6 Gen 3</td><td>5,000mAh</td><td>6.78 inches</td><td>PKR 89,999</td><td>INR 34,999</td><td>CNY 2,699</td><td>USD 320</td><td>AED 1,175</td><td>2024</td></tr><tr><td>Motorola</td><td>Moto G75 5G 256GB</td><td>205g</td><td>8GB</td><td>16MP</td><td>50MP</td><td>Snapdragon 6 Gen 3</td><td>5,000mAh</td><td>6.78 inches</td><td>PKR 99,999</td><td>INR 39,999</td><td>CNY 2,999</td><td>USD 370</td><td>AED 1,350</td><td>2024</td></tr><tr><td>Motorola</td><td>Moto S50 128GB</td><td>190g</td><td>8GB</td><td>32MP</td><td>64MP</td><td>MediaTek Dimensity 8100</td><td>4,500mAh</td><td>6.7 inches</td><td>PKR 79,999</td><td>INR 29,999</td><td>CNY 2,499</td><td>USD 300</td><td>AED 1,100</td><td>2024</td></tr><tr><td>Motorola</td><td>Moto S50 256GB</td><td>190g</td><td>12GB</td><td>32MP</td><td>64MP</td><td>MediaTek Dimensity 8100</td><td>4,500mAh</td><td>6.7 inches</td><td>PKR 89,999</td><td>INR 34,999</td><td>CNY 2,799</td><td>USD 350</td><td>AED 1,275</td><td>2024</td></tr><tr><td>Motorola</td><td>Edge 50 Neo 256GB</td><td>171g</td><td>8GB</td><td>32MP</td><td>50MP</td><td>MediaTek Dimensity 7300</td><td>4,310mAh</td><td>6.4 inches</td><td>PKR 99,999</td><td>INR 39,999</td><td>CNY 2,999</td><td>USD 400</td><td>AED 1,500</td><td>2024</td></tr><tr><td>Motorola</td><td>Edge 50 Neo 512GB</td><td>171g</td><td>12GB</td><td>32MP</td><td>50MP</td><td>MediaTek Dimensity 7300</td><td>4,310mAh</td><td>6.4 inches</td><td>PKR 109,999</td><td>INR 44,999</td><td>CNY 3,299</td><td>USD 450</td><td>AED 1,675</td><td>2024</td></tr><tr><td>Motorola</td><td>Moto G55 128GB</td><td>182g</td><td>8GB</td><td>16MP</td><td>50MP</td><td>MediaTek Dimensity 7025</td><td>5,000mAh</td><td>6.49 inches</td><td>PKR 69,999</td><td>INR 26,999</td><td>CNY 2,199</td><td>USD 270</td><td>AED 1,000</td><td>2024</td></tr><tr><td>Motorola</td><td>Moto G55 256GB</td><td>182g</td><td>8GB</td><td>16MP</td><td>50MP</td><td>MediaTek Dimensity 7025</td><td>5,000mAh</td><td>6.49 inches</td><td>PKR 79,999</td><td>INR 29,999</td><td>CNY 2,499</td><td>USD 320</td><td>AED 1,175</td><td>2024</td></tr><tr><td>Motorola</td><td>Moto G35 128GB</td><td>188g</td><td>4GB</td><td>16MP</td><td>50MP</td><td>Unisoc T760</td><td>5,000mAh</td><td>6.72 inches</td><td>PKR 49,999</td><td>INR 18,999</td><td>CNY 1,599</td><td>USD 200</td><td>AED 750</td><td>2024</td></tr><tr><td>Motorola</td><td>Moto G35 256GB</td><td>188g</td><td>8GB</td><td>16MP</td><td>50MP</td><td>Unisoc T760</td><td>5,000mAh</td><td>6.72 inches</td><td>PKR 59,999</td><td>INR 22,999</td><td>CNY 1,899</td><td>USD 250</td><td>AED 925</td><td>2024</td></tr><tr><td>Motorola</td><td>Moto G45 128GB</td><td>183g</td><td>6GB</td><td>16MP</td><td>50MP</td><td>Snapdragon 6s Gen 3</td><td>5,000mAh</td><td>6.5 inches</td><td>PKR 59,999</td><td>INR 22,999</td><td>CNY 1,899</td><td>USD 250</td><td>AED 925</td><td>2024</td></tr><tr><td>Motorola</td><td>Moto G45 256GB</td><td>183g</td><td>8GB</td><td>16MP</td><td>50MP</td><td>Snapdragon 6s Gen 3</td><td>5,000mAh</td><td>6.5 inches</td><td>PKR 69,999</td><td>INR 26,999</td><td>CNY 2,199</td><td>USD 300</td><td>AED 1,100</td><td>2024</td></tr><tr><td>Motorola</td><td>Edge 50 256GB</td><td>180g</td><td>8GB</td><td>32MP</td><td>50MP</td><td>Snapdragon 7s Gen 2</td><td>4,700mAh</td><td>6.7 inches</td><td>PKR 109,999</td><td>INR 44,999</td><td>CNY 3,299</td><td>USD 450</td><td>AED 1,675</td><td>2024</td></tr><tr><td>Motorola</td><td>Edge 50 512GB</td><td>180g</td><td>12GB</td><td>32MP</td><td>50MP</td><td>Snapdragon 7s Gen 2</td><td>4,700mAh</td><td>6.7 inches</td><td>PKR 119,999</td><td>INR 49,999</td><td>CNY 3,599</td><td>USD 500</td><td>AED 1,850</td><td>2024</td></tr><tr><td>Motorola</td><td>Razr 50 Ultra 512GB</td><td>189g</td><td>12GB</td><td>32MP</td><td>50MP</td><td>Snapdragon 8+ Gen 1</td><td>4,000mAh</td><td>6.9 inches (internal), 4.0 inches (external)</td><td>PKR 249,999</td><td>INR 99,999</td><td>CNY 7,999</td><td>USD 1,199</td><td>AED 4,399</td><td>2024</td></tr><tr><td>Motorola</td><td>Razr 50 256GB</td><td>188g</td><td>8GB</td><td>32MP</td><td>50MP</td><td>Snapdragon 7 Gen 1</td><td>3,800mAh</td><td>6.7 inches (internal), 3.6 inches (external)</td><td>PKR 199,999</td><td>INR 79,999</td><td>CNY 5,999</td><td>USD 999</td><td>AED 3,699</td><td>2024</td></tr><tr><td>Motorola</td><td>Moto G85 128GB</td><td>173g</td><td>8GB</td><td>32MP</td><td>50MP</td><td>Snapdragon 6s Gen 3</td><td>5,000mAh</td><td>6.67 inches</td><td>PKR 79,999</td><td>INR 29,999</td><td>CNY 2,499</td><td>USD 320</td><td>AED 1,175</td><td>2024</td></tr><tr><td>Motorola</td><td>Moto G85 256GB</td><td>173g</td><td>12GB</td><td>32MP</td><td>50MP</td><td>Snapdragon 6s Gen 3</td><td>5,000mAh</td><td>6.67 inches</td><td>PKR 89,999</td><td>INR 34,999</td><td>CNY 2,799</td><td>USD 370</td><td>AED 1,350</td><td>2024</td></tr><tr><td>Motorola</td><td>S50 Neo 256GB</td><td>170g</td><td>8GB</td><td>32MP</td><td>50MP</td><td>MediaTek Dimensity 7200</td><td>4,300mAh</td><td>6.5 inches</td><td>PKR 69,999</td><td>INR 26,999</td><td>CNY 2,199</td><td>USD 300</td><td>AED 1,100</td><td>2024</td></tr><tr><td>Motorola</td><td>S50 Neo 512GB</td><td>170g</td><td>12GB</td><td>32MP</td><td>50MP</td><td>MediaTek Dimensity 7200</td><td>4,300mAh</td><td>6.5 inches</td><td>PKR 79,999</td><td>INR 29,999</td><td>CNY 2,499</td><td>USD 350</td><td>AED 1,275</td><td>2024</td></tr><tr><td>Motorola</td><td>Moto E14 64GB</td><td>180g</td><td>4GB</td><td>8MP</td><td>13MP</td><td>Unisoc T606</td><td>5,000mAh</td><td>6.5 inches</td><td>PKR 29,999</td><td>INR 11,999</td><td>CNY 999</td><td>USD 150</td><td>AED 550</td><td>2024</td></tr><tr><td>Motorola</td><td>Moto E14 128GB</td><td>180g</td><td>4GB</td><td>8MP</td><td>13MP</td><td>Unisoc T606</td><td>5,000mAh</td><td>6.5 inches</td><td>PKR 34,999</td><td>INR 13,999</td><td>CNY 1,199</td><td>USD 180</td><td>AED 650</td><td>2024</td></tr><tr><td>Motorola</td><td>Edge 256GB</td><td>174g</td><td>8GB</td><td>32MP</td><td>50MP</td><td>Snapdragon 7s Gen 2</td><td>4,700mAh</td><td>6.7 inches</td><td>PKR 109,999</td><td>INR 44,999</td><td>CNY 3,299</td><td>USD 450</td><td>AED 1,675</td><td>2024</td></tr><tr><td>Motorola</td><td>Edge 512GB</td><td>174g</td><td>12GB</td><td>32MP</td><td>50MP</td><td>Snapdragon 7s Gen 2</td><td>4,700mAh</td><td>6.7 inches</td><td>PKR 119,999</td><td>INR 49,999</td><td>CNY 3,599</td><td>USD 500</td><td>AED 1,850</td><td>2024</td></tr><tr><td>Motorola</td><td>Moto X50 Ultra 512GB</td><td>198g</td><td>12GB</td><td>60MP</td><td>200MP</td><td>Snapdragon 8 Gen 3</td><td>5,000mAh</td><td>6.9 inches</td><td>PKR 299,999</td><td>INR 119,999</td><td>CNY 8,999</td><td>USD 1,499</td><td>AED 5,499</td><td>2024</td></tr><tr><td>Motorola</td><td>Moto G Stylus 5G 256GB</td><td>195g</td><td>6GB</td><td>16MP</td><td>50MP</td><td>Snapdragon 6 Gen 1</td><td>5,000mAh</td><td>6.8 inches</td><td>PKR 69,999</td><td>INR 26,999</td><td>CNY 2,199</td><td>USD 300</td><td>AED 1,100</td><td>2024</td></tr><tr><td>Motorola</td><td>Moto G Stylus 5G 512GB</td><td>195g</td><td>8GB</td><td>16MP</td><td>50MP</td><td>Snapdragon 6 Gen 1</td><td>5,000mAh</td><td>6.8 inches</td><td>PKR 79,999</td><td>INR 29,999</td><td>CNY 2,499</td><td>USD 350</td><td>AED 1,275</td><td>2024</td></tr><tr><td>Motorola</td><td>Edge 50 Ultra 512GB</td><td>198g</td><td>12GB</td><td>60MP</td><td>200MP</td><td>Snapdragon 8 Gen 3</td><td>5,000mAh</td><td>6.9 inches</td><td>PKR 299,999</td><td>INR 119,999</td><td>CNY 8,999</td><td>USD 1,499</td><td>AED 5,499</td><td>2024</td></tr><tr><td>Motorola</td><td>Edge 30 Fusion 128GB</td><td>168g</td><td>8GB</td><td>32MP</td><td>50MP</td><td>Snapdragon 888+ 5G</td><td>4,400mAh</td><td>6.55 inches</td><td>PKR 119,999</td><td>INR 49,999</td><td>CNY 3,999</td><td>USD 699</td><td>AED 2,599</td><td>2022</td></tr><tr><td>Motorola</td><td>Edge 30 Fusion 256GB</td><td>168g</td><td>12GB</td><td>32MP</td><td>50MP</td><td>Snapdragon 888+ 5G</td><td>4,400mAh</td><td>6.55 inches</td><td>PKR 129,999</td><td>INR 54,999</td><td>CNY 4,299</td><td>USD 749</td><td>AED 2,799</td><td>2022</td></tr><tr><td>Motorola</td><td>Edge 30 Neo 128GB</td><td>155g</td><td>6GB</td><td>32MP</td><td>64MP</td><td>Snapdragon 695 5G</td><td>4,020mAh</td><td>6.28 inches</td><td>PKR 89,999</td><td>INR 34,999</td><td>CNY 2,499</td><td>USD 499</td><td>AED 1,799</td><td>2022</td></tr><tr><td>Motorola</td><td>Edge 30 Neo 256GB</td><td>155g</td><td>8GB</td><td>32MP</td><td>64MP</td><td>Snapdragon 695 5G</td><td>4,020mAh</td><td>6.28 inches</td><td>PKR 99,999</td><td>INR 39,999</td><td>CNY 2,799</td><td>USD 549</td><td>AED 1,999</td><td>2022</td></tr><tr><td>Motorola</td><td>Moto G82 5G 128GB</td><td>173g</td><td>6GB</td><td>16MP</td><td>50MP</td><td>Snapdragon 695 5G</td><td>5,000mAh</td><td>6.6 inches</td><td>PKR 64,999</td><td>INR 24,999</td><td>CNY 1,999</td><td>USD 399</td><td>AED 1,499</td><td>2022</td></tr><tr><td>Motorola</td><td>Moto G82 5G 256GB</td><td>173g</td><td>8GB</td><td>16MP</td><td>50MP</td><td>Snapdragon 695 5G</td><td>5,000mAh</td><td>6.6 inches</td><td>PKR 74,999</td><td>INR 29,999</td><td>CNY 2,299</td><td>USD 449</td><td>AED 1,699</td><td>2022</td></tr><tr><td>Motorola</td><td>Moto G62 5G 128GB</td><td>184g</td><td>4GB</td><td>16MP</td><td>50MP</td><td>Snapdragon 480+ 5G</td><td>5,000mAh</td><td>6.5 inches</td><td>PKR 54,999</td><td>INR 19,999</td><td>CNY 1,599</td><td>USD 349</td><td>AED 1,299</td><td>2022</td></tr><tr><td>Motorola</td><td>Moto G62 5G 256GB</td><td>184g</td><td>6GB</td><td>16MP</td><td>50MP</td><td>Snapdragon 480+ 5G</td><td>5,000mAh</td><td>6.5 inches</td><td>PKR 64,999</td><td>INR 24,999</td><td>CNY 1,899</td><td>USD 399</td><td>AED 1,499</td><td>2022</td></tr><tr><td>Motorola</td><td>Moto G42 128GB</td><td>175g</td><td>4GB</td><td>16MP</td><td>50MP</td><td>Snapdragon 680 4G</td><td>5,000mAh</td><td>6.4 inches</td><td>PKR 44,999</td><td>INR 16,999</td><td>CNY 1,399</td><td>USD 299</td><td>AED 1,099</td><td>2022</td></tr><tr><td>Motorola</td><td>Moto G32 128GB</td><td>184g</td><td>4GB</td><td>16MP</td><td>50MP</td><td>Snapdragon 680 4G</td><td>5,000mAh</td><td>6.5 inches</td><td>PKR 39,999</td><td>INR 14,999</td><td>CNY 1,299</td><td>USD 279</td><td>AED 999</td><td>2022</td></tr><tr><td>Motorola</td><td>Moto E32s 64GB</td><td>185g</td><td>3GB</td><td>8MP</td><td>16MP</td><td>MediaTek Helio G37</td><td>5,000mAh</td><td>6.5 inches</td><td>PKR 29,999</td><td>INR 11,999</td><td>CNY 999</td><td>USD 199</td><td>AED 749</td><td>2022</td></tr><tr><td>Motorola</td><td>Moto E22i 32GB</td><td>169g</td><td>2GB</td><td>5MP</td><td>16MP</td><td>MediaTek Helio G37</td><td>4,020mAh</td><td>6.5 inches</td><td>PKR 24,999</td><td>INR 9,999</td><td>CNY 899</td><td>USD 179</td><td>AED 699</td><td>2022</td></tr><tr><td>Motorola</td><td>Moto E22 64GB</td><td>169g</td><td>4GB</td><td>5MP</td><td>16MP</td><td>MediaTek Helio G37</td><td>4,020mAh</td><td>6.5 inches</td><td>PKR 27,999</td><td>INR 10,999</td><td>CNY 999</td><td>USD 199</td><td>AED 749</td><td>2022</td></tr><tr><td>Motorola</td><td>Moto G22 64GB</td><td>185g</td><td>4GB</td><td>16MP</td><td>50MP</td><td>MediaTek Helio G37</td><td>5,000mAh</td><td>6.5 inches</td><td>PKR 34,999</td><td>INR 12,999</td><td>CNY 1,199</td><td>USD 249</td><td>AED 899</td><td>2022</td></tr><tr><td>Huawei</td><td>P50</td><td>181g</td><td>8GB</td><td>13MP</td><td>50MP</td><td>Snapdragon 888 4G</td><td>4,100mAh</td><td>6.5 inches</td><td>PKR 129,999</td><td>INR 59,999</td><td>CNY 4,488</td><td>USD 699</td><td>AED 2,599</td><td>2021</td></tr><tr><td>Huawei</td><td>P50 Pro</td><td>195g</td><td>8GB</td><td>13MP</td><td>50MP</td><td>Snapdragon 888 4G</td><td>4,360mAh</td><td>6.6 inches</td><td>PKR 149,999</td><td>INR 79,999</td><td>CNY 5,988</td><td>USD 899</td><td>AED 3,299</td><td>2021</td></tr><tr><td>Huawei</td><td>P50 Pocket</td><td>190g</td><td>8GB</td><td>10.7MP</td><td>40MP</td><td>Snapdragon 888 4G</td><td>4,000mAh</td><td>6.9 inches (unfolded)</td><td>PKR 199,999</td><td>INR 129,999</td><td>CNY 8,988</td><td>USD 1,299</td><td>AED 4,799</td><td>2021</td></tr><tr><td>Huawei</td><td>Mate 40E</td><td>188g</td><td>8GB</td><td>13MP</td><td>64MP</td><td>Kirin 990E 5G</td><td>4,200mAh</td><td>6.5 inches</td><td>PKR 139,999</td><td>INR 69,999</td><td>CNY 4,599</td><td>USD 799</td><td>AED 2,999</td><td>2021</td></tr><tr><td>Huawei</td><td>Mate X2</td><td>295g</td><td>8GB</td><td>16MP</td><td>50MP</td><td>Kirin 9000 5G</td><td>4,500mAh</td><td>8.0 inches (unfolded)</td><td>PKR 349,999</td><td>INR 249,999</td><td>CNY 17,999</td><td>USD 2,699</td><td>AED 9,999</td><td>2021</td></tr><tr><td>Huawei</td><td>Nova 9</td><td>175g</td><td>8GB</td><td>32MP</td><td>50MP</td><td>Snapdragon 778G 4G</td><td>4,300mAh</td><td>6.57 inches</td><td>PKR 89,999</td><td>INR 37,999</td><td>CNY 2,699</td><td>USD 499</td><td>AED 1,899</td><td>2021</td></tr><tr><td>Huawei</td><td>Nova 9 Pro</td><td>186g</td><td>8GB</td><td>Dual 32MP</td><td>50MP</td><td>Snapdragon 778G 4G</td><td>4,000mAh</td><td>6.72 inches</td><td>PKR 109,999</td><td>INR 44,999</td><td>CNY 3,499</td><td>USD 599</td><td>AED 2,199</td><td>2021</td></tr><tr><td>Huawei</td><td>P50E</td><td>181g</td><td>8GB</td><td>13MP</td><td>50MP</td><td>Snapdragon 778G 4G</td><td>4,100mAh</td><td>6.5 inches</td><td>PKR 119,999</td><td>INR 54,999</td><td>CNY 4,088</td><td>USD 649</td><td>AED 2,399</td><td>2022</td></tr><tr><td>Huawei</td><td>Mate Xs 2</td><td>255g</td><td>8GB</td><td>10.7MP</td><td>50MP</td><td>Snapdragon 888 4G</td><td>4,600mAh</td><td>7.8 inches (unfolded)</td><td>PKR 299,999</td><td>INR 199,999</td><td>CNY 14,999</td><td>USD 2,499</td><td>AED 8,999</td><td>2022</td></tr><tr><td>Huawei</td><td>Mate 50</td><td>202g</td><td>8GB</td><td>13MP</td><td>50MP</td><td>Snapdragon 8+ Gen 1 4G</td><td>4,460mAh</td><td>6.7 inches</td><td>PKR 169,999</td><td>INR 84,999</td><td>CNY 6,299</td><td>USD 999</td><td>AED 3,699</td><td>2022</td></tr><tr><td>Huawei</td><td>Mate 50 Pro</td><td>205g</td><td>8GB</td><td>13MP</td><td>50MP</td><td>Snapdragon 8+ Gen 1 4G</td><td>4,700mAh</td><td>6.74 inches</td><td>PKR 189,999</td><td>INR 99,999</td><td>CNY 7,299</td><td>USD 1,199</td><td>AED 4,399</td><td>2022</td></tr><tr><td>Huawei</td><td>Nova 10</td><td>168g</td><td>8GB</td><td>60MP</td><td>50MP</td><td>Snapdragon 778G 4G</td><td>4,000mAh</td><td>6.67 inches</td><td>PKR 99,999</td><td>INR 39,999</td><td>CNY 2,699</td><td>USD 499</td><td>AED 1,899</td><td>2022</td></tr><tr><td>Huawei</td><td>Nova 10 Pro</td><td>191g</td><td>8GB</td><td>Dual 60MP</td><td>50MP</td><td>Snapdragon 778G 4G</td><td>4,500mAh</td><td>6.78 inches</td><td>PKR 119,999</td><td>INR 49,999</td><td>CNY 3,499</td><td>USD 599</td><td>AED 2,199</td><td>2022</td></tr><tr><td>Huawei</td><td>Nova 10 SE</td><td>184g</td><td>8GB</td><td>16MP</td><td>108MP</td><td>Snapdragon 680 4G</td><td>4,500mAh</td><td>6.67 inches</td><td>PKR 79,999</td><td>INR 34,999</td><td>CNY 2,299</td><td>USD 399</td><td>AED 1,499</td><td>2022</td></tr><tr><td>Huawei</td><td>P60</td><td>197g</td><td>8GB</td><td>13MP</td><td>48MP (wide) + 13MP (ultrawide) + 48MP (telephoto)</td><td>Snapdragon 8+ Gen 1 4G</td><td>4,815mAh</td><td>6.67 inches</td><td>PKR 169,999</td><td>INR 84,999</td><td>CNY 6,988</td><td>USD 999</td><td>AED 3,699</td><td>2023</td></tr><tr><td>Huawei</td><td>P60 Pro</td><td>200g</td><td>8GB / 12GB</td><td>13MP</td><td>48MP (wide) + 13MP (ultrawide) + 48MP (telephoto)</td><td>Snapdragon 8+ Gen 1 4G</td><td>4,815mAh</td><td>6.67 inches</td><td>PKR 189,999</td><td>INR 99,999</td><td>CNY 7,988</td><td>USD 1,099</td><td>AED 4,199</td><td>2023</td></tr><tr><td>Huawei</td><td>P60 Art</td><td>206g</td><td>8GB / 12GB</td><td>13MP</td><td>48MP (wide) + 40MP (ultrawide) + 48MP (telephoto)</td><td>Snapdragon 8+ Gen 1 4G</td><td>5,100mAh</td><td>6.73 inches</td><td>PKR 219,999</td><td>INR 119,999</td><td>CNY 8,988</td><td>USD 1,299</td><td>AED 4,799</td><td>2023</td></tr><tr><td>Huawei</td><td>Mate X3</td><td>239g</td><td>12GB</td><td>8MP</td><td>50MP (wide) + 13MP (ultrawide) + 12MP (periscope telephoto)</td><td>Snapdragon 8+ Gen 1 4G</td><td>4,800mAh</td><td>7.85 inches (unfolded)</td><td>PKR 349,999</td><td>INR 249,999</td><td>CNY 13,999</td><td>USD 2,499</td><td>AED 9,999</td><td>2023</td></tr><tr><td>Huawei</td><td>Mate 60</td><td>209g</td><td>12GB</td><td>13MP</td><td>50MP (wide) + 12MP (ultrawide) + 12MP (telephoto)</td><td>Kirin 9000S</td><td>4,750mAh</td><td>6.7 inches</td><td>PKR 199,999</td><td>INR 109,999</td><td>CNY 6,999</td><td>USD 1,099</td><td>AED 4,099</td><td>2023</td></tr><tr><td>Huawei</td><td>Mate 60 Pro</td><td>225g</td><td>12GB</td><td>13MP</td><td>50MP (wide) + 40MP (ultrawide) + 48MP (telephoto)</td><td>Kirin 9000S</td><td>5,000mAh</td><td>6.82 inches</td><td>PKR 229,999</td><td>INR 129,999</td><td>CNY 7,999</td><td>USD 1,299</td><td>AED 4,699</td><td>2023</td></tr><tr><td>Huawei</td><td>Mate 60 Pro+</td><td>235g</td><td>12GB</td><td>13MP</td><td>50MP (wide) + 48MP (ultrawide) + 48MP (telephoto)</td><td>Kirin 9000S</td><td>5,200mAh</td><td>6.82 inches</td><td>PKR 249,999</td><td>INR 149,999</td><td>CNY 8,999</td><td>USD 1,499</td><td>AED 5,199</td><td>2023</td></tr><tr><td>Huawei</td><td>Nova 11</td><td>168g</td><td>8GB</td><td>60MP</td><td>50MP (wide) + 8MP (ultrawide)</td><td>Snapdragon 778G 4G</td><td>4,500mAh</td><td>6.7 inches</td><td>PKR 89,999</td><td>INR 44,999</td><td>CNY 2,999</td><td>USD 499</td><td>AED 1,899</td><td>2023</td></tr><tr><td>Huawei</td><td>Nova 11 Pro</td><td>188g</td><td>8GB</td><td>60MP (ultrawide) + 8MP (telephoto)</td><td>50MP (wide) + 8MP (ultrawide)</td><td>Snapdragon 778G 4G</td><td>4,500mAh</td><td>6.78 inches</td><td>PKR 109,999</td><td>INR 54,999</td><td>CNY 3,499</td><td>USD 599</td><td>AED 2,199</td><td>2023</td></tr><tr><td>Huawei</td><td>Nova 11 Ultra</td><td>188g</td><td>12GB</td><td>60MP (ultrawide) + 8MP (telephoto)</td><td>50MP (wide) + 8MP (ultrawide)</td><td>Snapdragon 778G 4G</td><td>4,500mAh</td><td>6.78 inches</td><td>PKR 129,999</td><td>INR 64,999</td><td>CNY 3,999</td><td>USD 699</td><td>AED 2,499</td><td>2023</td></tr><tr><td>Huawei</td><td>Pura 70</td><td>220g</td><td>12GB</td><td>13MP</td><td>50MP + 13MP + 12MP</td><td>Kirin 9010</td><td>4,900mAh</td><td>6.8 inches</td><td>PKR 169,999</td><td>INR 84,999</td><td>CNY 6,988</td><td>USD 999</td><td>AED 3,699</td><td>2024</td></tr><tr><td>Huawei</td><td>Pura 70 Pro</td><td>220g</td><td>12GB</td><td>13MP</td><td>50MP + 12.5MP + 48MP</td><td>Kirin 9010</td><td>5,050mAh</td><td>6.8 inches</td><td>PKR 189,999</td><td>INR 99,999</td><td>CNY 7,988</td><td>USD 1,099</td><td>AED 4,199</td><td>2024</td></tr><tr><td>Huawei</td><td>Pura 70 Pro+</td><td>220g</td><td>12GB</td><td>13MP</td><td>50MP + 12.5MP + 48MP</td><td>Kirin 9010</td><td>5,050mAh</td><td>6.8 inches</td><td>PKR 209,999</td><td>INR 114,999</td><td>CNY 8,988</td><td>USD 1,199</td><td>AED 4,699</td><td>2024</td></tr><tr><td>Huawei</td><td>Pura 70 Ultra</td><td>226g</td><td>16GB</td><td>13MP</td><td>50MP + 40MP + 50MP</td><td>Kirin 9010</td><td>5,200mAh</td><td>6.8 inches</td><td>PKR 229,999</td><td>INR 129,999</td><td>CNY 9,988</td><td>USD 1,299</td><td>AED 5,199</td><td>2024</td></tr><tr><td>Huawei</td><td>Mate 70</td><td>220g</td><td>12GB</td><td>13MP</td><td>50MP + 12MP</td><td>Kirin 9010</td><td>4,900mAh</td><td>6.7 inches</td><td>PKR 179,999</td><td>INR 89,999</td><td>CNY 5,499</td><td>USD 899</td><td>AED 3,399</td><td>2024</td></tr><tr><td>Huawei</td><td>Mate 70 Pro</td><td>220g</td><td>12GB</td><td>13MP</td><td>50MP + 12MP + 40MP</td><td>Kirin 9010</td><td>5,000mAh</td><td>6.8 inches</td><td>PKR 199,999</td><td>INR 104,999</td><td>CNY 6,499</td><td>USD 999</td><td>AED 3,899</td><td>2024</td></tr><tr><td>Huawei</td><td>Mate 70 Pro+</td><td>220g</td><td>12GB</td><td>13MP</td><td>50MP + 12MP + 40MP</td><td>Kirin 9010</td><td>5,000mAh</td><td>6.8 inches</td><td>PKR 219,999</td><td>INR 119,999</td><td>CNY 7,499</td><td>USD 1,099</td><td>AED 4,399</td><td>2024</td></tr><tr><td>Huawei</td><td>Mate X6</td><td>241g</td><td>12GB</td><td>8MP</td><td>50MP + 13MP + 12MP</td><td>Kirin 9010</td><td>4,800mAh</td><td>7.93 inches</td><td>PKR 349,999</td><td>INR 249,999</td><td>CNY 12,999</td><td>USD 2,499</td><td>AED 9,999</td><td>2024</td></tr><tr><td>Huawei</td><td>Nova 12</td><td>168g</td><td>8GB</td><td>60MP</td><td>50MP + 8MP</td><td>Kirin 9000S</td><td>4,500mAh</td><td>6.7 inches</td><td>PKR 89,999</td><td>INR 44,999</td><td>CNY 2,999</td><td>USD 499</td><td>AED 1,899</td><td>2024</td></tr><tr><td>Huawei</td><td>Nova 12 Pro</td><td>188g</td><td>8GB</td><td>60MP + 8MP</td><td>50MP + 8MP</td><td>Kirin 9000S</td><td>4,500mAh</td><td>6.78 inches</td><td>PKR 109,999</td><td>INR 54,999</td><td>CNY 3,499</td><td>USD 599</td><td>AED 2,199</td><td>2024</td></tr><tr><td>Huawei</td><td>Mate XT 256GB</td><td>245g</td><td>12GB</td><td>13MP</td><td>50MP + 12MP + 48MP</td><td>Kirin 9010</td><td>5,000mAh</td><td>7.92 inches</td><td>PKR 359,999</td><td>INR 259,999</td><td>CNY 13,499</td><td>USD 2,599</td><td>AED 10,499</td><td>2024</td></tr><tr><td>Huawei</td><td>Mate XT 512GB</td><td>245g</td><td>12GB</td><td>13MP</td><td>50MP + 12MP + 48MP</td><td>Kirin 9010</td><td>5,000mAh</td><td>7.92 inches</td><td>PKR 389,999</td><td>INR 274,999</td><td>CNY 14,499</td><td>USD 2,799</td><td>AED 11,099</td><td>2024</td></tr><tr><td>Huawei</td><td>Nova 13 256GB</td><td>170g</td><td>8GB</td><td>50MP</td><td>50MP + 8MP</td><td>Kirin 9000S</td><td>4,600mAh</td><td>6.7 inches</td><td>PKR 94,999</td><td>INR 47,999</td><td>CNY 3,199</td><td>USD 529</td><td>AED 1,999</td><td>2024</td></tr><tr><td>Huawei</td><td>Nova 13 512GB</td><td>170g</td><td>8GB</td><td>50MP</td><td>50MP + 8MP</td><td>Kirin 9000S</td><td>4,600mAh</td><td>6.7 inches</td><td>PKR 109,999</td><td>INR 54,999</td><td>CNY 3,699</td><td>USD 599</td><td>AED 2,299</td><td>2024</td></tr><tr><td>Huawei</td><td>Nova 13 Pro 256GB</td><td>190g</td><td>8GB</td><td>60MP + 8MP</td><td>50MP + 8MP</td><td>Kirin 9000S</td><td>4,600mAh</td><td>6.78 inches</td><td>PKR 119,999</td><td>INR 59,999</td><td>CNY 3,999</td><td>USD 649</td><td>AED 2,399</td><td>2024</td></tr><tr><td>Huawei</td><td>Nova 13 Pro 512GB</td><td>190g</td><td>8GB</td><td>60MP + 8MP</td><td>50MP + 8MP</td><td>Kirin 9000S</td><td>4,600mAh</td><td>6.78 inches</td><td>PKR 134,999</td><td>INR 67,999</td><td>CNY 4,499</td><td>USD 729</td><td>AED 2,699</td><td>2024</td></tr><tr><td>Nokia</td><td>G42 5G 128GB</td><td>193g</td><td>4GB</td><td>8MP</td><td>50MP</td><td>Snapdragon 480+</td><td>5,000mAh</td><td>6.56 inches</td><td>PKR 74,999</td><td>INR 18,999</td><td>CNY 1,499</td><td>USD 229</td><td>AED 849</td><td>2023</td></tr><tr><td>Nokia</td><td>G20 64GB</td><td>197g</td><td>4GB</td><td>8MP</td><td>48MP</td><td>MediaTek G35</td><td>5,050mAh</td><td>6.52 inches</td><td>PKR 48,999</td><td>INR 12,499</td><td>CNY 999</td><td>USD 169</td><td>AED 629</td><td>2021</td></tr><tr><td>Nokia</td><td>G20 128GB</td><td>197g</td><td>4GB</td><td>8MP</td><td>48MP</td><td>MediaTek G35</td><td>5,050mAh</td><td>6.52 inches</td><td>PKR 54,999</td><td>INR 13,999</td><td>CNY 1,199</td><td>USD 189</td><td>AED 699</td><td>2021</td></tr><tr><td>Nokia</td><td>C32 64GB</td><td>199g</td><td>3GB</td><td>8MP</td><td>50MP</td><td>Unisoc SC9863A</td><td>5,000mAh</td><td>6.52 inches</td><td>PKR 39,999</td><td>INR 9,999</td><td>CNY 899</td><td>USD 139</td><td>AED 499</td><td>2023</td></tr><tr><td>Nokia</td><td>C32 128GB</td><td>199g</td><td>4GB</td><td>8MP</td><td>50MP</td><td>Unisoc SC9863A</td><td>5,000mAh</td><td>6.52 inches</td><td>PKR 44,999</td><td>INR 10,999</td><td>CNY 999</td><td>USD 159</td><td>AED 549</td><td>2023</td></tr><tr><td>Nokia</td><td>G21 64GB</td><td>190g</td><td>4GB</td><td>8MP</td><td>50MP</td><td>Unisoc T606</td><td>5,050mAh</td><td>6.5 inches</td><td>PKR 46,999</td><td>INR 11,999</td><td>CNY 1,099</td><td>USD 169</td><td>AED 619</td><td>2022</td></tr><tr><td>Nokia</td><td>G21 128GB</td><td>190g</td><td>6GB</td><td>8MP</td><td>50MP</td><td>Unisoc T606</td><td>5,050mAh</td><td>6.5 inches</td><td>PKR 52,999</td><td>INR 13,999</td><td>CNY 1,299</td><td>USD 189</td><td>AED 699</td><td>2022</td></tr><tr><td>Nokia</td><td>C22 64GB</td><td>190g</td><td>2GB</td><td>8MP</td><td>13MP</td><td>Unisoc SC9863A</td><td>5,000mAh</td><td>6.5 inches</td><td>PKR 34,999</td><td>INR 8,499</td><td>CNY 799</td><td>USD 119</td><td>AED 449</td><td>2023</td></tr><tr><td>Nokia</td><td>C22 128GB</td><td>190g</td><td>3GB</td><td>8MP</td><td>13MP</td><td>Unisoc SC9863A</td><td>5,000mAh</td><td>6.5 inches</td><td>PKR 38,999</td><td>INR 9,499</td><td>CNY 899</td><td>USD 139</td><td>AED 499</td><td>2023</td></tr><tr><td>Nokia</td><td>G400 128GB</td><td>198g</td><td>6GB</td><td>16MP</td><td>48MP</td><td>Snapdragon 480</td><td>5,000mAh</td><td>6.58 inches</td><td>PKR 79,999</td><td>INR 22,999</td><td>CNY 1,799</td><td>USD 239</td><td>AED 899</td><td>2022</td></tr><tr><td>Sony</td><td>Xperia 1 IV 256GB</td><td>185g</td><td>12GB</td><td>12MP</td><td>12MP</td><td>Snapdragon 8 Gen 1</td><td>5,000mAh</td><td>6.5 inches</td><td>PKR 429,999</td><td>INR 119,999</td><td>CNY 7,299</td><td>USD 1,599</td><td>AED 5,799</td><td>2022</td></tr><tr><td>Sony</td><td>Xperia 5 IV 128GB</td><td>172g</td><td>8GB</td><td>12MP</td><td>12MP</td><td>Snapdragon 8 Gen 1</td><td>5,000mAh</td><td>6.1 inches</td><td>PKR 319,999</td><td>INR 89,999</td><td>CNY 5,999</td><td>USD 999</td><td>AED 3,799</td><td>2022</td></tr><tr><td>Sony</td><td>Xperia 10 IV 128GB</td><td>161g</td><td>6GB</td><td>8MP</td><td>12MP</td><td>Snapdragon 695</td><td>5,000mAh</td><td>6.0 inches</td><td>PKR 179,999</td><td>INR 49,999</td><td>CNY 3,299</td><td>USD 499</td><td>AED 1,799</td><td>2022</td></tr><tr><td>Sony</td><td>Xperia 1 V 256GB</td><td>187g</td><td>12GB</td><td>12MP</td><td>48MP</td><td>Snapdragon 8 Gen 2</td><td>5,000mAh</td><td>6.5 inches</td><td>PKR 449,999</td><td>INR 124,999</td><td>CNY 7,999</td><td>USD 1,699</td><td>AED 5,999</td><td>2023</td></tr><tr><td>Sony</td><td>Xperia 5 V 128GB</td><td>178g</td><td>8GB</td><td>12MP</td><td>48MP</td><td>Snapdragon 8 Gen 2</td><td>5,000mAh</td><td>6.1 inches</td><td>PKR 339,999</td><td>INR 94,999</td><td>CNY 6,299</td><td>USD 1,099</td><td>AED 4,099</td><td>2023</td></tr><tr><td>Sony</td><td>Xperia 10 V 128GB</td><td>164g</td><td>6GB</td><td>8MP</td><td>48MP</td><td>Snapdragon 695</td><td>5,000mAh</td><td>6.1 inches</td><td>PKR 199,999</td><td>INR 54,999</td><td>CNY 3,699</td><td>USD 599</td><td>AED 1,999</td><td>2023</td></tr><tr><td>Sony</td><td>Xperia 1 VI 256GB</td><td>190g</td><td>12GB</td><td>12MP</td><td>48MP</td><td>Snapdragon 8 Gen 3</td><td>5,000mAh</td><td>6.5 inches</td><td>PKR 469,999</td><td>INR 129,999</td><td>CNY 8,499</td><td>USD 1,799</td><td>AED 6,199</td><td>2024</td></tr><tr><td>Sony</td><td>Xperia 5 VI 128GB</td><td>180g</td><td>8GB</td><td>12MP</td><td>48MP</td><td>Snapdragon 8 Gen 3</td><td>5,000mAh</td><td>6.1 inches</td><td>PKR 349,999</td><td>INR 99,999</td><td>CNY 6,599</td><td>USD 1,199</td><td>AED 4,399</td><td>2024</td></tr><tr><td>Sony</td><td>Xperia 10 VI 128GB</td><td>167g</td><td>6GB</td><td>8MP</td><td>48MP</td><td>Snapdragon 7 Gen 1</td><td>5,000mAh</td><td>6.1 inches</td><td>PKR 209,999</td><td>INR 59,999</td><td>CNY 3,999</td><td>USD 699</td><td>AED 2,199</td><td>2024</td></tr><tr><td>Nokia</td><td>T21</td><td>466g</td><td>4GB</td><td>8MP</td><td>8MP</td><td>Unisoc T612</td><td>8200mAh</td><td>10.4 inches</td><td>PKR 52,000</td><td>INR 17,999</td><td>CNY 1,250</td><td>USD 396,22</td><td>AED 870</td><td>2022</td></tr><tr><td>Huawei</td><td>MatePad Pro 12.2 512GB</td><td>508g</td><td>12GB</td><td>16MP</td><td>13MP (f/1.8, AF)</td><td>Kirin 9000S</td><td>10,100mAh</td><td>12.2 inches</td><td>PKR 161,500</td><td>INR 49,990</td><td>CNY 4,799</td><td>USD 999</td><td>AED 2,199</td><td>2024</td></tr><tr><td>Huawei</td><td>MatePad Pro 13.2 512GB</td><td>580g</td><td>12GB</td><td>16MP</td><td>13MP (f/1.8, AF)</td><td>Kirin 9000S</td><td>10,100mAh</td><td>13.2 inches</td><td>PKR 197,000</td><td>INR 58,590</td><td>CNY 5,199</td><td>USD 877</td><td>AED 2,199</td><td>2024</td></tr><tr><td>Google</td><td>Pixel 3a 64GB</td><td>147g</td><td>4GB</td><td>8MP</td><td>12.2MP</td><td>Snapdragon 670</td><td>3,000mAh</td><td>5.6 inches</td><td>PKR 69,999</td><td>INR 39,999</td><td>CNY 2,899</td><td>USD 399</td><td>AED 1,599</td><td>2019</td></tr><tr><td>Google</td><td>Pixel 3a XL 64GB</td><td>167g</td><td>4GB</td><td>8MP</td><td>12.2MP</td><td>Snapdragon 670</td><td>3,700mAh</td><td>6.0 inches</td><td>PKR 79,999</td><td>INR 44,999</td><td>CNY 3,299</td><td>USD 479</td><td>AED 1,799</td><td>2019</td></tr><tr><td>Google</td><td>Pixel 4 64GB</td><td>162g</td><td>6GB</td><td>8MP</td><td>12.2MP</td><td>Snapdragon 855</td><td>2,800mAh</td><td>5.7 inches</td><td>PKR 119,999</td><td>INR 59,999</td><td>CNY 4,799</td><td>USD 799</td><td>AED 3,199</td><td>2019</td></tr><tr><td>Google</td><td>Pixel 4 XL 64GB</td><td>193g</td><td>6GB</td><td>8MP</td><td>12.2MP</td><td>Snapdragon 855</td><td>3,700mAh</td><td>6.3 inches</td><td>PKR 139,999</td><td>INR 69,999</td><td>CNY 5,499</td><td>USD 899</td><td>AED 3,599</td><td>2019</td></tr><tr><td>Google</td><td>Pixel 4a 128GB</td><td>143g</td><td>6GB</td><td>8MP</td><td>12.2MP</td><td>Snapdragon 730G</td><td>3,140mAh</td><td>5.8 inches</td><td>PKR 89,999</td><td>INR 31,999</td><td>CNY 2,999</td><td>USD 349</td><td>AED 1,399</td><td>2020</td></tr><tr><td>Google</td><td>Pixel 4a 5G 128GB</td><td>168g</td><td>6GB</td><td>8MP</td><td>12.2MP</td><td>Snapdragon 765G</td><td>3,885mAh</td><td>6.2 inches</td><td>PKR 109,999</td><td>INR 37,999</td><td>CNY 3,799</td><td>USD 499</td><td>AED 1,999</td><td>2020</td></tr><tr><td>Google</td><td>Pixel 5 128GB</td><td>151g</td><td>8GB</td><td>8MP</td><td>12.2MP</td><td>Snapdragon 765G</td><td>4,080mAh</td><td>6.0 inches</td><td>PKR 139,999</td><td>INR 49,999</td><td>CNY 4,599</td><td>USD 699</td><td>AED 2,799</td><td>2020</td></tr><tr><td>Google</td><td>Pixel 5a 128GB</td><td>183g</td><td>6GB</td><td>8MP</td><td>12.2MP</td><td>Snapdragon 765G</td><td>4,680mAh</td><td>6.34 inches</td><td>PKR 109,999</td><td>INR 42,999</td><td>CNY 3,999</td><td>USD 449</td><td>AED 1,799</td><td>2021</td></tr><tr><td>Google</td><td>Pixel 6 128GB</td><td>207g</td><td>8GB</td><td>8MP</td><td>50MP</td><td>Google Tensor</td><td>4,614mAh</td><td>6.4 inches</td><td>PKR 159,999</td><td>INR 59,999</td><td>CNY 5,999</td><td>USD 699</td><td>AED 2,999</td><td>2021</td></tr><tr><td>Google</td><td>Pixel 6 Pro 256GB</td><td>210g</td><td>12GB</td><td>11.1MP</td><td>50MP</td><td>Google Tensor</td><td>5,003mAh</td><td>6.71 inches</td><td>PKR 199,999</td><td>INR 79,999</td><td>CNY 7,199</td><td>USD 899</td><td>AED 3,499</td><td>2021</td></tr><tr><td>Google</td><td>Pixel 6a 128GB</td><td>178g</td><td>6GB</td><td>8MP</td><td>12.2MP</td><td>Google Tensor</td><td>4,410mAh</td><td>6.1 inches</td><td>PKR 129,999</td><td>INR 43,999</td><td>CNY 4,299</td><td>USD 449</td><td>AED 1,999</td><td>2022</td></tr><tr><td>Google</td><td>Pixel 7 128GB</td><td>197g</td><td>8GB</td><td>10.8MP</td><td>50MP</td><td>Google Tensor G2</td><td>4,355mAh</td><td>6.3 inches</td><td>PKR 169,999</td><td>INR 64,999</td><td>CNY 6,199</td><td>USD 599</td><td>AED 2,399</td><td>2022</td></tr><tr><td>Google</td><td>Pixel 7 Pro 256GB</td><td>212g</td><td>12GB</td><td>10.8MP</td><td>50MP</td><td>Google Tensor G2</td><td>5,000mAh</td><td>6.7 inches</td><td>PKR 229,999</td><td>INR 89,999</td><td>CNY 7,999</td><td>USD 899</td><td>AED 3,599</td><td>2022</td></tr><tr><td>Google</td><td>Pixel 7a 128GB</td><td>193g</td><td>8GB</td><td>10.8MP</td><td>64MP</td><td>Google Tensor G2</td><td>4,385mAh</td><td>6.1 inches</td><td>PKR 139,999</td><td>INR 44,999</td><td>CNY 4,599</td><td>USD 499</td><td>AED 2,199</td><td>2023</td></tr><tr><td>Google</td><td>Pixel 8 128GB</td><td>187g</td><td>8GB</td><td>10.5MP</td><td>50MP</td><td>Google Tensor G3</td><td>4,575mAh</td><td>6.2 inches</td><td>PKR 179,999</td><td>INR 69,999</td><td>CNY 6,399</td><td>USD 699</td><td>AED 2,799</td><td>2023</td></tr><tr><td>Google</td><td>Pixel 8 Pro 256GB</td><td>213g</td><td>12GB</td><td>10.5MP</td><td>50MP</td><td>Google Tensor G3</td><td>5,050mAh</td><td>6.7 inches</td><td>PKR 249,999</td><td>INR 99,999</td><td>CNY 8,499</td><td>USD 999</td><td>AED 3,999</td><td>2023</td></tr><tr><td>Google</td><td>Pixel 8a 128GB</td><td>194g</td><td>8GB</td><td>10.5MP</td><td>64MP</td><td>Google Tensor G3</td><td>4,385mAh</td><td>6.1 inches</td><td>PKR 149,999</td><td>INR 49,999</td><td>CNY 4,999</td><td>USD 549</td><td>AED 2,399</td><td>2024</td></tr><tr><td>Google</td><td>Pixel 9 128GB</td><td>195g</td><td>8GB</td><td>10.8MP</td><td>50MP</td><td>Google Tensor G4</td><td>4,600mAh</td><td>6.3 inches</td><td>PKR 189,999</td><td>INR 74,999</td><td>CNY 6,599</td><td>USD 799</td><td>AED 3,199</td><td>2024</td></tr><tr><td>Google</td><td>Pixel 9 Pro 256GB</td><td>216g</td><td>12GB</td><td>10.8MP</td><td>50MP</td><td>Google Tensor G4</td><td>5,050mAh</td><td>6.7 inches</td><td>PKR 259,999</td><td>INR 109,999</td><td>CNY 8,799</td><td>USD 1,099</td><td>AED 4,199</td><td>2024</td></tr><tr><td>Google</td><td>Pixel 9 Pro XL 512GB</td><td>222g</td><td>16GB</td><td>10.8MP</td><td>50MP</td><td>Google Tensor G4</td><td>5,250mAh</td><td>6.8 inches</td><td>PKR 299,999</td><td>INR 129,999</td><td>CNY 9,799</td><td>USD 1,299</td><td>AED 4,999</td><td>2024</td></tr><tr><td>Google</td><td>Pixel 9 Pro Fold 512GB</td><td>250g</td><td>16GB</td><td>10.8MP</td><td>50MP</td><td>Google Tensor G4</td><td>5,500mAh</td><td>7.6 inches</td><td>PKR 399,999</td><td>INR 179,999</td><td>CNY 13,999</td><td>USD 1,799</td><td>AED 6,999</td><td>2024</td></tr><tr><td>Tecno</td><td>Spark Go 1S 64GB</td><td>190g</td><td>4GB</td><td>8MP</td><td>13MP</td><td>MediaTek Helio A22</td><td>5,000mAh</td><td>6.6 inches</td><td>PKR 27,999</td><td>INR 9,999</td><td>CNY 799</td><td>USD 129</td><td>AED 499</td><td>2024</td></tr><tr><td>Tecno</td><td>Megapad 11 256GB</td><td>450g</td><td>8GB</td><td>13MP</td><td>50MP</td><td>MediaTek G99</td><td>8,000mAh</td><td>11 inches</td><td>PKR 69,999</td><td>INR 29,999</td><td>CNY 2,499</td><td>USD 349</td><td>AED 1,299</td><td>2024</td></tr><tr><td>Tecno</td><td>Pop 9 4G 64GB</td><td>195g</td><td>3GB</td><td>5MP</td><td>8MP</td><td>Unisoc SC9863A</td><td>5,000mAh</td><td>6.52 inches</td><td>PKR 22,999</td><td>INR 7,499</td><td>CNY 599</td><td>USD 99</td><td>AED 399</td><td>2024</td></tr><tr><td>Tecno</td><td>Megapad 128GB</td><td>420g</td><td>6GB</td><td>12MP</td><td>50MP</td><td>MediaTek Helio G80</td><td>7,500mAh</td><td>10.9 inches</td><td>PKR 59,999</td><td>INR 24,999</td><td>CNY 2,299</td><td>USD 299</td><td>AED 1,099</td><td>2024</td></tr><tr><td>Tecno</td><td>Camon 30S 256GB</td><td>198g</td><td>8GB</td><td>32MP</td><td>50MP</td><td>MediaTek Dimensity 810</td><td>5,200mAh</td><td>6.8 inches</td><td>PKR 89,999</td><td>INR 39,999</td><td>CNY 3,199</td><td>USD 499</td><td>AED 1,999</td><td>2024</td></tr><tr><td>Tecno</td><td>Spark 30C 5G 128GB</td><td>200g</td><td>6GB</td><td>16MP</td><td>50MP</td><td>MediaTek Dimensity 6100+</td><td>5,000mAh</td><td>6.6 inches</td><td>PKR 39,999</td><td>INR 14,999</td><td>CNY 1,199</td><td>USD 199</td><td>AED 749</td><td>2024</td></tr><tr><td>Tecno</td><td>Spark 30 5G 128GB</td><td>195g</td><td>6GB</td><td>16MP</td><td>50MP</td><td>MediaTek Dimensity 6020</td><td>5,000mAh</td><td>6.6 inches</td><td>PKR 42,999</td><td>INR 16,999</td><td>CNY 1,399</td><td>USD 229</td><td>AED 849</td><td>2024</td></tr><tr><td>Tecno</td><td>Pop 9 64GB</td><td>190g</td><td>3GB</td><td>5MP</td><td>8MP</td><td>Unisoc SC9832E</td><td>5,000mAh</td><td>6.52 inches</td><td>PKR 21,999</td><td>INR 6,999</td><td>CNY 549</td><td>USD 89</td><td>AED 349</td><td>2024</td></tr><tr><td>Tecno</td><td>Spark 30 Pro 256GB</td><td>205g</td><td>8GB</td><td>32MP</td><td>50MP</td><td>MediaTek Helio G99</td><td>5,200mAh</td><td>6.8 inches</td><td>PKR 54,999</td><td>INR 19,999</td><td>CNY 1,799</td><td>USD 269</td><td>AED 999</td><td>2024</td></tr><tr><td>Tecno</td><td>Spark 30 128GB</td><td>192g</td><td>4GB</td><td>16MP</td><td>50MP</td><td>MediaTek Helio G85</td><td>5,000mAh</td><td>6.6 inches</td><td>PKR 34,999</td><td>INR 12,999</td><td>CNY 1,099</td><td>USD 179</td><td>AED 699</td><td>2024</td></tr><tr><td>Tecno</td><td>Phantom V Fold2 512GB</td><td>280g</td><td>12GB</td><td>32MP</td><td>64MP</td><td>MediaTek Dimensity 9200+</td><td>5,500mAh</td><td>7.85 inches</td><td>PKR 399,999</td><td>INR 169,999</td><td>CNY 12,999</td><td>USD 1,799</td><td>AED 6,999</td><td>2024</td></tr><tr><td>Tecno</td><td>Phantom V Flip2 256GB</td><td>195g</td><td>8GB</td><td>32MP</td><td>50MP</td><td>MediaTek Dimensity 8050</td><td>4,300mAh</td><td>6.9 inches</td><td>PKR 159,999</td><td>INR 79,999</td><td>CNY 5,999</td><td>USD 999</td><td>AED 3,999</td><td>2024</td></tr><tr><td>Tecno</td><td>Pova 6 Neo 5G 256GB</td><td>225g</td><td>8GB</td><td>16MP</td><td>50MP</td><td>MediaTek Dimensity 810</td><td>6,000mAh</td><td>6.8 inches</td><td>PKR 69,999</td><td>INR 29,999</td><td>CNY 2,499</td><td>USD 349</td><td>AED 1,299</td><td>2024</td></tr><tr><td>Tecno</td><td>Spark 30C 128GB</td><td>190g</td><td>4GB</td><td>16MP</td><td>50MP</td><td>MediaTek Helio G85</td><td>5,000mAh</td><td>6.6 inches</td><td>PKR 32,999</td><td>INR 11,999</td><td>CNY 999</td><td>USD 149</td><td>AED 599</td><td>2024</td></tr><tr><td>Tecno</td><td>Spark Go 1 64GB</td><td>195g</td><td>3GB</td><td>5MP</td><td>8MP</td><td>Unisoc SC9863A</td><td>5,000mAh</td><td>6.52 inches</td><td>PKR 22,999</td><td>INR 7,499</td><td>CNY 599</td><td>USD 99</td><td>AED 399</td><td>2024</td></tr><tr><td>Tecno</td><td>Camon 30S Pro 512GB</td><td>202g</td><td>12GB</td><td>50MP</td><td>108MP</td><td>MediaTek Dimensity 9200</td><td>5,200mAh</td><td>6.9 inches</td><td>PKR 159,999</td><td>INR 79,999</td><td>CNY 6,999</td><td>USD 1,099</td><td>AED 4,199</td><td>2024</td></tr><tr><td>Tecno</td><td>Spark 20P 128GB</td><td>195g</td><td>4GB</td><td>16MP</td><td>50MP</td><td>MediaTek Helio G85</td><td>5,000mAh</td><td>6.6 inches</td><td>PKR 37,999</td><td>INR 13,999</td><td>CNY 1,199</td><td>USD 179</td><td>AED 699</td><td>2024</td></tr><tr><td>Tecno</td><td>Spark 20 Pro 5G 256GB</td><td>210g</td><td>8GB</td><td>32MP</td><td>50MP</td><td>MediaTek Dimensity 810</td><td>5,200mAh</td><td>6.8 inches</td><td>PKR 59,999</td><td>INR 24,999</td><td>CNY 2,299</td><td>USD 329</td><td>AED 1,199</td><td>2024</td></tr><tr><td>Tecno</td><td>Pova 6 Neo 256GB</td><td>230g</td><td>8GB</td><td>16MP</td><td>50MP</td><td>MediaTek Helio G99</td><td>6,000mAh</td><td>6.8 inches</td><td>PKR 55,999</td><td>INR 22,999</td><td>CNY 1,899</td><td>USD 299</td><td>AED 1,099</td><td>2024</td></tr><tr><td>Tecno</td><td>Camon 30 Premier 512GB</td><td>210g</td><td>12GB</td><td>50MP</td><td>108MP</td><td>MediaTek Dimensity 9200</td><td>5,200mAh</td><td>6.9 inches</td><td>PKR 179,999</td><td>INR 89,999</td><td>CNY 7,499</td><td>USD 1,199</td><td>AED 4,499</td><td>2024</td></tr><tr><td>Tecno</td><td>Camon 30 Pro 512GB</td><td>205g</td><td>12GB</td><td>50MP</td><td>64MP</td><td>MediaTek Dimensity 8200</td><td>5,200mAh</td><td>6.8 inches</td><td>PKR 129,999</td><td>INR 64,999</td><td>CNY 5,499</td><td>USD 899</td><td>AED 3,299</td><td>2024</td></tr><tr><td>Tecno</td><td>Camon 30 5G 256GB</td><td>198g</td><td>8GB</td><td>32MP</td><td>50MP</td><td>MediaTek Dimensity 810</td><td>5,000mAh</td><td>6.7 inches</td><td>PKR 89,999</td><td>INR 39,999</td><td>CNY 3,199</td><td>USD 499</td><td>AED 1,999</td><td>2024</td></tr><tr><td>Tecno</td><td>Camon 30 128GB</td><td>195g</td><td>6GB</td><td>32MP</td><td>50MP</td><td>MediaTek Helio G99</td><td>5,000mAh</td><td>6.7 inches</td><td>PKR 69,999</td><td>INR 29,999</td><td>CNY 2,499</td><td>USD 349</td><td>AED 1,299</td><td>2024</td></tr><tr><td>Tecno</td><td>Pova 6 Pro 512GB</td><td>230g</td><td>12GB</td><td>32MP</td><td>64MP</td><td>MediaTek Dimensity 8100</td><td>6,000mAh</td><td>6.9 inches</td><td>PKR 159,999</td><td>INR 79,999</td><td>CNY 6,999</td><td>USD 1,099</td><td>AED 4,199</td><td>2024</td></tr><tr><td>Tecno</td><td>Spark 20 Pro+ 256GB</td><td>210g</td><td>8GB</td><td>32MP</td><td>50MP</td><td>MediaTek Helio G99</td><td>5,200mAh</td><td>6.8 inches</td><td>PKR 54,999</td><td>INR 19,999</td><td>CNY 1,799</td><td>USD 269</td><td>AED 999</td><td>2024</td></tr><tr><td>Tecno</td><td>Spark 20 Pro 128GB</td><td>195g</td><td>6GB</td><td>16MP</td><td>50MP</td><td>MediaTek Helio G85</td><td>5,000mAh</td><td>6.6 inches</td><td>PKR 39,999</td><td>INR 14,999</td><td>CNY 1,199</td><td>USD 199</td><td>AED 749</td><td>2024</td></tr><tr><td>Tecno</td><td>Spark 20 128GB</td><td>192g</td><td>4GB</td><td>16MP</td><td>50MP</td><td>MediaTek Helio G85</td><td>5,000mAh</td><td>6.6 inches</td><td>PKR 34,999</td><td>INR 12,999</td><td>CNY 1,099</td><td>USD 179</td><td>AED 699</td><td>2024</td></tr><tr><td>Tecno</td><td>Spark 20C 128GB</td><td>190g</td><td>4GB</td><td>16MP</td><td>50MP</td><td>MediaTek Helio G85</td><td>5,000mAh</td><td>6.6 inches</td><td>PKR 32,999</td><td>INR 11,999</td><td>CNY 999</td><td>USD 149</td><td>AED 599</td><td>2024</td></tr><tr><td>Tecno</td><td>Spark Go 2024 64GB</td><td>195g</td><td>3GB</td><td>5MP</td><td>8MP</td><td>Unisoc SC9863A</td><td>5,000mAh</td><td>6.52 inches</td><td>PKR 22,999</td><td>INR 7,499</td><td>CNY 599</td><td>USD 99</td><td>AED 399</td><td>2024</td></tr><tr><td>Tecno</td><td>Pop 8 64GB</td><td>195g</td><td>3GB</td><td>5MP</td><td>8MP</td><td>Unisoc SC9832E</td><td>5,000mAh</td><td>6.52 inches</td><td>PKR 21,999</td><td>INR 6,999</td><td>CNY 549</td><td>USD 89</td><td>AED 349</td><td>2024</td></tr><tr><td>Tecno</td><td>Camon 20s Pro 5G 512GB</td><td>202g</td><td>12GB</td><td>50MP</td><td>108MP</td><td>MediaTek Dimensity 9200</td><td>5,200mAh</td><td>6.9 inches</td><td>PKR 159,999</td><td>INR 79,999</td><td>CNY 6,999</td><td>USD 1,099</td><td>AED 4,199</td><td>2024</td></tr><tr><td>Tecno</td><td>Camon 20s Pro 256GB</td><td>202g</td><td>12GB</td><td>50MP</td><td>108MP</td><td>MediaTek Dimensity 810</td><td>5,200mAh</td><td>6.9 inches</td><td>PKR 129,999</td><td>INR 59,999</td><td>CNY 4,999</td><td>USD 899</td><td>AED 3,499</td><td>2024</td></tr><tr><td>Tecno</td><td>Camon 20s 256GB</td><td>200g</td><td>8GB</td><td>32MP</td><td>50MP</td><td>MediaTek Helio G99</td><td>5,000mAh</td><td>6.7 inches</td><td>PKR 79,999</td><td>INR 34,999</td><td>CNY 2,799</td><td>USD 449</td><td>AED 1,799</td><td>2024</td></tr><tr><td>Tecno</td><td>Camon 20 Premier 512GB</td><td>205g</td><td>12GB</td><td>50MP</td><td>108MP</td><td>MediaTek Dimensity 8200</td><td>5,200mAh</td><td>6.8 inches</td><td>PKR 149,999</td><td>INR 74,999</td><td>CNY 6,499</td><td>USD 1,049</td><td>AED 3,999</td><td>2024</td></tr><tr><td>Tecno</td><td>Camon 20 Pro 5G 256GB</td><td>200g</td><td>8GB</td><td>32MP</td><td>50MP</td><td>MediaTek Dimensity 810</td><td>5,000mAh</td><td>6.7 inches</td><td>PKR 89,999</td><td>INR 39,999</td><td>CNY 3,199</td><td>USD 499</td><td>AED 1,999</td><td>2024</td></tr><tr><td>Tecno</td><td>Camon 20 Pro 128GB</td><td>198g</td><td>6GB</td><td>32MP</td><td>50MP</td><td>MediaTek Helio G99</td><td>5,000mAh</td><td>6.7 inches</td><td>PKR 69,999</td><td>INR 29,999</td><td>CNY 2,499</td><td>USD 349</td><td>AED 1,299</td><td>2024</td></tr><tr><td>Tecno</td><td>Camon 20 128GB</td><td>195g</td><td>6GB</td><td>32MP</td><td>50MP</td><td>MediaTek Helio G99</td><td>5,000mAh</td><td>6.7 inches</td><td>PKR 69,999</td><td>INR 29,999</td><td>CNY 2,499</td><td>USD 349</td><td>AED 1,299</td><td>2024</td></tr><tr><td>Tecno</td><td>Pova 5G 512GB</td><td>240g</td><td>8GB</td><td>32MP</td><td>50MP</td><td>MediaTek Dimensity 900</td><td>6,000mAh</td><td>6.9 inches</td><td>PKR 119,999</td><td>INR 54,999</td><td>CNY 4,499</td><td>USD 699</td><td>AED 2,799</td><td>2024</td></tr><tr><td>Tecno</td><td>Pova 5 256GB</td><td>230g</td><td>8GB</td><td>16MP</td><td>50MP</td><td>MediaTek Helio G99</td><td>6,000mAh</td><td>6.8 inches</td><td>PKR 59,999</td><td>INR 24,999</td><td>CNY 2,299</td><td>USD 329</td><td>AED 1,199</td><td>2024</td></tr><tr><td>Infinix</td><td>Xpad</td><td>450g</td><td>6GB</td><td>8MP</td><td>13MP</td><td>MediaTek Helio G99</td><td>7,000mAh</td><td>10.1 inches</td><td>PKR 54,999</td><td>INR 21,999</td><td>CNY 1,999</td><td>USD 299</td><td>AED 1,099</td><td>2024</td></tr><tr><td>Infinix</td><td>Xpad 5G</td><td>470g</td><td>8GB</td><td>16MP</td><td>50MP</td><td>MediaTek Dimensity 810</td><td>8,000mAh</td><td>10.4 inches</td><td>PKR 79,999</td><td>INR 29,999</td><td>CNY 2,499</td><td>USD 399</td><td>AED 1,499</td><td>2024</td></tr><tr><td>Infinix</td><td>Xpad Lite</td><td>420g</td><td>4GB</td><td>5MP</td><td>8MP</td><td>Unisoc T606</td><td>6,000mAh</td><td>9.7 inches</td><td>PKR 39,999</td><td>INR 14,999</td><td>CNY 1,399</td><td>USD 219</td><td>AED 799</td><td>2024</td></tr><tr><td>Infinix</td><td>Xpad Pro</td><td>480g</td><td>12GB</td><td>32MP</td><td>50MP</td><td>MediaTek Dimensity 9200</td><td>9,000mAh</td><td>11.0 inches</td><td>PKR 99,999</td><td>INR 39,999</td><td>CNY 3,499</td><td>USD 549</td><td>AED 1,999</td><td>2024</td></tr><tr><td>Infinix</td><td>Hot 50</td><td>192g</td><td>6GB</td><td>8MP</td><td>50MP</td><td>MediaTek Helio G85</td><td>5,000mAh</td><td>6.78 inches</td><td>PKR 39,999</td><td>INR 14,999</td><td>CNY 1,399</td><td>USD 219</td><td>AED 799</td><td>2024</td></tr><tr><td>Infinix</td><td>Hot 50i</td><td>190g</td><td>4GB</td><td>8MP</td><td>50MP</td><td>Unisoc T606</td><td>5,000mAh</td><td>6.6 inches</td><td>PKR 32,999</td><td>INR 12,499</td><td>CNY 1,199</td><td>USD 179</td><td>AED 699</td><td>2024</td></tr><tr><td>Infinix</td><td>Hot 50 5G</td><td>195g</td><td>8GB</td><td>16MP</td><td>50MP</td><td>MediaTek Dimensity 810</td><td>5,200mAh</td><td>6.78 inches</td><td>PKR 48,999</td><td>INR 18,999</td><td>CNY 1,799</td><td>USD 289</td><td>AED 1,049</td><td>2024</td></tr><tr><td>Infinix</td><td>Hot 50 Pro</td><td>194g</td><td>8GB</td><td>16MP</td><td>50MP</td><td>MediaTek Helio G99</td><td>5,000mAh</td><td>6.8 inches</td><td>PKR 45,999</td><td>INR 17,999</td><td>CNY 1,699</td><td>USD 269</td><td>AED 999</td><td>2024</td></tr><tr><td>Infinix</td><td>Hot 50 Pro+</td><td>196g</td><td>12GB</td><td>32MP</td><td>108MP</td><td>MediaTek Dimensity 9200</td><td>5,300mAh</td><td>6.9 inches</td><td>PKR 64,999</td><td>INR 24,999</td><td>CNY 2,499</td><td>USD 379</td><td>AED 1,399</td><td>2024</td></tr><tr><td>Infinix</td><td>GT 20 Pro</td><td>198g</td><td>12GB</td><td>32MP</td><td>108MP</td><td>MediaTek Dimensity 8200</td><td>5,500mAh</td><td>6.9 inches</td><td>PKR 89,999</td><td>INR 32,999</td><td>CNY 2,999</td><td>USD 449</td><td>AED 1,699</td><td>2024</td></tr><tr><td>Infinix</td><td>Note 40X 5G</td><td>198g</td><td>8GB</td><td>32MP</td><td>108MP</td><td>MediaTek Dimensity 7200</td><td>5,200mAh</td><td>6.8 inches</td><td>PKR 64,999</td><td>INR 23,999</td><td>CNY 2,299</td><td>USD 349</td><td>AED 1,299</td><td>2024</td></tr><tr><td>Infinix</td><td>Note 40S</td><td>196g</td><td>8GB</td><td>32MP</td><td>50MP</td><td>MediaTek Helio G99</td><td>5,000mAh</td><td>6.78 inches</td><td>PKR 42,999</td><td>INR 16,999</td><td>CNY 1,799</td><td>USD 279</td><td>AED 999</td><td>2024</td></tr><tr><td>Infinix</td><td>Note 40 5G</td><td>195g</td><td>8GB</td><td>32MP</td><td>108MP</td><td>MediaTek Dimensity 8100</td><td>5,200mAh</td><td>6.8 inches</td><td>PKR 54,999</td><td>INR 19,999</td><td>CNY 1,999</td><td>USD 319</td><td>AED 1,099</td><td>2024</td></tr><tr><td>Infinix</td><td>Note 40 Pro 5G</td><td>195g</td><td>12GB</td><td>32MP</td><td>108MP</td><td>MediaTek Dimensity 9000</td><td>5,300mAh</td><td>6.8 inches</td><td>PKR 72,999</td><td>INR 27,999</td><td>CNY 2,499</td><td>USD 399</td><td>AED 1,499</td><td>2024</td></tr><tr><td>Infinix</td><td>Note 40 Racing Edition</td><td>196g</td><td>12GB</td><td>32MP</td><td>108MP</td><td>MediaTek Dimensity 9200</td><td>5,500mAh</td><td>6.9 inches</td><td>PKR 89,999</td><td>INR 32,999</td><td>CNY 2,999</td><td>USD 449</td><td>AED 1,699</td><td>2024</td></tr><tr><td>Infinix</td><td>Hot 40</td><td>196g</td><td>8GB</td><td>32MP</td><td>50MP</td><td>MediaTek Helio G88</td><td>5,000mAh</td><td>6.78 inches</td><td>PKR 35,999</td><td>INR 12,499</td><td>CNY 1,199</td><td>USD 199</td><td>AED 749</td><td>2023</td></tr><tr><td>Infinix</td><td>Hot 40i</td><td>195g</td><td>4GB</td><td>8MP</td><td>13MP</td><td>Unisoc T606</td><td>5,000mAh</td><td>6.6 inches</td><td>PKR 28,999</td><td>INR 10,999</td><td>CNY 999</td><td>USD 159</td><td>AED 599</td><td>2023</td></tr><tr><td>Infinix</td><td>Hot 40 Pro</td><td>195g</td><td>8GB</td><td>32MP</td><td>108MP</td><td>MediaTek Helio G99</td><td>5,000mAh</td><td>6.78 inches</td><td>PKR 39,999</td><td>INR 14,999</td><td>CNY 1,399</td><td>USD 229</td><td>AED 849</td><td>2023</td></tr><tr><td>Infinix</td><td>Zero 40</td><td>195g</td><td>12GB</td><td>50MP</td><td>108MP</td><td>MediaTek Dimensity 8200</td><td>5,000mAh</td><td>6.78 inches</td><td>PKR 69,999</td><td>INR 24,999</td><td>CNY 2,199</td><td>USD 349</td><td>AED 1,299</td><td>2024</td></tr><tr><td>Infinix</td><td>Zero 40 5G</td><td>195g</td><td>12GB</td><td>50MP</td><td>108MP</td><td>MediaTek Dimensity 8200</td><td>5,000mAh</td><td>6.78 inches</td><td>PKR 74,999</td><td>INR 27,999</td><td>CNY 2,299</td><td>USD 379</td><td>AED 1,399</td><td>2024</td></tr><tr><td>Infinix</td><td>Zero Flip</td><td>190g</td><td>8GB</td><td>32MP</td><td>108MP</td><td>Qualcomm Snapdragon 778G</td><td>4,500mAh</td><td>6.7 inches</td><td>PKR 89,999</td><td>INR 32,999</td><td>CNY 2,499</td><td>USD 399</td><td>AED 1,499</td><td>2024</td></tr><tr><td>Infinix</td><td>Note 40</td><td>190g</td><td>8GB</td><td>32MP</td><td>108MP</td><td>MediaTek Helio G99</td><td>5,000mAh</td><td>6.78 inches</td><td>PKR 45,999</td><td>INR 17,999</td><td>CNY 1,799</td><td>USD 279</td><td>AED 999</td><td>2024</td></tr><tr><td>Infinix</td><td>Note 40 Pro</td><td>190g</td><td>12GB</td><td>32MP</td><td>108MP</td><td>MediaTek Dimensity 8100</td><td>5,000mAh</td><td>6.78 inches</td><td>PKR 59,999</td><td>INR 22,999</td><td>CNY 2,199</td><td>USD 329</td><td>AED 1,199</td><td>2024</td></tr><tr><td>Infinix</td><td>Hot 30 128GB</td><td>196g</td><td>8GB</td><td>8MP</td><td>50MP</td><td>MediaTek Helio G88</td><td>5,000mAh</td><td>6.78 inches</td><td>PKR 35,999</td><td>INR 12,499</td><td>CNY 1,199</td><td>USD 199</td><td>AED 749</td><td>2023</td></tr><tr><td>Infinix</td><td>Hot 30i 128GB</td><td>191g</td><td>4GB</td><td>8MP</td><td>13MP</td><td>Unisoc T606</td><td>5,000mAh</td><td>6.6 inches</td><td>PKR 28,999</td><td>INR 10,999</td><td>CNY 999</td><td>USD 159</td><td>AED 599</td><td>2023</td></tr><tr><td>Infinix</td><td>Hot 30i NFC 128GB</td><td>191g</td><td>4GB</td><td>8MP</td><td>13MP</td><td>Unisoc T606</td><td>5,000mAh</td><td>6.6 inches</td><td>PKR 29,999</td><td>INR 11,499</td><td>CNY 999</td><td>USD 159</td><td>AED 599</td><td>2023</td></tr><tr><td>Infinix</td><td>Hot 30 Play 128GB</td><td>205g</td><td>4GB</td><td>8MP</td><td>16MP</td><td>MediaTek Helio G37</td><td>6,000mAh</td><td>6.82 inches</td><td>PKR 30,999</td><td>INR 11,999</td><td>CNY 1,099</td><td>USD 179</td><td>AED 649</td><td>2023</td></tr><tr><td>Infinix</td><td>Hot 30 5G 128GB</td><td>202g</td><td>8GB</td><td>8MP</td><td>50MP</td><td>MediaTek Dimensity 810</td><td>5,000mAh</td><td>6.78 inches</td><td>PKR 41,999</td><td>INR 17,999</td><td>CNY 1,499</td><td>USD 239</td><td>AED 899</td><td>2023</td></tr><tr><td>Infinix</td><td>Zero 30 256GB</td><td>185g</td><td>8GB</td><td>50MP</td><td>108MP</td><td>MediaTek Dimensity 8020</td><td>5,000mAh</td><td>6.78 inches</td><td>PKR 69,999</td><td>INR 26,999</td><td>CNY 2,199</td><td>USD 349</td><td>AED 1,299</td><td>2023</td></tr><tr><td>Infinix</td><td>Zero 30 5G 256GB</td><td>185g</td><td>12GB</td><td>50MP</td><td>108MP</td><td>MediaTek Dimensity 8020</td><td>5,000mAh</td><td>6.78 inches</td><td>PKR 74,999</td><td>INR 29,999</td><td>CNY 2,299</td><td>USD 379</td><td>AED 1,399</td><td>2023</td></tr><tr><td>Infinix</td><td>GT 10 Pro 256GB</td><td>187g</td><td>8GB</td><td>32MP</td><td>108MP</td><td>MediaTek Dimensity 8050</td><td>5,000mAh</td><td>6.67 inches</td><td>PKR 84,999</td><td>INR 32,999</td><td>CNY 2,599</td><td>USD 399</td><td>AED 1,499</td><td>2023</td></tr><tr><td>Infinix</td><td>Hot 12 128GB</td><td>195g</td><td>6GB</td><td>8MP</td><td>13MP</td><td>MediaTek Helio G85</td><td>5,000mAh</td><td>6.82 inches</td><td>PKR 28,999</td><td>INR 11,499</td><td>CNY 1,099</td><td>USD 179</td><td>AED 649</td><td>2022</td></tr><tr><td>Infinix</td><td>Hot 12 Play 128GB</td><td>209g</td><td>4GB</td><td>8MP</td><td>13MP</td><td>Unisoc T610</td><td>6,000mAh</td><td>6.82 inches</td><td>PKR 24,999</td><td>INR 10,499</td><td>CNY 999</td><td>USD 159</td><td>AED 599</td><td>2022</td></tr><tr><td>Infinix</td><td>Hot 12 Pro 128GB</td><td>191g</td><td>8GB</td><td>8MP</td><td>50MP</td><td>Unisoc T616</td><td>5,000mAh</td><td>6.6 inches</td><td>PKR 31,999</td><td>INR 12,999</td><td>CNY 1,199</td><td>USD 199</td><td>AED 749</td><td>2022</td></tr><tr><td>Infinix</td><td>Hot 12i 64GB</td><td>190g</td><td>4GB</td><td>8MP</td><td>13MP</td><td>MediaTek Helio A22</td><td>5,000mAh</td><td>6.6 inches</td><td>PKR 22,999</td><td>INR 9,999</td><td>CNY 899</td><td>USD 139</td><td>AED 499</td><td>2022</td></tr><tr><td>Infinix</td><td>Hot 20 128GB</td><td>198g</td><td>6GB</td><td>8MP</td><td>50MP</td><td>MediaTek Helio G85</td><td>5,000mAh</td><td>6.82 inches</td><td>PKR 30,999</td><td>INR 12,999</td><td>CNY 1,199</td><td>USD 199</td><td>AED 749</td><td>2022</td></tr><tr><td>Infinix</td><td>Hot 20 Play 128GB</td><td>209g</td><td>4GB</td><td>8MP</td><td>13MP</td><td>MediaTek Helio G37</td><td>6,000mAh</td><td>6.82 inches</td><td>PKR 25,999</td><td>INR 10,999</td><td>CNY 999</td><td>USD 159</td><td>AED 599</td><td>2022</td></tr><tr><td>Infinix</td><td>Hot 20s 128GB</td><td>202g</td><td>8GB</td><td>8MP</td><td>50MP</td><td>MediaTek Helio G96</td><td>5,000mAh</td><td>6.78 inches</td><td>PKR 34,999</td><td>INR 14,999</td><td>CNY 1,399</td><td>USD 219</td><td>AED 799</td><td>2022</td></tr><tr><td>Infinix</td><td>Hot 20 5G 128GB</td><td>204g</td><td>6GB</td><td>8MP</td><td>50MP</td><td>MediaTek Dimensity 810</td><td>5,000mAh</td><td>6.6 inches</td><td>PKR 38,999</td><td>INR 16,999</td><td>CNY 1,499</td><td>USD 239</td><td>AED 899</td><td>2022</td></tr><tr><td>Infinix</td><td>Hot 20i 64GB</td><td>195g</td><td>4GB</td><td>8MP</td><td>13MP</td><td>MediaTek Helio G25</td><td>5,000mAh</td><td>6.6 inches</td><td>PKR 21,999</td><td>INR 9,499</td><td>CNY 899</td><td>USD 139</td><td>AED 499</td><td>2022</td></tr><tr><td>Infinix</td><td>Hot 10T 128GB</td><td>205g</td><td>4GB</td><td>8MP</td><td>48MP</td><td>MediaTek Helio G70</td><td>5,000mAh</td><td>6.82 inches</td><td>PKR 23,999</td><td>INR 10,499</td><td>CNY 999</td><td>USD 149</td><td>AED 549</td><td>2021</td></tr><tr><td>Infinix</td><td>Hot 10S 128GB</td><td>211g</td><td>6GB</td><td>8MP</td><td>48MP</td><td>MediaTek Helio G85</td><td>6,000mAh</td><td>6.82 inches</td><td>PKR 25,999</td><td>INR 11,999</td><td>CNY 1,099</td><td>USD 169</td><td>AED 599</td><td>2021</td></tr><tr><td>Infinix</td><td>Hot 10S NFC 128GB</td><td>211g</td><td>6GB</td><td>8MP</td><td>48MP</td><td>MediaTek Helio G85</td><td>6,000mAh</td><td>6.82 inches</td><td>PKR 26,999</td><td>INR 12,499</td><td>CNY 1,199</td><td>USD 179</td><td>AED 649</td><td>2021</td></tr><tr><td>Infinix</td><td>Hot 10 Lite 64GB</td><td>195g</td><td>3GB</td><td>8MP</td><td>13MP</td><td>MediaTek Helio A25</td><td>5,000mAh</td><td>6.6 inches</td><td>PKR 19,999</td><td>INR 7,999</td><td>CNY 699</td><td>USD 109</td><td>AED 399</td><td>2020</td></tr><tr><td>Infinix</td><td>Hot 10 Play 64GB</td><td>207g</td><td>4GB</td><td>8MP</td><td>13MP</td><td>MediaTek Helio G25</td><td>6,000mAh</td><td>6.82 inches</td><td>PKR 22,999</td><td>INR 9,499</td><td>CNY 899</td><td>USD 139</td><td>AED 499</td><td>2021</td></tr><tr><td>Infinix</td><td>Hot 11 128GB</td><td>201g</td><td>4GB</td><td>8MP</td><td>13MP</td><td>MediaTek Helio G70</td><td>5,200mAh</td><td>6.6 inches</td><td>PKR 24,999</td><td>INR 10,999</td><td>CNY 999</td><td>USD 159</td><td>AED 599</td><td>2021</td></tr><tr><td>Infinix</td><td>Hot 11 Play 128GB</td><td>209g</td><td>4GB</td><td>8MP</td><td>13MP</td><td>MediaTek Helio G35</td><td>6,000mAh</td><td>6.82 inches</td><td>PKR 25,999</td><td>INR 11,499</td><td>CNY 1,099</td><td>USD 169</td><td>AED 649</td><td>2021</td></tr><tr><td>Infinix</td><td>Hot 11s 128GB</td><td>205g</td><td>6GB</td><td>8MP</td><td>50MP</td><td>MediaTek Helio G88</td><td>5,000mAh</td><td>6.78 inches</td><td>PKR 27,999</td><td>INR 12,999</td><td>CNY 1,299</td><td>USD 189</td><td>AED 699</td><td>2021</td></tr><tr><td>Infinix</td><td>Smart HD 32GB</td><td>195g</td><td>2GB</td><td>5MP</td><td>8MP</td><td>MediaTek Helio A20</td><td>5,000mAh</td><td>6.1 inches</td><td>PKR 15,999</td><td>INR 5,999</td><td>CNY 499</td><td>USD 79</td><td>AED 299</td><td>2020</td></tr><tr><td>Infinix</td><td>Note 8i 128GB</td><td>210g</td><td>6GB</td><td>8MP</td><td>48MP</td><td>MediaTek Helio G80</td><td>5,200mAh</td><td>6.78 inches</td><td>PKR 29,999</td><td>INR 12,999</td><td>CNY 1,199</td><td>USD 199</td><td>AED 749</td><td>2020</td></tr><tr><td>Infinix</td><td>Hot 10 Lite 64GB</td><td>195g</td><td>3GB</td><td>8MP</td><td>13MP</td><td>MediaTek Helio A25</td><td>5,000mAh</td><td>6.6 inches</td><td>PKR 19,999</td><td>INR 7,999</td><td>CNY 699</td><td>USD 109</td><td>AED 399</td><td>2020</td></tr><tr><td>Infinix</td><td>Note 8 128GB</td><td>210g</td><td>6GB</td><td>16MP</td><td>64MP</td><td>MediaTek Helio G80</td><td>5,200mAh</td><td>6.95 inches</td><td>PKR 34,999</td><td>INR 15,999</td><td>CNY 1,499</td><td>USD 229</td><td>AED 899</td><td>2020</td></tr><tr><td>Infinix</td><td>Zero 8i 128GB</td><td>210g</td><td>8GB</td><td>16MP</td><td>48MP</td><td>MediaTek Helio G90T</td><td>4,500mAh</td><td>6.85 inches</td><td>PKR 39,999</td><td>INR 17,999</td><td>CNY 1,599</td><td>USD 249</td><td>AED 999</td><td>2020</td></tr><tr><td>Infinix</td><td>Hot 10 128GB</td><td>204g</td><td>4GB</td><td>8MP</td><td>16MP</td><td>MediaTek Helio G70</td><td>5,200mAh</td><td>6.78 inches</td><td>PKR 24,999</td><td>INR 10,999</td><td>CNY 999</td><td>USD 159</td><td>AED 599</td><td>2020</td></tr><tr><td>Infinix</td><td>Zero 8 128GB</td><td>205g</td><td>8GB</td><td>48MP</td><td>64MP</td><td>MediaTek Helio G90T</td><td>4,500mAh</td><td>6.85 inches</td><td>PKR 44,999</td><td>INR 19,999</td><td>CNY 1,799</td><td>USD 279</td><td>AED 1,099</td><td>2020</td></tr><tr><td>Infinix</td><td>Smart 5 64GB</td><td>195g</td><td>3GB</td><td>8MP</td><td>13MP</td><td>MediaTek Helio A20</td><td>5,000mAh</td><td>6.6 inches</td><td>PKR 18,999</td><td>INR 7,499</td><td>CNY 599</td><td>USD 99</td><td>AED 349</td><td>2020</td></tr><tr><td>Honor</td><td>9X Lite</td><td>175g</td><td>4GB</td><td>8MP</td><td>48MP</td><td>Kirin 710F</td><td>3,750mAh</td><td>6.5 inches</td><td>PKR 39,999</td><td>INR 15,999</td><td>CNY 1,499</td><td>USD 219</td><td>AED 799</td><td>2020</td></tr><tr><td>Honor</td><td>30</td><td>185g</td><td>8GB</td><td>32MP</td><td>40MP</td><td>Kirin 985 5G</td><td>4,000mAh</td><td>6.53 inches</td><td>PKR 74,999</td><td>INR 29,999</td><td>CNY 2,999</td><td>USD 449</td><td>AED 1,599</td><td>2020</td></tr><tr><td>Honor</td><td>30 Pro</td><td>190g</td><td>8GB</td><td>32MP</td><td>50MP</td><td>Kirin 990 5G</td><td>4,000mAh</td><td>6.57 inches</td><td>PKR 94,999</td><td>INR 39,999</td><td>CNY 3,999</td><td>USD 599</td><td>AED 2,199</td><td>2020</td></tr><tr><td>Honor</td><td>30 Pro+</td><td>192g</td><td>12GB</td><td>32MP</td><td>50MP</td><td>Kirin 990 5G</td><td>4,000mAh</td><td>6.57 inches</td><td>PKR 109,999</td><td>INR 45,999</td><td>CNY 4,499</td><td>USD 699</td><td>AED 2,599</td><td>2020</td></tr><tr><td>Honor</td><td>30S</td><td>190g</td><td>6GB</td><td>16MP</td><td>64MP</td><td>Kirin 820 5G</td><td>4,000mAh</td><td>6.5 inches</td><td>PKR 54,999</td><td>INR 22,999</td><td>CNY 2,299</td><td>USD 349</td><td>AED 1,299</td><td>2020</td></tr><tr><td>Honor</td><td>X10</td><td>203g</td><td>6GB</td><td>16MP</td><td>40MP</td><td>Kirin 820 5G</td><td>4,300mAh</td><td>6.63 inches</td><td>PKR 48,999</td><td>INR 19,999</td><td>CNY 2,099</td><td>USD 319</td><td>AED 1,149</td><td>2020</td></tr><tr><td>Honor</td><td>X10 Max</td><td>227g</td><td>8GB</td><td>8MP</td><td>48MP</td><td>MediaTek Dimensity 800</td><td>5,000mAh</td><td>7.09 inches</td><td>PKR 64,999</td><td>INR 25,999</td><td>CNY 2,499</td><td>USD 379</td><td>AED 1,399</td><td>2020</td></tr><tr><td>Honor</td><td>Play 4</td><td>213g</td><td>6GB</td><td>16MP</td><td>64MP</td><td>MediaTek Dimensity 800</td><td>4,300mAh</td><td>6.81 inches</td><td>PKR 49,999</td><td>INR 21,999</td><td>CNY 2,299</td><td>USD 349</td><td>AED 1,249</td><td>2020</td></tr><tr><td>Honor</td><td>Play 4 Pro</td><td>213g</td><td>8GB</td><td>32MP</td><td>40MP</td><td>Kirin 990 5G</td><td>4,200mAh</td><td>6.57 inches</td><td>PKR 74,999</td><td>INR 29,999</td><td>CNY 3,499</td><td>USD 549</td><td>AED 1,999</td><td>2020</td></tr><tr><td>Honor</td><td>10X Lite</td><td>206g</td><td>4GB</td><td>8MP</td><td>48MP</td><td>Kirin 710A</td><td>5,000mAh</td><td>6.67 inches</td><td>PKR 34,999</td><td>INR 13,999</td><td>CNY 1,499</td><td>USD 229</td><td>AED 849</td><td>2020</td></tr><tr><td>Honor</td><td>V40</td><td>189g</td><td>8GB</td><td>16MP</td><td>50MP</td><td>MediaTek Dimensity 1000+</td><td>4,000mAh</td><td>6.72 inches</td><td>PKR 89,999</td><td>INR 37,999</td><td>CNY 3,999</td><td>USD 599</td><td>AED 2,199</td><td>2021</td></tr><tr><td>Honor</td><td>50</td><td>175g</td><td>8GB</td><td>32MP</td><td>108MP</td><td>Qualcomm Snapdragon 778G</td><td>4,300mAh</td><td>6.57 inches</td><td>PKR 89,999</td><td>INR 37,999</td><td>CNY 2,699</td><td>USD 549</td><td>AED 2,049</td><td>2021</td></tr><tr><td>Honor</td><td>50 Pro</td><td>187g</td><td>8GB</td><td>32MP</td><td>108MP</td><td>Qualcomm Snapdragon 778G</td><td>4,000mAh</td><td>6.72 inches</td><td>PKR 109,999</td><td>INR 44,999</td><td>CNY 3,699</td><td>USD 649</td><td>AED 2,499</td><td>2021</td></tr><tr><td>Honor</td><td>50 SE</td><td>191g</td><td>8GB</td><td>16MP</td><td>108MP</td><td>MediaTek Dimensity 900</td><td>4,000mAh</td><td>6.78 inches</td><td>PKR 74,999</td><td>INR 29,999</td><td>CNY 2,399</td><td>USD 449</td><td>AED 1,699</td><td>2021</td></tr><tr><td>Honor</td><td>X20</td><td>192g</td><td>6GB</td><td>16MP</td><td>64MP</td><td>MediaTek Dimensity 900</td><td>4,300mAh</td><td>6.67 inches</td><td>PKR 64,999</td><td>INR 25,999</td><td>CNY 2,299</td><td>USD 379</td><td>AED 1,399</td><td>2021</td></tr><tr><td>Honor</td><td>X20 SE</td><td>179g</td><td>6GB</td><td>16MP</td><td>64MP</td><td>MediaTek Dimensity 700</td><td>4,000mAh</td><td>6.6 inches</td><td>PKR 54,999</td><td>INR 22,999</td><td>CNY 1,799</td><td>USD 299</td><td>AED 1,199</td><td>2021</td></tr><tr><td>Honor</td><td>Play 5</td><td>179g</td><td>8GB</td><td>16MP</td><td>64MP</td><td>MediaTek Dimensity 800U</td><td>3,800mAh</td><td>6.53 inches</td><td>PKR 49,999</td><td>INR 19,999</td><td>CNY 2,099</td><td>USD 319</td><td>AED 1,149</td><td>2021</td></tr><tr><td>Honor</td><td>Play 5T</td><td>191g</td><td>6GB</td><td>8MP</td><td>13MP</td><td>Unisoc T610</td><td>5,000mAh</td><td>6.5 inches</td><td>PKR 34,999</td><td>INR 14,999</td><td>CNY 1,499</td><td>USD 219</td><td>AED 799</td><td>2021</td></tr><tr><td>Honor</td><td>Magic3</td><td>202g</td><td>8GB</td><td>13MP</td><td>50MP</td><td>Qualcomm Snapdragon 888</td><td>4,600mAh</td><td>6.76 inches</td><td>PKR 159,999</td><td>INR 64,999</td><td>CNY 4,599</td><td>USD 899</td><td>AED 3,299</td><td>2021</td></tr><tr><td>Honor</td><td>Magic3 Pro</td><td>213g</td><td>8GB</td><td>13MP</td><td>50MP</td><td>Qualcomm Snapdragon 888+</td><td>4,600mAh</td><td>6.76 inches</td><td>PKR 189,999</td><td>INR 74,999</td><td>CNY 5,499</td><td>USD 1,099</td><td>AED 3,999</td><td>2021</td></tr><tr><td>Honor</td><td>Magic3 Pro+</td><td>236g</td><td>12GB</td><td>13MP</td><td>50MP</td><td>Qualcomm Snapdragon 888+</td><td>4,600mAh</td><td>6.76 inches</td><td>PKR 219,999</td><td>INR 84,999</td><td>CNY 6,499</td><td>USD 1,299</td><td>AED 4,599</td><td>2021</td></tr><tr><td>Honor</td><td>60</td><td>179g</td><td>8GB</td><td>32MP</td><td>108MP</td><td>Qualcomm Snapdragon 778G</td><td>4,800mAh</td><td>6.67 inches</td><td>PKR 99,999</td><td>INR 41,999</td><td>CNY 2,699</td><td>USD 549</td><td>AED 2,049</td><td>2021</td></tr><tr><td>Honor</td><td>60 Pro</td><td>192g</td><td>8GB</td><td>50MP</td><td>108MP</td><td>Qualcomm Snapdragon 778G+</td><td>4,800mAh</td><td>6.78 inches</td><td>PKR 124,999</td><td>INR 49,999</td><td>CNY 3,699</td><td>USD 649</td><td>AED 2,599</td><td>2021</td></tr><tr><td>Honor</td><td>60 SE</td><td>191g</td><td>8GB</td><td>16MP</td><td>64MP</td><td>MediaTek Dimensity 900</td><td>4,300mAh</td><td>6.67 inches</td><td>PKR 74,999</td><td>INR 29,999</td><td>CNY 2,399</td><td>USD 449</td><td>AED 1,699</td><td>2021</td></tr><tr><td>Honor</td><td>X30</td><td>189g</td><td>6GB</td><td>16MP</td><td>48MP</td><td>Qualcomm Snapdragon 695</td><td>4,800mAh</td><td>6.81 inches</td><td>PKR 69,999</td><td>INR 27,999</td><td>CNY 2,099</td><td>USD 379</td><td>AED 1,299</td><td>2021</td></tr><tr><td>Honor</td><td>X30i</td><td>175g</td><td>6GB</td><td>16MP</td><td>48MP</td><td>MediaTek Dimensity 810</td><td>4,000mAh</td><td>6.7 inches</td><td>PKR 54,999</td><td>INR 22,999</td><td>CNY 1,799</td><td>USD 299</td><td>AED 1,099</td><td>2021</td></tr><tr><td>Honor</td><td>X30 Max</td><td>228g</td><td>8GB</td><td>8MP</td><td>64MP</td><td>MediaTek Dimensity 900</td><td>5,000mAh</td><td>7.09 inches</td><td>PKR 89,999</td><td>INR 35,999</td><td>CNY 2,399</td><td>USD 499</td><td>AED 1,899</td><td>2021</td></tr><tr><td>Honor</td><td>Play 6</td><td>190g</td><td>6GB</td><td>5MP</td><td>13MP</td><td>MediaTek MT6762G Helio G25</td><td>5,000mAh</td><td>6.52 inches</td><td>PKR 29,999</td><td>INR 12,999</td><td>CNY 1,199</td><td>USD 179</td><td>AED 699</td><td>2022</td></tr><tr><td>Honor</td><td>Play 6T</td><td>198g</td><td>6GB</td><td>5MP</td><td>13MP</td><td>MediaTek Dimensity 700</td><td>5,000mAh</td><td>6.74 inches</td><td>PKR 39,999</td><td>INR 16,999</td><td>CNY 1,499</td><td>USD 229</td><td>AED 799</td><td>2022</td></tr><tr><td>Honor</td><td>Magic4</td><td>199g</td><td>8GB</td><td>12MP</td><td>50MP</td><td>Qualcomm Snapdragon 8 Gen 1</td><td>4,800mAh</td><td>6.81 inches</td><td>PKR 179,999</td><td>INR 72,999</td><td>CNY 4,699</td><td>USD 899</td><td>AED 3,299</td><td>2022</td></tr><tr><td>Honor</td><td>Magic4 Pro</td><td>215g</td><td>8GB</td><td>12MP</td><td>50MP</td><td>Qualcomm Snapdragon 8 Gen 1</td><td>4,600mAh</td><td>6.81 inches</td><td>PKR 209,999</td><td>INR 84,999</td><td>CNY 5,499</td><td>USD 1,099</td><td>AED 3,999</td><td>2022</td></tr><tr><td>Honor</td><td>Magic4 Ultimate</td><td>242g</td><td>12GB</td><td>12MP</td><td>50MP</td><td>Qualcomm Snapdragon 8 Gen 1</td><td>4,600mAh</td><td>6.81 inches</td><td>PKR 249,999</td><td>INR 99,999</td><td>CNY 6,799</td><td>USD 1,299</td><td>AED 4,599</td><td>2022</td></tr><tr><td>Honor</td><td>Magic V</td><td>288g</td><td>12GB</td><td>42MP</td><td>50MP</td><td>Qualcomm Snapdragon 8 Gen 1</td><td>4,750mAh</td><td>7.9 inches</td><td>PKR 349,999</td><td>INR 149,999</td><td>CNY 9,999</td><td>USD 1,799</td><td>AED 6,599</td><td>2022</td></tr><tr><td>Honor</td><td>70</td><td>178g</td><td>8GB</td><td>32MP</td><td>54MP</td><td>Qualcomm Snapdragon 778G+</td><td>4,800mAh</td><td>6.67 inches</td><td>PKR 119,999</td><td>INR 46,999</td><td>CNY 2,699</td><td>USD 549</td><td>AED 2,099</td><td>2022</td></tr><tr><td>Honor</td><td>70 Pro</td><td>192g</td><td>8GB</td><td>50MP</td><td>54MP</td><td>MediaTek Dimensity 8000</td><td>4,500mAh</td><td>6.78 inches</td><td>PKR 149,999</td><td>INR 59,999</td><td>CNY 3,699</td><td>USD 699</td><td>AED 2,699</td><td>2022</td></tr><tr><td>Honor</td><td>70 Pro+</td><td>209g</td><td>12GB</td><td>50MP</td><td>54MP</td><td>MediaTek Dimensity 9000</td><td>4,500mAh</td><td>6.78 inches</td><td>PKR 179,999</td><td>INR 69,999</td><td>CNY 4,299</td><td>USD 799</td><td>AED 3,199</td><td>2022</td></tr><tr><td>Honor</td><td>X40</td><td>172g</td><td>6GB</td><td>8MP</td><td>50MP</td><td>Qualcomm Snapdragon 695</td><td>5,100mAh</td><td>6.67 inches</td><td>PKR 64,999</td><td>INR 26,999</td><td>CNY 1,499</td><td>USD 299</td><td>AED 1,099</td><td>2022</td></tr><tr><td>Honor</td><td>X40i</td><td>175g</td><td>6GB</td><td>8MP</td><td>50MP</td><td>MediaTek Dimensity 700</td><td>4,000mAh</td><td>6.7 inches</td><td>PKR 49,999</td><td>INR 22,999</td><td>CNY 1,799</td><td>USD 279</td><td>AED 999</td><td>2022</td></tr><tr><td>Honor</td><td>Play 7</td><td>196g</td><td>4GB</td><td>5MP</td><td>13MP</td><td>MediaTek Helio G37</td><td>5,200mAh</td><td>6.74 inches</td><td>PKR 29,999</td><td>INR 12,499</td><td>CNY 1,099</td><td>USD 159</td><td>AED 599</td><td>2023</td></tr><tr><td>Honor</td><td>Play 7T</td><td>199g</td><td>6GB</td><td>5MP</td><td>13MP</td><td>MediaTek Dimensity 6020</td><td>5,200mAh</td><td>6.74 inches</td><td>PKR 34,999</td><td>INR 14,999</td><td>CNY 1,299</td><td>USD 199</td><td>AED 749</td><td>2023</td></tr><tr><td>Honor</td><td>Magic5</td><td>204g</td><td>8GB</td><td>12MP</td><td>50MP</td><td>Qualcomm Snapdragon 8 Gen 2</td><td>5,100mAh</td><td>6.81 inches</td><td>PKR 199,999</td><td>INR 79,999</td><td>CNY 4,999</td><td>USD 999</td><td>AED 3,599</td><td>2023</td></tr><tr><td>Honor</td><td>Magic5 Pro</td><td>219g</td><td>12GB</td><td>12MP</td><td>50MP</td><td>Qualcomm Snapdragon 8 Gen 2</td><td>5,100mAh</td><td>6.81 inches</td><td>PKR 249,999</td><td>INR 99,999</td><td>CNY 6,199</td><td>USD 1,199</td><td>AED 4,399</td><td>2023</td></tr><tr><td>Honor</td><td>Magic5 Ultimate</td><td>234g</td><td>16GB</td><td>12MP</td><td>50MP</td><td>Qualcomm Snapdragon 8 Gen 2</td><td>5,450mAh</td><td>6.81 inches</td><td>PKR 299,999</td><td>INR 119,999</td><td>CNY 7,499</td><td>USD 1,399</td><td>AED 5,199</td><td>2023</td></tr><tr><td>Honor</td><td>Magic Vs</td><td>267g</td><td>12GB</td><td>16MP</td><td>50MP</td><td>Qualcomm Snapdragon 8+ Gen 1</td><td>5,000mAh</td><td>7.9 inches</td><td>PKR 369,999</td><td>INR 149,999</td><td>CNY 9,999</td><td>USD 1,699</td><td>AED 6,199</td><td>2023</td></tr><tr><td>Honor</td><td>80</td><td>180g</td><td>8GB</td><td>32MP</td><td>160MP</td><td>Qualcomm Snapdragon 782G</td><td>4,800mAh</td><td>6.67 inches</td><td>PKR 119,999</td><td>INR 46,999</td><td>CNY 2,699</td><td>USD 549</td><td>AED 2,099</td><td>2022</td></tr><tr><td>Honor</td><td>80 Pro</td><td>193g</td><td>12GB</td><td>50MP</td><td>160MP</td><td>Qualcomm Snapdragon 8+ Gen 1</td><td>4,800mAh</td><td>6.78 inches</td><td>PKR 169,999</td><td>INR 69,999</td><td>CNY 4,199</td><td>USD 799</td><td>AED 3,099</td><td>2022</td></tr><tr><td>Honor</td><td>80 SE</td><td>175g</td><td>8GB</td><td>32MP</td><td>64MP</td><td>MediaTek Dimensity 900</td><td>4,600mAh</td><td>6.67 inches</td><td>PKR 84,999</td><td>INR 34,999</td><td>CNY 1,999</td><td>USD 399</td><td>AED 1,599</td><td>2022</td></tr><tr><td>Honor</td><td>X50</td><td>185g</td><td>6GB</td><td>8MP</td><td>108MP</td><td>Qualcomm Snapdragon 6 Gen 1</td><td>5,800mAh</td><td>6.78 inches</td><td>PKR 74,999</td><td>INR 28,999</td><td>CNY 1,599</td><td>USD 299</td><td>AED 1,099</td><td>2023</td></tr><tr><td>Honor</td><td>X50i</td><td>179g</td><td>6GB</td><td>8MP</td><td>100MP</td><td>MediaTek Dimensity 6020</td><td>4,500mAh</td><td>6.7 inches</td><td>PKR 54,999</td><td>INR 21,999</td><td>CNY 1,399</td><td>USD 249</td><td>AED 899</td><td>2023</td></tr><tr><td>Honor</td><td>Play 8</td><td>191g</td><td>4GB</td><td>5MP</td><td>13MP</td><td>MediaTek Helio G36</td><td>5,000mAh</td><td>6.52 inches</td><td>PKR 27,999</td><td>INR 11,499</td><td>CNY 999</td><td>USD 149</td><td>AED 549</td><td>2023</td></tr><tr><td>Honor</td><td>Play 8T</td><td>195g</td><td>6GB</td><td>5MP</td><td>50MP</td><td>MediaTek Dimensity 6100+</td><td>5,200mAh</td><td>6.74 inches</td><td>PKR 32,999</td><td>INR 13,999</td><td>CNY 1,199</td><td>USD 189</td><td>AED 699</td><td>2023</td></tr><tr><td>Honor</td><td>Magic6</td><td>203g</td><td>8GB</td><td>12MP</td><td>50MP</td><td>Qualcomm Snapdragon 8 Gen 3</td><td>5,200mAh</td><td>6.81 inches</td><td>PKR 219,999</td><td>INR 89,999</td><td>CNY 5,499</td><td>USD 1,099</td><td>AED 3,999</td><td>2024</td></tr><tr><td>Honor</td><td>Magic6 Pro</td><td>219g</td><td>12GB</td><td>12MP</td><td>50MP</td><td>Qualcomm Snapdragon 8 Gen 3</td><td>5,500mAh</td><td>6.81 inches</td><td>PKR 269,999</td><td>INR 109,999</td><td>CNY 6,999</td><td>USD 1,299</td><td>AED 4,699</td><td>2024</td></tr><tr><td>Honor</td><td>Magic6 Ultimate</td><td>234g</td><td>16GB</td><td>12MP</td><td>50MP</td><td>Qualcomm Snapdragon 8 Gen 3</td><td>5,550mAh</td><td>6.81 inches</td><td>PKR 319,999</td><td>INR 129,999</td><td>CNY 8,199</td><td>USD 1,499</td><td>AED 5,499</td><td>2024</td></tr><tr><td>Honor</td><td>Magic V2</td><td>231g</td><td>12GB</td><td>16MP</td><td>50MP</td><td>Qualcomm Snapdragon 8 Gen 2</td><td>5,000mAh</td><td>7.92 inches</td><td>PKR 389,999</td><td>INR 159,999</td><td>CNY 10,999</td><td>USD 1,899</td><td>AED 6,999</td><td>2024</td></tr><tr><td>Honor</td><td>90</td><td>183g</td><td>12GB</td><td>50MP</td><td>200MP</td><td>Qualcomm Snapdragon 7 Gen 1</td><td>5,000mAh</td><td>6.7 inches</td><td>PKR 139,999</td><td>INR 54,999</td><td>CNY 2,999</td><td>USD 599</td><td>AED 2,199</td><td>2023</td></tr><tr><td>Honor</td><td>90 Pro</td><td>192g</td><td>12GB</td><td>50MP</td><td>200MP</td><td>Qualcomm Snapdragon 8+ Gen 1</td><td>5,000mAh</td><td>6.78 inches</td><td>PKR 169,999</td><td>INR 64,999</td><td>CNY 3,999</td><td>USD 699</td><td>AED 2,799</td><td>2023</td></tr><tr><td>Honor</td><td>90 SE</td><td>175g</td><td>8GB</td><td>32MP</td><td>64MP</td><td>MediaTek Dimensity 900</td><td>4,600mAh</td><td>6.67 inches</td><td>PKR 84,999</td><td>INR 34,999</td><td>CNY 1,999</td><td>USD 399</td><td>AED 1,599</td><td>2023</td></tr><tr><td>Honor</td><td>X60</td><td>185g</td><td>6GB</td><td>8MP</td><td>108MP</td><td>Qualcomm Snapdragon 6 Gen 1</td><td>5,800mAh</td><td>6.78 inches</td><td>PKR 74,999</td><td>INR 28,999</td><td>CNY 1,599</td><td>USD 299</td><td>AED 1,099</td><td>2023</td></tr><tr><td>Honor</td><td>X60i</td><td>179g</td><td>6GB</td><td>8MP</td><td>100MP</td><td>MediaTek Dimensity 6020</td><td>4,500mAh</td><td>6.7 inches</td><td>PKR 54,999</td><td>INR 21,999</td><td>CNY 1,399</td><td>USD 249</td><td>AED 899</td><td>2023</td></tr><tr><td>Honor</td><td>Play 9</td><td>191g</td><td>4GB</td><td>5MP</td><td>13MP</td><td>MediaTek Helio G36</td><td>5,000mAh</td><td>6.52 inches</td><td>PKR 27,999</td><td>INR 11,499</td><td>CNY 999</td><td>USD 149</td><td>AED 549</td><td>2023</td></tr><tr><td>Honor</td><td>Play 9T</td><td>195g</td><td>6GB</td><td>5MP</td><td>50MP</td><td>MediaTek Dimensity 6100+</td><td>5,200mAh</td><td>6.74 inches</td><td>PKR 32,999</td><td>INR 13,999</td><td>CNY 1,199</td><td>USD 189</td><td>AED 699</td><td>2023</td></tr><tr><td>Honor</td><td>Magic7</td><td>203g</td><td>8GB</td><td>12MP</td><td>50MP</td><td>Qualcomm Snapdragon 8 Gen 3</td><td>5,200mAh</td><td>6.81 inches</td><td>PKR 219,999</td><td>INR 89,999</td><td>CNY 5,499</td><td>USD 1,099</td><td>AED 3,999</td><td>2024</td></tr><tr><td>Honor</td><td>Magic7 Pro</td><td>219g</td><td>12GB</td><td>12MP</td><td>50MP</td><td>Qualcomm Snapdragon 8 Gen 3</td><td>5,500mAh</td><td>6.81 inches</td><td>PKR 269,999</td><td>INR 109,999</td><td>CNY 6,999</td><td>USD 1,299</td><td>AED 4,699</td><td>2024</td></tr><tr><td>Honor</td><td>Magic7 Ultimate</td><td>234g</td><td>16GB</td><td>12MP</td><td>50MP</td><td>Qualcomm Snapdragon 8 Gen 3</td><td>5,550mAh</td><td>6.81 inches</td><td>PKR 319,999</td><td>INR 129,999</td><td>CNY 8,199</td><td>USD 1,499</td><td>AED 5,499</td><td>2024</td></tr><tr><td>Honor</td><td>Magic V3</td><td>231g</td><td>12GB</td><td>16MP</td><td>50MP</td><td>Qualcomm Snapdragon 8 Gen 2</td><td>5,000mAh</td><td>7.92 inches</td><td>PKR 389,999</td><td>INR 159,999</td><td>CNY 10,999</td><td>USD 1,899</td><td>AED 6,999</td><td>2024</td></tr><tr><td>Honor</td><td>Pad 6</td><td>460g</td><td>4GB</td><td>2MP</td><td>5MP</td><td>Qualcomm Snapdragon 662</td><td>5,100mAh</td><td>10.1 inches</td><td>PKR 49,999</td><td>INR 17,999</td><td>CNY 1,299</td><td>USD 199</td><td>AED 749</td><td>2020</td></tr><tr><td>Honor</td><td>Pad X6</td><td>460g</td><td>3GB</td><td>2MP</td><td>5MP</td><td>MediaTek MT8768T</td><td>5,100mAh</td><td>9.7 inches</td><td>PKR 39,999</td><td>INR 14,999</td><td>CNY 999</td><td>USD 159</td><td>AED 599</td><td>2020</td></tr><tr><td>Honor</td><td>Pad 7</td><td>460g</td><td>4GB</td><td>2MP</td><td>5MP</td><td>MediaTek Helio G80</td><td>5,100mAh</td><td>10.1 inches</td><td>PKR 54,999</td><td>INR 19,999</td><td>CNY 1,399</td><td>USD 229</td><td>AED 849</td><td>2021</td></tr><tr><td>Honor</td><td>Tablet V7</td><td>480g</td><td>6GB</td><td>8MP</td><td>13MP</td><td>MediaTek Dimensity 800</td><td>7,250mAh</td><td>10.4 inches</td><td>PKR 84,999</td><td>INR 34,999</td><td>CNY 2,199</td><td>USD 399</td><td>AED 1,499</td><td>2021</td></tr><tr><td>Honor</td><td>Tablet V7 Pro</td><td>485g</td><td>8GB</td><td>8MP</td><td>13MP</td><td>MediaTek Dimensity 1300T</td><td>7,250mAh</td><td>11.0 inches</td><td>PKR 109,999</td><td>INR 44,999</td><td>CNY 2,899</td><td>USD 499</td><td>AED 1,799</td><td>2021</td></tr><tr><td>Honor</td><td>Pad 8</td><td>520g</td><td>6GB</td><td>5MP</td><td>5MP</td><td>Qualcomm Snapdragon 680</td><td>7,250mAh</td><td>12.0 inches</td><td>PKR 69,999</td><td>INR 24,999</td><td>CNY 1,599</td><td>USD 299</td><td>AED 1,099</td><td>2022</td></tr><tr><td>Honor</td><td>Pad X8</td><td>460g</td><td>4GB</td><td>2MP</td><td>5MP</td><td>MediaTek Helio G80</td><td>5,100mAh</td><td>10.1 inches</td><td>PKR 44,999</td><td>INR 16,999</td><td>CNY 1,199</td><td>USD 189</td><td>AED 699</td><td>2022</td></tr><tr><td>Honor</td><td>Pad X8 Lite</td><td>450g</td><td>3GB</td><td>2MP</td><td>5MP</td><td>MediaTek MT8786</td><td>5,000mAh</td><td>9.7 inches</td><td>PKR 34,999</td><td>INR 12,999</td><td>CNY 999</td><td>USD 149</td><td>AED 549</td><td>2022</td></tr><tr><td>Honor</td><td>Pad V8</td><td>510g</td><td>6GB</td><td>5MP</td><td>13MP</td><td>MediaTek Dimensity 8020</td><td>7,250mAh</td><td>11.0 inches</td><td>PKR 94,999</td><td>INR 39,999</td><td>CNY 2,499</td><td>USD 449</td><td>AED 1,599</td><td>2023</td></tr><tr><td>Honor</td><td>Pad V8 Pro</td><td>530g</td><td>8GB</td><td>8MP</td><td>13MP</td><td>MediaTek Dimensity 9000</td><td>8,500mAh</td><td>12.1 inches</td><td>PKR 129,999</td><td>INR 54,999</td><td>CNY 3,599</td><td>USD 649</td><td>AED 2,299</td><td>2023</td></tr><tr><td>Honor</td><td>Pad 9</td><td>550g</td><td>8GB</td><td>8MP</td><td>13MP</td><td>Qualcomm Snapdragon 6 Gen 1</td><td>8,300mAh</td><td>12.1 inches</td><td>PKR 84,999</td><td>INR 34,999</td><td>CNY 2,299</td><td>USD 399</td><td>AED 1,499</td><td>2024</td></tr><tr><td>Honor</td><td>Pad 9 Pro</td><td>560g</td><td>12GB</td><td>8MP</td><td>13MP</td><td>MediaTek Dimensity 8100</td><td>9,000mAh</td><td>12.6 inches</td><td>PKR 109,999</td><td>INR 44,999</td><td>CNY 2,999</td><td>USD 499</td><td>AED 1,799</td><td>2024</td></tr><tr><td>Honor</td><td>Pad X9</td><td>495g</td><td>6GB</td><td>5MP</td><td>8MP</td><td>Qualcomm Snapdragon 685</td><td>7,250mAh</td><td>11.5 inches</td><td>PKR 59,999</td><td>INR 22,999</td><td>CNY 1,599</td><td>USD 299</td><td>AED 1,099</td><td>2023</td></tr><tr><td>Honor</td><td>Pad X8 Pro</td><td>460g</td><td>4GB</td><td>2MP</td><td>5MP</td><td>MediaTek Helio G80</td><td>5,100mAh</td><td>10.1 inches</td><td>PKR 44,999</td><td>INR 16,999</td><td>CNY 1,199</td><td>USD 189</td><td>AED 699</td><td>2023</td></tr><tr><td>Honor</td><td>MagicPad 13</td><td>590g</td><td>12GB</td><td>8MP</td><td>13MP</td><td>Qualcomm Snapdragon 8+ Gen 1</td><td>10,000mAh</td><td>13.0 inches</td><td>PKR 149,999</td><td>INR 64,999</td><td>CNY 3,999</td><td>USD 799</td><td>AED 2,999</td><td>2023</td></tr><tr><td>Honor</td><td>MagicPad 2</td><td>580g</td><td>16GB</td><td>12MP</td><td>16MP</td><td>Qualcomm Snapdragon 8 Gen 2</td><td>10,500mAh</td><td>13.2 inches</td><td>PKR 179,999</td><td>INR 74,999</td><td>CNY 4,499</td><td>USD 899</td><td>AED 3,299</td><td>2024</td></tr><tr><td>Honor</td><td>Pad X8a</td><td>450g</td><td>4GB</td><td>2MP</td><td>5MP</td><td>MediaTek MT8786</td><td>5,000mAh</td><td>9.7 inches</td><td>PKR 34,999</td><td>INR 12,999</td><td>CNY 999</td><td>USD 149</td><td>AED 549</td><td>2023</td></tr><tr><td>Honor</td><td>Pad X8a Kids Edition</td><td>460g</td><td>3GB</td><td>2MP</td><td>5MP</td><td>MediaTek MT8786</td><td>5,100mAh</td><td>9.7 inches</td><td>PKR 29,999</td><td>INR 10,999</td><td>CNY 799</td><td>USD 129</td><td>AED 499</td><td>2023</td></tr><tr><td>Honor</td><td>Pad X9 Pro</td><td>505g</td><td>8GB</td><td>8MP</td><td>13MP</td><td>Qualcomm Snapdragon 7s Gen 2</td><td>8,000mAh</td><td>11.6 inches</td><td>PKR 79,999</td><td>INR 29,999</td><td>CNY 2,199</td><td>USD 399</td><td>AED 1,499</td><td>2024</td></tr><tr><td>Honor</td><td>Pad V9</td><td>530g</td><td>8GB</td><td>8MP</td><td>13MP</td><td>MediaTek Dimensity 9000</td><td>8,500mAh</td><td>12.1 inches</td><td>PKR 129,999</td><td>INR 54,999</td><td>CNY 3,599</td><td>USD 649</td><td>AED 2,299</td><td>2024</td></tr><tr><td>Honor</td><td>Pad GT Pro</td><td>610g</td><td>12GB</td><td>12MP</td><td>16MP</td><td>Qualcomm Snapdragon 8 Gen 3</td><td>10,500mAh</td><td>13.5 inches</td><td>PKR 199,999</td><td>INR 84,999</td><td>CNY 4,999</td><td>USD 999</td><td>AED 3,799</td><td>2024</td></tr><tr><td>Honor</td><td>Pad X10</td><td>475g</td><td>6GB</td><td>5MP</td><td>8MP</td><td>Qualcomm Snapdragon 685</td><td>8,850mAh</td><td>12.1 inches</td><td>PKR 74,999</td><td>INR 29,999</td><td>CNY 2,299</td><td>USD 399</td><td>AED 1,499</td><td>2024</td></tr><tr><td>Honor</td><td>Pad X10 Pro</td><td>485g</td><td>8GB</td><td>8MP</td><td>13MP</td><td>Qualcomm Snapdragon 7s Gen 2</td><td>9,000mAh</td><td>12.6 inches</td><td>PKR 94,999</td><td>INR 39,999</td><td>CNY 2,999</td><td>USD 499</td><td>AED 1,799</td><td>2024</td></tr><tr><td>Honor</td><td>MagicPad 3</td><td>590g</td><td>12GB</td><td>12MP</td><td>16MP</td><td>Qualcomm Snapdragon 8 Gen 3</td><td>10,500mAh</td><td>13.0 inches</td><td>PKR 149,999</td><td>INR 64,999</td><td>CNY 3,999</td><td>USD 799</td><td>AED 2,999</td><td>2024</td></tr><tr><td>Honor</td><td>Pad V10</td><td>530g</td><td>8GB</td><td>8MP</td><td>13MP</td><td>MediaTek Dimensity 9000</td><td>8,500mAh</td><td>12.1 inches</td><td>PKR 129,999</td><td>INR 54,999</td><td>CNY 3,599</td><td>USD 649</td><td>AED 2,299</td><td>2024</td></tr><tr><td>POCO</td><td>F2 Pro 128GB</td><td>219g</td><td>6GB</td><td>20MP</td><td>64MP</td><td>Snapdragon 865</td><td>4700mAh</td><td>6.67 inches</td><td>PKR 99,999</td><td>INR 37,999</td><td>CNY 2,999</td><td>USD 499</td><td>AED 1,999</td><td>2020</td></tr><tr><td>POCO</td><td>M2 Pro 64GB</td><td>209g</td><td>4GB</td><td>16MP</td><td>48MP</td><td>Snapdragon 720G</td><td>5000mAh</td><td>6.67 inches</td><td>PKR 34,999</td><td>INR 13,999</td><td>CNY 1,399</td><td>USD 199</td><td>AED 799</td><td>2020</td></tr><tr><td>POCO</td><td>X3 NFC 128GB</td><td>215g</td><td>6GB</td><td>20MP</td><td>64MP</td><td>Snapdragon 732G</td><td>5160mAh</td><td>6.67 inches</td><td>PKR 39,999</td><td>INR 16,999</td><td>CNY 1,599</td><td>USD 229</td><td>AED 899</td><td>2020</td></tr><tr><td>POCO</td><td>M3 64GB</td><td>198g</td><td>4GB</td><td>8MP</td><td>48MP</td><td>Snapdragon 662</td><td>6000mAh</td><td>6.53 inches</td><td>PKR 24,999</td><td>INR 10,999</td><td>CNY 999</td><td>USD 149</td><td>AED 599</td><td>2020</td></tr><tr><td>POCO</td><td>F3 128GB</td><td>196g</td><td>6GB</td><td>20MP</td><td>48MP</td><td>Snapdragon 870</td><td>4520mAh</td><td>6.67 inches</td><td>PKR 69,999</td><td>INR 29,999</td><td>CNY 2,499</td><td>USD 349</td><td>AED 1,399</td><td>2021</td></tr><tr><td>POCO</td><td>X3 Pro 128GB</td><td>215g</td><td>6GB</td><td>20MP</td><td>48MP</td><td>Snapdragon 860</td><td>5160mAh</td><td>6.67 inches</td><td>PKR 49,999</td><td>INR 18,999</td><td>CNY 1,799</td><td>USD 249</td><td>AED 999</td><td>2021</td></tr><tr><td>POCO</td><td>M3 Pro 5G 64GB</td><td>190g</td><td>4GB</td><td>8MP</td><td>48MP</td><td>MediaTek Dimensity 700</td><td>5000mAh</td><td>6.5 inches</td><td>PKR 29,999</td><td>INR 13,999</td><td>CNY 1,199</td><td>USD 199</td><td>AED 799</td><td>2021</td></tr><tr><td>POCO</td><td>F3 GT 128GB</td><td>205g</td><td>6GB</td><td>16MP</td><td>64MP</td><td>MediaTek Dimensity 1200</td><td>5065mAh</td><td>6.67 inches</td><td>PKR 79,999</td><td>INR 25,999</td><td>CNY 2,299</td><td>USD 399</td><td>AED 1,499</td><td>2021</td></tr><tr><td>POCO</td><td>X3 GT 128GB</td><td>193g</td><td>6GB</td><td>16MP</td><td>64MP</td><td>MediaTek Dimensity 1100</td><td>5000mAh</td><td>6.6 inches</td><td>PKR 44,999</td><td>INR 21,999</td><td>CNY 1,899</td><td>USD 279</td><td>AED 1,099</td><td>2021</td></tr><tr><td>POCO</td><td>M4 Pro 5G 128GB</td><td>195g</td><td>4GB</td><td>16MP</td><td>50MP</td><td>MediaTek Dimensity 810</td><td>5000mAh</td><td>6.6 inches</td><td>PKR 34,999</td><td>INR 14,999</td><td>CNY 1,499</td><td>USD 219</td><td>AED 849</td><td>2021</td></tr><tr><td>POCO</td><td>F4 128GB</td><td>195g</td><td>6GB</td><td>20MP</td><td>64MP</td><td>Snapdragon 870</td><td>4500mAh</td><td>6.67 inches</td><td>PKR 74,999</td><td>INR 27,999</td><td>CNY 2,399</td><td>USD 349</td><td>AED 1,399</td><td>2022</td></tr><tr><td>POCO</td><td>F4 GT 128GB</td><td>210g</td><td>8GB</td><td>20MP</td><td>64MP</td><td>Snapdragon 8 Gen 1</td><td>4700mAh</td><td>6.67 inches</td><td>PKR 99,999</td><td>INR 39,999</td><td>CNY 3,299</td><td>USD 499</td><td>AED 1,999</td><td>2022</td></tr><tr><td>POCO</td><td>X4 Pro 5G 128GB</td><td>205g</td><td>6GB</td><td>16MP</td><td>108MP</td><td>Snapdragon 695</td><td>5000mAh</td><td>6.67 inches</td><td>PKR 54,999</td><td>INR 18,999</td><td>CNY 1,999</td><td>USD 299</td><td>AED 1,199</td><td>2022</td></tr><tr><td>POCO</td><td>M4 Pro 128GB</td><td>179g</td><td>6GB</td><td>16MP</td><td>64MP</td><td>MediaTek Helio G96</td><td>5000mAh</td><td>6.43 inches</td><td>PKR 39,999</td><td>INR 14,999</td><td>CNY 1,499</td><td>USD 219</td><td>AED 849</td><td>2022</td></tr><tr><td>POCO</td><td>M5 128GB</td><td>201g</td><td>4GB</td><td>5MP</td><td>50MP</td><td>MediaTek Helio G99</td><td>5000mAh</td><td>6.58 inches</td><td>PKR 29,999</td><td>INR 12,499</td><td>CNY 1,299</td><td>USD 199</td><td>AED 799</td><td>2022</td></tr><tr><td>POCO</td><td>M5s 128GB</td><td>178.8g</td><td>4GB</td><td>13MP</td><td>64MP</td><td>MediaTek Helio G95</td><td>5000mAh</td><td>6.43 inches</td><td>PKR 34,999</td><td>INR 13,999</td><td>CNY 1,399</td><td>USD 229</td><td>AED 899</td><td>2022</td></tr><tr><td>POCO</td><td>F5 128GB</td><td>181g</td><td>6GB</td><td>16MP</td><td>64MP</td><td>Snapdragon 7+ Gen 2</td><td>5000mAh</td><td>6.67 inches</td><td>PKR 79,999</td><td>INR 29,999</td><td>CNY 2,299</td><td>USD 349</td><td>AED 1,299</td><td>2023</td></tr><tr><td>POCO</td><td>F5 Pro 256GB</td><td>204g</td><td>8GB</td><td>20MP</td><td>64MP</td><td>Snapdragon 8+ Gen 1</td><td>5160mAh</td><td>6.67 inches</td><td>PKR 99,999</td><td>INR 39,999</td><td>CNY 3,299</td><td>USD 499</td><td>AED 1,899</td><td>2023</td></tr><tr><td>POCO</td><td>X5 128GB</td><td>189g</td><td>6GB</td><td>13MP</td><td>48MP</td><td>Snapdragon 695</td><td>5000mAh</td><td>6.67 inches</td><td>PKR 54,999</td><td>INR 18,999</td><td>CNY 1,799</td><td>USD 279</td><td>AED 1,099</td><td>2023</td></tr><tr><td>POCO</td><td>X5 Pro 128GB</td><td>181g</td><td>6GB</td><td>16MP</td><td>108MP</td><td>Snapdragon 778G</td><td>5000mAh</td><td>6.67 inches</td><td>PKR 64,999</td><td>INR 22,999</td><td>CNY 2,199</td><td>USD 329</td><td>AED 1,199</td><td>2023</td></tr><tr><td>POCO</td><td>M6 64GB</td><td>199g</td><td>4GB</td><td>8MP</td><td>50MP</td><td>MediaTek Helio G88</td><td>5000mAh</td><td>6.58 inches</td><td>PKR 29,999</td><td>INR 12,999</td><td>CNY 1,299</td><td>USD 199</td><td>AED 799</td><td>2023</td></tr><tr><td>POCO</td><td>M6 Pro 128GB</td><td>202g</td><td>6GB</td><td>8MP</td><td>50MP</td><td>Snapdragon 4 Gen 1</td><td>5000mAh</td><td>6.79 inches</td><td>PKR 34,999</td><td>INR 14,999</td><td>CNY 1,499</td><td>USD 219</td><td>AED 849</td><td>2023</td></tr><tr><td>POCO</td><td>X6 128GB</td><td>193g</td><td>6GB</td><td>16MP</td><td>64MP</td><td>MediaTek Dimensity 8100</td><td>5000mAh</td><td>6.67 inches</td><td>PKR 59,999</td><td>INR 21,999</td><td>CNY 2,299</td><td>USD 349</td><td>AED 1,299</td><td>2024</td></tr><tr><td>POCO</td><td>X6 Pro 256GB</td><td>205g</td><td>8GB</td><td>20MP</td><td>108MP</td><td>MediaTek Dimensity 8300</td><td>5000mAh</td><td>6.67 inches</td><td>PKR 69,999</td><td>INR 24,999</td><td>CNY 2,599</td><td>USD 399</td><td>AED 1,499</td><td>2024</td></tr><tr><td>POCO</td><td>F6 128GB</td><td>190g</td><td>6GB</td><td>20MP</td><td>64MP</td><td>Snapdragon 8 Gen 2</td><td>5000mAh</td><td>6.67 inches</td><td>PKR 89,999</td><td>INR 34,999</td><td>CNY 2,999</td><td>USD 449</td><td>AED 1,699</td><td>2024</td></tr><tr><td>POCO</td><td>F6 Pro 256GB</td><td>210g</td><td>8GB</td><td>20MP</td><td>108MP</td><td>Snapdragon 8+ Gen 2</td><td>5160mAh</td><td>6.67 inches</td><td>PKR 109,999</td><td>INR 44,999</td><td>CNY 3,499</td><td>USD 549</td><td>AED 1,999</td><td>2024</td></tr><tr><td>POCO</td><td>C65 64GB</td><td>190g</td><td>4GB</td><td>5MP</td><td>50MP</td><td>MediaTek Helio G85</td><td>5000mAh</td><td>6.5 inches</td><td>PKR 24,999</td><td>INR 10,999</td><td>CNY 999</td><td>USD 149</td><td>AED 599</td><td>2024</td></tr><tr><td>POCO</td><td>X7 128GB</td><td>195g</td><td>6GB</td><td>16MP</td><td>64MP</td><td>MediaTek Dimensity 8200</td><td>5000mAh</td><td>6.67 inches</td><td>PKR 64,999</td><td>INR 22,999</td><td>CNY 2,199</td><td>USD 329</td><td>AED 1,199</td><td>2025</td></tr><tr><td>POCO</td><td>X7 Pro 256GB</td><td>207g</td><td>8GB</td><td>20MP</td><td>108MP</td><td>MediaTek Dimensity 8400</td><td>6000mAh</td><td>6.67 inches</td><td>PKR 79,999</td><td>INR 27,999</td><td>CNY 2,699</td><td>USD 399</td><td>AED 1,499</td><td>2025</td></tr><tr><td>POCO</td><td>M7 5G 128GB</td><td>198g</td><td>6GB</td><td>8MP</td><td>50MP</td><td>MediaTek Dimensity 7025</td><td>5110mAh</td><td>6.67 inches</td><td>PKR 39,999</td><td>INR 15,999</td><td>CNY 1,599</td><td>USD 229</td><td>AED 899</td><td>2024</td></tr><tr><td>Poco</td><td>Pad 5G 128GB</td><td>571g</td><td>8GB</td><td>8MP</td><td>8MP</td><td>Snapdragon 7s Gen 2</td><td>10,000mAh</td><td>12.1 inches</td><td>PKR 66,220</td><td>INR 23,999</td><td>CNY 2,099</td><td>USD 280</td><td>AED 1,029</td><td>2024</td></tr><tr><td>Poco</td><td>Pad 5G 256GB</td><td>571g</td><td>8GB</td><td>8MP</td><td>8MP</td><td>Snapdragon 7s Gen 2</td><td>10,000mAh</td><td>12.1 inches</td><td>PKR 71,220</td><td>INR 25,999</td><td>CNY 2,299</td><td>USD 300</td><td>AED 1,099</td><td>2024</td></tr><tr><td>Samsung</td><td>Galaxy Z Fold6 256GB</td><td>239g</td><td>12GB</td><td>10MP, 4MP (UDC)</td><td>50MP</td><td>Snapdragon 8 Gen 3</td><td>4400mAh</td><td>7.6 inches</td><td>PKR 604,999</td><td>INR 164,999</td><td>�13,999</td><td>USD 1,899</td><td>AED 7,199</td><td>2024</td></tr><tr><td>Samsung</td><td>Galaxy Z Fold6 512GB</td><td>239g</td><td>12GB</td><td>10MP, 4MP (UDC)</td><td>50MP</td><td>Snapdragon 8 Gen 3</td><td>4400mAh</td><td>7.6 inches</td><td>PKR 544,999</td><td>INR 176,999</td><td>CNY 15,999</td><td>USD 1719</td><td>AED 7,699</td><td>2024</td></tr><tr><td>Samsung</td><td>Galaxy Z Fold6 1TB</td><td>239g</td><td>12GB</td><td>10MP, 4MP (UDC)</td><td>50MP</td><td>Snapdragon 8 Gen 3</td><td>4400mAh</td><td>7.6 inches</td><td>Not available</td><td>INR 200,999</td><td>CNY 17,999�</td><td>USD 2,259</td><td>AED 8,699</td><td>2024</td></tr></tbody></table></div>"
      ]
     },
     "metadata": {
      "application/vnd.databricks.v1+output": {
       "addedWidgets": {},
       "aggData": [],
       "aggError": "",
       "aggOverflow": false,
       "aggSchema": [],
       "aggSeriesLimitReached": false,
       "aggType": "",
       "arguments": {},
       "columnCustomDisplayInfos": {},
       "data": [
        [
         "Apple",
         "iPhone 16 128GB",
         "174g",
         "6GB",
         "12MP",
         "48MP",
         "A17 Bionic",
         "3,600mAh",
         "6.1 inches",
         "PKR 224,999",
         "INR 79,999",
         "CNY 5,799",
         "USD 799",
         "AED 2,799",
         2024
        ],
        [
         "Apple",
         "iPhone 16 256GB",
         "174g",
         "6GB",
         "12MP",
         "48MP",
         "A17 Bionic",
         "3,600mAh",
         "6.1 inches",
         "PKR 234,999",
         "INR 84,999",
         "CNY 6,099",
         "USD 849",
         "AED 2,999",
         2024
        ],
        [
         "Apple",
         "iPhone 16 512GB",
         "174g",
         "6GB",
         "12MP",
         "48MP",
         "A17 Bionic",
         "3,600mAh",
         "6.1 inches",
         "PKR 244,999",
         "INR 89,999",
         "CNY 6,499",
         "USD 899",
         "AED 3,199",
         2024
        ],
        [
         "Apple",
         "iPhone 16 Plus 128GB",
         "203g",
         "6GB",
         "12MP",
         "48MP",
         "A17 Bionic",
         "4,200mAh",
         "6.7 inches",
         "PKR 249,999",
         "INR 89,999",
         "CNY 6,199",
         "USD 899",
         "AED 3,199",
         2024
        ],
        [
         "Apple",
         "iPhone 16 Plus 256GB",
         "203g",
         "6GB",
         "12MP",
         "48MP",
         "A17 Bionic",
         "4,200mAh",
         "6.7 inches",
         "PKR 259,999",
         "INR 94,999",
         "CNY 6,499",
         "USD 949",
         "AED 3,399",
         2024
        ],
        [
         "Apple",
         "iPhone 16 Plus 512GB",
         "203g",
         "6GB",
         "12MP",
         "48MP",
         "A17 Bionic",
         "4,200mAh",
         "6.7 inches",
         "PKR 274,999",
         "INR 104,999",
         "CNY 6,999",
         "USD 999",
         "AED 3,599",
         2024
        ],
        [
         "Apple",
         "iPhone 16 Pro 128GB",
         "206g",
         "6GB",
         "12MP / 4K",
         "50MP + 12MP",
         "A17 Pro",
         "4,400mAh",
         "6.1 inches",
         "PKR 284,999",
         "INR 99,999",
         "CNY 6,999",
         "USD 999",
         "AED 3,499",
         2024
        ],
        [
         "Apple",
         "iPhone 16 Pro 256GB",
         "206g",
         "8GB",
         "12MP / 4K",
         "50MP + 12MP",
         "A17 Pro",
         "4,400mAh",
         "6.1 inches",
         "PKR 294,999",
         "INR 104,999",
         "CNY 7,099",
         "USD 1,049",
         "AED 3,699",
         2024
        ],
        [
         "Apple",
         "iPhone 16 Pro 512GB",
         "206g",
         "8GB",
         "12MP / 4K",
         "50MP + 12MP",
         "A17 Pro",
         "4,400mAh",
         "6.1 inches",
         "PKR 314,999",
         "INR 114,999",
         "CNY 7,499",
         "USD 1,099",
         "AED 3,899",
         2024
        ],
        [
         "Apple",
         "iPhone 16 Pro Max 128GB",
         "221g",
         "6GB",
         "12MP / 4K",
         "48MP + 12MP",
         "A17 Pro",
         "4,500mAh",
         "6.7 inches",
         "PKR 314,999",
         "INR 109,999",
         "CNY 7,499",
         "USD 1,099",
         "AED 3,799",
         2024
        ],
        [
         "Apple",
         "iPhone 16 Pro Max 256GB",
         "221g",
         "8GB",
         "12MP / 4K",
         "48MP + 12MP",
         "A17 Pro",
         "4,500mAh",
         "6.7 inches",
         "PKR 324,999",
         "INR 114,999",
         "CNY 7,799",
         "USD 1,199",
         "AED 3,999",
         2024
        ],
        [
         "Apple",
         "iPhone 16 Pro Max 512GB",
         "221g",
         "8GB",
         "12MP / 4K",
         "48MP + 12MP",
         "A17 Pro",
         "4,500mAh",
         "6.7 inches",
         "PKR 344,999",
         "INR 124,999",
         "CNY 8,199",
         "USD 1,299",
         "AED 4,199",
         2024
        ],
        [
         "Apple",
         "iPhone 15 128GB",
         "171g",
         "6GB",
         "12MP",
         "48MP",
         "A16 Bionic",
         "3,200mAh",
         "6.1 inches",
         "PKR 204,999",
         "INR 74,999",
         "CNY 5,299",
         "USD 799",
         "AED 2,699",
         2023
        ],
        [
         "Apple",
         "iPhone 15 256GB",
         "171g",
         "6GB",
         "12MP",
         "48MP",
         "A16 Bionic",
         "3,200mAh",
         "6.1 inches",
         "PKR 214,999",
         "INR 79,999",
         "CNY 5,599",
         "USD 849",
         "AED 2,999",
         2023
        ],
        [
         "Apple",
         "iPhone 15 512GB",
         "171g",
         "6GB",
         "12MP",
         "48MP",
         "A16 Bionic",
         "3,200mAh",
         "6.1 inches",
         "PKR 224,999",
         "INR 89,999",
         "CNY 5,999",
         "USD 949",
         "AED 3,199",
         2023
        ],
        [
         "Apple",
         "iPhone 15 Plus 128GB",
         "203g",
         "6GB",
         "12MP",
         "48MP",
         "A16 Bionic",
         "4,300mAh",
         "6.7 inches",
         "PKR 234,999",
         "INR 84,999",
         "CNY 5,699",
         "USD 899",
         "AED 3,199",
         2023
        ],
        [
         "Apple",
         "iPhone 15 Plus 256GB",
         "203g",
         "6GB",
         "12MP",
         "48MP",
         "A16 Bionic",
         "4,300mAh",
         "6.7 inches",
         "PKR 244,999",
         "INR 94,999",
         "CNY 6,199",
         "USD 999",
         "AED 3,399",
         2023
        ],
        [
         "Apple",
         "iPhone 15 Plus 512GB",
         "203g",
         "6GB",
         "12MP",
         "48MP",
         "A16 Bionic",
         "4,300mAh",
         "6.7 inches",
         "PKR 264,999",
         "INR 104,999",
         "CNY 6,799",
         "USD 1,049",
         "AED 3,599",
         2023
        ],
        [
         "Apple",
         "iPhone 15 Pro 128GB",
         "206g",
         "6GB",
         "12MP / 4K",
         "48MP + 12MP",
         "A16 Bionic",
         "4,400mAh",
         "6.1 inches",
         "PKR 274,999",
         "INR 99,999",
         "CNY 6,999",
         "USD 1,099",
         "AED 3,599",
         2023
        ],
        [
         "Apple",
         "iPhone 15 Pro 256GB",
         "206g",
         "8GB",
         "12MP / 4K",
         "48MP + 12MP",
         "A16 Bionic",
         "4,400mAh",
         "6.1 inches",
         "PKR 284,999",
         "INR 109,999",
         "CNY 7,299",
         "USD 1,199",
         "AED 3,799",
         2023
        ],
        [
         "Apple",
         "iPhone 15 Pro 512GB",
         "206g",
         "8GB",
         "12MP / 4K",
         "48MP + 12MP",
         "A16 Bionic",
         "4,400mAh",
         "6.1 inches",
         "PKR 304,999",
         "INR 119,999",
         "CNY 7,799",
         "USD 1,299",
         "AED 4,199",
         2023
        ],
        [
         "Apple",
         "iPhone 15 Pro Max 128GB",
         "221g",
         "6GB",
         "12MP / 4K",
         "48MP + 12MP",
         "A16 Bionic",
         "4,500mAh",
         "6.7 inches",
         "PKR 314,999",
         "INR 114,999",
         "CNY 7,999",
         "USD 1,199",
         "AED 3,899",
         2023
        ],
        [
         "Apple",
         "iPhone 15 Pro Max 256GB",
         "221g",
         "8GB",
         "12MP / 4K",
         "48MP + 12MP",
         "A16 Bionic",
         "4,500mAh",
         "6.7 inches",
         "PKR 324,999",
         "INR 124,999",
         "CNY 8,199",
         "USD 1,299",
         "AED 4,199",
         2023
        ],
        [
         "Apple",
         "iPhone 15 Pro Max 512GB",
         "221g",
         "8GB",
         "12MP / 4K",
         "48MP + 12MP",
         "A16 Bionic",
         "4,500mAh",
         "6.7 inches",
         "PKR 344,999",
         "INR 134,999",
         "CNY 8,699",
         "USD 1,399",
         "AED 4,399",
         2023
        ],
        [
         "Apple",
         "iPhone 14 128GB",
         "172g",
         "6GB",
         "12MP",
         "12MP + 12MP",
         "A15 Bionic",
         "3,200mAh",
         "6.1 inches",
         "PKR 184,999",
         "INR 69,999",
         "CNY 5,199",
         "USD 799",
         "AED 2,699",
         2022
        ],
        [
         "Apple",
         "iPhone 14 256GB",
         "172g",
         "6GB",
         "12MP",
         "12MP + 12MP",
         "A15 Bionic",
         "3,200mAh",
         "6.1 inches",
         "PKR 194,999",
         "INR 74,999",
         "CNY 5,599",
         "USD 849",
         "AED 2,999",
         2022
        ],
        [
         "Apple",
         "iPhone 14 512GB",
         "172g",
         "6GB",
         "12MP",
         "12MP + 12MP",
         "A15 Bionic",
         "3,200mAh",
         "6.1 inches",
         "PKR 204,999",
         "INR 84,999",
         "CNY 5,999",
         "USD 949",
         "AED 3,199",
         2022
        ],
        [
         "Apple",
         "iPhone 14 Plus 128GB",
         "203g",
         "6GB",
         "12MP",
         "12MP + 12MP",
         "A15 Bionic",
         "4,325mAh",
         "6.7 inches",
         "PKR 204,999",
         "INR 79,999",
         "CNY 5,499",
         "USD 899",
         "AED 3,199",
         2022
        ],
        [
         "Apple",
         "iPhone 14 Plus 256GB",
         "203g",
         "6GB",
         "12MP",
         "12MP + 12MP",
         "A15 Bionic",
         "4,325mAh",
         "6.7 inches",
         "PKR 214,999",
         "INR 84,999",
         "CNY 5,899",
         "USD 999",
         "AED 3,399",
         2022
        ],
        [
         "Apple",
         "iPhone 14 Plus 512GB",
         "203g",
         "6GB",
         "12MP",
         "12MP + 12MP",
         "A15 Bionic",
         "4,325mAh",
         "6.7 inches",
         "PKR 224,999",
         "INR 94,999",
         "CNY 6,299",
         "USD 1,049",
         "AED 3,599",
         2022
        ],
        [
         "Apple",
         "iPhone 14 Pro 128GB",
         "206g",
         "6GB",
         "12MP / 4K",
         "48MP + 12MP",
         "A16 Bionic",
         "4,200mAh",
         "6.1 inches",
         "PKR 294,999",
         "INR 109,999",
         "CNY 7,199",
         "USD 1,099",
         "AED 3,699",
         2022
        ],
        [
         "Apple",
         "iPhone 14 Pro 256GB",
         "206g",
         "8GB",
         "12MP / 4K",
         "48MP + 12MP",
         "A16 Bionic",
         "4,200mAh",
         "6.1 inches",
         "PKR 304,999",
         "INR 119,999",
         "CNY 7,499",
         "USD 1,199",
         "AED 3,899",
         2022
        ],
        [
         "Apple",
         "iPhone 14 Pro 512GB",
         "206g",
         "8GB",
         "12MP / 4K",
         "48MP + 12MP",
         "A16 Bionic",
         "4,200mAh",
         "6.1 inches",
         "PKR 324,999",
         "INR 134,999",
         "CNY 7,999",
         "USD 1,299",
         "AED 4,199",
         2022
        ],
        [
         "Apple",
         "iPhone 14 Pro Max 128GB",
         "221g",
         "6GB",
         "12MP / 4K",
         "48MP + 12MP",
         "A16 Bionic",
         "4,500mAh",
         "6.7 inches",
         "PKR 324,999",
         "INR 124,999",
         "CNY 8,099",
         "USD 1,199",
         "AED 3,999",
         2022
        ],
        [
         "Apple",
         "iPhone 14 Pro Max 256GB",
         "221g",
         "8GB",
         "12MP / 4K",
         "48MP + 12MP",
         "A16 Bionic",
         "4,500mAh",
         "6.7 inches",
         "PKR 344,999",
         "INR 134,999",
         "CNY 8,499",
         "USD 1,299",
         "AED 4,199",
         2022
        ],
        [
         "Apple",
         "iPhone 14 Pro Max 512GB",
         "221g",
         "8GB",
         "12MP / 4K",
         "48MP + 12MP",
         "A16 Bionic",
         "4,500mAh",
         "6.7 inches",
         "PKR 364,999",
         "INR 144,999",
         "CNY 8,999",
         "USD 1,399",
         "AED 4,499",
         2022
        ],
        [
         "Apple",
         "iPhone 13 mini 128GB",
         "140g",
         "4GB",
         "12MP",
         "12MP",
         "A15 Bionic",
         "2,438mAh",
         "5.4 inches",
         "PKR 174,999",
         "INR 69,900",
         "CNY 5,199",
         "USD 699",
         "AED 2,599",
         2021
        ],
        [
         "Apple",
         "iPhone 13 mini 256GB",
         "140g",
         "4GB",
         "12MP",
         "12MP",
         "A15 Bionic",
         "2,438mAh",
         "5.4 inches",
         "PKR 184,999",
         "INR 74,900",
         "CNY 5,599",
         "USD 799",
         "AED 2,999",
         2021
        ],
        [
         "Apple",
         "iPhone 13 mini 512GB",
         "140g",
         "4GB",
         "12MP",
         "12MP",
         "A15 Bionic",
         "2,438mAh",
         "5.4 inches",
         "PKR 194,999",
         "INR 84,900",
         "CNY 5,999",
         "USD 899",
         "AED 3,299",
         2021
        ],
        [
         "Apple",
         "iPhone 13 128GB",
         "174g",
         "4GB",
         "12MP",
         "12MP + 12MP",
         "A15 Bionic",
         "3,240mAh",
         "6.1 inches",
         "PKR 194,999",
         "INR 74,900",
         "CNY 5,499",
         "USD 799",
         "AED 2,999",
         2021
        ],
        [
         "Apple",
         "iPhone 13 256GB",
         "174g",
         "4GB",
         "12MP",
         "12MP + 12MP",
         "A15 Bionic",
         "3,240mAh",
         "6.1 inches",
         "PKR 204,999",
         "INR 84,900",
         "CNY 5,899",
         "USD 899",
         "AED 3,199",
         2021
        ],
        [
         "Apple",
         "iPhone 13 512GB",
         "174g",
         "4GB",
         "12MP",
         "12MP + 12MP",
         "A15 Bionic",
         "3,240mAh",
         "6.1 inches",
         "PKR 224,999",
         "INR 94,900",
         "CNY 6,299",
         "USD 999",
         "AED 3,599",
         2021
        ],
        [
         "Apple",
         "iPhone 13 Pro 128GB",
         "204g",
         "6GB",
         "12MP / 4K",
         "12MP + 12MP + 12MP",
         "A15 Bionic",
         "3,095mAh",
         "6.1 inches",
         "PKR 294,999",
         "INR 119,900",
         "CNY 7,299",
         "USD 999",
         "AED 3,999",
         2021
        ],
        [
         "Apple",
         "iPhone 13 Pro 256GB",
         "204g",
         "6GB",
         "12MP / 4K",
         "12MP + 12MP + 12MP",
         "A15 Bionic",
         "3,095mAh",
         "6.1 inches",
         "PKR 314,999",
         "INR 129,900",
         "CNY 7,699",
         "USD 1,099",
         "AED 4,199",
         2021
        ],
        [
         "Apple",
         "iPhone 13 Pro 512GB",
         "204g",
         "6GB",
         "12MP / 4K",
         "12MP + 12MP + 12MP",
         "A15 Bionic",
         "3,095mAh",
         "6.1 inches",
         "PKR 344,999",
         "INR 139,900",
         "CNY 8,199",
         "USD 1,199",
         "AED 4,399",
         2021
        ],
        [
         "Apple",
         "iPhone 13 Pro Max 128GB",
         "238g",
         "6GB",
         "12MP / 4K",
         "12MP + 12MP + 12MP",
         "A15 Bionic",
         "4,352mAh",
         "6.7 inches",
         "PKR 324,999",
         "INR 129,900",
         "CNY 8,299",
         "USD 1,099",
         "AED 4,199",
         2021
        ],
        [
         "Apple",
         "iPhone 13 Pro Max 256GB",
         "238g",
         "6GB",
         "12MP / 4K",
         "12MP + 12MP + 12MP",
         "A15 Bionic",
         "4,352mAh",
         "6.7 inches",
         "PKR 354,999",
         "INR 139,900",
         "CNY 8,799",
         "USD 1,199",
         "AED 4,399",
         2021
        ],
        [
         "Apple",
         "iPhone 13 Pro Max 512GB",
         "238g",
         "6GB",
         "12MP / 4K",
         "12MP + 12MP + 12MP",
         "A15 Bionic",
         "4,352mAh",
         "6.7 inches",
         "PKR 384,999",
         "INR 149,900",
         "CNY 9,199",
         "USD 1,399",
         "AED 4,599",
         2021
        ],
        [
         "Apple",
         "iPhone 12 mini 64GB",
         "135g",
         "4GB",
         "12MP",
         "12MP",
         "A14 Bionic",
         "2,227mAh",
         "5.4 inches",
         "PKR 174,999",
         "INR 69,900",
         "CNY 5,199",
         "USD 699",
         "AED 2,599",
         2020
        ],
        [
         "Apple",
         "iPhone 12 mini 128GB",
         "135g",
         "4GB",
         "12MP",
         "12MP",
         "A14 Bionic",
         "2,227mAh",
         "5.4 inches",
         "PKR 184,999",
         "INR 74,900",
         "CNY 5,599",
         "USD 799",
         "AED 2,999",
         2020
        ],
        [
         "Apple",
         "iPhone 12 mini 256GB",
         "135g",
         "4GB",
         "12MP",
         "12MP",
         "A14 Bionic",
         "2,227mAh",
         "5.4 inches",
         "PKR 194,999",
         "INR 84,900",
         "CNY 5,999",
         "USD 899",
         "AED 3,299",
         2020
        ],
        [
         "Apple",
         "iPhone 12 64GB",
         "164g",
         "4GB",
         "12MP",
         "12MP + 12MP",
         "A14 Bionic",
         "2,815mAh",
         "6.1 inches",
         "PKR 194,999",
         "INR 74,900",
         "CNY 5,499",
         "USD 799",
         "AED 2,999",
         2020
        ],
        [
         "Apple",
         "iPhone 12 128GB",
         "164g",
         "4GB",
         "12MP",
         "12MP + 12MP",
         "A14 Bionic",
         "2,815mAh",
         "6.1 inches",
         "PKR 204,999",
         "INR 84,900",
         "CNY 5,899",
         "USD 899",
         "AED 3,199",
         2020
        ],
        [
         "Apple",
         "iPhone 12 256GB",
         "164g",
         "4GB",
         "12MP",
         "12MP + 12MP",
         "A14 Bionic",
         "2,815mAh",
         "6.1 inches",
         "PKR 224,999",
         "INR 94,900",
         "CNY 6,299",
         "USD 999",
         "AED 3,599",
         2020
        ],
        [
         "Apple",
         "iPhone 12 Pro 128GB",
         "189g",
         "6GB",
         "12MP / 4K",
         "12MP + 12MP + 12MP",
         "A14 Bionic",
         "2,815mAh",
         "6.1 inches",
         "PKR 314,999",
         "INR 119,900",
         "CNY 7,299",
         "USD 999",
         "AED 3,999",
         2020
        ],
        [
         "Apple",
         "iPhone 12 Pro 256GB",
         "189g",
         "6GB",
         "12MP / 4K",
         "12MP + 12MP + 12MP",
         "A14 Bionic",
         "2,815mAh",
         "6.1 inches",
         "PKR 334,999",
         "INR 129,900",
         "CNY 7,699",
         "USD 1,099",
         "AED 4,199",
         2020
        ],
        [
         "Apple",
         "iPhone 12 Pro 512GB",
         "189g",
         "6GB",
         "12MP / 4K",
         "12MP + 12MP + 12MP",
         "A14 Bionic",
         "2,815mAh",
         "6.1 inches",
         "PKR 354,999",
         "INR 139,900",
         "CNY 8,199",
         "USD 1,199",
         "AED 4,399",
         2020
        ],
        [
         "Apple",
         "iPhone 12 Pro Max 128GB",
         "228g",
         "6GB",
         "12MP / 4K",
         "12MP + 12MP + 12MP",
         "A14 Bionic",
         "3,687mAh",
         "6.7 inches",
         "PKR 344,999",
         "INR 129,900",
         "CNY 8,399",
         "USD 1,099",
         "AED 4,199",
         2020
        ],
        [
         "Apple",
         "iPhone 12 Pro Max 256GB",
         "228g",
         "6GB",
         "12MP / 4K",
         "12MP + 12MP + 12MP",
         "A14 Bionic",
         "3,687mAh",
         "6.7 inches",
         "PKR 364,999",
         "INR 139,900",
         "CNY 8,799",
         "USD 1,199",
         "AED 4,399",
         2020
        ],
        [
         "Apple",
         "iPhone 12 Pro Max 512GB",
         "228g",
         "6GB",
         "12MP / 4K",
         "12MP + 12MP + 12MP",
         "A14 Bionic",
         "3,687mAh",
         "6.7 inches",
         "PKR 384,999",
         "INR 149,900",
         "CNY 9,199",
         "USD 1,399",
         "AED 4,599",
         2020
        ],
        [
         "Apple",
         "iPhone 11 64GB",
         "194g",
         "4GB",
         "12MP",
         "12MP + 12MP",
         "A13 Bionic",
         "3,110mAh",
         "6.1 inches",
         "PKR 159,999",
         "INR 64,900",
         "CNY 5,499",
         "USD 699",
         "AED 2,499",
         2019
        ],
        [
         "Apple",
         "iPhone 11 128GB",
         "194g",
         "4GB",
         "12MP",
         "12MP + 12MP",
         "A13 Bionic",
         "3,110mAh",
         "6.1 inches",
         "PKR 169,999",
         "INR 74,900",
         "CNY 5,899",
         "USD 799",
         "AED 2,999",
         2019
        ],
        [
         "Apple",
         "iPhone 11 256GB",
         "194g",
         "4GB",
         "12MP",
         "12MP + 12MP",
         "A13 Bionic",
         "3,110mAh",
         "6.1 inches",
         "PKR 179,999",
         "INR 84,900",
         "CNY 6,299",
         "USD 899",
         "AED 3,299",
         2019
        ],
        [
         "Apple",
         "iPhone 11 Pro 64GB",
         "188g",
         "4GB",
         "12MP / 4K",
         "12MP + 12MP + 12MP",
         "A13 Bionic",
         "3,046mAh",
         "5.8 inches",
         "PKR 219,999",
         "INR 99,900",
         "CNY 6,999",
         "USD 999",
         "AED 3,799",
         2019
        ],
        [
         "Apple",
         "iPhone 11 Pro 256GB",
         "188g",
         "4GB",
         "12MP / 4K",
         "12MP + 12MP + 12MP",
         "A13 Bionic",
         "3,046mAh",
         "5.8 inches",
         "PKR 239,999",
         "INR 109,900",
         "CNY 7,399",
         "USD 1,099",
         "AED 4,199",
         2019
        ],
        [
         "Apple",
         "iPhone 11 Pro 512GB",
         "188g",
         "4GB",
         "12MP / 4K",
         "12MP + 12MP + 12MP",
         "A13 Bionic",
         "3,046mAh",
         "5.8 inches",
         "PKR 259,999",
         "INR 119,900",
         "CNY 7,999",
         "USD 1,199",
         "AED 4,599",
         2019
        ],
        [
         "Apple",
         "iPhone 11 Pro Max 64GB",
         "226g",
         "4GB",
         "12MP / 4K",
         "12MP + 12MP + 12MP",
         "A13 Bionic",
         "3,969mAh",
         "6.5 inches",
         "PKR 269,999",
         "INR 109,900",
         "CNY 7,799",
         "USD 1,099",
         "AED 4,399",
         2019
        ],
        [
         "Apple",
         "iPhone 11 Pro Max 256GB",
         "226g",
         "4GB",
         "12MP / 4K",
         "12MP + 12MP + 12MP",
         "A13 Bionic",
         "3,969mAh",
         "6.5 inches",
         "PKR 289,999",
         "INR 119,900",
         "CNY 8,199",
         "USD 1,199",
         "AED 4,599",
         2019
        ],
        [
         "Apple",
         "iPhone 11 Pro Max 512GB",
         "226g",
         "4GB",
         "12MP / 4K",
         "12MP + 12MP + 12MP",
         "A13 Bionic",
         "3,969mAh",
         "6.5 inches",
         "PKR 309,999",
         "INR 129,900",
         "CNY 8,799",
         "USD 1,399",
         "AED 4,999",
         2019
        ],
        [
         "Apple",
         "iPhone X 64GB",
         "174g",
         "3GB",
         "7MP",
         "12MP + 12MP",
         "A11 Bionic",
         "2,716mAh",
         "5.8 inches",
         "PKR 164,999",
         "INR 89,900",
         "CNY 8,388",
         "USD 999",
         "AED 3,799",
         2017
        ],
        [
         "Apple",
         "iPhone X 256GB",
         "174g",
         "3GB",
         "7MP",
         "12MP + 12MP",
         "A11 Bionic",
         "2,716mAh",
         "5.8 inches",
         "PKR 184,999",
         "INR 99,900",
         "CNY 8,788",
         "USD 1,099",
         "AED 4,199",
         2017
        ],
        [
         "Apple",
         "iPhone XS 64GB",
         "177g",
         "4GB",
         "7MP",
         "12MP + 12MP",
         "A12 Bionic",
         "2,658mAh",
         "5.8 inches",
         "PKR 219,999",
         "INR 99,900",
         "CNY 9,188",
         "USD 999",
         "AED 3,899",
         2018
        ],
        [
         "Apple",
         "iPhone XS 256GB",
         "177g",
         "4GB",
         "7MP",
         "12MP + 12MP",
         "A12 Bionic",
         "2,658mAh",
         "5.8 inches",
         "PKR 239,999",
         "INR 109,900",
         "CNY 9,788",
         "USD 1,099",
         "AED 4,299",
         2018
        ],
        [
         "Apple",
         "iPhone XS 512GB",
         "177g",
         "4GB",
         "7MP",
         "12MP + 12MP",
         "A12 Bionic",
         "2,658mAh",
         "5.8 inches",
         "PKR 259,999",
         "INR 119,900",
         "CNY 10,388",
         "USD 1,299",
         "AED 4,799",
         2018
        ],
        [
         "Apple",
         "iPhone XS Max 64GB",
         "208g",
         "4GB",
         "7MP",
         "12MP + 12MP",
         "A12 Bionic",
         "3,174mAh",
         "6.5 inches",
         "PKR 249,999",
         "INR 109,900",
         "CNY 10,088",
         "USD 1,099",
         "AED 4,399",
         2018
        ],
        [
         "Apple",
         "iPhone XS Max 256GB",
         "208g",
         "4GB",
         "7MP",
         "12MP + 12MP",
         "A12 Bionic",
         "3,174mAh",
         "6.5 inches",
         "PKR 269,999",
         "INR 119,900",
         "CNY 10,688",
         "USD 1,249",
         "AED 4,799",
         2018
        ],
        [
         "Apple",
         "iPhone XS Max 512GB",
         "208g",
         "4GB",
         "7MP",
         "12MP + 12MP",
         "A12 Bionic",
         "3,174mAh",
         "6.5 inches",
         "PKR 289,999",
         "INR 129,900",
         "CNY 11,288",
         "USD 1,399",
         "AED 5,099",
         2018
        ],
        [
         "Apple",
         "iPhone XR 64GB",
         "194g",
         "3GB",
         "7MP",
         "12MP + 12MP",
         "A12 Bionic",
         "2,942mAh",
         "6.1 inches",
         "PKR 149,999",
         "INR 64,900",
         "CNY 6,299",
         "USD 749",
         "AED 2,699",
         2018
        ],
        [
         "Apple",
         "iPhone XR 128GB",
         "194g",
         "3GB",
         "7MP",
         "12MP + 12MP",
         "A12 Bionic",
         "2,942mAh",
         "6.1 inches",
         "PKR 159,999",
         "INR 74,900",
         "CNY 6,799",
         "USD 799",
         "AED 3,099",
         2018
        ],
        [
         "Apple",
         "iPhone XR 256GB",
         "194g",
         "3GB",
         "7MP",
         "12MP + 12MP",
         "A12 Bionic",
         "2,942mAh",
         "6.1 inches",
         "PKR 179,999",
         "INR 84,900",
         "CNY 7,299",
         "USD 899",
         "AED 3,399",
         2018
        ],
        [
         "Apple",
         "iPad Air 10.9-inch 64GB",
         "458g",
         "4GB",
         "12MP",
         "12MP",
         "A14 Bionic",
         "7,608mAh",
         "10.9 inches",
         "PKR 79,999",
         "INR 54,900",
         "CNY 3,299",
         "USD 599",
         "AED 2,099",
         2020
        ],
        [
         "Apple",
         "iPad Air 10.9-inch 256GB",
         "458g",
         "4GB",
         "12MP",
         "12MP",
         "A14 Bionic",
         "7,608mAh",
         "10.9 inches",
         "PKR 89,999",
         "INR 64,900",
         "CNY 3,699",
         "USD 749",
         "AED 2,499",
         2020
        ],
        [
         "Apple",
         "iPad 10.2-inch 32GB",
         "490g",
         "3GB",
         "12MP",
         "8MP",
         "A13 Bionic",
         "8,612mAh",
         "10.2 inches",
         "PKR 49,999",
         "INR 29,900",
         "CNY 2,299",
         "USD 329",
         "AED 1,199",
         2020
        ],
        [
         "Apple",
         "iPad 10.2-inch 128GB",
         "490g",
         "3GB",
         "12MP",
         "8MP",
         "A13 Bionic",
         "8,612mAh",
         "10.2 inches",
         "PKR 59,999",
         "INR 39,900",
         "CNY 2,699",
         "USD 429",
         "AED 1,499",
         2020
        ],
        [
         "Apple",
         "iPad Mini 7.9-inch 64GB",
         "300.5g",
         "3GB",
         "7MP",
         "8MP",
         "A12 Bionic",
         "5,124mAh",
         "7.9 inches",
         "PKR 69,999",
         "INR 39,900",
         "CNY 3,499",
         "USD 399",
         "AED 1,499",
         2019
        ],
        [
         "Apple",
         "iPad Mini 7.9-inch 256GB",
         "300.5g",
         "3GB",
         "7MP",
         "8MP",
         "A12 Bionic",
         "5,124mAh",
         "7.9 inches",
         "PKR 79,999",
         "INR 49,900",
         "CNY 3,799",
         "USD 499",
         "AED 1,799",
         2019
        ],
        [
         "Apple",
         "iPad Pro 11-inch 128GB",
         "468g",
         "4GB",
         "7MP",
         "12MP + 10MP",
         "A12Z Bionic",
         "7,812mAh",
         "11 inches",
         "PKR 149,999",
         "INR 71,900",
         "CNY 6,399",
         "USD 799",
         "AED 2,799",
         2020
        ],
        [
         "Apple",
         "iPad Pro 11-inch 256GB",
         "468g",
         "4GB",
         "7MP",
         "12MP + 10MP",
         "A12Z Bionic",
         "7,812mAh",
         "11 inches",
         "PKR 169,999",
         "INR 89,900",
         "CNY 7,199",
         "USD 899",
         "AED 3,199",
         2020
        ],
        [
         "Apple",
         "iPad Pro 11-inch 512GB",
         "468g",
         "6GB",
         "7MP",
         "12MP + 10MP",
         "A12Z Bionic",
         "7,812mAh",
         "11 inches",
         "PKR 189,999",
         "INR 109,900",
         "CNY 7,999",
         "USD 1,099",
         "AED 3,699",
         2020
        ],
        [
         "Apple",
         "iPad Pro 12.9-inch 128GB",
         "682g",
         "6GB",
         "7MP",
         "12MP + 10MP",
         "A12Z Bionic",
         "9,720mAh",
         "12.9 inches",
         "PKR 219,999",
         "INR 94,900",
         "CNY 7,999",
         "USD 999",
         "AED 3,799",
         2020
        ],
        [
         "Apple",
         "iPad Pro 12.9-inch 256GB",
         "682g",
         "6GB",
         "7MP",
         "12MP + 10MP",
         "A12Z Bionic",
         "9,720mAh",
         "12.9 inches",
         "PKR 239,999",
         "INR 109,900",
         "CNY 8,699",
         "USD 1,099",
         "AED 4,199",
         2020
        ],
        [
         "Apple",
         "iPad Pro 12.9-inch 512GB",
         "682g",
         "6GB",
         "7MP",
         "12MP + 10MP",
         "A12Z Bionic",
         "9,720mAh",
         "12.9 inches",
         "PKR 259,999",
         "INR 119,900",
         "CNY 9,199",
         "USD 1,299",
         "AED 4,599",
         2020
        ],
        [
         "Apple",
         "iPad Pro 13-inch 128GB",
         "708g",
         "6GB",
         "7MP",
         "12MP + 10MP",
         "A12Z Bionic",
         "10,307mAh",
         "13 inches",
         "PKR 259,999",
         "INR 119,900",
         "CNY 8,699",
         "USD 1,099",
         "AED 4,499",
         2020
        ],
        [
         "Apple",
         "iPad Pro 13-inch 256GB",
         "708g",
         "6GB",
         "7MP",
         "12MP + 10MP",
         "A12Z Bionic",
         "10,307mAh",
         "13 inches",
         "PKR 279,999",
         "INR 139,900",
         "CNY 9,199",
         "USD 1,199",
         "AED 4,799",
         2020
        ],
        [
         "Apple",
         "iPad Pro 13-inch 512GB",
         "708g",
         "6GB",
         "7MP",
         "12MP + 10MP",
         "A12Z Bionic",
         "10,307mAh",
         "13 inches",
         "PKR 309,999",
         "INR 159,900",
         "CNY 9,799",
         "USD 1,399",
         "AED 5,299",
         2020
        ],
        [
         "Apple",
         "iPad Pro 13-inch 1TB",
         "708g",
         "6GB",
         "7MP",
         "12MP + 10MP",
         "A12Z Bionic",
         "10,307mAh",
         "13 inches",
         "PKR 359,999",
         "INR 179,900",
         "CNY 10,399",
         "USD 1,599",
         "AED 5,799",
         2020
        ],
        [
         "Apple",
         "iPad Pro 13-inch 2TB",
         "708g",
         "6GB",
         "7MP",
         "12MP + 10MP",
         "A12Z Bionic",
         "10,307mAh",
         "13 inches",
         "PKR 399,999",
         "INR 199,900",
         "CNY 11,199",
         "USD 1,799",
         "AED 6,099",
         2020
        ],
        [
         "Samsung",
         "Galaxy S24 Ultra 128GB",
         "234g",
         "12GB",
         "12MP",
         "200MP + 12MP",
         "Exynos 2400",
         "5000mAh",
         "6.8 inches",
         "PKR 450,000",
         "INR 104,900",
         "CNY 7,499",
         "USD 1,199",
         "AED 4,899",
         2024
        ],
        [
         "Samsung",
         "Galaxy S24 Ultra 256GB",
         "234g",
         "12GB",
         "12MP",
         "200MP + 12MP",
         "Exynos 2400",
         "5000mAh",
         "6.8 inches",
         "PKR 480,000",
         "INR 114,900",
         "CNY 7,999",
         "USD 1,299",
         "AED 5,099",
         2024
        ],
        [
         "Samsung",
         "Galaxy S24+ 128GB",
         "196g",
         "8GB",
         "12MP",
         "50MP + 12MP",
         "Exynos 2400",
         "4800mAh",
         "6.6 inches",
         "PKR 400,000",
         "INR 89,900",
         "CNY 6,199",
         "USD 899",
         "AED 3,599",
         2024
        ],
        [
         "Samsung",
         "Galaxy S24+ 256GB",
         "196g",
         "8GB",
         "12MP",
         "50MP + 12MP",
         "Exynos 2400",
         "4800mAh",
         "6.6 inches",
         "PKR 430,000",
         "INR 99,900",
         "CNY 6,999",
         "USD 999",
         "AED 3,799",
         2024
        ],
        [
         "Samsung",
         "Galaxy S24 128GB",
         "168g",
         "8GB",
         "12MP",
         "50MP + 12MP",
         "Exynos 2400",
         "4000mAh",
         "6.1 inches",
         "PKR 350,000",
         "INR 79,900",
         "CNY 5,799",
         "USD 799",
         "AED 3,299",
         2024
        ],
        [
         "Samsung",
         "Galaxy S24 256GB",
         "168g",
         "8GB",
         "12MP",
         "50MP + 12MP",
         "Exynos 2400",
         "4000mAh",
         "6.1 inches",
         "PKR 380,000",
         "INR 89,900",
         "CNY 6,199",
         "USD 899",
         "AED 3,499",
         2024
        ],
        [
         "Samsung",
         "Galaxy S23 Ultra 128GB",
         "228g",
         "12GB",
         "12MP",
         "200MP + 12MP",
         "Snapdragon 8 Gen 2",
         "5000mAh",
         "6.8 inches",
         "PKR 430,000",
         "INR 99,900",
         "CNY 7,299",
         "USD 1,199",
         "AED 4,599",
         2023
        ],
        [
         "Samsung",
         "Galaxy S23 Ultra 256GB",
         "228g",
         "12GB",
         "12MP",
         "200MP + 12MP",
         "Snapdragon 8 Gen 2",
         "5000mAh",
         "6.8 inches",
         "PKR 460,000",
         "INR 109,900",
         "CNY 7,999",
         "USD 1,299",
         "AED 4,899",
         2023
        ],
        [
         "Samsung",
         "Galaxy S23+ 128GB",
         "196g",
         "8GB",
         "12MP",
         "50MP + 12MP",
         "Snapdragon 8 Gen 2",
         "4700mAh",
         "6.6 inches",
         "PKR 360,000",
         "INR 79,900",
         "CNY 6,199",
         "USD 899",
         "AED 3,399",
         2023
        ],
        [
         "Samsung",
         "Galaxy S23+ 256GB",
         "196g",
         "8GB",
         "12MP",
         "50MP + 12MP",
         "Snapdragon 8 Gen 2",
         "4700mAh",
         "6.6 inches",
         "PKR 390,000",
         "INR 89,900",
         "CNY 6,799",
         "USD 999",
         "AED 3,599",
         2023
        ],
        [
         "Samsung",
         "Galaxy S23 128GB",
         "168g",
         "8GB",
         "12MP",
         "50MP + 12MP",
         "Snapdragon 8 Gen 2",
         "3900mAh",
         "6.1 inches",
         "PKR 320,000",
         "INR 69,900",
         "CNY 5,499",
         "USD 799",
         "AED 3,099",
         2023
        ],
        [
         "Samsung",
         "Galaxy S23 256GB",
         "168g",
         "8GB",
         "12MP",
         "50MP + 12MP",
         "Snapdragon 8 Gen 2",
         "3900mAh",
         "6.1 inches",
         "PKR 350,000",
         "INR 79,900",
         "CNY 5,999",
         "USD 899",
         "AED 3,299",
         2023
        ],
        [
         "Samsung",
         "Galaxy S22 Ultra 128GB",
         "228g",
         "12GB",
         "10MP",
         "108MP + 12MP",
         "Exynos 2200",
         "5000mAh",
         "6.8 inches",
         "PKR 420,000",
         "INR 94,900",
         "CNY 6,599",
         "USD 1,099",
         "AED 4,499",
         2022
        ],
        [
         "Samsung",
         "Galaxy S22 Ultra 256GB",
         "228g",
         "12GB",
         "10MP",
         "108MP + 12MP",
         "Exynos 2200",
         "5000mAh",
         "6.8 inches",
         "PKR 450,000",
         "INR 104,900",
         "CNY 7,199",
         "USD 1,199",
         "AED 4,799",
         2022
        ],
        [
         "Samsung",
         "Galaxy S22+ 128GB",
         "195g",
         "8GB",
         "10MP",
         "50MP + 12MP",
         "Exynos 2200",
         "4500mAh",
         "6.6 inches",
         "PKR 350,000",
         "INR 79,900",
         "CNY 5,999",
         "USD 799",
         "AED 3,299",
         2022
        ],
        [
         "Samsung",
         "Galaxy S22+ 256GB",
         "195g",
         "8GB",
         "10MP",
         "50MP + 12MP",
         "Exynos 2200",
         "4500mAh",
         "6.6 inches",
         "PKR 380,000",
         "INR 89,900",
         "CNY 6,499",
         "USD 899",
         "AED 3,599",
         2022
        ],
        [
         "Samsung",
         "Galaxy S22 128GB",
         "167g",
         "8GB",
         "10MP",
         "50MP + 12MP",
         "Exynos 2200",
         "3800mAh",
         "6.1 inches",
         "PKR 300,000",
         "INR 69,900",
         "CNY 5,499",
         "USD 699",
         "AED 2,999",
         2022
        ],
        [
         "Samsung",
         "Galaxy S22 256GB",
         "167g",
         "8GB",
         "10MP",
         "50MP + 12MP",
         "Exynos 2200",
         "3800mAh",
         "6.1 inches",
         "PKR 330,000",
         "INR 79,900",
         "CNY 5,999",
         "USD 799",
         "AED 3,199",
         2022
        ],
        [
         "Samsung",
         "Galaxy Z Fold 5 256GB",
         "254g",
         "12GB",
         "10MP",
         "50MP + 12MP",
         "Snapdragon 8 Gen 2",
         "4400mAh",
         "7.6 inches",
         "PKR 500,000",
         "INR 154,900",
         "CNY 11,999",
         "USD 1,799",
         "AED 6,999",
         2023
        ],
        [
         "Samsung",
         "Galaxy Z Fold 5 512GB",
         "254g",
         "12GB",
         "10MP",
         "50MP + 12MP",
         "Snapdragon 8 Gen 2",
         "4400mAh",
         "7.6 inches",
         "PKR 550,000",
         "INR 174,900",
         "CNY 12,999",
         "USD 1,899",
         "AED 7,499",
         2023
        ],
        [
         "Samsung",
         "Galaxy Z Flip 5 256GB",
         "187g",
         "8GB",
         "12MP",
         "12MP + 12MP",
         "Snapdragon 8 Gen 2",
         "3700mAh",
         "6.7 inches",
         "PKR 350,000",
         "INR 94,900",
         "CNY 7,999",
         "USD 999",
         "AED 4,099",
         2023
        ],
        [
         "Samsung",
         "Galaxy Z Flip 5 512GB",
         "187g",
         "8GB",
         "12MP",
         "12MP + 12MP",
         "Snapdragon 8 Gen 2",
         "3700mAh",
         "6.7 inches",
         "PKR 380,000",
         "INR 104,900",
         "CNY 8,999",
         "USD 1,099",
         "AED 4,399",
         2023
        ],
        [
         "Samsung",
         "Galaxy Z Fold 4 256GB",
         "263g",
         "12GB",
         "10MP",
         "50MP + 12MP",
         "Snapdragon 8 Gen 1",
         "4400mAh",
         "7.6 inches",
         "PKR 480,000",
         "INR 134,900",
         "CNY 10,999",
         "USD 1,799",
         "AED 6,499",
         2022
        ],
        [
         "Samsung",
         "Galaxy Z Fold 4 512GB",
         "263g",
         "12GB",
         "10MP",
         "50MP + 12MP",
         "Snapdragon 8 Gen 1",
         "4400mAh",
         "7.6 inches",
         "PKR 530,000",
         "INR 154,900",
         "CNY 11,999",
         "USD 1,899",
         "AED 7,099",
         2022
        ],
        [
         "Samsung",
         "Galaxy Z Flip 4 256GB",
         "187g",
         "8GB",
         "10MP",
         "12MP + 12MP",
         "Snapdragon 8 Gen 1",
         "3700mAh",
         "6.7 inches",
         "PKR 320,000",
         "INR 84,900",
         "CNY 6,999",
         "USD 999",
         "AED 3,799",
         2022
        ],
        [
         "Samsung",
         "Galaxy Z Flip 4 512GB",
         "187g",
         "8GB",
         "10MP",
         "12MP + 12MP",
         "Snapdragon 8 Gen 1",
         "3700mAh",
         "6.7 inches",
         "PKR 350,000",
         "INR 94,900",
         "CNY 7,999",
         "USD 1,099",
         "AED 4,099",
         2022
        ],
        [
         "Samsung",
         "Galaxy A54 128GB",
         "189g",
         "6GB",
         "32MP",
         "50MP + 12MP",
         "Exynos 1380",
         "5000mAh",
         "6.4 inches",
         "PKR 85,000",
         "INR 27,999",
         "CNY 2,199",
         "USD 399",
         "AED 1,399",
         2023
        ],
        [
         "Samsung",
         "Galaxy A54 256GB",
         "189g",
         "6GB",
         "32MP",
         "50MP + 12MP",
         "Exynos 1380",
         "5000mAh",
         "6.4 inches",
         "PKR 95,000",
         "INR 32,999",
         "CNY 2,499",
         "USD 449",
         "AED 1,499",
         2023
        ],
        [
         "Samsung",
         "Galaxy A34 128GB",
         "199g",
         "6GB",
         "13MP",
         "48MP + 8MP",
         "MediaTek Dimensity 1080",
         "5000mAh",
         "6.6 inches",
         "PKR 75,000",
         "INR 22,999",
         "CNY 1,799",
         "USD 349",
         "AED 1,299",
         2023
        ],
        [
         "Samsung",
         "Galaxy A34 256GB",
         "199g",
         "6GB",
         "13MP",
         "48MP + 8MP",
         "MediaTek Dimensity 1080",
         "5000mAh",
         "6.6 inches",
         "PKR 85,000",
         "INR 27,999",
         "CNY 1,999",
         "USD 399",
         "AED 1,399",
         2023
        ],
        [
         "Samsung",
         "Galaxy A24 128GB",
         "195g",
         "6GB",
         "13MP",
         "50MP + 5MP",
         "MediaTek Helio G99",
         "5000mAh",
         "6.5 inches",
         "PKR 70,000",
         "INR 19,999",
         "CNY 1,599",
         "USD 299",
         "AED 1,199",
         2023
        ],
        [
         "Samsung",
         "Galaxy A24 256GB",
         "195g",
         "6GB",
         "13MP",
         "50MP + 5MP",
         "MediaTek Helio G99",
         "5000mAh",
         "6.5 inches",
         "PKR 80,000",
         "INR 24,999",
         "CNY 1,799",
         "USD 349",
         "AED 1,299",
         2023
        ],
        [
         "Samsung",
         "Galaxy A14 128GB",
         "190g",
         "4GB",
         "13MP",
         "50MP + 2MP",
         "Exynos 850",
         "5000mAh",
         "6.6 inches",
         "PKR 60,000",
         "INR 18,499",
         "CNY 1,499",
         "USD 249",
         "AED 1,099",
         2023
        ],
        [
         "Samsung",
         "Galaxy A14 256GB",
         "190g",
         "4GB",
         "13MP",
         "50MP + 2MP",
         "Exynos 850",
         "5000mAh",
         "6.6 inches",
         "PKR 70,000",
         "INR 21,999",
         "CNY 1,699",
         "USD 299",
         "AED 1,199",
         2023
        ],
        [
         "Samsung",
         "Galaxy A04 64GB",
         "188g",
         "4GB",
         "5MP",
         "50MP + 2MP",
         "Exynos 850",
         "5000mAh",
         "6.5 inches",
         "PKR 50,000",
         "INR 14,999",
         "CNY 1,199",
         "USD 199",
         "AED 899",
         2022
        ],
        [
         "Samsung",
         "Galaxy A04 128GB",
         "188g",
         "4GB",
         "5MP",
         "50MP + 2MP",
         "Exynos 850",
         "5000mAh",
         "6.5 inches",
         "PKR 60,000",
         "INR 18,499",
         "CNY 1,399",
         "USD 249",
         "AED 999",
         2022
        ],
        [
         "Samsung",
         "Galaxy M54 128GB",
         "202g",
         "8GB",
         "32MP",
         "108MP + 8MP",
         "Exynos 1380",
         "6000mAh",
         "6.7 inches",
         "PKR 95,000",
         "INR 23,999",
         "CNY 2,099",
         "USD 349",
         "AED 1,299",
         2023
        ],
        [
         "Samsung",
         "Galaxy M54 256GB",
         "202g",
         "8GB",
         "32MP",
         "108MP + 8MP",
         "Exynos 1380",
         "6000mAh",
         "6.7 inches",
         "PKR 105,000",
         "INR 26,999",
         "CNY 2,299",
         "USD 399",
         "AED 1,399",
         2023
        ],
        [
         "Samsung",
         "Galaxy M34 128GB",
         "199g",
         "6GB",
         "13MP",
         "50MP + 8MP",
         "Exynos 1280",
         "6000mAh",
         "6.5 inches",
         "PKR 70,000",
         "INR 17,999",
         "CNY 1,699",
         "USD 299",
         "AED 1,099",
         2023
        ],
        [
         "Samsung",
         "Galaxy M34 256GB",
         "199g",
         "6GB",
         "13MP",
         "50MP + 8MP",
         "Exynos 1280",
         "6000mAh",
         "6.5 inches",
         "PKR 80,000",
         "INR 20,999",
         "CNY 1,999",
         "USD 349",
         "AED 1,199",
         2023
        ],
        [
         "Samsung",
         "Galaxy M14 128GB",
         "202g",
         "4GB",
         "13MP",
         "50MP + 2MP",
         "Exynos 850",
         "6000mAh",
         "6.6 inches",
         "PKR 60,000",
         "INR 14,999",
         "CNY 1,399",
         "USD 249",
         "AED 999",
         2023
        ],
        [
         "Samsung",
         "Galaxy M14 256GB",
         "202g",
         "4GB",
         "13MP",
         "50MP + 2MP",
         "Exynos 850",
         "6000mAh",
         "6.6 inches",
         "PKR 70,000",
         "INR 17,999",
         "CNY 1,599",
         "USD 299",
         "AED 1,099",
         2023
        ],
        [
         "Samsung",
         "Galaxy M04 64GB",
         "188g",
         "4GB",
         "5MP",
         "13MP + 2MP",
         "MediaTek Helio P35",
         "5000mAh",
         "6.5 inches",
         "PKR 50,000",
         "INR 12,999",
         "CNY 1,099",
         "USD 199",
         "AED 899",
         2022
        ],
        [
         "Samsung",
         "Galaxy M04 128GB",
         "188g",
         "4GB",
         "5MP",
         "13MP + 2MP",
         "MediaTek Helio P35",
         "5000mAh",
         "6.5 inches",
         "PKR 60,000",
         "INR 15,999",
         "CNY 1,299",
         "USD 249",
         "AED 999",
         2022
        ],
        [
         "Samsung",
         "Galaxy F54 128GB",
         "199g",
         "8GB",
         "32MP",
         "108MP + 8MP",
         "Exynos 1380",
         "6000mAh",
         "6.7 inches",
         "PKR 85,000",
         "INR 23,999",
         "CNY 2,199",
         "USD 349",
         "AED 1,299",
         2023
        ],
        [
         "Samsung",
         "Galaxy F54 256GB",
         "199g",
         "8GB",
         "32MP",
         "108MP + 8MP",
         "Exynos 1380",
         "6000mAh",
         "6.7 inches",
         "PKR 95,000",
         "INR 26,999",
         "CNY 2,399",
         "USD 399",
         "AED 1,399",
         2023
        ],
        [
         "Samsung",
         "Galaxy F34 128GB",
         "190g",
         "6GB",
         "13MP",
         "50MP + 8MP",
         "Exynos 1280",
         "6000mAh",
         "6.5 inches",
         "PKR 70,000",
         "INR 18,999",
         "CNY 1,799",
         "USD 299",
         "AED 1,099",
         2023
        ],
        [
         "Samsung",
         "Galaxy F34 256GB",
         "190g",
         "6GB",
         "13MP",
         "50MP + 8MP",
         "Exynos 1280",
         "6000mAh",
         "6.5 inches",
         "PKR 80,000",
         "INR 21,999",
         "CNY 1,999",
         "USD 349",
         "AED 1,199",
         2023
        ],
        [
         "Samsung",
         "Galaxy F14 128GB",
         "198g",
         "4GB",
         "13MP",
         "50MP + 2MP",
         "Exynos 850",
         "6000mAh",
         "6.6 inches",
         "PKR 60,000",
         "INR 14,999",
         "CNY 1,399",
         "USD 249",
         "AED 999",
         2023
        ],
        [
         "Samsung",
         "Galaxy F14 256GB",
         "198g",
         "4GB",
         "13MP",
         "50MP + 2MP",
         "Exynos 850",
         "6000mAh",
         "6.6 inches",
         "PKR 70,000",
         "INR 17,999",
         "CNY 1,599",
         "USD 299",
         "AED 1,099",
         2023
        ],
        [
         "Samsung",
         "Galaxy Note 20 Ultra 128GB",
         "208g",
         "12GB",
         "10MP",
         "108MP + 12MP",
         "Exynos 990",
         "4500mAh",
         "6.9 inches",
         "PKR 180,000",
         "INR 99,999",
         "CNY 7,999",
         "USD 1,299",
         "AED 4,499",
         2020
        ],
        [
         "Samsung",
         "Galaxy Note 20 Ultra 256GB",
         "208g",
         "12GB",
         "10MP",
         "108MP + 12MP",
         "Exynos 990",
         "4500mAh",
         "6.9 inches",
         "PKR 200,000",
         "INR 1,04,999",
         "CNY 8,499",
         "USD 1,399",
         "AED 4,999",
         2020
        ],
        [
         "Samsung",
         "Galaxy Note 20 128GB",
         "192g",
         "8GB",
         "10MP",
         "108MP + 12MP",
         "Exynos 990",
         "4300mAh",
         "6.7 inches",
         "PKR 150,000",
         "INR 77,999",
         "CNY 6,499",
         "USD 999",
         "AED 3,999",
         2020
        ],
        [
         "Samsung",
         "Galaxy Note 20 256GB",
         "192g",
         "8GB",
         "10MP",
         "108MP + 12MP",
         "Exynos 990",
         "4300mAh",
         "6.7 inches",
         "PKR 170,000",
         "INR 89,999",
         "CNY 7,099",
         "USD 1,099",
         "AED 4,199",
         2020
        ],
        [
         "Samsung",
         "Galaxy Note 10+ 256GB",
         "196g",
         "12GB",
         "10MP",
         "12MP + 16MP",
         "Exynos 9825",
         "4300mAh",
         "6.8 inches",
         "PKR 160,000",
         "INR 74,999",
         "CNY 6,299",
         "USD 1,099",
         "AED 3,899",
         2019
        ],
        [
         "Samsung",
         "Galaxy Note 10+ 512GB",
         "196g",
         "12GB",
         "10MP",
         "12MP + 16MP",
         "Exynos 9825",
         "4300mAh",
         "6.8 inches",
         "PKR 180,000",
         "INR 84,999",
         "CNY 6,999",
         "USD 1,199",
         "AED 4,199",
         2019
        ],
        [
         "Samsung",
         "Galaxy Note 10 256GB",
         "168g",
         "8GB",
         "10MP",
         "12MP + 16MP",
         "Exynos 9825",
         "3500mAh",
         "6.3 inches",
         "PKR 140,000",
         "INR 64,999",
         "CNY 5,699",
         "USD 949",
         "AED 3,699",
         2019
        ],
        [
         "Samsung",
         "Galaxy Note 10 128GB",
         "168g",
         "8GB",
         "10MP",
         "12MP + 16MP",
         "Exynos 9825",
         "3500mAh",
         "6.3 inches",
         "PKR 120,000",
         "INR 59,999",
         "CNY 5,199",
         "USD 899",
         "AED 3,399",
         2019
        ],
        [
         "Samsung",
         "Galaxy Xcover 6 Pro 128GB",
         "235g",
         "6GB",
         "13MP",
         "50MP",
         "Exynos 1380",
         "4050mAh",
         "6.6 inches",
         "PKR 75,000",
         "INR 28,999",
         "CNY 2,299",
         "USD 499",
         "AED 1,699",
         2022
        ],
        [
         "Samsung",
         "Galaxy Xcover 5 64GB",
         "172g",
         "4GB",
         "5MP",
         "16MP",
         "Exynos 850",
         "3000mAh",
         "5.3 inches",
         "PKR 50,000",
         "INR 17,499",
         "CNY 1,299",
         "USD 249",
         "AED 899",
         2020
        ],
        [
         "Samsung",
         "Galaxy J8 64GB",
         "191g",
         "4GB",
         "16MP",
         "16MP + 5MP",
         "Snapdragon 450",
         "3500mAh",
         "6.0 inches",
         "PKR 45,000",
         "INR 18,990",
         "CNY 1,699",
         "USD 199",
         "AED 799",
         2018
        ],
        [
         "Samsung",
         "Galaxy J7 Pro 64GB",
         "181g",
         "3GB",
         "13MP",
         "13MP",
         "Exynos 7870",
         "3600mAh",
         "5.5 inches",
         "PKR 40,000",
         "INR 18,990",
         "CNY 1,599",
         "USD 179",
         "AED 699",
         2017
        ],
        [
         "Samsung",
         "Galaxy J6+ 64GB",
         "178g",
         "4GB",
         "8MP",
         "13MP + 5MP",
         "Snapdragon 425",
         "3300mAh",
         "6.0 inches",
         "PKR 40,000",
         "INR 15,999",
         "CNY 1,499",
         "USD 169",
         "AED 699",
         2018
        ],
        [
         "Samsung",
         "Galaxy J4 16GB",
         "175g",
         "2GB",
         "5MP",
         "13MP",
         "Exynos 7570",
         "3000mAh",
         "5.5 inches",
         "PKR 25,000",
         "INR 9,990",
         "CNY 999",
         "USD 129",
         "AED 499",
         2018
        ],
        [
         "Samsung",
         "Galaxy C9 Pro 64GB",
         "189g",
         "6GB",
         "16MP",
         "16MP + 8MP",
         "Snapdragon 653",
         "4000mAh",
         "6.0 inches",
         "PKR 65,000",
         "INR 32,990",
         "CNY 3,099",
         "USD 399",
         "AED 1,299",
         2016
        ],
        [
         "Samsung",
         "Galaxy C7 Pro 64GB",
         "165g",
         "4GB",
         "16MP",
         "16MP",
         "Snapdragon 625",
         "3300mAh",
         "5.7 inches",
         "PKR 50,000",
         "INR 22,990",
         "CNY 2,499",
         "USD 299",
         "AED 999",
         2017
        ],
        [
         "Samsung",
         "Galaxy C5 32GB",
         "143g",
         "4GB",
         "8MP",
         "16MP",
         "Snapdragon 617",
         "2600mAh",
         "5.2 inches",
         "PKR 40,000",
         "INR 19,990",
         "CNY 1,899",
         "USD 249",
         "AED 799",
         2016
        ],
        [
         "Samsung",
         "Galaxy W22 5G 256GB",
         "228g",
         "12GB",
         "10MP",
         "108MP + 12MP",
         "Snapdragon 888",
         "4500mAh",
         "7.6 inches",
         "PKR 280,000",
         "INR 99,999",
         "CNY 10,999",
         "USD 1,499",
         "AED 5,499",
         2021
        ],
        [
         "Samsung",
         "Galaxy W21 5G 256GB",
         "229g",
         "12GB",
         "10MP",
         "108MP + 12MP",
         "Snapdragon 888",
         "4500mAh",
         "7.6 inches",
         "PKR 260,000",
         "INR 89,999",
         "CNY 9,999",
         "USD 1,399",
         "AED 4,999",
         2020
        ],
        [
         "Samsung",
         "Galaxy Tab S9 Ultra 256GB",
         "732g",
         "12GB",
         "12MP + 12MP",
         "13MP + 8MP",
         "Snapdragon 8 Gen 2",
         "11200mAh",
         "14.6 inches",
         "PKR 350,000",
         "INR 1,14,999",
         "CNY 9,999",
         "USD 1,199",
         "AED 4,499",
         2023
        ],
        [
         "Samsung",
         "Galaxy Tab S9+ 256GB",
         "586g",
         "12GB",
         "12MP",
         "13MP + 8MP",
         "Snapdragon 8 Gen 2",
         "10090mAh",
         "12.4 inches",
         "PKR 280,000",
         "INR 99,999",
         "CNY 8,799",
         "USD 999",
         "AED 3,999",
         2023
        ],
        [
         "Samsung",
         "Galaxy Tab S9 128GB",
         "498g",
         "8GB",
         "12MP",
         "13MP",
         "Snapdragon 8 Gen 2",
         "8400mAh",
         "11 inches",
         "PKR 230,000",
         "INR 85,999",
         "CNY 7,299",
         "USD 799",
         "AED 3,299",
         2023
        ],
        [
         "Samsung",
         "Galaxy Tab S9 FE 128GB",
         "523g",
         "6GB",
         "12MP",
         "8MP",
         "Exynos 1380",
         "8000mAh",
         "10.9 inches",
         "PKR 150,000",
         "INR 49,999",
         "CNY 5,499",
         "USD 549",
         "AED 1,999",
         2023
        ],
        [
         "Samsung",
         "Galaxy Tab S8 Ultra 256GB",
         "726g",
         "12GB",
         "12MP + 12MP",
         "13MP + 6MP",
         "Snapdragon 8 Gen 1",
         "11200mAh",
         "14.6 inches",
         "PKR 320,000",
         "INR 1,09,999",
         "CNY 9,499",
         "USD 1,099",
         "AED 4,299",
         2022
        ],
        [
         "Samsung",
         "Galaxy Tab S8+ 256GB",
         "567g",
         "8GB",
         "12MP",
         "13MP + 6MP",
         "Snapdragon 8 Gen 1",
         "10090mAh",
         "12.4 inches",
         "PKR 250,000",
         "INR 94,999",
         "CNY 8,299",
         "USD 899",
         "AED 3,699",
         2022
        ],
        [
         "Samsung",
         "Galaxy Tab S8 128GB",
         "503g",
         "8GB",
         "12MP",
         "13MP + 6MP",
         "Snapdragon 8 Gen 1",
         "8000mAh",
         "11 inches",
         "PKR 200,000",
         "INR 74,999",
         "CNY 6,999",
         "USD 699",
         "AED 2,999",
         2022
        ],
        [
         "Samsung",
         "Galaxy Tab A9+ 128GB",
         "480g",
         "8GB",
         "5MP",
         "8MP",
         "Snapdragon 695",
         "7040mAh",
         "11 inches",
         "PKR 100,000",
         "INR 22,999",
         "CNY 1,799",
         "USD 229",
         "AED 899",
         2023
        ],
        [
         "Samsung",
         "Galaxy Tab A9 64GB",
         "366g",
         "4GB",
         "2MP",
         "8MP",
         "MediaTek Helio G99",
         "5100mAh",
         "8.7 inches",
         "PKR 75,000",
         "INR 16,999",
         "CNY 1,299",
         "USD 179",
         "AED 699",
         2023
        ],
        [
         "Samsung",
         "Galaxy Tab A8 64GB",
         "508g",
         "4GB",
         "5MP",
         "8MP",
         "Unisoc T618",
         "7040mAh",
         "10.5 inches",
         "PKR 68,000",
         "INR 17,999",
         "CNY 1,499",
         "USD 199",
         "AED 799",
         2022
        ],
        [
         "Samsung",
         "Galaxy Tab A7 Lite 32GB",
         "366g",
         "3GB",
         "2MP",
         "8MP",
         "MediaTek Helio P22T",
         "5100mAh",
         "8.7 inches",
         "PKR 40,000",
         "INR 11,999",
         "CNY 999",
         "USD 149",
         "AED 599",
         2021
        ],
        [
         "Samsung",
         "Galaxy Tab Active 5 128GB",
         "433g",
         "6GB",
         "5MP",
         "13MP",
         "Exynos 1380",
         "5050mAh",
         "8 inches",
         "PKR 150,000",
         "INR 54,999",
         "CNY 3,699",
         "USD 549",
         "AED 2,199",
         2024
        ],
        [
         "Samsung",
         "Galaxy Tab Active 4 Pro 128GB",
         "674g",
         "6GB",
         "8MP",
         "13MP",
         "Snapdragon 778G",
         "7600mAh",
         "10.1 inches",
         "PKR 180,000",
         "INR 64,999",
         "CNY 4,299",
         "USD 649",
         "AED 2,599",
         2022
        ],
        [
         "Samsung",
         "Galaxy Tab Active 3 64GB",
         "426g",
         "4GB",
         "5MP",
         "13MP",
         "Exynos 9810",
         "5050mAh",
         "8 inches",
         "PKR 120,000",
         "INR 44,999",
         "CNY 2,999",
         "USD 499",
         "AED 1,899",
         2020
        ],
        [
         "Samsung",
         "Galaxy Tab E 10.1 16GB",
         "490g",
         "1.5GB",
         "2MP",
         "5MP",
         "Spreadtrum SC8830",
         "5000mAh",
         "10.1 inches",
         "PKR 35,000",
         "INR 9,999",
         "CNY 899",
         "USD 129",
         "AED 499",
         2016
        ],
        [
         "Samsung",
         "Galaxy Tab E 8.0 16GB",
         "360g",
         "1.5GB",
         "2MP",
         "5MP",
         "Qualcomm MSM8916",
         "5000mAh",
         "8 inches",
         "PKR 28,000",
         "INR 8,499",
         "CNY 799",
         "USD 99",
         "AED 399",
         2016
        ],
        [
         "OnePlus",
         "OnePlus 12 256GB",
         "205g",
         "12GB",
         "32MP",
         "50MP + 48MP",
         "Snapdragon 8 Gen 3",
         "5000mAh",
         "6.7 inches",
         "PKR 219,999",
         "INR 74,999",
         "CNY 5,999",
         "USD 799",
         "AED 3,199",
         2024
        ],
        [
         "OnePlus",
         "OnePlus 12R 256GB",
         "203g",
         "12GB",
         "16MP",
         "50MP + 8MP",
         "Snapdragon 8 Gen 2",
         "4500mAh",
         "6.7 inches",
         "PKR 169,999",
         "INR 49,999",
         "CNY 4,299",
         "USD 699",
         "AED 2,599",
         2024
        ],
        [
         "OnePlus",
         "OnePlus 11 256GB",
         "205g",
         "12GB",
         "16MP",
         "50MP + 48MP",
         "Snapdragon 8 Gen 1",
         "5000mAh",
         "6.7 inches",
         "PKR 179,999",
         "INR 54,999",
         "CNY 4,999",
         "USD 699",
         "AED 2,799",
         2023
        ],
        [
         "OnePlus",
         "OnePlus 11R 256GB",
         "202g",
         "12GB",
         "16MP",
         "50MP + 8MP",
         "Snapdragon 8 Gen 1",
         "5000mAh",
         "6.7 inches",
         "PKR 159,999",
         "INR 44,999",
         "CNY 3,799",
         "USD 599",
         "AED 2,499",
         2023
        ],
        [
         "OnePlus",
         "OnePlus Nord 3 256GB",
         "190g",
         "12GB",
         "16MP",
         "50MP + 8MP",
         "MediaTek Dimensity 9000",
         "5000mAh",
         "6.74 inches",
         "PKR 119,999",
         "INR 34,999",
         "CNY 3,499",
         "USD 499",
         "AED 1,999",
         2023
        ],
        [
         "OnePlus",
         "OnePlus Nord CE 3 128GB",
         "179g",
         "8GB",
         "16MP",
         "50MP + 2MP",
         "Snapdragon 782G",
         "5000mAh",
         "6.72 inches",
         "PKR 85,000",
         "INR 22,999",
         "CNY 2,799",
         "USD 399",
         "AED 1,499",
         2023
        ],
        [
         "OnePlus",
         "OnePlus Nord CE 3 Lite 128GB",
         "195g",
         "8GB",
         "16MP",
         "108MP",
         "Snapdragon 695",
         "5000mAh",
         "6.72 inches",
         "PKR 59,999",
         "INR 17,999",
         "CNY 2,099",
         "USD 299",
         "AED 1,199",
         2023
        ],
        [
         "OnePlus",
         "OnePlus Nord N30 5G 128GB",
         "192g",
         "8GB",
         "16MP",
         "64MP + 2MP",
         "MediaTek Dimensity 6020",
         "5000mAh",
         "6.72 inches",
         "PKR 55,000",
         "INR 16,999",
         "CNY 1,999",
         "USD 249",
         "AED 999",
         2023
        ],
        [
         "OnePlus",
         "OnePlus Open 256GB",
         "238g",
         "16GB",
         "32MP",
         "48MP + 48MP",
         "Snapdragon 8 Gen 2",
         "4800mAh",
         "7.8 inches",
         "PKR 299,999",
         "INR 74,999",
         "CNY 6,999",
         "USD 1,099",
         "AED 4,299",
         2024
        ],
        [
         "OnePlus",
         "OnePlus 10 Pro 256GB",
         "200g",
         "12GB",
         "32MP",
         "50MP + 48MP",
         "Snapdragon 8 Gen 1",
         "5000mAh",
         "6.7 inches",
         "PKR 199,999",
         "INR 64,999",
         "CNY 4,999",
         "USD 899",
         "AED 3,299",
         2022
        ],
        [
         "OnePlus",
         "OnePlus 10T 256GB",
         "203g",
         "12GB",
         "16MP",
         "50MP + 8MP",
         "Snapdragon 8+ Gen 1",
         "4500mAh",
         "6.7 inches",
         "PKR 179,999",
         "INR 54,999",
         "CNY 4,699",
         "USD 749",
         "AED 2,899",
         2022
        ],
        [
         "OnePlus",
         "OnePlus 9 Pro 256GB",
         "192g",
         "12GB",
         "16MP",
         "48MP + 50MP",
         "Snapdragon 888",
         "4500mAh",
         "6.7 inches",
         "PKR 179,999",
         "INR 59,999",
         "CNY 4,199",
         "USD 699",
         "AED 2,799",
         2021
        ],
        [
         "OnePlus",
         "OnePlus 9 128GB",
         "183g",
         "8GB",
         "16MP",
         "48MP + 50MP",
         "Snapdragon 888",
         "4500mAh",
         "6.55 inches",
         "PKR 149,999",
         "INR 39,999",
         "CNY 3,699",
         "USD 599",
         "AED 2,299",
         2021
        ],
        [
         "OnePlus",
         "OnePlus 11 Pro 256GB",
         "204g",
         "16GB",
         "32MP",
         "50MP + 48MP",
         "Snapdragon 8 Gen 2",
         "5000mAh",
         "6.7 inches",
         "PKR 219,999",
         "INR 74,999",
         "CNY 6,399",
         "USD 899",
         "AED 3,599",
         2023
        ],
        [
         "OnePlus",
         "OnePlus Nord 2T 128GB",
         "190g",
         "8GB",
         "32MP",
         "50MP + 8MP",
         "MediaTek Dimensity 1300",
         "4500mAh",
         "6.43 inches",
         "PKR 69,999",
         "INR 28,999",
         "CNY 2,499",
         "USD 399",
         "AED 1,699",
         2022
        ],
        [
         "OnePlus",
         "OnePlus Nord 2 128GB",
         "190g",
         "8GB",
         "32MP",
         "50MP + 8MP",
         "MediaTek Dimensity 1200-AI",
         "4500mAh",
         "6.43 inches",
         "PKR 59,999",
         "INR 27,999",
         "CNY 2,299",
         "USD 349",
         "AED 1,499",
         2021
        ],
        [
         "OnePlus",
         "OnePlus Nord N200 64GB",
         "189g",
         "4GB",
         "16MP",
         "13MP + 2MP",
         "Snapdragon 480",
         "5000mAh",
         "6.49 inches",
         "PKR 39,999",
         "INR 15,999",
         "CNY 1,199",
         "USD 199",
         "AED 799",
         2021
        ],
        [
         "OnePlus",
         "OnePlus Nord N100 64GB",
         "185g",
         "4GB",
         "8MP",
         "13MP + 2MP",
         "Qualcomm Snapdragon 460",
         "5000mAh",
         "6.52 inches",
         "PKR 29,999",
         "INR 12,999",
         "CNY 1,099",
         "USD 179",
         "AED 699",
         2020
        ],
        [
         "OnePlus",
         "OnePlus 8T Cyberpunk 2077 Edition 256GB",
         "188g",
         "12GB",
         "16MP",
         "48MP + 16MP",
         "Snapdragon 865",
         "4500mAh",
         "6.55 inches",
         "PKR 139,999",
         "INR 45,999",
         "CNY 3,699",
         "USD 749",
         "AED 2,999",
         2020
        ],
        [
         "OnePlus",
         "OnePlus 9T 128GB",
         "192g",
         "8GB",
         "16MP",
         "48MP + 50MP",
         "Snapdragon 888",
         "4500mAh",
         "6.55 inches",
         "PKR 159,999",
         "INR 49,999",
         "CNY 4,199",
         "USD 649",
         "AED 2,799",
         2021
        ],
        [
         "OnePlus",
         "OnePlus 8T 256GB",
         "188g",
         "12GB",
         "16MP",
         "48MP + 16MP",
         "Snapdragon 865",
         "4500mAh",
         "6.55 inches",
         "PKR 119,999",
         "INR 42,999",
         "CNY 3,499",
         "USD 599",
         "AED 2,499",
         2020
        ],
        [
         "OnePlus",
         "OnePlus 10T 5G 256GB",
         "203g",
         "12GB",
         "16MP",
         "50MP + 8MP",
         "Snapdragon 8+ Gen 1",
         "4500mAh",
         "6.7 inches",
         "PKR 179,999",
         "INR 54,999",
         "CNY 4,699",
         "USD 749",
         "AED 2,899",
         2022
        ],
        [
         "OnePlus",
         "OnePlus 9R 5G 128GB",
         "189g",
         "8GB",
         "16MP",
         "48MP + 5MP",
         "Snapdragon 870",
         "4500mAh",
         "6.55 inches",
         "PKR 159,999",
         "INR 39,999",
         "CNY 3,499",
         "USD 599",
         "AED 2,499",
         2021
        ],
        [
         "OnePlus",
         "OnePlus 8 Pro 256GB",
         "199g",
         "12GB",
         "16MP",
         "48MP + 48MP",
         "Snapdragon 865",
         "4510mAh",
         "6.78 inches",
         "PKR 159,999",
         "INR 54,999",
         "CNY 4,999",
         "USD 749",
         "AED 2,999",
         2020
        ],
        [
         "OnePlus",
         "OnePlus 8 128GB",
         "180g",
         "8GB",
         "16MP",
         "48MP + 16MP",
         "Snapdragon 865",
         "4300mAh",
         "6.55 inches",
         "PKR 119,999",
         "INR 41,999",
         "CNY 3,499",
         "USD 699",
         "AED 2,499",
         2020
        ],
        [
         "OnePlus",
         "OnePlus Nord CE 2 Lite 128GB",
         "195g",
         "6GB",
         "16MP",
         "64MP + 2MP",
         "MediaTek Dimensity 900",
         "5000mAh",
         "6.59 inches",
         "PKR 49,999",
         "INR 19,999",
         "CNY 1,799",
         "USD 249",
         "AED 999",
         2022
        ],
        [
         "OnePlus",
         "OnePlus Nord CE 2 128GB",
         "173g",
         "8GB",
         "16MP",
         "64MP + 8MP",
         "MediaTek Dimensity 1200",
         "4500mAh",
         "6.43 inches",
         "PKR 64,999",
         "INR 23,999",
         "CNY 2,499",
         "USD 299",
         "AED 1,299",
         2022
        ],
        [
         "OnePlus",
         "OnePlus Nord 1 128GB",
         "184g",
         "6GB",
         "16MP",
         "48MP + 5MP",
         "Snapdragon 765G",
         "4115mAh",
         "6.44 inches",
         "PKR 49,999",
         "INR 22,999",
         "CNY 2,099",
         "USD 349",
         "AED 1,499",
         2020
        ],
        [
         "OnePlus",
         "OnePlus Nord CE 5G 128GB",
         "170g",
         "6GB",
         "16MP",
         "64MP + 8MP",
         "Snapdragon 750G",
         "4500mAh",
         "6.43 inches",
         "PKR 54,999",
         "INR 24,999",
         "CNY 2,499",
         "USD 299",
         "AED 1,499",
         2021
        ],
        [
         "OnePlus",
         "OnePlus Nord 2 5G 128GB",
         "189g",
         "8GB",
         "32MP",
         "50MP + 8MP",
         "MediaTek Dimensity 1200-AI",
         "4500mAh",
         "6.43 inches",
         "PKR 69,999",
         "INR 27,999",
         "CNY 2,499",
         "USD 399",
         "AED 1,699",
         2021
        ],
        [
         "OnePlus",
         "OnePlus Nord N100 5G 64GB",
         "185g",
         "4GB",
         "8MP",
         "13MP + 2MP",
         "Qualcomm Snapdragon 460",
         "5000mAh",
         "6.52 inches",
         "PKR 29,999",
         "INR 12,999",
         "CNY 1,099",
         "USD 179",
         "AED 699",
         2020
        ],
        [
         "OnePlus",
         "OnePlus Nord N10 5G 128GB",
         "190g",
         "6GB",
         "16MP",
         "64MP + 8MP",
         "Qualcomm Snapdragon 690",
         "4300mAh",
         "6.49 inches",
         "PKR 49,999",
         "INR 19,999",
         "CNY 1,799",
         "USD 299",
         "AED 1,099",
         2020
        ],
        [
         "OnePlus",
         "OnePlus 8R 128GB",
         "192g",
         "8GB",
         "16MP",
         "48MP + 5MP",
         "Snapdragon 865",
         "4300mAh",
         "6.55 inches",
         "PKR 119,999",
         "INR 41,999",
         "CNY 3,499",
         "USD 649",
         "AED 2,499",
         2020
        ],
        [
         "OnePlus",
         "OnePlus 7R 128GB",
         "190g",
         "6GB",
         "16MP",
         "48MP + 5MP",
         "Snapdragon 855",
         "3700mAh",
         "6.41 inches",
         "PKR 109,999",
         "INR 38,999",
         "CNY 3,199",
         "USD 599",
         "AED 2,399",
         2020
        ],
        [
         "OnePlus",
         "OnePlus 6T McLaren Edition 256GB",
         "185g",
         "10GB",
         "16MP",
         "20MP + 16MP",
         "Snapdragon 845",
         "3700mAh",
         "6.41 inches",
         "PKR 149,999",
         "INR 50,999",
         "CNY 4,699",
         "USD 799",
         "AED 3,299",
         2018
        ],
        [
         "OnePlus",
         "OnePlus 5T Star Wars Edition 128GB",
         "162g",
         "6GB",
         "16MP",
         "16MP + 20MP",
         "Snapdragon 835",
         "3300mAh",
         "6.01 inches",
         "PKR 89,999",
         "INR 34,999",
         "CNY 3,499",
         "USD 649",
         "AED 2,499",
         2017
        ],
        [
         "OnePlus",
         "OnePlus 13R 128GB",
         "210g",
         "8GB",
         "16MP",
         "50MP + 8MP",
         "Snapdragon 8 Gen 2",
         "4500mAh",
         "6.7 inches",
         "PKR 219,999",
         "INR 74,999",
         "CNY 6,499",
         "USD 849",
         "AED 3,599",
         2023
        ],
        [
         "OnePlus",
         "OnePlus 11T 128GB",
         "202g",
         "12GB",
         "32MP",
         "50MP + 48MP",
         "Snapdragon 8 Gen 2",
         "5000mAh",
         "6.7 inches",
         "PKR 199,999",
         "INR 74,999",
         "CNY 5,999",
         "USD 799",
         "AED 3,499",
         2023
        ],
        [
         "OnePlus",
         "OnePlus 10R 128GB",
         "205g",
         "8GB",
         "16MP",
         "50MP + 16MP",
         "MediaTek Dimensity 8100",
         "4500mAh",
         "6.7 inches",
         "PKR 169,999",
         "INR 49,999",
         "CNY 3,899",
         "USD 599",
         "AED 2,499",
         2022
        ],
        [
         "OnePlus",
         "OnePlus 7 Pro 5G 256GB",
         "206g",
         "12GB",
         "16MP",
         "48MP + 8MP",
         "Snapdragon 855",
         "4000mAh",
         "6.67 inches",
         "PKR 169,999",
         "INR 59,999",
         "CNY 4,699",
         "USD 799",
         "AED 3,299",
         2019
        ],
        [
         "OnePlus",
         "OnePlus 6 Special Edition 128GB",
         "177g",
         "6GB",
         "16MP",
         "20MP + 16MP",
         "Snapdragon 845",
         "3300mAh",
         "6.28 inches",
         "PKR 99,999",
         "INR 37,999",
         "CNY 3,499",
         "USD 599",
         "AED 2,499",
         2018
        ],
        [
         "OnePlus",
         "OnePlus 5 Special Edition 128GB",
         "155g",
         "8GB",
         "16MP",
         "20MP + 16MP",
         "Snapdragon 835",
         "3300mAh",
         "5.5 inches",
         "PKR 94,999",
         "INR 36,999",
         "CNY 3,299",
         "USD 599",
         "AED 2,399",
         2017
        ],
        [
         "OnePlus",
         "OnePlus Nord X 128GB",
         "190g",
         "8GB",
         "32MP",
         "64MP + 8MP",
         "Snapdragon 765G",
         "4000mAh",
         "6.44 inches",
         "PKR 69,999",
         "INR 24,999",
         "CNY 2,499",
         "USD 299",
         "AED 1,299",
         2020
        ],
        [
         "OnePlus",
         "OnePlus 8 Pro McLaren Edition 256GB",
         "199g",
         "12GB",
         "16MP",
         "48MP + 8MP",
         "Snapdragon 865",
         "4510mAh",
         "6.78 inches",
         "PKR 169,999",
         "INR 59,999",
         "CNY 4,999",
         "USD 899",
         "AED 3,599",
         2020
        ],
        [
         "OnePlus",
         "OnePlus 8T Cyberpunk Edition 256GB",
         "188g",
         "12GB",
         "16MP",
         "48MP + 16MP",
         "Snapdragon 865",
         "4500mAh",
         "6.55 inches",
         "PKR 169,999",
         "INR 58,999",
         "CNY 4,699",
         "USD 799",
         "AED 3,299",
         2020
        ],
        [
         "OnePlus",
         "OnePlus 7T Pro 5G McLaren Edition 256GB",
         "206g",
         "12GB",
         "16MP",
         "48MP + 8MP",
         "Snapdragon 855",
         "4085mAh",
         "6.67 inches",
         "PKR 179,999",
         "INR 69,999",
         "CNY 5,299",
         "USD 899",
         "AED 3,799",
         2019
        ],
        [
         "OnePlus",
         "OnePlus 15R 128GB",
         "210g",
         "12GB",
         "32MP",
         "50MP + 8MP",
         "Snapdragon 8 Gen 3",
         "5000mAh",
         "6.7 inches",
         "PKR 229,999",
         "INR 74,999",
         "CNY 6,499",
         "USD 849",
         "AED 3,699",
         2023
        ],
        [
         "OnePlus",
         "OnePlus 14+ 128GB",
         "202g",
         "8GB",
         "16MP",
         "64MP + 8MP",
         "Snapdragon 8 Gen 2",
         "4800mAh",
         "6.55 inches",
         "PKR 199,999",
         "INR 69,999",
         "CNY 5,999",
         "USD 799",
         "AED 3,499",
         2023
        ],
        [
         "OnePlus",
         "OnePlus 13 Pro 256GB",
         "215g",
         "12GB",
         "32MP",
         "50MP + 48MP",
         "Snapdragon 8 Gen 2",
         "5000mAh",
         "6.7 inches",
         "PKR 219,999",
         "INR 74,999",
         "CNY 6,199",
         "USD 899",
         "AED 3,799",
         2023
        ],
        [
         "OnePlus",
         "OnePlus 12T 5G 256GB",
         "200g",
         "12GB",
         "16MP",
         "50MP + 8MP",
         "Snapdragon 8 Gen 2",
         "5000mAh",
         "6.7 inches",
         "PKR 219,999",
         "INR 74,999",
         "CNY 5,899",
         "USD 849",
         "AED 3,599",
         2023
        ],
        [
         "OnePlus",
         "OnePlus Pad",
         "550g",
         "8GB",
         "8MP",
         "13MP",
         "MediaTek Dimensity 9000",
         "9510mAh",
         "11.61 inches",
         "PKR 94,999",
         "INR 39,999",
         "CNY 3,999",
         "USD 499",
         "AED 1,799",
         2023
        ],
        [
         "OnePlus",
         "OnePlus Pad 2",
         "550g",
         "8GB",
         "8MP",
         "13MP",
         "MediaTek Dimensity 9000",
         "9510mAh",
         "11.61 inches",
         "PKR 104,999",
         "INR 44,999",
         "CNY 4,499",
         "USD 549",
         "AED 1,999",
         2024
        ],
        [
         "OnePlus",
         "OnePlus Pad Pro",
         "610g",
         "12GB",
         "16MP",
         "50MP",
         "Snapdragon 8 Gen 3",
         "11000mAh",
         "12.4 inches",
         "PKR 169,999",
         "INR 69,999",
         "CNY 5,999",
         "USD 799",
         "AED 2,599",
         2024
        ],
        [
         "Vivo",
         "X200 128GB",
         "223g",
         "12GB",
         "32MP",
         "50MP",
         "Dimensity 9400",
         "6000mAh",
         "6.78 inches",
         "PKR 199,999",
         "INR 119,999",
         "CNY 6,999",
         "USD 999",
         "AED 3,699",
         2024
        ],
        [
         "Vivo",
         "X200 256GB",
         "223g",
         "12GB",
         "32MP",
         "50MP",
         "Dimensity 9400",
         "6000mAh",
         "6.78 inches",
         "PKR 219,999",
         "INR 129,999",
         "CNY 7,499",
         "USD 1,099",
         "AED 3,999",
         2024
        ],
        [
         "Vivo",
         "X200 Pro 256GB",
         "223g",
         "16GB",
         "32MP",
         "200MP",
         "Dimensity 9400",
         "6000mAh",
         "6.78 inches",
         "PKR 229,999",
         "INR 139,999",
         "CNY 7,999",
         "USD 1,199",
         "AED 4,399",
         2024
        ],
        [
         "Vivo",
         "X200 Pro 512GB",
         "223g",
         "16GB",
         "32MP",
         "200MP",
         "Dimensity 9400",
         "6000mAh",
         "6.78 inches",
         "PKR 249,999",
         "INR 149,999",
         "CNY 8,499",
         "USD 1,299",
         "AED 4,699",
         2024
        ],
        [
         "Vivo",
         "X200 Pro Mini 256GB",
         "187g",
         "16GB",
         "32MP",
         "50MP",
         "Dimensity 9400",
         "5700mAh",
         "6.31 inches",
         "PKR 189,999",
         "INR 109,999",
         "CNY 6,499",
         "USD 949",
         "AED 3,499",
         2024
        ],
        [
         "Vivo",
         "V40e 128GB",
         "179g",
         "8GB",
         "44MP",
         "64MP",
         "Snapdragon 778G",
         "4100mAh",
         "6.44 inches",
         "PKR 79,999",
         "INR 44,999",
         "CNY 2,999",
         "USD 449",
         "AED 1,649",
         2024
        ],
        [
         "Vivo",
         "Y200 GT 128GB",
         "190g",
         "12GB",
         "16MP",
         "64MP",
         "Dimensity 1200",
         "5000mAh",
         "6.58 inches",
         "PKR 69,999",
         "INR 39,999",
         "CNY 2,499",
         "USD 399",
         "AED 1,499",
         2024
        ],
        [
         "Vivo",
         "T3 5G 128GB",
         "180g",
         "8GB",
         "16MP",
         "50MP",
         "Snapdragon 870",
         "5000mAh",
         "6.67 inches",
         "PKR 59,999",
         "INR 34,999",
         "CNY 2,299",
         "USD 349",
         "AED 1,299",
         2024
        ],
        [
         "Vivo",
         "Y100 5G 128GB",
         "181g",
         "8GB",
         "16MP",
         "64MP",
         "Dimensity 900",
         "4500mAh",
         "6.38 inches",
         "PKR 54,999",
         "INR 29,999",
         "CNY 1,999",
         "USD 299",
         "AED 1,099",
         2024
        ],
        [
         "Vivo",
         "S18 Pro 256GB",
         "189g",
         "12GB",
         "32MP",
         "108MP",
         "Snapdragon 8 Gen 2",
         "4700mAh",
         "6.56 inches",
         "PKR 99,999",
         "INR 59,999",
         "CNY 3,999",
         "USD 599",
         "AED 2,199",
         2024
        ],
        [
         "Vivo",
         "V30 Pro 128GB",
         "192g",
         "12GB",
         "32MP",
         "64MP",
         "Dimensity 1100",
         "4500mAh",
         "6.44 inches",
         "PKR 89,999",
         "INR 49,999",
         "CNY 3,499",
         "USD 549",
         "AED 1,999",
         2024
        ],
        [
         "Vivo",
         "iQOO 12 256GB",
         "210g",
         "16GB",
         "16MP",
         "50MP",
         "Snapdragon 8 Gen 3",
         "5000mAh",
         "6.78 inches",
         "PKR 109,999",
         "INR 64,999",
         "CNY 4,499",
         "USD 699",
         "AED 2,599",
         2024
        ],
        [
         "Vivo",
         "Z3 64GB",
         "162g",
         "6GB",
         "12MP",
         "16MP",
         "Snapdragon 710",
         "3315mAh",
         "6.3 inches",
         "PKR 39,999",
         "INR 22,999",
         "CNY 1,699",
         "USD 249",
         "AED 899",
         2018
        ],
        [
         "Vivo",
         "V9 64GB",
         "150g",
         "4GB",
         "24MP",
         "16MP",
         "Snapdragon 626",
         "3260mAh",
         "6.3 inches",
         "PKR 34,999",
         "INR 19,999",
         "CNY 1,499",
         "USD 219",
         "AED 799",
         2018
        ],
        [
         "Vivo",
         "X9 Plus 128GB",
         "199g",
         "6GB",
         "20MP+8MP",
         "16MP",
         "Snapdragon 653",
         "4000mAh",
         "5.88 inches",
         "PKR 42,999",
         "INR 24,999",
         "CNY 2,199",
         "USD 299",
         "AED 1,099",
         2017
        ],
        [
         "Vivo",
         "Y81 32GB",
         "146g",
         "3GB",
         "5MP",
         "13MP",
         "MediaTek Helio P22",
         "3260mAh",
         "6.22 inches",
         "PKR 22,999",
         "INR 12,999",
         "CNY 999",
         "USD 149",
         "AED 549",
         2018
        ],
        [
         "Vivo",
         "X5Max 16GB",
         "146g",
         "2GB",
         "5MP",
         "13MP",
         "Snapdragon 615",
         "2300mAh",
         "5.5 inches",
         "PKR 29,999",
         "INR 16,999",
         "CNY 1,299",
         "USD 199",
         "AED 699",
         2014
        ],
        [
         "Vivo",
         "V5 Plus 64GB",
         "158g",
         "4GB",
         "20MP+8MP",
         "16MP",
         "Snapdragon 625",
         "3055mAh",
         "5.5 inches",
         "PKR 39,999",
         "INR 22,999",
         "CNY 1,699",
         "USD 249",
         "AED 899",
         2017
        ],
        [
         "Vivo",
         "Y95 64GB",
         "163g",
         "4GB",
         "20MP",
         "13MP+2MP",
         "Snapdragon 439",
         "4030mAh",
         "6.22 inches",
         "PKR 29,999",
         "INR 16,999",
         "CNY 1,299",
         "USD 199",
         "AED 699",
         2018
        ],
        [
         "Vivo",
         "V3 Max 32GB",
         "168g",
         "4GB",
         "8MP",
         "13MP",
         "Snapdragon 652",
         "3000mAh",
         "5.5 inches",
         "PKR 24,999",
         "INR 13,999",
         "CNY 1,199",
         "USD 179",
         "AED 649",
         2016
        ],
        [
         "Vivo",
         "X3S 16GB",
         "153g",
         "1GB",
         "5MP",
         "13MP",
         "MediaTek MT6592",
         "2000mAh",
         "5.0 inches",
         "PKR 19,999",
         "INR 10,999",
         "CNY 899",
         "USD 139",
         "AED 499",
         2014
        ],
        [
         "Vivo",
         "Y66 32GB",
         "155g",
         "3GB",
         "16MP",
         "13MP",
         "Snapdragon 430",
         "3000mAh",
         "5.5 inches",
         "PKR 27,999",
         "INR 14,999",
         "CNY 1,199",
         "USD 179",
         "AED 649",
         2017
        ],
        [
         "Vivo",
         "V19 128GB",
         "176g",
         "8GB",
         "32MP",
         "48MP",
         "Qualcomm Snapdragon 712",
         "4500mAh",
         "6.44 inches",
         "PKR 49,999",
         "INR 27,990",
         "CNY 2,799",
         "USD 399",
         "AED 1,499",
         2020
        ],
        [
         "Vivo",
         "V19 256GB",
         "176g",
         "8GB",
         "32MP",
         "48MP",
         "Qualcomm Snapdragon 712",
         "4500mAh",
         "6.44 inches",
         "PKR 54,999",
         "INR 31,990",
         "CNY 3,199",
         "USD 429",
         "AED 1,599",
         2020
        ],
        [
         "Vivo",
         "V17 Pro 128GB",
         "201g",
         "8GB",
         "32MP",
         "48MP",
         "Qualcomm Snapdragon 675",
         "4100mAh",
         "6.44 inches",
         "PKR 54,999",
         "INR 27,990",
         "CNY 2,999",
         "USD 399",
         "AED 1,499",
         2019
        ],
        [
         "Vivo",
         "V17 Pro 256GB",
         "201g",
         "8GB",
         "32MP",
         "48MP",
         "Qualcomm Snapdragon 675",
         "4100mAh",
         "6.44 inches",
         "PKR 59,999",
         "INR 33,990",
         "CNY 3,199",
         "USD 429",
         "AED 1,599",
         2019
        ],
        [
         "Vivo",
         "Y12s 64GB",
         "191g",
         "3GB",
         "8MP",
         "13MP",
         "MediaTek Helio P35",
         "5000mAh",
         "6.51 inches",
         "PKR 18,999",
         "INR 10,990",
         "CNY 899",
         "USD 159",
         "AED 599",
         2020
        ],
        [
         "Vivo",
         "Y12s 128GB",
         "191g",
         "4GB",
         "8MP",
         "13MP",
         "MediaTek Helio P35",
         "5000mAh",
         "6.51 inches",
         "PKR 22,999",
         "INR 13,990",
         "CNY 1,099",
         "USD 179",
         "AED 699",
         2020
        ],
        [
         "Vivo",
         "S1 Pro 128GB",
         "185g",
         "6GB",
         "32MP",
         "48MP",
         "MediaTek Helio P65",
         "4500mAh",
         "6.38 inches",
         "PKR 39,999",
         "INR 19,990",
         "CNY 2,299",
         "USD 249",
         "AED 999",
         2019
        ],
        [
         "Vivo",
         "S1 Pro 256GB",
         "185g",
         "6GB",
         "32MP",
         "48MP",
         "MediaTek Helio P65",
         "4500mAh",
         "6.38 inches",
         "PKR 44,999",
         "INR 24,990",
         "CNY 2,499",
         "USD 269",
         "AED 1,099",
         2019
        ],
        [
         "Vivo",
         "Y11 32GB",
         "190g",
         "3GB",
         "8MP",
         "13MP",
         "Qualcomm Snapdragon 439",
         "5000mAh",
         "6.35 inches",
         "PKR 18,499",
         "INR 10,999",
         "CNY 899",
         "USD 149",
         "AED 599",
         2019
        ],
        [
         "Vivo",
         "Y11 64GB",
         "190g",
         "3GB",
         "8MP",
         "13MP",
         "Qualcomm Snapdragon 439",
         "5000mAh",
         "6.35 inches",
         "PKR 22,499",
         "INR 13,490",
         "CNY 1,099",
         "USD 169",
         "AED 649",
         2019
        ],
        [
         "Vivo",
         "V15 128GB",
         "190g",
         "6GB",
         "32MP",
         "48MP",
         "MediaTek Helio P70",
         "4000mAh",
         "6.53 inches",
         "PKR 34,999",
         "INR 22,990",
         "CNY 2,199",
         "USD 299",
         "AED 1,099",
         2019
        ],
        [
         "Vivo",
         "V15 256GB",
         "190g",
         "6GB",
         "32MP",
         "48MP",
         "MediaTek Helio P70",
         "4000mAh",
         "6.53 inches",
         "PKR 39,999",
         "INR 26,990",
         "CNY 2,399",
         "USD 319",
         "AED 1,199",
         2019
        ],
        [
         "Vivo",
         "X27 Pro 128GB",
         "190g",
         "8GB",
         "32MP",
         "48MP",
         "Qualcomm Snapdragon 710",
         "4000mAh",
         "6.39 inches",
         "PKR 59,999",
         "INR 35,990",
         "CNY 3,499",
         "USD 499",
         "AED 1,799",
         2019
        ],
        [
         "Vivo",
         "X27 Pro 256GB",
         "190g",
         "8GB",
         "32MP",
         "48MP",
         "Qualcomm Snapdragon 710",
         "4000mAh",
         "6.39 inches",
         "PKR 64,999",
         "INR 39,990",
         "CNY 3,799",
         "USD 549",
         "AED 1,999",
         2019
        ],
        [
         "Vivo",
         "Y30 128GB",
         "193g",
         "4GB",
         "8MP",
         "13MP",
         "MediaTek Helio P35",
         "5000mAh",
         "6.47 inches",
         "PKR 24,999",
         "INR 14,990",
         "CNY 1,499",
         "USD 199",
         "AED 749",
         2020
        ],
        [
         "Vivo",
         "Y30 64GB",
         "193g",
         "3GB",
         "8MP",
         "13MP",
         "MediaTek Helio P35",
         "5000mAh",
         "6.47 inches",
         "PKR 19,999",
         "INR 11,990",
         "CNY 1,299",
         "USD 169",
         "AED 649",
         2020
        ],
        [
         "Vivo",
         "Z1 Pro 64GB",
         "159g",
         "4GB",
         "16MP",
         "16MP",
         "Qualcomm Snapdragon 712",
         "4500mAh",
         "6.53 inches",
         "PKR 29,999",
         "INR 18,990",
         "CNY 1,799",
         "USD 249",
         "AED 899",
         2019
        ],
        [
         "Vivo",
         "Z1 Pro 128GB",
         "159g",
         "6GB",
         "16MP",
         "16MP",
         "Qualcomm Snapdragon 712",
         "4500mAh",
         "6.53 inches",
         "PKR 34,999",
         "INR 22,990",
         "CNY 2,099",
         "USD 299",
         "AED 999",
         2019
        ],
        [
         "Vivo",
         "X21 128GB",
         "156g",
         "6GB",
         "12MP",
         "12MP",
         "Qualcomm Snapdragon 660",
         "3200mAh",
         "6.28 inches",
         "PKR 39,999",
         "INR 24,990",
         "CNY 2,299",
         "USD 349",
         "AED 1,199",
         2018
        ],
        [
         "Vivo",
         "X21 64GB",
         "156g",
         "4GB",
         "12MP",
         "12MP",
         "Qualcomm Snapdragon 660",
         "3200mAh",
         "6.28 inches",
         "PKR 34,999",
         "INR 21,990",
         "CNY 1,899",
         "USD 299",
         "AED 999",
         2018
        ],
        [
         "Vivo",
         "V23e 128GB",
         "172g",
         "8GB",
         "50MP",
         "64MP",
         "MediaTek Helio G96",
         "4050mAh",
         "6.44 inches",
         "PKR 39,999",
         "INR 20,999",
         "CNY 1,799",
         "USD 299",
         "AED 1,099",
         2021
        ],
        [
         "Vivo",
         "V23e 256GB",
         "172g",
         "8GB",
         "50MP",
         "64MP",
         "MediaTek Helio G96",
         "4050mAh",
         "6.44 inches",
         "PKR 44,999",
         "INR 24,999",
         "CNY 1,999",
         "USD 349",
         "AED 1,199",
         2021
        ],
        [
         "Vivo",
         "Y33s 128GB",
         "182g",
         "8GB",
         "16MP",
         "50MP",
         "MediaTek Helio G80",
         "5000mAh",
         "6.58 inches",
         "PKR 34,999",
         "INR 17,999",
         "CNY 1,699",
         "USD 239",
         "AED 899",
         2021
        ],
        [
         "Vivo",
         "Y33s 64GB",
         "182g",
         "4GB",
         "16MP",
         "50MP",
         "MediaTek Helio G80",
         "5000mAh",
         "6.58 inches",
         "PKR 29,999",
         "INR 14,999",
         "CNY 1,299",
         "USD 179",
         "AED 799",
         2021
        ],
        [
         "Vivo",
         "X60 Pro 256GB",
         "190g",
         "12GB",
         "32MP",
         "48MP",
         "Qualcomm Snapdragon 870",
         "4200mAh",
         "6.56 inches",
         "PKR 109,999",
         "INR 44,999",
         "CNY 3,999",
         "USD 899",
         "AED 1,999",
         2021
        ],
        [
         "Vivo",
         "X60 Pro 512GB",
         "190g",
         "12GB",
         "32MP",
         "48MP",
         "Qualcomm Snapdragon 870",
         "4200mAh",
         "6.56 inches",
         "PKR 119,999",
         "INR 49,999",
         "CNY 4,199",
         "USD 999",
         "AED 2,099",
         2021
        ],
        [
         "Vivo",
         "V20 Pro 128GB",
         "173g",
         "8GB",
         "44MP",
         "64MP",
         "Qualcomm Snapdragon 765G",
         "4000mAh",
         "6.44 inches",
         "PKR 49,999",
         "INR 25,999",
         "CNY 2,699",
         "USD 499",
         "AED 1,499",
         2020
        ],
        [
         "Vivo",
         "V20 Pro 256GB",
         "173g",
         "8GB",
         "44MP",
         "64MP",
         "Qualcomm Snapdragon 765G",
         "4000mAh",
         "6.44 inches",
         "PKR 54,999",
         "INR 29,999",
         "CNY 2,999",
         "USD 549",
         "AED 1,699",
         2020
        ],
        [
         "Vivo",
         "Y75 5G 128GB",
         "179g",
         "8GB",
         "16MP",
         "50MP",
         "MediaTek Dimensity 700",
         "5000mAh",
         "6.58 inches",
         "PKR 54,999",
         "INR 21,999",
         "CNY 2,199",
         "USD 349",
         "AED 1,299",
         2021
        ],
        [
         "Vivo",
         "Y75 5G 256GB",
         "179g",
         "8GB",
         "16MP",
         "50MP",
         "MediaTek Dimensity 700",
         "5000mAh",
         "6.58 inches",
         "PKR 59,999",
         "INR 25,999",
         "CNY 2,499",
         "USD 399",
         "AED 1,499",
         2021
        ],
        [
         "Vivo",
         "Y53s 128GB",
         "190g",
         "6GB",
         "16MP",
         "64MP",
         "MediaTek Helio G80",
         "5000mAh",
         "6.58 inches",
         "PKR 34,999",
         "INR 16,999",
         "CNY 1,699",
         "USD 229",
         "AED 899",
         2021
        ],
        [
         "Vivo",
         "Y53s 64GB",
         "190g",
         "6GB",
         "16MP",
         "64MP",
         "MediaTek Helio G80",
         "5000mAh",
         "6.58 inches",
         "PKR 29,999",
         "INR 13,999",
         "CNY 1,299",
         "USD 179",
         "AED 799",
         2021
        ],
        [
         "Vivo",
         "V15 Pro 128GB",
         "185g",
         "6GB",
         "32MP",
         "48MP",
         "Qualcomm Snapdragon 675",
         "3700mAh",
         "6.39 inches",
         "PKR 44,999",
         "INR 25,999",
         "CNY 2,499",
         "USD 399",
         "AED 1,499",
         2019
        ],
        [
         "Vivo",
         "V15 Pro 256GB",
         "185g",
         "6GB",
         "32MP",
         "48MP",
         "Qualcomm Snapdragon 675",
         "3700mAh",
         "6.39 inches",
         "PKR 49,999",
         "INR 29,999",
         "CNY 2,799",
         "USD 449",
         "AED 1,699",
         2019
        ],
        [
         "Vivo",
         "X70 Pro 128GB",
         "185g",
         "8GB",
         "32MP",
         "50MP",
         "MediaTek Dimensity 1200",
         "4450mAh",
         "6.56 inches",
         "PKR 99,999",
         "INR 39,999",
         "CNY 4,299",
         "USD 749",
         "AED 2,099",
         2021
        ],
        [
         "Vivo",
         "X70 Pro 256GB",
         "185g",
         "8GB",
         "32MP",
         "50MP",
         "MediaTek Dimensity 1200",
         "4450mAh",
         "6.56 inches",
         "PKR 109,999",
         "INR 44,999",
         "CNY 4,699",
         "USD 799",
         "AED 2,299",
         2021
        ],
        [
         "Vivo",
         "T1 5G 128GB",
         "181g",
         "6GB",
         "16MP",
         "50MP",
         "Qualcomm Snapdragon 695",
         "5000mAh",
         "6.58 inches",
         "PKR 39,999",
         "INR 17,999",
         "CNY 1,799",
         "USD 269",
         "AED 999",
         2022
        ],
        [
         "Vivo",
         "T1 5G 256GB",
         "181g",
         "8GB",
         "16MP",
         "50MP",
         "Qualcomm Snapdragon 695",
         "5000mAh",
         "6.58 inches",
         "PKR 44,999",
         "INR 21,999",
         "CNY 1,999",
         "USD 319",
         "AED 1,099",
         2022
        ],
        [
         "Vivo",
         "X30 Pro 128GB",
         "199g",
         "8GB",
         "32MP",
         "64MP",
         "Qualcomm Snapdragon 855",
         "4200mAh",
         "6.44 inches",
         "PKR 109,999",
         "INR 47,999",
         "CNY 4,599",
         "USD 899",
         "AED 2,299",
         2019
        ],
        [
         "Vivo",
         "X30 Pro 256GB",
         "199g",
         "8GB",
         "32MP",
         "64MP",
         "Qualcomm Snapdragon 855",
         "4200mAh",
         "6.44 inches",
         "PKR 119,999",
         "INR 54,999",
         "CNY 5,199",
         "USD 949",
         "AED 2,499",
         2019
        ],
        [
         "Vivo",
         "V27 128GB",
         "182g",
         "8GB",
         "50MP",
         "50MP",
         "MediaTek Dimensity 8200",
         "4600mAh",
         "6.78 inches",
         "PKR 79,999",
         "INR 29,999",
         "CNY 2,999",
         "USD 599",
         "AED 1,699",
         2023
        ],
        [
         "Vivo",
         "V27 256GB",
         "182g",
         "8GB",
         "50MP",
         "50MP",
         "MediaTek Dimensity 8200",
         "4600mAh",
         "6.78 inches",
         "PKR 84,999",
         "INR 32,999",
         "CNY 3,199",
         "USD 649",
         "AED 1,899",
         2023
        ],
        [
         "Vivo",
         "V27 Pro 128GB",
         "182g",
         "8GB",
         "50MP",
         "50MP",
         "MediaTek Dimensity 8200",
         "4600mAh",
         "6.78 inches",
         "PKR 89,999",
         "INR 34,999",
         "CNY 3,299",
         "USD 699",
         "AED 1,899",
         2023
        ],
        [
         "Vivo",
         "V27 Pro 256GB",
         "182g",
         "8GB",
         "50MP",
         "50MP",
         "MediaTek Dimensity 8200",
         "4600mAh",
         "6.78 inches",
         "PKR 94,999",
         "INR 37,999",
         "CNY 3,499",
         "USD 749",
         "AED 2,099",
         2023
        ],
        [
         "Vivo",
         "V25 Pro 128GB",
         "190g",
         "8GB",
         "32MP",
         "64MP",
         "MediaTek Dimensity 1300",
         "4830mAh",
         "6.56 inches",
         "PKR 79,999",
         "INR 25,999",
         "CNY 2,799",
         "USD 599",
         "AED 1,599",
         2022
        ],
        [
         "Vivo",
         "V25 Pro 256GB",
         "190g",
         "8GB",
         "32MP",
         "64MP",
         "MediaTek Dimensity 1300",
         "4830mAh",
         "6.56 inches",
         "PKR 85,999",
         "INR 29,999",
         "CNY 2,999",
         "USD 649",
         "AED 1,799",
         2022
        ],
        [
         "Vivo",
         "X90 Pro 256GB",
         "221g",
         "12GB",
         "32MP",
         "50MP",
         "MediaTek Dimensity 9200",
         "4870mAh",
         "6.78 inches",
         "PKR 199,999",
         "INR 69,999",
         "CNY 6,999",
         "USD 1,099",
         "AED 3,999",
         2022
        ],
        [
         "Vivo",
         "X90 Pro 512GB",
         "221g",
         "12GB",
         "32MP",
         "50MP",
         "MediaTek Dimensity 9200",
         "4870mAh",
         "6.78 inches",
         "PKR 229,999",
         "INR 79,999",
         "CNY 7,499",
         "USD 1,199",
         "AED 4,499",
         2022
        ],
        [
         "Vivo",
         "Y100 128GB",
         "190g",
         "8GB",
         "16MP",
         "64MP",
         "MediaTek Dimensity 900",
         "4500mAh",
         "6.44 inches",
         "PKR 59,999",
         "INR 19,999",
         "CNY 1,999",
         "USD 399",
         "AED 1,199",
         2023
        ],
        [
         "Vivo",
         "Y100 256GB",
         "190g",
         "8GB",
         "16MP",
         "64MP",
         "MediaTek Dimensity 900",
         "4500mAh",
         "6.44 inches",
         "PKR 64,999",
         "INR 22,999",
         "CNY 2,199",
         "USD 449",
         "AED 1,399",
         2023
        ],
        [
         "Vivo",
         "T2 Series 128GB",
         "190g",
         "8GB",
         "16MP",
         "64MP",
         "Qualcomm Snapdragon 695",
         "4500mAh",
         "6.44 inches",
         "PKR 49,999",
         "INR 15,999",
         "CNY 1,699",
         "USD 299",
         "AED 999",
         2023
        ],
        [
         "Vivo",
         "T2 Series 256GB",
         "190g",
         "8GB",
         "16MP",
         "64MP",
         "Qualcomm Snapdragon 695",
         "4500mAh",
         "6.44 inches",
         "PKR 54,999",
         "INR 18,999",
         "CNY 1,799",
         "USD 349",
         "AED 1,099",
         2023
        ],
        [
         "Vivo",
         "V23 5G 128GB",
         "179g",
         "8GB",
         "50MP",
         "64MP",
         "MediaTek Dimensity 920",
         "4200mAh",
         "6.44 inches",
         "PKR 69,999",
         "INR 27,999",
         "CNY 2,799",
         "USD 499",
         "AED 1,499",
         2022
        ],
        [
         "Vivo",
         "V23 5G 256GB",
         "179g",
         "8GB",
         "50MP",
         "64MP",
         "MediaTek Dimensity 920",
         "4200mAh",
         "6.44 inches",
         "PKR 74,999",
         "INR 32,999",
         "CNY 3,199",
         "USD 549",
         "AED 1,699",
         2022
        ],
        [
         "Vivo",
         "X80 256GB",
         "206g",
         "12GB",
         "32MP",
         "50MP",
         "MediaTek Dimensity 9000",
         "4700mAh",
         "6.78 inches",
         "PKR 179,999",
         "INR 59,999",
         "CNY 5,999",
         "USD 899",
         "AED 3,499",
         2022
        ],
        [
         "Vivo",
         "X80 512GB",
         "206g",
         "12GB",
         "32MP",
         "50MP",
         "MediaTek Dimensity 9000",
         "4700mAh",
         "6.78 inches",
         "PKR 199,999",
         "INR 69,999",
         "CNY 6,499",
         "USD 999",
         "AED 3,999",
         2022
        ],
        [
         "Vivo",
         "Y21 128GB",
         "182g",
         "4GB",
         "8MP",
         "13MP",
         "MediaTek Helio P35",
         "5000mAh",
         "6.51 inches",
         "PKR 29,999",
         "INR 12,999",
         "CNY 1,299",
         "USD 199",
         "AED 699",
         2021
        ],
        [
         "Vivo",
         "Y21 64GB",
         "182g",
         "4GB",
         "8MP",
         "13MP",
         "MediaTek Helio P35",
         "5000mAh",
         "6.51 inches",
         "PKR 26,999",
         "INR 9,999",
         "CNY 1,099",
         "USD 179",
         "AED 599",
         2021
        ],
        [
         "Vivo",
         "Pad 128GB",
         "498g",
         "6GB",
         "8MP",
         "13MP",
         "Snapdragon 870",
         "8040mAh",
         "11 inches",
         "PKR 64,999",
         "INR 34,999",
         "CNY 2,499",
         "USD 329",
         "AED 1,199",
         2022
        ],
        [
         "Vivo",
         "Pad 2 256GB",
         "535g",
         "8GB",
         "8MP",
         "50MP",
         "MediaTek Dimensity 1200",
         "8040mAh",
         "11 inches",
         "PKR 74,999",
         "INR 39,999",
         "CNY 3,199",
         "USD 399",
         "AED 1,399",
         2023
        ],
        [
         "Vivo",
         "Pad Air 128GB",
         "510g",
         "6GB",
         "8MP",
         "13MP",
         "Snapdragon 870",
         "8040mAh",
         "10.4 inches",
         "PKR 58,999",
         "INR 31,999",
         "CNY 2,199",
         "USD 279",
         "AED 999",
         2023
        ],
        [
         "Vivo",
         "Pad 3 128GB",
         "500g",
         "6GB",
         "8MP",
         "13MP",
         "Snapdragon 750G",
         "8040mAh",
         "11 inches",
         "PKR 62,999",
         "INR 34,999",
         "CNY 2,399",
         "USD 349",
         "AED 1,199",
         2023
        ],
        [
         "Vivo",
         "Pad 3 Pro 256GB",
         "550g",
         "8GB",
         "8MP",
         "50MP",
         "Snapdragon 888",
         "8040mAh",
         "12.3 inches",
         "PKR 84,999",
         "INR 45,999",
         "CNY 3,599",
         "USD 449",
         "AED 1,599",
         2023
        ],
        [
         "Vivo",
         "Pad 4 Pro 256GB",
         "560g",
         "8GB",
         "8MP",
         "50MP",
         "MediaTek Dimensity 9000",
         "8040mAh",
         "12.9 inches",
         "PKR 94,999",
         "INR 49,999",
         "CNY 4,299",
         "USD 499",
         "AED 1,799",
         2024
        ],
        [
         "iQOO",
         "Pad 128GB",
         "520g",
         "6GB",
         "8MP",
         "13MP",
         "Snapdragon 870",
         "8040mAh",
         "11 inches",
         "PKR 69,999",
         "INR 37,999",
         "CNY 2,699",
         "USD 349",
         "AED 1,299",
         2023
        ],
        [
         "iQOO",
         "Pad 2 256GB",
         "540g",
         "8GB",
         "8MP",
         "50MP",
         "Snapdragon 888",
         "8040mAh",
         "12.3 inches",
         "PKR 79,999",
         "INR 43,999",
         "CNY 3,499",
         "USD 399",
         "AED 1,499",
         2024
        ],
        [
         "iQOO",
         "Pad 2 Pro 256GB",
         "555g",
         "8GB",
         "8MP",
         "50MP",
         "Snapdragon 8 Gen 1",
         "8040mAh",
         "12.3 inches",
         "PKR 89,999",
         "INR 49,999",
         "CNY 3,899",
         "USD 449",
         "AED 1,699",
         2024
        ],
        [
         "Oppo",
         "Find N3 512GB",
         "239g",
         "12GB",
         "32MP",
         "48MP + 64MP + 48MP",
         "Snapdragon 8 Gen 2",
         "4805mAh",
         "7.82 inches",
         "PKR 299,999",
         "INR 159,999",
         "CNY 9,999",
         "USD 1,399",
         "AED 5,199",
         2023
        ],
        [
         "Oppo",
         "Find N3 Flip 256GB",
         "198g",
         "12GB",
         "32MP",
         "50MP + 32MP + 48MP",
         "MediaTek Dimensity 9200",
         "4300mAh",
         "6.8 inches",
         "PKR 199,999",
         "INR 109,999",
         "CNY 6,999",
         "USD 999",
         "AED 3,699",
         2023
        ],
        [
         "Oppo",
         "Find X8 Pro 256GB",
         "210g",
         "12GB",
         "32MP",
         "50MP + 50MP + 50MP",
         "Snapdragon 8 Gen 2",
         "5000mAh",
         "6.8 inches",
         "PKR 249,999",
         "INR 139,999",
         "CNY 8,999",
         "USD 1,299",
         "AED 4,799",
         2024
        ],
        [
         "Oppo",
         "Find X8 256GB",
         "195g",
         "8GB",
         "32MP",
         "50MP + 50MP",
         "Snapdragon 8 Gen 2",
         "4800mAh",
         "6.7 inches",
         "PKR 199,999",
         "INR 119,999",
         "CNY 7,499",
         "USD 1,099",
         "AED 4,099",
         2024
        ],
        [
         "Oppo",
         "Reno13 F 4G 256GB",
         "192g",
         "8GB",
         "32MP",
         "50MP + 8MP + 2MP",
         "MediaTek Helio G100",
         "5800mAh",
         "6.67 inches",
         "PKR 79,999",
         "INR 44,999",
         "CNY 3,499",
         "USD 499",
         "AED 1,899",
         2025
        ],
        [
         "Oppo",
         "Reno13 F 256GB",
         "192g",
         "8GB",
         "32MP",
         "50MP + 8MP + 2MP",
         "MediaTek Helio G100",
         "5800mAh",
         "6.67 inches",
         "PKR 79,999",
         "INR 44,999",
         "CNY 3,499",
         "USD 499",
         "AED 1,899",
         2025
        ],
        [
         "Oppo",
         "Reno13 Pro 512GB",
         "210g",
         "12GB",
         "50MP",
         "50MP + 50MP + 8MP",
         "MediaTek Dimensity 8350",
         "5800mAh",
         "6.83 inches",
         "PKR 129,999",
         "INR 69,999",
         "CNY 5,999",
         "USD 799",
         "AED 2,999",
         2025
        ],
        [
         "Oppo",
         "Reno13 256GB",
         "200g",
         "12GB",
         "50MP",
         "50MP + 8MP",
         "MediaTek Dimensity 8350",
         "5600mAh",
         "6.59 inches",
         "PKR 99,999",
         "INR 54,999",
         "CNY 4,999",
         "USD 699",
         "AED 2,599",
         2025
        ],
        [
         "Oppo",
         "Reno12 F 4G 256GB",
         "187g",
         "8GB",
         "32MP",
         "50MP + 8MP + 2MP",
         "Snapdragon 685",
         "5000mAh",
         "6.7 inches",
         "PKR 69,999",
         "INR 39,999",
         "CNY 3,199",
         "USD 449",
         "AED 1,699",
         2024
        ],
        [
         "Oppo",
         "Reno12 F 256GB",
         "187g",
         "8GB",
         "32MP",
         "50MP + 8MP + 2MP",
         "Snapdragon 685",
         "5000mAh",
         "6.7 inches",
         "PKR 69,999",
         "INR 39,999",
         "CNY 3,199",
         "USD 449",
         "AED 1,699",
         2024
        ],
        [
         "Oppo",
         "Reno12 Pro 512GB",
         "190g",
         "12GB",
         "32MP",
         "50MP + 32MP + 8MP",
         "MediaTek Dimensity 8200",
         "4600mAh",
         "6.74 inches",
         "PKR 119,999",
         "INR 64,999",
         "CNY 5,499",
         "USD 749",
         "AED 2,799",
         2024
        ],
        [
         "Oppo",
         "Reno12 256GB",
         "185g",
         "8GB",
         "32MP",
         "50MP + 8MP",
         "MediaTek Dimensity 7050",
         "5000mAh",
         "6.7 inches",
         "PKR 89,999",
         "INR 49,999",
         "CNY 3,999",
         "USD 599",
         "AED 2,199",
         2024
        ],
        [
         "Oppo",
         "Reno11 F 256GB",
         "185g",
         "8GB",
         "32MP",
         "64MP + 8MP + 2MP",
         "MediaTek Dimensity 7050",
         "5000mAh",
         "6.7 inches",
         "PKR 79,999",
         "INR 44,999",
         "CNY 3,499",
         "USD 499",
         "AED 1,899",
         2024
        ],
        [
         "Oppo",
         "Reno11 Pro 512GB",
         "190g",
         "12GB",
         "32MP",
         "50MP + 32MP + 8MP",
         "MediaTek Dimensity 8200",
         "4600mAh",
         "6.74 inches",
         "PKR 109,999",
         "INR 59,999",
         "CNY 4,999",
         "USD 699",
         "AED 2,599",
         2024
        ],
        [
         "Oppo",
         "A5 Pro 256GB",
         "180g",
         "8GB",
         "16MP",
         "50MP + 2MP",
         "Dimensity 7300",
         "6000mAh",
         "6.7 inches",
         "PKR 89,999",
         "INR 49,999",
         "CNY 3,999",
         "USD 599",
         "AED 2,199",
         2024
        ],
        [
         "Oppo",
         "A5 Pro 512GB",
         "186g",
         "12GB",
         "16MP",
         "50MP + 2MP",
         "Dimensity 7300",
         "6000mAh",
         "6.7 inches",
         "PKR 99,999",
         "INR 54,999",
         "CNY 4,499",
         "USD 699",
         "AED 2,499",
         2024
        ],
        [
         "Oppo",
         "A80 256GB",
         "186g",
         "8GB",
         "8MP",
         "50MP + 2MP",
         "Dimensity 6300",
         "5100mAh",
         "6.67 inches",
         "PKR 79,999",
         "INR 44,999",
         "CNY 3,499",
         "USD 499",
         "AED 1,899",
         2024
        ],
        [
         "Oppo",
         "A3 4G 128GB",
         "186g",
         "4GB",
         "5MP",
         "50MP",
         "Snapdragon 6s 4G Gen 1",
         "5000mAh",
         "6.7 inches",
         "PKR 59,999",
         "INR 34,999",
         "CNY 2,999",
         "USD 399",
         "AED 1,499",
         2024
        ],
        [
         "Oppo",
         "A3x 4G 128GB",
         "186g",
         "4GB",
         "8MP",
         "8MP + 2MP",
         "Snapdragon 6s 4G Gen 1",
         "5100mAh",
         "6.67 inches",
         "PKR 64,999",
         "INR 36,999",
         "CNY 3,199",
         "USD 449",
         "AED 1,699",
         2024
        ],
        [
         "Oppo",
         "A3x 4G 256GB",
         "186g",
         "6GB",
         "8MP",
         "8MP + 2MP",
         "Snapdragon 6s 4G Gen 1",
         "5100mAh",
         "6.67 inches",
         "PKR 69,999",
         "INR 39,999",
         "CNY 3,499",
         "USD 499",
         "AED 1,899",
         2024
        ],
        [
         "Oppo",
         "A3 128GB",
         "186g",
         "4GB",
         "5MP",
         "50MP",
         "Snapdragon 6s 4G Gen 1",
         "5000mAh",
         "6.7 inches",
         "PKR 59,999",
         "INR 34,999",
         "CNY 2,999",
         "USD 399",
         "AED 1,499",
         2024
        ],
        [
         "Oppo",
         "A3x 128GB",
         "186g",
         "4GB",
         "8MP",
         "8MP + 2MP",
         "Snapdragon 6s 4G Gen 1",
         "5100mAh",
         "6.67 inches",
         "PKR 64,999",
         "INR 36,999",
         "CNY 3,199",
         "USD 449",
         "AED 1,699",
         2024
        ],
        [
         "Oppo",
         "A3x 256GB",
         "186g",
         "6GB",
         "8MP",
         "8MP + 2MP",
         "Snapdragon 6s 4G Gen 1",
         "5100mAh",
         "6.67 inches",
         "PKR 69,999",
         "INR 39,999",
         "CNY 3,499",
         "USD 499",
         "AED 1,899",
         2024
        ],
        [
         "Oppo",
         "A3 128GB",
         "186g",
         "4GB",
         "5MP",
         "50MP",
         "Snapdragon 6s 4G Gen 1",
         "5000mAh",
         "6.7 inches",
         "PKR 59,999",
         "INR 34,999",
         "CNY 2,999",
         "USD 399",
         "AED 1,499",
         2024
        ],
        [
         "Oppo",
         "A60 128GB",
         "186g",
         "8GB",
         "8MP",
         "50MP + 2MP",
         "Snapdragon 680 4G",
         "5000mAh",
         "6.67 inches",
         "PKR 69,999",
         "INR 39,999",
         "CNY 3,199",
         "USD 449",
         "AED 1,699",
         2024
        ],
        [
         "Oppo",
         "A60 256GB",
         "186g",
         "8GB",
         "8MP",
         "50MP + 2MP",
         "Snapdragon 680 4G",
         "5000mAh",
         "6.67 inches",
         "PKR 74,999",
         "INR 42,999",
         "CNY 3,499",
         "USD 499",
         "AED 1,899",
         2024
        ],
        [
         "Oppo",
         "K12 Plus 256GB",
         "192g",
         "8GB",
         "16MP",
         "50MP",
         "Snapdragon 7 Gen 3",
         "6400mAh",
         "6.7 inches",
         "PKR 109,999",
         "INR 59,999",
         "CNY 4,999",
         "USD 699",
         "AED 2,599",
         2024
        ],
        [
         "Oppo",
         "K12 Plus 512GB",
         "192g",
         "12GB",
         "16MP",
         "50MP",
         "Snapdragon 7 Gen 3",
         "6400mAh",
         "6.7 inches",
         "PKR 119,999",
         "INR 64,999",
         "CNY 5,499",
         "USD 799",
         "AED 2,999",
         2024
        ],
        [
         "Oppo",
         "F27 128GB",
         "175g",
         "8GB",
         "32MP",
         "64MP + 2MP",
         "Dimensity 7050",
         "5000mAh",
         "6.7 inches",
         "PKR 79,999",
         "INR 44,999",
         "CNY 3,499",
         "USD 499",
         "AED 1,899",
         2024
        ],
        [
         "Oppo",
         "F27 256GB",
         "175g",
         "8GB",
         "32MP",
         "64MP + 2MP",
         "Dimensity 7050",
         "5000mAh",
         "6.7 inches",
         "PKR 84,999",
         "INR 47,999",
         "CNY 3,799",
         "USD 549",
         "AED 2,099",
         2024
        ],
        [
         "Oppo",
         "F27 Pro+ 256GB",
         "177g",
         "8GB",
         "32MP",
         "64MP + 2MP",
         "Dimensity 7050",
         "5000mAh",
         "6.7 inches",
         "PKR 89,999",
         "INR 49,999",
         "CNY 3,999",
         "USD 599",
         "AED 2,199",
         2024
        ],
        [
         "Oppo",
         "F27 Pro+ 512GB",
         "177g",
         "12GB",
         "32MP",
         "64MP + 2MP",
         "Dimensity 7050",
         "5000mAh",
         "6.7 inches",
         "PKR 99,999",
         "INR 54,999",
         "CNY 4,499",
         "USD 699",
         "AED 2,499",
         2024
        ],
        [
         "Oppo",
         "F25 Pro 128GB",
         "173g",
         "8GB",
         "32MP",
         "64MP + 2MP",
         "Snapdragon 778G",
         "4500mAh",
         "6.55 inches",
         "PKR 74,999",
         "INR 42,999",
         "CNY 3,499",
         "USD 549",
         "AED 1,999",
         2023
        ],
        [
         "Oppo",
         "F25 Pro 256GB",
         "173g",
         "8GB",
         "32MP",
         "64MP + 2MP",
         "Snapdragon 778G",
         "4500mAh",
         "6.55 inches",
         "PKR 79,999",
         "INR 44,999",
         "CNY 3,799",
         "USD 599",
         "AED 2,199",
         2023
        ],
        [
         "Oppo",
         "Pad 3 128GB",
         "533g",
         "8GB",
         "8MP",
         "13MP",
         "Dimensity 8350",
         "9510mAh",
         "11.6 inches",
         "PKR 99,999",
         "INR 54,999",
         "CNY 4,499",
         "USD 699",
         "AED 2,499",
         2024
        ],
        [
         "Oppo",
         "Pad 3 256GB",
         "533g",
         "12GB",
         "8MP",
         "13MP",
         "Dimensity 8350",
         "9510mAh",
         "11.6 inches",
         "PKR 109,999",
         "INR 59,999",
         "CNY 4,999",
         "USD 799",
         "AED 2,799",
         2024
        ],
        [
         "Oppo",
         "Pad 3 Pro 256GB",
         "586g",
         "12GB",
         "8MP",
         "13MP",
         "Snapdragon 8 Gen 3",
         "9510mAh",
         "12.1 inches",
         "PKR 119,999",
         "INR 64,999",
         "CNY 5,499",
         "USD 899",
         "AED 3,299",
         2024
        ],
        [
         "Oppo",
         "Pad 3 Pro 512GB",
         "586g",
         "16GB",
         "8MP",
         "13MP",
         "Snapdragon 8 Gen 3",
         "9510mAh",
         "12.1 inches",
         "PKR 129,999",
         "INR 69,999",
         "CNY 5,999",
         "USD 999",
         "AED 3,699",
         2024
        ],
        [
         "Oppo",
         "Pad Neo 128GB",
         "520g",
         "6GB",
         "8MP",
         "13MP",
         "Snapdragon 870",
         "8360mAh",
         "11 inches",
         "PKR 79,999",
         "INR 44,999",
         "CNY 3,499",
         "USD 499",
         "AED 1,899",
         2023
        ],
        [
         "Oppo",
         "Pad Neo 256GB",
         "520g",
         "8GB",
         "8MP",
         "13MP",
         "Snapdragon 870",
         "8360mAh",
         "11 inches",
         "PKR 89,999",
         "INR 49,999",
         "CNY 3,999",
         "USD 599",
         "AED 2,199",
         2023
        ],
        [
         "Oppo",
         "Find X7 Ultra 256GB",
         "221g",
         "12GB",
         "32MP",
         "50MP + 50MP + 50MP",
         "Snapdragon 8 Gen 3",
         "5000mAh",
         "6.82 inches",
         "PKR 199,999",
         "INR 109,999",
         "CNY 7,999",
         "USD 1,199",
         "AED 4,399",
         2024
        ],
        [
         "Oppo",
         "Find X7 Ultra 512GB",
         "221g",
         "16GB",
         "32MP",
         "50MP + 50MP + 50MP",
         "Snapdragon 8 Gen 3",
         "5000mAh",
         "6.82 inches",
         "PKR 219,999",
         "INR 119,999",
         "CNY 8,999",
         "USD 1,299",
         "AED 4,799",
         2024
        ],
        [
         "Oppo",
         "Find X7 256GB",
         "206g",
         "12GB",
         "32MP",
         "50MP + 50MP + 64MP",
         "Dimensity 9300",
         "5000mAh",
         "6.78 inches",
         "PKR 179,999",
         "INR 99,999",
         "CNY 6,999",
         "USD 1,099",
         "AED 3,999",
         2024
        ],
        [
         "Oppo",
         "Find X7 512GB",
         "206g",
         "16GB",
         "32MP",
         "50MP + 50MP + 64MP",
         "Dimensity 9300",
         "5000mAh",
         "6.78 inches",
         "PKR 199,999",
         "INR 109,999",
         "CNY 7,999",
         "USD 1,199",
         "AED 4,399",
         2024
        ],
        [
         "Oppo",
         "Find X6 Pro 256GB",
         "218g",
         "12GB",
         "32MP",
         "50MP + 50MP + 50MP",
         "Snapdragon 8 Gen 2",
         "5000mAh",
         "6.82 inches",
         "PKR 169,999",
         "INR 94,999",
         "CNY 6,499",
         "USD 999",
         "AED 3,699",
         2023
        ],
        [
         "Oppo",
         "Find X6 Pro 512GB",
         "218g",
         "16GB",
         "32MP",
         "50MP + 50MP + 50MP",
         "Snapdragon 8 Gen 2",
         "5000mAh",
         "6.82 inches",
         "PKR 189,999",
         "INR 104,999",
         "CNY 7,499",
         "USD 1,099",
         "AED 4,099",
         2023
        ],
        [
         "Oppo",
         "Find X6 256GB",
         "207g",
         "12GB",
         "32MP",
         "50MP + 50MP + 50MP",
         "Dimensity 9200",
         "4800mAh",
         "6.74 inches",
         "PKR 149,999",
         "INR 84,999",
         "CNY 5,999",
         "USD 899",
         "AED 3,299",
         2023
        ],
        [
         "Oppo",
         "Find X6 512GB",
         "207g",
         "16GB",
         "32MP",
         "50MP + 50MP + 50MP",
         "Dimensity 9200",
         "4800mAh",
         "6.74 inches",
         "PKR 169,999",
         "INR 94,999",
         "CNY 6,999",
         "USD 999",
         "AED 3,699",
         2023
        ],
        [
         "Oppo",
         "Find X5 Pro 256GB",
         "218g",
         "12GB",
         "32MP",
         "50MP + 50MP + 13MP",
         "Snapdragon 8 Gen 1",
         "5000mAh",
         "6.7 inches",
         "PKR 159,999",
         "INR 89,999",
         "CNY 5,999",
         "USD 899",
         "AED 3,299",
         2022
        ],
        [
         "Oppo",
         "Find X5 Pro 512GB",
         "218g",
         "16GB",
         "32MP",
         "50MP + 50MP + 13MP",
         "Snapdragon 8 Gen 1",
         "5000mAh",
         "6.7 inches",
         "PKR 179,999",
         "INR 99,999",
         "CNY 6,999",
         "USD 999",
         "AED 3,699",
         2022
        ],
        [
         "Oppo",
         "Find X5 256GB",
         "196g",
         "8GB",
         "32MP",
         "50MP + 50MP + 13MP",
         "Snapdragon 888",
         "4800mAh",
         "6.55 inches",
         "PKR 139,999",
         "INR 79,999",
         "CNY 4,999",
         "USD 799",
         "AED 2,999",
         2022
        ],
        [
         "Oppo",
         "Find N2 Flip 256GB",
         "191g",
         "8GB",
         "32MP",
         "50MP + 8MP",
         "Dimensity 9000+",
         "4300mAh",
         "6.8 inches",
         "PKR 149,999",
         "INR 84,999",
         "CNY 5,999",
         "USD 899",
         "AED 3,299",
         2023
        ],
        [
         "Oppo",
         "Find N2 Flip 512GB",
         "191g",
         "12GB",
         "32MP",
         "50MP + 8MP",
         "Dimensity 9000+",
         "4300mAh",
         "6.8 inches",
         "PKR 169,999",
         "INR 94,999",
         "CNY 6,999",
         "USD 999",
         "AED 3,699",
         2023
        ],
        [
         "Oppo",
         "Find N2 256GB",
         "233g",
         "12GB",
         "32MP",
         "50MP + 48MP + 32MP",
         "Snapdragon 8+ Gen 1",
         "4520mAh",
         "7.1 inches",
         "PKR 179,999",
         "INR 99,999",
         "CNY 6,999",
         "USD 1,099",
         "AED 3,999",
         2022
        ],
        [
         "Oppo",
         "Reno10 5G 128GB",
         "180g",
         "8GB",
         "32MP",
         "64MP + 32MP + 8MP",
         "Dimensity 7050",
         "5,000mAh",
         "6.7 inches",
         "PKR 129,999",
         "INR 38,999",
         "CNY 2,699",
         "USD 499",
         "AED 1,899",
         2023
        ],
        [
         "Oppo",
         "Reno10 5G 256GB",
         "180g",
         "8GB",
         "32MP",
         "64MP + 32MP + 8MP",
         "Dimensity 7050",
         "5,000mAh",
         "6.7 inches",
         "PKR 149,999",
         "INR 42,999",
         "CNY 2,999",
         "USD 549",
         "AED 2,099",
         2023
        ],
        [
         "Oppo",
         "Reno10 Pro 5G 256GB",
         "186g",
         "12GB",
         "32MP",
         "50MP + 32MP + 8MP",
         "Snapdragon 778G",
         "4,600mAh",
         "6.7 inches",
         "PKR 169,999",
         "INR 44,999",
         "CNY 3,499",
         "USD 599",
         "AED 2,299",
         2023
        ],
        [
         "Oppo",
         "Reno10 Pro+ 5G 256GB",
         "194g",
         "16GB",
         "32MP",
         "50MP + 64MP + 8MP",
         "Snapdragon 8+ Gen 1",
         "4,700mAh",
         "6.74 inches",
         "PKR 199,999",
         "INR 54,999",
         "CNY 3,999",
         "USD 699",
         "AED 2,599",
         2023
        ],
        [
         "Oppo",
         "Reno9 5G 128GB",
         "174g",
         "8GB",
         "32MP",
         "64MP + 2MP",
         "Snapdragon 778G",
         "4,500mAh",
         "6.7 inches",
         "PKR 109,999",
         "INR 32,999",
         "CNY 2,399",
         "USD 449",
         "AED 1,699",
         2022
        ],
        [
         "Oppo",
         "Reno9 5G 256GB",
         "174g",
         "12GB",
         "32MP",
         "64MP + 2MP",
         "Snapdragon 778G",
         "4,500mAh",
         "6.7 inches",
         "PKR 129,999",
         "INR 36,999",
         "CNY 2,699",
         "USD 499",
         "AED 1,899",
         2022
        ],
        [
         "Oppo",
         "Reno9 Pro 5G 256GB",
         "184g",
         "16GB",
         "32MP",
         "50MP + 8MP",
         "Dimensity 8100",
         "4,500mAh",
         "6.7 inches",
         "PKR 159,999",
         "INR 42,999",
         "CNY 3,299",
         "USD 599",
         "AED 2,199",
         2022
        ],
        [
         "Oppo",
         "Reno9 Pro+ 5G 256GB",
         "192g",
         "16GB",
         "32MP",
         "50MP + 8MP + 2MP",
         "Snapdragon 8+ Gen 1",
         "4,700mAh",
         "6.7 inches",
         "PKR 189,999",
         "INR 52,999",
         "CNY 3,799",
         "USD 649",
         "AED 2,499",
         2022
        ],
        [
         "Oppo",
         "Reno8 5G 128GB",
         "179g",
         "8GB",
         "32MP",
         "50MP + 8MP + 2MP",
         "Dimensity 1300",
         "4,500mAh",
         "6.4 inches",
         "PKR 89,999",
         "INR 29,999",
         "CNY 2,199",
         "USD 399",
         "AED 1,499",
         2022
        ],
        [
         "Oppo",
         "Reno8 5G 256GB",
         "179g",
         "12GB",
         "32MP",
         "50MP + 8MP + 2MP",
         "Dimensity 1300",
         "4,500mAh",
         "6.4 inches",
         "PKR 99,999",
         "INR 34,999",
         "CNY 2,499",
         "USD 449",
         "AED 1,699",
         2022
        ],
        [
         "Oppo",
         "Reno8 Pro 5G 256GB",
         "183g",
         "12GB",
         "32MP",
         "50MP + 8MP + 2MP",
         "Dimensity 8100",
         "4,500mAh",
         "6.7 inches",
         "PKR 129,999",
         "INR 42,999",
         "CNY 3,099",
         "USD 549",
         "AED 1,999",
         2022
        ],
        [
         "Oppo",
         "Reno8 Pro+ 5G 256GB",
         "195g",
         "12GB",
         "32MP",
         "50MP + 8MP + 2MP",
         "Dimensity 8100",
         "4,500mAh",
         "6.7 inches",
         "PKR 139,999",
         "INR 46,999",
         "CNY 3,399",
         "USD 599",
         "AED 2,199",
         2022
        ],
        [
         "Oppo",
         "Reno7 5G 128GB",
         "173g",
         "8GB",
         "32MP",
         "64MP + 8MP + 2MP",
         "Dimensity 900",
         "4,500mAh",
         "6.4 inches",
         "PKR 79,999",
         "INR 28,999",
         "CNY 1,999",
         "USD 349",
         "AED 1,299",
         2021
        ],
        [
         "Oppo",
         "Reno7 5G 256GB",
         "173g",
         "12GB",
         "32MP",
         "64MP + 8MP + 2MP",
         "Dimensity 900",
         "4,500mAh",
         "6.4 inches",
         "PKR 89,999",
         "INR 32,999",
         "CNY 2,199",
         "USD 399",
         "AED 1,499",
         2021
        ],
        [
         "Oppo",
         "Reno7 Pro 5G 256GB",
         "180g",
         "12GB",
         "32MP",
         "50MP + 8MP + 2MP",
         "Dimensity 1200",
         "4,500mAh",
         "6.55 inches",
         "PKR 109,999",
         "INR 39,999",
         "CNY 2,799",
         "USD 499",
         "AED 1,799",
         2021
        ],
        [
         "Oppo",
         "Reno6 5G 128GB",
         "182g",
         "8GB",
         "32MP",
         "64MP + 8MP + 2MP",
         "Dimensity 900",
         "4,300mAh",
         "6.43 inches",
         "PKR 79,999",
         "INR 29,999",
         "CNY 2,399",
         "USD 349",
         "AED 1,299",
         2021
        ],
        [
         "Oppo",
         "Reno6 5G 256GB",
         "182g",
         "12GB",
         "32MP",
         "64MP + 8MP + 2MP",
         "Dimensity 900",
         "4,300mAh",
         "6.43 inches",
         "PKR 89,999",
         "INR 32,999",
         "CNY 2,699",
         "USD 399",
         "AED 1,499",
         2021
        ],
        [
         "Oppo",
         "Reno6 Pro 5G 128GB",
         "177g",
         "8GB",
         "32MP",
         "64MP + 8MP + 2MP + 2MP",
         "Dimensity 1200",
         "4,500mAh",
         "6.55 inches",
         "PKR 99,999",
         "INR 39,999",
         "CNY 2,999",
         "USD 449",
         "AED 1,699",
         2021
        ],
        [
         "Oppo",
         "Reno6 Pro 5G 256GB",
         "177g",
         "12GB",
         "32MP",
         "64MP + 8MP + 2MP + 2MP",
         "Dimensity 1200",
         "4,500mAh",
         "6.55 inches",
         "PKR 109,999",
         "INR 44,999",
         "CNY 3,299",
         "USD 499",
         "AED 1,899",
         2021
        ],
        [
         "Oppo",
         "Reno6 Pro+ 5G 256GB",
         "188g",
         "12GB",
         "32MP",
         "50MP + 13MP + 16MP + 2MP",
         "Snapdragon 870",
         "4,500mAh",
         "6.55 inches",
         "PKR 129,999",
         "INR 49,999",
         "CNY 3,999",
         "USD 599",
         "AED 2,199",
         2021
        ],
        [
         "Oppo",
         "Reno5 5G 128GB",
         "180g",
         "8GB",
         "32MP",
         "64MP + 8MP + 2MP + 2MP",
         "Snapdragon 765G",
         "4,300mAh",
         "6.43 inches",
         "PKR 69,999",
         "INR 26,999",
         "CNY 2,099",
         "USD 299",
         "AED 1,099",
         2020
        ],
        [
         "Oppo",
         "Reno5 5G 256GB",
         "180g",
         "12GB",
         "32MP",
         "64MP + 8MP + 2MP + 2MP",
         "Snapdragon 765G",
         "4,300mAh",
         "6.43 inches",
         "PKR 79,999",
         "INR 29,999",
         "CNY 2,399",
         "USD 349",
         "AED 1,299",
         2020
        ],
        [
         "Oppo",
         "Reno5 Pro 5G 128GB",
         "173g",
         "8GB",
         "32MP",
         "64MP + 8MP + 2MP + 2MP",
         "Dimensity 1000+",
         "4,350mAh",
         "6.55 inches",
         "PKR 89,999",
         "INR 32,999",
         "CNY 2,799",
         "USD 399",
         "AED 1,499",
         2020
        ],
        [
         "Oppo",
         "Reno5 Pro 5G 256GB",
         "173g",
         "12GB",
         "32MP",
         "64MP + 8MP + 2MP + 2MP",
         "Dimensity 1000+",
         "4,350mAh",
         "6.55 inches",
         "PKR 99,999",
         "INR 36,999",
         "CNY 3,099",
         "USD 449",
         "AED 1,699",
         2020
        ],
        [
         "Oppo",
         "Reno5 Pro+ 5G 256GB",
         "184g",
         "12GB",
         "32MP",
         "50MP + 16MP + 13MP + 2MP",
         "Snapdragon 865",
         "4,500mAh",
         "6.55 inches",
         "PKR 119,999",
         "INR 44,999",
         "CNY 3,799",
         "USD 599",
         "AED 2,099",
         2020
        ],
        [
         "Oppo",
         "Reno4 5G 128GB",
         "183g",
         "8GB",
         "32MP",
         "48MP + 8MP + 2MP + 2MP",
         "Snapdragon 765G",
         "4,000mAh",
         "6.43 inches",
         "PKR 59,999",
         "INR 24,999",
         "CNY 1,899",
         "USD 299",
         "AED 999",
         2020
        ],
        [
         "Oppo",
         "Reno4 5G 256GB",
         "183g",
         "8GB",
         "32MP",
         "48MP + 8MP + 2MP + 2MP",
         "Snapdragon 765G",
         "4,000mAh",
         "6.43 inches",
         "PKR 69,999",
         "INR 26,999",
         "CNY 2,199",
         "USD 349",
         "AED 1,199",
         2020
        ],
        [
         "Oppo",
         "Reno4 Pro 5G 256GB",
         "172g",
         "12GB",
         "32MP",
         "48MP + 13MP + 12MP",
         "Snapdragon 765G",
         "4,000mAh",
         "6.55 inches",
         "PKR 99,999",
         "INR 39,999",
         "CNY 3,299",
         "USD 499",
         "AED 1,799",
         2020
        ],
        [
         "Oppo",
         "Reno3 5G 128GB",
         "181g",
         "8GB",
         "32MP",
         "64MP + 8MP + 2MP + 2MP",
         "Dimensity 1000L",
         "4,025mAh",
         "6.4 inches",
         "PKR 49,999",
         "INR 22,999",
         "CNY 1,799",
         "USD 249",
         "AED 899",
         2019
        ],
        [
         "Oppo",
         "Reno3 5G 256GB",
         "181g",
         "12GB",
         "32MP",
         "64MP + 8MP + 2MP + 2MP",
         "Dimensity 1000L",
         "4,025mAh",
         "6.4 inches",
         "PKR 59,999",
         "INR 26,999",
         "CNY 2,099",
         "USD 299",
         "AED 1,099",
         2019
        ],
        [
         "Oppo",
         "Reno3 Pro 5G 256GB",
         "171g",
         "12GB",
         "32MP",
         "48MP + 13MP + 8MP + 2MP",
         "Snapdragon 765G",
         "4,025mAh",
         "6.5 inches",
         "PKR 79,999",
         "INR 34,999",
         "CNY 3,299",
         "USD 499",
         "AED 1,799",
         2019
        ],
        [
         "Oppo",
         "A59 5G 128GB",
         "186g",
         "6GB",
         "8MP",
         "13MP + 2MP",
         "MediaTek Dimensity 6020",
         "5,000mAh",
         "6.56 inches",
         "PKR 39,999",
         "INR 14,999",
         "CNY 1,699",
         "USD 199",
         "AED 1,000",
         2023
        ],
        [
         "Oppo",
         "A59 5G 256GB",
         "186g",
         "8GB",
         "8MP",
         "13MP + 2MP",
         "MediaTek Dimensity 6020",
         "5,000mAh",
         "6.56 inches",
         "PKR 44,999",
         "INR 16,999",
         "CNY 1,899",
         "USD 229",
         "AED 1,200",
         2023
        ],
        [
         "Oppo",
         "A58 5G 256GB",
         "188g",
         "8GB",
         "8MP",
         "50MP + 2MP",
         "MediaTek Dimensity 700",
         "5,000mAh",
         "6.56 inches",
         "PKR 49,999",
         "INR 19,000",
         "CNY 1,699",
         "USD 249",
         "AED 1,300",
         2022
        ],
        [
         "Oppo",
         "A57 5G 128GB",
         "186g",
         "6GB",
         "8MP",
         "13MP + 2MP",
         "MediaTek Dimensity 810",
         "5,000mAh",
         "6.56 inches",
         "PKR 34,999",
         "INR 15,999",
         "CNY 1,599",
         "USD 219",
         "AED 1,100",
         2022
        ],
        [
         "Oppo",
         "A56 5G 128GB",
         "189g",
         "6GB",
         "8MP",
         "13MP + 2MP",
         "MediaTek Dimensity 700",
         "5,000mAh",
         "6.5 inches",
         "PKR 32,999",
         "INR 14,999",
         "CNY 1,499",
         "USD 199",
         "AED 1,000",
         2021
        ],
        [
         "Oppo",
         "A55 5G 128GB",
         "186g",
         "6GB",
         "8MP",
         "13MP + 2MP + 2MP",
         "MediaTek Dimensity 700",
         "5,000mAh",
         "6.5 inches",
         "PKR 29,999",
         "INR 13,999",
         "CNY 1,399",
         "USD 189",
         "AED 950",
         2021
        ],
        [
         "Oppo",
         "A54 5G 128GB",
         "190g",
         "6GB",
         "16MP",
         "48MP + 8MP + 2MP + 2MP",
         "Qualcomm Snapdragon 480",
         "5,000mAh",
         "6.5 inches",
         "PKR 34,999",
         "INR 15,999",
         "CNY 1,599",
         "USD 219",
         "AED 1,100",
         2021
        ],
        [
         "Oppo",
         "A53 5G 128GB",
         "175g",
         "4GB",
         "8MP",
         "16MP + 2MP + 2MP",
         "MediaTek Dimensity 720",
         "4,040mAh",
         "6.5 inches",
         "PKR 27,999",
         "INR 12,999",
         "CNY 1,299",
         "USD 179",
         "AED 900",
         2020
        ],
        [
         "Oppo",
         "A52 5G 128GB",
         "184g",
         "4GB",
         "8MP",
         "12MP + 8MP + 2MP + 2MP",
         "MediaTek Dimensity 720",
         "4,000mAh",
         "6.5 inches",
         "PKR 25,999",
         "INR 11,999",
         "CNY 1,199",
         "USD 169",
         "AED 850",
         2020
        ],
        [
         "Oppo",
         "A51 5G 128GB",
         "186g",
         "4GB",
         "8MP",
         "13MP + 2MP + 2MP",
         "MediaTek Dimensity 700",
         "4,000mAh",
         "6.5 inches",
         "PKR 23,999",
         "INR 10,999",
         "CNY 1,099",
         "USD 149",
         "AED 800",
         2020
        ],
        [
         "Oppo",
         "A50 5G 128GB",
         "185g",
         "4GB",
         "8MP",
         "13MP + 2MP",
         "MediaTek Dimensity 700",
         "4,000mAh",
         "6.5 inches",
         "PKR 21,999",
         "INR 9,999",
         "CNY 999",
         "USD 139",
         "AED 750",
         2020
        ],
        [
         "Oppo",
         "A49 5G 128GB",
         "185g",
         "4GB",
         "8MP",
         "13MP + 2MP",
         "MediaTek Dimensity 700",
         "4,000mAh",
         "6.5 inches",
         "PKR 19,999",
         "INR 8,999",
         "CNY 899",
         "USD 129",
         "AED 700",
         2020
        ],
        [
         "Oppo",
         "A40 128GB",
         "186g",
         "4GB",
         "5MP",
         "50MP",
         "Qualcomm Snapdragon 6s Gen 1",
         "5,100mAh",
         "6.67 inches",
         "PKR 39,999",
         "INR 19,999",
         "CNY 1,499",
         "USD 199",
         "AED 1,000",
         2024
        ],
        [
         "Oppo",
         "A40 256GB",
         "186g",
         "6GB",
         "5MP",
         "50MP",
         "Qualcomm Snapdragon 6s Gen 1",
         "5,100mAh",
         "6.67 inches",
         "PKR 44,999",
         "INR 22,999",
         "CNY 1,799",
         "USD 229",
         "AED 1,200",
         2024
        ],
        [
         "Oppo",
         "K11x 128GB",
         "195g",
         "8GB",
         "16MP",
         "108MP + 2MP",
         "Qualcomm Snapdragon 695",
         "5,000mAh",
         "6.72 inches",
         "PKR 59,999",
         "INR 18,000",
         "CNY 1,499",
         "USD 199",
         "AED 1,000",
         2023
        ],
        [
         "Oppo",
         "K11x 256GB",
         "195g",
         "12GB",
         "16MP",
         "108MP + 2MP",
         "Qualcomm Snapdragon 695",
         "5,000mAh",
         "6.72 inches",
         "PKR 64,999",
         "INR 20,000",
         "CNY 1,699",
         "USD 229",
         "AED 1,200",
         2023
        ],
        [
         "Oppo",
         "K10x 128GB",
         "195g",
         "6GB",
         "16MP",
         "64MP + 2MP + 2MP",
         "Qualcomm Snapdragon 695",
         "5,000mAh",
         "6.59 inches",
         "PKR 54,999",
         "INR 16,990",
         "CNY 1,499",
         "USD 199",
         "AED 1,000",
         2022
        ],
        [
         "Oppo",
         "K10x 256GB",
         "195g",
         "8GB",
         "16MP",
         "64MP + 2MP + 2MP",
         "Qualcomm Snapdragon 695",
         "5,000mAh",
         "6.59 inches",
         "PKR 59,999",
         "INR 18,990",
         "CNY 1,699",
         "USD 229",
         "AED 1,200",
         2022
        ],
        [
         "Oppo",
         "K10 5G 128GB",
         "205g",
         "8GB",
         "16MP",
         "64MP + 8MP + 2MP",
         "MediaTek Dimensity 8000-Max",
         "5,000mAh",
         "6.59 inches",
         "PKR 64,999",
         "INR 19,999",
         "CNY 1,799",
         "USD 249",
         "AED 1,300",
         2022
        ],
        [
         "Oppo",
         "K9x 128GB",
         "194g",
         "6GB",
         "16MP",
         "64MP + 2MP + 2MP",
         "MediaTek Dimensity 810",
         "5,000mAh",
         "6.5 inches",
         "PKR 49,999",
         "INR 15,999",
         "CNY 1,499",
         "USD 199",
         "AED 1,000",
         2021
        ],
        [
         "Oppo",
         "K9x 256GB",
         "194g",
         "8GB",
         "16MP",
         "64MP + 2MP + 2MP",
         "MediaTek Dimensity 810",
         "5,000mAh",
         "6.5 inches",
         "PKR 54,999",
         "INR 17,999",
         "CNY 1,699",
         "USD 229",
         "AED 1,200",
         2021
        ],
        [
         "Oppo",
         "K9 Pro 5G 128GB",
         "180g",
         "8GB",
         "16MP",
         "64MP + 8MP + 2MP",
         "MediaTek Dimensity 1200",
         "4,500mAh",
         "6.43 inches",
         "PKR 69,999",
         "INR 24,999",
         "CNY 2,199",
         "USD 299",
         "AED 1,500",
         2021
        ],
        [
         "Oppo",
         "K9 Pro 5G 256GB",
         "180g",
         "12GB",
         "16MP",
         "64MP + 8MP + 2MP",
         "MediaTek Dimensity 1200",
         "4,500mAh",
         "6.43 inches",
         "PKR 74,999",
         "INR 27,999",
         "CNY 2,499",
         "USD 329",
         "AED 1,700",
         2021
        ],
        [
         "Oppo",
         "K9 5G 128GB",
         "172g",
         "8GB",
         "32MP",
         "64MP + 8MP + 2MP",
         "Qualcomm Snapdragon 768G",
         "4,300mAh",
         "6.43 inches",
         "PKR 59,999",
         "INR 22,999",
         "CNY 1,999",
         "USD 279",
         "AED 1,400",
         2021
        ],
        [
         "Oppo",
         "K9 5G 256GB",
         "172g",
         "8GB",
         "32MP",
         "64MP + 8MP + 2MP",
         "Qualcomm Snapdragon 768G",
         "4,300mAh",
         "6.43 inches",
         "PKR 64,999",
         "INR 24,999",
         "CNY 2,199",
         "USD 299",
         "AED 1,500",
         2021
        ],
        [
         "Oppo",
         "K7x 128GB",
         "194g",
         "6GB",
         "16MP",
         "48MP + 8MP + 2MP + 2MP",
         "MediaTek Dimensity 720",
         "5,000mAh",
         "6.5 inches",
         "PKR 44,999",
         "INR 14,999",
         "CNY 1,499",
         "USD 199",
         "AED 1,000",
         2020
        ],
        [
         "Oppo",
         "K7 5G 128GB",
         "180g",
         "8GB",
         "32MP",
         "48MP + 8MP + 2MP + 2MP",
         "Qualcomm Snapdragon 765G",
         "4,025mAh",
         "6.4 inches",
         "PKR 49,999",
         "INR 19,999",
         "CNY 1,999",
         "USD 279",
         "AED 1,400",
         2020
        ],
        [
         "Oppo",
         "K7 5G 256GB",
         "180g",
         "8GB",
         "32MP",
         "48MP + 8MP + 2MP + 2MP",
         "Qualcomm Snapdragon 765G",
         "4,025mAh",
         "6.4 inches",
         "PKR 54,999",
         "INR 21,999",
         "CNY 2,199",
         "USD 299",
         "AED 1,500",
         2020
        ],
        [
         "Oppo",
         "K11x 128GB",
         "195g",
         "8GB",
         "16MP",
         "108MP + 2MP",
         "Qualcomm Snapdragon 695",
         "5,000mAh",
         "6.72 inches",
         "PKR 59,999",
         "INR 18,000",
         "CNY 1,499",
         "USD 199",
         "AED 1,000",
         2023
        ],
        [
         "Oppo",
         "K11x 256GB",
         "195g",
         "12GB",
         "16MP",
         "108MP + 2MP",
         "Qualcomm Snapdragon 695",
         "5,000mAh",
         "6.72 inches",
         "PKR 64,999",
         "INR 20,000",
         "CNY 1,699",
         "USD 229",
         "AED 1,200",
         2023
        ],
        [
         "Oppo",
         "K11 128GB",
         "184g",
         "8GB",
         "16MP",
         "64MP + 8MP + 2MP",
         "Qualcomm Snapdragon 782G",
         "5,000mAh",
         "6.7 inches",
         "PKR 69,999",
         "INR 21,999",
         "CNY 1,899",
         "USD 259",
         "AED 1,300",
         2023
        ],
        [
         "Oppo",
         "K11 256GB",
         "184g",
         "12GB",
         "16MP",
         "64MP + 8MP + 2MP",
         "Qualcomm Snapdragon 782G",
         "5,000mAh",
         "6.7 inches",
         "PKR 74,999",
         "INR 24,999",
         "CNY 2,199",
         "USD 299",
         "AED 1,500",
         2023
        ],
        [
         "Oppo",
         "K10x 128GB",
         "195g",
         "6GB",
         "16MP",
         "64MP + 2MP + 2MP",
         "Qualcomm Snapdragon 695",
         "5,000mAh",
         "6.59 inches",
         "PKR 54,999",
         "INR 16,990",
         "CNY 1,499",
         "USD 199",
         "AED 1,000",
         2022
        ],
        [
         "Oppo",
         "K10x 256GB",
         "195g",
         "8GB",
         "16MP",
         "64MP + 2MP + 2MP",
         "Qualcomm Snapdragon 695",
         "5,000mAh",
         "6.59 inches",
         "PKR 59,999",
         "INR 18,990",
         "CNY 1,699",
         "USD 229",
         "AED 1,200",
         2022
        ],
        [
         "Oppo",
         "K10 5G 128GB",
         "205g",
         "8GB",
         "16MP",
         "64MP + 8MP + 2MP",
         "MediaTek Dimensity 8000-Max",
         "5,000mAh",
         "6.59 inches",
         "PKR 64,999",
         "INR 19,999",
         "CNY 1,799",
         "USD 249",
         "AED 1,300",
         2022
        ],
        [
         "Oppo",
         "K10 5G 256GB",
         "205g",
         "12GB",
         "16MP",
         "64MP + 8MP + 2MP",
         "MediaTek Dimensity 8000-Max",
         "5,000mAh",
         "6.59 inches",
         "PKR 69,999",
         "INR 22,999",
         "CNY 2,099",
         "USD 279",
         "AED 1,500",
         2022
        ],
        [
         "Oppo",
         "K9x 128GB",
         "194g",
         "6GB",
         "16MP",
         "64MP + 2MP + 2MP",
         "MediaTek Dimensity 810",
         "5,000mAh",
         "6.5 inches",
         "PKR 49,999",
         "INR 15,999",
         "CNY 1,499",
         "USD 199",
         "AED 1,000",
         2021
        ],
        [
         "Oppo",
         "K9x 256GB",
         "194g",
         "8GB",
         "16MP",
         "64MP + 2MP + 2MP",
         "MediaTek Dimensity 810",
         "5,000mAh",
         "6.5 inches",
         "PKR 54,999",
         "INR 17,999",
         "CNY 1,699",
         "USD 229",
         "AED 1,200",
         2021
        ],
        [
         "Oppo",
         "K9 Pro 5G 128GB",
         "180g",
         "8GB",
         "16MP",
         "64MP + 8MP + 2MP",
         "MediaTek Dimensity 1200",
         "4,500mAh",
         "6.43 inches",
         "PKR 69,999",
         "INR 24,999",
         "CNY 2,199",
         "USD 299",
         "AED 1,500",
         2021
        ],
        [
         "Oppo",
         "K9 Pro 5G 256GB",
         "180g",
         "12GB",
         "16MP",
         "64MP + 8MP + 2MP",
         "MediaTek Dimensity 1200",
         "4,500mAh",
         "6.43 inches",
         "PKR 74,999",
         "INR 27,999",
         "CNY 2,499",
         "USD 329",
         "AED 1,700",
         2021
        ],
        [
         "Oppo",
         "K9 5G 128GB",
         "172g",
         "8GB",
         "32MP",
         "64MP + 8MP + 2MP",
         "Qualcomm Snapdragon 768G",
         "4,300mAh",
         "6.43 inches",
         "PKR 59,999",
         "INR 22,999",
         "CNY 1,999",
         "USD 279",
         "AED 1,400",
         2021
        ],
        [
         "Oppo",
         "K9 5G 256GB",
         "172g",
         "8GB",
         "32MP",
         "64MP + 8MP + 2MP",
         "Qualcomm Snapdragon 768G",
         "4,300mAh",
         "6.43 inches",
         "PKR 64,999",
         "INR 24,999",
         "CNY 2,199",
         "USD 299",
         "AED 1,500",
         2021
        ],
        [
         "Oppo",
         "K7x 128GB",
         "194g",
         "6GB",
         "16MP",
         "48MP + 8MP + 2MP + 2MP",
         "MediaTek Dimensity 720",
         "5,000mAh",
         "6.5 inches",
         "PKR 44,999",
         "INR 14,999",
         "CNY 1,499",
         "USD 199",
         "AED 1,000",
         2020
        ],
        [
         "Oppo",
         "K7 5G 128GB",
         "180g",
         "8GB",
         "32MP",
         "48MP + 8MP + 2MP + 2MP",
         "Qualcomm Snapdragon 765G",
         "4,025mAh",
         "6.4 inches",
         "PKR 49,999",
         "INR 19,999",
         "CNY 1,999",
         "USD 279",
         "AED 1,400",
         2020
        ],
        [
         "Realme",
         "GT 7 Pro 128GB",
         "222.8g",
         "12GB",
         "16MP",
         "50MP + 50MP + 8MP",
         "Qualcomm Snapdragon 8 Elite",
         "6,500mAh",
         "6.78 inches",
         "PKR 139,999",
         "INR 59,999",
         "CNY 3,400",
         "USD 470",
         "AED 1,725",
         2024
        ],
        [
         "Realme",
         "GT 7 Pro 256GB",
         "222.8g",
         "16GB",
         "16MP",
         "50MP + 50MP + 8MP",
         "Qualcomm Snapdragon 8 Elite",
         "6,500mAh",
         "6.78 inches",
         "PKR 149,999",
         "INR 65,999",
         "CNY 3,600",
         "USD 500",
         "AED 1,840",
         2024
        ],
        [
         "Realme",
         "GT 6 128GB",
         "191g",
         "8GB",
         "32MP",
         "50MP + 8MP + 50MP",
         "Qualcomm Snapdragon 8s Gen 3",
         "5,500mAh",
         "6.78 inches",
         "PKR 89,999",
         "INR 37,999",
         "CNY 2,800",
         "USD 380",
         "AED 1,400",
         2023
        ],
        [
         "Realme",
         "GT 6 256GB",
         "191g",
         "12GB",
         "32MP",
         "50MP + 8MP + 50MP",
         "Qualcomm Snapdragon 8s Gen 3",
         "5,500mAh",
         "6.78 inches",
         "PKR 94,999",
         "INR 39,999",
         "CNY 2,900",
         "USD 400",
         "AED 1,460",
         2023
        ],
        [
         "Realme",
         "GT 6 512GB",
         "191g",
         "16GB",
         "32MP",
         "50MP + 8MP + 50MP",
         "Qualcomm Snapdragon 8s Gen 3",
         "5,500mAh",
         "6.78 inches",
         "PKR 99,999",
         "INR 41,999",
         "CNY 3,000",
         "USD 420",
         "AED 1,520",
         2023
        ],
        [
         "Realme",
         "GT 6T 128GB",
         "191g",
         "8GB",
         "32MP",
         "50MP + 8MP",
         "Qualcomm Snapdragon 7 Plus Gen 3",
         "5,500mAh",
         "6.78 inches",
         "PKR 84,999",
         "INR 28,756",
         "CNY 2,700",
         "USD 360",
         "AED 1,330",
         2023
        ],
        [
         "Realme",
         "GT 6T 256GB",
         "191g",
         "8GB",
         "32MP",
         "50MP + 8MP",
         "Qualcomm Snapdragon 7 Plus Gen 3",
         "5,500mAh",
         "6.78 inches",
         "PKR 89,999",
         "INR 30,999",
         "CNY 2,800",
         "USD 380",
         "AED 1,400",
         2023
        ],
        [
         "Realme",
         "14 Pro+ 5G 256GB",
         "184g",
         "12GB",
         "16MP",
         "50MP + 8MP + 50MP",
         "Qualcomm Snapdragon 7s Gen 3",
         "6,000mAh",
         "6.83 inches",
         "PKR 94,999",
         "INR 34,999",
         "CNY 2,600",
         "USD 340",
         "AED 1,250",
         2025
        ],
        [
         "Realme",
         "14 Pro+ 5G 512GB",
         "184g",
         "12GB",
         "16MP",
         "50MP + 8MP + 50MP",
         "Qualcomm Snapdragon 7s Gen 3",
         "6,000mAh",
         "6.83 inches",
         "PKR 99,999",
         "INR 36,999",
         "CNY 2,800",
         "USD 360",
         "AED 1,320",
         2025
        ],
        [
         "Realme",
         "14 Pro 5G 128GB",
         "184g",
         "8GB",
         "16MP",
         "50MP + 8MP",
         "MediaTek Dimensity 7300 Energy",
         "5,800mAh",
         "6.7 inches",
         "PKR 79,999",
         "INR 29,999",
         "CNY 2,400",
         "USD 320",
         "AED 1,150",
         2025
        ],
        [
         "Realme",
         "14 Pro 5G 256GB",
         "184g",
         "8GB",
         "16MP",
         "50MP + 8MP",
         "MediaTek Dimensity 7300 Energy",
         "5,800mAh",
         "6.7 inches",
         "PKR 84,999",
         "INR 31,999",
         "CNY 2,500",
         "USD 340",
         "AED 1,210",
         2025
        ],
        [
         "Realme",
         "14x 5G 128GB",
         "190g",
         "6GB",
         "16MP",
         "48MP + 2MP + 2MP",
         "Qualcomm Snapdragon 7s Gen 2",
         "5,500mAh",
         "6.6 inches",
         "PKR 64,999",
         "INR 24,999",
         "CNY 2,000",
         "USD 270",
         "AED 970",
         2025
        ],
        [
         "Realme",
         "14x 5G 256GB",
         "190g",
         "8GB",
         "16MP",
         "48MP + 2MP + 2MP",
         "Qualcomm Snapdragon 7s Gen 2",
         "5,500mAh",
         "6.6 inches",
         "PKR 69,999",
         "INR 26,999",
         "CNY 2,100",
         "USD 290",
         "AED 1,030",
         2025
        ],
        [
         "Realme",
         "13+ 5G 128GB",
         "185g",
         "8GB",
         "16MP",
         "50MP + 2MP",
         "MediaTek Dimensity 7200",
         "5,000mAh",
         "6.5 inches",
         "PKR 59,999",
         "INR 22,999",
         "CNY 1,800",
         "USD 250",
         "AED 900",
         2024
        ],
        [
         "Realme",
         "13+ 5G 256GB",
         "185g",
         "8GB",
         "16MP",
         "50MP + 2MP",
         "MediaTek Dimensity 7200",
         "5,000mAh",
         "6.5 inches",
         "PKR 64,999",
         "INR 24,999",
         "CNY 1,900",
         "USD 270",
         "AED 970",
         2024
        ],
        [
         "Realme",
         "13 5G 128GB",
         "190g",
         "6GB",
         "16MP",
         "50MP + 2MP",
         "MediaTek Dimensity 6100+",
         "5,000mAh",
         "6.6 inches",
         "PKR 49,999",
         "INR 18,999",
         "CNY 1,500",
         "USD 220",
         "AED 800",
         2024
        ],
        [
         "Realme",
         "13 5G 256GB",
         "190g",
         "8GB",
         "16MP",
         "50MP + 2MP",
         "MediaTek Dimensity 6100+",
         "5,000mAh",
         "6.6 inches",
         "PKR 54,999",
         "INR 20,999",
         "CNY 1,600",
         "USD 240",
         "AED 860",
         2024
        ],
        [
         "Realme",
         "13 Pro 5G 128GB",
         "192g",
         "8GB",
         "16MP",
         "50MP + 8MP + 2MP",
         "Qualcomm Snapdragon 7s Gen 2",
         "5,200mAh",
         "6.7 inches",
         "PKR 74,999",
         "INR 27,999",
         "CNY 2,200",
         "USD 300",
         "AED 1,070",
         2024
        ],
        [
         "Realme",
         "13 Pro 5G 256GB",
         "192g",
         "12GB",
         "16MP",
         "50MP + 8MP + 2MP",
         "Qualcomm Snapdragon 7s Gen 2",
         "5,200mAh",
         "6.7 inches",
         "PKR 79,999",
         "INR 29,999",
         "CNY 2,400",
         "USD 320",
         "AED 1,140",
         2024
        ],
        [
         "Realme",
         "13 Pro+ 5G 256GB",
         "195g",
         "12GB",
         "32MP",
         "50MP + 8MP + 50MP",
         "Qualcomm Snapdragon 7+ Gen 2",
         "5,500mAh",
         "6.78 inches",
         "PKR 94,999",
         "INR 34,999",
         "CNY 2,800",
         "USD 360",
         "AED 1,320",
         2024
        ],
        [
         "Realme",
         "13 Pro+ 5G 512GB",
         "195g",
         "16GB",
         "32MP",
         "50MP + 8MP + 50MP",
         "Qualcomm Snapdragon 7+ Gen 2",
         "5,500mAh",
         "6.78 inches",
         "PKR 99,999",
         "INR 36,999",
         "CNY 3,000",
         "USD 380",
         "AED 1,390",
         2024
        ],
        [
         "Realme",
         "P1 Speed 5G 128GB",
         "185g",
         "8GB",
         "16MP",
         "64MP + 2MP",
         "MediaTek Dimensity 8100",
         "5,100mAh",
         "6.7 inches",
         "PKR 54,999",
         "INR 19,999",
         "CNY 1,800",
         "USD 250",
         "AED 900",
         2024
        ],
        [
         "Realme",
         "P1 Speed 5G 256GB",
         "185g",
         "12GB",
         "16MP",
         "64MP + 2MP",
         "MediaTek Dimensity 8100",
         "5,100mAh",
         "6.7 inches",
         "PKR 59,999",
         "INR 21,999",
         "CNY 1,900",
         "USD 270",
         "AED 960",
         2024
        ],
        [
         "Realme",
         "P2 Pro 5G 256GB",
         "188g",
         "12GB",
         "32MP",
         "50MP + 8MP + 50MP",
         "Qualcomm Snapdragon 7+ Gen 3",
         "5,500mAh",
         "6.78 inches",
         "PKR 89,999",
         "INR 32,999",
         "CNY 2,500",
         "USD 340",
         "AED 1,210",
         2024
        ],
        [
         "Realme",
         "P2 Pro 5G 512GB",
         "188g",
         "16GB",
         "32MP",
         "50MP + 8MP + 50MP",
         "Qualcomm Snapdragon 7+ Gen 3",
         "5,500mAh",
         "6.78 inches",
         "PKR 94,999",
         "INR 34,999",
         "CNY 2,700",
         "USD 360",
         "AED 1,280",
         2024
        ],
        [
         "Realme",
         "P1 5G 128GB",
         "184g",
         "6GB",
         "16MP",
         "50MP + 2MP",
         "MediaTek Dimensity 6100+",
         "5,000mAh",
         "6.6 inches",
         "PKR 44,999",
         "INR 16,999",
         "CNY 1,400",
         "USD 200",
         "AED 720",
         2024
        ],
        [
         "Realme",
         "P1 5G 256GB",
         "184g",
         "8GB",
         "16MP",
         "50MP + 2MP",
         "MediaTek Dimensity 6100+",
         "5,000mAh",
         "6.6 inches",
         "PKR 49,999",
         "INR 18,999",
         "CNY 1,500",
         "USD 220",
         "AED 780",
         2024
        ],
        [
         "Realme",
         "P1 Pro 5G 128GB",
         "190g",
         "8GB",
         "16MP",
         "64MP + 2MP",
         "Qualcomm Snapdragon 7s Gen 1",
         "5,200mAh",
         "6.7 inches",
         "PKR 59,999",
         "INR 22,999",
         "CNY 1,900",
         "USD 270",
         "AED 960",
         2024
        ],
        [
         "Realme",
         "P1 Pro 5G 256GB",
         "190g",
         "12GB",
         "16MP",
         "64MP + 2MP",
         "Qualcomm Snapdragon 7s Gen 1",
         "5,200mAh",
         "6.7 inches",
         "PKR 64,999",
         "INR 24,999",
         "CNY 2,000",
         "USD 290",
         "AED 1,020",
         2024
        ],
        [
         "Realme",
         "Narzo 70 Turbo 5G 128GB",
         "200g",
         "8GB",
         "16MP",
         "50MP + 2MP",
         "MediaTek Dimensity 810",
         "5,000mAh",
         "6.6 inches",
         "PKR 54,999",
         "INR 19,999",
         "CNY 1,700",
         "USD 240",
         "AED 860",
         2024
        ],
        [
         "Realme",
         "Narzo 70 Turbo 5G 256GB",
         "200g",
         "8GB",
         "16MP",
         "50MP + 2MP",
         "MediaTek Dimensity 810",
         "5,000mAh",
         "6.6 inches",
         "PKR 59,999",
         "INR 21,999",
         "CNY 1,800",
         "USD 260",
         "AED 920",
         2024
        ],
        [
         "Realme",
         "Narzo N61 128GB",
         "195g",
         "6GB",
         "16MP",
         "50MP + 2MP",
         "MediaTek Helio G99",
         "5,000mAh",
         "6.5 inches",
         "PKR 39,999",
         "INR 14,999",
         "CNY 1,200",
         "USD 180",
         "AED 660",
         2024
        ],
        [
         "Realme",
         "Narzo N63 128GB",
         "193g",
         "6GB",
         "16MP",
         "50MP + 2MP",
         "MediaTek Helio G88",
         "5,000mAh",
         "6.5 inches",
         "PKR 37,999",
         "INR 13,999",
         "CNY 1,100",
         "USD 160",
         "AED 600",
         2024
        ],
        [
         "Realme",
         "Narzo N65 5G 128GB",
         "198g",
         "8GB",
         "16MP",
         "50MP + 2MP",
         "MediaTek Dimensity 700",
         "5,000mAh",
         "6.6 inches",
         "PKR 47,999",
         "INR 17,999",
         "CNY 1,500",
         "USD 210",
         "AED 780",
         2024
        ],
        [
         "Realme",
         "Narzo 70 5G 128GB",
         "198g",
         "8GB",
         "16MP",
         "50MP + 2MP",
         "MediaTek Dimensity 810",
         "5,200mAh",
         "6.6 inches",
         "PKR 52,999",
         "INR 19,499",
         "CNY 1,600",
         "USD 230",
         "AED 830",
         2024
        ],
        [
         "Realme",
         "C75 128GB",
         "190g",
         "6GB",
         "8MP",
         "50MP + 2MP",
         "MediaTek Helio G85",
         "5,000mAh",
         "6.6 inches",
         "PKR 37,999",
         "INR 13,999",
         "CNY 1,100",
         "USD 160",
         "AED 600",
         2024
        ],
        [
         "Realme",
         "C75 256GB",
         "190g",
         "8GB",
         "8MP",
         "50MP + 2MP",
         "MediaTek Helio G85",
         "5,000mAh",
         "6.6 inches",
         "PKR 42,999",
         "INR 15,999",
         "CNY 1,200",
         "USD 180",
         "AED 660",
         2024
        ],
        [
         "Realme",
         "C61 128GB",
         "189g",
         "4GB",
         "8MP",
         "50MP + 2MP",
         "Unisoc T612",
         "5,000mAh",
         "6.5 inches",
         "PKR 32,999",
         "INR 11,999",
         "CNY 900",
         "USD 130",
         "AED 500",
         2024
        ],
        [
         "Realme",
         "C67 128GB",
         "195g",
         "6GB",
         "8MP",
         "50MP + 2MP",
         "MediaTek Helio G88",
         "5,000mAh",
         "6.6 inches",
         "PKR 39,999",
         "INR 14,999",
         "CNY 1,200",
         "USD 170",
         "AED 620",
         2024
        ],
        [
         "Realme",
         "C67 256GB",
         "195g",
         "8GB",
         "8MP",
         "50MP + 2MP",
         "MediaTek Helio G88",
         "5,000mAh",
         "6.6 inches",
         "PKR 44,999",
         "INR 16,999",
         "CNY 1,300",
         "USD 190",
         "AED 680",
         2024
        ],
        [
         "Realme",
         "C65 128GB",
         "192g",
         "6GB",
         "8MP",
         "50MP + 2MP",
         "Qualcomm Snapdragon 680",
         "5,000mAh",
         "6.6 inches",
         "PKR 37,999",
         "INR 13,999",
         "CNY 1,100",
         "USD 160",
         "AED 600",
         2024
        ],
        [
         "Realme",
         "C65 256GB",
         "192g",
         "8GB",
         "8MP",
         "50MP + 2MP",
         "Qualcomm Snapdragon 680",
         "5,000mAh",
         "6.6 inches",
         "PKR 42,999",
         "INR 15,999",
         "CNY 1,200",
         "USD 180",
         "AED 660",
         2024
        ],
        [
         "Realme",
         "C63 128GB",
         "191g",
         "6GB",
         "8MP",
         "50MP + 2MP",
         "MediaTek Helio G85",
         "5,000mAh",
         "6.6 inches",
         "PKR 36,999",
         "INR 13,499",
         "CNY 1,050",
         "USD 150",
         "AED 580",
         2024
        ],
        [
         "Realme",
         "C55 128GB",
         "189g",
         "6GB",
         "8MP",
         "64MP + 2MP",
         "MediaTek Helio G88",
         "5,000mAh",
         "6.72 inches",
         "PKR 39,999",
         "INR 14,999",
         "CNY 1,200",
         "USD 170",
         "AED 620",
         2023
        ],
        [
         "Realme",
         "C55 256GB",
         "189g",
         "8GB",
         "8MP",
         "64MP + 2MP",
         "MediaTek Helio G88",
         "5,000mAh",
         "6.72 inches",
         "PKR 44,999",
         "INR 16,999",
         "CNY 1,300",
         "USD 190",
         "AED 680",
         2023
        ],
        [
         "Realme",
         "Note 60x 128GB",
         "198g",
         "6GB",
         "16MP",
         "50MP + 2MP",
         "MediaTek Dimensity 6100+",
         "5,200mAh",
         "6.6 inches",
         "PKR 47,999",
         "INR 17,999",
         "CNY 1,500",
         "USD 210",
         "AED 780",
         2024
        ],
        [
         "Realme",
         "Note 60 128GB",
         "196g",
         "6GB",
         "16MP",
         "50MP + 2MP",
         "MediaTek Dimensity 810",
         "5,200mAh",
         "6.6 inches",
         "PKR 49,999",
         "INR 18,999",
         "CNY 1,600",
         "USD 220",
         "AED 820",
         2024
        ],
        [
         "Realme",
         "Note 60 256GB",
         "196g",
         "8GB",
         "16MP",
         "50MP + 2MP",
         "MediaTek Dimensity 810",
         "5,200mAh",
         "6.6 inches",
         "PKR 54,999",
         "INR 20,999",
         "CNY 1,700",
         "USD 240",
         "AED 880",
         2024
        ],
        [
         "Realme",
         "Note 50 128GB",
         "195g",
         "6GB",
         "16MP",
         "50MP + 2MP",
         "MediaTek Helio G99",
         "5,000mAh",
         "6.5 inches",
         "PKR 42,999",
         "INR 15,999",
         "CNY 1,200",
         "USD 170",
         "AED 620",
         2024
        ],
        [
         "Realme",
         "GT 7 128GB",
         "199g",
         "8GB",
         "16MP",
         "50MP + 8MP + 2MP",
         "Qualcomm Snapdragon 8 Gen 2",
         "5,200mAh",
         "6.8 inches",
         "PKR 124,999",
         "INR 47,999",
         "CNY 3,200",
         "USD 440",
         "AED 1,620",
         2024
        ],
        [
         "Realme",
         "GT 7 256GB",
         "199g",
         "12GB",
         "16MP",
         "50MP + 8MP + 2MP",
         "Qualcomm Snapdragon 8 Gen 2",
         "5,200mAh",
         "6.8 inches",
         "PKR 139,999",
         "INR 53,999",
         "CNY 3,600",
         "USD 500",
         "AED 1,800",
         2024
        ],
        [
         "Realme",
         "Neo 7 128GB",
         "193g",
         "8GB",
         "16MP",
         "64MP + 8MP + 2MP",
         "MediaTek Dimensity 8200",
         "5,000mAh",
         "6.7 inches",
         "PKR 79,999",
         "INR 30,999",
         "CNY 2,400",
         "USD 330",
         "AED 1,200",
         2024
        ],
        [
         "Realme",
         "Neo 7 256GB",
         "193g",
         "12GB",
         "16MP",
         "64MP + 8MP + 2MP",
         "MediaTek Dimensity 8200",
         "5,000mAh",
         "6.7 inches",
         "PKR 94,999",
         "INR 36,999",
         "CNY 2,800",
         "USD 380",
         "AED 1,400",
         2024
        ],
        [
         "Realme",
         "P2 Pro 5G 128GB",
         "195g",
         "8GB",
         "16MP",
         "50MP + 8MP",
         "MediaTek Dimensity 9200",
         "5,100mAh",
         "6.7 inches",
         "PKR 84,999",
         "INR 32,999",
         "CNY 2,500",
         "USD 350",
         "AED 1,250",
         2024
        ],
        [
         "Realme",
         "P2 Pro 5G 256GB",
         "195g",
         "12GB",
         "16MP",
         "50MP + 8MP",
         "MediaTek Dimensity 9200",
         "5,100mAh",
         "6.7 inches",
         "PKR 99,999",
         "INR 38,999",
         "CNY 2,900",
         "USD 400",
         "AED 1,400",
         2024
        ],
        [
         "Realme",
         "Pad 64GB",
         "440g",
         "4GB",
         "8MP",
         "8MP",
         "MediaTek Helio G80",
         "7,100mAh",
         "10.4 inches",
         "PKR 57,999",
         "INR 19,999",
         "CNY 1,400",
         "USD 200",
         "AED 740",
         2021
        ],
        [
         "Realme",
         "Pad 128GB",
         "440g",
         "6GB",
         "8MP",
         "8MP",
         "MediaTek Helio G80",
         "7,100mAh",
         "10.4 inches",
         "PKR 64,999",
         "INR 22,999",
         "CNY 1,600",
         "USD 230",
         "AED 850",
         2021
        ],
        [
         "Realme",
         "Pad 2 128GB",
         "482g",
         "6GB",
         "8MP",
         "8MP",
         "MediaTek Helio G99",
         "8,360mAh",
         "11.5 inches",
         "PKR 74,999",
         "INR 27,999",
         "CNY 2,000",
         "USD 280",
         "AED 1,050",
         2023
        ],
        [
         "Realme",
         "Pad 2 256GB",
         "482g",
         "8GB",
         "8MP",
         "8MP",
         "MediaTek Helio G99",
         "8,360mAh",
         "11.5 inches",
         "PKR 84,999",
         "INR 31,999",
         "CNY 2,300",
         "USD 320",
         "AED 1,200",
         2023
        ],
        [
         "Realme",
         "Pad 2 Lite 64GB",
         "466g",
         "4GB",
         "8MP",
         "8MP",
         "MediaTek Helio G85",
         "7,100mAh",
         "10.4 inches",
         "PKR 54,999",
         "INR 18,999",
         "CNY 1,300",
         "USD 190",
         "AED 700",
         2023
        ],
        [
         "Realme",
         "Pad 2 Lite 128GB",
         "466g",
         "6GB",
         "8MP",
         "8MP",
         "MediaTek Helio G85",
         "7,100mAh",
         "10.4 inches",
         "PKR 61,999",
         "INR 20,999",
         "CNY 1,500",
         "USD 210",
         "AED 770",
         2023
        ],
        [
         "Realme",
         "Pad X 64GB",
         "499g",
         "4GB",
         "8MP",
         "13MP",
         "Qualcomm Snapdragon 695",
         "8,340mAh",
         "11 inches",
         "PKR 79,999",
         "INR 29,999",
         "CNY 2,200",
         "USD 310",
         "AED 1,150",
         2022
        ],
        [
         "Realme",
         "Pad X 128GB",
         "499g",
         "6GB",
         "8MP",
         "13MP",
         "Qualcomm Snapdragon 695",
         "8,340mAh",
         "11 inches",
         "PKR 89,999",
         "INR 33,999",
         "CNY 2,500",
         "USD 350",
         "AED 1,300",
         2022
        ],
        [
         "Realme",
         "Pad Mini 32GB",
         "372g",
         "3GB",
         "5MP",
         "8MP",
         "Unisoc T616",
         "6,400mAh",
         "8.7 inches",
         "PKR 44,999",
         "INR 15,999",
         "CNY 1,100",
         "USD 160",
         "AED 600",
         2022
        ],
        [
         "Realme",
         "Pad Mini 64GB",
         "372g",
         "4GB",
         "5MP",
         "8MP",
         "Unisoc T616",
         "6,400mAh",
         "8.7 inches",
         "PKR 49,999",
         "INR 17,999",
         "CNY 1,300",
         "USD 180",
         "AED 660",
         2022
        ],
        [
         "Realme",
         "Pad Slim 64GB",
         "440g",
         "4GB",
         "8MP",
         "8MP",
         "MediaTek Helio G80",
         "7,100mAh",
         "10.4 inches",
         "PKR 56,999",
         "INR 19,499",
         "CNY 1,350",
         "USD 200",
         "AED 730",
         2022
        ],
        [
         "Realme",
         "Pad Slim 128GB",
         "440g",
         "6GB",
         "8MP",
         "8MP",
         "MediaTek Helio G80",
         "7,100mAh",
         "10.4 inches",
         "PKR 62,999",
         "INR 21,999",
         "CNY 1,550",
         "USD 220",
         "AED 800",
         2022
        ],
        [
         "Realme",
         "TechLife Pad Neo 64GB",
         "465g",
         "4GB",
         "8MP",
         "8MP",
         "MediaTek Helio G85",
         "7,200mAh",
         "10.5 inches",
         "PKR 59,999",
         "INR 20,999",
         "CNY 1,400",
         "USD 210",
         "AED 770",
         2024
        ],
        [
         "Realme",
         "TechLife Pad Neo 128GB",
         "465g",
         "6GB",
         "8MP",
         "8MP",
         "MediaTek Helio G85",
         "7,200mAh",
         "10.5 inches",
         "PKR 64,999",
         "INR 22,999",
         "CNY 1,600",
         "USD 230",
         "AED 850",
         2024
        ],
        [
         "Xiaomi",
         "Xiaomi 15 Pro 256GB",
         "210g",
         "12GB",
         "32MP",
         "50MP (Main) + 50MP (Ultra-wide) + 50MP (Telephoto)",
         "Snapdragon 8 Elite",
         "6,100mAh",
         "6.73 inches",
         "PKR 199,999",
         "INR 89,999",
         "CNY 5,299",
         "USD 799",
         "AED 3,299",
         2024
        ],
        [
         "Xiaomi",
         "Xiaomi 15 Pro 512GB",
         "210g",
         "16GB",
         "32MP",
         "50MP (Main) + 50MP (Ultra-wide) + 50MP (Telephoto)",
         "Snapdragon 8 Elite",
         "6,100mAh",
         "6.73 inches",
         "PKR 219,999",
         "INR 99,999",
         "CNY 5,799",
         "USD 899",
         "AED 3,699",
         2024
        ],
        [
         "Xiaomi",
         "Xiaomi 15 Pro 1TB",
         "210g",
         "16GB",
         "32MP",
         "50MP (Main) + 50MP (Ultra-wide) + 50MP (Telephoto)",
         "Snapdragon 8 Elite",
         "6,100mAh",
         "6.73 inches",
         "PKR 239,999",
         "INR 109,999",
         "CNY 6,499",
         "USD 999",
         "AED 4,099",
         2024
        ],
        [
         "Xiaomi",
         "Xiaomi 15 256GB",
         "190g",
         "12GB",
         "32MP",
         "50MP (Main) + 50MP (Ultra-wide)",
         "Snapdragon 8 Elite",
         "5,400mAh",
         "6.36 inches",
         "PKR 179,999",
         "INR 79,999",
         "CNY 4,299",
         "USD 699",
         "AED 2,899",
         2024
        ],
        [
         "Xiaomi",
         "Xiaomi 15 512GB",
         "190g",
         "16GB",
         "32MP",
         "50MP (Main) + 50MP (Ultra-wide)",
         "Snapdragon 8 Elite",
         "5,400mAh",
         "6.36 inches",
         "PKR 199,999",
         "INR 89,999",
         "CNY 4,799",
         "USD 799",
         "AED 3,299",
         2024
        ],
        [
         "Xiaomi",
         "Xiaomi 14T Pro 256GB",
         "209g",
         "12GB",
         "32MP",
         "50MP (Main) + 50MP (Ultra-wide) + 50MP (Telephoto)",
         "Dimensity 9300+",
         "5,000mAh",
         "6.67 inches",
         "PKR 169,999",
         "INR 74,999",
         "CNY 3,999",
         "USD 634.99",
         "AED 2,699",
         2024
        ],
        [
         "Xiaomi",
         "Xiaomi 14T Pro 512GB",
         "209g",
         "12GB",
         "32MP",
         "50MP (Main) + 50MP (Ultra-wide) + 50MP (Telephoto)",
         "Dimensity 9300+",
         "5,000mAh",
         "6.67 inches",
         "PKR 189,999",
         "INR 84,999",
         "CNY 4,299",
         "USD 790.77",
         "AED 2,999",
         2024
        ],
        [
         "Xiaomi",
         "Xiaomi 14T Pro 1TB",
         "209g",
         "12GB",
         "32MP",
         "50MP (Main) + 50MP (Ultra-wide) + 50MP (Telephoto)",
         "Dimensity 9300+",
         "5,000mAh",
         "6.67 inches",
         "PKR 209,999",
         "INR 94,999",
         "CNY 4,799",
         "USD 899",
         "AED 3,299",
         2024
        ],
        [
         "Xiaomi",
         "Xiaomi 14T 256GB",
         "195g",
         "12GB",
         "32MP",
         "50MP (Main) + 50MP (Ultra-wide)",
         "Dimensity 8300-Ultra",
         "5,000mAh",
         "6.67 inches",
         "PKR 149,999",
         "INR 69,999",
         "CNY 3,499",
         "USD 599",
         "AED 2,499",
         2024
        ],
        [
         "Xiaomi",
         "Xiaomi 14T 512GB",
         "195g",
         "12GB",
         "32MP",
         "50MP (Main) + 50MP (Ultra-wide)",
         "Dimensity 8300-Ultra",
         "5,000mAh",
         "6.67 inches",
         "PKR 169,999",
         "INR 79,999",
         "CNY 3,799",
         "USD 699",
         "AED 2,799",
         2024
        ],
        [
         "Xiaomi",
         "Xiaomi 14 Pro 256GB",
         "206g",
         "12GB",
         "32MP",
         "50MP (Main) + 50MP (Ultra-wide) + 50MP (Telephoto)",
         "Snapdragon 8 Gen 3",
         "5,000mAh",
         "6.73 inches",
         "PKR 189,999",
         "INR 84,999",
         "CNY 4,799",
         "USD 799",
         "AED 3,299",
         2023
        ],
        [
         "Xiaomi",
         "Xiaomi 14 Pro 512GB",
         "206g",
         "12GB",
         "32MP",
         "50MP (Main) + 50MP (Ultra-wide) + 50MP (Telephoto)",
         "Snapdragon 8 Gen 3",
         "5,000mAh",
         "6.73 inches",
         "PKR 209,999",
         "INR 94,999",
         "CNY 5,299",
         "USD 899",
         "AED 3,699",
         2023
        ],
        [
         "Xiaomi",
         "Xiaomi 14 256GB",
         "189g",
         "12GB",
         "32MP",
         "50MP (Main) + 50MP (Ultra-wide)",
         "Snapdragon 8 Gen 3",
         "4,610mAh",
         "6.36 inches",
         "PKR 169,999",
         "INR 74,999",
         "CNY 3,999",
         "USD 699",
         "AED 2,899",
         2023
        ],
        [
         "Xiaomi",
         "Xiaomi 14 512GB",
         "189g",
         "12GB",
         "32MP",
         "50MP (Main) + 50MP (Ultra-wide)",
         "Snapdragon 8 Gen 3",
         "4,610mAh",
         "6.36 inches",
         "PKR 189,999",
         "INR 84,999",
         "CNY 4,499",
         "USD 799",
         "AED 3,299",
         2023
        ],
        [
         "Xiaomi",
         "Redmi Note 14 Pro+ 5G 128GB",
         "205g",
         "8GB",
         "16MP",
         "200MP (Main) + 8MP (Ultra-wide) + 2MP (Macro)",
         "Snapdragon 7s Gen 3",
         "5,110mAh",
         "6.67 inches",
         "PKR 89,999",
         "INR 29,999",
         "CNY 2,499",
         "USD 374.90",
         "AED 1,499",
         2024
        ],
        [
         "Xiaomi",
         "Redmi Note 14 Pro+ 5G 256GB",
         "205g",
         "12GB",
         "16MP",
         "200MP (Main) + 8MP (Ultra-wide) + 2MP (Macro)",
         "Snapdragon 7s Gen 3",
         "5,110mAh",
         "6.67 inches",
         "PKR 99,999",
         "INR 32,999",
         "CNY 2,799",
         "USD 399.00",
         "AED 1,599",
         2024
        ],
        [
         "Xiaomi",
         "Redmi Note 14 Pro+ 5G 512GB",
         "205g",
         "16GB",
         "16MP",
         "200MP (Main) + 8MP (Ultra-wide) + 2MP (Macro)",
         "Snapdragon 7s Gen 3",
         "5,110mAh",
         "6.67 inches",
         "PKR 109,999",
         "INR 35,999",
         "CNY 3,099",
         "USD 429.00",
         "AED 1,699",
         2024
        ],
        [
         "Xiaomi",
         "Redmi Note 14 Pro 5G 128GB",
         "195g",
         "8GB",
         "16MP",
         "108MP (Main) + 8MP (Ultra-wide) + 2MP (Macro)",
         "MediaTek Dimensity 7300-Ultra",
         "5,500mAh",
         "6.67 inches",
         "PKR 79,999",
         "INR 27,999",
         "CNY 2,199",
         "USD 349.00",
         "AED 1,399",
         2024
        ],
        [
         "Xiaomi",
         "Redmi Note 14 Pro 5G 256GB",
         "195g",
         "12GB",
         "16MP",
         "108MP (Main) + 8MP (Ultra-wide) + 2MP (Macro)",
         "MediaTek Dimensity 7300-Ultra",
         "5,500mAh",
         "6.67 inches",
         "PKR 89,999",
         "INR 30,999",
         "CNY 2,499",
         "USD 379.00",
         "AED 1,499",
         2024
        ],
        [
         "Xiaomi",
         "Redmi Note 14 Pro 4G 128GB",
         "190g",
         "6GB",
         "16MP",
         "108MP (Main) + 8MP (Ultra-wide) + 2MP (Macro)",
         "Qualcomm Snapdragon 732G",
         "5,000mAh",
         "6.67 inches",
         "PKR 69,999",
         "INR 24,999",
         "CNY 1,999",
         "USD 299.00",
         "AED 1,199",
         2024
        ],
        [
         "Xiaomi",
         "Redmi Note 14 Pro 4G 256GB",
         "190g",
         "8GB",
         "16MP",
         "108MP (Main) + 8MP (Ultra-wide) + 2MP (Macro)",
         "Qualcomm Snapdragon 732G",
         "5,000mAh",
         "6.67 inches",
         "PKR 79,999",
         "INR 27,999",
         "CNY 2,299",
         "USD 329.00",
         "AED 1,299",
         2024
        ],
        [
         "Xiaomi",
         "Redmi Note 14 5G 128GB",
         "185g",
         "6GB",
         "16MP",
         "50MP (Main) + 8MP (Ultra-wide) + 2MP (Macro)",
         "MediaTek Dimensity 7025-Ultra",
         "5,000mAh",
         "6.67 inches",
         "PKR 59,999",
         "INR 21,999",
         "CNY 1,799",
         "USD 279.00",
         "AED 1,099",
         2024
        ],
        [
         "Xiaomi",
         "Redmi Note 14 5G 256GB",
         "185g",
         "8GB",
         "16MP",
         "50MP (Main) + 8MP (Ultra-wide) + 2MP (Macro)",
         "MediaTek Dimensity 7025-Ultra",
         "5,000mAh",
         "6.67 inches",
         "PKR 69,999",
         "INR 24,999",
         "CNY 2,099",
         "USD 309.00",
         "AED 1,199",
         2024
        ],
        [
         "Xiaomi",
         "Redmi Note 14 4G 128GB",
         "180g",
         "4GB",
         "16MP",
         "50MP (Main) + 8MP (Ultra-wide) + 2MP (Macro)",
         "Qualcomm Snapdragon 680",
         "5,000mAh",
         "6.67 inches",
         "PKR 49,999",
         "INR 18,999",
         "CNY 1,599",
         "USD 249.00",
         "AED 999",
         2024
        ],
        [
         "Xiaomi",
         "Redmi Note 14 4G 256GB",
         "180g",
         "6GB",
         "16MP",
         "50MP (Main) + 8MP (Ultra-wide) + 2MP (Macro)",
         "Qualcomm Snapdragon 680",
         "5,000mAh",
         "6.67 inches",
         "PKR 59,999",
         "INR 21,999",
         "CNY 1,899",
         "USD 279.00",
         "AED 1,099",
         2024
        ],
        [
         "Xiaomi",
         "Redmi 14C 5G 64GB",
         "195g",
         "4GB",
         "8MP",
         "50MP (Main) + 2MP (Depth)",
         "MediaTek Dimensity 700",
         "5,000mAh",
         "6.5 inches",
         "PKR 39,999",
         "INR 14,999",
         "CNY 1,299",
         "USD 199.00",
         "AED 799",
         2024
        ],
        [
         "Xiaomi",
         "Redmi 14C 5G 128GB",
         "195g",
         "6GB",
         "8MP",
         "50MP (Main) + 2MP (Depth)",
         "MediaTek Dimensity 700",
         "5,000mAh",
         "6.5 inches",
         "PKR 44,999",
         "INR 16,999",
         "CNY 1,499",
         "USD 229.00",
         "AED 899",
         2024
        ],
        [
         "Lenovo",
         "Legion Y70 128GB",
         "209g",
         "8GB",
         "16MP",
         "50MP",
         "Snapdragon 8+ Gen 1",
         "5,100mAh",
         "6.67 inches",
         "PKR 139,999",
         "INR 49,999",
         "CNY 3,299",
         "USD 499",
         "AED 1,899",
         2022
        ],
        [
         "Lenovo",
         "Legion Y70 256GB",
         "209g",
         "12GB",
         "16MP",
         "50MP",
         "Snapdragon 8+ Gen 1",
         "5,100mAh",
         "6.67 inches",
         "PKR 159,999",
         "INR 54,999",
         "CNY 3,699",
         "USD 549",
         "AED 2,099",
         2022
        ],
        [
         "Lenovo",
         "Legion Y70 512GB",
         "209g",
         "16GB",
         "16MP",
         "50MP",
         "Snapdragon 8+ Gen 1",
         "5,100mAh",
         "6.67 inches",
         "PKR 179,999",
         "INR 59,999",
         "CNY 4,199",
         "USD 599",
         "AED 2,299",
         2022
        ],
        [
         "Lenovo",
         "K14 Plus 64GB",
         "198g",
         "4GB",
         "8MP",
         "48MP",
         "Unisoc T700",
         "5,000mAh",
         "6.5 inches",
         "PKR 29,999",
         "INR 10,999",
         "CNY 1,299",
         "USD 199",
         "AED 749",
         2022
        ],
        [
         "Lenovo",
         "K14 Plus 128GB",
         "198g",
         "6GB",
         "8MP",
         "48MP",
         "Unisoc T700",
         "5,000mAh",
         "6.5 inches",
         "PKR 34,999",
         "INR 12,999",
         "CNY 1,499",
         "USD 229",
         "AED 849",
         2022
        ],
        [
         "Lenovo",
         "K13 Pro 128GB",
         "200g",
         "6GB",
         "16MP",
         "64MP",
         "Snapdragon 662",
         "5,000mAh",
         "6.8 inches",
         "PKR 39,999",
         "INR 14,999",
         "CNY 1,699",
         "USD 249",
         "AED 949",
         2021
        ],
        [
         "Lenovo",
         "K13 32GB",
         "190g",
         "2GB",
         "5MP",
         "13MP",
         "Unisoc SC9863A",
         "5,000mAh",
         "6.52 inches",
         "PKR 19,999",
         "INR 7,499",
         "CNY 999",
         "USD 149",
         "AED 549",
         2021
        ],
        [
         "Lenovo",
         "K13 Note 64GB",
         "200g",
         "4GB",
         "8MP",
         "48MP",
         "Snapdragon 460",
         "5,000mAh",
         "6.5 inches",
         "PKR 29,999",
         "INR 11,999",
         "CNY 1,299",
         "USD 199",
         "AED 749",
         2021
        ],
        [
         "Lenovo",
         "K10 Plus 64GB",
         "172g",
         "4GB",
         "16MP",
         "13MP",
         "Snapdragon 632",
         "4,050mAh",
         "6.22 inches",
         "PKR 24,999",
         "INR 10,999",
         "CNY 1,199",
         "USD 179",
         "AED 699",
         2019
        ],
        [
         "Lenovo",
         "A6 Note 32GB",
         "172g",
         "3GB",
         "5MP",
         "13MP",
         "Helio P22",
         "4,000mAh",
         "6.09 inches",
         "PKR 19,999",
         "INR 9,999",
         "CNY 999",
         "USD 149",
         "AED 549",
         2019
        ],
        [
         "Lenovo",
         "K10 Note 64GB",
         "164g",
         "4GB",
         "16MP",
         "16MP",
         "Snapdragon 710",
         "4,050mAh",
         "6.3 inches",
         "PKR 29,999",
         "INR 13,999",
         "CNY 1,499",
         "USD 219",
         "AED 799",
         2019
        ],
        [
         "Lenovo",
         "K10 Note 128GB",
         "164g",
         "6GB",
         "16MP",
         "16MP",
         "Snapdragon 710",
         "4,050mAh",
         "6.3 inches",
         "PKR 34,999",
         "INR 15,999",
         "CNY 1,699",
         "USD 249",
         "AED 899",
         2019
        ],
        [
         "Lenovo",
         "Z6 Pro 128GB",
         "185g",
         "6GB",
         "32MP",
         "48MP",
         "Snapdragon 855",
         "4,000mAh",
         "6.39 inches",
         "PKR 69,999",
         "INR 39,999",
         "CNY 2,899",
         "USD 429",
         "AED 1,599",
         2019
        ],
        [
         "Lenovo",
         "Z6 Pro 256GB",
         "185g",
         "8GB",
         "32MP",
         "48MP",
         "Snapdragon 855",
         "4,000mAh",
         "6.39 inches",
         "PKR 79,999",
         "INR 44,999",
         "CNY 3,299",
         "USD 479",
         "AED 1,799",
         2019
        ],
        [
         "Lenovo",
         "Z5 Pro 64GB",
         "210g",
         "6GB",
         "16MP",
         "16MP",
         "Snapdragon 710",
         "3,350mAh",
         "6.39 inches",
         "PKR 49,999",
         "INR 21,400",
         "CNY 1,998",
         "USD 299",
         "AED 1,099",
         2018
        ],
        [
         "Motorola",
         "Edge 50 Fusion 128GB",
         "168g",
         "8GB",
         "32MP",
         "50MP",
         "Snapdragon 7 Gen 1",
         "5,000mAh",
         "6.7 inches",
         "PKR 139,999",
         "INR 29,999",
         "CNY 2,499",
         "USD 499",
         "AED 1,899",
         2024
        ],
        [
         "Motorola",
         "Edge 50 Fusion 256GB",
         "168g",
         "12GB",
         "32MP",
         "50MP",
         "Snapdragon 7 Gen 1",
         "5,000mAh",
         "6.7 inches",
         "PKR 159,999",
         "INR 34,999",
         "CNY 2,799",
         "USD 549",
         "AED 2,099",
         2024
        ],
        [
         "Motorola",
         "Edge 50 Pro 128GB",
         "186g",
         "8GB",
         "50MP",
         "50MP",
         "Snapdragon 7 Gen 3",
         "4,500mAh",
         "6.7 inches",
         "PKR 169,999",
         "INR 34,999",
         "CNY 2,999",
         "USD 549",
         "AED 2,099",
         2024
        ],
        [
         "Motorola",
         "Edge 50 Pro 256GB",
         "186g",
         "12GB",
         "50MP",
         "50MP",
         "Snapdragon 7 Gen 3",
         "4,500mAh",
         "6.7 inches",
         "PKR 189,999",
         "INR 39,999",
         "CNY 3,299",
         "USD 599",
         "AED 2,299",
         2024
        ],
        [
         "Motorola",
         "Razr 128GB",
         "192g",
         "8GB",
         "32MP",
         "50MP",
         "Snapdragon 8+ Gen 1",
         "3,500mAh",
         "6.7 inches (main), 2.7 inches (external)",
         "PKR 199,999",
         "INR 59,999",
         "CNY 5,999",
         "USD 999",
         "AED 3,699",
         2023
        ],
        [
         "Motorola",
         "Razr 256GB",
         "192g",
         "12GB",
         "32MP",
         "50MP",
         "Snapdragon 8+ Gen 1",
         "3,500mAh",
         "6.7 inches (main), 2.7 inches (external)",
         "PKR 219,999",
         "INR 64,999",
         "CNY 6,499",
         "USD 1,099",
         "AED 3,999",
         2023
        ],
        [
         "Motorola",
         "G84 5G 128GB",
         "166g",
         "8GB",
         "16MP",
         "50MP",
         "Snapdragon 695",
         "5,000mAh",
         "6.5 inches",
         "PKR 79,999",
         "INR 19,999",
         "CNY 1,799",
         "USD 299",
         "AED 1,099",
         2023
        ],
        [
         "Motorola",
         "G84 5G 256GB",
         "166g",
         "12GB",
         "16MP",
         "50MP",
         "Snapdragon 695",
         "5,000mAh",
         "6.5 inches",
         "PKR 89,999",
         "INR 22,999",
         "CNY 1,999",
         "USD 349",
         "AED 1,299",
         2023
        ],
        [
         "Motorola",
         "Moto G Stylus 64GB",
         "195g",
         "4GB",
         "16MP",
         "50MP",
         "MediaTek Helio G88",
         "5,000mAh",
         "6.8 inches",
         "PKR 49,999",
         "INR 21,999",
         "CNY 1,499",
         "USD 199",
         "AED 799",
         2023
        ],
        [
         "Motorola",
         "Moto G Stylus 128GB",
         "195g",
         "6GB",
         "16MP",
         "50MP",
         "MediaTek Helio G88",
         "5,000mAh",
         "6.8 inches",
         "PKR 54,999",
         "INR 24,999",
         "CNY 1,699",
         "USD 249",
         "AED 899",
         2023
        ],
        [
         "Motorola",
         "One Vision 3 128GB",
         "180g",
         "6GB",
         "25MP",
         "48MP",
         "Exynos 9609",
         "3,500mAh",
         "6.3 inches",
         "PKR 39,999",
         "INR 19,999",
         "CNY 1,399",
         "USD 299",
         "AED 1,099",
         2024
        ],
        [
         "Motorola",
         "One Vision 3 256GB",
         "180g",
         "8GB",
         "25MP",
         "48MP",
         "Exynos 9609",
         "3,500mAh",
         "6.3 inches",
         "PKR 44,999",
         "INR 22,999",
         "CNY 1,599",
         "USD 349",
         "AED 1,299",
         2024
        ],
        [
         "Motorola",
         "Edge 50 Lite 128GB",
         "170g",
         "6GB",
         "32MP",
         "64MP",
         "Snapdragon 695",
         "5,000mAh",
         "6.7 inches",
         "PKR 59,999",
         "INR 27,999",
         "CNY 2,199",
         "USD 399",
         "AED 1,499",
         2024
        ],
        [
         "Motorola",
         "Edge 50 Lite 256GB",
         "170g",
         "8GB",
         "32MP",
         "64MP",
         "Snapdragon 695",
         "5,000mAh",
         "6.7 inches",
         "PKR 64,999",
         "INR 29,999",
         "CNY 2,399",
         "USD 449",
         "AED 1,699",
         2024
        ],
        [
         "Motorola",
         "Moto E40 Plus 64GB",
         "198g",
         "4GB",
         "8MP",
         "48MP",
         "Unisoc T700",
         "5,000mAh",
         "6.5 inches",
         "PKR 29,999",
         "INR 11,999",
         "CNY 1,299",
         "USD 199",
         "AED 749",
         2023
        ],
        [
         "Motorola",
         "Moto E40 Plus 128GB",
         "198g",
         "6GB",
         "8MP",
         "48MP",
         "Unisoc T700",
         "5,000mAh",
         "6.5 inches",
         "PKR 34,999",
         "INR 13,999",
         "CNY 1,499",
         "USD 229",
         "AED 849",
         2023
        ],
        [
         "Motorola",
         "Moto G Power 64GB",
         "206g",
         "4GB",
         "16MP",
         "50MP",
         "Snapdragon 662",
         "5,000mAh",
         "6.6 inches",
         "PKR 39,999",
         "INR 17,999",
         "CNY 1,599",
         "USD 249",
         "AED 949",
         2022
        ],
        [
         "Motorola",
         "Moto G Power 128GB",
         "206g",
         "6GB",
         "16MP",
         "50MP",
         "Snapdragon 662",
         "5,000mAh",
         "6.6 inches",
         "PKR 44,999",
         "INR 19,999",
         "CNY 1,799",
         "USD 279",
         "AED 1,049",
         2022
        ],
        [
         "Motorola",
         "Moto G Play 32GB",
         "203g",
         "3GB",
         "5MP",
         "13MP",
         "MediaTek Helio G25",
         "5,000mAh",
         "6.5 inches",
         "PKR 24,999",
         "INR 9,999",
         "CNY 999",
         "USD 149",
         "AED 549",
         2022
        ],
        [
         "Motorola",
         "Moto G Play 64GB",
         "203g",
         "4GB",
         "5MP",
         "13MP",
         "MediaTek Helio G25",
         "5,000mAh",
         "6.5 inches",
         "PKR 29,999",
         "INR 11,999",
         "CNY 1,199",
         "USD 179",
         "AED 649",
         2022
        ],
        [
         "Motorola",
         "Moto G75 5G 128GB",
         "205g",
         "8GB",
         "16MP",
         "50MP",
         "Snapdragon 6 Gen 3",
         "5,000mAh",
         "6.78 inches",
         "PKR 89,999",
         "INR 34,999",
         "CNY 2,699",
         "USD 320",
         "AED 1,175",
         2024
        ],
        [
         "Motorola",
         "Moto G75 5G 256GB",
         "205g",
         "8GB",
         "16MP",
         "50MP",
         "Snapdragon 6 Gen 3",
         "5,000mAh",
         "6.78 inches",
         "PKR 99,999",
         "INR 39,999",
         "CNY 2,999",
         "USD 370",
         "AED 1,350",
         2024
        ],
        [
         "Motorola",
         "Moto S50 128GB",
         "190g",
         "8GB",
         "32MP",
         "64MP",
         "MediaTek Dimensity 8100",
         "4,500mAh",
         "6.7 inches",
         "PKR 79,999",
         "INR 29,999",
         "CNY 2,499",
         "USD 300",
         "AED 1,100",
         2024
        ],
        [
         "Motorola",
         "Moto S50 256GB",
         "190g",
         "12GB",
         "32MP",
         "64MP",
         "MediaTek Dimensity 8100",
         "4,500mAh",
         "6.7 inches",
         "PKR 89,999",
         "INR 34,999",
         "CNY 2,799",
         "USD 350",
         "AED 1,275",
         2024
        ],
        [
         "Motorola",
         "Edge 50 Neo 256GB",
         "171g",
         "8GB",
         "32MP",
         "50MP",
         "MediaTek Dimensity 7300",
         "4,310mAh",
         "6.4 inches",
         "PKR 99,999",
         "INR 39,999",
         "CNY 2,999",
         "USD 400",
         "AED 1,500",
         2024
        ],
        [
         "Motorola",
         "Edge 50 Neo 512GB",
         "171g",
         "12GB",
         "32MP",
         "50MP",
         "MediaTek Dimensity 7300",
         "4,310mAh",
         "6.4 inches",
         "PKR 109,999",
         "INR 44,999",
         "CNY 3,299",
         "USD 450",
         "AED 1,675",
         2024
        ],
        [
         "Motorola",
         "Moto G55 128GB",
         "182g",
         "8GB",
         "16MP",
         "50MP",
         "MediaTek Dimensity 7025",
         "5,000mAh",
         "6.49 inches",
         "PKR 69,999",
         "INR 26,999",
         "CNY 2,199",
         "USD 270",
         "AED 1,000",
         2024
        ],
        [
         "Motorola",
         "Moto G55 256GB",
         "182g",
         "8GB",
         "16MP",
         "50MP",
         "MediaTek Dimensity 7025",
         "5,000mAh",
         "6.49 inches",
         "PKR 79,999",
         "INR 29,999",
         "CNY 2,499",
         "USD 320",
         "AED 1,175",
         2024
        ],
        [
         "Motorola",
         "Moto G35 128GB",
         "188g",
         "4GB",
         "16MP",
         "50MP",
         "Unisoc T760",
         "5,000mAh",
         "6.72 inches",
         "PKR 49,999",
         "INR 18,999",
         "CNY 1,599",
         "USD 200",
         "AED 750",
         2024
        ],
        [
         "Motorola",
         "Moto G35 256GB",
         "188g",
         "8GB",
         "16MP",
         "50MP",
         "Unisoc T760",
         "5,000mAh",
         "6.72 inches",
         "PKR 59,999",
         "INR 22,999",
         "CNY 1,899",
         "USD 250",
         "AED 925",
         2024
        ],
        [
         "Motorola",
         "Moto G45 128GB",
         "183g",
         "6GB",
         "16MP",
         "50MP",
         "Snapdragon 6s Gen 3",
         "5,000mAh",
         "6.5 inches",
         "PKR 59,999",
         "INR 22,999",
         "CNY 1,899",
         "USD 250",
         "AED 925",
         2024
        ],
        [
         "Motorola",
         "Moto G45 256GB",
         "183g",
         "8GB",
         "16MP",
         "50MP",
         "Snapdragon 6s Gen 3",
         "5,000mAh",
         "6.5 inches",
         "PKR 69,999",
         "INR 26,999",
         "CNY 2,199",
         "USD 300",
         "AED 1,100",
         2024
        ],
        [
         "Motorola",
         "Edge 50 256GB",
         "180g",
         "8GB",
         "32MP",
         "50MP",
         "Snapdragon 7s Gen 2",
         "4,700mAh",
         "6.7 inches",
         "PKR 109,999",
         "INR 44,999",
         "CNY 3,299",
         "USD 450",
         "AED 1,675",
         2024
        ],
        [
         "Motorola",
         "Edge 50 512GB",
         "180g",
         "12GB",
         "32MP",
         "50MP",
         "Snapdragon 7s Gen 2",
         "4,700mAh",
         "6.7 inches",
         "PKR 119,999",
         "INR 49,999",
         "CNY 3,599",
         "USD 500",
         "AED 1,850",
         2024
        ],
        [
         "Motorola",
         "Razr 50 Ultra 512GB",
         "189g",
         "12GB",
         "32MP",
         "50MP",
         "Snapdragon 8+ Gen 1",
         "4,000mAh",
         "6.9 inches (internal), 4.0 inches (external)",
         "PKR 249,999",
         "INR 99,999",
         "CNY 7,999",
         "USD 1,199",
         "AED 4,399",
         2024
        ],
        [
         "Motorola",
         "Razr 50 256GB",
         "188g",
         "8GB",
         "32MP",
         "50MP",
         "Snapdragon 7 Gen 1",
         "3,800mAh",
         "6.7 inches (internal), 3.6 inches (external)",
         "PKR 199,999",
         "INR 79,999",
         "CNY 5,999",
         "USD 999",
         "AED 3,699",
         2024
        ],
        [
         "Motorola",
         "Moto G85 128GB",
         "173g",
         "8GB",
         "32MP",
         "50MP",
         "Snapdragon 6s Gen 3",
         "5,000mAh",
         "6.67 inches",
         "PKR 79,999",
         "INR 29,999",
         "CNY 2,499",
         "USD 320",
         "AED 1,175",
         2024
        ],
        [
         "Motorola",
         "Moto G85 256GB",
         "173g",
         "12GB",
         "32MP",
         "50MP",
         "Snapdragon 6s Gen 3",
         "5,000mAh",
         "6.67 inches",
         "PKR 89,999",
         "INR 34,999",
         "CNY 2,799",
         "USD 370",
         "AED 1,350",
         2024
        ],
        [
         "Motorola",
         "S50 Neo 256GB",
         "170g",
         "8GB",
         "32MP",
         "50MP",
         "MediaTek Dimensity 7200",
         "4,300mAh",
         "6.5 inches",
         "PKR 69,999",
         "INR 26,999",
         "CNY 2,199",
         "USD 300",
         "AED 1,100",
         2024
        ],
        [
         "Motorola",
         "S50 Neo 512GB",
         "170g",
         "12GB",
         "32MP",
         "50MP",
         "MediaTek Dimensity 7200",
         "4,300mAh",
         "6.5 inches",
         "PKR 79,999",
         "INR 29,999",
         "CNY 2,499",
         "USD 350",
         "AED 1,275",
         2024
        ],
        [
         "Motorola",
         "Moto E14 64GB",
         "180g",
         "4GB",
         "8MP",
         "13MP",
         "Unisoc T606",
         "5,000mAh",
         "6.5 inches",
         "PKR 29,999",
         "INR 11,999",
         "CNY 999",
         "USD 150",
         "AED 550",
         2024
        ],
        [
         "Motorola",
         "Moto E14 128GB",
         "180g",
         "4GB",
         "8MP",
         "13MP",
         "Unisoc T606",
         "5,000mAh",
         "6.5 inches",
         "PKR 34,999",
         "INR 13,999",
         "CNY 1,199",
         "USD 180",
         "AED 650",
         2024
        ],
        [
         "Motorola",
         "Edge 256GB",
         "174g",
         "8GB",
         "32MP",
         "50MP",
         "Snapdragon 7s Gen 2",
         "4,700mAh",
         "6.7 inches",
         "PKR 109,999",
         "INR 44,999",
         "CNY 3,299",
         "USD 450",
         "AED 1,675",
         2024
        ],
        [
         "Motorola",
         "Edge 512GB",
         "174g",
         "12GB",
         "32MP",
         "50MP",
         "Snapdragon 7s Gen 2",
         "4,700mAh",
         "6.7 inches",
         "PKR 119,999",
         "INR 49,999",
         "CNY 3,599",
         "USD 500",
         "AED 1,850",
         2024
        ],
        [
         "Motorola",
         "Moto X50 Ultra 512GB",
         "198g",
         "12GB",
         "60MP",
         "200MP",
         "Snapdragon 8 Gen 3",
         "5,000mAh",
         "6.9 inches",
         "PKR 299,999",
         "INR 119,999",
         "CNY 8,999",
         "USD 1,499",
         "AED 5,499",
         2024
        ],
        [
         "Motorola",
         "Moto G Stylus 5G 256GB",
         "195g",
         "6GB",
         "16MP",
         "50MP",
         "Snapdragon 6 Gen 1",
         "5,000mAh",
         "6.8 inches",
         "PKR 69,999",
         "INR 26,999",
         "CNY 2,199",
         "USD 300",
         "AED 1,100",
         2024
        ],
        [
         "Motorola",
         "Moto G Stylus 5G 512GB",
         "195g",
         "8GB",
         "16MP",
         "50MP",
         "Snapdragon 6 Gen 1",
         "5,000mAh",
         "6.8 inches",
         "PKR 79,999",
         "INR 29,999",
         "CNY 2,499",
         "USD 350",
         "AED 1,275",
         2024
        ],
        [
         "Motorola",
         "Edge 50 Ultra 512GB",
         "198g",
         "12GB",
         "60MP",
         "200MP",
         "Snapdragon 8 Gen 3",
         "5,000mAh",
         "6.9 inches",
         "PKR 299,999",
         "INR 119,999",
         "CNY 8,999",
         "USD 1,499",
         "AED 5,499",
         2024
        ],
        [
         "Motorola",
         "Edge 30 Fusion 128GB",
         "168g",
         "8GB",
         "32MP",
         "50MP",
         "Snapdragon 888+ 5G",
         "4,400mAh",
         "6.55 inches",
         "PKR 119,999",
         "INR 49,999",
         "CNY 3,999",
         "USD 699",
         "AED 2,599",
         2022
        ],
        [
         "Motorola",
         "Edge 30 Fusion 256GB",
         "168g",
         "12GB",
         "32MP",
         "50MP",
         "Snapdragon 888+ 5G",
         "4,400mAh",
         "6.55 inches",
         "PKR 129,999",
         "INR 54,999",
         "CNY 4,299",
         "USD 749",
         "AED 2,799",
         2022
        ],
        [
         "Motorola",
         "Edge 30 Neo 128GB",
         "155g",
         "6GB",
         "32MP",
         "64MP",
         "Snapdragon 695 5G",
         "4,020mAh",
         "6.28 inches",
         "PKR 89,999",
         "INR 34,999",
         "CNY 2,499",
         "USD 499",
         "AED 1,799",
         2022
        ],
        [
         "Motorola",
         "Edge 30 Neo 256GB",
         "155g",
         "8GB",
         "32MP",
         "64MP",
         "Snapdragon 695 5G",
         "4,020mAh",
         "6.28 inches",
         "PKR 99,999",
         "INR 39,999",
         "CNY 2,799",
         "USD 549",
         "AED 1,999",
         2022
        ],
        [
         "Motorola",
         "Moto G82 5G 128GB",
         "173g",
         "6GB",
         "16MP",
         "50MP",
         "Snapdragon 695 5G",
         "5,000mAh",
         "6.6 inches",
         "PKR 64,999",
         "INR 24,999",
         "CNY 1,999",
         "USD 399",
         "AED 1,499",
         2022
        ],
        [
         "Motorola",
         "Moto G82 5G 256GB",
         "173g",
         "8GB",
         "16MP",
         "50MP",
         "Snapdragon 695 5G",
         "5,000mAh",
         "6.6 inches",
         "PKR 74,999",
         "INR 29,999",
         "CNY 2,299",
         "USD 449",
         "AED 1,699",
         2022
        ],
        [
         "Motorola",
         "Moto G62 5G 128GB",
         "184g",
         "4GB",
         "16MP",
         "50MP",
         "Snapdragon 480+ 5G",
         "5,000mAh",
         "6.5 inches",
         "PKR 54,999",
         "INR 19,999",
         "CNY 1,599",
         "USD 349",
         "AED 1,299",
         2022
        ],
        [
         "Motorola",
         "Moto G62 5G 256GB",
         "184g",
         "6GB",
         "16MP",
         "50MP",
         "Snapdragon 480+ 5G",
         "5,000mAh",
         "6.5 inches",
         "PKR 64,999",
         "INR 24,999",
         "CNY 1,899",
         "USD 399",
         "AED 1,499",
         2022
        ],
        [
         "Motorola",
         "Moto G42 128GB",
         "175g",
         "4GB",
         "16MP",
         "50MP",
         "Snapdragon 680 4G",
         "5,000mAh",
         "6.4 inches",
         "PKR 44,999",
         "INR 16,999",
         "CNY 1,399",
         "USD 299",
         "AED 1,099",
         2022
        ],
        [
         "Motorola",
         "Moto G32 128GB",
         "184g",
         "4GB",
         "16MP",
         "50MP",
         "Snapdragon 680 4G",
         "5,000mAh",
         "6.5 inches",
         "PKR 39,999",
         "INR 14,999",
         "CNY 1,299",
         "USD 279",
         "AED 999",
         2022
        ],
        [
         "Motorola",
         "Moto E32s 64GB",
         "185g",
         "3GB",
         "8MP",
         "16MP",
         "MediaTek Helio G37",
         "5,000mAh",
         "6.5 inches",
         "PKR 29,999",
         "INR 11,999",
         "CNY 999",
         "USD 199",
         "AED 749",
         2022
        ],
        [
         "Motorola",
         "Moto E22i 32GB",
         "169g",
         "2GB",
         "5MP",
         "16MP",
         "MediaTek Helio G37",
         "4,020mAh",
         "6.5 inches",
         "PKR 24,999",
         "INR 9,999",
         "CNY 899",
         "USD 179",
         "AED 699",
         2022
        ],
        [
         "Motorola",
         "Moto E22 64GB",
         "169g",
         "4GB",
         "5MP",
         "16MP",
         "MediaTek Helio G37",
         "4,020mAh",
         "6.5 inches",
         "PKR 27,999",
         "INR 10,999",
         "CNY 999",
         "USD 199",
         "AED 749",
         2022
        ],
        [
         "Motorola",
         "Moto G22 64GB",
         "185g",
         "4GB",
         "16MP",
         "50MP",
         "MediaTek Helio G37",
         "5,000mAh",
         "6.5 inches",
         "PKR 34,999",
         "INR 12,999",
         "CNY 1,199",
         "USD 249",
         "AED 899",
         2022
        ],
        [
         "Huawei",
         "P50",
         "181g",
         "8GB",
         "13MP",
         "50MP",
         "Snapdragon 888 4G",
         "4,100mAh",
         "6.5 inches",
         "PKR 129,999",
         "INR 59,999",
         "CNY 4,488",
         "USD 699",
         "AED 2,599",
         2021
        ],
        [
         "Huawei",
         "P50 Pro",
         "195g",
         "8GB",
         "13MP",
         "50MP",
         "Snapdragon 888 4G",
         "4,360mAh",
         "6.6 inches",
         "PKR 149,999",
         "INR 79,999",
         "CNY 5,988",
         "USD 899",
         "AED 3,299",
         2021
        ],
        [
         "Huawei",
         "P50 Pocket",
         "190g",
         "8GB",
         "10.7MP",
         "40MP",
         "Snapdragon 888 4G",
         "4,000mAh",
         "6.9 inches (unfolded)",
         "PKR 199,999",
         "INR 129,999",
         "CNY 8,988",
         "USD 1,299",
         "AED 4,799",
         2021
        ],
        [
         "Huawei",
         "Mate 40E",
         "188g",
         "8GB",
         "13MP",
         "64MP",
         "Kirin 990E 5G",
         "4,200mAh",
         "6.5 inches",
         "PKR 139,999",
         "INR 69,999",
         "CNY 4,599",
         "USD 799",
         "AED 2,999",
         2021
        ],
        [
         "Huawei",
         "Mate X2",
         "295g",
         "8GB",
         "16MP",
         "50MP",
         "Kirin 9000 5G",
         "4,500mAh",
         "8.0 inches (unfolded)",
         "PKR 349,999",
         "INR 249,999",
         "CNY 17,999",
         "USD 2,699",
         "AED 9,999",
         2021
        ],
        [
         "Huawei",
         "Nova 9",
         "175g",
         "8GB",
         "32MP",
         "50MP",
         "Snapdragon 778G 4G",
         "4,300mAh",
         "6.57 inches",
         "PKR 89,999",
         "INR 37,999",
         "CNY 2,699",
         "USD 499",
         "AED 1,899",
         2021
        ],
        [
         "Huawei",
         "Nova 9 Pro",
         "186g",
         "8GB",
         "Dual 32MP",
         "50MP",
         "Snapdragon 778G 4G",
         "4,000mAh",
         "6.72 inches",
         "PKR 109,999",
         "INR 44,999",
         "CNY 3,499",
         "USD 599",
         "AED 2,199",
         2021
        ],
        [
         "Huawei",
         "P50E",
         "181g",
         "8GB",
         "13MP",
         "50MP",
         "Snapdragon 778G 4G",
         "4,100mAh",
         "6.5 inches",
         "PKR 119,999",
         "INR 54,999",
         "CNY 4,088",
         "USD 649",
         "AED 2,399",
         2022
        ],
        [
         "Huawei",
         "Mate Xs 2",
         "255g",
         "8GB",
         "10.7MP",
         "50MP",
         "Snapdragon 888 4G",
         "4,600mAh",
         "7.8 inches (unfolded)",
         "PKR 299,999",
         "INR 199,999",
         "CNY 14,999",
         "USD 2,499",
         "AED 8,999",
         2022
        ],
        [
         "Huawei",
         "Mate 50",
         "202g",
         "8GB",
         "13MP",
         "50MP",
         "Snapdragon 8+ Gen 1 4G",
         "4,460mAh",
         "6.7 inches",
         "PKR 169,999",
         "INR 84,999",
         "CNY 6,299",
         "USD 999",
         "AED 3,699",
         2022
        ],
        [
         "Huawei",
         "Mate 50 Pro",
         "205g",
         "8GB",
         "13MP",
         "50MP",
         "Snapdragon 8+ Gen 1 4G",
         "4,700mAh",
         "6.74 inches",
         "PKR 189,999",
         "INR 99,999",
         "CNY 7,299",
         "USD 1,199",
         "AED 4,399",
         2022
        ],
        [
         "Huawei",
         "Nova 10",
         "168g",
         "8GB",
         "60MP",
         "50MP",
         "Snapdragon 778G 4G",
         "4,000mAh",
         "6.67 inches",
         "PKR 99,999",
         "INR 39,999",
         "CNY 2,699",
         "USD 499",
         "AED 1,899",
         2022
        ],
        [
         "Huawei",
         "Nova 10 Pro",
         "191g",
         "8GB",
         "Dual 60MP",
         "50MP",
         "Snapdragon 778G 4G",
         "4,500mAh",
         "6.78 inches",
         "PKR 119,999",
         "INR 49,999",
         "CNY 3,499",
         "USD 599",
         "AED 2,199",
         2022
        ],
        [
         "Huawei",
         "Nova 10 SE",
         "184g",
         "8GB",
         "16MP",
         "108MP",
         "Snapdragon 680 4G",
         "4,500mAh",
         "6.67 inches",
         "PKR 79,999",
         "INR 34,999",
         "CNY 2,299",
         "USD 399",
         "AED 1,499",
         2022
        ],
        [
         "Huawei",
         "P60",
         "197g",
         "8GB",
         "13MP",
         "48MP (wide) + 13MP (ultrawide) + 48MP (telephoto)",
         "Snapdragon 8+ Gen 1 4G",
         "4,815mAh",
         "6.67 inches",
         "PKR 169,999",
         "INR 84,999",
         "CNY 6,988",
         "USD 999",
         "AED 3,699",
         2023
        ],
        [
         "Huawei",
         "P60 Pro",
         "200g",
         "8GB / 12GB",
         "13MP",
         "48MP (wide) + 13MP (ultrawide) + 48MP (telephoto)",
         "Snapdragon 8+ Gen 1 4G",
         "4,815mAh",
         "6.67 inches",
         "PKR 189,999",
         "INR 99,999",
         "CNY 7,988",
         "USD 1,099",
         "AED 4,199",
         2023
        ],
        [
         "Huawei",
         "P60 Art",
         "206g",
         "8GB / 12GB",
         "13MP",
         "48MP (wide) + 40MP (ultrawide) + 48MP (telephoto)",
         "Snapdragon 8+ Gen 1 4G",
         "5,100mAh",
         "6.73 inches",
         "PKR 219,999",
         "INR 119,999",
         "CNY 8,988",
         "USD 1,299",
         "AED 4,799",
         2023
        ],
        [
         "Huawei",
         "Mate X3",
         "239g",
         "12GB",
         "8MP",
         "50MP (wide) + 13MP (ultrawide) + 12MP (periscope telephoto)",
         "Snapdragon 8+ Gen 1 4G",
         "4,800mAh",
         "7.85 inches (unfolded)",
         "PKR 349,999",
         "INR 249,999",
         "CNY 13,999",
         "USD 2,499",
         "AED 9,999",
         2023
        ],
        [
         "Huawei",
         "Mate 60",
         "209g",
         "12GB",
         "13MP",
         "50MP (wide) + 12MP (ultrawide) + 12MP (telephoto)",
         "Kirin 9000S",
         "4,750mAh",
         "6.7 inches",
         "PKR 199,999",
         "INR 109,999",
         "CNY 6,999",
         "USD 1,099",
         "AED 4,099",
         2023
        ],
        [
         "Huawei",
         "Mate 60 Pro",
         "225g",
         "12GB",
         "13MP",
         "50MP (wide) + 40MP (ultrawide) + 48MP (telephoto)",
         "Kirin 9000S",
         "5,000mAh",
         "6.82 inches",
         "PKR 229,999",
         "INR 129,999",
         "CNY 7,999",
         "USD 1,299",
         "AED 4,699",
         2023
        ],
        [
         "Huawei",
         "Mate 60 Pro+",
         "235g",
         "12GB",
         "13MP",
         "50MP (wide) + 48MP (ultrawide) + 48MP (telephoto)",
         "Kirin 9000S",
         "5,200mAh",
         "6.82 inches",
         "PKR 249,999",
         "INR 149,999",
         "CNY 8,999",
         "USD 1,499",
         "AED 5,199",
         2023
        ],
        [
         "Huawei",
         "Nova 11",
         "168g",
         "8GB",
         "60MP",
         "50MP (wide) + 8MP (ultrawide)",
         "Snapdragon 778G 4G",
         "4,500mAh",
         "6.7 inches",
         "PKR 89,999",
         "INR 44,999",
         "CNY 2,999",
         "USD 499",
         "AED 1,899",
         2023
        ],
        [
         "Huawei",
         "Nova 11 Pro",
         "188g",
         "8GB",
         "60MP (ultrawide) + 8MP (telephoto)",
         "50MP (wide) + 8MP (ultrawide)",
         "Snapdragon 778G 4G",
         "4,500mAh",
         "6.78 inches",
         "PKR 109,999",
         "INR 54,999",
         "CNY 3,499",
         "USD 599",
         "AED 2,199",
         2023
        ],
        [
         "Huawei",
         "Nova 11 Ultra",
         "188g",
         "12GB",
         "60MP (ultrawide) + 8MP (telephoto)",
         "50MP (wide) + 8MP (ultrawide)",
         "Snapdragon 778G 4G",
         "4,500mAh",
         "6.78 inches",
         "PKR 129,999",
         "INR 64,999",
         "CNY 3,999",
         "USD 699",
         "AED 2,499",
         2023
        ],
        [
         "Huawei",
         "Pura 70",
         "220g",
         "12GB",
         "13MP",
         "50MP + 13MP + 12MP",
         "Kirin 9010",
         "4,900mAh",
         "6.8 inches",
         "PKR 169,999",
         "INR 84,999",
         "CNY 6,988",
         "USD 999",
         "AED 3,699",
         2024
        ],
        [
         "Huawei",
         "Pura 70 Pro",
         "220g",
         "12GB",
         "13MP",
         "50MP + 12.5MP + 48MP",
         "Kirin 9010",
         "5,050mAh",
         "6.8 inches",
         "PKR 189,999",
         "INR 99,999",
         "CNY 7,988",
         "USD 1,099",
         "AED 4,199",
         2024
        ],
        [
         "Huawei",
         "Pura 70 Pro+",
         "220g",
         "12GB",
         "13MP",
         "50MP + 12.5MP + 48MP",
         "Kirin 9010",
         "5,050mAh",
         "6.8 inches",
         "PKR 209,999",
         "INR 114,999",
         "CNY 8,988",
         "USD 1,199",
         "AED 4,699",
         2024
        ],
        [
         "Huawei",
         "Pura 70 Ultra",
         "226g",
         "16GB",
         "13MP",
         "50MP + 40MP + 50MP",
         "Kirin 9010",
         "5,200mAh",
         "6.8 inches",
         "PKR 229,999",
         "INR 129,999",
         "CNY 9,988",
         "USD 1,299",
         "AED 5,199",
         2024
        ],
        [
         "Huawei",
         "Mate 70",
         "220g",
         "12GB",
         "13MP",
         "50MP + 12MP",
         "Kirin 9010",
         "4,900mAh",
         "6.7 inches",
         "PKR 179,999",
         "INR 89,999",
         "CNY 5,499",
         "USD 899",
         "AED 3,399",
         2024
        ],
        [
         "Huawei",
         "Mate 70 Pro",
         "220g",
         "12GB",
         "13MP",
         "50MP + 12MP + 40MP",
         "Kirin 9010",
         "5,000mAh",
         "6.8 inches",
         "PKR 199,999",
         "INR 104,999",
         "CNY 6,499",
         "USD 999",
         "AED 3,899",
         2024
        ],
        [
         "Huawei",
         "Mate 70 Pro+",
         "220g",
         "12GB",
         "13MP",
         "50MP + 12MP + 40MP",
         "Kirin 9010",
         "5,000mAh",
         "6.8 inches",
         "PKR 219,999",
         "INR 119,999",
         "CNY 7,499",
         "USD 1,099",
         "AED 4,399",
         2024
        ],
        [
         "Huawei",
         "Mate X6",
         "241g",
         "12GB",
         "8MP",
         "50MP + 13MP + 12MP",
         "Kirin 9010",
         "4,800mAh",
         "7.93 inches",
         "PKR 349,999",
         "INR 249,999",
         "CNY 12,999",
         "USD 2,499",
         "AED 9,999",
         2024
        ],
        [
         "Huawei",
         "Nova 12",
         "168g",
         "8GB",
         "60MP",
         "50MP + 8MP",
         "Kirin 9000S",
         "4,500mAh",
         "6.7 inches",
         "PKR 89,999",
         "INR 44,999",
         "CNY 2,999",
         "USD 499",
         "AED 1,899",
         2024
        ],
        [
         "Huawei",
         "Nova 12 Pro",
         "188g",
         "8GB",
         "60MP + 8MP",
         "50MP + 8MP",
         "Kirin 9000S",
         "4,500mAh",
         "6.78 inches",
         "PKR 109,999",
         "INR 54,999",
         "CNY 3,499",
         "USD 599",
         "AED 2,199",
         2024
        ],
        [
         "Huawei",
         "Mate XT 256GB",
         "245g",
         "12GB",
         "13MP",
         "50MP + 12MP + 48MP",
         "Kirin 9010",
         "5,000mAh",
         "7.92 inches",
         "PKR 359,999",
         "INR 259,999",
         "CNY 13,499",
         "USD 2,599",
         "AED 10,499",
         2024
        ],
        [
         "Huawei",
         "Mate XT 512GB",
         "245g",
         "12GB",
         "13MP",
         "50MP + 12MP + 48MP",
         "Kirin 9010",
         "5,000mAh",
         "7.92 inches",
         "PKR 389,999",
         "INR 274,999",
         "CNY 14,499",
         "USD 2,799",
         "AED 11,099",
         2024
        ],
        [
         "Huawei",
         "Nova 13 256GB",
         "170g",
         "8GB",
         "50MP",
         "50MP + 8MP",
         "Kirin 9000S",
         "4,600mAh",
         "6.7 inches",
         "PKR 94,999",
         "INR 47,999",
         "CNY 3,199",
         "USD 529",
         "AED 1,999",
         2024
        ],
        [
         "Huawei",
         "Nova 13 512GB",
         "170g",
         "8GB",
         "50MP",
         "50MP + 8MP",
         "Kirin 9000S",
         "4,600mAh",
         "6.7 inches",
         "PKR 109,999",
         "INR 54,999",
         "CNY 3,699",
         "USD 599",
         "AED 2,299",
         2024
        ],
        [
         "Huawei",
         "Nova 13 Pro 256GB",
         "190g",
         "8GB",
         "60MP + 8MP",
         "50MP + 8MP",
         "Kirin 9000S",
         "4,600mAh",
         "6.78 inches",
         "PKR 119,999",
         "INR 59,999",
         "CNY 3,999",
         "USD 649",
         "AED 2,399",
         2024
        ],
        [
         "Huawei",
         "Nova 13 Pro 512GB",
         "190g",
         "8GB",
         "60MP + 8MP",
         "50MP + 8MP",
         "Kirin 9000S",
         "4,600mAh",
         "6.78 inches",
         "PKR 134,999",
         "INR 67,999",
         "CNY 4,499",
         "USD 729",
         "AED 2,699",
         2024
        ],
        [
         "Nokia",
         "G42 5G 128GB",
         "193g",
         "4GB",
         "8MP",
         "50MP",
         "Snapdragon 480+",
         "5,000mAh",
         "6.56 inches",
         "PKR 74,999",
         "INR 18,999",
         "CNY 1,499",
         "USD 229",
         "AED 849",
         2023
        ],
        [
         "Nokia",
         "G20 64GB",
         "197g",
         "4GB",
         "8MP",
         "48MP",
         "MediaTek G35",
         "5,050mAh",
         "6.52 inches",
         "PKR 48,999",
         "INR 12,499",
         "CNY 999",
         "USD 169",
         "AED 629",
         2021
        ],
        [
         "Nokia",
         "G20 128GB",
         "197g",
         "4GB",
         "8MP",
         "48MP",
         "MediaTek G35",
         "5,050mAh",
         "6.52 inches",
         "PKR 54,999",
         "INR 13,999",
         "CNY 1,199",
         "USD 189",
         "AED 699",
         2021
        ],
        [
         "Nokia",
         "C32 64GB",
         "199g",
         "3GB",
         "8MP",
         "50MP",
         "Unisoc SC9863A",
         "5,000mAh",
         "6.52 inches",
         "PKR 39,999",
         "INR 9,999",
         "CNY 899",
         "USD 139",
         "AED 499",
         2023
        ],
        [
         "Nokia",
         "C32 128GB",
         "199g",
         "4GB",
         "8MP",
         "50MP",
         "Unisoc SC9863A",
         "5,000mAh",
         "6.52 inches",
         "PKR 44,999",
         "INR 10,999",
         "CNY 999",
         "USD 159",
         "AED 549",
         2023
        ],
        [
         "Nokia",
         "G21 64GB",
         "190g",
         "4GB",
         "8MP",
         "50MP",
         "Unisoc T606",
         "5,050mAh",
         "6.5 inches",
         "PKR 46,999",
         "INR 11,999",
         "CNY 1,099",
         "USD 169",
         "AED 619",
         2022
        ],
        [
         "Nokia",
         "G21 128GB",
         "190g",
         "6GB",
         "8MP",
         "50MP",
         "Unisoc T606",
         "5,050mAh",
         "6.5 inches",
         "PKR 52,999",
         "INR 13,999",
         "CNY 1,299",
         "USD 189",
         "AED 699",
         2022
        ],
        [
         "Nokia",
         "C22 64GB",
         "190g",
         "2GB",
         "8MP",
         "13MP",
         "Unisoc SC9863A",
         "5,000mAh",
         "6.5 inches",
         "PKR 34,999",
         "INR 8,499",
         "CNY 799",
         "USD 119",
         "AED 449",
         2023
        ],
        [
         "Nokia",
         "C22 128GB",
         "190g",
         "3GB",
         "8MP",
         "13MP",
         "Unisoc SC9863A",
         "5,000mAh",
         "6.5 inches",
         "PKR 38,999",
         "INR 9,499",
         "CNY 899",
         "USD 139",
         "AED 499",
         2023
        ],
        [
         "Nokia",
         "G400 128GB",
         "198g",
         "6GB",
         "16MP",
         "48MP",
         "Snapdragon 480",
         "5,000mAh",
         "6.58 inches",
         "PKR 79,999",
         "INR 22,999",
         "CNY 1,799",
         "USD 239",
         "AED 899",
         2022
        ],
        [
         "Sony",
         "Xperia 1 IV 256GB",
         "185g",
         "12GB",
         "12MP",
         "12MP",
         "Snapdragon 8 Gen 1",
         "5,000mAh",
         "6.5 inches",
         "PKR 429,999",
         "INR 119,999",
         "CNY 7,299",
         "USD 1,599",
         "AED 5,799",
         2022
        ],
        [
         "Sony",
         "Xperia 5 IV 128GB",
         "172g",
         "8GB",
         "12MP",
         "12MP",
         "Snapdragon 8 Gen 1",
         "5,000mAh",
         "6.1 inches",
         "PKR 319,999",
         "INR 89,999",
         "CNY 5,999",
         "USD 999",
         "AED 3,799",
         2022
        ],
        [
         "Sony",
         "Xperia 10 IV 128GB",
         "161g",
         "6GB",
         "8MP",
         "12MP",
         "Snapdragon 695",
         "5,000mAh",
         "6.0 inches",
         "PKR 179,999",
         "INR 49,999",
         "CNY 3,299",
         "USD 499",
         "AED 1,799",
         2022
        ],
        [
         "Sony",
         "Xperia 1 V 256GB",
         "187g",
         "12GB",
         "12MP",
         "48MP",
         "Snapdragon 8 Gen 2",
         "5,000mAh",
         "6.5 inches",
         "PKR 449,999",
         "INR 124,999",
         "CNY 7,999",
         "USD 1,699",
         "AED 5,999",
         2023
        ],
        [
         "Sony",
         "Xperia 5 V 128GB",
         "178g",
         "8GB",
         "12MP",
         "48MP",
         "Snapdragon 8 Gen 2",
         "5,000mAh",
         "6.1 inches",
         "PKR 339,999",
         "INR 94,999",
         "CNY 6,299",
         "USD 1,099",
         "AED 4,099",
         2023
        ],
        [
         "Sony",
         "Xperia 10 V 128GB",
         "164g",
         "6GB",
         "8MP",
         "48MP",
         "Snapdragon 695",
         "5,000mAh",
         "6.1 inches",
         "PKR 199,999",
         "INR 54,999",
         "CNY 3,699",
         "USD 599",
         "AED 1,999",
         2023
        ],
        [
         "Sony",
         "Xperia 1 VI 256GB",
         "190g",
         "12GB",
         "12MP",
         "48MP",
         "Snapdragon 8 Gen 3",
         "5,000mAh",
         "6.5 inches",
         "PKR 469,999",
         "INR 129,999",
         "CNY 8,499",
         "USD 1,799",
         "AED 6,199",
         2024
        ],
        [
         "Sony",
         "Xperia 5 VI 128GB",
         "180g",
         "8GB",
         "12MP",
         "48MP",
         "Snapdragon 8 Gen 3",
         "5,000mAh",
         "6.1 inches",
         "PKR 349,999",
         "INR 99,999",
         "CNY 6,599",
         "USD 1,199",
         "AED 4,399",
         2024
        ],
        [
         "Sony",
         "Xperia 10 VI 128GB",
         "167g",
         "6GB",
         "8MP",
         "48MP",
         "Snapdragon 7 Gen 1",
         "5,000mAh",
         "6.1 inches",
         "PKR 209,999",
         "INR 59,999",
         "CNY 3,999",
         "USD 699",
         "AED 2,199",
         2024
        ],
        [
         "Nokia",
         "T21",
         "466g",
         "4GB",
         "8MP",
         "8MP",
         "Unisoc T612",
         "8200mAh",
         "10.4 inches",
         "PKR 52,000",
         "INR 17,999",
         "CNY 1,250",
         "USD 396,22",
         "AED 870",
         2022
        ],
        [
         "Huawei",
         "MatePad Pro 12.2 512GB",
         "508g",
         "12GB",
         "16MP",
         "13MP (f/1.8, AF)",
         "Kirin 9000S",
         "10,100mAh",
         "12.2 inches",
         "PKR 161,500",
         "INR 49,990",
         "CNY 4,799",
         "USD 999",
         "AED 2,199",
         2024
        ],
        [
         "Huawei",
         "MatePad Pro 13.2 512GB",
         "580g",
         "12GB",
         "16MP",
         "13MP (f/1.8, AF)",
         "Kirin 9000S",
         "10,100mAh",
         "13.2 inches",
         "PKR 197,000",
         "INR 58,590",
         "CNY 5,199",
         "USD 877",
         "AED 2,199",
         2024
        ],
        [
         "Google",
         "Pixel 3a 64GB",
         "147g",
         "4GB",
         "8MP",
         "12.2MP",
         "Snapdragon 670",
         "3,000mAh",
         "5.6 inches",
         "PKR 69,999",
         "INR 39,999",
         "CNY 2,899",
         "USD 399",
         "AED 1,599",
         2019
        ],
        [
         "Google",
         "Pixel 3a XL 64GB",
         "167g",
         "4GB",
         "8MP",
         "12.2MP",
         "Snapdragon 670",
         "3,700mAh",
         "6.0 inches",
         "PKR 79,999",
         "INR 44,999",
         "CNY 3,299",
         "USD 479",
         "AED 1,799",
         2019
        ],
        [
         "Google",
         "Pixel 4 64GB",
         "162g",
         "6GB",
         "8MP",
         "12.2MP",
         "Snapdragon 855",
         "2,800mAh",
         "5.7 inches",
         "PKR 119,999",
         "INR 59,999",
         "CNY 4,799",
         "USD 799",
         "AED 3,199",
         2019
        ],
        [
         "Google",
         "Pixel 4 XL 64GB",
         "193g",
         "6GB",
         "8MP",
         "12.2MP",
         "Snapdragon 855",
         "3,700mAh",
         "6.3 inches",
         "PKR 139,999",
         "INR 69,999",
         "CNY 5,499",
         "USD 899",
         "AED 3,599",
         2019
        ],
        [
         "Google",
         "Pixel 4a 128GB",
         "143g",
         "6GB",
         "8MP",
         "12.2MP",
         "Snapdragon 730G",
         "3,140mAh",
         "5.8 inches",
         "PKR 89,999",
         "INR 31,999",
         "CNY 2,999",
         "USD 349",
         "AED 1,399",
         2020
        ],
        [
         "Google",
         "Pixel 4a 5G 128GB",
         "168g",
         "6GB",
         "8MP",
         "12.2MP",
         "Snapdragon 765G",
         "3,885mAh",
         "6.2 inches",
         "PKR 109,999",
         "INR 37,999",
         "CNY 3,799",
         "USD 499",
         "AED 1,999",
         2020
        ],
        [
         "Google",
         "Pixel 5 128GB",
         "151g",
         "8GB",
         "8MP",
         "12.2MP",
         "Snapdragon 765G",
         "4,080mAh",
         "6.0 inches",
         "PKR 139,999",
         "INR 49,999",
         "CNY 4,599",
         "USD 699",
         "AED 2,799",
         2020
        ],
        [
         "Google",
         "Pixel 5a 128GB",
         "183g",
         "6GB",
         "8MP",
         "12.2MP",
         "Snapdragon 765G",
         "4,680mAh",
         "6.34 inches",
         "PKR 109,999",
         "INR 42,999",
         "CNY 3,999",
         "USD 449",
         "AED 1,799",
         2021
        ],
        [
         "Google",
         "Pixel 6 128GB",
         "207g",
         "8GB",
         "8MP",
         "50MP",
         "Google Tensor",
         "4,614mAh",
         "6.4 inches",
         "PKR 159,999",
         "INR 59,999",
         "CNY 5,999",
         "USD 699",
         "AED 2,999",
         2021
        ],
        [
         "Google",
         "Pixel 6 Pro 256GB",
         "210g",
         "12GB",
         "11.1MP",
         "50MP",
         "Google Tensor",
         "5,003mAh",
         "6.71 inches",
         "PKR 199,999",
         "INR 79,999",
         "CNY 7,199",
         "USD 899",
         "AED 3,499",
         2021
        ],
        [
         "Google",
         "Pixel 6a 128GB",
         "178g",
         "6GB",
         "8MP",
         "12.2MP",
         "Google Tensor",
         "4,410mAh",
         "6.1 inches",
         "PKR 129,999",
         "INR 43,999",
         "CNY 4,299",
         "USD 449",
         "AED 1,999",
         2022
        ],
        [
         "Google",
         "Pixel 7 128GB",
         "197g",
         "8GB",
         "10.8MP",
         "50MP",
         "Google Tensor G2",
         "4,355mAh",
         "6.3 inches",
         "PKR 169,999",
         "INR 64,999",
         "CNY 6,199",
         "USD 599",
         "AED 2,399",
         2022
        ],
        [
         "Google",
         "Pixel 7 Pro 256GB",
         "212g",
         "12GB",
         "10.8MP",
         "50MP",
         "Google Tensor G2",
         "5,000mAh",
         "6.7 inches",
         "PKR 229,999",
         "INR 89,999",
         "CNY 7,999",
         "USD 899",
         "AED 3,599",
         2022
        ],
        [
         "Google",
         "Pixel 7a 128GB",
         "193g",
         "8GB",
         "10.8MP",
         "64MP",
         "Google Tensor G2",
         "4,385mAh",
         "6.1 inches",
         "PKR 139,999",
         "INR 44,999",
         "CNY 4,599",
         "USD 499",
         "AED 2,199",
         2023
        ],
        [
         "Google",
         "Pixel 8 128GB",
         "187g",
         "8GB",
         "10.5MP",
         "50MP",
         "Google Tensor G3",
         "4,575mAh",
         "6.2 inches",
         "PKR 179,999",
         "INR 69,999",
         "CNY 6,399",
         "USD 699",
         "AED 2,799",
         2023
        ],
        [
         "Google",
         "Pixel 8 Pro 256GB",
         "213g",
         "12GB",
         "10.5MP",
         "50MP",
         "Google Tensor G3",
         "5,050mAh",
         "6.7 inches",
         "PKR 249,999",
         "INR 99,999",
         "CNY 8,499",
         "USD 999",
         "AED 3,999",
         2023
        ],
        [
         "Google",
         "Pixel 8a 128GB",
         "194g",
         "8GB",
         "10.5MP",
         "64MP",
         "Google Tensor G3",
         "4,385mAh",
         "6.1 inches",
         "PKR 149,999",
         "INR 49,999",
         "CNY 4,999",
         "USD 549",
         "AED 2,399",
         2024
        ],
        [
         "Google",
         "Pixel 9 128GB",
         "195g",
         "8GB",
         "10.8MP",
         "50MP",
         "Google Tensor G4",
         "4,600mAh",
         "6.3 inches",
         "PKR 189,999",
         "INR 74,999",
         "CNY 6,599",
         "USD 799",
         "AED 3,199",
         2024
        ],
        [
         "Google",
         "Pixel 9 Pro 256GB",
         "216g",
         "12GB",
         "10.8MP",
         "50MP",
         "Google Tensor G4",
         "5,050mAh",
         "6.7 inches",
         "PKR 259,999",
         "INR 109,999",
         "CNY 8,799",
         "USD 1,099",
         "AED 4,199",
         2024
        ],
        [
         "Google",
         "Pixel 9 Pro XL 512GB",
         "222g",
         "16GB",
         "10.8MP",
         "50MP",
         "Google Tensor G4",
         "5,250mAh",
         "6.8 inches",
         "PKR 299,999",
         "INR 129,999",
         "CNY 9,799",
         "USD 1,299",
         "AED 4,999",
         2024
        ],
        [
         "Google",
         "Pixel 9 Pro Fold 512GB",
         "250g",
         "16GB",
         "10.8MP",
         "50MP",
         "Google Tensor G4",
         "5,500mAh",
         "7.6 inches",
         "PKR 399,999",
         "INR 179,999",
         "CNY 13,999",
         "USD 1,799",
         "AED 6,999",
         2024
        ],
        [
         "Tecno",
         "Spark Go 1S 64GB",
         "190g",
         "4GB",
         "8MP",
         "13MP",
         "MediaTek Helio A22",
         "5,000mAh",
         "6.6 inches",
         "PKR 27,999",
         "INR 9,999",
         "CNY 799",
         "USD 129",
         "AED 499",
         2024
        ],
        [
         "Tecno",
         "Megapad 11 256GB",
         "450g",
         "8GB",
         "13MP",
         "50MP",
         "MediaTek G99",
         "8,000mAh",
         "11 inches",
         "PKR 69,999",
         "INR 29,999",
         "CNY 2,499",
         "USD 349",
         "AED 1,299",
         2024
        ],
        [
         "Tecno",
         "Pop 9 4G 64GB",
         "195g",
         "3GB",
         "5MP",
         "8MP",
         "Unisoc SC9863A",
         "5,000mAh",
         "6.52 inches",
         "PKR 22,999",
         "INR 7,499",
         "CNY 599",
         "USD 99",
         "AED 399",
         2024
        ],
        [
         "Tecno",
         "Megapad 128GB",
         "420g",
         "6GB",
         "12MP",
         "50MP",
         "MediaTek Helio G80",
         "7,500mAh",
         "10.9 inches",
         "PKR 59,999",
         "INR 24,999",
         "CNY 2,299",
         "USD 299",
         "AED 1,099",
         2024
        ],
        [
         "Tecno",
         "Camon 30S 256GB",
         "198g",
         "8GB",
         "32MP",
         "50MP",
         "MediaTek Dimensity 810",
         "5,200mAh",
         "6.8 inches",
         "PKR 89,999",
         "INR 39,999",
         "CNY 3,199",
         "USD 499",
         "AED 1,999",
         2024
        ],
        [
         "Tecno",
         "Spark 30C 5G 128GB",
         "200g",
         "6GB",
         "16MP",
         "50MP",
         "MediaTek Dimensity 6100+",
         "5,000mAh",
         "6.6 inches",
         "PKR 39,999",
         "INR 14,999",
         "CNY 1,199",
         "USD 199",
         "AED 749",
         2024
        ],
        [
         "Tecno",
         "Spark 30 5G 128GB",
         "195g",
         "6GB",
         "16MP",
         "50MP",
         "MediaTek Dimensity 6020",
         "5,000mAh",
         "6.6 inches",
         "PKR 42,999",
         "INR 16,999",
         "CNY 1,399",
         "USD 229",
         "AED 849",
         2024
        ],
        [
         "Tecno",
         "Pop 9 64GB",
         "190g",
         "3GB",
         "5MP",
         "8MP",
         "Unisoc SC9832E",
         "5,000mAh",
         "6.52 inches",
         "PKR 21,999",
         "INR 6,999",
         "CNY 549",
         "USD 89",
         "AED 349",
         2024
        ],
        [
         "Tecno",
         "Spark 30 Pro 256GB",
         "205g",
         "8GB",
         "32MP",
         "50MP",
         "MediaTek Helio G99",
         "5,200mAh",
         "6.8 inches",
         "PKR 54,999",
         "INR 19,999",
         "CNY 1,799",
         "USD 269",
         "AED 999",
         2024
        ],
        [
         "Tecno",
         "Spark 30 128GB",
         "192g",
         "4GB",
         "16MP",
         "50MP",
         "MediaTek Helio G85",
         "5,000mAh",
         "6.6 inches",
         "PKR 34,999",
         "INR 12,999",
         "CNY 1,099",
         "USD 179",
         "AED 699",
         2024
        ],
        [
         "Tecno",
         "Phantom V Fold2 512GB",
         "280g",
         "12GB",
         "32MP",
         "64MP",
         "MediaTek Dimensity 9200+",
         "5,500mAh",
         "7.85 inches",
         "PKR 399,999",
         "INR 169,999",
         "CNY 12,999",
         "USD 1,799",
         "AED 6,999",
         2024
        ],
        [
         "Tecno",
         "Phantom V Flip2 256GB",
         "195g",
         "8GB",
         "32MP",
         "50MP",
         "MediaTek Dimensity 8050",
         "4,300mAh",
         "6.9 inches",
         "PKR 159,999",
         "INR 79,999",
         "CNY 5,999",
         "USD 999",
         "AED 3,999",
         2024
        ],
        [
         "Tecno",
         "Pova 6 Neo 5G 256GB",
         "225g",
         "8GB",
         "16MP",
         "50MP",
         "MediaTek Dimensity 810",
         "6,000mAh",
         "6.8 inches",
         "PKR 69,999",
         "INR 29,999",
         "CNY 2,499",
         "USD 349",
         "AED 1,299",
         2024
        ],
        [
         "Tecno",
         "Spark 30C 128GB",
         "190g",
         "4GB",
         "16MP",
         "50MP",
         "MediaTek Helio G85",
         "5,000mAh",
         "6.6 inches",
         "PKR 32,999",
         "INR 11,999",
         "CNY 999",
         "USD 149",
         "AED 599",
         2024
        ],
        [
         "Tecno",
         "Spark Go 1 64GB",
         "195g",
         "3GB",
         "5MP",
         "8MP",
         "Unisoc SC9863A",
         "5,000mAh",
         "6.52 inches",
         "PKR 22,999",
         "INR 7,499",
         "CNY 599",
         "USD 99",
         "AED 399",
         2024
        ],
        [
         "Tecno",
         "Camon 30S Pro 512GB",
         "202g",
         "12GB",
         "50MP",
         "108MP",
         "MediaTek Dimensity 9200",
         "5,200mAh",
         "6.9 inches",
         "PKR 159,999",
         "INR 79,999",
         "CNY 6,999",
         "USD 1,099",
         "AED 4,199",
         2024
        ],
        [
         "Tecno",
         "Spark 20P 128GB",
         "195g",
         "4GB",
         "16MP",
         "50MP",
         "MediaTek Helio G85",
         "5,000mAh",
         "6.6 inches",
         "PKR 37,999",
         "INR 13,999",
         "CNY 1,199",
         "USD 179",
         "AED 699",
         2024
        ],
        [
         "Tecno",
         "Spark 20 Pro 5G 256GB",
         "210g",
         "8GB",
         "32MP",
         "50MP",
         "MediaTek Dimensity 810",
         "5,200mAh",
         "6.8 inches",
         "PKR 59,999",
         "INR 24,999",
         "CNY 2,299",
         "USD 329",
         "AED 1,199",
         2024
        ],
        [
         "Tecno",
         "Pova 6 Neo 256GB",
         "230g",
         "8GB",
         "16MP",
         "50MP",
         "MediaTek Helio G99",
         "6,000mAh",
         "6.8 inches",
         "PKR 55,999",
         "INR 22,999",
         "CNY 1,899",
         "USD 299",
         "AED 1,099",
         2024
        ],
        [
         "Tecno",
         "Camon 30 Premier 512GB",
         "210g",
         "12GB",
         "50MP",
         "108MP",
         "MediaTek Dimensity 9200",
         "5,200mAh",
         "6.9 inches",
         "PKR 179,999",
         "INR 89,999",
         "CNY 7,499",
         "USD 1,199",
         "AED 4,499",
         2024
        ],
        [
         "Tecno",
         "Camon 30 Pro 512GB",
         "205g",
         "12GB",
         "50MP",
         "64MP",
         "MediaTek Dimensity 8200",
         "5,200mAh",
         "6.8 inches",
         "PKR 129,999",
         "INR 64,999",
         "CNY 5,499",
         "USD 899",
         "AED 3,299",
         2024
        ],
        [
         "Tecno",
         "Camon 30 5G 256GB",
         "198g",
         "8GB",
         "32MP",
         "50MP",
         "MediaTek Dimensity 810",
         "5,000mAh",
         "6.7 inches",
         "PKR 89,999",
         "INR 39,999",
         "CNY 3,199",
         "USD 499",
         "AED 1,999",
         2024
        ],
        [
         "Tecno",
         "Camon 30 128GB",
         "195g",
         "6GB",
         "32MP",
         "50MP",
         "MediaTek Helio G99",
         "5,000mAh",
         "6.7 inches",
         "PKR 69,999",
         "INR 29,999",
         "CNY 2,499",
         "USD 349",
         "AED 1,299",
         2024
        ],
        [
         "Tecno",
         "Pova 6 Pro 512GB",
         "230g",
         "12GB",
         "32MP",
         "64MP",
         "MediaTek Dimensity 8100",
         "6,000mAh",
         "6.9 inches",
         "PKR 159,999",
         "INR 79,999",
         "CNY 6,999",
         "USD 1,099",
         "AED 4,199",
         2024
        ],
        [
         "Tecno",
         "Spark 20 Pro+ 256GB",
         "210g",
         "8GB",
         "32MP",
         "50MP",
         "MediaTek Helio G99",
         "5,200mAh",
         "6.8 inches",
         "PKR 54,999",
         "INR 19,999",
         "CNY 1,799",
         "USD 269",
         "AED 999",
         2024
        ],
        [
         "Tecno",
         "Spark 20 Pro 128GB",
         "195g",
         "6GB",
         "16MP",
         "50MP",
         "MediaTek Helio G85",
         "5,000mAh",
         "6.6 inches",
         "PKR 39,999",
         "INR 14,999",
         "CNY 1,199",
         "USD 199",
         "AED 749",
         2024
        ],
        [
         "Tecno",
         "Spark 20 128GB",
         "192g",
         "4GB",
         "16MP",
         "50MP",
         "MediaTek Helio G85",
         "5,000mAh",
         "6.6 inches",
         "PKR 34,999",
         "INR 12,999",
         "CNY 1,099",
         "USD 179",
         "AED 699",
         2024
        ],
        [
         "Tecno",
         "Spark 20C 128GB",
         "190g",
         "4GB",
         "16MP",
         "50MP",
         "MediaTek Helio G85",
         "5,000mAh",
         "6.6 inches",
         "PKR 32,999",
         "INR 11,999",
         "CNY 999",
         "USD 149",
         "AED 599",
         2024
        ],
        [
         "Tecno",
         "Spark Go 2024 64GB",
         "195g",
         "3GB",
         "5MP",
         "8MP",
         "Unisoc SC9863A",
         "5,000mAh",
         "6.52 inches",
         "PKR 22,999",
         "INR 7,499",
         "CNY 599",
         "USD 99",
         "AED 399",
         2024
        ],
        [
         "Tecno",
         "Pop 8 64GB",
         "195g",
         "3GB",
         "5MP",
         "8MP",
         "Unisoc SC9832E",
         "5,000mAh",
         "6.52 inches",
         "PKR 21,999",
         "INR 6,999",
         "CNY 549",
         "USD 89",
         "AED 349",
         2024
        ],
        [
         "Tecno",
         "Camon 20s Pro 5G 512GB",
         "202g",
         "12GB",
         "50MP",
         "108MP",
         "MediaTek Dimensity 9200",
         "5,200mAh",
         "6.9 inches",
         "PKR 159,999",
         "INR 79,999",
         "CNY 6,999",
         "USD 1,099",
         "AED 4,199",
         2024
        ],
        [
         "Tecno",
         "Camon 20s Pro 256GB",
         "202g",
         "12GB",
         "50MP",
         "108MP",
         "MediaTek Dimensity 810",
         "5,200mAh",
         "6.9 inches",
         "PKR 129,999",
         "INR 59,999",
         "CNY 4,999",
         "USD 899",
         "AED 3,499",
         2024
        ],
        [
         "Tecno",
         "Camon 20s 256GB",
         "200g",
         "8GB",
         "32MP",
         "50MP",
         "MediaTek Helio G99",
         "5,000mAh",
         "6.7 inches",
         "PKR 79,999",
         "INR 34,999",
         "CNY 2,799",
         "USD 449",
         "AED 1,799",
         2024
        ],
        [
         "Tecno",
         "Camon 20 Premier 512GB",
         "205g",
         "12GB",
         "50MP",
         "108MP",
         "MediaTek Dimensity 8200",
         "5,200mAh",
         "6.8 inches",
         "PKR 149,999",
         "INR 74,999",
         "CNY 6,499",
         "USD 1,049",
         "AED 3,999",
         2024
        ],
        [
         "Tecno",
         "Camon 20 Pro 5G 256GB",
         "200g",
         "8GB",
         "32MP",
         "50MP",
         "MediaTek Dimensity 810",
         "5,000mAh",
         "6.7 inches",
         "PKR 89,999",
         "INR 39,999",
         "CNY 3,199",
         "USD 499",
         "AED 1,999",
         2024
        ],
        [
         "Tecno",
         "Camon 20 Pro 128GB",
         "198g",
         "6GB",
         "32MP",
         "50MP",
         "MediaTek Helio G99",
         "5,000mAh",
         "6.7 inches",
         "PKR 69,999",
         "INR 29,999",
         "CNY 2,499",
         "USD 349",
         "AED 1,299",
         2024
        ],
        [
         "Tecno",
         "Camon 20 128GB",
         "195g",
         "6GB",
         "32MP",
         "50MP",
         "MediaTek Helio G99",
         "5,000mAh",
         "6.7 inches",
         "PKR 69,999",
         "INR 29,999",
         "CNY 2,499",
         "USD 349",
         "AED 1,299",
         2024
        ],
        [
         "Tecno",
         "Pova 5G 512GB",
         "240g",
         "8GB",
         "32MP",
         "50MP",
         "MediaTek Dimensity 900",
         "6,000mAh",
         "6.9 inches",
         "PKR 119,999",
         "INR 54,999",
         "CNY 4,499",
         "USD 699",
         "AED 2,799",
         2024
        ],
        [
         "Tecno",
         "Pova 5 256GB",
         "230g",
         "8GB",
         "16MP",
         "50MP",
         "MediaTek Helio G99",
         "6,000mAh",
         "6.8 inches",
         "PKR 59,999",
         "INR 24,999",
         "CNY 2,299",
         "USD 329",
         "AED 1,199",
         2024
        ],
        [
         "Infinix",
         "Xpad",
         "450g",
         "6GB",
         "8MP",
         "13MP",
         "MediaTek Helio G99",
         "7,000mAh",
         "10.1 inches",
         "PKR 54,999",
         "INR 21,999",
         "CNY 1,999",
         "USD 299",
         "AED 1,099",
         2024
        ],
        [
         "Infinix",
         "Xpad 5G",
         "470g",
         "8GB",
         "16MP",
         "50MP",
         "MediaTek Dimensity 810",
         "8,000mAh",
         "10.4 inches",
         "PKR 79,999",
         "INR 29,999",
         "CNY 2,499",
         "USD 399",
         "AED 1,499",
         2024
        ],
        [
         "Infinix",
         "Xpad Lite",
         "420g",
         "4GB",
         "5MP",
         "8MP",
         "Unisoc T606",
         "6,000mAh",
         "9.7 inches",
         "PKR 39,999",
         "INR 14,999",
         "CNY 1,399",
         "USD 219",
         "AED 799",
         2024
        ],
        [
         "Infinix",
         "Xpad Pro",
         "480g",
         "12GB",
         "32MP",
         "50MP",
         "MediaTek Dimensity 9200",
         "9,000mAh",
         "11.0 inches",
         "PKR 99,999",
         "INR 39,999",
         "CNY 3,499",
         "USD 549",
         "AED 1,999",
         2024
        ],
        [
         "Infinix",
         "Hot 50",
         "192g",
         "6GB",
         "8MP",
         "50MP",
         "MediaTek Helio G85",
         "5,000mAh",
         "6.78 inches",
         "PKR 39,999",
         "INR 14,999",
         "CNY 1,399",
         "USD 219",
         "AED 799",
         2024
        ],
        [
         "Infinix",
         "Hot 50i",
         "190g",
         "4GB",
         "8MP",
         "50MP",
         "Unisoc T606",
         "5,000mAh",
         "6.6 inches",
         "PKR 32,999",
         "INR 12,499",
         "CNY 1,199",
         "USD 179",
         "AED 699",
         2024
        ],
        [
         "Infinix",
         "Hot 50 5G",
         "195g",
         "8GB",
         "16MP",
         "50MP",
         "MediaTek Dimensity 810",
         "5,200mAh",
         "6.78 inches",
         "PKR 48,999",
         "INR 18,999",
         "CNY 1,799",
         "USD 289",
         "AED 1,049",
         2024
        ],
        [
         "Infinix",
         "Hot 50 Pro",
         "194g",
         "8GB",
         "16MP",
         "50MP",
         "MediaTek Helio G99",
         "5,000mAh",
         "6.8 inches",
         "PKR 45,999",
         "INR 17,999",
         "CNY 1,699",
         "USD 269",
         "AED 999",
         2024
        ],
        [
         "Infinix",
         "Hot 50 Pro+",
         "196g",
         "12GB",
         "32MP",
         "108MP",
         "MediaTek Dimensity 9200",
         "5,300mAh",
         "6.9 inches",
         "PKR 64,999",
         "INR 24,999",
         "CNY 2,499",
         "USD 379",
         "AED 1,399",
         2024
        ],
        [
         "Infinix",
         "GT 20 Pro",
         "198g",
         "12GB",
         "32MP",
         "108MP",
         "MediaTek Dimensity 8200",
         "5,500mAh",
         "6.9 inches",
         "PKR 89,999",
         "INR 32,999",
         "CNY 2,999",
         "USD 449",
         "AED 1,699",
         2024
        ],
        [
         "Infinix",
         "Note 40X 5G",
         "198g",
         "8GB",
         "32MP",
         "108MP",
         "MediaTek Dimensity 7200",
         "5,200mAh",
         "6.8 inches",
         "PKR 64,999",
         "INR 23,999",
         "CNY 2,299",
         "USD 349",
         "AED 1,299",
         2024
        ],
        [
         "Infinix",
         "Note 40S",
         "196g",
         "8GB",
         "32MP",
         "50MP",
         "MediaTek Helio G99",
         "5,000mAh",
         "6.78 inches",
         "PKR 42,999",
         "INR 16,999",
         "CNY 1,799",
         "USD 279",
         "AED 999",
         2024
        ],
        [
         "Infinix",
         "Note 40 5G",
         "195g",
         "8GB",
         "32MP",
         "108MP",
         "MediaTek Dimensity 8100",
         "5,200mAh",
         "6.8 inches",
         "PKR 54,999",
         "INR 19,999",
         "CNY 1,999",
         "USD 319",
         "AED 1,099",
         2024
        ],
        [
         "Infinix",
         "Note 40 Pro 5G",
         "195g",
         "12GB",
         "32MP",
         "108MP",
         "MediaTek Dimensity 9000",
         "5,300mAh",
         "6.8 inches",
         "PKR 72,999",
         "INR 27,999",
         "CNY 2,499",
         "USD 399",
         "AED 1,499",
         2024
        ],
        [
         "Infinix",
         "Note 40 Racing Edition",
         "196g",
         "12GB",
         "32MP",
         "108MP",
         "MediaTek Dimensity 9200",
         "5,500mAh",
         "6.9 inches",
         "PKR 89,999",
         "INR 32,999",
         "CNY 2,999",
         "USD 449",
         "AED 1,699",
         2024
        ],
        [
         "Infinix",
         "Hot 40",
         "196g",
         "8GB",
         "32MP",
         "50MP",
         "MediaTek Helio G88",
         "5,000mAh",
         "6.78 inches",
         "PKR 35,999",
         "INR 12,499",
         "CNY 1,199",
         "USD 199",
         "AED 749",
         2023
        ],
        [
         "Infinix",
         "Hot 40i",
         "195g",
         "4GB",
         "8MP",
         "13MP",
         "Unisoc T606",
         "5,000mAh",
         "6.6 inches",
         "PKR 28,999",
         "INR 10,999",
         "CNY 999",
         "USD 159",
         "AED 599",
         2023
        ],
        [
         "Infinix",
         "Hot 40 Pro",
         "195g",
         "8GB",
         "32MP",
         "108MP",
         "MediaTek Helio G99",
         "5,000mAh",
         "6.78 inches",
         "PKR 39,999",
         "INR 14,999",
         "CNY 1,399",
         "USD 229",
         "AED 849",
         2023
        ],
        [
         "Infinix",
         "Zero 40",
         "195g",
         "12GB",
         "50MP",
         "108MP",
         "MediaTek Dimensity 8200",
         "5,000mAh",
         "6.78 inches",
         "PKR 69,999",
         "INR 24,999",
         "CNY 2,199",
         "USD 349",
         "AED 1,299",
         2024
        ],
        [
         "Infinix",
         "Zero 40 5G",
         "195g",
         "12GB",
         "50MP",
         "108MP",
         "MediaTek Dimensity 8200",
         "5,000mAh",
         "6.78 inches",
         "PKR 74,999",
         "INR 27,999",
         "CNY 2,299",
         "USD 379",
         "AED 1,399",
         2024
        ],
        [
         "Infinix",
         "Zero Flip",
         "190g",
         "8GB",
         "32MP",
         "108MP",
         "Qualcomm Snapdragon 778G",
         "4,500mAh",
         "6.7 inches",
         "PKR 89,999",
         "INR 32,999",
         "CNY 2,499",
         "USD 399",
         "AED 1,499",
         2024
        ],
        [
         "Infinix",
         "Note 40",
         "190g",
         "8GB",
         "32MP",
         "108MP",
         "MediaTek Helio G99",
         "5,000mAh",
         "6.78 inches",
         "PKR 45,999",
         "INR 17,999",
         "CNY 1,799",
         "USD 279",
         "AED 999",
         2024
        ],
        [
         "Infinix",
         "Note 40 Pro",
         "190g",
         "12GB",
         "32MP",
         "108MP",
         "MediaTek Dimensity 8100",
         "5,000mAh",
         "6.78 inches",
         "PKR 59,999",
         "INR 22,999",
         "CNY 2,199",
         "USD 329",
         "AED 1,199",
         2024
        ],
        [
         "Infinix",
         "Hot 30 128GB",
         "196g",
         "8GB",
         "8MP",
         "50MP",
         "MediaTek Helio G88",
         "5,000mAh",
         "6.78 inches",
         "PKR 35,999",
         "INR 12,499",
         "CNY 1,199",
         "USD 199",
         "AED 749",
         2023
        ],
        [
         "Infinix",
         "Hot 30i 128GB",
         "191g",
         "4GB",
         "8MP",
         "13MP",
         "Unisoc T606",
         "5,000mAh",
         "6.6 inches",
         "PKR 28,999",
         "INR 10,999",
         "CNY 999",
         "USD 159",
         "AED 599",
         2023
        ],
        [
         "Infinix",
         "Hot 30i NFC 128GB",
         "191g",
         "4GB",
         "8MP",
         "13MP",
         "Unisoc T606",
         "5,000mAh",
         "6.6 inches",
         "PKR 29,999",
         "INR 11,499",
         "CNY 999",
         "USD 159",
         "AED 599",
         2023
        ],
        [
         "Infinix",
         "Hot 30 Play 128GB",
         "205g",
         "4GB",
         "8MP",
         "16MP",
         "MediaTek Helio G37",
         "6,000mAh",
         "6.82 inches",
         "PKR 30,999",
         "INR 11,999",
         "CNY 1,099",
         "USD 179",
         "AED 649",
         2023
        ],
        [
         "Infinix",
         "Hot 30 5G 128GB",
         "202g",
         "8GB",
         "8MP",
         "50MP",
         "MediaTek Dimensity 810",
         "5,000mAh",
         "6.78 inches",
         "PKR 41,999",
         "INR 17,999",
         "CNY 1,499",
         "USD 239",
         "AED 899",
         2023
        ],
        [
         "Infinix",
         "Zero 30 256GB",
         "185g",
         "8GB",
         "50MP",
         "108MP",
         "MediaTek Dimensity 8020",
         "5,000mAh",
         "6.78 inches",
         "PKR 69,999",
         "INR 26,999",
         "CNY 2,199",
         "USD 349",
         "AED 1,299",
         2023
        ],
        [
         "Infinix",
         "Zero 30 5G 256GB",
         "185g",
         "12GB",
         "50MP",
         "108MP",
         "MediaTek Dimensity 8020",
         "5,000mAh",
         "6.78 inches",
         "PKR 74,999",
         "INR 29,999",
         "CNY 2,299",
         "USD 379",
         "AED 1,399",
         2023
        ],
        [
         "Infinix",
         "GT 10 Pro 256GB",
         "187g",
         "8GB",
         "32MP",
         "108MP",
         "MediaTek Dimensity 8050",
         "5,000mAh",
         "6.67 inches",
         "PKR 84,999",
         "INR 32,999",
         "CNY 2,599",
         "USD 399",
         "AED 1,499",
         2023
        ],
        [
         "Infinix",
         "Hot 12 128GB",
         "195g",
         "6GB",
         "8MP",
         "13MP",
         "MediaTek Helio G85",
         "5,000mAh",
         "6.82 inches",
         "PKR 28,999",
         "INR 11,499",
         "CNY 1,099",
         "USD 179",
         "AED 649",
         2022
        ],
        [
         "Infinix",
         "Hot 12 Play 128GB",
         "209g",
         "4GB",
         "8MP",
         "13MP",
         "Unisoc T610",
         "6,000mAh",
         "6.82 inches",
         "PKR 24,999",
         "INR 10,499",
         "CNY 999",
         "USD 159",
         "AED 599",
         2022
        ],
        [
         "Infinix",
         "Hot 12 Pro 128GB",
         "191g",
         "8GB",
         "8MP",
         "50MP",
         "Unisoc T616",
         "5,000mAh",
         "6.6 inches",
         "PKR 31,999",
         "INR 12,999",
         "CNY 1,199",
         "USD 199",
         "AED 749",
         2022
        ],
        [
         "Infinix",
         "Hot 12i 64GB",
         "190g",
         "4GB",
         "8MP",
         "13MP",
         "MediaTek Helio A22",
         "5,000mAh",
         "6.6 inches",
         "PKR 22,999",
         "INR 9,999",
         "CNY 899",
         "USD 139",
         "AED 499",
         2022
        ],
        [
         "Infinix",
         "Hot 20 128GB",
         "198g",
         "6GB",
         "8MP",
         "50MP",
         "MediaTek Helio G85",
         "5,000mAh",
         "6.82 inches",
         "PKR 30,999",
         "INR 12,999",
         "CNY 1,199",
         "USD 199",
         "AED 749",
         2022
        ],
        [
         "Infinix",
         "Hot 20 Play 128GB",
         "209g",
         "4GB",
         "8MP",
         "13MP",
         "MediaTek Helio G37",
         "6,000mAh",
         "6.82 inches",
         "PKR 25,999",
         "INR 10,999",
         "CNY 999",
         "USD 159",
         "AED 599",
         2022
        ],
        [
         "Infinix",
         "Hot 20s 128GB",
         "202g",
         "8GB",
         "8MP",
         "50MP",
         "MediaTek Helio G96",
         "5,000mAh",
         "6.78 inches",
         "PKR 34,999",
         "INR 14,999",
         "CNY 1,399",
         "USD 219",
         "AED 799",
         2022
        ],
        [
         "Infinix",
         "Hot 20 5G 128GB",
         "204g",
         "6GB",
         "8MP",
         "50MP",
         "MediaTek Dimensity 810",
         "5,000mAh",
         "6.6 inches",
         "PKR 38,999",
         "INR 16,999",
         "CNY 1,499",
         "USD 239",
         "AED 899",
         2022
        ],
        [
         "Infinix",
         "Hot 20i 64GB",
         "195g",
         "4GB",
         "8MP",
         "13MP",
         "MediaTek Helio G25",
         "5,000mAh",
         "6.6 inches",
         "PKR 21,999",
         "INR 9,499",
         "CNY 899",
         "USD 139",
         "AED 499",
         2022
        ],
        [
         "Infinix",
         "Hot 10T 128GB",
         "205g",
         "4GB",
         "8MP",
         "48MP",
         "MediaTek Helio G70",
         "5,000mAh",
         "6.82 inches",
         "PKR 23,999",
         "INR 10,499",
         "CNY 999",
         "USD 149",
         "AED 549",
         2021
        ],
        [
         "Infinix",
         "Hot 10S 128GB",
         "211g",
         "6GB",
         "8MP",
         "48MP",
         "MediaTek Helio G85",
         "6,000mAh",
         "6.82 inches",
         "PKR 25,999",
         "INR 11,999",
         "CNY 1,099",
         "USD 169",
         "AED 599",
         2021
        ],
        [
         "Infinix",
         "Hot 10S NFC 128GB",
         "211g",
         "6GB",
         "8MP",
         "48MP",
         "MediaTek Helio G85",
         "6,000mAh",
         "6.82 inches",
         "PKR 26,999",
         "INR 12,499",
         "CNY 1,199",
         "USD 179",
         "AED 649",
         2021
        ],
        [
         "Infinix",
         "Hot 10 Lite 64GB",
         "195g",
         "3GB",
         "8MP",
         "13MP",
         "MediaTek Helio A25",
         "5,000mAh",
         "6.6 inches",
         "PKR 19,999",
         "INR 7,999",
         "CNY 699",
         "USD 109",
         "AED 399",
         2020
        ],
        [
         "Infinix",
         "Hot 10 Play 64GB",
         "207g",
         "4GB",
         "8MP",
         "13MP",
         "MediaTek Helio G25",
         "6,000mAh",
         "6.82 inches",
         "PKR 22,999",
         "INR 9,499",
         "CNY 899",
         "USD 139",
         "AED 499",
         2021
        ],
        [
         "Infinix",
         "Hot 11 128GB",
         "201g",
         "4GB",
         "8MP",
         "13MP",
         "MediaTek Helio G70",
         "5,200mAh",
         "6.6 inches",
         "PKR 24,999",
         "INR 10,999",
         "CNY 999",
         "USD 159",
         "AED 599",
         2021
        ],
        [
         "Infinix",
         "Hot 11 Play 128GB",
         "209g",
         "4GB",
         "8MP",
         "13MP",
         "MediaTek Helio G35",
         "6,000mAh",
         "6.82 inches",
         "PKR 25,999",
         "INR 11,499",
         "CNY 1,099",
         "USD 169",
         "AED 649",
         2021
        ],
        [
         "Infinix",
         "Hot 11s 128GB",
         "205g",
         "6GB",
         "8MP",
         "50MP",
         "MediaTek Helio G88",
         "5,000mAh",
         "6.78 inches",
         "PKR 27,999",
         "INR 12,999",
         "CNY 1,299",
         "USD 189",
         "AED 699",
         2021
        ],
        [
         "Infinix",
         "Smart HD 32GB",
         "195g",
         "2GB",
         "5MP",
         "8MP",
         "MediaTek Helio A20",
         "5,000mAh",
         "6.1 inches",
         "PKR 15,999",
         "INR 5,999",
         "CNY 499",
         "USD 79",
         "AED 299",
         2020
        ],
        [
         "Infinix",
         "Note 8i 128GB",
         "210g",
         "6GB",
         "8MP",
         "48MP",
         "MediaTek Helio G80",
         "5,200mAh",
         "6.78 inches",
         "PKR 29,999",
         "INR 12,999",
         "CNY 1,199",
         "USD 199",
         "AED 749",
         2020
        ],
        [
         "Infinix",
         "Hot 10 Lite 64GB",
         "195g",
         "3GB",
         "8MP",
         "13MP",
         "MediaTek Helio A25",
         "5,000mAh",
         "6.6 inches",
         "PKR 19,999",
         "INR 7,999",
         "CNY 699",
         "USD 109",
         "AED 399",
         2020
        ],
        [
         "Infinix",
         "Note 8 128GB",
         "210g",
         "6GB",
         "16MP",
         "64MP",
         "MediaTek Helio G80",
         "5,200mAh",
         "6.95 inches",
         "PKR 34,999",
         "INR 15,999",
         "CNY 1,499",
         "USD 229",
         "AED 899",
         2020
        ],
        [
         "Infinix",
         "Zero 8i 128GB",
         "210g",
         "8GB",
         "16MP",
         "48MP",
         "MediaTek Helio G90T",
         "4,500mAh",
         "6.85 inches",
         "PKR 39,999",
         "INR 17,999",
         "CNY 1,599",
         "USD 249",
         "AED 999",
         2020
        ],
        [
         "Infinix",
         "Hot 10 128GB",
         "204g",
         "4GB",
         "8MP",
         "16MP",
         "MediaTek Helio G70",
         "5,200mAh",
         "6.78 inches",
         "PKR 24,999",
         "INR 10,999",
         "CNY 999",
         "USD 159",
         "AED 599",
         2020
        ],
        [
         "Infinix",
         "Zero 8 128GB",
         "205g",
         "8GB",
         "48MP",
         "64MP",
         "MediaTek Helio G90T",
         "4,500mAh",
         "6.85 inches",
         "PKR 44,999",
         "INR 19,999",
         "CNY 1,799",
         "USD 279",
         "AED 1,099",
         2020
        ],
        [
         "Infinix",
         "Smart 5 64GB",
         "195g",
         "3GB",
         "8MP",
         "13MP",
         "MediaTek Helio A20",
         "5,000mAh",
         "6.6 inches",
         "PKR 18,999",
         "INR 7,499",
         "CNY 599",
         "USD 99",
         "AED 349",
         2020
        ],
        [
         "Honor",
         "9X Lite",
         "175g",
         "4GB",
         "8MP",
         "48MP",
         "Kirin 710F",
         "3,750mAh",
         "6.5 inches",
         "PKR 39,999",
         "INR 15,999",
         "CNY 1,499",
         "USD 219",
         "AED 799",
         2020
        ],
        [
         "Honor",
         "30",
         "185g",
         "8GB",
         "32MP",
         "40MP",
         "Kirin 985 5G",
         "4,000mAh",
         "6.53 inches",
         "PKR 74,999",
         "INR 29,999",
         "CNY 2,999",
         "USD 449",
         "AED 1,599",
         2020
        ],
        [
         "Honor",
         "30 Pro",
         "190g",
         "8GB",
         "32MP",
         "50MP",
         "Kirin 990 5G",
         "4,000mAh",
         "6.57 inches",
         "PKR 94,999",
         "INR 39,999",
         "CNY 3,999",
         "USD 599",
         "AED 2,199",
         2020
        ],
        [
         "Honor",
         "30 Pro+",
         "192g",
         "12GB",
         "32MP",
         "50MP",
         "Kirin 990 5G",
         "4,000mAh",
         "6.57 inches",
         "PKR 109,999",
         "INR 45,999",
         "CNY 4,499",
         "USD 699",
         "AED 2,599",
         2020
        ],
        [
         "Honor",
         "30S",
         "190g",
         "6GB",
         "16MP",
         "64MP",
         "Kirin 820 5G",
         "4,000mAh",
         "6.5 inches",
         "PKR 54,999",
         "INR 22,999",
         "CNY 2,299",
         "USD 349",
         "AED 1,299",
         2020
        ],
        [
         "Honor",
         "X10",
         "203g",
         "6GB",
         "16MP",
         "40MP",
         "Kirin 820 5G",
         "4,300mAh",
         "6.63 inches",
         "PKR 48,999",
         "INR 19,999",
         "CNY 2,099",
         "USD 319",
         "AED 1,149",
         2020
        ],
        [
         "Honor",
         "X10 Max",
         "227g",
         "8GB",
         "8MP",
         "48MP",
         "MediaTek Dimensity 800",
         "5,000mAh",
         "7.09 inches",
         "PKR 64,999",
         "INR 25,999",
         "CNY 2,499",
         "USD 379",
         "AED 1,399",
         2020
        ],
        [
         "Honor",
         "Play 4",
         "213g",
         "6GB",
         "16MP",
         "64MP",
         "MediaTek Dimensity 800",
         "4,300mAh",
         "6.81 inches",
         "PKR 49,999",
         "INR 21,999",
         "CNY 2,299",
         "USD 349",
         "AED 1,249",
         2020
        ],
        [
         "Honor",
         "Play 4 Pro",
         "213g",
         "8GB",
         "32MP",
         "40MP",
         "Kirin 990 5G",
         "4,200mAh",
         "6.57 inches",
         "PKR 74,999",
         "INR 29,999",
         "CNY 3,499",
         "USD 549",
         "AED 1,999",
         2020
        ],
        [
         "Honor",
         "10X Lite",
         "206g",
         "4GB",
         "8MP",
         "48MP",
         "Kirin 710A",
         "5,000mAh",
         "6.67 inches",
         "PKR 34,999",
         "INR 13,999",
         "CNY 1,499",
         "USD 229",
         "AED 849",
         2020
        ],
        [
         "Honor",
         "V40",
         "189g",
         "8GB",
         "16MP",
         "50MP",
         "MediaTek Dimensity 1000+",
         "4,000mAh",
         "6.72 inches",
         "PKR 89,999",
         "INR 37,999",
         "CNY 3,999",
         "USD 599",
         "AED 2,199",
         2021
        ],
        [
         "Honor",
         "50",
         "175g",
         "8GB",
         "32MP",
         "108MP",
         "Qualcomm Snapdragon 778G",
         "4,300mAh",
         "6.57 inches",
         "PKR 89,999",
         "INR 37,999",
         "CNY 2,699",
         "USD 549",
         "AED 2,049",
         2021
        ],
        [
         "Honor",
         "50 Pro",
         "187g",
         "8GB",
         "32MP",
         "108MP",
         "Qualcomm Snapdragon 778G",
         "4,000mAh",
         "6.72 inches",
         "PKR 109,999",
         "INR 44,999",
         "CNY 3,699",
         "USD 649",
         "AED 2,499",
         2021
        ],
        [
         "Honor",
         "50 SE",
         "191g",
         "8GB",
         "16MP",
         "108MP",
         "MediaTek Dimensity 900",
         "4,000mAh",
         "6.78 inches",
         "PKR 74,999",
         "INR 29,999",
         "CNY 2,399",
         "USD 449",
         "AED 1,699",
         2021
        ],
        [
         "Honor",
         "X20",
         "192g",
         "6GB",
         "16MP",
         "64MP",
         "MediaTek Dimensity 900",
         "4,300mAh",
         "6.67 inches",
         "PKR 64,999",
         "INR 25,999",
         "CNY 2,299",
         "USD 379",
         "AED 1,399",
         2021
        ],
        [
         "Honor",
         "X20 SE",
         "179g",
         "6GB",
         "16MP",
         "64MP",
         "MediaTek Dimensity 700",
         "4,000mAh",
         "6.6 inches",
         "PKR 54,999",
         "INR 22,999",
         "CNY 1,799",
         "USD 299",
         "AED 1,199",
         2021
        ],
        [
         "Honor",
         "Play 5",
         "179g",
         "8GB",
         "16MP",
         "64MP",
         "MediaTek Dimensity 800U",
         "3,800mAh",
         "6.53 inches",
         "PKR 49,999",
         "INR 19,999",
         "CNY 2,099",
         "USD 319",
         "AED 1,149",
         2021
        ],
        [
         "Honor",
         "Play 5T",
         "191g",
         "6GB",
         "8MP",
         "13MP",
         "Unisoc T610",
         "5,000mAh",
         "6.5 inches",
         "PKR 34,999",
         "INR 14,999",
         "CNY 1,499",
         "USD 219",
         "AED 799",
         2021
        ],
        [
         "Honor",
         "Magic3",
         "202g",
         "8GB",
         "13MP",
         "50MP",
         "Qualcomm Snapdragon 888",
         "4,600mAh",
         "6.76 inches",
         "PKR 159,999",
         "INR 64,999",
         "CNY 4,599",
         "USD 899",
         "AED 3,299",
         2021
        ],
        [
         "Honor",
         "Magic3 Pro",
         "213g",
         "8GB",
         "13MP",
         "50MP",
         "Qualcomm Snapdragon 888+",
         "4,600mAh",
         "6.76 inches",
         "PKR 189,999",
         "INR 74,999",
         "CNY 5,499",
         "USD 1,099",
         "AED 3,999",
         2021
        ],
        [
         "Honor",
         "Magic3 Pro+",
         "236g",
         "12GB",
         "13MP",
         "50MP",
         "Qualcomm Snapdragon 888+",
         "4,600mAh",
         "6.76 inches",
         "PKR 219,999",
         "INR 84,999",
         "CNY 6,499",
         "USD 1,299",
         "AED 4,599",
         2021
        ],
        [
         "Honor",
         "60",
         "179g",
         "8GB",
         "32MP",
         "108MP",
         "Qualcomm Snapdragon 778G",
         "4,800mAh",
         "6.67 inches",
         "PKR 99,999",
         "INR 41,999",
         "CNY 2,699",
         "USD 549",
         "AED 2,049",
         2021
        ],
        [
         "Honor",
         "60 Pro",
         "192g",
         "8GB",
         "50MP",
         "108MP",
         "Qualcomm Snapdragon 778G+",
         "4,800mAh",
         "6.78 inches",
         "PKR 124,999",
         "INR 49,999",
         "CNY 3,699",
         "USD 649",
         "AED 2,599",
         2021
        ],
        [
         "Honor",
         "60 SE",
         "191g",
         "8GB",
         "16MP",
         "64MP",
         "MediaTek Dimensity 900",
         "4,300mAh",
         "6.67 inches",
         "PKR 74,999",
         "INR 29,999",
         "CNY 2,399",
         "USD 449",
         "AED 1,699",
         2021
        ],
        [
         "Honor",
         "X30",
         "189g",
         "6GB",
         "16MP",
         "48MP",
         "Qualcomm Snapdragon 695",
         "4,800mAh",
         "6.81 inches",
         "PKR 69,999",
         "INR 27,999",
         "CNY 2,099",
         "USD 379",
         "AED 1,299",
         2021
        ],
        [
         "Honor",
         "X30i",
         "175g",
         "6GB",
         "16MP",
         "48MP",
         "MediaTek Dimensity 810",
         "4,000mAh",
         "6.7 inches",
         "PKR 54,999",
         "INR 22,999",
         "CNY 1,799",
         "USD 299",
         "AED 1,099",
         2021
        ],
        [
         "Honor",
         "X30 Max",
         "228g",
         "8GB",
         "8MP",
         "64MP",
         "MediaTek Dimensity 900",
         "5,000mAh",
         "7.09 inches",
         "PKR 89,999",
         "INR 35,999",
         "CNY 2,399",
         "USD 499",
         "AED 1,899",
         2021
        ],
        [
         "Honor",
         "Play 6",
         "190g",
         "6GB",
         "5MP",
         "13MP",
         "MediaTek MT6762G Helio G25",
         "5,000mAh",
         "6.52 inches",
         "PKR 29,999",
         "INR 12,999",
         "CNY 1,199",
         "USD 179",
         "AED 699",
         2022
        ],
        [
         "Honor",
         "Play 6T",
         "198g",
         "6GB",
         "5MP",
         "13MP",
         "MediaTek Dimensity 700",
         "5,000mAh",
         "6.74 inches",
         "PKR 39,999",
         "INR 16,999",
         "CNY 1,499",
         "USD 229",
         "AED 799",
         2022
        ],
        [
         "Honor",
         "Magic4",
         "199g",
         "8GB",
         "12MP",
         "50MP",
         "Qualcomm Snapdragon 8 Gen 1",
         "4,800mAh",
         "6.81 inches",
         "PKR 179,999",
         "INR 72,999",
         "CNY 4,699",
         "USD 899",
         "AED 3,299",
         2022
        ],
        [
         "Honor",
         "Magic4 Pro",
         "215g",
         "8GB",
         "12MP",
         "50MP",
         "Qualcomm Snapdragon 8 Gen 1",
         "4,600mAh",
         "6.81 inches",
         "PKR 209,999",
         "INR 84,999",
         "CNY 5,499",
         "USD 1,099",
         "AED 3,999",
         2022
        ],
        [
         "Honor",
         "Magic4 Ultimate",
         "242g",
         "12GB",
         "12MP",
         "50MP",
         "Qualcomm Snapdragon 8 Gen 1",
         "4,600mAh",
         "6.81 inches",
         "PKR 249,999",
         "INR 99,999",
         "CNY 6,799",
         "USD 1,299",
         "AED 4,599",
         2022
        ],
        [
         "Honor",
         "Magic V",
         "288g",
         "12GB",
         "42MP",
         "50MP",
         "Qualcomm Snapdragon 8 Gen 1",
         "4,750mAh",
         "7.9 inches",
         "PKR 349,999",
         "INR 149,999",
         "CNY 9,999",
         "USD 1,799",
         "AED 6,599",
         2022
        ],
        [
         "Honor",
         "70",
         "178g",
         "8GB",
         "32MP",
         "54MP",
         "Qualcomm Snapdragon 778G+",
         "4,800mAh",
         "6.67 inches",
         "PKR 119,999",
         "INR 46,999",
         "CNY 2,699",
         "USD 549",
         "AED 2,099",
         2022
        ],
        [
         "Honor",
         "70 Pro",
         "192g",
         "8GB",
         "50MP",
         "54MP",
         "MediaTek Dimensity 8000",
         "4,500mAh",
         "6.78 inches",
         "PKR 149,999",
         "INR 59,999",
         "CNY 3,699",
         "USD 699",
         "AED 2,699",
         2022
        ],
        [
         "Honor",
         "70 Pro+",
         "209g",
         "12GB",
         "50MP",
         "54MP",
         "MediaTek Dimensity 9000",
         "4,500mAh",
         "6.78 inches",
         "PKR 179,999",
         "INR 69,999",
         "CNY 4,299",
         "USD 799",
         "AED 3,199",
         2022
        ],
        [
         "Honor",
         "X40",
         "172g",
         "6GB",
         "8MP",
         "50MP",
         "Qualcomm Snapdragon 695",
         "5,100mAh",
         "6.67 inches",
         "PKR 64,999",
         "INR 26,999",
         "CNY 1,499",
         "USD 299",
         "AED 1,099",
         2022
        ],
        [
         "Honor",
         "X40i",
         "175g",
         "6GB",
         "8MP",
         "50MP",
         "MediaTek Dimensity 700",
         "4,000mAh",
         "6.7 inches",
         "PKR 49,999",
         "INR 22,999",
         "CNY 1,799",
         "USD 279",
         "AED 999",
         2022
        ],
        [
         "Honor",
         "Play 7",
         "196g",
         "4GB",
         "5MP",
         "13MP",
         "MediaTek Helio G37",
         "5,200mAh",
         "6.74 inches",
         "PKR 29,999",
         "INR 12,499",
         "CNY 1,099",
         "USD 159",
         "AED 599",
         2023
        ],
        [
         "Honor",
         "Play 7T",
         "199g",
         "6GB",
         "5MP",
         "13MP",
         "MediaTek Dimensity 6020",
         "5,200mAh",
         "6.74 inches",
         "PKR 34,999",
         "INR 14,999",
         "CNY 1,299",
         "USD 199",
         "AED 749",
         2023
        ],
        [
         "Honor",
         "Magic5",
         "204g",
         "8GB",
         "12MP",
         "50MP",
         "Qualcomm Snapdragon 8 Gen 2",
         "5,100mAh",
         "6.81 inches",
         "PKR 199,999",
         "INR 79,999",
         "CNY 4,999",
         "USD 999",
         "AED 3,599",
         2023
        ],
        [
         "Honor",
         "Magic5 Pro",
         "219g",
         "12GB",
         "12MP",
         "50MP",
         "Qualcomm Snapdragon 8 Gen 2",
         "5,100mAh",
         "6.81 inches",
         "PKR 249,999",
         "INR 99,999",
         "CNY 6,199",
         "USD 1,199",
         "AED 4,399",
         2023
        ],
        [
         "Honor",
         "Magic5 Ultimate",
         "234g",
         "16GB",
         "12MP",
         "50MP",
         "Qualcomm Snapdragon 8 Gen 2",
         "5,450mAh",
         "6.81 inches",
         "PKR 299,999",
         "INR 119,999",
         "CNY 7,499",
         "USD 1,399",
         "AED 5,199",
         2023
        ],
        [
         "Honor",
         "Magic Vs",
         "267g",
         "12GB",
         "16MP",
         "50MP",
         "Qualcomm Snapdragon 8+ Gen 1",
         "5,000mAh",
         "7.9 inches",
         "PKR 369,999",
         "INR 149,999",
         "CNY 9,999",
         "USD 1,699",
         "AED 6,199",
         2023
        ],
        [
         "Honor",
         "80",
         "180g",
         "8GB",
         "32MP",
         "160MP",
         "Qualcomm Snapdragon 782G",
         "4,800mAh",
         "6.67 inches",
         "PKR 119,999",
         "INR 46,999",
         "CNY 2,699",
         "USD 549",
         "AED 2,099",
         2022
        ],
        [
         "Honor",
         "80 Pro",
         "193g",
         "12GB",
         "50MP",
         "160MP",
         "Qualcomm Snapdragon 8+ Gen 1",
         "4,800mAh",
         "6.78 inches",
         "PKR 169,999",
         "INR 69,999",
         "CNY 4,199",
         "USD 799",
         "AED 3,099",
         2022
        ],
        [
         "Honor",
         "80 SE",
         "175g",
         "8GB",
         "32MP",
         "64MP",
         "MediaTek Dimensity 900",
         "4,600mAh",
         "6.67 inches",
         "PKR 84,999",
         "INR 34,999",
         "CNY 1,999",
         "USD 399",
         "AED 1,599",
         2022
        ],
        [
         "Honor",
         "X50",
         "185g",
         "6GB",
         "8MP",
         "108MP",
         "Qualcomm Snapdragon 6 Gen 1",
         "5,800mAh",
         "6.78 inches",
         "PKR 74,999",
         "INR 28,999",
         "CNY 1,599",
         "USD 299",
         "AED 1,099",
         2023
        ],
        [
         "Honor",
         "X50i",
         "179g",
         "6GB",
         "8MP",
         "100MP",
         "MediaTek Dimensity 6020",
         "4,500mAh",
         "6.7 inches",
         "PKR 54,999",
         "INR 21,999",
         "CNY 1,399",
         "USD 249",
         "AED 899",
         2023
        ],
        [
         "Honor",
         "Play 8",
         "191g",
         "4GB",
         "5MP",
         "13MP",
         "MediaTek Helio G36",
         "5,000mAh",
         "6.52 inches",
         "PKR 27,999",
         "INR 11,499",
         "CNY 999",
         "USD 149",
         "AED 549",
         2023
        ],
        [
         "Honor",
         "Play 8T",
         "195g",
         "6GB",
         "5MP",
         "50MP",
         "MediaTek Dimensity 6100+",
         "5,200mAh",
         "6.74 inches",
         "PKR 32,999",
         "INR 13,999",
         "CNY 1,199",
         "USD 189",
         "AED 699",
         2023
        ],
        [
         "Honor",
         "Magic6",
         "203g",
         "8GB",
         "12MP",
         "50MP",
         "Qualcomm Snapdragon 8 Gen 3",
         "5,200mAh",
         "6.81 inches",
         "PKR 219,999",
         "INR 89,999",
         "CNY 5,499",
         "USD 1,099",
         "AED 3,999",
         2024
        ],
        [
         "Honor",
         "Magic6 Pro",
         "219g",
         "12GB",
         "12MP",
         "50MP",
         "Qualcomm Snapdragon 8 Gen 3",
         "5,500mAh",
         "6.81 inches",
         "PKR 269,999",
         "INR 109,999",
         "CNY 6,999",
         "USD 1,299",
         "AED 4,699",
         2024
        ],
        [
         "Honor",
         "Magic6 Ultimate",
         "234g",
         "16GB",
         "12MP",
         "50MP",
         "Qualcomm Snapdragon 8 Gen 3",
         "5,550mAh",
         "6.81 inches",
         "PKR 319,999",
         "INR 129,999",
         "CNY 8,199",
         "USD 1,499",
         "AED 5,499",
         2024
        ],
        [
         "Honor",
         "Magic V2",
         "231g",
         "12GB",
         "16MP",
         "50MP",
         "Qualcomm Snapdragon 8 Gen 2",
         "5,000mAh",
         "7.92 inches",
         "PKR 389,999",
         "INR 159,999",
         "CNY 10,999",
         "USD 1,899",
         "AED 6,999",
         2024
        ],
        [
         "Honor",
         "90",
         "183g",
         "12GB",
         "50MP",
         "200MP",
         "Qualcomm Snapdragon 7 Gen 1",
         "5,000mAh",
         "6.7 inches",
         "PKR 139,999",
         "INR 54,999",
         "CNY 2,999",
         "USD 599",
         "AED 2,199",
         2023
        ],
        [
         "Honor",
         "90 Pro",
         "192g",
         "12GB",
         "50MP",
         "200MP",
         "Qualcomm Snapdragon 8+ Gen 1",
         "5,000mAh",
         "6.78 inches",
         "PKR 169,999",
         "INR 64,999",
         "CNY 3,999",
         "USD 699",
         "AED 2,799",
         2023
        ],
        [
         "Honor",
         "90 SE",
         "175g",
         "8GB",
         "32MP",
         "64MP",
         "MediaTek Dimensity 900",
         "4,600mAh",
         "6.67 inches",
         "PKR 84,999",
         "INR 34,999",
         "CNY 1,999",
         "USD 399",
         "AED 1,599",
         2023
        ],
        [
         "Honor",
         "X60",
         "185g",
         "6GB",
         "8MP",
         "108MP",
         "Qualcomm Snapdragon 6 Gen 1",
         "5,800mAh",
         "6.78 inches",
         "PKR 74,999",
         "INR 28,999",
         "CNY 1,599",
         "USD 299",
         "AED 1,099",
         2023
        ],
        [
         "Honor",
         "X60i",
         "179g",
         "6GB",
         "8MP",
         "100MP",
         "MediaTek Dimensity 6020",
         "4,500mAh",
         "6.7 inches",
         "PKR 54,999",
         "INR 21,999",
         "CNY 1,399",
         "USD 249",
         "AED 899",
         2023
        ],
        [
         "Honor",
         "Play 9",
         "191g",
         "4GB",
         "5MP",
         "13MP",
         "MediaTek Helio G36",
         "5,000mAh",
         "6.52 inches",
         "PKR 27,999",
         "INR 11,499",
         "CNY 999",
         "USD 149",
         "AED 549",
         2023
        ],
        [
         "Honor",
         "Play 9T",
         "195g",
         "6GB",
         "5MP",
         "50MP",
         "MediaTek Dimensity 6100+",
         "5,200mAh",
         "6.74 inches",
         "PKR 32,999",
         "INR 13,999",
         "CNY 1,199",
         "USD 189",
         "AED 699",
         2023
        ],
        [
         "Honor",
         "Magic7",
         "203g",
         "8GB",
         "12MP",
         "50MP",
         "Qualcomm Snapdragon 8 Gen 3",
         "5,200mAh",
         "6.81 inches",
         "PKR 219,999",
         "INR 89,999",
         "CNY 5,499",
         "USD 1,099",
         "AED 3,999",
         2024
        ],
        [
         "Honor",
         "Magic7 Pro",
         "219g",
         "12GB",
         "12MP",
         "50MP",
         "Qualcomm Snapdragon 8 Gen 3",
         "5,500mAh",
         "6.81 inches",
         "PKR 269,999",
         "INR 109,999",
         "CNY 6,999",
         "USD 1,299",
         "AED 4,699",
         2024
        ],
        [
         "Honor",
         "Magic7 Ultimate",
         "234g",
         "16GB",
         "12MP",
         "50MP",
         "Qualcomm Snapdragon 8 Gen 3",
         "5,550mAh",
         "6.81 inches",
         "PKR 319,999",
         "INR 129,999",
         "CNY 8,199",
         "USD 1,499",
         "AED 5,499",
         2024
        ],
        [
         "Honor",
         "Magic V3",
         "231g",
         "12GB",
         "16MP",
         "50MP",
         "Qualcomm Snapdragon 8 Gen 2",
         "5,000mAh",
         "7.92 inches",
         "PKR 389,999",
         "INR 159,999",
         "CNY 10,999",
         "USD 1,899",
         "AED 6,999",
         2024
        ],
        [
         "Honor",
         "Pad 6",
         "460g",
         "4GB",
         "2MP",
         "5MP",
         "Qualcomm Snapdragon 662",
         "5,100mAh",
         "10.1 inches",
         "PKR 49,999",
         "INR 17,999",
         "CNY 1,299",
         "USD 199",
         "AED 749",
         2020
        ],
        [
         "Honor",
         "Pad X6",
         "460g",
         "3GB",
         "2MP",
         "5MP",
         "MediaTek MT8768T",
         "5,100mAh",
         "9.7 inches",
         "PKR 39,999",
         "INR 14,999",
         "CNY 999",
         "USD 159",
         "AED 599",
         2020
        ],
        [
         "Honor",
         "Pad 7",
         "460g",
         "4GB",
         "2MP",
         "5MP",
         "MediaTek Helio G80",
         "5,100mAh",
         "10.1 inches",
         "PKR 54,999",
         "INR 19,999",
         "CNY 1,399",
         "USD 229",
         "AED 849",
         2021
        ],
        [
         "Honor",
         "Tablet V7",
         "480g",
         "6GB",
         "8MP",
         "13MP",
         "MediaTek Dimensity 800",
         "7,250mAh",
         "10.4 inches",
         "PKR 84,999",
         "INR 34,999",
         "CNY 2,199",
         "USD 399",
         "AED 1,499",
         2021
        ],
        [
         "Honor",
         "Tablet V7 Pro",
         "485g",
         "8GB",
         "8MP",
         "13MP",
         "MediaTek Dimensity 1300T",
         "7,250mAh",
         "11.0 inches",
         "PKR 109,999",
         "INR 44,999",
         "CNY 2,899",
         "USD 499",
         "AED 1,799",
         2021
        ],
        [
         "Honor",
         "Pad 8",
         "520g",
         "6GB",
         "5MP",
         "5MP",
         "Qualcomm Snapdragon 680",
         "7,250mAh",
         "12.0 inches",
         "PKR 69,999",
         "INR 24,999",
         "CNY 1,599",
         "USD 299",
         "AED 1,099",
         2022
        ],
        [
         "Honor",
         "Pad X8",
         "460g",
         "4GB",
         "2MP",
         "5MP",
         "MediaTek Helio G80",
         "5,100mAh",
         "10.1 inches",
         "PKR 44,999",
         "INR 16,999",
         "CNY 1,199",
         "USD 189",
         "AED 699",
         2022
        ],
        [
         "Honor",
         "Pad X8 Lite",
         "450g",
         "3GB",
         "2MP",
         "5MP",
         "MediaTek MT8786",
         "5,000mAh",
         "9.7 inches",
         "PKR 34,999",
         "INR 12,999",
         "CNY 999",
         "USD 149",
         "AED 549",
         2022
        ],
        [
         "Honor",
         "Pad V8",
         "510g",
         "6GB",
         "5MP",
         "13MP",
         "MediaTek Dimensity 8020",
         "7,250mAh",
         "11.0 inches",
         "PKR 94,999",
         "INR 39,999",
         "CNY 2,499",
         "USD 449",
         "AED 1,599",
         2023
        ],
        [
         "Honor",
         "Pad V8 Pro",
         "530g",
         "8GB",
         "8MP",
         "13MP",
         "MediaTek Dimensity 9000",
         "8,500mAh",
         "12.1 inches",
         "PKR 129,999",
         "INR 54,999",
         "CNY 3,599",
         "USD 649",
         "AED 2,299",
         2023
        ],
        [
         "Honor",
         "Pad 9",
         "550g",
         "8GB",
         "8MP",
         "13MP",
         "Qualcomm Snapdragon 6 Gen 1",
         "8,300mAh",
         "12.1 inches",
         "PKR 84,999",
         "INR 34,999",
         "CNY 2,299",
         "USD 399",
         "AED 1,499",
         2024
        ],
        [
         "Honor",
         "Pad 9 Pro",
         "560g",
         "12GB",
         "8MP",
         "13MP",
         "MediaTek Dimensity 8100",
         "9,000mAh",
         "12.6 inches",
         "PKR 109,999",
         "INR 44,999",
         "CNY 2,999",
         "USD 499",
         "AED 1,799",
         2024
        ],
        [
         "Honor",
         "Pad X9",
         "495g",
         "6GB",
         "5MP",
         "8MP",
         "Qualcomm Snapdragon 685",
         "7,250mAh",
         "11.5 inches",
         "PKR 59,999",
         "INR 22,999",
         "CNY 1,599",
         "USD 299",
         "AED 1,099",
         2023
        ],
        [
         "Honor",
         "Pad X8 Pro",
         "460g",
         "4GB",
         "2MP",
         "5MP",
         "MediaTek Helio G80",
         "5,100mAh",
         "10.1 inches",
         "PKR 44,999",
         "INR 16,999",
         "CNY 1,199",
         "USD 189",
         "AED 699",
         2023
        ],
        [
         "Honor",
         "MagicPad 13",
         "590g",
         "12GB",
         "8MP",
         "13MP",
         "Qualcomm Snapdragon 8+ Gen 1",
         "10,000mAh",
         "13.0 inches",
         "PKR 149,999",
         "INR 64,999",
         "CNY 3,999",
         "USD 799",
         "AED 2,999",
         2023
        ],
        [
         "Honor",
         "MagicPad 2",
         "580g",
         "16GB",
         "12MP",
         "16MP",
         "Qualcomm Snapdragon 8 Gen 2",
         "10,500mAh",
         "13.2 inches",
         "PKR 179,999",
         "INR 74,999",
         "CNY 4,499",
         "USD 899",
         "AED 3,299",
         2024
        ],
        [
         "Honor",
         "Pad X8a",
         "450g",
         "4GB",
         "2MP",
         "5MP",
         "MediaTek MT8786",
         "5,000mAh",
         "9.7 inches",
         "PKR 34,999",
         "INR 12,999",
         "CNY 999",
         "USD 149",
         "AED 549",
         2023
        ],
        [
         "Honor",
         "Pad X8a Kids Edition",
         "460g",
         "3GB",
         "2MP",
         "5MP",
         "MediaTek MT8786",
         "5,100mAh",
         "9.7 inches",
         "PKR 29,999",
         "INR 10,999",
         "CNY 799",
         "USD 129",
         "AED 499",
         2023
        ],
        [
         "Honor",
         "Pad X9 Pro",
         "505g",
         "8GB",
         "8MP",
         "13MP",
         "Qualcomm Snapdragon 7s Gen 2",
         "8,000mAh",
         "11.6 inches",
         "PKR 79,999",
         "INR 29,999",
         "CNY 2,199",
         "USD 399",
         "AED 1,499",
         2024
        ],
        [
         "Honor",
         "Pad V9",
         "530g",
         "8GB",
         "8MP",
         "13MP",
         "MediaTek Dimensity 9000",
         "8,500mAh",
         "12.1 inches",
         "PKR 129,999",
         "INR 54,999",
         "CNY 3,599",
         "USD 649",
         "AED 2,299",
         2024
        ],
        [
         "Honor",
         "Pad GT Pro",
         "610g",
         "12GB",
         "12MP",
         "16MP",
         "Qualcomm Snapdragon 8 Gen 3",
         "10,500mAh",
         "13.5 inches",
         "PKR 199,999",
         "INR 84,999",
         "CNY 4,999",
         "USD 999",
         "AED 3,799",
         2024
        ],
        [
         "Honor",
         "Pad X10",
         "475g",
         "6GB",
         "5MP",
         "8MP",
         "Qualcomm Snapdragon 685",
         "8,850mAh",
         "12.1 inches",
         "PKR 74,999",
         "INR 29,999",
         "CNY 2,299",
         "USD 399",
         "AED 1,499",
         2024
        ],
        [
         "Honor",
         "Pad X10 Pro",
         "485g",
         "8GB",
         "8MP",
         "13MP",
         "Qualcomm Snapdragon 7s Gen 2",
         "9,000mAh",
         "12.6 inches",
         "PKR 94,999",
         "INR 39,999",
         "CNY 2,999",
         "USD 499",
         "AED 1,799",
         2024
        ],
        [
         "Honor",
         "MagicPad 3",
         "590g",
         "12GB",
         "12MP",
         "16MP",
         "Qualcomm Snapdragon 8 Gen 3",
         "10,500mAh",
         "13.0 inches",
         "PKR 149,999",
         "INR 64,999",
         "CNY 3,999",
         "USD 799",
         "AED 2,999",
         2024
        ],
        [
         "Honor",
         "Pad V10",
         "530g",
         "8GB",
         "8MP",
         "13MP",
         "MediaTek Dimensity 9000",
         "8,500mAh",
         "12.1 inches",
         "PKR 129,999",
         "INR 54,999",
         "CNY 3,599",
         "USD 649",
         "AED 2,299",
         2024
        ],
        [
         "POCO",
         "F2 Pro 128GB",
         "219g",
         "6GB",
         "20MP",
         "64MP",
         "Snapdragon 865",
         "4700mAh",
         "6.67 inches",
         "PKR 99,999",
         "INR 37,999",
         "CNY 2,999",
         "USD 499",
         "AED 1,999",
         2020
        ],
        [
         "POCO",
         "M2 Pro 64GB",
         "209g",
         "4GB",
         "16MP",
         "48MP",
         "Snapdragon 720G",
         "5000mAh",
         "6.67 inches",
         "PKR 34,999",
         "INR 13,999",
         "CNY 1,399",
         "USD 199",
         "AED 799",
         2020
        ],
        [
         "POCO",
         "X3 NFC 128GB",
         "215g",
         "6GB",
         "20MP",
         "64MP",
         "Snapdragon 732G",
         "5160mAh",
         "6.67 inches",
         "PKR 39,999",
         "INR 16,999",
         "CNY 1,599",
         "USD 229",
         "AED 899",
         2020
        ],
        [
         "POCO",
         "M3 64GB",
         "198g",
         "4GB",
         "8MP",
         "48MP",
         "Snapdragon 662",
         "6000mAh",
         "6.53 inches",
         "PKR 24,999",
         "INR 10,999",
         "CNY 999",
         "USD 149",
         "AED 599",
         2020
        ],
        [
         "POCO",
         "F3 128GB",
         "196g",
         "6GB",
         "20MP",
         "48MP",
         "Snapdragon 870",
         "4520mAh",
         "6.67 inches",
         "PKR 69,999",
         "INR 29,999",
         "CNY 2,499",
         "USD 349",
         "AED 1,399",
         2021
        ],
        [
         "POCO",
         "X3 Pro 128GB",
         "215g",
         "6GB",
         "20MP",
         "48MP",
         "Snapdragon 860",
         "5160mAh",
         "6.67 inches",
         "PKR 49,999",
         "INR 18,999",
         "CNY 1,799",
         "USD 249",
         "AED 999",
         2021
        ],
        [
         "POCO",
         "M3 Pro 5G 64GB",
         "190g",
         "4GB",
         "8MP",
         "48MP",
         "MediaTek Dimensity 700",
         "5000mAh",
         "6.5 inches",
         "PKR 29,999",
         "INR 13,999",
         "CNY 1,199",
         "USD 199",
         "AED 799",
         2021
        ],
        [
         "POCO",
         "F3 GT 128GB",
         "205g",
         "6GB",
         "16MP",
         "64MP",
         "MediaTek Dimensity 1200",
         "5065mAh",
         "6.67 inches",
         "PKR 79,999",
         "INR 25,999",
         "CNY 2,299",
         "USD 399",
         "AED 1,499",
         2021
        ],
        [
         "POCO",
         "X3 GT 128GB",
         "193g",
         "6GB",
         "16MP",
         "64MP",
         "MediaTek Dimensity 1100",
         "5000mAh",
         "6.6 inches",
         "PKR 44,999",
         "INR 21,999",
         "CNY 1,899",
         "USD 279",
         "AED 1,099",
         2021
        ],
        [
         "POCO",
         "M4 Pro 5G 128GB",
         "195g",
         "4GB",
         "16MP",
         "50MP",
         "MediaTek Dimensity 810",
         "5000mAh",
         "6.6 inches",
         "PKR 34,999",
         "INR 14,999",
         "CNY 1,499",
         "USD 219",
         "AED 849",
         2021
        ],
        [
         "POCO",
         "F4 128GB",
         "195g",
         "6GB",
         "20MP",
         "64MP",
         "Snapdragon 870",
         "4500mAh",
         "6.67 inches",
         "PKR 74,999",
         "INR 27,999",
         "CNY 2,399",
         "USD 349",
         "AED 1,399",
         2022
        ],
        [
         "POCO",
         "F4 GT 128GB",
         "210g",
         "8GB",
         "20MP",
         "64MP",
         "Snapdragon 8 Gen 1",
         "4700mAh",
         "6.67 inches",
         "PKR 99,999",
         "INR 39,999",
         "CNY 3,299",
         "USD 499",
         "AED 1,999",
         2022
        ],
        [
         "POCO",
         "X4 Pro 5G 128GB",
         "205g",
         "6GB",
         "16MP",
         "108MP",
         "Snapdragon 695",
         "5000mAh",
         "6.67 inches",
         "PKR 54,999",
         "INR 18,999",
         "CNY 1,999",
         "USD 299",
         "AED 1,199",
         2022
        ],
        [
         "POCO",
         "M4 Pro 128GB",
         "179g",
         "6GB",
         "16MP",
         "64MP",
         "MediaTek Helio G96",
         "5000mAh",
         "6.43 inches",
         "PKR 39,999",
         "INR 14,999",
         "CNY 1,499",
         "USD 219",
         "AED 849",
         2022
        ],
        [
         "POCO",
         "M5 128GB",
         "201g",
         "4GB",
         "5MP",
         "50MP",
         "MediaTek Helio G99",
         "5000mAh",
         "6.58 inches",
         "PKR 29,999",
         "INR 12,499",
         "CNY 1,299",
         "USD 199",
         "AED 799",
         2022
        ],
        [
         "POCO",
         "M5s 128GB",
         "178.8g",
         "4GB",
         "13MP",
         "64MP",
         "MediaTek Helio G95",
         "5000mAh",
         "6.43 inches",
         "PKR 34,999",
         "INR 13,999",
         "CNY 1,399",
         "USD 229",
         "AED 899",
         2022
        ],
        [
         "POCO",
         "F5 128GB",
         "181g",
         "6GB",
         "16MP",
         "64MP",
         "Snapdragon 7+ Gen 2",
         "5000mAh",
         "6.67 inches",
         "PKR 79,999",
         "INR 29,999",
         "CNY 2,299",
         "USD 349",
         "AED 1,299",
         2023
        ],
        [
         "POCO",
         "F5 Pro 256GB",
         "204g",
         "8GB",
         "20MP",
         "64MP",
         "Snapdragon 8+ Gen 1",
         "5160mAh",
         "6.67 inches",
         "PKR 99,999",
         "INR 39,999",
         "CNY 3,299",
         "USD 499",
         "AED 1,899",
         2023
        ],
        [
         "POCO",
         "X5 128GB",
         "189g",
         "6GB",
         "13MP",
         "48MP",
         "Snapdragon 695",
         "5000mAh",
         "6.67 inches",
         "PKR 54,999",
         "INR 18,999",
         "CNY 1,799",
         "USD 279",
         "AED 1,099",
         2023
        ],
        [
         "POCO",
         "X5 Pro 128GB",
         "181g",
         "6GB",
         "16MP",
         "108MP",
         "Snapdragon 778G",
         "5000mAh",
         "6.67 inches",
         "PKR 64,999",
         "INR 22,999",
         "CNY 2,199",
         "USD 329",
         "AED 1,199",
         2023
        ],
        [
         "POCO",
         "M6 64GB",
         "199g",
         "4GB",
         "8MP",
         "50MP",
         "MediaTek Helio G88",
         "5000mAh",
         "6.58 inches",
         "PKR 29,999",
         "INR 12,999",
         "CNY 1,299",
         "USD 199",
         "AED 799",
         2023
        ],
        [
         "POCO",
         "M6 Pro 128GB",
         "202g",
         "6GB",
         "8MP",
         "50MP",
         "Snapdragon 4 Gen 1",
         "5000mAh",
         "6.79 inches",
         "PKR 34,999",
         "INR 14,999",
         "CNY 1,499",
         "USD 219",
         "AED 849",
         2023
        ],
        [
         "POCO",
         "X6 128GB",
         "193g",
         "6GB",
         "16MP",
         "64MP",
         "MediaTek Dimensity 8100",
         "5000mAh",
         "6.67 inches",
         "PKR 59,999",
         "INR 21,999",
         "CNY 2,299",
         "USD 349",
         "AED 1,299",
         2024
        ],
        [
         "POCO",
         "X6 Pro 256GB",
         "205g",
         "8GB",
         "20MP",
         "108MP",
         "MediaTek Dimensity 8300",
         "5000mAh",
         "6.67 inches",
         "PKR 69,999",
         "INR 24,999",
         "CNY 2,599",
         "USD 399",
         "AED 1,499",
         2024
        ],
        [
         "POCO",
         "F6 128GB",
         "190g",
         "6GB",
         "20MP",
         "64MP",
         "Snapdragon 8 Gen 2",
         "5000mAh",
         "6.67 inches",
         "PKR 89,999",
         "INR 34,999",
         "CNY 2,999",
         "USD 449",
         "AED 1,699",
         2024
        ],
        [
         "POCO",
         "F6 Pro 256GB",
         "210g",
         "8GB",
         "20MP",
         "108MP",
         "Snapdragon 8+ Gen 2",
         "5160mAh",
         "6.67 inches",
         "PKR 109,999",
         "INR 44,999",
         "CNY 3,499",
         "USD 549",
         "AED 1,999",
         2024
        ],
        [
         "POCO",
         "C65 64GB",
         "190g",
         "4GB",
         "5MP",
         "50MP",
         "MediaTek Helio G85",
         "5000mAh",
         "6.5 inches",
         "PKR 24,999",
         "INR 10,999",
         "CNY 999",
         "USD 149",
         "AED 599",
         2024
        ],
        [
         "POCO",
         "X7 128GB",
         "195g",
         "6GB",
         "16MP",
         "64MP",
         "MediaTek Dimensity 8200",
         "5000mAh",
         "6.67 inches",
         "PKR 64,999",
         "INR 22,999",
         "CNY 2,199",
         "USD 329",
         "AED 1,199",
         2025
        ],
        [
         "POCO",
         "X7 Pro 256GB",
         "207g",
         "8GB",
         "20MP",
         "108MP",
         "MediaTek Dimensity 8400",
         "6000mAh",
         "6.67 inches",
         "PKR 79,999",
         "INR 27,999",
         "CNY 2,699",
         "USD 399",
         "AED 1,499",
         2025
        ],
        [
         "POCO",
         "M7 5G 128GB",
         "198g",
         "6GB",
         "8MP",
         "50MP",
         "MediaTek Dimensity 7025",
         "5110mAh",
         "6.67 inches",
         "PKR 39,999",
         "INR 15,999",
         "CNY 1,599",
         "USD 229",
         "AED 899",
         2024
        ],
        [
         "Poco",
         "Pad 5G 128GB",
         "571g",
         "8GB",
         "8MP",
         "8MP",
         "Snapdragon 7s Gen 2",
         "10,000mAh",
         "12.1 inches",
         "PKR 66,220",
         "INR 23,999",
         "CNY 2,099",
         "USD 280",
         "AED 1,029",
         2024
        ],
        [
         "Poco",
         "Pad 5G 256GB",
         "571g",
         "8GB",
         "8MP",
         "8MP",
         "Snapdragon 7s Gen 2",
         "10,000mAh",
         "12.1 inches",
         "PKR 71,220",
         "INR 25,999",
         "CNY 2,299",
         "USD 300",
         "AED 1,099",
         2024
        ],
        [
         "Samsung",
         "Galaxy Z Fold6 256GB",
         "239g",
         "12GB",
         "10MP, 4MP (UDC)",
         "50MP",
         "Snapdragon 8 Gen 3",
         "4400mAh",
         "7.6 inches",
         "PKR 604,999",
         "INR 164,999",
         "�13,999",
         "USD 1,899",
         "AED 7,199",
         2024
        ],
        [
         "Samsung",
         "Galaxy Z Fold6 512GB",
         "239g",
         "12GB",
         "10MP, 4MP (UDC)",
         "50MP",
         "Snapdragon 8 Gen 3",
         "4400mAh",
         "7.6 inches",
         "PKR 544,999",
         "INR 176,999",
         "CNY 15,999",
         "USD 1719",
         "AED 7,699",
         2024
        ],
        [
         "Samsung",
         "Galaxy Z Fold6 1TB",
         "239g",
         "12GB",
         "10MP, 4MP (UDC)",
         "50MP",
         "Snapdragon 8 Gen 3",
         "4400mAh",
         "7.6 inches",
         "Not available",
         "INR 200,999",
         "CNY 17,999�",
         "USD 2,259",
         "AED 8,699",
         2024
        ]
       ],
       "datasetInfos": [],
       "dbfsResultPath": null,
       "isJsonSchema": true,
       "metadata": {},
       "overflow": false,
       "plotOptions": {
        "customPlotOptions": {},
        "displayType": "table",
        "pivotAggregation": null,
        "pivotColumns": null,
        "xColumns": null,
        "yColumns": null
       },
       "removedWidgets": [],
       "schema": [
        {
         "metadata": "{}",
         "name": "Company Name",
         "type": "\"string\""
        },
        {
         "metadata": "{}",
         "name": "Model Name",
         "type": "\"string\""
        },
        {
         "metadata": "{}",
         "name": "Mobile Weight",
         "type": "\"string\""
        },
        {
         "metadata": "{}",
         "name": "RAM",
         "type": "\"string\""
        },
        {
         "metadata": "{}",
         "name": "Front Camera",
         "type": "\"string\""
        },
        {
         "metadata": "{}",
         "name": "Back Camera",
         "type": "\"string\""
        },
        {
         "metadata": "{}",
         "name": "Processor",
         "type": "\"string\""
        },
        {
         "metadata": "{}",
         "name": "Battery Capacity",
         "type": "\"string\""
        },
        {
         "metadata": "{}",
         "name": "Screen Size",
         "type": "\"string\""
        },
        {
         "metadata": "{}",
         "name": "Launched Price (Pakistan)",
         "type": "\"string\""
        },
        {
         "metadata": "{}",
         "name": "Launched Price (India)",
         "type": "\"string\""
        },
        {
         "metadata": "{}",
         "name": "Launched Price (China)",
         "type": "\"string\""
        },
        {
         "metadata": "{}",
         "name": "Launched Price (USA)",
         "type": "\"string\""
        },
        {
         "metadata": "{}",
         "name": "Launched Price (Dubai)",
         "type": "\"string\""
        },
        {
         "metadata": "{}",
         "name": "Launched Year",
         "type": "\"integer\""
        }
       ],
       "type": "table"
      }
     },
     "output_type": "display_data"
    },
    {
     "output_type": "stream",
     "name": "stdout",
     "output_type": "stream",
     "text": [
      "+------------+---------------+-------------+---+------------+-----------+----------+----------------+-----------+-------------------------+----------------------+----------------------+--------------------+----------------------+-------------+\n|Company Name|     Model Name|Mobile Weight|RAM|Front Camera|Back Camera| Processor|Battery Capacity|Screen Size|Launched Price (Pakistan)|Launched Price (India)|Launched Price (China)|Launched Price (USA)|Launched Price (Dubai)|Launched Year|\n+------------+---------------+-------------+---+------------+-----------+----------+----------------+-----------+-------------------------+----------------------+----------------------+--------------------+----------------------+-------------+\n|       Apple|iPhone 16 128GB|         174g|6GB|        12MP|       48MP|A17 Bionic|        3,600mAh| 6.1 inches|              PKR 224,999|            INR 79,999|             CNY 5,799|             USD 799|             AED 2,799|         2024|\n|       Apple|iPhone 16 256GB|         174g|6GB|        12MP|       48MP|A17 Bionic|        3,600mAh| 6.1 inches|              PKR 234,999|            INR 84,999|             CNY 6,099|             USD 849|             AED 2,999|         2024|\n|       Apple|iPhone 16 512GB|         174g|6GB|        12MP|       48MP|A17 Bionic|        3,600mAh| 6.1 inches|              PKR 244,999|            INR 89,999|             CNY 6,499|             USD 899|             AED 3,199|         2024|\n+------------+---------------+-------------+---+------------+-----------+----------+----------------+-----------+-------------------------+----------------------+----------------------+--------------------+----------------------+-------------+\nonly showing top 3 rows\n\n"
     ]
    }
   ],
   "source": [
    "df.display(5)\n",
    "        #OR\n",
    "df.show(3)"
   ]
  },
  {
   "cell_type": "markdown",
   "metadata": {
    "application/vnd.databricks.v1+cell": {
     "cellMetadata": {
      "byteLimit": 2048000,
      "rowLimit": 10000
     },
     "inputWidgets": {},
     "nuid": "210612b0-9079-4aae-a1e6-e38afd0bdac3",
     "showTitle": false,
     "tableResultSettingsMap": {},
     "title": ""
    }
   },
   "source": [
    "####Write"
   ]
  },
  {
   "cell_type": "code",
   "execution_count": 0,
   "metadata": {
    "application/vnd.databricks.v1+cell": {
     "cellMetadata": {
      "byteLimit": 2048000,
      "rowLimit": 10000
     },
     "inputWidgets": {},
     "nuid": "c9819956-03d3-4b57-a68f-73e47a7c2156",
     "showTitle": false,
     "tableResultSettingsMap": {},
     "title": ""
    }
   },
   "outputs": [
    {
     "output_type": "display_data",
     "data": {
      "text/plain": [
       "\u001B[0;31m---------------------------------------------------------------------------\u001B[0m\n",
       "\u001B[0;31mAttributeError\u001B[0m                            Traceback (most recent call last)\n",
       "File \u001B[0;32m<command-1888523386317378>:1\u001B[0m\n",
       "\u001B[0;32m----> 1\u001B[0m \u001B[43mdf\u001B[49m\u001B[38;5;241;43m.\u001B[39;49m\u001B[43mwrite\u001B[49m\u001B[38;5;241;43m.\u001B[39;49m\u001B[43mcsv\u001B[49m\u001B[43m(\u001B[49m\u001B[38;5;124;43m\"\u001B[39;49m\u001B[38;5;124;43mpath/to/output.csv\u001B[39;49m\u001B[38;5;124;43m\"\u001B[39;49m\u001B[43m,\u001B[49m\u001B[43m \u001B[49m\u001B[43mheader\u001B[49m\u001B[38;5;241;43m=\u001B[39;49m\u001B[38;5;28;43;01mTrue\u001B[39;49;00m\u001B[43m,\u001B[49m\u001B[43m \u001B[49m\u001B[43mmode\u001B[49m\u001B[38;5;241;43m=\u001B[39;49m\u001B[38;5;124;43m\"\u001B[39;49m\u001B[38;5;124;43moverwrite\u001B[39;49m\u001B[38;5;124;43m\"\u001B[39;49m\u001B[43m)\u001B[49m\u001B[38;5;241;43m.\u001B[39;49m\u001B[43msave\u001B[49m(\u001B[38;5;124m\"\u001B[39m\u001B[38;5;124mpath/to/output.csv\u001B[39m\u001B[38;5;124m\"\u001B[39m)\n",
       "\n",
       "\u001B[0;31mAttributeError\u001B[0m: 'NoneType' object has no attribute 'save'"
      ]
     },
     "metadata": {
      "application/vnd.databricks.v1+output": {
       "arguments": {},
       "data": "\u001B[0;31m---------------------------------------------------------------------------\u001B[0m\n\u001B[0;31mAttributeError\u001B[0m                            Traceback (most recent call last)\nFile \u001B[0;32m<command-1888523386317378>:1\u001B[0m\n\u001B[0;32m----> 1\u001B[0m \u001B[43mdf\u001B[49m\u001B[38;5;241;43m.\u001B[39;49m\u001B[43mwrite\u001B[49m\u001B[38;5;241;43m.\u001B[39;49m\u001B[43mcsv\u001B[49m\u001B[43m(\u001B[49m\u001B[38;5;124;43m\"\u001B[39;49m\u001B[38;5;124;43mpath/to/output.csv\u001B[39;49m\u001B[38;5;124;43m\"\u001B[39;49m\u001B[43m,\u001B[49m\u001B[43m \u001B[49m\u001B[43mheader\u001B[49m\u001B[38;5;241;43m=\u001B[39;49m\u001B[38;5;28;43;01mTrue\u001B[39;49;00m\u001B[43m,\u001B[49m\u001B[43m \u001B[49m\u001B[43mmode\u001B[49m\u001B[38;5;241;43m=\u001B[39;49m\u001B[38;5;124;43m\"\u001B[39;49m\u001B[38;5;124;43moverwrite\u001B[39;49m\u001B[38;5;124;43m\"\u001B[39;49m\u001B[43m)\u001B[49m\u001B[38;5;241;43m.\u001B[39;49m\u001B[43msave\u001B[49m(\u001B[38;5;124m\"\u001B[39m\u001B[38;5;124mpath/to/output.csv\u001B[39m\u001B[38;5;124m\"\u001B[39m)\n\n\u001B[0;31mAttributeError\u001B[0m: 'NoneType' object has no attribute 'save'",
       "errorSummary": "<span class='ansi-red-fg'>AttributeError</span>: 'NoneType' object has no attribute 'save'",
       "errorTraceType": "ansi",
       "metadata": {},
       "type": "ipynbError"
      }
     },
     "output_type": "display_data"
    }
   ],
   "source": [
    "df.write.csv(\"path/to/output.csv\", header=True, mode=\"overwrite\").save(\"path/to/output.csv\")"
   ]
  },
  {
   "cell_type": "markdown",
   "metadata": {
    "application/vnd.databricks.v1+cell": {
     "cellMetadata": {
      "byteLimit": 2048000,
      "rowLimit": 10000
     },
     "inputWidgets": {},
     "nuid": "45491d55-ad06-4fe5-953a-acac75b7dc71",
     "showTitle": false,
     "tableResultSettingsMap": {},
     "title": ""
    }
   },
   "source": [
    "- **Mode**: is used to specify the behavior when the output file already exists.\n",
    "  - The available options are **overwrite**, **append** and **ignore**.\n",
    "- **.save(\"path/to/output.csv\")**: It is used to save the dataframe to a csv file. "
   ]
  },
  {
   "cell_type": "markdown",
   "metadata": {
    "application/vnd.databricks.v1+cell": {
     "cellMetadata": {
      "byteLimit": 2048000,
      "rowLimit": 10000
     },
     "inputWidgets": {},
     "nuid": "5dcfb9f8-9fa8-41d7-8d08-072546ec9e3a",
     "showTitle": false,
     "tableResultSettingsMap": {},
     "title": ""
    }
   },
   "source": [
    "### From JSON File"
   ]
  },
  {
   "cell_type": "code",
   "execution_count": 0,
   "metadata": {
    "application/vnd.databricks.v1+cell": {
     "cellMetadata": {
      "byteLimit": 2048000,
      "rowLimit": 10000
     },
     "inputWidgets": {},
     "nuid": "04f52fed-5d71-4b58-8b52-3c43ca28c65a",
     "showTitle": false,
     "tableResultSettingsMap": {},
     "title": ""
    }
   },
   "outputs": [
    {
     "output_type": "display_data",
     "data": {
      "text/plain": [
       ""
      ]
     },
     "metadata": {
      "application/vnd.databricks.v1+output": {
       "arguments": {},
       "data": "",
       "errorSummary": "Command skipped",
       "errorTraceType": "ansi",
       "metadata": {},
       "type": "ipynbError"
      }
     },
     "output_type": "display_data"
    }
   ],
   "source": [
    "df.withColumnRenamed('Launched Year','LAUNCHED YEAR').display()"
   ]
  },
  {
   "cell_type": "code",
   "execution_count": 0,
   "metadata": {
    "application/vnd.databricks.v1+cell": {
     "cellMetadata": {
      "byteLimit": 2048000,
      "rowLimit": 10000
     },
     "inputWidgets": {},
     "nuid": "79d645a8-3e93-4a81-b50d-084f3518ee4a",
     "showTitle": false,
     "tableResultSettingsMap": {},
     "title": ""
    }
   },
   "outputs": [
    {
     "output_type": "display_data",
     "data": {
      "text/plain": [
       ""
      ]
     },
     "metadata": {
      "application/vnd.databricks.v1+output": {
       "arguments": {},
       "data": "",
       "errorSummary": "Command skipped",
       "errorTraceType": "ansi",
       "metadata": {},
       "type": "ipynbError"
      }
     },
     "output_type": "display_data"
    }
   ],
   "source": [
    "loc_in_which_dataset_is_stored_in_Databricks= \"/FileStore/tables/Mobiles_Dataset__2025_-1.csv\""
   ]
  },
  {
   "cell_type": "markdown",
   "metadata": {
    "application/vnd.databricks.v1+cell": {
     "cellMetadata": {
      "byteLimit": 2048000,
      "rowLimit": 10000
     },
     "inputWidgets": {},
     "nuid": "1153c040-3705-4ab0-8dbf-823e3510f246",
     "showTitle": false,
     "tableResultSettingsMap": {},
     "title": ""
    }
   },
   "source": [
    "#### Read"
   ]
  },
  {
   "cell_type": "markdown",
   "metadata": {
    "application/vnd.databricks.v1+cell": {
     "cellMetadata": {
      "byteLimit": 2048000,
      "rowLimit": 10000
     },
     "inputWidgets": {},
     "nuid": "be0a52dd-d97c-4362-b632-c07c07475168",
     "showTitle": false,
     "tableResultSettingsMap": {},
     "title": ""
    }
   },
   "source": [
    "#### Multiple Columns"
   ]
  },
  {
   "cell_type": "code",
   "execution_count": 0,
   "metadata": {
    "application/vnd.databricks.v1+cell": {
     "cellMetadata": {
      "byteLimit": 2048000,
      "rowLimit": 10000
     },
     "inputWidgets": {},
     "nuid": "df4a5e92-89d4-4b14-a5c6-5e4f3cbab605",
     "showTitle": false,
     "tableResultSettingsMap": {},
     "title": ""
    }
   },
   "outputs": [
    {
     "output_type": "display_data",
     "data": {
      "text/plain": [
       ""
      ]
     },
     "metadata": {
      "application/vnd.databricks.v1+output": {
       "arguments": {},
       "data": "",
       "errorSummary": "Command skipped",
       "errorTraceType": "ansi",
       "metadata": {},
       "type": "ipynbError"
      }
     },
     "output_type": "display_data"
    }
   ],
   "source": [
    "df.withColumnRenamed(\"Model Name\",\"MODEL NAME\") \\\n",
    "  .withColumnRenamed(\"Company Name\",\"COMPANY NAME\").display()"
   ]
  },
  {
   "cell_type": "code",
   "execution_count": 0,
   "metadata": {
    "application/vnd.databricks.v1+cell": {
     "cellMetadata": {
      "byteLimit": 2048000,
      "rowLimit": 10000
     },
     "inputWidgets": {},
     "nuid": "1cabb078-422c-414b-8c54-3fe7efdda96f",
     "showTitle": false,
     "tableResultSettingsMap": {},
     "title": ""
    }
   },
   "outputs": [
    {
     "output_type": "display_data",
     "data": {
      "text/plain": [
       ""
      ]
     },
     "metadata": {
      "application/vnd.databricks.v1+output": {
       "arguments": {},
       "data": "",
       "errorSummary": "Command skipped",
       "errorTraceType": "ansi",
       "metadata": {},
       "type": "ipynbError"
      }
     },
     "output_type": "display_data"
    }
   ],
   "source": [
    "df=spark.read.format('json').option('multiline',True).load(loc_in_which_dataset_is_stored_in_Databricks)\n",
    "\n",
    "#   ANOTHER WAY\n",
    "\n",
    "df = spark.read.option(\"multiline\", True).json(loc_in_which_dataset_is_stored_in_Databricks) "
   ]
  },
  {
   "cell_type": "markdown",
   "metadata": {
    "application/vnd.databricks.v1+cell": {
     "cellMetadata": {
      "byteLimit": 2048000,
      "rowLimit": 10000
     },
     "inputWidgets": {},
     "nuid": "e9c6b159-a9c8-4d20-98eb-10d96e044997",
     "showTitle": false,
     "tableResultSettingsMap": {},
     "title": ""
    }
   },
   "source": [
    "**OPTIONS**\n",
    "\n",
    "- **compression :** It is used to specify the codec to use when reading compressed json files.\n",
    "\n",
    "- **multiLine :** It is used to read json files in multi-line mode.\n",
    "\n",
    "\n",
    "- **columnNameOfCorruptRecord : ** This option is used to specify the column name for the additional column that is used to capture the malformed JSON records.\n",
    "\n",
    "- **mode:** This is used to specify the behavior when data or table already exists. \n",
    "  - Acceptable options are \"overwrite\", \"append\", \"ignore\", \"error\"."
   ]
  },
  {
   "cell_type": "code",
   "execution_count": 0,
   "metadata": {
    "application/vnd.databricks.v1+cell": {
     "cellMetadata": {
      "byteLimit": 2048000,
      "rowLimit": 10000
     },
     "inputWidgets": {},
     "nuid": "977f3475-0d5b-4a48-9073-29c348d25d4f",
     "showTitle": false,
     "tableResultSettingsMap": {},
     "title": ""
    }
   },
   "outputs": [
    {
     "output_type": "display_data",
     "data": {
      "text/plain": [
       ""
      ]
     },
     "metadata": {
      "application/vnd.databricks.v1+output": {
       "arguments": {},
       "data": "",
       "errorSummary": "Command skipped",
       "errorTraceType": "ansi",
       "metadata": {},
       "type": "ipynbError"
      }
     },
     "output_type": "display_data"
    }
   ],
   "source": [
    "df.display(5)\n",
    "        #OR\n",
    "df.show(3)"
   ]
  },
  {
   "cell_type": "markdown",
   "metadata": {
    "application/vnd.databricks.v1+cell": {
     "cellMetadata": {
      "byteLimit": 2048000,
      "rowLimit": 10000
     },
     "inputWidgets": {},
     "nuid": "059aff07-b91c-4c6b-9db3-54405309fe8a",
     "showTitle": false,
     "tableResultSettingsMap": {},
     "title": ""
    }
   },
   "source": [
    "####Write"
   ]
  },
  {
   "cell_type": "code",
   "execution_count": 0,
   "metadata": {
    "application/vnd.databricks.v1+cell": {
     "cellMetadata": {
      "byteLimit": 2048000,
      "rowLimit": 10000
     },
     "inputWidgets": {},
     "nuid": "264c50e8-8c8f-4ae7-a2d9-d2af3c31d5c0",
     "showTitle": false,
     "tableResultSettingsMap": {},
     "title": ""
    }
   },
   "outputs": [
    {
     "output_type": "display_data",
     "data": {
      "text/plain": [
       ""
      ]
     },
     "metadata": {
      "application/vnd.databricks.v1+output": {
       "arguments": {},
       "data": "",
       "errorSummary": "Command skipped",
       "errorTraceType": "ansi",
       "metadata": {},
       "type": "ipynbError"
      }
     },
     "output_type": "display_data"
    }
   ],
   "source": [
    "df.write.json(\"path/to/file.json\", compression=\"gzip\",) "
   ]
  },
  {
   "cell_type": "markdown",
   "metadata": {
    "application/vnd.databricks.v1+cell": {
     "cellMetadata": {
      "byteLimit": 2048000,
      "rowLimit": 10000
     },
     "inputWidgets": {},
     "nuid": "7806bcb4-ed5d-4752-acec-ddb88cdcb4a6",
     "showTitle": false,
     "tableResultSettingsMap": {},
     "title": ""
    }
   },
   "source": [
    " \n",
    "\n",
    "- **compression :** This is used to specify the codec to use when writing compressed json files.\n",
    "- **multiLine :** This is used to write json files in multi-line mode.\n",
    "\n",
    "- **timeZone :** This is used to specify the time zone to use when writing timestamps.\n",
    "- **mode :** This is used to specify the behavior when data or table already exists.\n",
    "  - Acceptable options are \n",
    "    - overwrite\n",
    "    - append\n",
    "    - ignore\n",
    "    - error"
   ]
  },
  {
   "cell_type": "markdown",
   "metadata": {
    "application/vnd.databricks.v1+cell": {
     "cellMetadata": {
      "byteLimit": 2048000,
      "rowLimit": 10000
     },
     "inputWidgets": {},
     "nuid": "11ef9dad-43f4-4868-a0b4-e9b61fac7d72",
     "showTitle": false,
     "tableResultSettingsMap": {},
     "title": ""
    }
   },
   "source": [
    "### From Scratch"
   ]
  },
  {
   "cell_type": "code",
   "execution_count": 0,
   "metadata": {
    "application/vnd.databricks.v1+cell": {
     "cellMetadata": {
      "byteLimit": 2048000,
      "rowLimit": 10000
     },
     "inputWidgets": {},
     "nuid": "fa898f3e-9bea-4c82-ab3c-c6bf52a8ce30",
     "showTitle": true,
     "tableResultSettingsMap": {},
     "title": "List of Multiple Values created"
    }
   },
   "outputs": [],
   "source": [
    "\n",
    "data = [\n",
    "    [\"Alice\", \"HR\", 50000, 28],\n",
    "    [\"Bob\", \"Finance\", 60000, None],\n",
    "    [\"Charlie\", None, 70000, 35],\n",
    "    [\"David\", \"HR\", None, 40],\n",
    "    [\"Bob\", \"Finance\", 60000, None],\n",
    "    [\"David\", \"HR\", None, 40]\n",
    "]"
   ]
  },
  {
   "cell_type": "code",
   "execution_count": 0,
   "metadata": {
    "application/vnd.databricks.v1+cell": {
     "cellMetadata": {
      "byteLimit": 2048000,
      "rowLimit": 10000
     },
     "inputWidgets": {},
     "nuid": "98f1e031-53dd-4faa-910f-9528ea797be6",
     "showTitle": true,
     "tableResultSettingsMap": {},
     "title": "Schema Created for Dataframe"
    }
   },
   "outputs": [],
   "source": [
    "Schema = '''\n",
    "            Name STRING,\n",
    "            Department STRING,\n",
    "            Salary INTEGER,\n",
    "            Age INTEGER\n",
    "        ''' "
   ]
  },
  {
   "cell_type": "code",
   "execution_count": 0,
   "metadata": {
    "application/vnd.databricks.v1+cell": {
     "cellMetadata": {
      "byteLimit": 2048000,
      "rowLimit": 10000
     },
     "inputWidgets": {},
     "nuid": "e5953600-71c3-4696-a7bf-953c68a9d5a0",
     "showTitle": true,
     "tableResultSettingsMap": {},
     "title": "Dataframe Creation"
    }
   },
   "outputs": [],
   "source": [
    "df = spark.createDataFrame(data=data, schema = Schema)"
   ]
  },
  {
   "cell_type": "code",
   "execution_count": 0,
   "metadata": {
    "application/vnd.databricks.v1+cell": {
     "cellMetadata": {
      "byteLimit": 2048000,
      "rowLimit": 10000
     },
     "inputWidgets": {},
     "nuid": "3ea7b2fc-9d91-42a5-9623-d85af9a53401",
     "showTitle": false,
     "tableResultSettingsMap": {},
     "title": ""
    }
   },
   "outputs": [
    {
     "output_type": "stream",
     "name": "stdout",
     "output_type": "stream",
     "text": [
      "root\n |-- Name: string (nullable = true)\n |-- Department: string (nullable = true)\n |-- Salary: integer (nullable = true)\n |-- Age: integer (nullable = true)\n\n+-------+----------+------+----+\n|   Name|Department|Salary| Age|\n+-------+----------+------+----+\n|  Alice|        HR| 50000|  28|\n|    Bob|   Finance| 60000|null|\n|Charlie|      null| 70000|  35|\n+-------+----------+------+----+\nonly showing top 3 rows\n\n"
     ]
    },
    {
     "output_type": "display_data",
     "data": {
      "text/html": [
       "<style scoped>\n",
       "  .table-result-container {\n",
       "    max-height: 300px;\n",
       "    overflow: auto;\n",
       "  }\n",
       "  table, th, td {\n",
       "    border: 1px solid black;\n",
       "    border-collapse: collapse;\n",
       "  }\n",
       "  th, td {\n",
       "    padding: 5px;\n",
       "  }\n",
       "  th {\n",
       "    text-align: left;\n",
       "  }\n",
       "</style><div class='table-result-container'><table class='table-result'><thead style='background-color: white'><tr><th>Name</th><th>Department</th><th>Salary</th><th>Age</th></tr></thead><tbody><tr><td>Alice</td><td>HR</td><td>50000</td><td>28</td></tr><tr><td>Bob</td><td>Finance</td><td>60000</td><td>null</td></tr><tr><td>Charlie</td><td>null</td><td>70000</td><td>35</td></tr><tr><td>David</td><td>HR</td><td>null</td><td>40</td></tr><tr><td>Bob</td><td>Finance</td><td>60000</td><td>null</td></tr><tr><td>David</td><td>HR</td><td>null</td><td>40</td></tr></tbody></table></div>"
      ]
     },
     "metadata": {
      "application/vnd.databricks.v1+output": {
       "addedWidgets": {},
       "aggData": [],
       "aggError": "",
       "aggOverflow": false,
       "aggSchema": [],
       "aggSeriesLimitReached": false,
       "aggType": "",
       "arguments": {},
       "columnCustomDisplayInfos": {},
       "data": [
        [
         "Alice",
         "HR",
         50000,
         28
        ],
        [
         "Bob",
         "Finance",
         60000,
         null
        ],
        [
         "Charlie",
         null,
         70000,
         35
        ],
        [
         "David",
         "HR",
         null,
         40
        ],
        [
         "Bob",
         "Finance",
         60000,
         null
        ],
        [
         "David",
         "HR",
         null,
         40
        ]
       ],
       "datasetInfos": [],
       "dbfsResultPath": null,
       "isJsonSchema": true,
       "metadata": {},
       "overflow": false,
       "plotOptions": {
        "customPlotOptions": {},
        "displayType": "table",
        "pivotAggregation": null,
        "pivotColumns": null,
        "xColumns": null,
        "yColumns": null
       },
       "removedWidgets": [],
       "schema": [
        {
         "metadata": "{}",
         "name": "Name",
         "type": "\"string\""
        },
        {
         "metadata": "{}",
         "name": "Department",
         "type": "\"string\""
        },
        {
         "metadata": "{}",
         "name": "Salary",
         "type": "\"integer\""
        },
        {
         "metadata": "{}",
         "name": "Age",
         "type": "\"integer\""
        }
       ],
       "type": "table"
      }
     },
     "output_type": "display_data"
    }
   ],
   "source": [
    "df.printSchema()\n",
    "df.show(3)\n",
    "df.display(3)"
   ]
  },
  {
   "cell_type": "markdown",
   "metadata": {
    "application/vnd.databricks.v1+cell": {
     "cellMetadata": {
      "byteLimit": 2048000,
      "rowLimit": 10000
     },
     "inputWidgets": {},
     "nuid": "7db40eb5-8817-4b48-b732-a4d17e6b68bb",
     "showTitle": false,
     "tableResultSettingsMap": {},
     "title": ""
    }
   },
   "source": [
    "![](image.png)"
   ]
  },
  {
   "cell_type": "markdown",
   "metadata": {
    "application/vnd.databricks.v1+cell": {
     "cellMetadata": {
      "byteLimit": 2048000,
      "rowLimit": 10000
     },
     "inputWidgets": {},
     "nuid": "df9b44dc-9433-4089-b230-6c6d6a4ff4d8",
     "showTitle": false,
     "tableResultSettingsMap": {},
     "title": ""
    }
   },
   "source": [
    "##DataFrame Operations"
   ]
  },
  {
   "cell_type": "markdown",
   "metadata": {
    "application/vnd.databricks.v1+cell": {
     "cellMetadata": {
      "byteLimit": 2048000,
      "rowLimit": 10000
     },
     "inputWidgets": {},
     "nuid": "56d2362e-e922-4f93-8971-5116c4eab824",
     "showTitle": false,
     "tableResultSettingsMap": {},
     "title": ""
    }
   },
   "source": [
    "###withColumnRenamed: [ Rename the Existing Column ]\n",
    "\n",
    "- It Allows us to rename an Existing column in a DataFrame.\n",
    "\n",
    "- This is especially helpful for - \n",
    "  - improving the readability of your data\n",
    "  - adhering to specific naming standards \n",
    "  - preparing for data integration tasks."
   ]
  },
  {
   "cell_type": "markdown",
   "metadata": {
    "application/vnd.databricks.v1+cell": {
     "cellMetadata": {
      "byteLimit": 2048000,
      "rowLimit": 10000
     },
     "inputWidgets": {},
     "nuid": "21e4de87-25b2-4c25-ac0e-f7d77a801323",
     "showTitle": false,
     "tableResultSettingsMap": {},
     "title": ""
    }
   },
   "source": [
    "#### Syntax\n",
    "\n",
    "###### `withColumnRenamed(existingName,newNam)`\n",
    "\n",
    "this function takes two parameters\n",
    "-  existingName – The existing column we want to change\n",
    "-  newName – New name of the column\n",
    "\n",
    "\n",
    "\n",
    "\n",
    "\n",
    "Returns a new DataFrame with a column renamed.\n",
    "\n",
    "\n"
   ]
  },
  {
   "cell_type": "markdown",
   "metadata": {
    "application/vnd.databricks.v1+cell": {
     "cellMetadata": {
      "byteLimit": 2048000,
      "rowLimit": 10000
     },
     "inputWidgets": {},
     "nuid": "e48e3957-fcca-485b-af57-2ad3b95dde62",
     "showTitle": false,
     "tableResultSettingsMap": {},
     "title": ""
    }
   },
   "source": [
    "#### Single Column"
   ]
  },
  {
   "cell_type": "code",
   "execution_count": 0,
   "metadata": {
    "application/vnd.databricks.v1+cell": {
     "cellMetadata": {
      "byteLimit": 2048000,
      "rowLimit": 10000
     },
     "inputWidgets": {},
     "nuid": "d20914f6-6bcf-4ad0-a56a-cdc8b52c4480",
     "showTitle": false,
     "tableResultSettingsMap": {},
     "title": ""
    }
   },
   "outputs": [
    {
     "output_type": "display_data",
     "data": {
      "text/html": [
       "<style scoped>\n",
       "  .table-result-container {\n",
       "    max-height: 300px;\n",
       "    overflow: auto;\n",
       "  }\n",
       "  table, th, td {\n",
       "    border: 1px solid black;\n",
       "    border-collapse: collapse;\n",
       "  }\n",
       "  th, td {\n",
       "    padding: 5px;\n",
       "  }\n",
       "  th {\n",
       "    text-align: left;\n",
       "  }\n",
       "</style><div class='table-result-container'><table class='table-result'><thead style='background-color: white'><tr><th>NAME</th><th>Department</th><th>Salary</th><th>Age</th></tr></thead><tbody><tr><td>Alice</td><td>HR</td><td>50000</td><td>28</td></tr><tr><td>Bob</td><td>Finance</td><td>60000</td><td>null</td></tr><tr><td>Charlie</td><td>null</td><td>70000</td><td>35</td></tr><tr><td>David</td><td>HR</td><td>null</td><td>40</td></tr><tr><td>Bob</td><td>Finance</td><td>60000</td><td>null</td></tr><tr><td>David</td><td>HR</td><td>null</td><td>40</td></tr></tbody></table></div>"
      ]
     },
     "metadata": {
      "application/vnd.databricks.v1+output": {
       "addedWidgets": {},
       "aggData": [],
       "aggError": "",
       "aggOverflow": false,
       "aggSchema": [],
       "aggSeriesLimitReached": false,
       "aggType": "",
       "arguments": {},
       "columnCustomDisplayInfos": {},
       "data": [
        [
         "Alice",
         "HR",
         50000,
         28
        ],
        [
         "Bob",
         "Finance",
         60000,
         null
        ],
        [
         "Charlie",
         null,
         70000,
         35
        ],
        [
         "David",
         "HR",
         null,
         40
        ],
        [
         "Bob",
         "Finance",
         60000,
         null
        ],
        [
         "David",
         "HR",
         null,
         40
        ]
       ],
       "datasetInfos": [],
       "dbfsResultPath": null,
       "isJsonSchema": true,
       "metadata": {},
       "overflow": false,
       "plotOptions": {
        "customPlotOptions": {},
        "displayType": "table",
        "pivotAggregation": null,
        "pivotColumns": null,
        "xColumns": null,
        "yColumns": null
       },
       "removedWidgets": [],
       "schema": [
        {
         "metadata": "{}",
         "name": "NAME",
         "type": "\"string\""
        },
        {
         "metadata": "{}",
         "name": "Department",
         "type": "\"string\""
        },
        {
         "metadata": "{}",
         "name": "Salary",
         "type": "\"integer\""
        },
        {
         "metadata": "{}",
         "name": "Age",
         "type": "\"integer\""
        }
       ],
       "type": "table"
      }
     },
     "output_type": "display_data"
    }
   ],
   "source": [
    "df=df.withColumnRenamed('Name','NAME')\n",
    "df.display()"
   ]
  },
  {
   "cell_type": "markdown",
   "metadata": {
    "application/vnd.databricks.v1+cell": {
     "cellMetadata": {
      "byteLimit": 2048000,
      "rowLimit": 10000
     },
     "inputWidgets": {},
     "nuid": "5d8ef393-3e19-4b58-9263-ffa939d92dd6",
     "showTitle": false,
     "tableResultSettingsMap": {},
     "title": ""
    }
   },
   "source": [
    "#### Multiple Columns"
   ]
  },
  {
   "cell_type": "code",
   "execution_count": 0,
   "metadata": {
    "application/vnd.databricks.v1+cell": {
     "cellMetadata": {
      "byteLimit": 2048000,
      "rowLimit": 10000
     },
     "inputWidgets": {},
     "nuid": "82f22617-8311-45e2-bfcf-c52467fbf4a9",
     "showTitle": false,
     "tableResultSettingsMap": {},
     "title": ""
    }
   },
   "outputs": [
    {
     "output_type": "display_data",
     "data": {
      "text/html": [
       "<style scoped>\n",
       "  .table-result-container {\n",
       "    max-height: 300px;\n",
       "    overflow: auto;\n",
       "  }\n",
       "  table, th, td {\n",
       "    border: 1px solid black;\n",
       "    border-collapse: collapse;\n",
       "  }\n",
       "  th, td {\n",
       "    padding: 5px;\n",
       "  }\n",
       "  th {\n",
       "    text-align: left;\n",
       "  }\n",
       "</style><div class='table-result-container'><table class='table-result'><thead style='background-color: white'><tr><th>NAME</th><th>DEPARTMENT</th><th>SALARY</th><th>Age</th></tr></thead><tbody><tr><td>Alice</td><td>HR</td><td>50000</td><td>28</td></tr><tr><td>Bob</td><td>Finance</td><td>60000</td><td>null</td></tr><tr><td>Charlie</td><td>null</td><td>70000</td><td>35</td></tr><tr><td>David</td><td>HR</td><td>null</td><td>40</td></tr><tr><td>Bob</td><td>Finance</td><td>60000</td><td>null</td></tr><tr><td>David</td><td>HR</td><td>null</td><td>40</td></tr></tbody></table></div>"
      ]
     },
     "metadata": {
      "application/vnd.databricks.v1+output": {
       "addedWidgets": {},
       "aggData": [],
       "aggError": "",
       "aggOverflow": false,
       "aggSchema": [],
       "aggSeriesLimitReached": false,
       "aggType": "",
       "arguments": {},
       "columnCustomDisplayInfos": {},
       "data": [
        [
         "Alice",
         "HR",
         50000,
         28
        ],
        [
         "Bob",
         "Finance",
         60000,
         null
        ],
        [
         "Charlie",
         null,
         70000,
         35
        ],
        [
         "David",
         "HR",
         null,
         40
        ],
        [
         "Bob",
         "Finance",
         60000,
         null
        ],
        [
         "David",
         "HR",
         null,
         40
        ]
       ],
       "datasetInfos": [],
       "dbfsResultPath": null,
       "isJsonSchema": true,
       "metadata": {},
       "overflow": false,
       "plotOptions": {
        "customPlotOptions": {},
        "displayType": "table",
        "pivotAggregation": null,
        "pivotColumns": null,
        "xColumns": null,
        "yColumns": null
       },
       "removedWidgets": [],
       "schema": [
        {
         "metadata": "{}",
         "name": "NAME",
         "type": "\"string\""
        },
        {
         "metadata": "{}",
         "name": "DEPARTMENT",
         "type": "\"string\""
        },
        {
         "metadata": "{}",
         "name": "SALARY",
         "type": "\"integer\""
        },
        {
         "metadata": "{}",
         "name": "Age",
         "type": "\"integer\""
        }
       ],
       "type": "table"
      }
     },
     "output_type": "display_data"
    }
   ],
   "source": [
    "df=df.withColumnRenamed(\"Department\",\"DEPARTMENT\") \\\n",
    "  .withColumnRenamed(\"Salary\",\"SALARY\")\n",
    "df.display()"
   ]
  },
  {
   "cell_type": "markdown",
   "metadata": {
    "application/vnd.databricks.v1+cell": {
     "cellMetadata": {
      "byteLimit": 2048000,
      "rowLimit": 10000
     },
     "inputWidgets": {},
     "nuid": "0e5a7e3f-bcba-4b18-8630-9855c0066df0",
     "showTitle": false,
     "tableResultSettingsMap": {},
     "title": ""
    }
   },
   "source": [
    "### WithColumn: [ Add a new column ]"
   ]
  },
  {
   "cell_type": "markdown",
   "metadata": {
    "application/vnd.databricks.v1+cell": {
     "cellMetadata": {
      "byteLimit": 2048000,
      "rowLimit": 10000
     },
     "inputWidgets": {},
     "nuid": "007dea05-9f65-4649-96fe-596783eff9e1",
     "showTitle": false,
     "tableResultSettingsMap": {},
     "title": ""
    }
   },
   "source": [
    "#### With Constant Value\n",
    "\n",
    "- to add a new column to DataFrame use lit() function by importing from pyspark.sql.functions. \n",
    "- lit() function takes a constant value you wanted to add and returns a Column type.\n",
    "- In case you want to add a NULL/None use lit(None)\n",
    "\n",
    "\n",
    "\n",
    "`from pyspark.sql.functions import lit`\n",
    "\n",
    "`df = df.withColumn('New Column's Name',lit(\"new value\")) `"
   ]
  },
  {
   "cell_type": "code",
   "execution_count": 0,
   "metadata": {
    "application/vnd.databricks.v1+cell": {
     "cellMetadata": {
      "byteLimit": 2048000,
      "rowLimit": 10000
     },
     "inputWidgets": {},
     "nuid": "b4a2443e-7d58-4e2f-817e-d9559d30623a",
     "showTitle": false,
     "tableResultSettingsMap": {},
     "title": ""
    }
   },
   "outputs": [],
   "source": [
    "df=df.withColumn('Flag',lit(\"Y\"))\n",
    "#This will create a new column named 'flag' in which each row has the same value 'Y'"
   ]
  },
  {
   "cell_type": "markdown",
   "metadata": {
    "application/vnd.databricks.v1+cell": {
     "cellMetadata": {
      "byteLimit": 2048000,
      "rowLimit": 10000
     },
     "inputWidgets": {},
     "nuid": "fe82e038-3f80-4efa-8f3c-8e77fbbef41b",
     "showTitle": false,
     "tableResultSettingsMap": {},
     "title": ""
    }
   },
   "source": [
    "#### With Existing Column"
   ]
  },
  {
   "cell_type": "code",
   "execution_count": 0,
   "metadata": {
    "application/vnd.databricks.v1+cell": {
     "cellMetadata": {
      "byteLimit": 2048000,
      "rowLimit": 10000
     },
     "inputWidgets": {},
     "nuid": "349d42f4-7d9e-4a51-9de1-46e1d70ec12f",
     "showTitle": false,
     "tableResultSettingsMap": {},
     "title": ""
    }
   },
   "outputs": [
    {
     "output_type": "display_data",
     "data": {
      "text/html": [
       "<style scoped>\n",
       "  .table-result-container {\n",
       "    max-height: 300px;\n",
       "    overflow: auto;\n",
       "  }\n",
       "  table, th, td {\n",
       "    border: 1px solid black;\n",
       "    border-collapse: collapse;\n",
       "  }\n",
       "  th, td {\n",
       "    padding: 5px;\n",
       "  }\n",
       "  th {\n",
       "    text-align: left;\n",
       "  }\n",
       "</style><div class='table-result-container'><table class='table-result'><thead style='background-color: white'><tr><th>NAME</th><th>DEPARTMENT</th><th>SALARY</th><th>Age</th><th>Flag</th><th>Bonus</th></tr></thead><tbody><tr><td>Alice</td><td>HR</td><td>50000</td><td>28</td><td>Y</td><td>12500.0</td></tr><tr><td>Bob</td><td>Finance</td><td>60000</td><td>null</td><td>Y</td><td>15000.0</td></tr><tr><td>Charlie</td><td>null</td><td>70000</td><td>35</td><td>Y</td><td>17500.0</td></tr><tr><td>David</td><td>HR</td><td>null</td><td>40</td><td>Y</td><td>null</td></tr><tr><td>Bob</td><td>Finance</td><td>60000</td><td>null</td><td>Y</td><td>15000.0</td></tr><tr><td>David</td><td>HR</td><td>null</td><td>40</td><td>Y</td><td>null</td></tr></tbody></table></div>"
      ]
     },
     "metadata": {
      "application/vnd.databricks.v1+output": {
       "addedWidgets": {},
       "aggData": [],
       "aggError": "",
       "aggOverflow": false,
       "aggSchema": [],
       "aggSeriesLimitReached": false,
       "aggType": "",
       "arguments": {},
       "columnCustomDisplayInfos": {},
       "data": [
        [
         "Alice",
         "HR",
         50000,
         28,
         "Y",
         12500.0
        ],
        [
         "Bob",
         "Finance",
         60000,
         null,
         "Y",
         15000.0
        ],
        [
         "Charlie",
         null,
         70000,
         35,
         "Y",
         17500.0
        ],
        [
         "David",
         "HR",
         null,
         40,
         "Y",
         null
        ],
        [
         "Bob",
         "Finance",
         60000,
         null,
         "Y",
         15000.0
        ],
        [
         "David",
         "HR",
         null,
         40,
         "Y",
         null
        ]
       ],
       "datasetInfos": [],
       "dbfsResultPath": null,
       "isJsonSchema": true,
       "metadata": {},
       "overflow": false,
       "plotOptions": {
        "customPlotOptions": {},
        "displayType": "table",
        "pivotAggregation": null,
        "pivotColumns": null,
        "xColumns": null,
        "yColumns": null
       },
       "removedWidgets": [],
       "schema": [
        {
         "metadata": "{}",
         "name": "NAME",
         "type": "\"string\""
        },
        {
         "metadata": "{}",
         "name": "DEPARTMENT",
         "type": "\"string\""
        },
        {
         "metadata": "{}",
         "name": "SALARY",
         "type": "\"integer\""
        },
        {
         "metadata": "{}",
         "name": "Age",
         "type": "\"integer\""
        },
        {
         "metadata": "{}",
         "name": "Flag",
         "type": "\"string\""
        },
        {
         "metadata": "{}",
         "name": "Bonus",
         "type": "\"double\""
        }
       ],
       "type": "table"
      }
     },
     "output_type": "display_data"
    }
   ],
   "source": [
    "df=df.withColumn(\"Bonus\",df['Salary']*0.25)\n",
    "df=df.withColumn(\"Bonus\",col('Salary')*0.25)\n",
    "df.display()\n",
    "#This will create a new column named 'Bonus'"
   ]
  },
  {
   "cell_type": "markdown",
   "metadata": {
    "application/vnd.databricks.v1+cell": {
     "cellMetadata": {
      "byteLimit": 2048000,
      "rowLimit": 10000
     },
     "inputWidgets": {},
     "nuid": "b5afd86d-8ede-44c3-bc16-17e996ab21a6",
     "showTitle": false,
     "tableResultSettingsMap": {},
     "title": ""
    }
   },
   "source": [
    "#### Based on a specific Condition\n",
    "\n",
    "use `when otherwise` and `lit()` together."
   ]
  },
  {
   "cell_type": "markdown",
   "metadata": {
    "application/vnd.databricks.v1+cell": {
     "cellMetadata": {
      "byteLimit": 2048000,
      "rowLimit": 10000
     },
     "inputWidgets": {},
     "nuid": "c32e7334-9f86-47e7-abb8-3932dfa9cfb4",
     "showTitle": false,
     "tableResultSettingsMap": {},
     "title": ""
    }
   },
   "source": [
    "Method 1:"
   ]
  },
  {
   "cell_type": "code",
   "execution_count": 0,
   "metadata": {
    "application/vnd.databricks.v1+cell": {
     "cellMetadata": {
      "byteLimit": 2048000,
      "rowLimit": 10000
     },
     "inputWidgets": {},
     "nuid": "6a6bd3fe-402d-4666-8f8f-95ff35da4be3",
     "showTitle": false,
     "tableResultSettingsMap": {},
     "title": ""
    }
   },
   "outputs": [
    {
     "output_type": "display_data",
     "data": {
      "text/html": [
       "<style scoped>\n",
       "  .table-result-container {\n",
       "    max-height: 300px;\n",
       "    overflow: auto;\n",
       "  }\n",
       "  table, th, td {\n",
       "    border: 1px solid black;\n",
       "    border-collapse: collapse;\n",
       "  }\n",
       "  th, td {\n",
       "    padding: 5px;\n",
       "  }\n",
       "  th {\n",
       "    text-align: left;\n",
       "  }\n",
       "</style><div class='table-result-container'><table class='table-result'><thead style='background-color: white'><tr><th>NAME</th><th>DEPARTMENT</th><th>SALARY</th><th>Age</th><th>Flag</th><th>Bonus</th><th>YOUNG or OLD</th></tr></thead><tbody><tr><td>Alice</td><td>HR</td><td>50000</td><td>28</td><td>Y</td><td>12500.0</td><td>Young</td></tr><tr><td>Bob</td><td>Finance</td><td>60000</td><td>null</td><td>Y</td><td>15000.0</td><td>Old</td></tr><tr><td>Charlie</td><td>null</td><td>70000</td><td>35</td><td>Y</td><td>17500.0</td><td>Old</td></tr><tr><td>David</td><td>HR</td><td>null</td><td>40</td><td>Y</td><td>null</td><td>Old</td></tr><tr><td>Bob</td><td>Finance</td><td>60000</td><td>null</td><td>Y</td><td>15000.0</td><td>Old</td></tr><tr><td>David</td><td>HR</td><td>null</td><td>40</td><td>Y</td><td>null</td><td>Old</td></tr></tbody></table></div>"
      ]
     },
     "metadata": {
      "application/vnd.databricks.v1+output": {
       "addedWidgets": {},
       "aggData": [],
       "aggError": "",
       "aggOverflow": false,
       "aggSchema": [],
       "aggSeriesLimitReached": false,
       "aggType": "",
       "arguments": {},
       "columnCustomDisplayInfos": {},
       "data": [
        [
         "Alice",
         "HR",
         50000,
         28,
         "Y",
         12500.0,
         "Young"
        ],
        [
         "Bob",
         "Finance",
         60000,
         null,
         "Y",
         15000.0,
         "Old"
        ],
        [
         "Charlie",
         null,
         70000,
         35,
         "Y",
         17500.0,
         "Old"
        ],
        [
         "David",
         "HR",
         null,
         40,
         "Y",
         null,
         "Old"
        ],
        [
         "Bob",
         "Finance",
         60000,
         null,
         "Y",
         15000.0,
         "Old"
        ],
        [
         "David",
         "HR",
         null,
         40,
         "Y",
         null,
         "Old"
        ]
       ],
       "datasetInfos": [],
       "dbfsResultPath": null,
       "isJsonSchema": true,
       "metadata": {},
       "overflow": false,
       "plotOptions": {
        "customPlotOptions": {},
        "displayType": "table",
        "pivotAggregation": null,
        "pivotColumns": null,
        "xColumns": null,
        "yColumns": null
       },
       "removedWidgets": [],
       "schema": [
        {
         "metadata": "{}",
         "name": "NAME",
         "type": "\"string\""
        },
        {
         "metadata": "{}",
         "name": "DEPARTMENT",
         "type": "\"string\""
        },
        {
         "metadata": "{}",
         "name": "SALARY",
         "type": "\"integer\""
        },
        {
         "metadata": "{}",
         "name": "Age",
         "type": "\"integer\""
        },
        {
         "metadata": "{}",
         "name": "Flag",
         "type": "\"string\""
        },
        {
         "metadata": "{}",
         "name": "Bonus",
         "type": "\"double\""
        },
        {
         "metadata": "{}",
         "name": "YOUNG or OLD",
         "type": "\"string\""
        }
       ],
       "type": "table"
      }
     },
     "output_type": "display_data"
    },
    {
     "output_type": "display_data",
     "data": {
      "text/html": [
       "<style scoped>\n",
       "  .table-result-container {\n",
       "    max-height: 300px;\n",
       "    overflow: auto;\n",
       "  }\n",
       "  table, th, td {\n",
       "    border: 1px solid black;\n",
       "    border-collapse: collapse;\n",
       "  }\n",
       "  th, td {\n",
       "    padding: 5px;\n",
       "  }\n",
       "  th {\n",
       "    text-align: left;\n",
       "  }\n",
       "</style><div class='table-result-container'><table class='table-result'><thead style='background-color: white'><tr><th>NAME</th><th>DEPARTMENT</th><th>SALARY</th><th>Age</th><th>Flag</th><th>Bonus</th><th>YOUNG or OLD</th></tr></thead><tbody><tr><td>Alice</td><td>HR</td><td>50000</td><td>28</td><td>Y</td><td>12500.0</td><td>Young Blood</td></tr><tr><td>Bob</td><td>Finance</td><td>60000</td><td>null</td><td>Y</td><td>15000.0</td><td>Oldie</td></tr><tr><td>Charlie</td><td>null</td><td>70000</td><td>35</td><td>Y</td><td>17500.0</td><td>Oldie</td></tr><tr><td>David</td><td>HR</td><td>null</td><td>40</td><td>Y</td><td>null</td><td>Oldie</td></tr><tr><td>Bob</td><td>Finance</td><td>60000</td><td>null</td><td>Y</td><td>15000.0</td><td>Oldie</td></tr><tr><td>David</td><td>HR</td><td>null</td><td>40</td><td>Y</td><td>null</td><td>Oldie</td></tr></tbody></table></div>"
      ]
     },
     "metadata": {
      "application/vnd.databricks.v1+output": {
       "addedWidgets": {},
       "aggData": [],
       "aggError": "",
       "aggOverflow": false,
       "aggSchema": [],
       "aggSeriesLimitReached": false,
       "aggType": "",
       "arguments": {},
       "columnCustomDisplayInfos": {},
       "data": [
        [
         "Alice",
         "HR",
         50000,
         28,
         "Y",
         12500.0,
         "Young Blood"
        ],
        [
         "Bob",
         "Finance",
         60000,
         null,
         "Y",
         15000.0,
         "Oldie"
        ],
        [
         "Charlie",
         null,
         70000,
         35,
         "Y",
         17500.0,
         "Oldie"
        ],
        [
         "David",
         "HR",
         null,
         40,
         "Y",
         null,
         "Oldie"
        ],
        [
         "Bob",
         "Finance",
         60000,
         null,
         "Y",
         15000.0,
         "Oldie"
        ],
        [
         "David",
         "HR",
         null,
         40,
         "Y",
         null,
         "Oldie"
        ]
       ],
       "datasetInfos": [],
       "dbfsResultPath": null,
       "isJsonSchema": true,
       "metadata": {},
       "overflow": false,
       "plotOptions": {
        "customPlotOptions": {},
        "displayType": "table",
        "pivotAggregation": null,
        "pivotColumns": null,
        "xColumns": null,
        "yColumns": null
       },
       "removedWidgets": [],
       "schema": [
        {
         "metadata": "{}",
         "name": "NAME",
         "type": "\"string\""
        },
        {
         "metadata": "{}",
         "name": "DEPARTMENT",
         "type": "\"string\""
        },
        {
         "metadata": "{}",
         "name": "SALARY",
         "type": "\"integer\""
        },
        {
         "metadata": "{}",
         "name": "Age",
         "type": "\"integer\""
        },
        {
         "metadata": "{}",
         "name": "Flag",
         "type": "\"string\""
        },
        {
         "metadata": "{}",
         "name": "Bonus",
         "type": "\"double\""
        },
        {
         "metadata": "{}",
         "name": "YOUNG or OLD",
         "type": "\"string\""
        }
       ],
       "type": "table"
      }
     },
     "output_type": "display_data"
    }
   ],
   "source": [
    "df=df.withColumn(\"YOUNG or OLD\", when(df['Age'] < 30, \"Young\").otherwise(\"Old\")) \n",
    "df.display() \n",
    "\n",
    "#OR\n",
    "\n",
    "df=df.withColumn(\"YOUNG or OLD\",\\\n",
    "              when((df['Age'] < 30), \"Young Blood\") \\\n",
    "              .when((df['Age'] < 50) & (df['Age'] > 40), \"Middle Aged\") \\\n",
    "               .otherwise(\"Oldie\")\\\n",
    "               )\n",
    "df.display()"
   ]
  },
  {
   "cell_type": "markdown",
   "metadata": {
    "application/vnd.databricks.v1+cell": {
     "cellMetadata": {
      "byteLimit": 2048000,
      "rowLimit": 10000
     },
     "inputWidgets": {},
     "nuid": "a62e68fd-5ae6-49f5-bf64-542c0b2e4da4",
     "showTitle": false,
     "tableResultSettingsMap": {},
     "title": ""
    }
   },
   "source": [
    "Method 2:"
   ]
  },
  {
   "cell_type": "code",
   "execution_count": 0,
   "metadata": {
    "application/vnd.databricks.v1+cell": {
     "cellMetadata": {
      "byteLimit": 2048000,
      "rowLimit": 10000
     },
     "inputWidgets": {},
     "nuid": "e3471dd4-1e55-4b64-b5ec-0a0bedd828ce",
     "showTitle": false,
     "tableResultSettingsMap": {},
     "title": ""
    }
   },
   "outputs": [
    {
     "output_type": "display_data",
     "data": {
      "text/html": [
       "<style scoped>\n",
       "  .table-result-container {\n",
       "    max-height: 300px;\n",
       "    overflow: auto;\n",
       "  }\n",
       "  table, th, td {\n",
       "    border: 1px solid black;\n",
       "    border-collapse: collapse;\n",
       "  }\n",
       "  th, td {\n",
       "    padding: 5px;\n",
       "  }\n",
       "  th {\n",
       "    text-align: left;\n",
       "  }\n",
       "</style><div class='table-result-container'><table class='table-result'><thead style='background-color: white'><tr><th>NAME</th><th>DEPARTMENT</th><th>SALARY</th><th>Age</th><th>Flag</th><th>Bonus</th><th>YOUNG or OLD</th></tr></thead><tbody><tr><td>Alice</td><td>HR</td><td>50000</td><td>28</td><td>Y</td><td>12500.0</td><td>Young</td></tr><tr><td>Bob</td><td>Finance</td><td>60000</td><td>null</td><td>Y</td><td>15000.0</td><td>Old</td></tr><tr><td>Charlie</td><td>null</td><td>70000</td><td>35</td><td>Y</td><td>17500.0</td><td>Old</td></tr><tr><td>David</td><td>HR</td><td>null</td><td>40</td><td>Y</td><td>null</td><td>Old</td></tr><tr><td>Bob</td><td>Finance</td><td>60000</td><td>null</td><td>Y</td><td>15000.0</td><td>Old</td></tr><tr><td>David</td><td>HR</td><td>null</td><td>40</td><td>Y</td><td>null</td><td>Old</td></tr></tbody></table></div>"
      ]
     },
     "metadata": {
      "application/vnd.databricks.v1+output": {
       "addedWidgets": {},
       "aggData": [],
       "aggError": "",
       "aggOverflow": false,
       "aggSchema": [],
       "aggSeriesLimitReached": false,
       "aggType": "",
       "arguments": {},
       "columnCustomDisplayInfos": {},
       "data": [
        [
         "Alice",
         "HR",
         50000,
         28,
         "Y",
         12500.0,
         "Young"
        ],
        [
         "Bob",
         "Finance",
         60000,
         null,
         "Y",
         15000.0,
         "Old"
        ],
        [
         "Charlie",
         null,
         70000,
         35,
         "Y",
         17500.0,
         "Old"
        ],
        [
         "David",
         "HR",
         null,
         40,
         "Y",
         null,
         "Old"
        ],
        [
         "Bob",
         "Finance",
         60000,
         null,
         "Y",
         15000.0,
         "Old"
        ],
        [
         "David",
         "HR",
         null,
         40,
         "Y",
         null,
         "Old"
        ]
       ],
       "datasetInfos": [],
       "dbfsResultPath": null,
       "isJsonSchema": true,
       "metadata": {},
       "overflow": false,
       "plotOptions": {
        "customPlotOptions": {},
        "displayType": "table",
        "pivotAggregation": null,
        "pivotColumns": null,
        "xColumns": null,
        "yColumns": null
       },
       "removedWidgets": [],
       "schema": [
        {
         "metadata": "{}",
         "name": "NAME",
         "type": "\"string\""
        },
        {
         "metadata": "{}",
         "name": "DEPARTMENT",
         "type": "\"string\""
        },
        {
         "metadata": "{}",
         "name": "SALARY",
         "type": "\"integer\""
        },
        {
         "metadata": "{}",
         "name": "Age",
         "type": "\"integer\""
        },
        {
         "metadata": "{}",
         "name": "Flag",
         "type": "\"string\""
        },
        {
         "metadata": "{}",
         "name": "Bonus",
         "type": "\"double\""
        },
        {
         "metadata": "{}",
         "name": "YOUNG or OLD",
         "type": "\"string\""
        }
       ],
       "type": "table"
      }
     },
     "output_type": "display_data"
    },
    {
     "output_type": "display_data",
     "data": {
      "text/html": [
       "<style scoped>\n",
       "  .table-result-container {\n",
       "    max-height: 300px;\n",
       "    overflow: auto;\n",
       "  }\n",
       "  table, th, td {\n",
       "    border: 1px solid black;\n",
       "    border-collapse: collapse;\n",
       "  }\n",
       "  th, td {\n",
       "    padding: 5px;\n",
       "  }\n",
       "  th {\n",
       "    text-align: left;\n",
       "  }\n",
       "</style><div class='table-result-container'><table class='table-result'><thead style='background-color: white'><tr><th>NAME</th><th>DEPARTMENT</th><th>SALARY</th><th>Age</th><th>Flag</th><th>Bonus</th><th>YOUNG or OLD</th></tr></thead><tbody><tr><td>Alice</td><td>HR</td><td>50000</td><td>28</td><td>Y</td><td>12500.0</td><td>Young Blood</td></tr><tr><td>Bob</td><td>Finance</td><td>60000</td><td>null</td><td>Y</td><td>15000.0</td><td>Oldie</td></tr><tr><td>Charlie</td><td>null</td><td>70000</td><td>35</td><td>Y</td><td>17500.0</td><td>Oldie</td></tr><tr><td>David</td><td>HR</td><td>null</td><td>40</td><td>Y</td><td>null</td><td>Oldie</td></tr><tr><td>Bob</td><td>Finance</td><td>60000</td><td>null</td><td>Y</td><td>15000.0</td><td>Oldie</td></tr><tr><td>David</td><td>HR</td><td>null</td><td>40</td><td>Y</td><td>null</td><td>Oldie</td></tr></tbody></table></div>"
      ]
     },
     "metadata": {
      "application/vnd.databricks.v1+output": {
       "addedWidgets": {},
       "aggData": [],
       "aggError": "",
       "aggOverflow": false,
       "aggSchema": [],
       "aggSeriesLimitReached": false,
       "aggType": "",
       "arguments": {},
       "columnCustomDisplayInfos": {},
       "data": [
        [
         "Alice",
         "HR",
         50000,
         28,
         "Y",
         12500.0,
         "Young Blood"
        ],
        [
         "Bob",
         "Finance",
         60000,
         null,
         "Y",
         15000.0,
         "Oldie"
        ],
        [
         "Charlie",
         null,
         70000,
         35,
         "Y",
         17500.0,
         "Oldie"
        ],
        [
         "David",
         "HR",
         null,
         40,
         "Y",
         null,
         "Oldie"
        ],
        [
         "Bob",
         "Finance",
         60000,
         null,
         "Y",
         15000.0,
         "Oldie"
        ],
        [
         "David",
         "HR",
         null,
         40,
         "Y",
         null,
         "Oldie"
        ]
       ],
       "datasetInfos": [],
       "dbfsResultPath": null,
       "isJsonSchema": true,
       "metadata": {},
       "overflow": false,
       "plotOptions": {
        "customPlotOptions": {},
        "displayType": "table",
        "pivotAggregation": null,
        "pivotColumns": null,
        "xColumns": null,
        "yColumns": null
       },
       "removedWidgets": [],
       "schema": [
        {
         "metadata": "{}",
         "name": "NAME",
         "type": "\"string\""
        },
        {
         "metadata": "{}",
         "name": "DEPARTMENT",
         "type": "\"string\""
        },
        {
         "metadata": "{}",
         "name": "SALARY",
         "type": "\"integer\""
        },
        {
         "metadata": "{}",
         "name": "Age",
         "type": "\"integer\""
        },
        {
         "metadata": "{}",
         "name": "Flag",
         "type": "\"string\""
        },
        {
         "metadata": "{}",
         "name": "Bonus",
         "type": "\"double\""
        },
        {
         "metadata": "{}",
         "name": "YOUNG or OLD",
         "type": "\"string\""
        }
       ],
       "type": "table"
      }
     },
     "output_type": "display_data"
    }
   ],
   "source": [
    "df=df.withColumn(\"YOUNG or OLD\", when(col('Age') < 30, \"Young\").otherwise(\"Old\")) \n",
    "df.display() \n",
    "\n",
    "#OR\n",
    "\n",
    "df=df.withColumn(\"YOUNG or OLD\",when((col('Age') < 30), lit(\"Young Blood\")) \\\n",
    "     .when((col('Age') < 50) & (col('Age') > 40), lit(\"Middle Aged\")) \\\n",
    "     .otherwise(lit(\"Oldie\")))\n",
    "df.display()"
   ]
  },
  {
   "cell_type": "markdown",
   "metadata": {
    "application/vnd.databricks.v1+cell": {
     "cellMetadata": {
      "byteLimit": 2048000,
      "rowLimit": 10000
     },
     "inputWidgets": {},
     "nuid": "4f919381-1175-4b1e-8c06-4c8fbe422ae0",
     "showTitle": false,
     "tableResultSettingsMap": {},
     "title": ""
    }
   },
   "source": [
    "### WithColumn: [ Update Column ]"
   ]
  },
  {
   "cell_type": "markdown",
   "metadata": {
    "application/vnd.databricks.v1+cell": {
     "cellMetadata": {
      "byteLimit": 2048000,
      "rowLimit": 10000
     },
     "inputWidgets": {},
     "nuid": "4e1cb5cd-f175-4cea-8cf7-bd3bcb385c4c",
     "showTitle": false,
     "tableResultSettingsMap": {},
     "title": ""
    }
   },
   "source": [
    "#### With Constant Value\n",
    "\n",
    "- to Update a Column in DataFrame \n",
    "we can use lit() function by importing from pyspark.sql.functions. \n",
    "- lit() function takes a constant value you wanted to add and returns a Column type.\n",
    "- In case we want to update a column with NULL/None use lit(None)\n",
    "\n",
    "\n",
    "\n",
    "`from pyspark.sql.functions import lit`\n",
    "\n",
    "`df = df.withColumn('Column name to update',lit(\"new value\")) `"
   ]
  },
  {
   "cell_type": "code",
   "execution_count": 0,
   "metadata": {
    "application/vnd.databricks.v1+cell": {
     "cellMetadata": {
      "byteLimit": 2048000,
      "rowLimit": 10000
     },
     "inputWidgets": {},
     "nuid": "12ea031e-f2f9-47b3-a36e-3c5e2151a84b",
     "showTitle": false,
     "tableResultSettingsMap": {},
     "title": ""
    }
   },
   "outputs": [
    {
     "output_type": "display_data",
     "data": {
      "text/html": [
       "<style scoped>\n",
       "  .table-result-container {\n",
       "    max-height: 300px;\n",
       "    overflow: auto;\n",
       "  }\n",
       "  table, th, td {\n",
       "    border: 1px solid black;\n",
       "    border-collapse: collapse;\n",
       "  }\n",
       "  th, td {\n",
       "    padding: 5px;\n",
       "  }\n",
       "  th {\n",
       "    text-align: left;\n",
       "  }\n",
       "</style><div class='table-result-container'><table class='table-result'><thead style='background-color: white'><tr><th>NAME</th><th>DEPARTMENT</th><th>SALARY</th><th>Age</th><th>Flag</th><th>Bonus</th><th>YOUNG or OLD</th></tr></thead><tbody><tr><td>Alice</td><td>HR</td><td>50000</td><td>28</td><td>IRRELEVANT</td><td>12500.0</td><td>Young Blood</td></tr><tr><td>Bob</td><td>Finance</td><td>60000</td><td>null</td><td>IRRELEVANT</td><td>15000.0</td><td>Oldie</td></tr><tr><td>Charlie</td><td>null</td><td>70000</td><td>35</td><td>IRRELEVANT</td><td>17500.0</td><td>Oldie</td></tr><tr><td>David</td><td>HR</td><td>null</td><td>40</td><td>IRRELEVANT</td><td>null</td><td>Oldie</td></tr><tr><td>Bob</td><td>Finance</td><td>60000</td><td>null</td><td>IRRELEVANT</td><td>15000.0</td><td>Oldie</td></tr><tr><td>David</td><td>HR</td><td>null</td><td>40</td><td>IRRELEVANT</td><td>null</td><td>Oldie</td></tr></tbody></table></div>"
      ]
     },
     "metadata": {
      "application/vnd.databricks.v1+output": {
       "addedWidgets": {},
       "aggData": [],
       "aggError": "",
       "aggOverflow": false,
       "aggSchema": [],
       "aggSeriesLimitReached": false,
       "aggType": "",
       "arguments": {},
       "columnCustomDisplayInfos": {},
       "data": [
        [
         "Alice",
         "HR",
         50000,
         28,
         "IRRELEVANT",
         12500.0,
         "Young Blood"
        ],
        [
         "Bob",
         "Finance",
         60000,
         null,
         "IRRELEVANT",
         15000.0,
         "Oldie"
        ],
        [
         "Charlie",
         null,
         70000,
         35,
         "IRRELEVANT",
         17500.0,
         "Oldie"
        ],
        [
         "David",
         "HR",
         null,
         40,
         "IRRELEVANT",
         null,
         "Oldie"
        ],
        [
         "Bob",
         "Finance",
         60000,
         null,
         "IRRELEVANT",
         15000.0,
         "Oldie"
        ],
        [
         "David",
         "HR",
         null,
         40,
         "IRRELEVANT",
         null,
         "Oldie"
        ]
       ],
       "datasetInfos": [],
       "dbfsResultPath": null,
       "isJsonSchema": true,
       "metadata": {},
       "overflow": false,
       "plotOptions": {
        "customPlotOptions": {},
        "displayType": "table",
        "pivotAggregation": null,
        "pivotColumns": null,
        "xColumns": null,
        "yColumns": null
       },
       "removedWidgets": [],
       "schema": [
        {
         "metadata": "{}",
         "name": "NAME",
         "type": "\"string\""
        },
        {
         "metadata": "{}",
         "name": "DEPARTMENT",
         "type": "\"string\""
        },
        {
         "metadata": "{}",
         "name": "SALARY",
         "type": "\"integer\""
        },
        {
         "metadata": "{}",
         "name": "Age",
         "type": "\"integer\""
        },
        {
         "metadata": "{}",
         "name": "Flag",
         "type": "\"string\""
        },
        {
         "metadata": "{}",
         "name": "Bonus",
         "type": "\"double\""
        },
        {
         "metadata": "{}",
         "name": "YOUNG or OLD",
         "type": "\"string\""
        }
       ],
       "type": "table"
      }
     },
     "output_type": "display_data"
    }
   ],
   "source": [
    "df=df.withColumn('Flag',lit(\"IRRELEVANT\"))\n",
    "df.display()"
   ]
  },
  {
   "cell_type": "markdown",
   "metadata": {
    "application/vnd.databricks.v1+cell": {
     "cellMetadata": {
      "byteLimit": 2048000,
      "rowLimit": 10000
     },
     "inputWidgets": {},
     "nuid": "0f23c841-1fd0-49e6-be7a-2aac7a449531",
     "showTitle": false,
     "tableResultSettingsMap": {},
     "title": ""
    }
   },
   "source": [
    "#### With Existing Column"
   ]
  },
  {
   "cell_type": "markdown",
   "metadata": {
    "application/vnd.databricks.v1+cell": {
     "cellMetadata": {
      "byteLimit": 2048000,
      "rowLimit": 10000
     },
     "inputWidgets": {},
     "nuid": "fd5ac3d3-ec14-4c2f-b62a-78cb51236702",
     "showTitle": false,
     "tableResultSettingsMap": {},
     "title": ""
    }
   },
   "source": [
    "Method 1:"
   ]
  },
  {
   "cell_type": "code",
   "execution_count": 0,
   "metadata": {
    "application/vnd.databricks.v1+cell": {
     "cellMetadata": {
      "byteLimit": 2048000,
      "rowLimit": 10000
     },
     "inputWidgets": {},
     "nuid": "c91f9c1c-9ecf-4a29-bd5e-a3fcba68a5ef",
     "showTitle": false,
     "tableResultSettingsMap": {},
     "title": ""
    }
   },
   "outputs": [
    {
     "output_type": "display_data",
     "data": {
      "text/html": [
       "<style scoped>\n",
       "  .table-result-container {\n",
       "    max-height: 300px;\n",
       "    overflow: auto;\n",
       "  }\n",
       "  table, th, td {\n",
       "    border: 1px solid black;\n",
       "    border-collapse: collapse;\n",
       "  }\n",
       "  th, td {\n",
       "    padding: 5px;\n",
       "  }\n",
       "  th {\n",
       "    text-align: left;\n",
       "  }\n",
       "</style><div class='table-result-container'><table class='table-result'><thead style='background-color: white'><tr><th>NAME</th><th>DEPARTMENT</th><th>SALARY</th><th>Age</th><th>Flag</th><th>Bonus</th><th>YOUNG or OLD</th></tr></thead><tbody><tr><td>null</td><td>HR</td><td>50000</td><td>128</td><td>IRRELEVANT</td><td>12500.0</td><td>Young Blood</td></tr><tr><td>null</td><td>Finance</td><td>60000</td><td>null</td><td>IRRELEVANT</td><td>15000.0</td><td>Oldie</td></tr><tr><td>null</td><td>null</td><td>70000</td><td>135</td><td>IRRELEVANT</td><td>17500.0</td><td>Oldie</td></tr><tr><td>null</td><td>HR</td><td>null</td><td>140</td><td>IRRELEVANT</td><td>null</td><td>Oldie</td></tr><tr><td>null</td><td>Finance</td><td>60000</td><td>null</td><td>IRRELEVANT</td><td>15000.0</td><td>Oldie</td></tr><tr><td>null</td><td>HR</td><td>null</td><td>140</td><td>IRRELEVANT</td><td>null</td><td>Oldie</td></tr></tbody></table></div>"
      ]
     },
     "metadata": {
      "application/vnd.databricks.v1+output": {
       "addedWidgets": {},
       "aggData": [],
       "aggError": "",
       "aggOverflow": false,
       "aggSchema": [],
       "aggSeriesLimitReached": false,
       "aggType": "",
       "arguments": {},
       "columnCustomDisplayInfos": {},
       "data": [
        [
         null,
         "HR",
         50000,
         128,
         "IRRELEVANT",
         12500.0,
         "Young Blood"
        ],
        [
         null,
         "Finance",
         60000,
         null,
         "IRRELEVANT",
         15000.0,
         "Oldie"
        ],
        [
         null,
         null,
         70000,
         135,
         "IRRELEVANT",
         17500.0,
         "Oldie"
        ],
        [
         null,
         "HR",
         null,
         140,
         "IRRELEVANT",
         null,
         "Oldie"
        ],
        [
         null,
         "Finance",
         60000,
         null,
         "IRRELEVANT",
         15000.0,
         "Oldie"
        ],
        [
         null,
         "HR",
         null,
         140,
         "IRRELEVANT",
         null,
         "Oldie"
        ]
       ],
       "datasetInfos": [],
       "dbfsResultPath": null,
       "isJsonSchema": true,
       "metadata": {},
       "overflow": false,
       "plotOptions": {
        "customPlotOptions": {},
        "displayType": "table",
        "pivotAggregation": null,
        "pivotColumns": null,
        "xColumns": null,
        "yColumns": null
       },
       "removedWidgets": [],
       "schema": [
        {
         "metadata": "{}",
         "name": "NAME",
         "type": "\"double\""
        },
        {
         "metadata": "{}",
         "name": "DEPARTMENT",
         "type": "\"string\""
        },
        {
         "metadata": "{}",
         "name": "SALARY",
         "type": "\"integer\""
        },
        {
         "metadata": "{}",
         "name": "Age",
         "type": "\"integer\""
        },
        {
         "metadata": "{}",
         "name": "Flag",
         "type": "\"string\""
        },
        {
         "metadata": "{}",
         "name": "Bonus",
         "type": "\"double\""
        },
        {
         "metadata": "{}",
         "name": "YOUNG or OLD",
         "type": "\"string\""
        }
       ],
       "type": "table"
      }
     },
     "output_type": "display_data"
    }
   ],
   "source": [
    "df=df.withColumn(\"Age\",df['Age']+100)\n",
    "df.display()"
   ]
  },
  {
   "cell_type": "markdown",
   "metadata": {
    "application/vnd.databricks.v1+cell": {
     "cellMetadata": {
      "byteLimit": 2048000,
      "rowLimit": 10000
     },
     "inputWidgets": {},
     "nuid": "45ebaf0c-fc01-4fd9-9798-c1354b39937d",
     "showTitle": false,
     "tableResultSettingsMap": {},
     "title": ""
    }
   },
   "source": [
    "Method 2:"
   ]
  },
  {
   "cell_type": "code",
   "execution_count": 0,
   "metadata": {
    "application/vnd.databricks.v1+cell": {
     "cellMetadata": {
      "byteLimit": 2048000,
      "rowLimit": 10000
     },
     "inputWidgets": {},
     "nuid": "96dc9d68-6073-4698-a05d-e8c0381b6a07",
     "showTitle": false,
     "tableResultSettingsMap": {},
     "title": ""
    }
   },
   "outputs": [
    {
     "output_type": "display_data",
     "data": {
      "text/html": [
       "<style scoped>\n",
       "  .table-result-container {\n",
       "    max-height: 300px;\n",
       "    overflow: auto;\n",
       "  }\n",
       "  table, th, td {\n",
       "    border: 1px solid black;\n",
       "    border-collapse: collapse;\n",
       "  }\n",
       "  th, td {\n",
       "    padding: 5px;\n",
       "  }\n",
       "  th {\n",
       "    text-align: left;\n",
       "  }\n",
       "</style><div class='table-result-container'><table class='table-result'><thead style='background-color: white'><tr><th>NAME</th><th>DEPARTMENT</th><th>SALARY</th><th>Age</th><th>Flag</th><th>Bonus</th><th>YOUNG or OLD</th></tr></thead><tbody><tr><td>null</td><td>HR</td><td>50000</td><td>28</td><td>IRRELEVANT</td><td>12500.0</td><td>Young Blood</td></tr><tr><td>null</td><td>Finance</td><td>60000</td><td>null</td><td>IRRELEVANT</td><td>15000.0</td><td>Oldie</td></tr><tr><td>null</td><td>null</td><td>70000</td><td>35</td><td>IRRELEVANT</td><td>17500.0</td><td>Oldie</td></tr><tr><td>null</td><td>HR</td><td>null</td><td>40</td><td>IRRELEVANT</td><td>null</td><td>Oldie</td></tr><tr><td>null</td><td>Finance</td><td>60000</td><td>null</td><td>IRRELEVANT</td><td>15000.0</td><td>Oldie</td></tr><tr><td>null</td><td>HR</td><td>null</td><td>40</td><td>IRRELEVANT</td><td>null</td><td>Oldie</td></tr></tbody></table></div>"
      ]
     },
     "metadata": {
      "application/vnd.databricks.v1+output": {
       "addedWidgets": {},
       "aggData": [],
       "aggError": "",
       "aggOverflow": false,
       "aggSchema": [],
       "aggSeriesLimitReached": false,
       "aggType": "",
       "arguments": {},
       "columnCustomDisplayInfos": {},
       "data": [
        [
         null,
         "HR",
         50000,
         28,
         "IRRELEVANT",
         12500.0,
         "Young Blood"
        ],
        [
         null,
         "Finance",
         60000,
         null,
         "IRRELEVANT",
         15000.0,
         "Oldie"
        ],
        [
         null,
         null,
         70000,
         35,
         "IRRELEVANT",
         17500.0,
         "Oldie"
        ],
        [
         null,
         "HR",
         null,
         40,
         "IRRELEVANT",
         null,
         "Oldie"
        ],
        [
         null,
         "Finance",
         60000,
         null,
         "IRRELEVANT",
         15000.0,
         "Oldie"
        ],
        [
         null,
         "HR",
         null,
         40,
         "IRRELEVANT",
         null,
         "Oldie"
        ]
       ],
       "datasetInfos": [],
       "dbfsResultPath": null,
       "isJsonSchema": true,
       "metadata": {},
       "overflow": false,
       "plotOptions": {
        "customPlotOptions": {},
        "displayType": "table",
        "pivotAggregation": null,
        "pivotColumns": null,
        "xColumns": null,
        "yColumns": null
       },
       "removedWidgets": [],
       "schema": [
        {
         "metadata": "{}",
         "name": "NAME",
         "type": "\"double\""
        },
        {
         "metadata": "{}",
         "name": "DEPARTMENT",
         "type": "\"string\""
        },
        {
         "metadata": "{}",
         "name": "SALARY",
         "type": "\"integer\""
        },
        {
         "metadata": "{}",
         "name": "Age",
         "type": "\"integer\""
        },
        {
         "metadata": "{}",
         "name": "Flag",
         "type": "\"string\""
        },
        {
         "metadata": "{}",
         "name": "Bonus",
         "type": "\"double\""
        },
        {
         "metadata": "{}",
         "name": "YOUNG or OLD",
         "type": "\"string\""
        }
       ],
       "type": "table"
      }
     },
     "output_type": "display_data"
    }
   ],
   "source": [
    "df=df.withColumn(\"Age\",col('Age')-100)\n",
    "df.display()"
   ]
  },
  {
   "cell_type": "markdown",
   "metadata": {
    "application/vnd.databricks.v1+cell": {
     "cellMetadata": {
      "byteLimit": 2048000,
      "rowLimit": 10000
     },
     "inputWidgets": {},
     "nuid": "7907d6b9-8630-4e22-b68b-6b19bf5bd309",
     "showTitle": false,
     "tableResultSettingsMap": {},
     "title": ""
    }
   },
   "source": [
    "#### Based on a specific Condition\n",
    "\n",
    "use `when otherwise` and `lit()` together."
   ]
  },
  {
   "cell_type": "markdown",
   "metadata": {
    "application/vnd.databricks.v1+cell": {
     "cellMetadata": {
      "byteLimit": 2048000,
      "rowLimit": 10000
     },
     "inputWidgets": {},
     "nuid": "e0e8efd5-fee7-486f-b413-9318878c9069",
     "showTitle": false,
     "tableResultSettingsMap": {},
     "title": ""
    }
   },
   "source": [
    "Method 1:"
   ]
  },
  {
   "cell_type": "code",
   "execution_count": 0,
   "metadata": {
    "application/vnd.databricks.v1+cell": {
     "cellMetadata": {
      "byteLimit": 2048000,
      "rowLimit": 10000
     },
     "inputWidgets": {},
     "nuid": "faa41406-77b0-43bb-9c90-2615e6b2f4c5",
     "showTitle": false,
     "tableResultSettingsMap": {},
     "title": ""
    }
   },
   "outputs": [
    {
     "output_type": "display_data",
     "data": {
      "text/html": [
       "<style scoped>\n",
       "  .table-result-container {\n",
       "    max-height: 300px;\n",
       "    overflow: auto;\n",
       "  }\n",
       "  table, th, td {\n",
       "    border: 1px solid black;\n",
       "    border-collapse: collapse;\n",
       "  }\n",
       "  th, td {\n",
       "    padding: 5px;\n",
       "  }\n",
       "  th {\n",
       "    text-align: left;\n",
       "  }\n",
       "</style><div class='table-result-container'><table class='table-result'><thead style='background-color: white'><tr><th>NAME</th><th>DEPARTMENT</th><th>SALARY</th><th>Age</th><th>Flag</th><th>Bonus</th><th>YOUNG or OLD</th></tr></thead><tbody><tr><td>null</td><td>HR</td><td>50000</td><td>28</td><td>IRRELEVANT</td><td>12500.0</td><td>Young Blood</td></tr><tr><td>null</td><td>Finance</td><td>60000</td><td>null</td><td>IRRELEVANT</td><td>15000.0</td><td>Oldie</td></tr><tr><td>null</td><td>null</td><td>70000</td><td>35</td><td>IRRELEVANT</td><td>17500.0</td><td>Oldie</td></tr><tr><td>null</td><td>HR</td><td>null</td><td>41</td><td>IRRELEVANT</td><td>null</td><td>Oldie</td></tr><tr><td>null</td><td>Finance</td><td>60000</td><td>null</td><td>IRRELEVANT</td><td>15000.0</td><td>Oldie</td></tr><tr><td>null</td><td>HR</td><td>null</td><td>41</td><td>IRRELEVANT</td><td>null</td><td>Oldie</td></tr></tbody></table></div>"
      ]
     },
     "metadata": {
      "application/vnd.databricks.v1+output": {
       "addedWidgets": {},
       "aggData": [],
       "aggError": "",
       "aggOverflow": false,
       "aggSchema": [],
       "aggSeriesLimitReached": false,
       "aggType": "",
       "arguments": {},
       "columnCustomDisplayInfos": {},
       "data": [
        [
         null,
         "HR",
         50000,
         28,
         "IRRELEVANT",
         12500.0,
         "Young Blood"
        ],
        [
         null,
         "Finance",
         60000,
         null,
         "IRRELEVANT",
         15000.0,
         "Oldie"
        ],
        [
         null,
         null,
         70000,
         35,
         "IRRELEVANT",
         17500.0,
         "Oldie"
        ],
        [
         null,
         "HR",
         null,
         41,
         "IRRELEVANT",
         null,
         "Oldie"
        ],
        [
         null,
         "Finance",
         60000,
         null,
         "IRRELEVANT",
         15000.0,
         "Oldie"
        ],
        [
         null,
         "HR",
         null,
         41,
         "IRRELEVANT",
         null,
         "Oldie"
        ]
       ],
       "datasetInfos": [],
       "dbfsResultPath": null,
       "isJsonSchema": true,
       "metadata": {},
       "overflow": false,
       "plotOptions": {
        "customPlotOptions": {},
        "displayType": "table",
        "pivotAggregation": null,
        "pivotColumns": null,
        "xColumns": null,
        "yColumns": null
       },
       "removedWidgets": [],
       "schema": [
        {
         "metadata": "{}",
         "name": "NAME",
         "type": "\"double\""
        },
        {
         "metadata": "{}",
         "name": "DEPARTMENT",
         "type": "\"string\""
        },
        {
         "metadata": "{}",
         "name": "SALARY",
         "type": "\"integer\""
        },
        {
         "metadata": "{}",
         "name": "Age",
         "type": "\"integer\""
        },
        {
         "metadata": "{}",
         "name": "Flag",
         "type": "\"string\""
        },
        {
         "metadata": "{}",
         "name": "Bonus",
         "type": "\"double\""
        },
        {
         "metadata": "{}",
         "name": "YOUNG or OLD",
         "type": "\"string\""
        }
       ],
       "type": "table"
      }
     },
     "output_type": "display_data"
    },
    {
     "output_type": "display_data",
     "data": {
      "text/html": [
       "<style scoped>\n",
       "  .table-result-container {\n",
       "    max-height: 300px;\n",
       "    overflow: auto;\n",
       "  }\n",
       "  table, th, td {\n",
       "    border: 1px solid black;\n",
       "    border-collapse: collapse;\n",
       "  }\n",
       "  th, td {\n",
       "    padding: 5px;\n",
       "  }\n",
       "  th {\n",
       "    text-align: left;\n",
       "  }\n",
       "</style><div class='table-result-container'><table class='table-result'><thead style='background-color: white'><tr><th>NAME</th><th>DEPARTMENT</th><th>SALARY</th><th>Age</th><th>Flag</th><th>Bonus</th><th>YOUNG or OLD</th></tr></thead><tbody><tr><td>null</td><td>HR</td><td>50000</td><td>28</td><td>IRRELEVANT</td><td>12500.0</td><td>Young Blood</td></tr><tr><td>null</td><td>Finance</td><td>60000</td><td>null</td><td>IRRELEVANT</td><td>15000.0</td><td>Oldie</td></tr><tr><td>null</td><td>null</td><td>70000</td><td>35</td><td>IRRELEVANT</td><td>17500.0</td><td>Oldie</td></tr><tr><td>null</td><td>HR</td><td>null</td><td>41</td><td>IRRELEVANT</td><td>null</td><td>Oldie</td></tr><tr><td>null</td><td>Finance</td><td>60000</td><td>null</td><td>IRRELEVANT</td><td>15000.0</td><td>Oldie</td></tr><tr><td>null</td><td>HR</td><td>null</td><td>41</td><td>IRRELEVANT</td><td>null</td><td>Oldie</td></tr></tbody></table></div>"
      ]
     },
     "metadata": {
      "application/vnd.databricks.v1+output": {
       "addedWidgets": {},
       "aggData": [],
       "aggError": "",
       "aggOverflow": false,
       "aggSchema": [],
       "aggSeriesLimitReached": false,
       "aggType": "",
       "arguments": {},
       "columnCustomDisplayInfos": {},
       "data": [
        [
         null,
         "HR",
         50000,
         "28",
         "IRRELEVANT",
         12500.0,
         "Young Blood"
        ],
        [
         null,
         "Finance",
         60000,
         null,
         "IRRELEVANT",
         15000.0,
         "Oldie"
        ],
        [
         null,
         null,
         70000,
         "35",
         "IRRELEVANT",
         17500.0,
         "Oldie"
        ],
        [
         null,
         "HR",
         null,
         "41",
         "IRRELEVANT",
         null,
         "Oldie"
        ],
        [
         null,
         "Finance",
         60000,
         null,
         "IRRELEVANT",
         15000.0,
         "Oldie"
        ],
        [
         null,
         "HR",
         null,
         "41",
         "IRRELEVANT",
         null,
         "Oldie"
        ]
       ],
       "datasetInfos": [],
       "dbfsResultPath": null,
       "isJsonSchema": true,
       "metadata": {},
       "overflow": false,
       "plotOptions": {
        "customPlotOptions": {},
        "displayType": "table",
        "pivotAggregation": null,
        "pivotColumns": null,
        "xColumns": null,
        "yColumns": null
       },
       "removedWidgets": [],
       "schema": [
        {
         "metadata": "{}",
         "name": "NAME",
         "type": "\"double\""
        },
        {
         "metadata": "{}",
         "name": "DEPARTMENT",
         "type": "\"string\""
        },
        {
         "metadata": "{}",
         "name": "SALARY",
         "type": "\"integer\""
        },
        {
         "metadata": "{}",
         "name": "Age",
         "type": "\"string\""
        },
        {
         "metadata": "{}",
         "name": "Flag",
         "type": "\"string\""
        },
        {
         "metadata": "{}",
         "name": "Bonus",
         "type": "\"double\""
        },
        {
         "metadata": "{}",
         "name": "YOUNG or OLD",
         "type": "\"string\""
        }
       ],
       "type": "table"
      }
     },
     "output_type": "display_data"
    }
   ],
   "source": [
    "df=df.withColumn(\"Age\", when(df['Age'] == 40, 41).otherwise(df[\"Age\"])) \n",
    "df.display() \n",
    "\n",
    "#OR\n",
    "\n",
    "df.withColumn(\"Age\",\\\n",
    "                when(\n",
    "                      (  (df['Name'] == 'Charlie') & (df['Department'].isNull())  ), \"100\"\n",
    "                    ).otherwise(df[\"Age\"]) ).display()"
   ]
  },
  {
   "cell_type": "markdown",
   "metadata": {
    "application/vnd.databricks.v1+cell": {
     "cellMetadata": {
      "byteLimit": 2048000,
      "rowLimit": 10000
     },
     "inputWidgets": {},
     "nuid": "5c41b1c5-bed6-4d04-9024-797c13e62e4b",
     "showTitle": false,
     "tableResultSettingsMap": {},
     "title": ""
    }
   },
   "source": [
    "Method 2:"
   ]
  },
  {
   "cell_type": "code",
   "execution_count": 0,
   "metadata": {
    "application/vnd.databricks.v1+cell": {
     "cellMetadata": {
      "byteLimit": 2048000,
      "rowLimit": 10000
     },
     "inputWidgets": {},
     "nuid": "3136bee5-febf-4db6-b101-84516dbf6e17",
     "showTitle": false,
     "tableResultSettingsMap": {},
     "title": ""
    }
   },
   "outputs": [
    {
     "output_type": "display_data",
     "data": {
      "text/html": [
       "<style scoped>\n",
       "  .table-result-container {\n",
       "    max-height: 300px;\n",
       "    overflow: auto;\n",
       "  }\n",
       "  table, th, td {\n",
       "    border: 1px solid black;\n",
       "    border-collapse: collapse;\n",
       "  }\n",
       "  th, td {\n",
       "    padding: 5px;\n",
       "  }\n",
       "  th {\n",
       "    text-align: left;\n",
       "  }\n",
       "</style><div class='table-result-container'><table class='table-result'><thead style='background-color: white'><tr><th>NAME</th><th>DEPARTMENT</th><th>SALARY</th><th>Age</th><th>Flag</th><th>Bonus</th><th>YOUNG or OLD</th></tr></thead><tbody><tr><td>null</td><td>HR</td><td>50000</td><td>28</td><td>IRRELEVANT</td><td>12500.0</td><td>Young Blood</td></tr><tr><td>null</td><td>Finance</td><td>60000</td><td>null</td><td>IRRELEVANT</td><td>15000.0</td><td>Oldie</td></tr><tr><td>null</td><td>null</td><td>70000</td><td>35</td><td>IRRELEVANT</td><td>17500.0</td><td>Oldie</td></tr><tr><td>null</td><td>HR</td><td>null</td><td>41</td><td>IRRELEVANT</td><td>null</td><td>Oldie</td></tr><tr><td>null</td><td>Finance</td><td>60000</td><td>null</td><td>IRRELEVANT</td><td>15000.0</td><td>Oldie</td></tr><tr><td>null</td><td>HR</td><td>null</td><td>41</td><td>IRRELEVANT</td><td>null</td><td>Oldie</td></tr></tbody></table></div>"
      ]
     },
     "metadata": {
      "application/vnd.databricks.v1+output": {
       "addedWidgets": {},
       "aggData": [],
       "aggError": "",
       "aggOverflow": false,
       "aggSchema": [],
       "aggSeriesLimitReached": false,
       "aggType": "",
       "arguments": {},
       "columnCustomDisplayInfos": {},
       "data": [
        [
         null,
         "HR",
         50000,
         28,
         "IRRELEVANT",
         12500.0,
         "Young Blood"
        ],
        [
         null,
         "Finance",
         60000,
         null,
         "IRRELEVANT",
         15000.0,
         "Oldie"
        ],
        [
         null,
         null,
         70000,
         35,
         "IRRELEVANT",
         17500.0,
         "Oldie"
        ],
        [
         null,
         "HR",
         null,
         41,
         "IRRELEVANT",
         null,
         "Oldie"
        ],
        [
         null,
         "Finance",
         60000,
         null,
         "IRRELEVANT",
         15000.0,
         "Oldie"
        ],
        [
         null,
         "HR",
         null,
         41,
         "IRRELEVANT",
         null,
         "Oldie"
        ]
       ],
       "datasetInfos": [],
       "dbfsResultPath": null,
       "isJsonSchema": true,
       "metadata": {},
       "overflow": false,
       "plotOptions": {
        "customPlotOptions": {},
        "displayType": "table",
        "pivotAggregation": null,
        "pivotColumns": null,
        "xColumns": null,
        "yColumns": null
       },
       "removedWidgets": [],
       "schema": [
        {
         "metadata": "{}",
         "name": "NAME",
         "type": "\"double\""
        },
        {
         "metadata": "{}",
         "name": "DEPARTMENT",
         "type": "\"string\""
        },
        {
         "metadata": "{}",
         "name": "SALARY",
         "type": "\"integer\""
        },
        {
         "metadata": "{}",
         "name": "Age",
         "type": "\"integer\""
        },
        {
         "metadata": "{}",
         "name": "Flag",
         "type": "\"string\""
        },
        {
         "metadata": "{}",
         "name": "Bonus",
         "type": "\"double\""
        },
        {
         "metadata": "{}",
         "name": "YOUNG or OLD",
         "type": "\"string\""
        }
       ],
       "type": "table"
      }
     },
     "output_type": "display_data"
    },
    {
     "output_type": "display_data",
     "data": {
      "text/html": [
       "<style scoped>\n",
       "  .table-result-container {\n",
       "    max-height: 300px;\n",
       "    overflow: auto;\n",
       "  }\n",
       "  table, th, td {\n",
       "    border: 1px solid black;\n",
       "    border-collapse: collapse;\n",
       "  }\n",
       "  th, td {\n",
       "    padding: 5px;\n",
       "  }\n",
       "  th {\n",
       "    text-align: left;\n",
       "  }\n",
       "</style><div class='table-result-container'><table class='table-result'><thead style='background-color: white'><tr><th>NAME</th><th>DEPARTMENT</th><th>SALARY</th><th>Age</th><th>Flag</th><th>Bonus</th><th>YOUNG or OLD</th></tr></thead><tbody><tr><td>null</td><td>HR</td><td>50000</td><td>28</td><td>IRRELEVANT</td><td>12500.0</td><td>Young Blood</td></tr><tr><td>null</td><td>Finance</td><td>60000</td><td>null</td><td>IRRELEVANT</td><td>15000.0</td><td>Oldie</td></tr><tr><td>null</td><td>null</td><td>70000</td><td>35</td><td>IRRELEVANT</td><td>17500.0</td><td>Oldie</td></tr><tr><td>null</td><td>HR</td><td>null</td><td>41</td><td>IRRELEVANT</td><td>null</td><td>Oldie</td></tr><tr><td>null</td><td>Finance</td><td>60000</td><td>null</td><td>IRRELEVANT</td><td>15000.0</td><td>Oldie</td></tr><tr><td>null</td><td>HR</td><td>null</td><td>41</td><td>IRRELEVANT</td><td>null</td><td>Oldie</td></tr></tbody></table></div>"
      ]
     },
     "metadata": {
      "application/vnd.databricks.v1+output": {
       "addedWidgets": {},
       "aggData": [],
       "aggError": "",
       "aggOverflow": false,
       "aggSchema": [],
       "aggSeriesLimitReached": false,
       "aggType": "",
       "arguments": {},
       "columnCustomDisplayInfos": {},
       "data": [
        [
         null,
         "HR",
         50000,
         "28",
         "IRRELEVANT",
         12500.0,
         "Young Blood"
        ],
        [
         null,
         "Finance",
         60000,
         null,
         "IRRELEVANT",
         15000.0,
         "Oldie"
        ],
        [
         null,
         null,
         70000,
         "35",
         "IRRELEVANT",
         17500.0,
         "Oldie"
        ],
        [
         null,
         "HR",
         null,
         "41",
         "IRRELEVANT",
         null,
         "Oldie"
        ],
        [
         null,
         "Finance",
         60000,
         null,
         "IRRELEVANT",
         15000.0,
         "Oldie"
        ],
        [
         null,
         "HR",
         null,
         "41",
         "IRRELEVANT",
         null,
         "Oldie"
        ]
       ],
       "datasetInfos": [],
       "dbfsResultPath": null,
       "isJsonSchema": true,
       "metadata": {},
       "overflow": false,
       "plotOptions": {
        "customPlotOptions": {},
        "displayType": "table",
        "pivotAggregation": null,
        "pivotColumns": null,
        "xColumns": null,
        "yColumns": null
       },
       "removedWidgets": [],
       "schema": [
        {
         "metadata": "{}",
         "name": "NAME",
         "type": "\"double\""
        },
        {
         "metadata": "{}",
         "name": "DEPARTMENT",
         "type": "\"string\""
        },
        {
         "metadata": "{}",
         "name": "SALARY",
         "type": "\"integer\""
        },
        {
         "metadata": "{}",
         "name": "Age",
         "type": "\"string\""
        },
        {
         "metadata": "{}",
         "name": "Flag",
         "type": "\"string\""
        },
        {
         "metadata": "{}",
         "name": "Bonus",
         "type": "\"double\""
        },
        {
         "metadata": "{}",
         "name": "YOUNG or OLD",
         "type": "\"string\""
        }
       ],
       "type": "table"
      }
     },
     "output_type": "display_data"
    }
   ],
   "source": [
    "df=df.withColumn(\"Age\", when(col('Age') == 40, 41).otherwise(col(\"Age\")))\n",
    "df.display() \n",
    "\n",
    "#OR\n",
    "\n",
    "df.withColumn(\"Age\",\\\n",
    "                when(\n",
    "                      (  (col('Name') == 'Charlie') & (col('Department').isNull())  ), \"100\"\n",
    "                    ).otherwise(col(\"Age\")) ).display()"
   ]
  },
  {
   "cell_type": "markdown",
   "metadata": {
    "application/vnd.databricks.v1+cell": {
     "cellMetadata": {
      "byteLimit": 2048000,
      "rowLimit": 10000
     },
     "inputWidgets": {},
     "nuid": "ae66c149-0fab-47cf-960e-dca7a7b466bb",
     "showTitle": false,
     "tableResultSettingsMap": {},
     "title": ""
    }
   },
   "source": [
    "### drop: [ Remove Column ]\n",
    "\n",
    "- It Allows us to remove column/columns from a DataFrame.\n",
    "- It returns a new DataFrame after dropping the given column"
   ]
  },
  {
   "cell_type": "markdown",
   "metadata": {
    "application/vnd.databricks.v1+cell": {
     "cellMetadata": {
      "byteLimit": 2048000,
      "rowLimit": 10000
     },
     "inputWidgets": {},
     "nuid": "88489aed-3992-4475-9ceb-40f06c2167d5",
     "showTitle": false,
     "tableResultSettingsMap": {},
     "title": ""
    }
   },
   "source": [
    "#### Single Column"
   ]
  },
  {
   "cell_type": "markdown",
   "metadata": {
    "application/vnd.databricks.v1+cell": {
     "cellMetadata": {
      "byteLimit": 2048000,
      "rowLimit": 10000
     },
     "inputWidgets": {},
     "nuid": "b6c41af3-7f27-4386-8685-a8416f6b659e",
     "showTitle": false,
     "tableResultSettingsMap": {},
     "title": ""
    }
   },
   "source": [
    "Method 1:"
   ]
  },
  {
   "cell_type": "code",
   "execution_count": 0,
   "metadata": {
    "application/vnd.databricks.v1+cell": {
     "cellMetadata": {
      "byteLimit": 2048000,
      "rowLimit": 10000
     },
     "inputWidgets": {},
     "nuid": "e39c958a-6c4b-4333-9b9f-f79586aed4a9",
     "showTitle": false,
     "tableResultSettingsMap": {},
     "title": ""
    }
   },
   "outputs": [
    {
     "output_type": "display_data",
     "data": {
      "text/html": [
       "<style scoped>\n",
       "  .table-result-container {\n",
       "    max-height: 300px;\n",
       "    overflow: auto;\n",
       "  }\n",
       "  table, th, td {\n",
       "    border: 1px solid black;\n",
       "    border-collapse: collapse;\n",
       "  }\n",
       "  th, td {\n",
       "    padding: 5px;\n",
       "  }\n",
       "  th {\n",
       "    text-align: left;\n",
       "  }\n",
       "</style><div class='table-result-container'><table class='table-result'><thead style='background-color: white'><tr><th>NAME</th><th>DEPARTMENT</th><th>SALARY</th><th>Age</th><th>Bonus</th><th>YOUNG or OLD</th></tr></thead><tbody><tr><td>null</td><td>HR</td><td>50000</td><td>28</td><td>12500.0</td><td>Young Blood</td></tr><tr><td>null</td><td>Finance</td><td>60000</td><td>null</td><td>15000.0</td><td>Oldie</td></tr><tr><td>null</td><td>null</td><td>70000</td><td>35</td><td>17500.0</td><td>Oldie</td></tr><tr><td>null</td><td>HR</td><td>null</td><td>41</td><td>null</td><td>Oldie</td></tr><tr><td>null</td><td>Finance</td><td>60000</td><td>null</td><td>15000.0</td><td>Oldie</td></tr><tr><td>null</td><td>HR</td><td>null</td><td>41</td><td>null</td><td>Oldie</td></tr></tbody></table></div>"
      ]
     },
     "metadata": {
      "application/vnd.databricks.v1+output": {
       "addedWidgets": {},
       "aggData": [],
       "aggError": "",
       "aggOverflow": false,
       "aggSchema": [],
       "aggSeriesLimitReached": false,
       "aggType": "",
       "arguments": {},
       "columnCustomDisplayInfos": {},
       "data": [
        [
         null,
         "HR",
         50000,
         28,
         12500.0,
         "Young Blood"
        ],
        [
         null,
         "Finance",
         60000,
         null,
         15000.0,
         "Oldie"
        ],
        [
         null,
         null,
         70000,
         35,
         17500.0,
         "Oldie"
        ],
        [
         null,
         "HR",
         null,
         41,
         null,
         "Oldie"
        ],
        [
         null,
         "Finance",
         60000,
         null,
         15000.0,
         "Oldie"
        ],
        [
         null,
         "HR",
         null,
         41,
         null,
         "Oldie"
        ]
       ],
       "datasetInfos": [],
       "dbfsResultPath": null,
       "isJsonSchema": true,
       "metadata": {},
       "overflow": false,
       "plotOptions": {
        "customPlotOptions": {},
        "displayType": "table",
        "pivotAggregation": null,
        "pivotColumns": null,
        "xColumns": null,
        "yColumns": null
       },
       "removedWidgets": [],
       "schema": [
        {
         "metadata": "{}",
         "name": "NAME",
         "type": "\"double\""
        },
        {
         "metadata": "{}",
         "name": "DEPARTMENT",
         "type": "\"string\""
        },
        {
         "metadata": "{}",
         "name": "SALARY",
         "type": "\"integer\""
        },
        {
         "metadata": "{}",
         "name": "Age",
         "type": "\"integer\""
        },
        {
         "metadata": "{}",
         "name": "Bonus",
         "type": "\"double\""
        },
        {
         "metadata": "{}",
         "name": "YOUNG or OLD",
         "type": "\"string\""
        }
       ],
       "type": "table"
      }
     },
     "output_type": "display_data"
    }
   ],
   "source": [
    "\n",
    "df=df.drop(\"Flag\")\n",
    "df.display()"
   ]
  },
  {
   "cell_type": "markdown",
   "metadata": {
    "application/vnd.databricks.v1+cell": {
     "cellMetadata": {
      "byteLimit": 2048000,
      "rowLimit": 10000
     },
     "inputWidgets": {},
     "nuid": "5bcfeb63-69d7-43e4-95d7-25259107f209",
     "showTitle": false,
     "tableResultSettingsMap": {},
     "title": ""
    }
   },
   "source": [
    "Method 2:"
   ]
  },
  {
   "cell_type": "code",
   "execution_count": 0,
   "metadata": {
    "application/vnd.databricks.v1+cell": {
     "cellMetadata": {
      "byteLimit": 2048000,
      "rowLimit": 10000
     },
     "inputWidgets": {},
     "nuid": "12eeb7f3-e392-4583-8213-8824c1149718",
     "showTitle": false,
     "tableResultSettingsMap": {},
     "title": ""
    }
   },
   "outputs": [
    {
     "output_type": "display_data",
     "data": {
      "text/html": [
       "<style scoped>\n",
       "  .table-result-container {\n",
       "    max-height: 300px;\n",
       "    overflow: auto;\n",
       "  }\n",
       "  table, th, td {\n",
       "    border: 1px solid black;\n",
       "    border-collapse: collapse;\n",
       "  }\n",
       "  th, td {\n",
       "    padding: 5px;\n",
       "  }\n",
       "  th {\n",
       "    text-align: left;\n",
       "  }\n",
       "</style><div class='table-result-container'><table class='table-result'><thead style='background-color: white'><tr><th>NAME</th><th>DEPARTMENT</th><th>SALARY</th><th>Age</th><th>Bonus</th><th>YOUNG or OLD</th></tr></thead><tbody><tr><td>null</td><td>HR</td><td>50000</td><td>28</td><td>12500.0</td><td>Young Blood</td></tr><tr><td>null</td><td>Finance</td><td>60000</td><td>null</td><td>15000.0</td><td>Oldie</td></tr><tr><td>null</td><td>null</td><td>70000</td><td>35</td><td>17500.0</td><td>Oldie</td></tr><tr><td>null</td><td>HR</td><td>null</td><td>41</td><td>null</td><td>Oldie</td></tr><tr><td>null</td><td>Finance</td><td>60000</td><td>null</td><td>15000.0</td><td>Oldie</td></tr><tr><td>null</td><td>HR</td><td>null</td><td>41</td><td>null</td><td>Oldie</td></tr></tbody></table></div>"
      ]
     },
     "metadata": {
      "application/vnd.databricks.v1+output": {
       "addedWidgets": {},
       "aggData": [],
       "aggError": "",
       "aggOverflow": false,
       "aggSchema": [],
       "aggSeriesLimitReached": false,
       "aggType": "",
       "arguments": {},
       "columnCustomDisplayInfos": {},
       "data": [
        [
         null,
         "HR",
         50000,
         28,
         12500.0,
         "Young Blood"
        ],
        [
         null,
         "Finance",
         60000,
         null,
         15000.0,
         "Oldie"
        ],
        [
         null,
         null,
         70000,
         35,
         17500.0,
         "Oldie"
        ],
        [
         null,
         "HR",
         null,
         41,
         null,
         "Oldie"
        ],
        [
         null,
         "Finance",
         60000,
         null,
         15000.0,
         "Oldie"
        ],
        [
         null,
         "HR",
         null,
         41,
         null,
         "Oldie"
        ]
       ],
       "datasetInfos": [],
       "dbfsResultPath": null,
       "isJsonSchema": true,
       "metadata": {},
       "overflow": false,
       "plotOptions": {
        "customPlotOptions": {},
        "displayType": "table",
        "pivotAggregation": null,
        "pivotColumns": null,
        "xColumns": null,
        "yColumns": null
       },
       "removedWidgets": [],
       "schema": [
        {
         "metadata": "{}",
         "name": "NAME",
         "type": "\"double\""
        },
        {
         "metadata": "{}",
         "name": "DEPARTMENT",
         "type": "\"string\""
        },
        {
         "metadata": "{}",
         "name": "SALARY",
         "type": "\"integer\""
        },
        {
         "metadata": "{}",
         "name": "Age",
         "type": "\"integer\""
        },
        {
         "metadata": "{}",
         "name": "Bonus",
         "type": "\"double\""
        },
        {
         "metadata": "{}",
         "name": "YOUNG or OLD",
         "type": "\"string\""
        }
       ],
       "type": "table"
      }
     },
     "output_type": "display_data"
    }
   ],
   "source": [
    "df.drop(col('Flag'))\n",
    "df.display()\n"
   ]
  },
  {
   "cell_type": "markdown",
   "metadata": {
    "application/vnd.databricks.v1+cell": {
     "cellMetadata": {
      "byteLimit": 2048000,
      "rowLimit": 10000
     },
     "inputWidgets": {},
     "nuid": "b248acef-90a7-4d1d-8ab0-1146cab7a3c3",
     "showTitle": false,
     "tableResultSettingsMap": {},
     "title": ""
    }
   },
   "source": [
    "#### Multiple Columns"
   ]
  },
  {
   "cell_type": "code",
   "execution_count": 0,
   "metadata": {
    "application/vnd.databricks.v1+cell": {
     "cellMetadata": {
      "byteLimit": 2048000,
      "rowLimit": 10000
     },
     "inputWidgets": {},
     "nuid": "09744e9b-a5ed-4dae-8558-8ee9e6f06aec",
     "showTitle": false,
     "tableResultSettingsMap": {},
     "title": ""
    }
   },
   "outputs": [
    {
     "output_type": "display_data",
     "data": {
      "text/html": [
       "<style scoped>\n",
       "  .table-result-container {\n",
       "    max-height: 300px;\n",
       "    overflow: auto;\n",
       "  }\n",
       "  table, th, td {\n",
       "    border: 1px solid black;\n",
       "    border-collapse: collapse;\n",
       "  }\n",
       "  th, td {\n",
       "    padding: 5px;\n",
       "  }\n",
       "  th {\n",
       "    text-align: left;\n",
       "  }\n",
       "</style><div class='table-result-container'><table class='table-result'><thead style='background-color: white'><tr><th>NAME</th><th>DEPARTMENT</th><th>Bonus</th><th>YOUNG or OLD</th></tr></thead><tbody><tr><td>null</td><td>HR</td><td>12500.0</td><td>Young Blood</td></tr><tr><td>null</td><td>Finance</td><td>15000.0</td><td>Oldie</td></tr><tr><td>null</td><td>null</td><td>17500.0</td><td>Oldie</td></tr><tr><td>null</td><td>HR</td><td>null</td><td>Oldie</td></tr><tr><td>null</td><td>Finance</td><td>15000.0</td><td>Oldie</td></tr><tr><td>null</td><td>HR</td><td>null</td><td>Oldie</td></tr></tbody></table></div>"
      ]
     },
     "metadata": {
      "application/vnd.databricks.v1+output": {
       "addedWidgets": {},
       "aggData": [],
       "aggError": "",
       "aggOverflow": false,
       "aggSchema": [],
       "aggSeriesLimitReached": false,
       "aggType": "",
       "arguments": {},
       "columnCustomDisplayInfos": {},
       "data": [
        [
         null,
         "HR",
         12500.0,
         "Young Blood"
        ],
        [
         null,
         "Finance",
         15000.0,
         "Oldie"
        ],
        [
         null,
         null,
         17500.0,
         "Oldie"
        ],
        [
         null,
         "HR",
         null,
         "Oldie"
        ],
        [
         null,
         "Finance",
         15000.0,
         "Oldie"
        ],
        [
         null,
         "HR",
         null,
         "Oldie"
        ]
       ],
       "datasetInfos": [],
       "dbfsResultPath": null,
       "isJsonSchema": true,
       "metadata": {},
       "overflow": false,
       "plotOptions": {
        "customPlotOptions": {},
        "displayType": "table",
        "pivotAggregation": null,
        "pivotColumns": null,
        "xColumns": null,
        "yColumns": null
       },
       "removedWidgets": [],
       "schema": [
        {
         "metadata": "{}",
         "name": "NAME",
         "type": "\"double\""
        },
        {
         "metadata": "{}",
         "name": "DEPARTMENT",
         "type": "\"string\""
        },
        {
         "metadata": "{}",
         "name": "Bonus",
         "type": "\"double\""
        },
        {
         "metadata": "{}",
         "name": "YOUNG or OLD",
         "type": "\"string\""
        }
       ],
       "type": "table"
      }
     },
     "output_type": "display_data"
    }
   ],
   "source": [
    "df.drop(\"Age\",\"Salary\").display()"
   ]
  },
  {
   "cell_type": "markdown",
   "metadata": {
    "application/vnd.databricks.v1+cell": {
     "cellMetadata": {
      "byteLimit": 2048000,
      "rowLimit": 10000
     },
     "inputWidgets": {},
     "nuid": "24178d07-3da1-4998-aba1-0f06705f0c8a",
     "showTitle": false,
     "tableResultSettingsMap": {},
     "title": ""
    }
   },
   "source": [
    "##  Select - [ Column Selection ] "
   ]
  },
  {
   "cell_type": "markdown",
   "metadata": {
    "application/vnd.databricks.v1+cell": {
     "cellMetadata": {
      "byteLimit": 2048000,
      "rowLimit": 10000
     },
     "inputWidgets": {},
     "nuid": "4ef7d693-a08b-4590-bac0-61ae084c5079",
     "showTitle": false,
     "tableResultSettingsMap": {},
     "title": ""
    }
   },
   "source": [
    "#### Single Column: "
   ]
  },
  {
   "cell_type": "markdown",
   "metadata": {
    "application/vnd.databricks.v1+cell": {
     "cellMetadata": {
      "byteLimit": 2048000,
      "rowLimit": 10000
     },
     "inputWidgets": {},
     "nuid": "49271aa3-0fee-4192-9bd2-952696c74c1c",
     "showTitle": false,
     "tableResultSettingsMap": {},
     "title": ""
    }
   },
   "source": [
    "Method 1:"
   ]
  },
  {
   "cell_type": "code",
   "execution_count": 0,
   "metadata": {
    "application/vnd.databricks.v1+cell": {
     "cellMetadata": {
      "byteLimit": 2048000,
      "rowLimit": 10000
     },
     "inputWidgets": {},
     "nuid": "37352e4e-2ffd-40c2-939b-5af0c387682d",
     "showTitle": false,
     "tableResultSettingsMap": {},
     "title": ""
    }
   },
   "outputs": [
    {
     "output_type": "display_data",
     "data": {
      "text/html": [
       "<style scoped>\n",
       "  .table-result-container {\n",
       "    max-height: 300px;\n",
       "    overflow: auto;\n",
       "  }\n",
       "  table, th, td {\n",
       "    border: 1px solid black;\n",
       "    border-collapse: collapse;\n",
       "  }\n",
       "  th, td {\n",
       "    padding: 5px;\n",
       "  }\n",
       "  th {\n",
       "    text-align: left;\n",
       "  }\n",
       "</style><div class='table-result-container'><table class='table-result'><thead style='background-color: white'><tr><th>Name</th></tr></thead><tbody><tr><td>null</td></tr><tr><td>null</td></tr><tr><td>null</td></tr><tr><td>null</td></tr><tr><td>null</td></tr><tr><td>null</td></tr></tbody></table></div>"
      ]
     },
     "metadata": {
      "application/vnd.databricks.v1+output": {
       "addedWidgets": {},
       "aggData": [],
       "aggError": "",
       "aggOverflow": false,
       "aggSchema": [],
       "aggSeriesLimitReached": false,
       "aggType": "",
       "arguments": {},
       "columnCustomDisplayInfos": {},
       "data": [
        [
         null
        ],
        [
         null
        ],
        [
         null
        ],
        [
         null
        ],
        [
         null
        ],
        [
         null
        ]
       ],
       "datasetInfos": [],
       "dbfsResultPath": null,
       "isJsonSchema": true,
       "metadata": {},
       "overflow": false,
       "plotOptions": {
        "customPlotOptions": {},
        "displayType": "table",
        "pivotAggregation": null,
        "pivotColumns": null,
        "xColumns": null,
        "yColumns": null
       },
       "removedWidgets": [],
       "schema": [
        {
         "metadata": "{}",
         "name": "Name",
         "type": "\"double\""
        }
       ],
       "type": "table"
      }
     },
     "output_type": "display_data"
    }
   ],
   "source": [
    "df.select('Name').display()"
   ]
  },
  {
   "cell_type": "markdown",
   "metadata": {
    "application/vnd.databricks.v1+cell": {
     "cellMetadata": {
      "byteLimit": 2048000,
      "rowLimit": 10000
     },
     "inputWidgets": {},
     "nuid": "1bc4b80e-cfc4-46a5-b3a6-f90537c07dc3",
     "showTitle": false,
     "tableResultSettingsMap": {},
     "title": ""
    }
   },
   "source": [
    "Method 2:"
   ]
  },
  {
   "cell_type": "code",
   "execution_count": 0,
   "metadata": {
    "application/vnd.databricks.v1+cell": {
     "cellMetadata": {
      "byteLimit": 2048000,
      "rowLimit": 10000
     },
     "inputWidgets": {},
     "nuid": "00311917-7920-456a-a834-6a0fb7ed0cf6",
     "showTitle": false,
     "tableResultSettingsMap": {},
     "title": ""
    }
   },
   "outputs": [
    {
     "output_type": "display_data",
     "data": {
      "text/html": [
       "<style scoped>\n",
       "  .table-result-container {\n",
       "    max-height: 300px;\n",
       "    overflow: auto;\n",
       "  }\n",
       "  table, th, td {\n",
       "    border: 1px solid black;\n",
       "    border-collapse: collapse;\n",
       "  }\n",
       "  th, td {\n",
       "    padding: 5px;\n",
       "  }\n",
       "  th {\n",
       "    text-align: left;\n",
       "  }\n",
       "</style><div class='table-result-container'><table class='table-result'><thead style='background-color: white'><tr><th>Name</th></tr></thead><tbody><tr><td>null</td></tr><tr><td>null</td></tr><tr><td>null</td></tr><tr><td>null</td></tr><tr><td>null</td></tr><tr><td>null</td></tr></tbody></table></div>"
      ]
     },
     "metadata": {
      "application/vnd.databricks.v1+output": {
       "addedWidgets": {},
       "aggData": [],
       "aggError": "",
       "aggOverflow": false,
       "aggSchema": [],
       "aggSeriesLimitReached": false,
       "aggType": "",
       "arguments": {},
       "columnCustomDisplayInfos": {},
       "data": [
        [
         null
        ],
        [
         null
        ],
        [
         null
        ],
        [
         null
        ],
        [
         null
        ],
        [
         null
        ]
       ],
       "datasetInfos": [],
       "dbfsResultPath": null,
       "isJsonSchema": true,
       "metadata": {},
       "overflow": false,
       "plotOptions": {
        "customPlotOptions": {},
        "displayType": "table",
        "pivotAggregation": null,
        "pivotColumns": null,
        "xColumns": null,
        "yColumns": null
       },
       "removedWidgets": [],
       "schema": [
        {
         "metadata": "{}",
         "name": "Name",
         "type": "\"double\""
        }
       ],
       "type": "table"
      }
     },
     "output_type": "display_data"
    }
   ],
   "source": [
    "df.select(df['Name']).display()"
   ]
  },
  {
   "cell_type": "markdown",
   "metadata": {
    "application/vnd.databricks.v1+cell": {
     "cellMetadata": {
      "byteLimit": 2048000,
      "rowLimit": 10000
     },
     "inputWidgets": {},
     "nuid": "b9e30b53-138a-4ef9-bf28-6a367e0240ab",
     "showTitle": false,
     "tableResultSettingsMap": {},
     "title": ""
    }
   },
   "source": [
    "Method 3:"
   ]
  },
  {
   "cell_type": "code",
   "execution_count": 0,
   "metadata": {
    "application/vnd.databricks.v1+cell": {
     "cellMetadata": {
      "byteLimit": 2048000,
      "rowLimit": 10000
     },
     "inputWidgets": {},
     "nuid": "73a9e3de-be0c-435a-8b1e-618ea21e2ecb",
     "showTitle": false,
     "tableResultSettingsMap": {},
     "title": ""
    }
   },
   "outputs": [
    {
     "output_type": "display_data",
     "data": {
      "text/html": [
       "<style scoped>\n",
       "  .table-result-container {\n",
       "    max-height: 300px;\n",
       "    overflow: auto;\n",
       "  }\n",
       "  table, th, td {\n",
       "    border: 1px solid black;\n",
       "    border-collapse: collapse;\n",
       "  }\n",
       "  th, td {\n",
       "    padding: 5px;\n",
       "  }\n",
       "  th {\n",
       "    text-align: left;\n",
       "  }\n",
       "</style><div class='table-result-container'><table class='table-result'><thead style='background-color: white'><tr><th>Name</th></tr></thead><tbody><tr><td>null</td></tr><tr><td>null</td></tr><tr><td>null</td></tr><tr><td>null</td></tr><tr><td>null</td></tr><tr><td>null</td></tr></tbody></table></div>"
      ]
     },
     "metadata": {
      "application/vnd.databricks.v1+output": {
       "addedWidgets": {},
       "aggData": [],
       "aggError": "",
       "aggOverflow": false,
       "aggSchema": [],
       "aggSeriesLimitReached": false,
       "aggType": "",
       "arguments": {},
       "columnCustomDisplayInfos": {},
       "data": [
        [
         null
        ],
        [
         null
        ],
        [
         null
        ],
        [
         null
        ],
        [
         null
        ],
        [
         null
        ]
       ],
       "datasetInfos": [],
       "dbfsResultPath": null,
       "isJsonSchema": true,
       "metadata": {},
       "overflow": false,
       "plotOptions": {
        "customPlotOptions": {},
        "displayType": "table",
        "pivotAggregation": null,
        "pivotColumns": null,
        "xColumns": null,
        "yColumns": null
       },
       "removedWidgets": [],
       "schema": [
        {
         "metadata": "{}",
         "name": "Name",
         "type": "\"double\""
        }
       ],
       "type": "table"
      }
     },
     "output_type": "display_data"
    }
   ],
   "source": [
    "df.select(col('Name')).display()\n"
   ]
  },
  {
   "cell_type": "markdown",
   "metadata": {
    "application/vnd.databricks.v1+cell": {
     "cellMetadata": {
      "byteLimit": 2048000,
      "rowLimit": 10000
     },
     "inputWidgets": {},
     "nuid": "1627f7e2-ad95-4f1c-8be6-a979dbe9d195",
     "showTitle": false,
     "tableResultSettingsMap": {},
     "title": ""
    }
   },
   "source": [
    "> it selects a single column from DataFrame df and returns a new DataFrame"
   ]
  },
  {
   "cell_type": "markdown",
   "metadata": {
    "application/vnd.databricks.v1+cell": {
     "cellMetadata": {
      "byteLimit": 2048000,
      "rowLimit": 10000
     },
     "inputWidgets": {},
     "nuid": "83a881ee-a1d6-4492-b989-767d2537a19e",
     "showTitle": false,
     "tableResultSettingsMap": {},
     "title": ""
    }
   },
   "source": [
    "#### Multiple Columns: "
   ]
  },
  {
   "cell_type": "markdown",
   "metadata": {
    "application/vnd.databricks.v1+cell": {
     "cellMetadata": {
      "byteLimit": 2048000,
      "rowLimit": 10000
     },
     "inputWidgets": {},
     "nuid": "33ac265f-8969-4c48-91ab-ba71c2170194",
     "showTitle": false,
     "tableResultSettingsMap": {},
     "title": ""
    }
   },
   "source": [
    "Method 1:"
   ]
  },
  {
   "cell_type": "code",
   "execution_count": 0,
   "metadata": {
    "application/vnd.databricks.v1+cell": {
     "cellMetadata": {
      "byteLimit": 2048000,
      "rowLimit": 10000
     },
     "inputWidgets": {},
     "nuid": "d84cfa86-0301-4a4c-81c5-2bf6f30cd94b",
     "showTitle": false,
     "tableResultSettingsMap": {},
     "title": ""
    }
   },
   "outputs": [
    {
     "output_type": "display_data",
     "data": {
      "text/html": [
       "<style scoped>\n",
       "  .table-result-container {\n",
       "    max-height: 300px;\n",
       "    overflow: auto;\n",
       "  }\n",
       "  table, th, td {\n",
       "    border: 1px solid black;\n",
       "    border-collapse: collapse;\n",
       "  }\n",
       "  th, td {\n",
       "    padding: 5px;\n",
       "  }\n",
       "  th {\n",
       "    text-align: left;\n",
       "  }\n",
       "</style><div class='table-result-container'><table class='table-result'><thead style='background-color: white'><tr><th>Name</th><th>Department</th></tr></thead><tbody><tr><td>null</td><td>HR</td></tr><tr><td>null</td><td>Finance</td></tr><tr><td>null</td><td>null</td></tr><tr><td>null</td><td>HR</td></tr><tr><td>null</td><td>Finance</td></tr><tr><td>null</td><td>HR</td></tr></tbody></table></div>"
      ]
     },
     "metadata": {
      "application/vnd.databricks.v1+output": {
       "addedWidgets": {},
       "aggData": [],
       "aggError": "",
       "aggOverflow": false,
       "aggSchema": [],
       "aggSeriesLimitReached": false,
       "aggType": "",
       "arguments": {},
       "columnCustomDisplayInfos": {},
       "data": [
        [
         null,
         "HR"
        ],
        [
         null,
         "Finance"
        ],
        [
         null,
         null
        ],
        [
         null,
         "HR"
        ],
        [
         null,
         "Finance"
        ],
        [
         null,
         "HR"
        ]
       ],
       "datasetInfos": [],
       "dbfsResultPath": null,
       "isJsonSchema": true,
       "metadata": {},
       "overflow": false,
       "plotOptions": {
        "customPlotOptions": {},
        "displayType": "table",
        "pivotAggregation": null,
        "pivotColumns": null,
        "xColumns": null,
        "yColumns": null
       },
       "removedWidgets": [],
       "schema": [
        {
         "metadata": "{}",
         "name": "Name",
         "type": "\"double\""
        },
        {
         "metadata": "{}",
         "name": "Department",
         "type": "\"string\""
        }
       ],
       "type": "table"
      }
     },
     "output_type": "display_data"
    }
   ],
   "source": [
    "df.select('Name','Department').display()"
   ]
  },
  {
   "cell_type": "markdown",
   "metadata": {
    "application/vnd.databricks.v1+cell": {
     "cellMetadata": {
      "byteLimit": 2048000,
      "rowLimit": 10000
     },
     "inputWidgets": {},
     "nuid": "5659bef7-0d02-4544-af58-a73e6b67833a",
     "showTitle": false,
     "tableResultSettingsMap": {},
     "title": ""
    }
   },
   "source": [
    "Method 2:"
   ]
  },
  {
   "cell_type": "code",
   "execution_count": 0,
   "metadata": {
    "application/vnd.databricks.v1+cell": {
     "cellMetadata": {
      "byteLimit": 2048000,
      "rowLimit": 10000
     },
     "inputWidgets": {},
     "nuid": "55fc8b71-43bf-44ac-8bf1-d95bf252816b",
     "showTitle": false,
     "tableResultSettingsMap": {},
     "title": ""
    }
   },
   "outputs": [
    {
     "output_type": "display_data",
     "data": {
      "text/html": [
       "<style scoped>\n",
       "  .table-result-container {\n",
       "    max-height: 300px;\n",
       "    overflow: auto;\n",
       "  }\n",
       "  table, th, td {\n",
       "    border: 1px solid black;\n",
       "    border-collapse: collapse;\n",
       "  }\n",
       "  th, td {\n",
       "    padding: 5px;\n",
       "  }\n",
       "  th {\n",
       "    text-align: left;\n",
       "  }\n",
       "</style><div class='table-result-container'><table class='table-result'><thead style='background-color: white'><tr><th>Name</th><th>Department</th></tr></thead><tbody><tr><td>null</td><td>HR</td></tr><tr><td>null</td><td>Finance</td></tr><tr><td>null</td><td>null</td></tr><tr><td>null</td><td>HR</td></tr><tr><td>null</td><td>Finance</td></tr><tr><td>null</td><td>HR</td></tr></tbody></table></div>"
      ]
     },
     "metadata": {
      "application/vnd.databricks.v1+output": {
       "addedWidgets": {},
       "aggData": [],
       "aggError": "",
       "aggOverflow": false,
       "aggSchema": [],
       "aggSeriesLimitReached": false,
       "aggType": "",
       "arguments": {},
       "columnCustomDisplayInfos": {},
       "data": [
        [
         null,
         "HR"
        ],
        [
         null,
         "Finance"
        ],
        [
         null,
         null
        ],
        [
         null,
         "HR"
        ],
        [
         null,
         "Finance"
        ],
        [
         null,
         "HR"
        ]
       ],
       "datasetInfos": [],
       "dbfsResultPath": null,
       "isJsonSchema": true,
       "metadata": {},
       "overflow": false,
       "plotOptions": {
        "customPlotOptions": {},
        "displayType": "table",
        "pivotAggregation": null,
        "pivotColumns": null,
        "xColumns": null,
        "yColumns": null
       },
       "removedWidgets": [],
       "schema": [
        {
         "metadata": "{}",
         "name": "Name",
         "type": "\"double\""
        },
        {
         "metadata": "{}",
         "name": "Department",
         "type": "\"string\""
        }
       ],
       "type": "table"
      }
     },
     "output_type": "display_data"
    }
   ],
   "source": [
    "\n",
    "df.select(['Name','Department']).display()"
   ]
  },
  {
   "cell_type": "markdown",
   "metadata": {
    "application/vnd.databricks.v1+cell": {
     "cellMetadata": {
      "byteLimit": 2048000,
      "rowLimit": 10000
     },
     "inputWidgets": {},
     "nuid": "87134597-6431-476e-a3c7-4383411ccb53",
     "showTitle": false,
     "tableResultSettingsMap": {},
     "title": ""
    }
   },
   "source": [
    "Method 3:"
   ]
  },
  {
   "cell_type": "code",
   "execution_count": 0,
   "metadata": {
    "application/vnd.databricks.v1+cell": {
     "cellMetadata": {
      "byteLimit": 2048000,
      "rowLimit": 10000
     },
     "inputWidgets": {},
     "nuid": "7234ad8a-c1a5-4fc8-9528-12b95aba670c",
     "showTitle": false,
     "tableResultSettingsMap": {},
     "title": ""
    }
   },
   "outputs": [
    {
     "output_type": "display_data",
     "data": {
      "text/html": [
       "<style scoped>\n",
       "  .table-result-container {\n",
       "    max-height: 300px;\n",
       "    overflow: auto;\n",
       "  }\n",
       "  table, th, td {\n",
       "    border: 1px solid black;\n",
       "    border-collapse: collapse;\n",
       "  }\n",
       "  th, td {\n",
       "    padding: 5px;\n",
       "  }\n",
       "  th {\n",
       "    text-align: left;\n",
       "  }\n",
       "</style><div class='table-result-container'><table class='table-result'><thead style='background-color: white'><tr><th>Name</th><th>Department</th></tr></thead><tbody><tr><td>null</td><td>HR</td></tr><tr><td>null</td><td>Finance</td></tr><tr><td>null</td><td>null</td></tr><tr><td>null</td><td>HR</td></tr><tr><td>null</td><td>Finance</td></tr><tr><td>null</td><td>HR</td></tr></tbody></table></div>"
      ]
     },
     "metadata": {
      "application/vnd.databricks.v1+output": {
       "addedWidgets": {},
       "aggData": [],
       "aggError": "",
       "aggOverflow": false,
       "aggSchema": [],
       "aggSeriesLimitReached": false,
       "aggType": "",
       "arguments": {},
       "columnCustomDisplayInfos": {},
       "data": [
        [
         null,
         "HR"
        ],
        [
         null,
         "Finance"
        ],
        [
         null,
         null
        ],
        [
         null,
         "HR"
        ],
        [
         null,
         "Finance"
        ],
        [
         null,
         "HR"
        ]
       ],
       "datasetInfos": [],
       "dbfsResultPath": null,
       "isJsonSchema": true,
       "metadata": {},
       "overflow": false,
       "plotOptions": {
        "customPlotOptions": {},
        "displayType": "table",
        "pivotAggregation": null,
        "pivotColumns": null,
        "xColumns": null,
        "yColumns": null
       },
       "removedWidgets": [],
       "schema": [
        {
         "metadata": "{}",
         "name": "Name",
         "type": "\"double\""
        },
        {
         "metadata": "{}",
         "name": "Department",
         "type": "\"string\""
        }
       ],
       "type": "table"
      }
     },
     "output_type": "display_data"
    }
   ],
   "source": [
    "df.select(col('Name'),col('Department')).display()"
   ]
  },
  {
   "cell_type": "markdown",
   "metadata": {
    "application/vnd.databricks.v1+cell": {
     "cellMetadata": {
      "byteLimit": 2048000,
      "rowLimit": 10000
     },
     "inputWidgets": {},
     "nuid": "acfacf7c-9e62-4232-b3ef-0d3e40fcbf1a",
     "showTitle": false,
     "tableResultSettingsMap": {},
     "title": ""
    }
   },
   "source": [
    "> it selects multiple columns from DataFrame df and returns a new DataFrame"
   ]
  },
  {
   "cell_type": "markdown",
   "metadata": {
    "application/vnd.databricks.v1+cell": {
     "cellMetadata": {
      "byteLimit": 2048000,
      "rowLimit": 10000
     },
     "inputWidgets": {},
     "nuid": "25a53696-8dd8-4bbd-bc7c-9012a63a9301",
     "showTitle": false,
     "tableResultSettingsMap": {},
     "title": ""
    }
   },
   "source": [
    "#### All Columns: "
   ]
  },
  {
   "cell_type": "code",
   "execution_count": 0,
   "metadata": {
    "application/vnd.databricks.v1+cell": {
     "cellMetadata": {
      "byteLimit": 2048000,
      "rowLimit": 10000
     },
     "inputWidgets": {},
     "nuid": "48947705-d36c-4829-88cf-5b28e0faa6ad",
     "showTitle": false,
     "tableResultSettingsMap": {},
     "title": ""
    }
   },
   "outputs": [
    {
     "output_type": "display_data",
     "data": {
      "text/html": [
       "<style scoped>\n",
       "  .table-result-container {\n",
       "    max-height: 300px;\n",
       "    overflow: auto;\n",
       "  }\n",
       "  table, th, td {\n",
       "    border: 1px solid black;\n",
       "    border-collapse: collapse;\n",
       "  }\n",
       "  th, td {\n",
       "    padding: 5px;\n",
       "  }\n",
       "  th {\n",
       "    text-align: left;\n",
       "  }\n",
       "</style><div class='table-result-container'><table class='table-result'><thead style='background-color: white'><tr><th>NAME</th><th>DEPARTMENT</th><th>SALARY</th><th>Age</th><th>Bonus</th><th>YOUNG or OLD</th></tr></thead><tbody><tr><td>null</td><td>HR</td><td>50000</td><td>28</td><td>12500.0</td><td>Young Blood</td></tr><tr><td>null</td><td>Finance</td><td>60000</td><td>null</td><td>15000.0</td><td>Oldie</td></tr><tr><td>null</td><td>null</td><td>70000</td><td>35</td><td>17500.0</td><td>Oldie</td></tr><tr><td>null</td><td>HR</td><td>null</td><td>41</td><td>null</td><td>Oldie</td></tr><tr><td>null</td><td>Finance</td><td>60000</td><td>null</td><td>15000.0</td><td>Oldie</td></tr><tr><td>null</td><td>HR</td><td>null</td><td>41</td><td>null</td><td>Oldie</td></tr></tbody></table></div>"
      ]
     },
     "metadata": {
      "application/vnd.databricks.v1+output": {
       "addedWidgets": {},
       "aggData": [],
       "aggError": "",
       "aggOverflow": false,
       "aggSchema": [],
       "aggSeriesLimitReached": false,
       "aggType": "",
       "arguments": {},
       "columnCustomDisplayInfos": {},
       "data": [
        [
         null,
         "HR",
         50000,
         28,
         12500.0,
         "Young Blood"
        ],
        [
         null,
         "Finance",
         60000,
         null,
         15000.0,
         "Oldie"
        ],
        [
         null,
         null,
         70000,
         35,
         17500.0,
         "Oldie"
        ],
        [
         null,
         "HR",
         null,
         41,
         null,
         "Oldie"
        ],
        [
         null,
         "Finance",
         60000,
         null,
         15000.0,
         "Oldie"
        ],
        [
         null,
         "HR",
         null,
         41,
         null,
         "Oldie"
        ]
       ],
       "datasetInfos": [],
       "dbfsResultPath": null,
       "isJsonSchema": true,
       "metadata": {},
       "overflow": false,
       "plotOptions": {
        "customPlotOptions": {},
        "displayType": "table",
        "pivotAggregation": null,
        "pivotColumns": null,
        "xColumns": null,
        "yColumns": null
       },
       "removedWidgets": [],
       "schema": [
        {
         "metadata": "{}",
         "name": "NAME",
         "type": "\"double\""
        },
        {
         "metadata": "{}",
         "name": "DEPARTMENT",
         "type": "\"string\""
        },
        {
         "metadata": "{}",
         "name": "SALARY",
         "type": "\"integer\""
        },
        {
         "metadata": "{}",
         "name": "Age",
         "type": "\"integer\""
        },
        {
         "metadata": "{}",
         "name": "Bonus",
         "type": "\"double\""
        },
        {
         "metadata": "{}",
         "name": "YOUNG or OLD",
         "type": "\"string\""
        }
       ],
       "type": "table"
      }
     },
     "output_type": "display_data"
    }
   ],
   "source": [
    "df.select(\"*\").display()"
   ]
  },
  {
   "cell_type": "markdown",
   "metadata": {
    "application/vnd.databricks.v1+cell": {
     "cellMetadata": {
      "byteLimit": 2048000,
      "rowLimit": 10000
     },
     "inputWidgets": {},
     "nuid": "dc8cc570-b0a4-4b0b-a920-6e87a6e09068",
     "showTitle": false,
     "tableResultSettingsMap": {},
     "title": ""
    }
   },
   "source": [
    "> it selects all columns of the DataFrame df and returns a new DataFrame"
   ]
  },
  {
   "cell_type": "markdown",
   "metadata": {
    "application/vnd.databricks.v1+cell": {
     "cellMetadata": {
      "byteLimit": 2048000,
      "rowLimit": 10000
     },
     "inputWidgets": {},
     "nuid": "dce66605-1db0-440b-98c2-c72d9665e221",
     "showTitle": false,
     "tableResultSettingsMap": {},
     "title": ""
    }
   },
   "source": [
    "#### Using Alias: "
   ]
  },
  {
   "cell_type": "code",
   "execution_count": 0,
   "metadata": {
    "application/vnd.databricks.v1+cell": {
     "cellMetadata": {
      "byteLimit": 2048000,
      "rowLimit": 10000
     },
     "inputWidgets": {},
     "nuid": "b443c055-1a78-4c3a-9404-69e47322b264",
     "showTitle": false,
     "tableResultSettingsMap": {},
     "title": ""
    }
   },
   "outputs": [
    {
     "output_type": "display_data",
     "data": {
      "text/html": [
       "<style scoped>\n",
       "  .table-result-container {\n",
       "    max-height: 300px;\n",
       "    overflow: auto;\n",
       "  }\n",
       "  table, th, td {\n",
       "    border: 1px solid black;\n",
       "    border-collapse: collapse;\n",
       "  }\n",
       "  th, td {\n",
       "    padding: 5px;\n",
       "  }\n",
       "  th {\n",
       "    text-align: left;\n",
       "  }\n",
       "</style><div class='table-result-container'><table class='table-result'><thead style='background-color: white'><tr><th>NAME</th></tr></thead><tbody><tr><td>null</td></tr><tr><td>null</td></tr><tr><td>null</td></tr><tr><td>null</td></tr><tr><td>null</td></tr><tr><td>null</td></tr></tbody></table></div>"
      ]
     },
     "metadata": {
      "application/vnd.databricks.v1+output": {
       "addedWidgets": {},
       "aggData": [],
       "aggError": "",
       "aggOverflow": false,
       "aggSchema": [],
       "aggSeriesLimitReached": false,
       "aggType": "",
       "arguments": {},
       "columnCustomDisplayInfos": {},
       "data": [
        [
         null
        ],
        [
         null
        ],
        [
         null
        ],
        [
         null
        ],
        [
         null
        ],
        [
         null
        ]
       ],
       "datasetInfos": [],
       "dbfsResultPath": null,
       "isJsonSchema": true,
       "metadata": {},
       "overflow": false,
       "plotOptions": {
        "customPlotOptions": {},
        "displayType": "table",
        "pivotAggregation": null,
        "pivotColumns": null,
        "xColumns": null,
        "yColumns": null
       },
       "removedWidgets": [],
       "schema": [
        {
         "metadata": "{}",
         "name": "NAME",
         "type": "\"double\""
        }
       ],
       "type": "table"
      }
     },
     "output_type": "display_data"
    }
   ],
   "source": [
    "df.select(df['Name'].alias('NAME')).display()"
   ]
  },
  {
   "cell_type": "code",
   "execution_count": 0,
   "metadata": {
    "application/vnd.databricks.v1+cell": {
     "cellMetadata": {
      "byteLimit": 2048000,
      "rowLimit": 10000
     },
     "inputWidgets": {},
     "nuid": "b8c901f1-03b6-4603-b279-8a9b00505e6c",
     "showTitle": false,
     "tableResultSettingsMap": {},
     "title": ""
    }
   },
   "outputs": [
    {
     "output_type": "display_data",
     "data": {
      "text/html": [
       "<style scoped>\n",
       "  .table-result-container {\n",
       "    max-height: 300px;\n",
       "    overflow: auto;\n",
       "  }\n",
       "  table, th, td {\n",
       "    border: 1px solid black;\n",
       "    border-collapse: collapse;\n",
       "  }\n",
       "  th, td {\n",
       "    padding: 5px;\n",
       "  }\n",
       "  th {\n",
       "    text-align: left;\n",
       "  }\n",
       "</style><div class='table-result-container'><table class='table-result'><thead style='background-color: white'><tr><th>NAME</th></tr></thead><tbody><tr><td>null</td></tr><tr><td>null</td></tr><tr><td>null</td></tr><tr><td>null</td></tr><tr><td>null</td></tr><tr><td>null</td></tr></tbody></table></div>"
      ]
     },
     "metadata": {
      "application/vnd.databricks.v1+output": {
       "addedWidgets": {},
       "aggData": [],
       "aggError": "",
       "aggOverflow": false,
       "aggSchema": [],
       "aggSeriesLimitReached": false,
       "aggType": "",
       "arguments": {},
       "columnCustomDisplayInfos": {},
       "data": [
        [
         null
        ],
        [
         null
        ],
        [
         null
        ],
        [
         null
        ],
        [
         null
        ],
        [
         null
        ]
       ],
       "datasetInfos": [],
       "dbfsResultPath": null,
       "isJsonSchema": true,
       "metadata": {},
       "overflow": false,
       "plotOptions": {
        "customPlotOptions": {},
        "displayType": "table",
        "pivotAggregation": null,
        "pivotColumns": null,
        "xColumns": null,
        "yColumns": null
       },
       "removedWidgets": [],
       "schema": [
        {
         "metadata": "{}",
         "name": "NAME",
         "type": "\"double\""
        }
       ],
       "type": "table"
      }
     },
     "output_type": "display_data"
    }
   ],
   "source": [
    "df.select(col('Name').alias('NAME')).display()"
   ]
  },
  {
   "cell_type": "markdown",
   "metadata": {
    "application/vnd.databricks.v1+cell": {
     "cellMetadata": {
      "byteLimit": 2048000,
      "rowLimit": 10000
     },
     "inputWidgets": {},
     "nuid": "d2d3faaa-6e14-44d8-875a-4dfbee53e4f4",
     "showTitle": false,
     "tableResultSettingsMap": {},
     "title": ""
    }
   },
   "source": [
    "## Filter - [ Column Selection ] \n",
    "  - It is used to filter rows in a DataFrame based on one or more conditions. \n",
    "  - It can be used with a variety of conditions, including equality checks, range queries, and string operations."
   ]
  },
  {
   "cell_type": "markdown",
   "metadata": {
    "application/vnd.databricks.v1+cell": {
     "cellMetadata": {
      "byteLimit": 2048000,
      "rowLimit": 10000
     },
     "inputWidgets": {},
     "nuid": "a7d28213-2a61-4e4e-8367-a9e9ba1d0f80",
     "showTitle": false,
     "tableResultSettingsMap": {},
     "title": ""
    }
   },
   "source": [
    "#### Single Condition"
   ]
  },
  {
   "cell_type": "markdown",
   "metadata": {
    "application/vnd.databricks.v1+cell": {
     "cellMetadata": {
      "byteLimit": 2048000,
      "rowLimit": 10000
     },
     "inputWidgets": {},
     "nuid": "44fa3bf1-d995-4d32-bf3a-5d5257f099af",
     "showTitle": false,
     "tableResultSettingsMap": {},
     "title": ""
    }
   },
   "source": [
    "Method 1:"
   ]
  },
  {
   "cell_type": "code",
   "execution_count": 0,
   "metadata": {
    "application/vnd.databricks.v1+cell": {
     "cellMetadata": {
      "byteLimit": 2048000,
      "rowLimit": 10000
     },
     "inputWidgets": {},
     "nuid": "de8b7b85-dfea-46c7-8f61-52e77461e824",
     "showTitle": false,
     "tableResultSettingsMap": {},
     "title": ""
    }
   },
   "outputs": [
    {
     "output_type": "display_data",
     "data": {
      "text/html": [
       "<style scoped>\n",
       "  .table-result-container {\n",
       "    max-height: 300px;\n",
       "    overflow: auto;\n",
       "  }\n",
       "  table, th, td {\n",
       "    border: 1px solid black;\n",
       "    border-collapse: collapse;\n",
       "  }\n",
       "  th, td {\n",
       "    padding: 5px;\n",
       "  }\n",
       "  th {\n",
       "    text-align: left;\n",
       "  }\n",
       "</style><div class='table-result-container'><table class='table-result'><thead style='background-color: white'><tr><th>NAME</th><th>DEPARTMENT</th><th>SALARY</th><th>Age</th><th>Bonus</th><th>YOUNG or OLD</th></tr></thead><tbody></tbody></table></div>"
      ]
     },
     "metadata": {
      "application/vnd.databricks.v1+output": {
       "addedWidgets": {},
       "aggData": [],
       "aggError": "",
       "aggOverflow": false,
       "aggSchema": [],
       "aggSeriesLimitReached": false,
       "aggType": "",
       "arguments": {},
       "columnCustomDisplayInfos": {},
       "data": [],
       "datasetInfos": [],
       "dbfsResultPath": null,
       "isJsonSchema": true,
       "metadata": {},
       "overflow": false,
       "plotOptions": {
        "customPlotOptions": {},
        "displayType": "table",
        "pivotAggregation": null,
        "pivotColumns": null,
        "xColumns": null,
        "yColumns": null
       },
       "removedWidgets": [],
       "schema": [
        {
         "metadata": "{}",
         "name": "NAME",
         "type": "\"double\""
        },
        {
         "metadata": "{}",
         "name": "DEPARTMENT",
         "type": "\"string\""
        },
        {
         "metadata": "{}",
         "name": "SALARY",
         "type": "\"integer\""
        },
        {
         "metadata": "{}",
         "name": "Age",
         "type": "\"integer\""
        },
        {
         "metadata": "{}",
         "name": "Bonus",
         "type": "\"double\""
        },
        {
         "metadata": "{}",
         "name": "YOUNG or OLD",
         "type": "\"string\""
        }
       ],
       "type": "table"
      }
     },
     "output_type": "display_data"
    }
   ],
   "source": [
    "df1 = df.filter(df['Name'] == \"Bob\")\n",
    "df1 = df[df['Name']==\"Bob\"]\n",
    "df1.display()"
   ]
  },
  {
   "cell_type": "markdown",
   "metadata": {
    "application/vnd.databricks.v1+cell": {
     "cellMetadata": {
      "byteLimit": 2048000,
      "rowLimit": 10000
     },
     "inputWidgets": {},
     "nuid": "dcde806e-abc0-4de4-a820-3dc241f9acc9",
     "showTitle": false,
     "tableResultSettingsMap": {},
     "title": ""
    }
   },
   "source": [
    "Method 2:"
   ]
  },
  {
   "cell_type": "code",
   "execution_count": 0,
   "metadata": {
    "application/vnd.databricks.v1+cell": {
     "cellMetadata": {
      "byteLimit": 2048000,
      "rowLimit": 10000
     },
     "inputWidgets": {},
     "nuid": "23045942-4d6f-4027-b707-b57f4b13283c",
     "showTitle": false,
     "tableResultSettingsMap": {},
     "title": ""
    }
   },
   "outputs": [
    {
     "output_type": "display_data",
     "data": {
      "text/html": [
       "<style scoped>\n",
       "  .table-result-container {\n",
       "    max-height: 300px;\n",
       "    overflow: auto;\n",
       "  }\n",
       "  table, th, td {\n",
       "    border: 1px solid black;\n",
       "    border-collapse: collapse;\n",
       "  }\n",
       "  th, td {\n",
       "    padding: 5px;\n",
       "  }\n",
       "  th {\n",
       "    text-align: left;\n",
       "  }\n",
       "</style><div class='table-result-container'><table class='table-result'><thead style='background-color: white'><tr><th>NAME</th><th>DEPARTMENT</th><th>SALARY</th><th>Age</th><th>Bonus</th><th>YOUNG or OLD</th></tr></thead><tbody></tbody></table></div>"
      ]
     },
     "metadata": {
      "application/vnd.databricks.v1+output": {
       "addedWidgets": {},
       "aggData": [],
       "aggError": "",
       "aggOverflow": false,
       "aggSchema": [],
       "aggSeriesLimitReached": false,
       "aggType": "",
       "arguments": {},
       "columnCustomDisplayInfos": {},
       "data": [],
       "datasetInfos": [],
       "dbfsResultPath": null,
       "isJsonSchema": true,
       "metadata": {},
       "overflow": false,
       "plotOptions": {
        "customPlotOptions": {},
        "displayType": "table",
        "pivotAggregation": null,
        "pivotColumns": null,
        "xColumns": null,
        "yColumns": null
       },
       "removedWidgets": [],
       "schema": [
        {
         "metadata": "{}",
         "name": "NAME",
         "type": "\"double\""
        },
        {
         "metadata": "{}",
         "name": "DEPARTMENT",
         "type": "\"string\""
        },
        {
         "metadata": "{}",
         "name": "SALARY",
         "type": "\"integer\""
        },
        {
         "metadata": "{}",
         "name": "Age",
         "type": "\"integer\""
        },
        {
         "metadata": "{}",
         "name": "Bonus",
         "type": "\"double\""
        },
        {
         "metadata": "{}",
         "name": "YOUNG or OLD",
         "type": "\"string\""
        }
       ],
       "type": "table"
      }
     },
     "output_type": "display_data"
    }
   ],
   "source": [
    "f1=df.filter( col(\"Name\")==\"Bob\" )\n",
    "f1.display()"
   ]
  },
  {
   "cell_type": "markdown",
   "metadata": {
    "application/vnd.databricks.v1+cell": {
     "cellMetadata": {
      "byteLimit": 2048000,
      "rowLimit": 10000
     },
     "inputWidgets": {},
     "nuid": "514131e4-0d2c-414f-b64b-170bd61379f8",
     "showTitle": false,
     "tableResultSettingsMap": {},
     "title": ""
    }
   },
   "source": [
    "#### Multiple condition"
   ]
  },
  {
   "cell_type": "code",
   "execution_count": 0,
   "metadata": {
    "application/vnd.databricks.v1+cell": {
     "cellMetadata": {
      "byteLimit": 2048000,
      "rowLimit": 10000
     },
     "inputWidgets": {},
     "nuid": "cf364262-c956-43a9-be82-0d13d5f425f4",
     "showTitle": false,
     "tableResultSettingsMap": {},
     "title": ""
    }
   },
   "outputs": [],
   "source": [
    "f2 = df.filter((df[\"Department\"] < \"Finance\") | (df[\"Name\"] == \"Charlie\"))\n"
   ]
  },
  {
   "cell_type": "code",
   "execution_count": 0,
   "metadata": {
    "application/vnd.databricks.v1+cell": {
     "cellMetadata": {
      "byteLimit": 2048000,
      "rowLimit": 10000
     },
     "inputWidgets": {},
     "nuid": "7d56d3f2-4313-4a56-8f7b-c5c7a07de2a2",
     "showTitle": false,
     "tableResultSettingsMap": {},
     "title": ""
    }
   },
   "outputs": [
    {
     "output_type": "display_data",
     "data": {
      "text/html": [
       "<style scoped>\n",
       "  .table-result-container {\n",
       "    max-height: 300px;\n",
       "    overflow: auto;\n",
       "  }\n",
       "  table, th, td {\n",
       "    border: 1px solid black;\n",
       "    border-collapse: collapse;\n",
       "  }\n",
       "  th, td {\n",
       "    padding: 5px;\n",
       "  }\n",
       "  th {\n",
       "    text-align: left;\n",
       "  }\n",
       "</style><div class='table-result-container'><table class='table-result'><thead style='background-color: white'><tr><th>NAME</th><th>DEPARTMENT</th><th>SALARY</th><th>Age</th><th>Bonus</th><th>YOUNG or OLD</th></tr></thead><tbody><tr><td>null</td><td>Finance</td><td>60000</td><td>null</td><td>15000.0</td><td>Oldie</td></tr><tr><td>null</td><td>Finance</td><td>60000</td><td>null</td><td>15000.0</td><td>Oldie</td></tr></tbody></table></div>"
      ]
     },
     "metadata": {
      "application/vnd.databricks.v1+output": {
       "addedWidgets": {},
       "aggData": [],
       "aggError": "",
       "aggOverflow": false,
       "aggSchema": [],
       "aggSeriesLimitReached": false,
       "aggType": "",
       "arguments": {},
       "columnCustomDisplayInfos": {},
       "data": [
        [
         null,
         "Finance",
         60000,
         null,
         15000.0,
         "Oldie"
        ],
        [
         null,
         "Finance",
         60000,
         null,
         15000.0,
         "Oldie"
        ]
       ],
       "datasetInfos": [],
       "dbfsResultPath": null,
       "isJsonSchema": true,
       "metadata": {},
       "overflow": false,
       "plotOptions": {
        "customPlotOptions": {},
        "displayType": "table",
        "pivotAggregation": null,
        "pivotColumns": null,
        "xColumns": null,
        "yColumns": null
       },
       "removedWidgets": [],
       "schema": [
        {
         "metadata": "{}",
         "name": "NAME",
         "type": "\"double\""
        },
        {
         "metadata": "{}",
         "name": "DEPARTMENT",
         "type": "\"string\""
        },
        {
         "metadata": "{}",
         "name": "SALARY",
         "type": "\"integer\""
        },
        {
         "metadata": "{}",
         "name": "Age",
         "type": "\"integer\""
        },
        {
         "metadata": "{}",
         "name": "Bonus",
         "type": "\"double\""
        },
        {
         "metadata": "{}",
         "name": "YOUNG or OLD",
         "type": "\"string\""
        }
       ],
       "type": "table"
      }
     },
     "output_type": "display_data"
    }
   ],
   "source": [
    "f2=df.filter((col(\"Name\") == \"Bob\") | (col(\"Department\") == \"Finance\"))\n",
    "f2.display()"
   ]
  },
  {
   "cell_type": "markdown",
   "metadata": {
    "application/vnd.databricks.v1+cell": {
     "cellMetadata": {
      "byteLimit": 2048000,
      "rowLimit": 10000
     },
     "inputWidgets": {},
     "nuid": "65079255-7717-4657-93e0-73d601b5f279",
     "showTitle": false,
     "tableResultSettingsMap": {},
     "title": ""
    }
   },
   "source": [
    "> This can be achieved by combining individual conditions using logical operators like \n",
    "- & (AND)\n",
    "\n",
    "`(col(\"Company Name\") == \"Apple\") & (col(\"RAM\") == \"6 GB\")`\n",
    "- | (OR)\n",
    "\n",
    "`(col(\"Company Name\") == \"Apple\") | (col(\"RAM\") == \"6 GB\")`\n",
    "- ~ (NOT).\n",
    "\n",
    "`~(col(\"Company Name\") == \"Apple\")`"
   ]
  },
  {
   "cell_type": "markdown",
   "metadata": {
    "application/vnd.databricks.v1+cell": {
     "cellMetadata": {
      "byteLimit": 2048000,
      "rowLimit": 10000
     },
     "inputWidgets": {},
     "nuid": "064c99d9-8f9b-4e36-b728-fb258fa34e41",
     "showTitle": false,
     "tableResultSettingsMap": {},
     "title": ""
    }
   },
   "source": [
    "#### Multiple Values in a Column \n",
    "####  Using isin() "
   ]
  },
  {
   "cell_type": "code",
   "execution_count": 0,
   "metadata": {
    "application/vnd.databricks.v1+cell": {
     "cellMetadata": {
      "byteLimit": 2048000,
      "rowLimit": 10000
     },
     "inputWidgets": {},
     "nuid": "e1262b71-4c8b-45c5-a367-e45ef07a6a99",
     "showTitle": false,
     "tableResultSettingsMap": {},
     "title": ""
    }
   },
   "outputs": [
    {
     "output_type": "display_data",
     "data": {
      "text/html": [
       "<style scoped>\n",
       "  .table-result-container {\n",
       "    max-height: 300px;\n",
       "    overflow: auto;\n",
       "  }\n",
       "  table, th, td {\n",
       "    border: 1px solid black;\n",
       "    border-collapse: collapse;\n",
       "  }\n",
       "  th, td {\n",
       "    padding: 5px;\n",
       "  }\n",
       "  th {\n",
       "    text-align: left;\n",
       "  }\n",
       "</style><div class='table-result-container'><table class='table-result'><thead style='background-color: white'><tr><th>NAME</th><th>DEPARTMENT</th><th>SALARY</th><th>Age</th><th>Bonus</th><th>YOUNG or OLD</th></tr></thead><tbody></tbody></table></div>"
      ]
     },
     "metadata": {
      "application/vnd.databricks.v1+output": {
       "addedWidgets": {},
       "aggData": [],
       "aggError": "",
       "aggOverflow": false,
       "aggSchema": [],
       "aggSeriesLimitReached": false,
       "aggType": "",
       "arguments": {},
       "columnCustomDisplayInfos": {},
       "data": [],
       "datasetInfos": [],
       "dbfsResultPath": null,
       "isJsonSchema": true,
       "metadata": {},
       "overflow": false,
       "plotOptions": {
        "customPlotOptions": {},
        "displayType": "table",
        "pivotAggregation": null,
        "pivotColumns": null,
        "xColumns": null,
        "yColumns": null
       },
       "removedWidgets": [],
       "schema": [
        {
         "metadata": "{}",
         "name": "NAME",
         "type": "\"double\""
        },
        {
         "metadata": "{}",
         "name": "DEPARTMENT",
         "type": "\"string\""
        },
        {
         "metadata": "{}",
         "name": "SALARY",
         "type": "\"integer\""
        },
        {
         "metadata": "{}",
         "name": "Age",
         "type": "\"integer\""
        },
        {
         "metadata": "{}",
         "name": "Bonus",
         "type": "\"double\""
        },
        {
         "metadata": "{}",
         "name": "YOUNG or OLD",
         "type": "\"string\""
        }
       ],
       "type": "table"
      }
     },
     "output_type": "display_data"
    }
   ],
   "source": [
    "f3=df.filter( (col(\"Name\").isin(\"Alice\",\"Bob\")) )\n",
    "f3=df.filter( (df[\"Name\"].isin(\"Alice\",\"Bob\")) )\n",
    "f3.display()"
   ]
  },
  {
   "cell_type": "markdown",
   "metadata": {
    "application/vnd.databricks.v1+cell": {
     "cellMetadata": {
      "byteLimit": 2048000,
      "rowLimit": 10000
     },
     "inputWidgets": {},
     "nuid": "05c586ad-39fd-43c2-aeff-1e6458ae5a88",
     "showTitle": false,
     "tableResultSettingsMap": {},
     "title": ""
    }
   },
   "source": [
    "#### Using Column Functions"
   ]
  },
  {
   "cell_type": "markdown",
   "metadata": {
    "application/vnd.databricks.v1+cell": {
     "cellMetadata": {
      "byteLimit": 2048000,
      "rowLimit": 10000
     },
     "inputWidgets": {},
     "nuid": "9813cfd8-3299-4f12-b48f-3985b88520df",
     "showTitle": false,
     "tableResultSettingsMap": {},
     "title": ""
    }
   },
   "source": [
    "##### 4.1 between()\n",
    "Checks if the columns values are between lower and upper bound. Returns boolean value."
   ]
  },
  {
   "cell_type": "code",
   "execution_count": 0,
   "metadata": {
    "application/vnd.databricks.v1+cell": {
     "cellMetadata": {
      "byteLimit": 2048000,
      "rowLimit": 10000
     },
     "inputWidgets": {},
     "nuid": "0928c708-313c-4553-a467-6f7e25c387a6",
     "showTitle": false,
     "tableResultSettingsMap": {},
     "title": ""
    }
   },
   "outputs": [
    {
     "output_type": "display_data",
     "data": {
      "text/html": [
       "<style scoped>\n",
       "  .table-result-container {\n",
       "    max-height: 300px;\n",
       "    overflow: auto;\n",
       "  }\n",
       "  table, th, td {\n",
       "    border: 1px solid black;\n",
       "    border-collapse: collapse;\n",
       "  }\n",
       "  th, td {\n",
       "    padding: 5px;\n",
       "  }\n",
       "  th {\n",
       "    text-align: left;\n",
       "  }\n",
       "</style><div class='table-result-container'><table class='table-result'><thead style='background-color: white'><tr><th>NAME</th><th>DEPARTMENT</th><th>SALARY</th><th>Age</th><th>Bonus</th><th>YOUNG or OLD</th></tr></thead><tbody></tbody></table></div>"
      ]
     },
     "metadata": {
      "application/vnd.databricks.v1+output": {
       "addedWidgets": {},
       "aggData": [],
       "aggError": "",
       "aggOverflow": false,
       "aggSchema": [],
       "aggSeriesLimitReached": false,
       "aggType": "",
       "arguments": {},
       "columnCustomDisplayInfos": {},
       "data": [],
       "datasetInfos": [],
       "dbfsResultPath": null,
       "isJsonSchema": true,
       "metadata": {},
       "overflow": false,
       "plotOptions": {
        "customPlotOptions": {},
        "displayType": "table",
        "pivotAggregation": null,
        "pivotColumns": null,
        "xColumns": null,
        "yColumns": null
       },
       "removedWidgets": [],
       "schema": [
        {
         "metadata": "{}",
         "name": "NAME",
         "type": "\"double\""
        },
        {
         "metadata": "{}",
         "name": "DEPARTMENT",
         "type": "\"string\""
        },
        {
         "metadata": "{}",
         "name": "SALARY",
         "type": "\"integer\""
        },
        {
         "metadata": "{}",
         "name": "Age",
         "type": "\"integer\""
        },
        {
         "metadata": "{}",
         "name": "Bonus",
         "type": "\"double\""
        },
        {
         "metadata": "{}",
         "name": "YOUNG or OLD",
         "type": "\"string\""
        }
       ],
       "type": "table"
      }
     },
     "output_type": "display_data"
    }
   ],
   "source": [
    "f4=df.filter(df[\"Salary\"].between(4000,7000))\n",
    "f4=df.filter(col(\"Salary\").between(4000,7000))\n",
    "f4.display()"
   ]
  },
  {
   "cell_type": "markdown",
   "metadata": {
    "application/vnd.databricks.v1+cell": {
     "cellMetadata": {
      "byteLimit": 2048000,
      "rowLimit": 10000
     },
     "inputWidgets": {},
     "nuid": "627072f0-8387-49bf-8f9a-b8c2d8c523c8",
     "showTitle": false,
     "tableResultSettingsMap": {},
     "title": ""
    }
   },
   "source": [
    "##### 4.2 isNull() / isNotNull()\n",
    "Checks if the DataFrame column has NULL or non NULL values."
   ]
  },
  {
   "cell_type": "code",
   "execution_count": 0,
   "metadata": {
    "application/vnd.databricks.v1+cell": {
     "cellMetadata": {
      "byteLimit": 2048000,
      "rowLimit": 10000
     },
     "inputWidgets": {},
     "nuid": "f7023f7c-5945-41b1-affb-8cfd47ee5236",
     "showTitle": false,
     "tableResultSettingsMap": {},
     "title": ""
    }
   },
   "outputs": [
    {
     "output_type": "display_data",
     "data": {
      "text/html": [
       "<style scoped>\n",
       "  .table-result-container {\n",
       "    max-height: 300px;\n",
       "    overflow: auto;\n",
       "  }\n",
       "  table, th, td {\n",
       "    border: 1px solid black;\n",
       "    border-collapse: collapse;\n",
       "  }\n",
       "  th, td {\n",
       "    padding: 5px;\n",
       "  }\n",
       "  th {\n",
       "    text-align: left;\n",
       "  }\n",
       "</style><div class='table-result-container'><table class='table-result'><thead style='background-color: white'><tr><th>NAME</th><th>DEPARTMENT</th><th>SALARY</th><th>Age</th><th>Bonus</th><th>YOUNG or OLD</th></tr></thead><tbody><tr><td>null</td><td>Finance</td><td>60000</td><td>null</td><td>15000.0</td><td>Oldie</td></tr><tr><td>null</td><td>Finance</td><td>60000</td><td>null</td><td>15000.0</td><td>Oldie</td></tr></tbody></table></div>"
      ]
     },
     "metadata": {
      "application/vnd.databricks.v1+output": {
       "addedWidgets": {},
       "aggData": [],
       "aggError": "",
       "aggOverflow": false,
       "aggSchema": [],
       "aggSeriesLimitReached": false,
       "aggType": "",
       "arguments": {},
       "columnCustomDisplayInfos": {},
       "data": [
        [
         null,
         "Finance",
         60000,
         null,
         15000.0,
         "Oldie"
        ],
        [
         null,
         "Finance",
         60000,
         null,
         15000.0,
         "Oldie"
        ]
       ],
       "datasetInfos": [],
       "dbfsResultPath": null,
       "isJsonSchema": true,
       "metadata": {},
       "overflow": false,
       "plotOptions": {
        "customPlotOptions": {},
        "displayType": "table",
        "pivotAggregation": null,
        "pivotColumns": null,
        "xColumns": null,
        "yColumns": null
       },
       "removedWidgets": [],
       "schema": [
        {
         "metadata": "{}",
         "name": "NAME",
         "type": "\"double\""
        },
        {
         "metadata": "{}",
         "name": "DEPARTMENT",
         "type": "\"string\""
        },
        {
         "metadata": "{}",
         "name": "SALARY",
         "type": "\"integer\""
        },
        {
         "metadata": "{}",
         "name": "Age",
         "type": "\"integer\""
        },
        {
         "metadata": "{}",
         "name": "Bonus",
         "type": "\"double\""
        },
        {
         "metadata": "{}",
         "name": "YOUNG or OLD",
         "type": "\"string\""
        }
       ],
       "type": "table"
      }
     },
     "output_type": "display_data"
    },
    {
     "output_type": "display_data",
     "data": {
      "text/html": [
       "<style scoped>\n",
       "  .table-result-container {\n",
       "    max-height: 300px;\n",
       "    overflow: auto;\n",
       "  }\n",
       "  table, th, td {\n",
       "    border: 1px solid black;\n",
       "    border-collapse: collapse;\n",
       "  }\n",
       "  th, td {\n",
       "    padding: 5px;\n",
       "  }\n",
       "  th {\n",
       "    text-align: left;\n",
       "  }\n",
       "</style><div class='table-result-container'><table class='table-result'><thead style='background-color: white'><tr><th>NAME</th><th>DEPARTMENT</th><th>SALARY</th><th>Age</th><th>Bonus</th><th>YOUNG or OLD</th></tr></thead><tbody><tr><td>null</td><td>HR</td><td>50000</td><td>28</td><td>12500.0</td><td>Young Blood</td></tr><tr><td>null</td><td>Finance</td><td>60000</td><td>null</td><td>15000.0</td><td>Oldie</td></tr><tr><td>null</td><td>null</td><td>70000</td><td>35</td><td>17500.0</td><td>Oldie</td></tr><tr><td>null</td><td>Finance</td><td>60000</td><td>null</td><td>15000.0</td><td>Oldie</td></tr></tbody></table></div>"
      ]
     },
     "metadata": {
      "application/vnd.databricks.v1+output": {
       "addedWidgets": {},
       "aggData": [],
       "aggError": "",
       "aggOverflow": false,
       "aggSchema": [],
       "aggSeriesLimitReached": false,
       "aggType": "",
       "arguments": {},
       "columnCustomDisplayInfos": {},
       "data": [
        [
         null,
         "HR",
         50000,
         28,
         12500.0,
         "Young Blood"
        ],
        [
         null,
         "Finance",
         60000,
         null,
         15000.0,
         "Oldie"
        ],
        [
         null,
         null,
         70000,
         35,
         17500.0,
         "Oldie"
        ],
        [
         null,
         "Finance",
         60000,
         null,
         15000.0,
         "Oldie"
        ]
       ],
       "datasetInfos": [],
       "dbfsResultPath": null,
       "isJsonSchema": true,
       "metadata": {},
       "overflow": false,
       "plotOptions": {
        "customPlotOptions": {},
        "displayType": "table",
        "pivotAggregation": null,
        "pivotColumns": null,
        "xColumns": null,
        "yColumns": null
       },
       "removedWidgets": [],
       "schema": [
        {
         "metadata": "{}",
         "name": "NAME",
         "type": "\"double\""
        },
        {
         "metadata": "{}",
         "name": "DEPARTMENT",
         "type": "\"string\""
        },
        {
         "metadata": "{}",
         "name": "SALARY",
         "type": "\"integer\""
        },
        {
         "metadata": "{}",
         "name": "Age",
         "type": "\"integer\""
        },
        {
         "metadata": "{}",
         "name": "Bonus",
         "type": "\"double\""
        },
        {
         "metadata": "{}",
         "name": "YOUNG or OLD",
         "type": "\"string\""
        }
       ],
       "type": "table"
      }
     },
     "output_type": "display_data"
    }
   ],
   "source": [
    "f5=df.filter(df['Age'].isNull())\n",
    "f5=df.filter(col('Age').isNull())\n",
    "f5.display()\n",
    "\n",
    "f5=df.filter(df['Salary'].isNotNull())\n",
    "f6=df.filter(col(\"Salary\").isNotNull())\n",
    "f6.display()\n"
   ]
  },
  {
   "cell_type": "markdown",
   "metadata": {
    "application/vnd.databricks.v1+cell": {
     "cellMetadata": {
      "byteLimit": 2048000,
      "rowLimit": 10000
     },
     "inputWidgets": {},
     "nuid": "0f66ed28-3ff6-4654-b62f-377fde97f14f",
     "showTitle": false,
     "tableResultSettingsMap": {},
     "title": ""
    }
   },
   "source": [
    "##### 4.3 like()\n",
    "It is similar to SQL LIKE operator that is used to match based on wildcard characters\n",
    "\n",
    "[ (%) Percentage, (%) Underscore] to filter the rows."
   ]
  },
  {
   "cell_type": "code",
   "execution_count": 0,
   "metadata": {
    "application/vnd.databricks.v1+cell": {
     "cellMetadata": {
      "byteLimit": 2048000,
      "rowLimit": 10000
     },
     "inputWidgets": {},
     "nuid": "ef7e8a9c-ba92-4518-8886-de0eeb91f961",
     "showTitle": false,
     "tableResultSettingsMap": {},
     "title": ""
    }
   },
   "outputs": [
    {
     "output_type": "display_data",
     "data": {
      "text/html": [
       "<style scoped>\n",
       "  .table-result-container {\n",
       "    max-height: 300px;\n",
       "    overflow: auto;\n",
       "  }\n",
       "  table, th, td {\n",
       "    border: 1px solid black;\n",
       "    border-collapse: collapse;\n",
       "  }\n",
       "  th, td {\n",
       "    padding: 5px;\n",
       "  }\n",
       "  th {\n",
       "    text-align: left;\n",
       "  }\n",
       "</style><div class='table-result-container'><table class='table-result'><thead style='background-color: white'><tr><th>NAME</th><th>DEPARTMENT</th><th>SALARY</th><th>Age</th><th>Bonus</th><th>YOUNG or OLD</th></tr></thead><tbody></tbody></table></div>"
      ]
     },
     "metadata": {
      "application/vnd.databricks.v1+output": {
       "addedWidgets": {},
       "aggData": [],
       "aggError": "",
       "aggOverflow": false,
       "aggSchema": [],
       "aggSeriesLimitReached": false,
       "aggType": "",
       "arguments": {},
       "columnCustomDisplayInfos": {},
       "data": [],
       "datasetInfos": [],
       "dbfsResultPath": null,
       "isJsonSchema": true,
       "metadata": {},
       "overflow": false,
       "plotOptions": {
        "customPlotOptions": {},
        "displayType": "table",
        "pivotAggregation": null,
        "pivotColumns": null,
        "xColumns": null,
        "yColumns": null
       },
       "removedWidgets": [],
       "schema": [
        {
         "metadata": "{}",
         "name": "NAME",
         "type": "\"double\""
        },
        {
         "metadata": "{}",
         "name": "DEPARTMENT",
         "type": "\"string\""
        },
        {
         "metadata": "{}",
         "name": "SALARY",
         "type": "\"integer\""
        },
        {
         "metadata": "{}",
         "name": "Age",
         "type": "\"integer\""
        },
        {
         "metadata": "{}",
         "name": "Bonus",
         "type": "\"double\""
        },
        {
         "metadata": "{}",
         "name": "YOUNG or OLD",
         "type": "\"string\""
        }
       ],
       "type": "table"
      }
     },
     "output_type": "display_data"
    }
   ],
   "source": [
    "f7=df.filter( df[\"Department\"].like(\"%R\") )\n",
    "f7=df.filter( col(\"Department\").like(\"%R\") )\n",
    "f3.display()"
   ]
  },
  {
   "cell_type": "markdown",
   "metadata": {
    "application/vnd.databricks.v1+cell": {
     "cellMetadata": {
      "byteLimit": 2048000,
      "rowLimit": 10000
     },
     "inputWidgets": {},
     "nuid": "fe21bf8b-d990-4a59-ad88-6e42fb8a5bc9",
     "showTitle": false,
     "tableResultSettingsMap": {},
     "title": ""
    }
   },
   "source": []
  },
  {
   "cell_type": "code",
   "execution_count": 0,
   "metadata": {
    "application/vnd.databricks.v1+cell": {
     "cellMetadata": {
      "byteLimit": 2048000,
      "rowLimit": 10000
     },
     "inputWidgets": {},
     "nuid": "5e8fe9e7-0dad-439e-a333-72ce4303af5a",
     "showTitle": false,
     "tableResultSettingsMap": {},
     "title": ""
    }
   },
   "outputs": [
    {
     "output_type": "display_data",
     "data": {
      "text/html": [
       "<style scoped>\n",
       "  .table-result-container {\n",
       "    max-height: 300px;\n",
       "    overflow: auto;\n",
       "  }\n",
       "  table, th, td {\n",
       "    border: 1px solid black;\n",
       "    border-collapse: collapse;\n",
       "  }\n",
       "  th, td {\n",
       "    padding: 5px;\n",
       "  }\n",
       "  th {\n",
       "    text-align: left;\n",
       "  }\n",
       "</style><div class='table-result-container'><table class='table-result'><thead style='background-color: white'><tr><th>summary</th><th>NAME</th><th>DEPARTMENT</th><th>SALARY</th><th>Age</th><th>Bonus</th><th>YOUNG or OLD</th></tr></thead><tbody><tr><td>count</td><td>0</td><td>5</td><td>4</td><td>4</td><td>4</td><td>6</td></tr><tr><td>mean</td><td>null</td><td>null</td><td>60000.0</td><td>36.25</td><td>15000.0</td><td>null</td></tr><tr><td>stddev</td><td>null</td><td>null</td><td>8164.96580927726</td><td>6.184658438426491</td><td>2041.241452319315</td><td>null</td></tr><tr><td>min</td><td>null</td><td>Finance</td><td>50000</td><td>28</td><td>12500.0</td><td>Oldie</td></tr><tr><td>max</td><td>null</td><td>HR</td><td>70000</td><td>41</td><td>17500.0</td><td>Young Blood</td></tr></tbody></table></div>"
      ]
     },
     "metadata": {
      "application/vnd.databricks.v1+output": {
       "addedWidgets": {},
       "aggData": [],
       "aggError": "",
       "aggOverflow": false,
       "aggSchema": [],
       "aggSeriesLimitReached": false,
       "aggType": "",
       "arguments": {},
       "columnCustomDisplayInfos": {},
       "data": [
        [
         "count",
         "0",
         "5",
         "4",
         "4",
         "4",
         "6"
        ],
        [
         "mean",
         null,
         null,
         "60000.0",
         "36.25",
         "15000.0",
         null
        ],
        [
         "stddev",
         null,
         null,
         "8164.96580927726",
         "6.184658438426491",
         "2041.241452319315",
         null
        ],
        [
         "min",
         null,
         "Finance",
         "50000",
         "28",
         "12500.0",
         "Oldie"
        ],
        [
         "max",
         null,
         "HR",
         "70000",
         "41",
         "17500.0",
         "Young Blood"
        ]
       ],
       "datasetInfos": [],
       "dbfsResultPath": null,
       "isJsonSchema": true,
       "metadata": {},
       "overflow": false,
       "plotOptions": {
        "customPlotOptions": {},
        "displayType": "table",
        "pivotAggregation": null,
        "pivotColumns": null,
        "xColumns": null,
        "yColumns": null
       },
       "removedWidgets": [],
       "schema": [
        {
         "metadata": "{}",
         "name": "summary",
         "type": "\"string\""
        },
        {
         "metadata": "{}",
         "name": "NAME",
         "type": "\"string\""
        },
        {
         "metadata": "{}",
         "name": "DEPARTMENT",
         "type": "\"string\""
        },
        {
         "metadata": "{}",
         "name": "SALARY",
         "type": "\"string\""
        },
        {
         "metadata": "{}",
         "name": "Age",
         "type": "\"string\""
        },
        {
         "metadata": "{}",
         "name": "Bonus",
         "type": "\"string\""
        },
        {
         "metadata": "{}",
         "name": "YOUNG or OLD",
         "type": "\"string\""
        }
       ],
       "type": "table"
      }
     },
     "output_type": "display_data"
    }
   ],
   "source": [
    "df.describe().display()"
   ]
  },
  {
   "cell_type": "markdown",
   "metadata": {
    "application/vnd.databricks.v1+cell": {
     "cellMetadata": {
      "byteLimit": 2048000,
      "rowLimit": 10000
     },
     "inputWidgets": {},
     "nuid": "13959a20-cacc-40d4-aa7b-312c1fb5e062",
     "showTitle": false,
     "tableResultSettingsMap": {},
     "title": ""
    }
   },
   "source": [
    "##Join - [ Combine multiple DataFrames.]\n",
    "- It is used to combine two or DataFrames based on a common key.\n",
    "- It is a crucial operation in data processing and analysis, allowing us to merge data from different sources and create more meaningful insights."
   ]
  },
  {
   "cell_type": "markdown",
   "metadata": {
    "application/vnd.databricks.v1+cell": {
     "cellMetadata": {
      "byteLimit": 2048000,
      "rowLimit": 10000
     },
     "inputWidgets": {},
     "nuid": "91902746-66aa-411c-b673-a29a34493007",
     "showTitle": false,
     "tableResultSettingsMap": {},
     "title": ""
    }
   },
   "source": [
    "###Syntax -\n",
    "`table1.join(table2, on=table1.id == table2.id, how=Join_Method)`\n",
    "\n",
    "- table1: Left side of the table here table1 is on Left Side\n",
    "- table 2: Right side of the table here table2 is on the right side \n",
    "- on: A Common Key, here we will connect 2 keys of different tables with same name \n",
    "- how: Method by which we want to join hee default inner. Must be one of inner, cross, outer,full, full_outer, left, left_outer, right, right_outer,left_semi, and left_anti."
   ]
  },
  {
   "cell_type": "markdown",
   "metadata": {
    "application/vnd.databricks.v1+cell": {
     "cellMetadata": {
      "byteLimit": 2048000,
      "rowLimit": 10000
     },
     "inputWidgets": {},
     "nuid": "3e9311e7-dabe-4892-baa7-05fa50e376cb",
     "showTitle": false,
     "tableResultSettingsMap": {},
     "title": ""
    }
   },
   "source": [
    "### Join Types -"
   ]
  },
  {
   "cell_type": "markdown",
   "metadata": {
    "application/vnd.databricks.v1+cell": {
     "cellMetadata": {
      "byteLimit": 2048000,
      "rowLimit": 10000
     },
     "inputWidgets": {},
     "nuid": "94c73f91-83c5-45e6-8891-4e8bc6da97e3",
     "showTitle": false,
     "tableResultSettingsMap": {},
     "title": ""
    }
   },
   "source": [
    "#### Right Outer Join\n",
    "- Similar to the left outer join, but returns all rows from the right DataFrame.\n",
    "- Syntax: \n",
    "  - `df1.join(df2, on=\"key\", how=\"right_outer\")` \n",
    "  - `df1.join(df2, on=\"key\", how=\"right\")`"
   ]
  },
  {
   "cell_type": "markdown",
   "metadata": {
    "application/vnd.databricks.v1+cell": {
     "cellMetadata": {
      "byteLimit": 2048000,
      "rowLimit": 10000
     },
     "inputWidgets": {},
     "nuid": "f3699e4b-1463-487e-8cc2-2c7c979224f1",
     "showTitle": false,
     "tableResultSettingsMap": {},
     "title": ""
    }
   },
   "source": [
    "####Full Outer Join\n",
    "- Returns all rows from both DataFrames, with matching rows from both sides where available.\n",
    "- If there is no match, the result is null on the side of the DataFrame without a match.\n",
    "- Syntax: \n",
    "  - `df1.join(df2, on=\"key\", how=\"outer\") `\n",
    "  - `df1.join(df2, on=\"key\", how=\"full\")`"
   ]
  },
  {
   "cell_type": "markdown",
   "metadata": {
    "application/vnd.databricks.v1+cell": {
     "cellMetadata": {
      "byteLimit": 2048000,
      "rowLimit": 10000
     },
     "inputWidgets": {},
     "nuid": "72134f38-d76c-4f8b-827d-b4765a9dee37",
     "showTitle": false,
     "tableResultSettingsMap": {},
     "title": ""
    }
   },
   "source": [
    "#### Inner Join\n",
    "- Combines rows from both DataFrames that match the join condition.\n",
    "- combines two DataFrames based on the key (common column) provided and results in rows where there is a matching found. Rows from both DataFrames are dropped with a non-matching key.\n",
    "- Syntax: \n",
    "   - `df1.join(df2, on=\"key\", how=\"inner\")`"
   ]
  },
  {
   "cell_type": "markdown",
   "metadata": {
    "application/vnd.databricks.v1+cell": {
     "cellMetadata": {
      "byteLimit": 2048000,
      "rowLimit": 10000
     },
     "inputWidgets": {},
     "nuid": "a2fbc369-20f8-4f12-91f5-14c0f71c0689",
     "showTitle": false,
     "tableResultSettingsMap": {},
     "title": ""
    }
   },
   "source": [
    "#### Cross Join\n",
    "- A cross join returns the Cartesian product of rows from both DataFrames, which results in a DataFrame with every possible combination of rows from the input DataFrames.\n",
    "\n",
    "\n",
    "- Combines each row of the first DataFrame with every row of the second DataFrame.\n",
    "- Often used for exhaustive combinations.\n",
    "- Syntax: \n",
    "  \n",
    "  - `df1.crossJoin(df2)`"
   ]
  },
  {
   "cell_type": "markdown",
   "metadata": {
    "application/vnd.databricks.v1+cell": {
     "cellMetadata": {
      "byteLimit": 2048000,
      "rowLimit": 10000
     },
     "inputWidgets": {},
     "nuid": "eae5b1f7-047f-43eb-9b2b-d8687676e658",
     "showTitle": false,
     "tableResultSettingsMap": {},
     "title": ""
    }
   },
   "source": [
    "## Sort - [ Arrange rows based on one or more columns ]\n",
    "- It is used to arrange the rows in a DataFrame in ascending or descending order based on one or more column values.\n",
    "\n",
    "- By default, the sort() function sorts data in ascending order, but we can specify descending order as well."
   ]
  },
  {
   "cell_type": "markdown",
   "metadata": {
    "application/vnd.databricks.v1+cell": {
     "cellMetadata": {
      "byteLimit": 2048000,
      "rowLimit": 10000
     },
     "inputWidgets": {},
     "nuid": "37d52e26-b615-4932-8e46-10b535144f7d",
     "showTitle": false,
     "tableResultSettingsMap": {},
     "title": ""
    }
   },
   "source": [
    "###Syntax\n",
    "`df.sort(col(\"Column1\"),col(\"column2\").desc())`"
   ]
  },
  {
   "cell_type": "markdown",
   "metadata": {
    "application/vnd.databricks.v1+cell": {
     "cellMetadata": {
      "byteLimit": 2048000,
      "rowLimit": 10000
     },
     "inputWidgets": {},
     "nuid": "d2e63b16-b97b-4483-943d-a652538a7f25",
     "showTitle": false,
     "tableResultSettingsMap": {},
     "title": ""
    }
   },
   "source": [
    "###Sorting by Single Column\n"
   ]
  },
  {
   "cell_type": "markdown",
   "metadata": {
    "application/vnd.databricks.v1+cell": {
     "cellMetadata": {
      "byteLimit": 2048000,
      "rowLimit": 10000
     },
     "inputWidgets": {},
     "nuid": "058b375a-2428-4cd9-aa8b-bf03caba5033",
     "showTitle": false,
     "tableResultSettingsMap": {},
     "title": ""
    }
   },
   "source": [
    "#### Ascending Order"
   ]
  },
  {
   "cell_type": "code",
   "execution_count": 0,
   "metadata": {
    "application/vnd.databricks.v1+cell": {
     "cellMetadata": {
      "byteLimit": 2048000,
      "rowLimit": 10000
     },
     "inputWidgets": {},
     "nuid": "c8b8150c-90ab-474a-ae4f-5abda4a29a65",
     "showTitle": false,
     "tableResultSettingsMap": {},
     "title": ""
    }
   },
   "outputs": [
    {
     "output_type": "display_data",
     "data": {
      "text/html": [
       "<style scoped>\n",
       "  .table-result-container {\n",
       "    max-height: 300px;\n",
       "    overflow: auto;\n",
       "  }\n",
       "  table, th, td {\n",
       "    border: 1px solid black;\n",
       "    border-collapse: collapse;\n",
       "  }\n",
       "  th, td {\n",
       "    padding: 5px;\n",
       "  }\n",
       "  th {\n",
       "    text-align: left;\n",
       "  }\n",
       "</style><div class='table-result-container'><table class='table-result'><thead style='background-color: white'><tr><th>NAME</th><th>DEPARTMENT</th><th>SALARY</th><th>Age</th><th>Bonus</th><th>YOUNG or OLD</th></tr></thead><tbody><tr><td>null</td><td>null</td><td>70000</td><td>35</td><td>17500.0</td><td>Oldie</td></tr><tr><td>null</td><td>Finance</td><td>60000</td><td>null</td><td>15000.0</td><td>Oldie</td></tr><tr><td>null</td><td>Finance</td><td>60000</td><td>null</td><td>15000.0</td><td>Oldie</td></tr><tr><td>null</td><td>HR</td><td>50000</td><td>28</td><td>12500.0</td><td>Young Blood</td></tr><tr><td>null</td><td>HR</td><td>null</td><td>41</td><td>null</td><td>Oldie</td></tr><tr><td>null</td><td>HR</td><td>null</td><td>41</td><td>null</td><td>Oldie</td></tr></tbody></table></div>"
      ]
     },
     "metadata": {
      "application/vnd.databricks.v1+output": {
       "addedWidgets": {},
       "aggData": [],
       "aggError": "",
       "aggOverflow": false,
       "aggSchema": [],
       "aggSeriesLimitReached": false,
       "aggType": "",
       "arguments": {},
       "columnCustomDisplayInfos": {},
       "data": [
        [
         null,
         null,
         70000,
         35,
         17500.0,
         "Oldie"
        ],
        [
         null,
         "Finance",
         60000,
         null,
         15000.0,
         "Oldie"
        ],
        [
         null,
         "Finance",
         60000,
         null,
         15000.0,
         "Oldie"
        ],
        [
         null,
         "HR",
         50000,
         28,
         12500.0,
         "Young Blood"
        ],
        [
         null,
         "HR",
         null,
         41,
         null,
         "Oldie"
        ],
        [
         null,
         "HR",
         null,
         41,
         null,
         "Oldie"
        ]
       ],
       "datasetInfos": [],
       "dbfsResultPath": null,
       "isJsonSchema": true,
       "metadata": {},
       "overflow": false,
       "plotOptions": {
        "customPlotOptions": {},
        "displayType": "table",
        "pivotAggregation": null,
        "pivotColumns": null,
        "xColumns": null,
        "yColumns": null
       },
       "removedWidgets": [],
       "schema": [
        {
         "metadata": "{}",
         "name": "NAME",
         "type": "\"double\""
        },
        {
         "metadata": "{}",
         "name": "DEPARTMENT",
         "type": "\"string\""
        },
        {
         "metadata": "{}",
         "name": "SALARY",
         "type": "\"integer\""
        },
        {
         "metadata": "{}",
         "name": "Age",
         "type": "\"integer\""
        },
        {
         "metadata": "{}",
         "name": "Bonus",
         "type": "\"double\""
        },
        {
         "metadata": "{}",
         "name": "YOUNG or OLD",
         "type": "\"string\""
        }
       ],
       "type": "table"
      }
     },
     "output_type": "display_data"
    }
   ],
   "source": [
    "df_sorted = df.sort(\"Department\")\n",
    "df_sorted.display()"
   ]
  },
  {
   "cell_type": "markdown",
   "metadata": {
    "application/vnd.databricks.v1+cell": {
     "cellMetadata": {
      "byteLimit": 2048000,
      "rowLimit": 10000
     },
     "inputWidgets": {},
     "nuid": "d9dc1f45-f02e-490a-8351-ff2ef1ecb701",
     "showTitle": false,
     "tableResultSettingsMap": {},
     "title": ""
    }
   },
   "source": [
    "> it sorts the df DataFrame in ascending order based on the Weight column."
   ]
  },
  {
   "cell_type": "markdown",
   "metadata": {
    "application/vnd.databricks.v1+cell": {
     "cellMetadata": {
      "byteLimit": 2048000,
      "rowLimit": 10000
     },
     "inputWidgets": {},
     "nuid": "c9f1c829-285a-46de-b579-2231574a3fe3",
     "showTitle": false,
     "tableResultSettingsMap": {},
     "title": ""
    }
   },
   "source": [
    "####Descending Order"
   ]
  },
  {
   "cell_type": "code",
   "execution_count": 0,
   "metadata": {
    "application/vnd.databricks.v1+cell": {
     "cellMetadata": {
      "byteLimit": 2048000,
      "rowLimit": 10000
     },
     "inputWidgets": {},
     "nuid": "de446663-28f7-4cac-abac-79dbf5c4678d",
     "showTitle": false,
     "tableResultSettingsMap": {},
     "title": ""
    }
   },
   "outputs": [
    {
     "output_type": "display_data",
     "data": {
      "text/html": [
       "<style scoped>\n",
       "  .table-result-container {\n",
       "    max-height: 300px;\n",
       "    overflow: auto;\n",
       "  }\n",
       "  table, th, td {\n",
       "    border: 1px solid black;\n",
       "    border-collapse: collapse;\n",
       "  }\n",
       "  th, td {\n",
       "    padding: 5px;\n",
       "  }\n",
       "  th {\n",
       "    text-align: left;\n",
       "  }\n",
       "</style><div class='table-result-container'><table class='table-result'><thead style='background-color: white'><tr><th>NAME</th><th>DEPARTMENT</th><th>SALARY</th><th>Age</th><th>Bonus</th><th>YOUNG or OLD</th></tr></thead><tbody><tr><td>null</td><td>HR</td><td>null</td><td>41</td><td>null</td><td>Oldie</td></tr><tr><td>null</td><td>HR</td><td>null</td><td>41</td><td>null</td><td>Oldie</td></tr><tr><td>null</td><td>null</td><td>70000</td><td>35</td><td>17500.0</td><td>Oldie</td></tr><tr><td>null</td><td>HR</td><td>50000</td><td>28</td><td>12500.0</td><td>Young Blood</td></tr><tr><td>null</td><td>Finance</td><td>60000</td><td>null</td><td>15000.0</td><td>Oldie</td></tr><tr><td>null</td><td>Finance</td><td>60000</td><td>null</td><td>15000.0</td><td>Oldie</td></tr></tbody></table></div>"
      ]
     },
     "metadata": {
      "application/vnd.databricks.v1+output": {
       "addedWidgets": {},
       "aggData": [],
       "aggError": "",
       "aggOverflow": false,
       "aggSchema": [],
       "aggSeriesLimitReached": false,
       "aggType": "",
       "arguments": {},
       "columnCustomDisplayInfos": {},
       "data": [
        [
         null,
         "HR",
         null,
         41,
         null,
         "Oldie"
        ],
        [
         null,
         "HR",
         null,
         41,
         null,
         "Oldie"
        ],
        [
         null,
         null,
         70000,
         35,
         17500.0,
         "Oldie"
        ],
        [
         null,
         "HR",
         50000,
         28,
         12500.0,
         "Young Blood"
        ],
        [
         null,
         "Finance",
         60000,
         null,
         15000.0,
         "Oldie"
        ],
        [
         null,
         "Finance",
         60000,
         null,
         15000.0,
         "Oldie"
        ]
       ],
       "datasetInfos": [],
       "dbfsResultPath": null,
       "isJsonSchema": true,
       "metadata": {},
       "overflow": false,
       "plotOptions": {
        "customPlotOptions": {},
        "displayType": "table",
        "pivotAggregation": null,
        "pivotColumns": null,
        "xColumns": null,
        "yColumns": null
       },
       "removedWidgets": [],
       "schema": [
        {
         "metadata": "{}",
         "name": "NAME",
         "type": "\"double\""
        },
        {
         "metadata": "{}",
         "name": "DEPARTMENT",
         "type": "\"string\""
        },
        {
         "metadata": "{}",
         "name": "SALARY",
         "type": "\"integer\""
        },
        {
         "metadata": "{}",
         "name": "Age",
         "type": "\"integer\""
        },
        {
         "metadata": "{}",
         "name": "Bonus",
         "type": "\"double\""
        },
        {
         "metadata": "{}",
         "name": "YOUNG or OLD",
         "type": "\"string\""
        }
       ],
       "type": "table"
      }
     },
     "output_type": "display_data"
    }
   ],
   "source": [
    "from pyspark.sql.functions import col\n",
    "\n",
    "df_sorted_desc = df.sort(col(\"Age\").desc())\n",
    "df_sorted_desc.display()"
   ]
  },
  {
   "cell_type": "markdown",
   "metadata": {
    "application/vnd.databricks.v1+cell": {
     "cellMetadata": {
      "byteLimit": 2048000,
      "rowLimit": 10000
     },
     "inputWidgets": {},
     "nuid": "3f7864f0-1864-4305-acf2-7ac8887295c0",
     "showTitle": false,
     "tableResultSettingsMap": {},
     "title": ""
    }
   },
   "source": [
    "> It sorts the df DataFrame in descending order based on the Weight column."
   ]
  },
  {
   "cell_type": "markdown",
   "metadata": {
    "application/vnd.databricks.v1+cell": {
     "cellMetadata": {
      "byteLimit": 2048000,
      "rowLimit": 10000
     },
     "inputWidgets": {},
     "nuid": "e88fad51-ef64-40a6-b281-4e8455245a4e",
     "showTitle": false,
     "tableResultSettingsMap": {},
     "title": ""
    }
   },
   "source": [
    "> First, It will sort the df DataFrame first by the Weight column in descending order\n",
    "\n",
    "> Then, by the Length column in ascending order for rows with the same 'Weight'."
   ]
  },
  {
   "cell_type": "markdown",
   "metadata": {
    "application/vnd.databricks.v1+cell": {
     "cellMetadata": {
      "byteLimit": 2048000,
      "rowLimit": 10000
     },
     "inputWidgets": {},
     "nuid": "f33ac684-9b98-4dfb-9284-0db99a6c9530",
     "showTitle": false,
     "tableResultSettingsMap": {},
     "title": ""
    }
   },
   "source": [
    "##  Group By - [ Data Aggregation ] \n",
    "\n",
    "- DataFrame aggregation is a fundamental operation for summarizing and transforming large datasets by performing aggregate functions on groups of rows, rather than on individual rows, enabling us to aggregate various statistics,metrics and summarize data across different groups or the entire dataset\n",
    "\n",
    "- In Short, It groups rows that have the same values in specified columns into summary rows. "
   ]
  },
  {
   "cell_type": "code",
   "execution_count": 0,
   "metadata": {
    "application/vnd.databricks.v1+cell": {
     "cellMetadata": {
      "byteLimit": 2048000,
      "rowLimit": 10000
     },
     "inputWidgets": {},
     "nuid": "47bb9224-8edb-4aa6-9f72-85450385ce5c",
     "showTitle": false,
     "tableResultSettingsMap": {},
     "title": ""
    }
   },
   "outputs": [
    {
     "output_type": "display_data",
     "data": {
      "text/html": [
       "<style scoped>\n",
       "  .table-result-container {\n",
       "    max-height: 300px;\n",
       "    overflow: auto;\n",
       "  }\n",
       "  table, th, td {\n",
       "    border: 1px solid black;\n",
       "    border-collapse: collapse;\n",
       "  }\n",
       "  th, td {\n",
       "    padding: 5px;\n",
       "  }\n",
       "  th {\n",
       "    text-align: left;\n",
       "  }\n",
       "</style><div class='table-result-container'><table class='table-result'><thead style='background-color: white'><tr><th>Department</th><th>avg(Age)</th></tr></thead><tbody><tr><td>HR</td><td>36.666666666666664</td></tr><tr><td>Finance</td><td>null</td></tr><tr><td>null</td><td>35.0</td></tr></tbody></table></div>"
      ]
     },
     "metadata": {
      "application/vnd.databricks.v1+output": {
       "addedWidgets": {},
       "aggData": [],
       "aggError": "",
       "aggOverflow": false,
       "aggSchema": [],
       "aggSeriesLimitReached": false,
       "aggType": "",
       "arguments": {},
       "columnCustomDisplayInfos": {},
       "data": [
        [
         "HR",
         36.666666666666664
        ],
        [
         "Finance",
         null
        ],
        [
         null,
         35.0
        ]
       ],
       "datasetInfos": [],
       "dbfsResultPath": null,
       "isJsonSchema": true,
       "metadata": {},
       "overflow": false,
       "plotOptions": {
        "customPlotOptions": {},
        "displayType": "table",
        "pivotAggregation": null,
        "pivotColumns": null,
        "xColumns": null,
        "yColumns": null
       },
       "removedWidgets": [],
       "schema": [
        {
         "metadata": "{}",
         "name": "Department",
         "type": "\"string\""
        },
        {
         "metadata": "{}",
         "name": "avg(Age)",
         "type": "\"double\""
        }
       ],
       "type": "table"
      }
     },
     "output_type": "display_data"
    }
   ],
   "source": [
    "df.groupBy(\"Department\").agg(mean(\"Age\")).display()"
   ]
  },
  {
   "cell_type": "markdown",
   "metadata": {
    "application/vnd.databricks.v1+cell": {
     "cellMetadata": {
      "byteLimit": 2048000,
      "rowLimit": 10000
     },
     "inputWidgets": {},
     "nuid": "b18c390d-04df-4677-bdd9-c5b19c81e0dd",
     "showTitle": false,
     "tableResultSettingsMap": {},
     "title": ""
    }
   },
   "source": [
    "- **Grouping**: \n",
    "  - We  specify one or more columns in the **groupBy()** function to define the grouping criteria.\n",
    "\n",
    "  - Rows with identical values in the specified columns are grouped together into distinct groups.\n",
    "\n",
    "\n",
    "- **Aggregation**: \n",
    "  - After grouping the rows, you can apply aggregate functions such as COUNT, SUM, AVG, MIN, MAX, etc., to each group.\n",
    "\n",
    "  - These aggregate functions compute summary statistics for the rows within each group."
   ]
  },
  {
   "cell_type": "markdown",
   "metadata": {
    "application/vnd.databricks.v1+cell": {
     "cellMetadata": {
      "byteLimit": 2048000,
      "rowLimit": 10000
     },
     "inputWidgets": {},
     "nuid": "0e51e043-9d2f-43f5-9fdd-1f1b50c0e7dc",
     "showTitle": false,
     "tableResultSettingsMap": {},
     "title": ""
    }
   },
   "source": [
    "### Aggregate Functions"
   ]
  },
  {
   "cell_type": "markdown",
   "metadata": {
    "application/vnd.databricks.v1+cell": {
     "cellMetadata": {
      "byteLimit": 2048000,
      "rowLimit": 10000
     },
     "inputWidgets": {},
     "nuid": "240dfe35-578c-4e90-b91d-06110a5ea15f",
     "showTitle": false,
     "tableResultSettingsMap": {},
     "title": ""
    }
   },
   "source": [
    " > **count():** \n",
    " Counts the number of rows in each group.\n",
    "\n",
    "> **mean():**\t\n",
    " Calculates the arithmetic mean (average) of the values in each group.\n",
    "\n",
    "> **max():**\t\n",
    " Finds the maximum value in each group.\n",
    "\n",
    "> **min():**\n",
    " Finds the minimum value in each group.\n",
    "\n",
    "> **sum():**\tCalculate the sum of all the values in each group.\n",
    "\n",
    "> **avg():** Returns the average for values for each group.\n",
    "\n",
    "> **agg():**\n",
    "Using it groupBy().agg() function, we can calculate more than one aggregate at a time.\n",
    "\n"
   ]
  },
  {
   "cell_type": "markdown",
   "metadata": {
    "application/vnd.databricks.v1+cell": {
     "cellMetadata": {
      "byteLimit": 2048000,
      "rowLimit": 10000
     },
     "inputWidgets": {},
     "nuid": "60b8e96f-11e7-44e1-a5e7-e2e01d39843e",
     "showTitle": false,
     "tableResultSettingsMap": {},
     "title": ""
    }
   },
   "source": [
    "### Single Column: "
   ]
  },
  {
   "cell_type": "markdown",
   "metadata": {
    "application/vnd.databricks.v1+cell": {
     "cellMetadata": {
      "byteLimit": 2048000,
      "rowLimit": 10000
     },
     "inputWidgets": {},
     "nuid": "60197084-0fbc-44d7-a8dc-80a8ef73cbbc",
     "showTitle": false,
     "tableResultSettingsMap": {},
     "title": ""
    }
   },
   "source": [
    "#### Without Alias: "
   ]
  },
  {
   "cell_type": "code",
   "execution_count": 0,
   "metadata": {
    "application/vnd.databricks.v1+cell": {
     "cellMetadata": {
      "byteLimit": 2048000,
      "rowLimit": 10000
     },
     "inputWidgets": {},
     "nuid": "7e3b1d10-2642-4d85-b5ec-12fa6168bfa4",
     "showTitle": false,
     "tableResultSettingsMap": {},
     "title": ""
    }
   },
   "outputs": [
    {
     "output_type": "display_data",
     "data": {
      "text/html": [
       "<style scoped>\n",
       "  .table-result-container {\n",
       "    max-height: 300px;\n",
       "    overflow: auto;\n",
       "  }\n",
       "  table, th, td {\n",
       "    border: 1px solid black;\n",
       "    border-collapse: collapse;\n",
       "  }\n",
       "  th, td {\n",
       "    padding: 5px;\n",
       "  }\n",
       "  th {\n",
       "    text-align: left;\n",
       "  }\n",
       "</style><div class='table-result-container'><table class='table-result'><thead style='background-color: white'><tr><th>Department</th><th>avg(Salary)</th></tr></thead><tbody><tr><td>HR</td><td>50000.0</td></tr><tr><td>Finance</td><td>60000.0</td></tr><tr><td>null</td><td>70000.0</td></tr></tbody></table></div>"
      ]
     },
     "metadata": {
      "application/vnd.databricks.v1+output": {
       "addedWidgets": {},
       "aggData": [],
       "aggError": "",
       "aggOverflow": false,
       "aggSchema": [],
       "aggSeriesLimitReached": false,
       "aggType": "",
       "arguments": {},
       "columnCustomDisplayInfos": {},
       "data": [
        [
         "HR",
         50000.0
        ],
        [
         "Finance",
         60000.0
        ],
        [
         null,
         70000.0
        ]
       ],
       "datasetInfos": [],
       "dbfsResultPath": null,
       "isJsonSchema": true,
       "metadata": {},
       "overflow": false,
       "plotOptions": {
        "customPlotOptions": {},
        "displayType": "table",
        "pivotAggregation": null,
        "pivotColumns": null,
        "xColumns": null,
        "yColumns": null
       },
       "removedWidgets": [],
       "schema": [
        {
         "metadata": "{}",
         "name": "Department",
         "type": "\"string\""
        },
        {
         "metadata": "{}",
         "name": "avg(Salary)",
         "type": "\"double\""
        }
       ],
       "type": "table"
      }
     },
     "output_type": "display_data"
    }
   ],
   "source": [
    "df.groupBy('Department').agg(mean('Salary')).display()"
   ]
  },
  {
   "cell_type": "markdown",
   "metadata": {
    "application/vnd.databricks.v1+cell": {
     "cellMetadata": {
      "byteLimit": 2048000,
      "rowLimit": 10000
     },
     "inputWidgets": {},
     "nuid": "8a7c3e18-9007-4468-a76d-6c9d0af011e0",
     "showTitle": false,
     "tableResultSettingsMap": {},
     "title": ""
    }
   },
   "source": [
    "#### With Alias: "
   ]
  },
  {
   "cell_type": "code",
   "execution_count": 0,
   "metadata": {
    "application/vnd.databricks.v1+cell": {
     "cellMetadata": {
      "byteLimit": 2048000,
      "rowLimit": 10000
     },
     "inputWidgets": {},
     "nuid": "d49a4aba-42c7-4916-b2dd-fb7fc17e1eb5",
     "showTitle": false,
     "tableResultSettingsMap": {},
     "title": ""
    }
   },
   "outputs": [
    {
     "output_type": "display_data",
     "data": {
      "text/html": [
       "<style scoped>\n",
       "  .table-result-container {\n",
       "    max-height: 300px;\n",
       "    overflow: auto;\n",
       "  }\n",
       "  table, th, td {\n",
       "    border: 1px solid black;\n",
       "    border-collapse: collapse;\n",
       "  }\n",
       "  th, td {\n",
       "    padding: 5px;\n",
       "  }\n",
       "  th {\n",
       "    text-align: left;\n",
       "  }\n",
       "</style><div class='table-result-container'><table class='table-result'><thead style='background-color: white'><tr><th>Department</th><th>Maximun Age in Each Department</th></tr></thead><tbody><tr><td>HR</td><td>41</td></tr><tr><td>Finance</td><td>null</td></tr><tr><td>null</td><td>35</td></tr></tbody></table></div>"
      ]
     },
     "metadata": {
      "application/vnd.databricks.v1+output": {
       "addedWidgets": {},
       "aggData": [],
       "aggError": "",
       "aggOverflow": false,
       "aggSchema": [],
       "aggSeriesLimitReached": false,
       "aggType": "",
       "arguments": {},
       "columnCustomDisplayInfos": {},
       "data": [
        [
         "HR",
         41
        ],
        [
         "Finance",
         null
        ],
        [
         null,
         35
        ]
       ],
       "datasetInfos": [],
       "dbfsResultPath": null,
       "isJsonSchema": true,
       "metadata": {},
       "overflow": false,
       "plotOptions": {
        "customPlotOptions": {},
        "displayType": "table",
        "pivotAggregation": null,
        "pivotColumns": null,
        "xColumns": null,
        "yColumns": null
       },
       "removedWidgets": [],
       "schema": [
        {
         "metadata": "{}",
         "name": "Department",
         "type": "\"string\""
        },
        {
         "metadata": "{}",
         "name": "Maximun Age in Each Department",
         "type": "\"integer\""
        }
       ],
       "type": "table"
      }
     },
     "output_type": "display_data"
    }
   ],
   "source": [
    "df.groupBy('Department').agg(avg('Age').alias(\"Maximun Age in Each Department\")).display()"
   ]
  },
  {
   "cell_type": "markdown",
   "metadata": {
    "application/vnd.databricks.v1+cell": {
     "cellMetadata": {
      "byteLimit": 2048000,
      "rowLimit": 10000
     },
     "inputWidgets": {},
     "nuid": "6a193059-b58b-42ae-8890-6c9aaab22619",
     "showTitle": false,
     "tableResultSettingsMap": {},
     "title": ""
    }
   },
   "source": [
    "### Multiple Column: "
   ]
  },
  {
   "cell_type": "markdown",
   "metadata": {
    "application/vnd.databricks.v1+cell": {
     "cellMetadata": {
      "byteLimit": 2048000,
      "rowLimit": 10000
     },
     "inputWidgets": {},
     "nuid": "9a668958-b7d9-45cd-9f60-3653596fa8cb",
     "showTitle": false,
     "tableResultSettingsMap": {},
     "title": ""
    }
   },
   "source": [
    "#### Without Alias: "
   ]
  },
  {
   "cell_type": "code",
   "execution_count": 0,
   "metadata": {
    "application/vnd.databricks.v1+cell": {
     "cellMetadata": {
      "byteLimit": 2048000,
      "rowLimit": 10000
     },
     "inputWidgets": {},
     "nuid": "2b78cb44-1199-494f-937b-2150296a743b",
     "showTitle": false,
     "tableResultSettingsMap": {},
     "title": ""
    }
   },
   "outputs": [
    {
     "output_type": "display_data",
     "data": {
      "text/html": [
       "<style scoped>\n",
       "  .table-result-container {\n",
       "    max-height: 300px;\n",
       "    overflow: auto;\n",
       "  }\n",
       "  table, th, td {\n",
       "    border: 1px solid black;\n",
       "    border-collapse: collapse;\n",
       "  }\n",
       "  th, td {\n",
       "    padding: 5px;\n",
       "  }\n",
       "  th {\n",
       "    text-align: left;\n",
       "  }\n",
       "</style><div class='table-result-container'><table class='table-result'><thead style='background-color: white'><tr><th>Department</th><th>avg(Age)</th><th>avg(Salary)</th></tr></thead><tbody><tr><td>HR</td><td>36.666666666666664</td><td>50000.0</td></tr><tr><td>Finance</td><td>null</td><td>60000.0</td></tr><tr><td>null</td><td>35.0</td><td>70000.0</td></tr></tbody></table></div>"
      ]
     },
     "metadata": {
      "application/vnd.databricks.v1+output": {
       "addedWidgets": {},
       "aggData": [],
       "aggError": "",
       "aggOverflow": false,
       "aggSchema": [],
       "aggSeriesLimitReached": false,
       "aggType": "",
       "arguments": {},
       "columnCustomDisplayInfos": {},
       "data": [
        [
         "HR",
         36.666666666666664,
         50000.0
        ],
        [
         "Finance",
         null,
         60000.0
        ],
        [
         null,
         35.0,
         70000.0
        ]
       ],
       "datasetInfos": [],
       "dbfsResultPath": null,
       "isJsonSchema": true,
       "metadata": {},
       "overflow": false,
       "plotOptions": {
        "customPlotOptions": {},
        "displayType": "table",
        "pivotAggregation": null,
        "pivotColumns": null,
        "xColumns": null,
        "yColumns": null
       },
       "removedWidgets": [],
       "schema": [
        {
         "metadata": "{}",
         "name": "Department",
         "type": "\"string\""
        },
        {
         "metadata": "{}",
         "name": "avg(Age)",
         "type": "\"double\""
        },
        {
         "metadata": "{}",
         "name": "avg(Salary)",
         "type": "\"double\""
        }
       ],
       "type": "table"
      }
     },
     "output_type": "display_data"
    }
   ],
   "source": [
    "df.groupBy('Department').agg(mean('Age'),mean('Salary')).display()"
   ]
  },
  {
   "cell_type": "code",
   "execution_count": 0,
   "metadata": {
    "application/vnd.databricks.v1+cell": {
     "cellMetadata": {
      "byteLimit": 2048000,
      "rowLimit": 10000
     },
     "inputWidgets": {},
     "nuid": "4e91ad11-6589-453b-b571-410aef0b1cb9",
     "showTitle": false,
     "tableResultSettingsMap": {},
     "title": ""
    }
   },
   "outputs": [
    {
     "output_type": "display_data",
     "data": {
      "text/html": [
       "<style scoped>\n",
       "  .table-result-container {\n",
       "    max-height: 300px;\n",
       "    overflow: auto;\n",
       "  }\n",
       "  table, th, td {\n",
       "    border: 1px solid black;\n",
       "    border-collapse: collapse;\n",
       "  }\n",
       "  th, td {\n",
       "    padding: 5px;\n",
       "  }\n",
       "  th {\n",
       "    text-align: left;\n",
       "  }\n",
       "</style><div class='table-result-container'><table class='table-result'><thead style='background-color: white'><tr><th>Department</th><th>YOUNG or OLD</th><th>avg(Age)</th><th>max(Salary)</th></tr></thead><tbody><tr><td>HR</td><td>Young Blood</td><td>28.0</td><td>50000</td></tr><tr><td>Finance</td><td>Oldie</td><td>null</td><td>60000</td></tr><tr><td>null</td><td>Oldie</td><td>35.0</td><td>70000</td></tr><tr><td>HR</td><td>Oldie</td><td>41.0</td><td>null</td></tr></tbody></table></div>"
      ]
     },
     "metadata": {
      "application/vnd.databricks.v1+output": {
       "addedWidgets": {},
       "aggData": [],
       "aggError": "",
       "aggOverflow": false,
       "aggSchema": [],
       "aggSeriesLimitReached": false,
       "aggType": "",
       "arguments": {},
       "columnCustomDisplayInfos": {},
       "data": [
        [
         "HR",
         "Young Blood",
         28.0,
         50000
        ],
        [
         "Finance",
         "Oldie",
         null,
         60000
        ],
        [
         null,
         "Oldie",
         35.0,
         70000
        ],
        [
         "HR",
         "Oldie",
         41.0,
         null
        ]
       ],
       "datasetInfos": [],
       "dbfsResultPath": null,
       "isJsonSchema": true,
       "metadata": {},
       "overflow": false,
       "plotOptions": {
        "customPlotOptions": {},
        "displayType": "table",
        "pivotAggregation": null,
        "pivotColumns": null,
        "xColumns": null,
        "yColumns": null
       },
       "removedWidgets": [],
       "schema": [
        {
         "metadata": "{}",
         "name": "Department",
         "type": "\"string\""
        },
        {
         "metadata": "{}",
         "name": "YOUNG or OLD",
         "type": "\"string\""
        },
        {
         "metadata": "{}",
         "name": "avg(Age)",
         "type": "\"double\""
        },
        {
         "metadata": "{}",
         "name": "max(Salary)",
         "type": "\"integer\""
        }
       ],
       "type": "table"
      }
     },
     "output_type": "display_data"
    }
   ],
   "source": [
    "df.groupBy('Department','YOUNG or OLD').agg(mean('Age'),max('Salary')).display()"
   ]
  },
  {
   "cell_type": "markdown",
   "metadata": {
    "application/vnd.databricks.v1+cell": {
     "cellMetadata": {
      "byteLimit": 2048000,
      "rowLimit": 10000
     },
     "inputWidgets": {},
     "nuid": "025d40de-540c-44e6-a82a-f00f2d22ba98",
     "showTitle": false,
     "tableResultSettingsMap": {},
     "title": ""
    }
   },
   "source": [
    "#### With Alias: "
   ]
  },
  {
   "cell_type": "code",
   "execution_count": 0,
   "metadata": {
    "application/vnd.databricks.v1+cell": {
     "cellMetadata": {
      "byteLimit": 2048000,
      "rowLimit": 10000
     },
     "inputWidgets": {},
     "nuid": "662fcc1b-3e20-4edf-bf91-0e33a8b7ff22",
     "showTitle": false,
     "tableResultSettingsMap": {},
     "title": ""
    }
   },
   "outputs": [
    {
     "output_type": "display_data",
     "data": {
      "text/html": [
       "<style scoped>\n",
       "  .table-result-container {\n",
       "    max-height: 300px;\n",
       "    overflow: auto;\n",
       "  }\n",
       "  table, th, td {\n",
       "    border: 1px solid black;\n",
       "    border-collapse: collapse;\n",
       "  }\n",
       "  th, td {\n",
       "    padding: 5px;\n",
       "  }\n",
       "  th {\n",
       "    text-align: left;\n",
       "  }\n",
       "</style><div class='table-result-container'><table class='table-result'><thead style='background-color: white'><tr><th>Department</th><th>Total No. of Employees in each Department</th></tr></thead><tbody><tr><td>HR</td><td>0</td></tr><tr><td>Finance</td><td>0</td></tr><tr><td>null</td><td>0</td></tr></tbody></table></div>"
      ]
     },
     "metadata": {
      "application/vnd.databricks.v1+output": {
       "addedWidgets": {},
       "aggData": [],
       "aggError": "",
       "aggOverflow": false,
       "aggSchema": [],
       "aggSeriesLimitReached": false,
       "aggType": "",
       "arguments": {},
       "columnCustomDisplayInfos": {},
       "data": [
        [
         "HR",
         0
        ],
        [
         "Finance",
         0
        ],
        [
         null,
         0
        ]
       ],
       "datasetInfos": [],
       "dbfsResultPath": null,
       "isJsonSchema": true,
       "metadata": {},
       "overflow": false,
       "plotOptions": {
        "customPlotOptions": {},
        "displayType": "table",
        "pivotAggregation": null,
        "pivotColumns": null,
        "xColumns": null,
        "yColumns": null
       },
       "removedWidgets": [],
       "schema": [
        {
         "metadata": "{}",
         "name": "Department",
         "type": "\"string\""
        },
        {
         "metadata": "{}",
         "name": "Total No. of Employees in each Department",
         "type": "\"long\""
        }
       ],
       "type": "table"
      }
     },
     "output_type": "display_data"
    }
   ],
   "source": [
    "df.groupBy('Department').agg(count('Name').alias(\"Total No. of Employees in each Department\")).display()"
   ]
  },
  {
   "cell_type": "code",
   "execution_count": 0,
   "metadata": {
    "application/vnd.databricks.v1+cell": {
     "cellMetadata": {
      "byteLimit": 2048000,
      "rowLimit": 10000
     },
     "inputWidgets": {},
     "nuid": "b5f16f3d-73af-4b6f-9369-b8af7fb7edd9",
     "showTitle": false,
     "tableResultSettingsMap": {},
     "title": ""
    }
   },
   "outputs": [
    {
     "output_type": "display_data",
     "data": {
      "text/html": [
       "<style scoped>\n",
       "  .table-result-container {\n",
       "    max-height: 300px;\n",
       "    overflow: auto;\n",
       "  }\n",
       "  table, th, td {\n",
       "    border: 1px solid black;\n",
       "    border-collapse: collapse;\n",
       "  }\n",
       "  th, td {\n",
       "    padding: 5px;\n",
       "  }\n",
       "  th {\n",
       "    text-align: left;\n",
       "  }\n",
       "</style><div class='table-result-container'><table class='table-result'><thead style='background-color: white'><tr><th>Department</th><th>YOUNG or OLD</th><th>Average Age of an Employee</th><th>Minimum Salary of An Employee</th></tr></thead><tbody><tr><td>HR</td><td>Young Blood</td><td>28.0</td><td>50000</td></tr><tr><td>Finance</td><td>Oldie</td><td>null</td><td>60000</td></tr><tr><td>null</td><td>Oldie</td><td>35.0</td><td>70000</td></tr><tr><td>HR</td><td>Oldie</td><td>41.0</td><td>null</td></tr></tbody></table></div>"
      ]
     },
     "metadata": {
      "application/vnd.databricks.v1+output": {
       "addedWidgets": {},
       "aggData": [],
       "aggError": "",
       "aggOverflow": false,
       "aggSchema": [],
       "aggSeriesLimitReached": false,
       "aggType": "",
       "arguments": {},
       "columnCustomDisplayInfos": {},
       "data": [
        [
         "HR",
         "Young Blood",
         28.0,
         50000
        ],
        [
         "Finance",
         "Oldie",
         null,
         60000
        ],
        [
         null,
         "Oldie",
         35.0,
         70000
        ],
        [
         "HR",
         "Oldie",
         41.0,
         null
        ]
       ],
       "datasetInfos": [],
       "dbfsResultPath": null,
       "isJsonSchema": true,
       "metadata": {},
       "overflow": false,
       "plotOptions": {
        "customPlotOptions": {},
        "displayType": "table",
        "pivotAggregation": null,
        "pivotColumns": null,
        "xColumns": null,
        "yColumns": null
       },
       "removedWidgets": [],
       "schema": [
        {
         "metadata": "{}",
         "name": "Department",
         "type": "\"string\""
        },
        {
         "metadata": "{}",
         "name": "YOUNG or OLD",
         "type": "\"string\""
        },
        {
         "metadata": "{}",
         "name": "Average Age of an Employee",
         "type": "\"double\""
        },
        {
         "metadata": "{}",
         "name": "Minimum Salary of An Employee",
         "type": "\"integer\""
        }
       ],
       "type": "table"
      }
     },
     "output_type": "display_data"
    }
   ],
   "source": [
    "df.groupBy('Department','YOUNG or OLD').agg(mean('Age').alias('Average Age of an Employee'),min('Salary').alias('Minimum Salary of An Employee')).display()"
   ]
  },
  {
   "cell_type": "markdown",
   "metadata": {
    "application/vnd.databricks.v1+cell": {
     "cellMetadata": {
      "byteLimit": 2048000,
      "rowLimit": 10000
     },
     "inputWidgets": {},
     "nuid": "82eebb4c-9803-4cf6-a4bd-6333fc74259f",
     "showTitle": false,
     "tableResultSettingsMap": {},
     "title": ""
    }
   },
   "source": [
    "### Using filter on aggregate data"
   ]
  },
  {
   "cell_type": "code",
   "execution_count": 0,
   "metadata": {
    "application/vnd.databricks.v1+cell": {
     "cellMetadata": {
      "byteLimit": 2048000,
      "rowLimit": 10000
     },
     "inputWidgets": {},
     "nuid": "92744950-ea91-4c61-a892-4d4e3409500d",
     "showTitle": false,
     "tableResultSettingsMap": {},
     "title": ""
    }
   },
   "outputs": [
    {
     "output_type": "display_data",
     "data": {
      "text/plain": [
       ""
      ]
     },
     "metadata": {
      "application/vnd.databricks.v1+output": {
       "arguments": {},
       "data": "",
       "errorSummary": "Command skipped",
       "errorTraceType": "ansi",
       "metadata": {},
       "type": "ipynbError"
      }
     },
     "output_type": "display_data"
    }
   ],
   "source": [
    "df.groupBy('Launched Year').agg(count('Launched Year').alias('No of units sold yearwise')).where(col('No of units sold yearwise')>=10).display()"
   ]
  },
  {
   "cell_type": "markdown",
   "metadata": {
    "application/vnd.databricks.v1+cell": {
     "cellMetadata": {
      "byteLimit": 2048000,
      "rowLimit": 10000
     },
     "inputWidgets": {},
     "nuid": "722cac7a-9e18-480c-aed8-1d43012b1dd9",
     "showTitle": false,
     "tableResultSettingsMap": {},
     "title": ""
    }
   },
   "source": [
    "\n",
    "| Pandas | PySpark | Purpose |\n",
    "| ----------- | ----------- | ----------- |\n",
    "|df=pd.read_csv() |df=spark.read.csv() |Read CSV files |\n",
    "|df.head() |df.show() |Display first few rows |\n",
    "|df.info() |df.printSchema() |Display DataFrame structure |\n",
    "|df['column'] |df['column'] |Select a column |\n",
    "|df[['col1', 'col2']] |df[['col1', 'col2']] |Select multiple columns |\n",
    "|df[df['col'] > value] |df.filter(df['col'] > value) |Filter rows based on condition |\n",
    "|df['new_col'] = ... |df.withColumn('new_col', ...) |Add or modify columns |\n",
    "|df.fillna(value) |df.na.fill(value) |Fill missing values |\n",
    "|df.groupby('col').mean() |df.groupBy('col').agg(avg('col')) |Group by and aggregate |\n",
    "|df.drop('column', axis=1) |df.drop('column') |Remove a column |"
   ]
  },
  {
   "cell_type": "markdown",
   "metadata": {
    "application/vnd.databricks.v1+cell": {
     "cellMetadata": {
      "byteLimit": 2048000,
      "rowLimit": 10000
     },
     "inputWidgets": {},
     "nuid": "2d039278-8481-4918-95f4-5ca97d9ebe87",
     "showTitle": false,
     "tableResultSettingsMap": {},
     "title": ""
    }
   },
   "source": [
    "#Data Cleaning"
   ]
  },
  {
   "cell_type": "markdown",
   "metadata": {
    "application/vnd.databricks.v1+cell": {
     "cellMetadata": {
      "byteLimit": 2048000,
      "rowLimit": 10000
     },
     "inputWidgets": {},
     "nuid": "844faa8c-04c6-4ad1-ac81-d6856f580769",
     "showTitle": false,
     "tableResultSettingsMap": {},
     "title": ""
    }
   },
   "source": [
    "##1. Start a PySpark Session"
   ]
  },
  {
   "cell_type": "code",
   "execution_count": 0,
   "metadata": {
    "application/vnd.databricks.v1+cell": {
     "cellMetadata": {
      "byteLimit": 2048000,
      "rowLimit": 10000
     },
     "inputWidgets": {},
     "nuid": "80da33c4-76de-47ae-9232-4ad28659b9db",
     "showTitle": false,
     "tableResultSettingsMap": {},
     "title": ""
    }
   },
   "outputs": [],
   "source": [
    "from pyspark.sql import SparkSession\n",
    "\n",
    "# Initialize a Spark session\n",
    "spark = SparkSession.builder \\\n",
    "\t.appName(\"DataCleaning\") \\\n",
    "\t.getOrCreate()"
   ]
  },
  {
   "cell_type": "markdown",
   "metadata": {
    "application/vnd.databricks.v1+cell": {
     "cellMetadata": {
      "byteLimit": 2048000,
      "rowLimit": 10000
     },
     "inputWidgets": {},
     "nuid": "4f60f64e-1fea-45a9-a850-f91e552735e7",
     "showTitle": false,
     "tableResultSettingsMap": {},
     "title": ""
    }
   },
   "source": [
    "## 2.  Get the Data\n",
    "\n",
    "- Generate a Sample Dataset\n",
    "You can work with any dataset of your choice. \n",
    "\n",
    "- We’ll create a dataset with some typical data quality issues such as missing values, duplicate records, and the like.\n",
    "- This is Just for Illustration Purpose"
   ]
  },
  {
   "cell_type": "code",
   "execution_count": 0,
   "metadata": {
    "application/vnd.databricks.v1+cell": {
     "cellMetadata": {
      "byteLimit": 2048000,
      "rowLimit": 10000
     },
     "inputWidgets": {},
     "nuid": "d8b53f04-3810-44f1-8e6d-14732d820257",
     "showTitle": false,
     "tableResultSettingsMap": {},
     "title": ""
    }
   },
   "outputs": [
    {
     "output_type": "display_data",
     "data": {
      "application/vnd.databricks.v1+bamboolib_hint": "{\"pd.DataFrames\": [], \"version\": \"0.0.1\"}",
      "text/plain": []
     },
     "metadata": {},
     "output_type": "display_data"
    },
    {
     "output_type": "display_data",
     "data": {
      "text/plain": [
       "\u001B[0;31m---------------------------------------------------------------------------\u001B[0m\n",
       "\u001B[0;31mAnalysisException\u001B[0m                         Traceback (most recent call last)\n",
       "File \u001B[0;32m<command-164661248898043>:10\u001B[0m\n",
       "\u001B[1;32m      5\u001B[0m \u001B[38;5;66;03m# Initialize Spark session\u001B[39;00m\n",
       "\u001B[1;32m      6\u001B[0m spark \u001B[38;5;241m=\u001B[39m SparkSession\u001B[38;5;241m.\u001B[39mbuilder \\\n",
       "\u001B[1;32m      7\u001B[0m     \u001B[38;5;241m.\u001B[39mappName(\u001B[38;5;124m\"\u001B[39m\u001B[38;5;124mRandom Data Generation\u001B[39m\u001B[38;5;124m\"\u001B[39m) \\\n",
       "\u001B[1;32m      8\u001B[0m     \u001B[38;5;241m.\u001B[39mgetOrCreate()\n",
       "\u001B[0;32m---> 10\u001B[0m spark\u001B[38;5;241m.\u001B[39mconf\u001B[38;5;241m.\u001B[39mset(\u001B[38;5;124m\"\u001B[39m\u001B[38;5;124mspark.driver.memory\u001B[39m\u001B[38;5;124m\"\u001B[39m, \u001B[38;5;124m\"\u001B[39m\u001B[38;5;124m8g\u001B[39m\u001B[38;5;124m\"\u001B[39m)\n",
       "\u001B[1;32m     11\u001B[0m spark\u001B[38;5;241m.\u001B[39mconf\u001B[38;5;241m.\u001B[39mset(\u001B[38;5;124m\"\u001B[39m\u001B[38;5;124mspark.executor.memory\u001B[39m\u001B[38;5;124m\"\u001B[39m, \u001B[38;5;124m\"\u001B[39m\u001B[38;5;124m8g\u001B[39m\u001B[38;5;124m\"\u001B[39m)\n",
       "\u001B[1;32m     14\u001B[0m \u001B[38;5;66;03m# Function to generate random data with some missing values and duplicates\u001B[39;00m\n",
       "\n",
       "File \u001B[0;32m/databricks/spark/python/pyspark/sql/conf.py:40\u001B[0m, in \u001B[0;36mRuntimeConfig.set\u001B[0;34m(self, key, value)\u001B[0m\n",
       "\u001B[1;32m     37\u001B[0m \u001B[38;5;129m@since\u001B[39m(\u001B[38;5;241m2.0\u001B[39m)\n",
       "\u001B[1;32m     38\u001B[0m \u001B[38;5;28;01mdef\u001B[39;00m \u001B[38;5;21mset\u001B[39m(\u001B[38;5;28mself\u001B[39m, key: \u001B[38;5;28mstr\u001B[39m, value: \u001B[38;5;28mstr\u001B[39m) \u001B[38;5;241m-\u001B[39m\u001B[38;5;241m>\u001B[39m \u001B[38;5;28;01mNone\u001B[39;00m:\n",
       "\u001B[1;32m     39\u001B[0m     \u001B[38;5;124;03m\"\"\"Sets the given Spark runtime configuration property.\"\"\"\u001B[39;00m\n",
       "\u001B[0;32m---> 40\u001B[0m     \u001B[38;5;28;43mself\u001B[39;49m\u001B[38;5;241;43m.\u001B[39;49m\u001B[43m_jconf\u001B[49m\u001B[38;5;241;43m.\u001B[39;49m\u001B[43mset\u001B[49m\u001B[43m(\u001B[49m\u001B[43mkey\u001B[49m\u001B[43m,\u001B[49m\u001B[43m \u001B[49m\u001B[43mvalue\u001B[49m\u001B[43m)\u001B[49m\n",
       "\n",
       "File \u001B[0;32m/databricks/spark/python/lib/py4j-0.10.9.5-src.zip/py4j/java_gateway.py:1321\u001B[0m, in \u001B[0;36mJavaMember.__call__\u001B[0;34m(self, *args)\u001B[0m\n",
       "\u001B[1;32m   1315\u001B[0m command \u001B[38;5;241m=\u001B[39m proto\u001B[38;5;241m.\u001B[39mCALL_COMMAND_NAME \u001B[38;5;241m+\u001B[39m\\\n",
       "\u001B[1;32m   1316\u001B[0m     \u001B[38;5;28mself\u001B[39m\u001B[38;5;241m.\u001B[39mcommand_header \u001B[38;5;241m+\u001B[39m\\\n",
       "\u001B[1;32m   1317\u001B[0m     args_command \u001B[38;5;241m+\u001B[39m\\\n",
       "\u001B[1;32m   1318\u001B[0m     proto\u001B[38;5;241m.\u001B[39mEND_COMMAND_PART\n",
       "\u001B[1;32m   1320\u001B[0m answer \u001B[38;5;241m=\u001B[39m \u001B[38;5;28mself\u001B[39m\u001B[38;5;241m.\u001B[39mgateway_client\u001B[38;5;241m.\u001B[39msend_command(command)\n",
       "\u001B[0;32m-> 1321\u001B[0m return_value \u001B[38;5;241m=\u001B[39m \u001B[43mget_return_value\u001B[49m\u001B[43m(\u001B[49m\n",
       "\u001B[1;32m   1322\u001B[0m \u001B[43m    \u001B[49m\u001B[43manswer\u001B[49m\u001B[43m,\u001B[49m\u001B[43m \u001B[49m\u001B[38;5;28;43mself\u001B[39;49m\u001B[38;5;241;43m.\u001B[39;49m\u001B[43mgateway_client\u001B[49m\u001B[43m,\u001B[49m\u001B[43m \u001B[49m\u001B[38;5;28;43mself\u001B[39;49m\u001B[38;5;241;43m.\u001B[39;49m\u001B[43mtarget_id\u001B[49m\u001B[43m,\u001B[49m\u001B[43m \u001B[49m\u001B[38;5;28;43mself\u001B[39;49m\u001B[38;5;241;43m.\u001B[39;49m\u001B[43mname\u001B[49m\u001B[43m)\u001B[49m\n",
       "\u001B[1;32m   1324\u001B[0m \u001B[38;5;28;01mfor\u001B[39;00m temp_arg \u001B[38;5;129;01min\u001B[39;00m temp_args:\n",
       "\u001B[1;32m   1325\u001B[0m     temp_arg\u001B[38;5;241m.\u001B[39m_detach()\n",
       "\n",
       "File \u001B[0;32m/databricks/spark/python/pyspark/errors/exceptions.py:234\u001B[0m, in \u001B[0;36mcapture_sql_exception.<locals>.deco\u001B[0;34m(*a, **kw)\u001B[0m\n",
       "\u001B[1;32m    230\u001B[0m converted \u001B[38;5;241m=\u001B[39m convert_exception(e\u001B[38;5;241m.\u001B[39mjava_exception)\n",
       "\u001B[1;32m    231\u001B[0m \u001B[38;5;28;01mif\u001B[39;00m \u001B[38;5;129;01mnot\u001B[39;00m \u001B[38;5;28misinstance\u001B[39m(converted, UnknownException):\n",
       "\u001B[1;32m    232\u001B[0m     \u001B[38;5;66;03m# Hide where the exception came from that shows a non-Pythonic\u001B[39;00m\n",
       "\u001B[1;32m    233\u001B[0m     \u001B[38;5;66;03m# JVM exception message.\u001B[39;00m\n",
       "\u001B[0;32m--> 234\u001B[0m     \u001B[38;5;28;01mraise\u001B[39;00m converted \u001B[38;5;28;01mfrom\u001B[39;00m \u001B[38;5;28mNone\u001B[39m\n",
       "\u001B[1;32m    235\u001B[0m \u001B[38;5;28;01melse\u001B[39;00m:\n",
       "\u001B[1;32m    236\u001B[0m     \u001B[38;5;28;01mraise\u001B[39;00m\n",
       "\n",
       "\u001B[0;31mAnalysisException\u001B[0m: Cannot modify the value of a Spark config: spark.driver.memory.\n",
       "See also 'https://spark.apache.org/docs/latest/sql-migration-guide.html#ddl-statements'."
      ]
     },
     "metadata": {
      "application/vnd.databricks.v1+output": {
       "arguments": {},
       "data": "\u001B[0;31m---------------------------------------------------------------------------\u001B[0m\n\u001B[0;31mAnalysisException\u001B[0m                         Traceback (most recent call last)\nFile \u001B[0;32m<command-164661248898043>:10\u001B[0m\n\u001B[1;32m      5\u001B[0m \u001B[38;5;66;03m# Initialize Spark session\u001B[39;00m\n\u001B[1;32m      6\u001B[0m spark \u001B[38;5;241m=\u001B[39m SparkSession\u001B[38;5;241m.\u001B[39mbuilder \\\n\u001B[1;32m      7\u001B[0m     \u001B[38;5;241m.\u001B[39mappName(\u001B[38;5;124m\"\u001B[39m\u001B[38;5;124mRandom Data Generation\u001B[39m\u001B[38;5;124m\"\u001B[39m) \\\n\u001B[1;32m      8\u001B[0m     \u001B[38;5;241m.\u001B[39mgetOrCreate()\n\u001B[0;32m---> 10\u001B[0m spark\u001B[38;5;241m.\u001B[39mconf\u001B[38;5;241m.\u001B[39mset(\u001B[38;5;124m\"\u001B[39m\u001B[38;5;124mspark.driver.memory\u001B[39m\u001B[38;5;124m\"\u001B[39m, \u001B[38;5;124m\"\u001B[39m\u001B[38;5;124m8g\u001B[39m\u001B[38;5;124m\"\u001B[39m)\n\u001B[1;32m     11\u001B[0m spark\u001B[38;5;241m.\u001B[39mconf\u001B[38;5;241m.\u001B[39mset(\u001B[38;5;124m\"\u001B[39m\u001B[38;5;124mspark.executor.memory\u001B[39m\u001B[38;5;124m\"\u001B[39m, \u001B[38;5;124m\"\u001B[39m\u001B[38;5;124m8g\u001B[39m\u001B[38;5;124m\"\u001B[39m)\n\u001B[1;32m     14\u001B[0m \u001B[38;5;66;03m# Function to generate random data with some missing values and duplicates\u001B[39;00m\n\nFile \u001B[0;32m/databricks/spark/python/pyspark/sql/conf.py:40\u001B[0m, in \u001B[0;36mRuntimeConfig.set\u001B[0;34m(self, key, value)\u001B[0m\n\u001B[1;32m     37\u001B[0m \u001B[38;5;129m@since\u001B[39m(\u001B[38;5;241m2.0\u001B[39m)\n\u001B[1;32m     38\u001B[0m \u001B[38;5;28;01mdef\u001B[39;00m \u001B[38;5;21mset\u001B[39m(\u001B[38;5;28mself\u001B[39m, key: \u001B[38;5;28mstr\u001B[39m, value: \u001B[38;5;28mstr\u001B[39m) \u001B[38;5;241m-\u001B[39m\u001B[38;5;241m>\u001B[39m \u001B[38;5;28;01mNone\u001B[39;00m:\n\u001B[1;32m     39\u001B[0m     \u001B[38;5;124;03m\"\"\"Sets the given Spark runtime configuration property.\"\"\"\u001B[39;00m\n\u001B[0;32m---> 40\u001B[0m     \u001B[38;5;28;43mself\u001B[39;49m\u001B[38;5;241;43m.\u001B[39;49m\u001B[43m_jconf\u001B[49m\u001B[38;5;241;43m.\u001B[39;49m\u001B[43mset\u001B[49m\u001B[43m(\u001B[49m\u001B[43mkey\u001B[49m\u001B[43m,\u001B[49m\u001B[43m \u001B[49m\u001B[43mvalue\u001B[49m\u001B[43m)\u001B[49m\n\nFile \u001B[0;32m/databricks/spark/python/lib/py4j-0.10.9.5-src.zip/py4j/java_gateway.py:1321\u001B[0m, in \u001B[0;36mJavaMember.__call__\u001B[0;34m(self, *args)\u001B[0m\n\u001B[1;32m   1315\u001B[0m command \u001B[38;5;241m=\u001B[39m proto\u001B[38;5;241m.\u001B[39mCALL_COMMAND_NAME \u001B[38;5;241m+\u001B[39m\\\n\u001B[1;32m   1316\u001B[0m     \u001B[38;5;28mself\u001B[39m\u001B[38;5;241m.\u001B[39mcommand_header \u001B[38;5;241m+\u001B[39m\\\n\u001B[1;32m   1317\u001B[0m     args_command \u001B[38;5;241m+\u001B[39m\\\n\u001B[1;32m   1318\u001B[0m     proto\u001B[38;5;241m.\u001B[39mEND_COMMAND_PART\n\u001B[1;32m   1320\u001B[0m answer \u001B[38;5;241m=\u001B[39m \u001B[38;5;28mself\u001B[39m\u001B[38;5;241m.\u001B[39mgateway_client\u001B[38;5;241m.\u001B[39msend_command(command)\n\u001B[0;32m-> 1321\u001B[0m return_value \u001B[38;5;241m=\u001B[39m \u001B[43mget_return_value\u001B[49m\u001B[43m(\u001B[49m\n\u001B[1;32m   1322\u001B[0m \u001B[43m    \u001B[49m\u001B[43manswer\u001B[49m\u001B[43m,\u001B[49m\u001B[43m \u001B[49m\u001B[38;5;28;43mself\u001B[39;49m\u001B[38;5;241;43m.\u001B[39;49m\u001B[43mgateway_client\u001B[49m\u001B[43m,\u001B[49m\u001B[43m \u001B[49m\u001B[38;5;28;43mself\u001B[39;49m\u001B[38;5;241;43m.\u001B[39;49m\u001B[43mtarget_id\u001B[49m\u001B[43m,\u001B[49m\u001B[43m \u001B[49m\u001B[38;5;28;43mself\u001B[39;49m\u001B[38;5;241;43m.\u001B[39;49m\u001B[43mname\u001B[49m\u001B[43m)\u001B[49m\n\u001B[1;32m   1324\u001B[0m \u001B[38;5;28;01mfor\u001B[39;00m temp_arg \u001B[38;5;129;01min\u001B[39;00m temp_args:\n\u001B[1;32m   1325\u001B[0m     temp_arg\u001B[38;5;241m.\u001B[39m_detach()\n\nFile \u001B[0;32m/databricks/spark/python/pyspark/errors/exceptions.py:234\u001B[0m, in \u001B[0;36mcapture_sql_exception.<locals>.deco\u001B[0;34m(*a, **kw)\u001B[0m\n\u001B[1;32m    230\u001B[0m converted \u001B[38;5;241m=\u001B[39m convert_exception(e\u001B[38;5;241m.\u001B[39mjava_exception)\n\u001B[1;32m    231\u001B[0m \u001B[38;5;28;01mif\u001B[39;00m \u001B[38;5;129;01mnot\u001B[39;00m \u001B[38;5;28misinstance\u001B[39m(converted, UnknownException):\n\u001B[1;32m    232\u001B[0m     \u001B[38;5;66;03m# Hide where the exception came from that shows a non-Pythonic\u001B[39;00m\n\u001B[1;32m    233\u001B[0m     \u001B[38;5;66;03m# JVM exception message.\u001B[39;00m\n\u001B[0;32m--> 234\u001B[0m     \u001B[38;5;28;01mraise\u001B[39;00m converted \u001B[38;5;28;01mfrom\u001B[39;00m \u001B[38;5;28mNone\u001B[39m\n\u001B[1;32m    235\u001B[0m \u001B[38;5;28;01melse\u001B[39;00m:\n\u001B[1;32m    236\u001B[0m     \u001B[38;5;28;01mraise\u001B[39;00m\n\n\u001B[0;31mAnalysisException\u001B[0m: Cannot modify the value of a Spark config: spark.driver.memory.\nSee also 'https://spark.apache.org/docs/latest/sql-migration-guide.html#ddl-statements'.",
       "errorSummary": "<span class='ansi-red-fg'>AnalysisException</span>: Cannot modify the value of a Spark config: spark.driver.memory.\nSee also 'https://spark.apache.org/docs/latest/sql-migration-guide.html#ddl-statements'.",
       "errorTraceType": "ansi",
       "metadata": {},
       "type": "ipynbError"
      }
     },
     "output_type": "display_data"
    }
   ],
   "source": [
    "import random\n",
    "import pandas as pd\n",
    "from pyspark.sql import SparkSession\n",
    "\n",
    "# Initialize Spark session\n",
    "spark = SparkSession.builder \\\n",
    "    .appName(\"Random Data Generation\") \\\n",
    "    .getOrCreate()\n",
    "\n",
    "spark.conf.set(\"spark.driver.memory\", \"8g\")\n",
    "spark.conf.set(\"spark.executor.memory\", \"8g\")\n",
    "\n",
    "\n",
    "# Function to generate random data with some missing values and duplicates\n",
    "def generate_data(n):\n",
    "    customer_ids = [f'C{str(i).zfill(5)}' for i in range(1, 101)]\n",
    "    product_categories = ['Electronics', 'Books', 'Clothing', 'Groceries', 'Furniture']\n",
    "\n",
    "    data = []\n",
    "    for i in range(n):\n",
    "        customer_id = random.choice(customer_ids) if i % 10 != 0 else None  # Introduce some missing values\n",
    "        transaction_id = f'T{str(random.randint(10000, 99999))}'\n",
    "        transaction_date = pd.Timestamp('2023-01-01') + pd.to_timedelta(random.randint(0, 180), unit='d')\n",
    "        \n",
    "        # Generate amount as a float and round it correctly\n",
    "        amount = float(\"{:.2f}\".format(random.uniform(5, 500)))  # Use string formatting to round\n",
    "        \n",
    "        product_category = random.choice(product_categories)\n",
    "        data.append((customer_id, transaction_id, transaction_date, amount, product_category))\n",
    "\n",
    "    # Introduce duplicates (only duplicate the first 10 rows)\n",
    "    data.extend(data[:10])\n",
    "\n",
    "    return data\n",
    "\n",
    "# Generate 10,000 rows of data using the function\n",
    "data = generate_data(100)\n",
    "\n",
    "# Define column names for the DataFrame\n",
    "columns = ['CustomerID', 'TransactionID', 'TransactionDate', 'Amount', 'ProductCategory']\n",
    "\n",
    "# Convert the generated data into a Pandas DataFrame\n",
    "df = pd.DataFrame(data, columns=columns)\n",
    "\n",
    "# Create a Spark DataFrame from the Pandas DataFrame\n",
    "spark_df = spark.createDataFrame(df)\n",
    "\n",
    "# Display the first few rows of the Spark DataFrame\n",
    "print(\"Initial DataFrame:\")\n",
    "spark_df.show(5)\n",
    "\n",
    "# Example: Adding a constant value to the \"Amount\" column using lit()\n",
    "from pyspark.sql.functions import lit\n",
    "\n",
    "spark_df_with_constant = spark_df.withColumn(\"AdjustedAmount\", spark_df[\"Amount\"] + lit(10.0))\n",
    "\n",
    "# Show updated DataFrame with the new column\n",
    "print(\"DataFrame after adding constant value to Amount:\")\n",
    "spark_df_with_constant.show(5)\n",
    "\n",
    "# Stop the Spark session when done\n",
    "spark.stop()\n"
   ]
  },
  {
   "cell_type": "markdown",
   "metadata": {
    "application/vnd.databricks.v1+cell": {
     "cellMetadata": {
      "byteLimit": 2048000,
      "rowLimit": 10000
     },
     "inputWidgets": {},
     "nuid": "b2974c98-74bd-4fc9-b71e-038db126cb0d",
     "showTitle": false,
     "tableResultSettingsMap": {},
     "title": ""
    }
   },
   "source": [
    "##3. Handle Null/Missing Values\n",
    "\n",
    "- Missing values are a common problem in most datasets.\n",
    " \n",
    "- There are 2 ways by which We can handle the missing values by -\n",
    "    - dropping records with missing values\n",
    "    (this isn’t normally recommended!).\n",
    "    - filling them with default values."
   ]
  },
  {
   "cell_type": "markdown",
   "metadata": {
    "application/vnd.databricks.v1+cell": {
     "cellMetadata": {
      "byteLimit": 2048000,
      "rowLimit": 10000
     },
     "inputWidgets": {},
     "nuid": "5b10dd60-d0d8-43d2-af37-0e15bb6cc5bf",
     "showTitle": false,
     "tableResultSettingsMap": {},
     "title": ""
    }
   },
   "source": [
    "### 3.1 Drop rows"
   ]
  },
  {
   "cell_type": "code",
   "execution_count": 0,
   "metadata": {
    "application/vnd.databricks.v1+cell": {
     "cellMetadata": {
      "byteLimit": 2048000,
      "rowLimit": 10000
     },
     "inputWidgets": {},
     "nuid": "3f28df62-4c4d-465c-8e18-554268312dd2",
     "showTitle": false,
     "tableResultSettingsMap": {},
     "title": ""
    }
   },
   "outputs": [
    {
     "output_type": "display_data",
     "data": {
      "text/plain": [
       "\u001B[0;31m---------------------------------------------------------------------------\u001B[0m\n",
       "\u001B[0;31mNameError\u001B[0m                                 Traceback (most recent call last)\n",
       "File \u001B[0;32m<command-164661248898046>:1\u001B[0m\n",
       "\u001B[0;32m----> 1\u001B[0m spark_df \u001B[38;5;241m=\u001B[39m \u001B[43mspark_df\u001B[49m\u001B[38;5;241m.\u001B[39mdropna(subset\u001B[38;5;241m=\u001B[39m[\u001B[38;5;124m\"\u001B[39m\u001B[38;5;124mCustomerID\u001B[39m\u001B[38;5;124m\"\u001B[39m])\n",
       "\n",
       "\u001B[0;31mNameError\u001B[0m: name 'spark_df' is not defined"
      ]
     },
     "metadata": {
      "application/vnd.databricks.v1+output": {
       "arguments": {},
       "data": "\u001B[0;31m---------------------------------------------------------------------------\u001B[0m\n\u001B[0;31mNameError\u001B[0m                                 Traceback (most recent call last)\nFile \u001B[0;32m<command-164661248898046>:1\u001B[0m\n\u001B[0;32m----> 1\u001B[0m spark_df \u001B[38;5;241m=\u001B[39m \u001B[43mspark_df\u001B[49m\u001B[38;5;241m.\u001B[39mdropna(subset\u001B[38;5;241m=\u001B[39m[\u001B[38;5;124m\"\u001B[39m\u001B[38;5;124mCustomerID\u001B[39m\u001B[38;5;124m\"\u001B[39m])\n\n\u001B[0;31mNameError\u001B[0m: name 'spark_df' is not defined",
       "errorSummary": "<span class='ansi-red-fg'>NameError</span>: name 'spark_df' is not defined",
       "errorTraceType": "ansi",
       "metadata": {},
       "type": "ipynbError"
      }
     },
     "output_type": "display_data"
    }
   ],
   "source": [
    "spark_df = spark_df.dropna(subset=[\"CustomerID\"])"
   ]
  },
  {
   "cell_type": "markdown",
   "metadata": {
    "application/vnd.databricks.v1+cell": {
     "cellMetadata": {
      "byteLimit": 2048000,
      "rowLimit": 10000
     },
     "inputWidgets": {},
     "nuid": "9fb391cf-0eb4-42ed-b227-219b774053fa",
     "showTitle": false,
     "tableResultSettingsMap": {},
     "title": ""
    }
   },
   "source": [
    "### 3.2 Fill Empty Rows"
   ]
  },
  {
   "cell_type": "code",
   "execution_count": 0,
   "metadata": {
    "application/vnd.databricks.v1+cell": {
     "cellMetadata": {
      "byteLimit": 2048000,
      "rowLimit": 10000
     },
     "inputWidgets": {},
     "nuid": "4f5b902d-e7ba-4d79-91ef-e0e0caaf0649",
     "showTitle": false,
     "tableResultSettingsMap": {},
     "title": ""
    }
   },
   "outputs": [
    {
     "output_type": "display_data",
     "data": {
      "text/plain": [
       ""
      ]
     },
     "metadata": {
      "application/vnd.databricks.v1+output": {
       "arguments": {},
       "data": "",
       "errorSummary": "Command skipped",
       "errorTraceType": "ansi",
       "metadata": {},
       "type": "ipynbError"
      }
     },
     "output_type": "display_data"
    }
   ],
   "source": [
    "spark_df = spark_df.fillna({\"CustomerID\": \"Unknown\"})"
   ]
  },
  {
   "cell_type": "markdown",
   "metadata": {
    "application/vnd.databricks.v1+cell": {
     "cellMetadata": {
      "byteLimit": 2048000,
      "rowLimit": 10000
     },
     "inputWidgets": {},
     "nuid": "b7d2eb9c-8cb6-4df4-b1b3-f6ac1868762f",
     "showTitle": false,
     "tableResultSettingsMap": {},
     "title": ""
    }
   },
   "source": [
    "##4. Remove Duplicates"
   ]
  },
  {
   "cell_type": "code",
   "execution_count": 0,
   "metadata": {
    "application/vnd.databricks.v1+cell": {
     "cellMetadata": {
      "byteLimit": 2048000,
      "rowLimit": 10000
     },
     "inputWidgets": {},
     "nuid": "ed7b9441-f47f-4682-b3da-d2387aa13c83",
     "showTitle": false,
     "tableResultSettingsMap": {},
     "title": ""
    }
   },
   "outputs": [
    {
     "output_type": "display_data",
     "data": {
      "text/plain": [
       ""
      ]
     },
     "metadata": {
      "application/vnd.databricks.v1+output": {
       "arguments": {},
       "data": "",
       "errorSummary": "Command skipped",
       "errorTraceType": "ansi",
       "metadata": {},
       "type": "ipynbError"
      }
     },
     "output_type": "display_data"
    }
   ],
   "source": [
    "spark_df = spark_df.dropDuplicates(subset=[\"TransactionID\"])"
   ]
  },
  {
   "cell_type": "markdown",
   "metadata": {
    "application/vnd.databricks.v1+cell": {
     "cellMetadata": {
      "byteLimit": 2048000,
      "rowLimit": 10000
     },
     "inputWidgets": {},
     "nuid": "46fc695a-70c8-4a1b-ad56-36cfadb36924",
     "showTitle": false,
     "tableResultSettingsMap": {},
     "title": ""
    }
   },
   "source": [
    "##5. Transform Columns"
   ]
  },
  {
   "cell_type": "markdown",
   "metadata": {
    "application/vnd.databricks.v1+cell": {
     "cellMetadata": {
      "byteLimit": 2048000,
      "rowLimit": 10000
     },
     "inputWidgets": {},
     "nuid": "420ef937-647d-4fe5-9fbb-189ce552df94",
     "showTitle": false,
     "tableResultSettingsMap": {},
     "title": ""
    }
   },
   "source": [
    "###5.1 Numerical Data"
   ]
  },
  {
   "cell_type": "markdown",
   "metadata": {
    "application/vnd.databricks.v1+cell": {
     "cellMetadata": {
      "byteLimit": 2048000,
      "rowLimit": 10000
     },
     "inputWidgets": {},
     "nuid": "931dcfa7-bdac-45a2-9c2b-5603a3726deb",
     "showTitle": false,
     "tableResultSettingsMap": {},
     "title": ""
    }
   },
   "source": [
    "#### Normalization-"
   ]
  },
  {
   "cell_type": "code",
   "execution_count": 0,
   "metadata": {
    "application/vnd.databricks.v1+cell": {
     "cellMetadata": {
      "byteLimit": 2048000,
      "rowLimit": 10000
     },
     "inputWidgets": {},
     "nuid": "30bc2657-6211-4795-81e6-3a5e2a407380",
     "showTitle": false,
     "tableResultSettingsMap": {},
     "title": ""
    }
   },
   "outputs": [
    {
     "output_type": "display_data",
     "data": {
      "text/plain": [
       ""
      ]
     },
     "metadata": {
      "application/vnd.databricks.v1+output": {
       "arguments": {},
       "data": "",
       "errorSummary": "Command skipped",
       "errorTraceType": "ansi",
       "metadata": {},
       "type": "ipynbError"
      }
     },
     "output_type": "display_data"
    }
   ],
   "source": [
    "from pyspark.sql.functions import col, min, max\n",
    "\n",
    "# Normalize the 'Amount' column\n",
    "\n",
    "min_amount = spark_df.select(min(col(\"Amount\"))).collect()[0][0]\n",
    "max_amount = spark_df.select(max(col(\"Amount\"))).collect()[0][0]\n",
    "\n",
    "# Perform Normalization\n",
    "spark_df = spark_df.withColumn(\"Normalized Amount\", (col(\"Amount\") - min_amount) / (max_amount - min_amount))\n",
    "\n",
    "spark_df.show(5)"
   ]
  },
  {
   "cell_type": "markdown",
   "metadata": {
    "application/vnd.databricks.v1+cell": {
     "cellMetadata": {
      "byteLimit": 2048000,
      "rowLimit": 10000
     },
     "inputWidgets": {},
     "nuid": "5407260a-7ef7-42d0-95c4-22b14056c5d6",
     "showTitle": false,
     "tableResultSettingsMap": {},
     "title": ""
    }
   },
   "source": [
    "#### Standardization-"
   ]
  },
  {
   "cell_type": "code",
   "execution_count": 0,
   "metadata": {
    "application/vnd.databricks.v1+cell": {
     "cellMetadata": {
      "byteLimit": 2048000,
      "rowLimit": 10000
     },
     "inputWidgets": {},
     "nuid": "217ad431-d787-48d0-bcc5-30f6cd0c6ba8",
     "showTitle": false,
     "tableResultSettingsMap": {},
     "title": ""
    }
   },
   "outputs": [
    {
     "output_type": "display_data",
     "data": {
      "text/plain": [
       ""
      ]
     },
     "metadata": {
      "application/vnd.databricks.v1+output": {
       "arguments": {},
       "data": "",
       "errorSummary": "Command skipped",
       "errorTraceType": "ansi",
       "metadata": {},
       "type": "ipynbError"
      }
     },
     "output_type": "display_data"
    }
   ],
   "source": [
    "from pyspark.sql.functions import col, mean, stddev\n",
    "\n",
    "# Standardize the 'Amount' column, by Calculating Mean and Average of Amount\n",
    "\n",
    "mean_amount = spark_df.select(mean(col(\"Amount\"))).collect()[0][0]\n",
    "stddev_amount = spark_df.select(stddev(col(\"Amount\"))).collect()[0][0]\n",
    "\n",
    "# Perform Standardization\n",
    "spark_df = spark_df.withColumn(\"Standardized Amount\",(col(\"Amount\")-mean_amount)/stddev_amount)\n",
    "\n",
    "spark_df.show(5)\n"
   ]
  },
  {
   "cell_type": "markdown",
   "metadata": {
    "application/vnd.databricks.v1+cell": {
     "cellMetadata": {
      "byteLimit": 2048000,
      "rowLimit": 10000
     },
     "inputWidgets": {},
     "nuid": "361889e2-7f28-4a09-af98-ee7e01c8f622",
     "showTitle": false,
     "tableResultSettingsMap": {},
     "title": ""
    }
   },
   "source": [
    "###5.2 Categorical Data"
   ]
  },
  {
   "cell_type": "markdown",
   "metadata": {
    "application/vnd.databricks.v1+cell": {
     "cellMetadata": {
      "byteLimit": 2048000,
      "rowLimit": 10000
     },
     "inputWidgets": {},
     "nuid": "e3ac84ab-27b9-47e4-89a7-5787f3c18f1a",
     "showTitle": false,
     "tableResultSettingsMap": {},
     "title": ""
    }
   },
   "source": [
    "#### Label Encoding"
   ]
  },
  {
   "cell_type": "code",
   "execution_count": 0,
   "metadata": {
    "application/vnd.databricks.v1+cell": {
     "cellMetadata": {
      "byteLimit": 2048000,
      "rowLimit": 10000
     },
     "inputWidgets": {},
     "nuid": "deeba657-40e3-4580-80f8-f9335a07c4cd",
     "showTitle": false,
     "tableResultSettingsMap": {},
     "title": ""
    }
   },
   "outputs": [
    {
     "output_type": "display_data",
     "data": {
      "text/plain": [
       ""
      ]
     },
     "metadata": {
      "application/vnd.databricks.v1+output": {
       "arguments": {},
       "data": "",
       "errorSummary": "Command skipped",
       "errorTraceType": "ansi",
       "metadata": {},
       "type": "ipynbError"
      }
     },
     "output_type": "display_data"
    }
   ],
   "source": [
    "from pyspark.ml.feature import StringIndexer\n",
    "\n",
    "# Initialize StringIndexer\n",
    "indexer = StringIndexer(inputCol=\"ProductCategory\", outputCol=\"ProductCategory_Index\")\n",
    "\n",
    "# Fit and Transform the DataFrame\n",
    "df_indexed = indexer.fit(df).transform(df)\n",
    "df_indexed.show()"
   ]
  },
  {
   "cell_type": "markdown",
   "metadata": {
    "application/vnd.databricks.v1+cell": {
     "cellMetadata": {
      "byteLimit": 2048000,
      "rowLimit": 10000
     },
     "inputWidgets": {},
     "nuid": "00149260-b719-47ab-82d9-0e6372af2c2f",
     "showTitle": false,
     "tableResultSettingsMap": {},
     "title": ""
    }
   },
   "source": [
    "####One Hot Encoding"
   ]
  },
  {
   "cell_type": "code",
   "execution_count": 0,
   "metadata": {
    "application/vnd.databricks.v1+cell": {
     "cellMetadata": {
      "byteLimit": 2048000,
      "rowLimit": 10000
     },
     "inputWidgets": {},
     "nuid": "17074e19-7afa-4e94-8c1e-9c38e113d34e",
     "showTitle": false,
     "tableResultSettingsMap": {},
     "title": ""
    }
   },
   "outputs": [
    {
     "output_type": "display_data",
     "data": {
      "text/plain": [
       ""
      ]
     },
     "metadata": {
      "application/vnd.databricks.v1+output": {
       "arguments": {},
       "data": "",
       "errorSummary": "Command skipped",
       "errorTraceType": "ansi",
       "metadata": {},
       "type": "ipynbError"
      }
     },
     "output_type": "display_data"
    }
   ],
   "source": [
    "from pyspark.ml.feature import OneHotEncoder\n",
    "\n",
    "# Initialize OneHotEncoder\n",
    "encoder = OneHotEncoder(inputCol=\"Eatable\", outputCol=\"Eatable_OneHot\")\n",
    "\n",
    "# Transform the DataFrame\n",
    "df_encoded = encoder.fit(df_indexed).transform(df_indexed)\n",
    "df_encoded.show()"
   ]
  },
  {
   "cell_type": "markdown",
   "metadata": {
    "application/vnd.databricks.v1+cell": {
     "cellMetadata": {
      "byteLimit": 2048000,
      "rowLimit": 10000
     },
     "inputWidgets": {},
     "nuid": "e466bc49-fba9-4a8f-b9ed-f69f03bb1ad4",
     "showTitle": false,
     "tableResultSettingsMap": {},
     "title": ""
    }
   },
   "source": [
    "## 6. Remove Outliers "
   ]
  },
  {
   "cell_type": "code",
   "execution_count": 0,
   "metadata": {
    "application/vnd.databricks.v1+cell": {
     "cellMetadata": {
      "byteLimit": 2048000,
      "rowLimit": 10000
     },
     "inputWidgets": {},
     "nuid": "cd247ab8-517b-4b5c-b79b-2b834a1972c2",
     "showTitle": false,
     "tableResultSettingsMap": {},
     "title": ""
    }
   },
   "outputs": [
    {
     "output_type": "display_data",
     "data": {
      "text/plain": [
       ""
      ]
     },
     "metadata": {
      "application/vnd.databricks.v1+output": {
       "arguments": {},
       "data": "",
       "errorSummary": "Command skipped",
       "errorTraceType": "ansi",
       "metadata": {},
       "type": "ipynbError"
      }
     },
     "output_type": "display_data"
    }
   ],
   "source": [
    "from pyspark.sql.functions import col, expr\n",
    "\n",
    "# Calculate Q1, Q3, and IQR\n",
    "quantiles = spark_df.approxQuantile(\"Amount\", [0.25, 0.75], 0.05)\n",
    "Q1 = quantiles[0]\n",
    "Q3 = quantiles[1]\n",
    "IQR = Q3 - Q1\n",
    "\n",
    "# Define the upper and lower bounds\n",
    "lower_bound = Q1 - 1.5 * IQR\n",
    "upper_bound = Q3 + 1.5 * IQR\n",
    "\n",
    "# Filter out the outliers\n",
    "spark_df = spark_df.filter((col(\"Amount\") >= lower_bound) & (col(\"Amount\") <= upper_bound))"
   ]
  },
  {
   "cell_type": "markdown",
   "metadata": {
    "application/vnd.databricks.v1+cell": {
     "cellMetadata": {
      "byteLimit": 2048000,
      "rowLimit": 10000
     },
     "inputWidgets": {},
     "nuid": "0b0b2cf8-b7a5-422a-b7d5-d9a893df93f2",
     "showTitle": false,
     "tableResultSettingsMap": {},
     "title": ""
    }
   },
   "source": [
    "#Reference\n",
    "- PySpark\n",
    "  - Cheatsheet\n",
    "    - [Datacamp Pyspark](https://media.datacamp.com/legacy/image/upload/v1676302905/Marketing/Blog/PySpark_SQL_Cheat_Sheet.pdf)\n",
    "    - [Spark Playground](https://www.sparkplayground.com/pyspark-syntax-cheatsheet#csv-files)\n",
    "\n",
    "  - Medium\n",
    "    - [Pyspark and SQL Comparison - Kaushal Vishal](https://medium.com/@kaushalvishal228/data-analytics-with-pyspark-b129695f9be2)\n",
    "    - [Data transformation in Pyspark - Jones n tongana](https://medium.com/@jonesntongana345/data-transformation-in-pyspark-a-beginners-guide-42cc284c9d66)\n",
    "    - [Feature Engineering - Roshmita Dey](https://medium.com/@roshmitadey/feature-engineering-in-pyspark-techniques-for-data-transformation-and-model-improvement-30c0cda4969f#:~:text=Data%20Preprocessing%20and%20Cleaning,and%20filtering%20out%20irrelevant%20data.)\n",
    "  - Github\n",
    "    - [Pyspark Tutorial - Coder2j](https://github.com/coder2j/pyspark-tutorial/blob/main/07-DataFrame-Operations.ipynb)\n",
    "    - [Data Wrangling with pyspark - Amandeep Singh Khanna](https://amandeepsinghkhanna.github.io/data-wrangling-with-pyspark/)\n",
    "    - [PySpark Tutorial - CERN](https://github.com/cerndb/SparkTraining/blob/master/notebooks/Tutorial-DataFrame.ipynb)\n",
    "    - [PySpark Full Course - Ansh Lamba](https://github.com/anshlambagit/PySpark-Full-Course/blob/main/DATA%20and%20NOTEBOOK/1_Tutoral.ipynb)\n",
    "\n",
    "  - Web\n",
    "    - [Statology](https://www.statology.org/pyspark-guides/)\n",
    "    - [Sparkcodehub](https://www.sparkcodehub.com/pyspark-tutorial)\n",
    "    - [Databrewer](https://www.databrewer.co/pyspark-tutorial/getting-started)\n",
    "    - [Sparkbyexamples](https://sparkbyexamples.com/pyspark-dataframe-tutorial-with-examples/)\n",
    "\n",
    "  \n",
    "- SparkSQL\n",
    "  - Github \n",
    "    - [Spark SQL Tutorial - CERN](https://github.com/cerndb/SparkTraining/blob/master/notebooks/Tutorial-SparkSQL.ipynb)\n",
    "\n",
    "- Other Resources\n",
    "    - [Machine learning plus](https://www.machinelearningplus.com/category/pyspark/)\n",
    "    - [data science parichay](https://datascienceparichay.com/career-guide/business-analyst/)\n",
    "    - [Projectpro](https://www.projectpro.io/article/pyspark-learning-spark-with-python/554)\n",
    "    - Analytics Vidhya\n",
    "      - [Feature Engineering for ML](https://www.analyticsvidhya.com/blog/2021/03/step-by-step-process-of-feature-engineering-for-machine-learning-algorithms-in-data-science/)\n",
    "    - Kaggle\n",
    "      - [Pandas Notes](https://www.kaggle.com/code/vikasbz/pandas-dataframe-notes)"
   ]
  }
 ],
 "metadata": {
  "application/vnd.databricks.v1+notebook": {
   "computePreferences": null,
   "dashboards": [],
   "environmentMetadata": {
    "base_environment": "",
    "environment_version": "1"
   },
   "inputWidgetPreferences": null,
   "language": "python",
   "notebookMetadata": {
    "mostRecentlyExecutedCommandWithImplicitDF": {
     "commandId": 1870425420131067,
     "dataframes": [
      "_sqldf"
     ]
    },
    "pythonIndentUnit": 4
   },
   "notebookName": "Pyspark Tutorial",
   "widgets": {}
  }
 },
 "nbformat": 4,
 "nbformat_minor": 0
}